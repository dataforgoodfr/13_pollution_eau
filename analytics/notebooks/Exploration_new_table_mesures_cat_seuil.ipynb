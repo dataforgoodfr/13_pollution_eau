{
 "cells": [
  {
   "cell_type": "markdown",
   "id": "ec331e9d-79e0-4eed-8c63-8f20fe3db3f5",
   "metadata": {},
   "source": [
    "# mesures_cat_seuil\n",
    "***\n",
    "\n",
    "Essayons de mettre en pratique la proposition de Thomas dans la PR 89<br>\n",
    "https://github.com/dataforgoodfr/13_pollution_eau/pull/89\n"
   ]
  },
  {
   "cell_type": "markdown",
   "id": "fedaee1b-62f1-4520-9c9a-df409531619e",
   "metadata": {},
   "source": [
    "# Proposition\n",
    "***\n",
    "Je pense qu'il serait intéressant d'avoir le stables intémédiares suivantes<br>\n",
    "1. une table pour les données géo : comme udi_cog<br>\n",
    "2. une table un par test/resultat avec les regexp et les catégories<br>\n",
    "\n",
    "/!\\ Pour le traitement des données par région/commune/departement, il ne faut pas compter les resultats ou faire des pourcentages car un même résultat peut être utilisés plusieurs fois.\n",
    "Il faudra juste avoir des données plus globale sur la qualité de l'eau : conforme, avec/sans pestidices, etc...\n",
    "\n",
    "3. une autre table avec les données par communes<br>\n",
    "4. une autre table avec les données par depatement <br>\n",
    "5. une autre table avec les données par région<br>\n",
    "6. une autre table avec les données par UDI<br>\n"
   ]
  },
  {
   "cell_type": "markdown",
   "id": "136dbd84-45a9-4f30-93c7-b9384a689271",
   "metadata": {},
   "source": [
    "# Questions ouvertes\n",
    "***\n",
    "\n",
    "**Dans edc_communes, un cdreseau peut être lié à plusieurs communes et inversement.<br>\n",
    "Est-ce attendu ?**<br>\n",
    "\n",
    "Si je relis la partie \"DESCRIPTIF DES DONNEES MISES A DISPOSITION\" du pdf :<br>\n",
    "\" Les UDI peuvent englober les réseaux de distribution d’eau dans tout ou partie d’une ou plusieurs communes, suivant la situation locale.<br>\n",
    "[...] Le fichier UDI_COM détaille le lien entre UDI et communes et permet de pouvoir reconstituer un accès aux résultats par commune ; il est relié au fichier PLV par l’intermédiaire du champ ‘cdreseau’, correspondant au code SISE-Eaux de distribution.\"\n",
    "<br> ==> J'ai l'impression que oui\n"
   ]
  },
  {
   "cell_type": "markdown",
   "id": "04bab8bb-37cf-448d-a8e4-98ec5910bd64",
   "metadata": {},
   "source": [
    "**Si on fait les jointures comme recommandé dans la documentation pour avoir les informations de communes/géographie,\n",
    "on duplique les nombres de lignes de résultats. \n",
    "Un même résultats/prélèvement peut être utilisé pour plusieurs communes.**<br>\n",
    "--> Est-ce qu'on est ok avec ça ?\n",
    "\n",
    "_Dans la table edc_resultats on a 64 164 498 lignes_\n",
    "\n",
    "Voici différents tests\n",
    "- sub_query = Check avant jointure par cdreseau en utilisant prelevement_unique : même nombre de lignes que edc_resultats\n",
    "- sub_query2 = Check avant jointure par cdreseau en utilisant edc_prelevement : 33 315 337 lignes en plus\n",
    "- query = sub_query + Jointe par cdreseau sur communes : 581 458 710 lignes en plus\n",
    "- query2 = sub_query + Jointe par cdreseau sur communes : 1 784 283 587 lignes en plus\n",
    "\n",
    "\n",
    "Pour l'analyse des données de prélèvement est-ce qu'on veut garder tous les cdreseaux ou le plus en amont/ le \"first\" suffit ?<br>\n",
    "--> Je pense qu'on veut garder toutes les lignes cdreseau\n",
    "\n",
    "**Je pense que la table intermédiare que l'on souhaite avec les info par communes est la query2 mais il faut peut-être traiter les informations avec prudence car on a dupliquer des résultats (du à la situation locale)**\n"
   ]
  },
  {
   "cell_type": "code",
   "execution_count": 1,
   "id": "ff1766c8-d8e1-4af5-9027-6a1e896c7b57",
   "metadata": {},
   "outputs": [],
   "source": [
    "import duckdb\n",
    "from pipelines.tasks.config.common import DUCKDB_FILE\n",
    "\n",
    "import pandas as pd\n",
    "\n",
    "pd.set_option(\"display.max_columns\", None)  # show all cols\n",
    "pd.set_option(\"display.max_colwidth\", None)  # show full width of showing cols\n",
    "pd.set_option(\n",
    "    \"display.expand_frame_repr\", False\n",
    ")  # print cols side by side as it's supposed to be\n",
    "\n",
    "con = duckdb.connect(database=DUCKDB_FILE, read_only=True)"
   ]
  },
  {
   "cell_type": "code",
   "execution_count": 2,
   "id": "f8da0d20-aa4c-449d-8214-16d41074c2c0",
   "metadata": {},
   "outputs": [
    {
     "name": "stdout",
     "output_type": "stream",
     "text": [
      "┌──────────────────────────────┐\n",
      "│             name             │\n",
      "│           varchar            │\n",
      "├──────────────────────────────┤\n",
      "│ ana__resultats_communes      │\n",
      "│ cog_communes                 │\n",
      "│ edc_communes                 │\n",
      "│ edc_prelevements             │\n",
      "│ edc_resultats                │\n",
      "│ int__mapping_category_simple │\n",
      "│ int__prelevements_uniques    │\n",
      "│ laposte_communes             │\n",
      "│ mapping_categories           │\n",
      "│ stg_communes__cog            │\n",
      "│ stg_communes__laposte        │\n",
      "│ stg_edc__communes            │\n",
      "│ stg_edc__prevelevements      │\n",
      "│ stg_edc__resultats           │\n",
      "├──────────────────────────────┤\n",
      "│           14 rows            │\n",
      "└──────────────────────────────┘\n",
      "\n"
     ]
    }
   ],
   "source": [
    "# Tables dispo dans la bdd\n",
    "con.sql(\"SHOW TABLES\").show()"
   ]
  },
  {
   "cell_type": "markdown",
   "id": "5c3bde26-8b0a-4e49-a365-a40cbd0511f3",
   "metadata": {},
   "source": [
    "# Proposition de nouvelle table intermédiaire\n",
    "***"
   ]
  },
  {
   "cell_type": "code",
   "execution_count": null,
   "id": "ca82f8e6-f790-499c-bc27-656bc9ce36a0",
   "metadata": {},
   "outputs": [
    {
     "name": "stderr",
     "output_type": "stream",
     "text": [
      "<>:1: SyntaxWarning: invalid escape sequence '\\d'\n",
      "<>:1: SyntaxWarning: invalid escape sequence '\\d'\n",
      "C:\\Users\\Vinca\\AppData\\Local\\Temp\\ipykernel_12596\\2272530417.py:1: SyntaxWarning: invalid escape sequence '\\d'\n",
      "  query_mesures_cat = \"\"\"\n"
     ]
    },
    {
     "data": {
      "application/vnd.jupyter.widget-view+json": {
       "model_id": "706323527fa946159514dd55b713c230",
       "version_major": 2,
       "version_minor": 0
      },
      "text/plain": [
       "FloatProgress(value=0.0, layout=Layout(width='auto'), style=ProgressStyle(bar_color='black'))"
      ]
     },
     "metadata": {},
     "output_type": "display_data"
    }
   ],
   "source": [
    "query_mesures_cat = \"\"\"\n",
    "WITH\n",
    "resultats AS (\n",
    "    SELECT\n",
    "      referenceprel,\n",
    "      cdparametresiseeaux,\n",
    "      valtraduite,\n",
    "      limitequal,\n",
    "      CAST(regexp_extract(REPLACE(limitequal, ',', '.'), '-?\\d+(\\.\\d+)?') AS FLOAT) AS limitequal_float,\n",
    "      regexp_extract(limitequal, '[a-zA-Zµg]+/?[a-zA-Z/L]+$') AS unite,\n",
    "    FROM  \n",
    "        edc_resultats \n",
    "    )\n",
    "    \n",
    "    SELECT\n",
    "        resultats.*,\n",
    "        int__mapping_category_simple.categorie\n",
    "    FROM \n",
    "        resultats\n",
    "    LEFT JOIN \n",
    "        int__mapping_category_simple \n",
    "    ON\n",
    "        resultats.cdparametresiseeaux = int__mapping_category_simple .cdparametresiseeaux\n",
    "\"\"\"\n",
    "\n",
    "# df_mesures_cat = con.sql(query_mesures_cat).df() -- Pas assez de mémoire sur mon ordi"
   ]
  },
  {
   "cell_type": "code",
   "execution_count": null,
   "id": "d7e32139-3921-4809-b094-02262522a9c5",
   "metadata": {},
   "outputs": [],
   "source": [
    "query_udi_cog = \"\"\"\n",
    "WITH\n",
    "udi AS (\n",
    "    SELECT\n",
    "      inseecommune AS commune_code_insee,\n",
    "      cdreseau,\n",
    "    FROM\n",
    "      edc_communes\n",
    "),\n",
    "\n",
    "cog AS (\n",
    "    SELECT\n",
    "      DEP AS code_departement,\n",
    "      REG AS code_region,\n",
    "      COM AS commune_code_insee,\n",
    "    FROM \n",
    "      cog_communes\n",
    ")\n",
    "    SELECT\n",
    "      udi.commune_code_insee ,\n",
    "      udi.cdreseau,\n",
    "      cog.code_departement,\n",
    "      cog.code_region\n",
    "    FROM\n",
    "      udi\n",
    "    LEFT JOIN \n",
    "      cog\n",
    "    ON \n",
    "      udi.commune_code_insee = cog.commune_code_insee\n",
    "\"\"\"\n",
    "\n",
    "df_udi_cog = con.sql(query_udi_cog).df()"
   ]
  },
  {
   "cell_type": "markdown",
   "id": "766720a8-fb93-4b2c-bd82-18ee53cc5271",
   "metadata": {},
   "source": [
    "# Exploration\n",
    "***"
   ]
  },
  {
   "cell_type": "code",
   "execution_count": null,
   "id": "8b0acbef-c364-4a85-8d5e-9741b7d7389a",
   "metadata": {},
   "outputs": [],
   "source": [
    "nb_result_ref = con.sql(\" SELECT COUNT(*) FROM edc_resultats\").df()\n",
    "nb_result_ref"
   ]
  },
  {
   "cell_type": "markdown",
   "id": "519d27c7-f5ad-4d84-b56c-7201193a46de",
   "metadata": {},
   "source": [
    "## 1. Check avant jointure par cdreseau en utilisant prelevement_unique"
   ]
  },
  {
   "cell_type": "code",
   "execution_count": null,
   "id": "b0a67b46-2b5b-4a9d-8d76-055d1222e26b",
   "metadata": {},
   "outputs": [],
   "source": [
    "sub_query = \"\"\"\n",
    "WITH\n",
    "prelevement AS (\n",
    "\tSELECT\n",
    "\t  referenceprel,\n",
    "\t  cdfirstreseauamont AS cdreseau,\n",
    "      dateprel,\n",
    "\tFROM   \n",
    "      int__prelevements_uniques    \n",
    "),\n",
    "    \n",
    "mesures_cat AS (\n",
    "    SELECT\n",
    "        df_mesures_cat.*,\n",
    "        prelevement.dateprel,\n",
    "    FROM \n",
    "        df_mesures_cat\n",
    "    LEFT JOIN\n",
    "    \tprelevement\n",
    "    ON\n",
    "       df_mesures_cat.referenceprel = prelevement.referenceprel\n",
    "    )\n",
    "    \n",
    "SELECT \n",
    " COUNT(*)\n",
    "FROM\n",
    " mesures_cat\n",
    "\"\"\"\n",
    "\n",
    "nb_result_sub_query = con.sql(sub_query).df()\n",
    "\n",
    "if nb_result_sub_query.iloc[0].values == nb_result_ref.iloc[0].values:\n",
    "    print(\"ok :)\")\n",
    "else:\n",
    "    print(\"KO\")\n",
    "    print(\"diff: \", nb_result_sub_query.iloc[0].values - nb_result_ref.iloc[0].values)"
   ]
  },
  {
   "cell_type": "markdown",
   "id": "8a88c2ba-c82c-4a1e-98c2-0cea0224f7c5",
   "metadata": {},
   "source": [
    "## 2. Check avant jointure par cdreseau en utilisant edc_prelevement"
   ]
  },
  {
   "cell_type": "code",
   "execution_count": null,
   "id": "53f21267-b2f9-496e-90d6-c754ce7dbe47",
   "metadata": {},
   "outputs": [],
   "source": [
    "sub_query2 = \"\"\"\n",
    "WITH\n",
    "prelevement AS (\n",
    "\tSELECT\n",
    "\t  referenceprel,\n",
    "\t  cdreseau,\n",
    "      dateprel,\n",
    "\tFROM   \n",
    "      edc_prelevements\n",
    "),\n",
    "\n",
    "mesures_cat AS (\n",
    "    SELECT\n",
    "        df_mesures_cat.*,\n",
    "        prelevement.dateprel,\n",
    "        int__mapping_category_simple.categorie\n",
    "    FROM \n",
    "        df_mesures_cat\n",
    "    LEFT JOIN\n",
    "    \tprelevement\n",
    "    ON\n",
    "       df_mesures_cat.referenceprel = prelevement.referenceprel\n",
    "    )\n",
    "    \n",
    "SELECT \n",
    " COUNT(*)\n",
    "FROM\n",
    " mesures_cat\n",
    "\"\"\"\n",
    "\n",
    "nb_result_sub_query2 = con.sql(sub_query2).df()\n",
    "\n",
    "if nb_result_sub_query2.iloc[0].values == nb_result_ref.iloc[0].values:\n",
    "    print(\"ok :)\")\n",
    "else:\n",
    "    print(\"KO\")\n",
    "    print(\"diff: \", nb_result_sub_query2.iloc[0].values - nb_result_ref.iloc[0].values)"
   ]
  },
  {
   "cell_type": "markdown",
   "id": "d3ccb058-a59a-4464-871a-7509cbf40754",
   "metadata": {},
   "source": [
    "## 3. Avec Join sur edc_communes et cog_communes à partir du resultat 1"
   ]
  },
  {
   "cell_type": "code",
   "execution_count": null,
   "id": "baca36b3-d080-4b34-9541-233e5220b928",
   "metadata": {},
   "outputs": [],
   "source": [
    "query = \"\"\"\n",
    "WITH\n",
    "prelevement AS (\n",
    "\tSELECT\n",
    "\t  referenceprel,\n",
    "\t  cdfirstreseauamont AS cdreseau,\n",
    "      dateprel,\n",
    "\tFROM   \n",
    "      int__prelevements_uniques    \n",
    "),\n",
    "\n",
    "mesures_cat AS (\n",
    "    SELECT\n",
    "        df_mesures_cat.*,\n",
    "        prelevement.dateprel,\n",
    "        int__mapping_category_simple.categorie\n",
    "    FROM \n",
    "        df_mesures_cat\n",
    "    LEFT JOIN\n",
    "    \tprelevement\n",
    "    ON\n",
    "       df_mesures_cat.referenceprel = prelevement.referenceprel\n",
    "    LEFT JOIN\n",
    "        df_udi_cog\n",
    "    ON\n",
    "    \tdf_udi_cog.cdreseau = prelevement.cdreseau\n",
    "    )\n",
    "    \n",
    "SELECT \n",
    " COUNT(*)\n",
    "FROM\n",
    " mesures_cat\n",
    "\"\"\"\n",
    "\n",
    "nb_result_1 = con.sql(query).df()\n",
    "\n",
    "if nb_result_1.iloc[0].values == nb_result_ref.iloc[0].values:\n",
    "    print(\"ok :)\")\n",
    "else:\n",
    "    print(\"KO\")\n",
    "    print(\"diff: \", nb_result_1.iloc[0].values - nb_result_ref.iloc[0].values)"
   ]
  },
  {
   "cell_type": "markdown",
   "id": "d3587222-f14a-404a-8bff-6b519bfe8d02",
   "metadata": {},
   "source": [
    "## 4. Avec Join sur edc_communes et cog_communes à partir du resultat 2"
   ]
  },
  {
   "cell_type": "code",
   "execution_count": null,
   "id": "24872d7e-9554-4394-9610-0d4b665539a3",
   "metadata": {},
   "outputs": [],
   "source": [
    "query2 = \"\"\"\n",
    "WITH\n",
    "prelevement AS (\n",
    "\tSELECT\n",
    "\t  referenceprel,\n",
    "\t  cdreseau,\n",
    "      dateprel,\n",
    "\tFROM   \n",
    "      edc_prelevements\n",
    "),\n",
    "\n",
    "mesures_cat AS (\n",
    "    SELECT\n",
    "        df_mesures_cat.*,\n",
    "        prelevement.dateprel,\n",
    "        int__mapping_category_simple.categorie\n",
    "    FROM \n",
    "        df_mesures_cat\n",
    "    LEFT JOIN\n",
    "    \tprelevement\n",
    "    ON\n",
    "       df_mesures_cat.referenceprel = prelevement.referenceprel\n",
    "    LEFT JOIN\n",
    "        df_udi_cog\n",
    "    ON\n",
    "    \tdf_udi_cog.cdreseau = prelevement.cdreseau\n",
    "    )\n",
    "    \n",
    "SELECT \n",
    " COUNT(*)\n",
    "FROM\n",
    " mesures_cat\n",
    "\"\"\"\n",
    "\n",
    "nb_result_2 = con.sql(query2).df()\n",
    "\n",
    "if nb_result_2.iloc[0].values == nb_result_ref.iloc[0].values:\n",
    "    print(\"ok :)\")\n",
    "else:\n",
    "    print(\"KO\")\n",
    "    print(\"diff: \", nb_result_2.iloc[0].values - nb_result_ref.iloc[0].values)"
   ]
  },
  {
   "cell_type": "markdown",
   "id": "9e89ca57-4b68-4e24-923c-62f770578bb2",
   "metadata": {},
   "source": [
    "# ZOOM uid/cog"
   ]
  },
  {
   "cell_type": "code",
   "execution_count": null,
   "id": "b77edc49-9553-4745-bcd5-436b8a96d671",
   "metadata": {},
   "outputs": [],
   "source": [
    "query_udi_cog = \"\"\"  \n",
    "SELECT \n",
    " cdreseau,\n",
    " COUNT(*)\n",
    "FROM\n",
    " df_udi_cog\n",
    "GROUP BY 1\n",
    "ORDER BY 2 DESC\n",
    "\"\"\"\n",
    "\n",
    "udi_cog_df = con.sql(query_udi_cog).df()\n",
    "udi_cog_df"
   ]
  },
  {
   "cell_type": "code",
   "execution_count": null,
   "id": "6ca7d1ae-fa5b-40b8-b5bd-e5ff9cec76d3",
   "metadata": {},
   "outputs": [],
   "source": [
    "query_udi_cog = \"\"\"    \n",
    "SELECT \n",
    " cdreseau,\n",
    " COUNT(*)\n",
    "FROM\n",
    " df_udi_cog\n",
    "GROUP BY 1\n",
    "ORDER BY 2 DESC\n",
    "\"\"\"\n",
    "\n",
    "udi_cog_df = con.sql(query_udi_cog).df()\n",
    "udi_cog_df"
   ]
  },
  {
   "cell_type": "code",
   "execution_count": null,
   "id": "37dd71d2-6f84-40f4-87aa-6f05e5a75733",
   "metadata": {},
   "outputs": [],
   "source": [
    "query_test = \"\"\"\n",
    "SELECT\n",
    "      inseecommune AS commune_code_insee,\n",
    "      cdreseau,\n",
    "    FROM\n",
    "      edc_communes\n",
    "   WHERE \n",
    "      cdreseau = '048000295'\n",
    "\"\"\"\n",
    "con.sql(query_test).df()"
   ]
  },
  {
   "cell_type": "code",
   "execution_count": null,
   "id": "75f2f695-8231-47b2-85ba-4fde5a2a3c8e",
   "metadata": {},
   "outputs": [],
   "source": [
    "query_udi_cog = \"\"\"   \n",
    "SELECT \n",
    " commune_code_insee,\n",
    " COUNT(cdreseau)\n",
    "FROM\n",
    " df_udi_cog\n",
    "GROUP BY 1\n",
    "ORDER BY 2 DESC\n",
    "\"\"\"\n",
    "\n",
    "udi_cog_df = con.sql(query_udi_cog).df()\n",
    "udi_cog_df"
   ]
  },
  {
   "cell_type": "code",
   "execution_count": null,
   "id": "01111e52-66b7-4cc4-97f3-9789c1e20dd8",
   "metadata": {},
   "outputs": [],
   "source": [
    "query_test = \"\"\"\n",
    "SELECT\n",
    "      inseecommune AS commune_code_insee,\n",
    "      cdreseau,\n",
    "    FROM\n",
    "      edc_communes\n",
    "   WHERE \n",
    "      commune_code_insee = '48009'\n",
    "\"\"\"\n",
    "con.sql(query_test).df()"
   ]
  },
  {
   "cell_type": "code",
   "execution_count": null,
   "id": "3bd697f5-8a8d-4954-ba11-3f45711559fd",
   "metadata": {},
   "outputs": [],
   "source": []
  }
 ],
 "metadata": {
  "kernelspec": {
   "display_name": "Python 3 (ipykernel)",
   "language": "python",
   "name": "python3"
  },
  "language_info": {
   "codemirror_mode": {
    "name": "ipython",
    "version": 3
   },
   "file_extension": ".py",
   "mimetype": "text/x-python",
   "name": "python",
   "nbconvert_exporter": "python",
   "pygments_lexer": "ipython3",
   "version": "3.12.9"
  }
 },
 "nbformat": 4,
 "nbformat_minor": 5
}
