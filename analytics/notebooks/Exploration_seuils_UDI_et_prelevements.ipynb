{
 "cells": [
  {
   "cell_type": "markdown",
   "metadata": {},
   "source": [
    "# Chargement des datas\n"
   ]
  },
  {
   "cell_type": "code",
   "execution_count": 1,
   "metadata": {},
   "outputs": [],
   "source": [
    "import duckdb\n",
    "import pandas as pd\n",
    "import numpy as np\n",
    "import matplotlib.pyplot as plt\n",
    "import datetime\n",
    "import math\n",
    "\n",
    "start_time = datetime.datetime.now()"
   ]
  },
  {
   "cell_type": "code",
   "execution_count": 2,
   "metadata": {},
   "outputs": [],
   "source": [
    "# connection à la db\n",
    "con = duckdb.connect(database=\"./../../database/data.duckdb\", read_only=True)"
   ]
  },
  {
   "cell_type": "code",
   "execution_count": 3,
   "metadata": {},
   "outputs": [
    {
     "data": {
      "text/html": [
       "<div>\n",
       "<style scoped>\n",
       "    .dataframe tbody tr th:only-of-type {\n",
       "        vertical-align: middle;\n",
       "    }\n",
       "\n",
       "    .dataframe tbody tr th {\n",
       "        vertical-align: top;\n",
       "    }\n",
       "\n",
       "    .dataframe thead th {\n",
       "        text-align: right;\n",
       "    }\n",
       "</style>\n",
       "<table border=\"1\" class=\"dataframe\">\n",
       "  <thead>\n",
       "    <tr style=\"text-align: right;\">\n",
       "      <th></th>\n",
       "      <th>name</th>\n",
       "    </tr>\n",
       "  </thead>\n",
       "  <tbody>\n",
       "    <tr>\n",
       "      <th>0</th>\n",
       "      <td>edc_communes</td>\n",
       "    </tr>\n",
       "    <tr>\n",
       "      <th>1</th>\n",
       "      <td>edc_prelevements</td>\n",
       "    </tr>\n",
       "    <tr>\n",
       "      <th>2</th>\n",
       "      <td>edc_resultats</td>\n",
       "    </tr>\n",
       "    <tr>\n",
       "      <th>3</th>\n",
       "      <td>sise_communes</td>\n",
       "    </tr>\n",
       "    <tr>\n",
       "      <th>4</th>\n",
       "      <td>sise_prelevements</td>\n",
       "    </tr>\n",
       "    <tr>\n",
       "      <th>5</th>\n",
       "      <td>sise_resultats</td>\n",
       "    </tr>\n",
       "  </tbody>\n",
       "</table>\n",
       "</div>"
      ],
      "text/plain": [
       "                name\n",
       "0       edc_communes\n",
       "1   edc_prelevements\n",
       "2      edc_resultats\n",
       "3      sise_communes\n",
       "4  sise_prelevements\n",
       "5     sise_resultats"
      ]
     },
     "execution_count": 3,
     "metadata": {},
     "output_type": "execute_result"
    }
   ],
   "source": [
    "# récupération de la liste des tables de la db\n",
    "con.execute(\"SHOW TABLES\").df()"
   ]
  },
  {
   "cell_type": "code",
   "execution_count": 4,
   "metadata": {},
   "outputs": [
    {
     "data": {
      "application/vnd.jupyter.widget-view+json": {
       "model_id": "a9a3974da3204d54ac4c0e89fb532e78",
       "version_major": 2,
       "version_minor": 0
      },
      "text/plain": [
       "FloatProgress(value=0.0, layout=Layout(width='auto'), style=ProgressStyle(bar_color='black'))"
      ]
     },
     "metadata": {},
     "output_type": "display_data"
    }
   ],
   "source": [
    "# chargement des tables dans des df pour les datas de 2024 (patience requise)\n",
    "prelevements = con.execute(\"SELECT * FROM edc_prelevements WHERE de_partition = 2024\").df()\n",
    "resultats = con.execute(\"SELECT * FROM edc_resultats WHERE de_partition = 2024\").df()\n",
    "communes = con.execute(\"SELECT * FROM edc_communes WHERE de_partition = 2024\").df()"
   ]
  },
  {
   "cell_type": "code",
   "execution_count": 5,
   "metadata": {},
   "outputs": [],
   "source": [
    "con.close()"
   ]
  },
  {
   "cell_type": "markdown",
   "metadata": {},
   "source": [
    "# Analyse des résultats"
   ]
  },
  {
   "cell_type": "markdown",
   "metadata": {},
   "source": [
    "On cherche à déterminer pour chaque résultat si ce dernier fait l'objet d'un ou plusieurs seuils à respecter, et, si c'est le cas, à déterminer si le résultat est en dehors de ce(s) seuil(s).\n",
    "\n",
    "Dans la documentation officielle du dataset, on peut voir qu'il y a 2 champs faisant référence à ces seuils :  \n",
    "refqual : Référence(s ) de qualité du paramètre concerné en vigueur au moment du prélèvement pour le type d’eau considéré.  \n",
    "limitequal : Limite(s) de qualité du paramètre concerné en vigueur au moment du prélèvement pour le type d’eau considéré.\n",
    "\n",
    "On commence par établir le format et la liste des différents seuils existants."
   ]
  },
  {
   "cell_type": "markdown",
   "metadata": {},
   "source": [
    "#### Analyse des seuils"
   ]
  },
  {
   "cell_type": "code",
   "execution_count": 6,
   "metadata": {
    "scrolled": true
   },
   "outputs": [
    {
     "name": "stdout",
     "output_type": "stream",
     "text": [
      "Nombre de seuils 'refqual' uniques non nul: 27\n",
      "\n",
      "Liste des seuils 'refqual' :\n",
      "<=200 µg/L\n",
      ">=6,5 et <=9 unité pH\n",
      "<=25 °C\n",
      "<=0 n/(100mL)\n",
      ">=200 et <=1100 µS/cm\n",
      "<=15 mg(Pt)/L\n",
      "<=0,1 mg/L\n",
      "<=2 NFU\n",
      "<=1 mg/L\n",
      "<=50 µg/L\n",
      "<=0,2 mg/L\n",
      "<=250 mg/L\n",
      "<=2 mg(C)/L\n",
      "<=100 Bq/L\n",
      "<=100.0 Bq/L\n",
      "<=0,7 mg/L\n",
      ">=1 et <=2 SANS OBJET\n",
      "<=0,1 mSv/a\n",
      "<=200 mg/L\n",
      "<=0,5 NFU\n",
      "<=5 mg(O2)/L\n",
      "<=0 NPP/100mL\n",
      "<=3 n\n",
      "<=0.2 mg/L\n",
      "<=0,5 mg/L\n",
      ">=180 et <=1000 µS/cm\n",
      "<=700 µg/L\n",
      "\n",
      "Nombre de seuils 'limitequal' uniques non nul: 35\n",
      "\n",
      "Liste des seuils 'limitequal' :\n",
      "<=0 n/(100mL)\n",
      "<=0.1 µg/L\n",
      "<=0.01 µg/L\n",
      "<=5 µg/L\n",
      "<=0.5 µg/L\n",
      "<=50 µg/L\n",
      "<=2 mg/L\n",
      "<=0,1 µg/L\n",
      "<=20 µg/L\n",
      "<=0,5 mg/L\n",
      "<=10 µg/L\n",
      "<=50 mg/L\n",
      "<=1 mg/L\n",
      "<=100 µg/L\n",
      "<=0,25 mg/L\n",
      "<=0,7 mg/L\n",
      "<=0,1 mg/L\n",
      "<=0,03 µg/L\n",
      "<=0,5 µg/L\n",
      "<=3 µg/L\n",
      "<=1 µg/L\n",
      "<=1,5 mg/L\n",
      "<=50 µg(CN)/L\n",
      "<=6 µg/L\n",
      "<=5 NG/(KG POIDS CORPOREL/J)\n",
      "<=1 NFU\n",
      "<=0 NPP/100mL\n",
      "<=30 µg/L\n",
      "<=250 µg/L\n",
      "<=700 µg/L\n",
      "<=2,5 µg/L\n",
      "<=2,4 mg/L\n",
      "<=0,1 ng/L\n",
      "<=50.0 µg/L\n",
      "<=60 µg/L\n"
     ]
    }
   ],
   "source": [
    "liste_seuils_refqual = resultats['refqual'].dropna().unique()\n",
    "print(f\"Nombre de seuils 'refqual' uniques non nul: {len(liste_seuils_refqual)}\\n\")\n",
    "print(\"Liste des seuils 'refqual' :\\n\"+\"\\n\".join(i for i in liste_seuils_refqual))\n",
    "print('')\n",
    "\n",
    "liste_seuils_limitequal = resultats['limitequal'].dropna().unique()\n",
    "print(f\"Nombre de seuils 'limitequal' uniques non nul: {len(liste_seuils_limitequal)}\\n\")\n",
    "print(\"Liste des seuils 'limitequal' :\\n\"+\"\\n\".join(i for i in liste_seuils_limitequal))"
   ]
  },
  {
   "cell_type": "markdown",
   "metadata": {},
   "source": [
    "On constate que tous les seuils sont exprimés en <= ou >=, et on remarque également qu'il faudra convertir les ',' en '.' pour que python puissent interpréter les valeurs de seuils en nombre.\n",
    "\n",
    "Tous les seuils sont en format texte et contiennent l'unité, à l'exception du seuil \">=1 et <=2 SANS OBJET\" qui attire l'attention.  \n",
    "On regarde quels paramètres sont concernés par ce seuil atypique."
   ]
  },
  {
   "cell_type": "code",
   "execution_count": 7,
   "metadata": {},
   "outputs": [
    {
     "name": "stdout",
     "output_type": "stream",
     "text": [
      "Paramètres utilisant le seuil ''>=1 et <=2 SANS OBJET'' : ['Equilibre calcocarbonique 0/1/2/3/4']\n"
     ]
    }
   ],
   "source": [
    "params = resultats[resultats['refqual'] == '>=1 et <=2 SANS OBJET']['libminparametre'].unique()\n",
    "print(f\"Paramètres utilisant le seuil ''>=1 et <=2 SANS OBJET'' : {params}\")"
   ]
  },
  {
   "cell_type": "markdown",
   "metadata": {},
   "source": [
    "Etrange. On va approfondir le fonctionnement de ce seuil en analysant les différents types de résultats possibles pour ce paramètre. Pour cela on va observer les champs \"rqana\" et \"valtraduite\" qui sont respectivement le résultat et le résultat traduit en valeur numérique."
   ]
  },
  {
   "cell_type": "code",
   "execution_count": 8,
   "metadata": {},
   "outputs": [
    {
     "data": {
      "text/html": [
       "<div>\n",
       "<style scoped>\n",
       "    .dataframe tbody tr th:only-of-type {\n",
       "        vertical-align: middle;\n",
       "    }\n",
       "\n",
       "    .dataframe tbody tr th {\n",
       "        vertical-align: top;\n",
       "    }\n",
       "\n",
       "    .dataframe thead th {\n",
       "        text-align: right;\n",
       "    }\n",
       "</style>\n",
       "<table border=\"1\" class=\"dataframe\">\n",
       "  <thead>\n",
       "    <tr style=\"text-align: right;\">\n",
       "      <th></th>\n",
       "      <th>libminparametre</th>\n",
       "      <th>rqana</th>\n",
       "      <th>valtraduite</th>\n",
       "    </tr>\n",
       "  </thead>\n",
       "  <tbody>\n",
       "    <tr>\n",
       "      <th>19490</th>\n",
       "      <td>Equilibre calcocarbonique 0/1/2/3/4</td>\n",
       "      <td>Eau incrustante</td>\n",
       "      <td>0.0</td>\n",
       "    </tr>\n",
       "    <tr>\n",
       "      <th>9464</th>\n",
       "      <td>Equilibre calcocarbonique 0/1/2/3/4</td>\n",
       "      <td>Légèrement incrustante</td>\n",
       "      <td>1.0</td>\n",
       "    </tr>\n",
       "    <tr>\n",
       "      <th>6683</th>\n",
       "      <td>Equilibre calcocarbonique 0/1/2/3/4</td>\n",
       "      <td>A l'équilibre</td>\n",
       "      <td>2.0</td>\n",
       "    </tr>\n",
       "    <tr>\n",
       "      <th>7728</th>\n",
       "      <td>Equilibre calcocarbonique 0/1/2/3/4</td>\n",
       "      <td>Légèrement agressive 0,2&gt;D&gt;0,3</td>\n",
       "      <td>3.0</td>\n",
       "    </tr>\n",
       "    <tr>\n",
       "      <th>41766</th>\n",
       "      <td>Equilibre calcocarbonique 0/1/2/3/4</td>\n",
       "      <td>Eau agressive</td>\n",
       "      <td>4.0</td>\n",
       "    </tr>\n",
       "  </tbody>\n",
       "</table>\n",
       "</div>"
      ],
      "text/plain": [
       "                           libminparametre                           rqana  \\\n",
       "19490  Equilibre calcocarbonique 0/1/2/3/4                 Eau incrustante   \n",
       "9464   Equilibre calcocarbonique 0/1/2/3/4          Légèrement incrustante   \n",
       "6683   Equilibre calcocarbonique 0/1/2/3/4                   A l'équilibre   \n",
       "7728   Equilibre calcocarbonique 0/1/2/3/4  Légèrement agressive 0,2>D>0,3   \n",
       "41766  Equilibre calcocarbonique 0/1/2/3/4                   Eau agressive   \n",
       "\n",
       "       valtraduite  \n",
       "19490          0.0  \n",
       "9464           1.0  \n",
       "6683           2.0  \n",
       "7728           3.0  \n",
       "41766          4.0  "
      ]
     },
     "execution_count": 8,
     "metadata": {},
     "output_type": "execute_result"
    }
   ],
   "source": [
    "resultat_equilibre_calcocarbonique = resultats[resultats['libminparametre'] == 'Equilibre calcocarbonique 0/1/2/3/4']\n",
    "resultat_equilibre_calcocarbonique[['libminparametre','rqana','valtraduite']].drop_duplicates().sort_values('valtraduite')"
   ]
  },
  {
   "cell_type": "markdown",
   "metadata": {},
   "source": [
    "Le résultat donnée est une valeur qualitative allant de 0 à 4 et passant par une valeur d'équilibre à 2. Le \"SANS OBJET\" semble faire référence à l'absence d'unité. Comme on est dans un cas de valeur qualitative, on va mettre de coté ce seuil et il ne sera plus considéré dans le reste de l'analyse sur les valeurs quantitatives."
   ]
  },
  {
   "cell_type": "markdown",
   "metadata": {},
   "source": [
    "On revient à l'analyse générale des seuils. Comme indiqué précédemment, l'unité est présente dans la définition du seuil. Comme on a un champ correspondant à l'unité de la mesure dans les datas (cdunitereferencesiseeaux), on va vérifier que toutes les mesures sont bien dans l'unité du seuil, lorsque celui ci existe."
   ]
  },
  {
   "cell_type": "code",
   "execution_count": 9,
   "metadata": {},
   "outputs": [
    {
     "name": "stdout",
     "output_type": "stream",
     "text": [
      "Nombre de résultats avec unité de la mesure différent de l'unité du seuil refqual: 0\n",
      "Nombre de résultats avec unité de la mesure différent de l'unité du seuil limitequal: 0\n"
     ]
    }
   ],
   "source": [
    "# on créé un subset qui contient tous les résultats refqual ayant un seuil valide\n",
    "résultats_avec_seuil_refqual_valide = resultats[(resultats['refqual'] != '>=1 et <=2 SANS OBJET') & (resultats['refqual'].isna() == False)].copy()\n",
    "# on établit la liste des résultats dont la valeur du champ d'unité (cdunitereferencesiseeaux) n'est pas strictement inclus dans la valeur du seuil\n",
    "val = résultats_avec_seuil_refqual_valide[~résultats_avec_seuil_refqual_valide.apply(lambda x: x.cdunitereferencesiseeaux in x.refqual, axis=1)].shape[0]\n",
    "print(f\"Nombre de résultats avec unité de la mesure différent de l'unité du seuil refqual: {val}\")\n",
    "\n",
    "# on créé un subset qui contient tous les résultats limitequal ayant un seuil valide\n",
    "résultats_avec_seuil_limitequal_valide = resultats[resultats['limitequal'].isna() == False].copy()\n",
    "# on établit la liste des résultats dont la valeur du champ d'unité (cdunitereferencesiseeaux) n'est pas strictement inclus dans la valeur du seuil\n",
    "val = résultats_avec_seuil_limitequal_valide[~résultats_avec_seuil_limitequal_valide.apply(lambda x: x.cdunitereferencesiseeaux in x.limitequal, axis=1)].shape[0]\n",
    "print(f\"Nombre de résultats avec unité de la mesure différent de l'unité du seuil limitequal: {val}\")"
   ]
  },
  {
   "cell_type": "markdown",
   "metadata": {},
   "source": [
    "Bonne nouvelle : tous les résultats sont de l'unité correspondant au seuil, il n'y aura donc pas besoin de faire de conversions sur les résultats. \n",
    "\n",
    "On va séparer le dataset en 2 subsets pour le reste de l'analyse : \n",
    "- un subset contenant les entrées ayant au moins une valeur refqual valide ou une valeur limitequal sur lequel portera l'analyse des seuils\n",
    "- un subset contenant les autres entrées sur lequel portera une analyse différente"
   ]
  },
  {
   "cell_type": "code",
   "execution_count": 10,
   "metadata": {},
   "outputs": [
    {
     "name": "stdout",
     "output_type": "stream",
     "text": [
      "True\n"
     ]
    }
   ],
   "source": [
    "resultats_avec_seuil_valide = resultats[(resultats['limitequal'].isna() == False) | ((resultats['refqual'] != '>=1 et <=2 SANS OBJET') & (resultats['refqual'].isna() == False))].copy()\n",
    "resultats_sans_seuil_valide = resultats[(resultats['limitequal'].isna()) & ((resultats['refqual'] == '>=1 et <=2 SANS OBJET') | (resultats['refqual'].isna()))].copy()\n",
    "\n",
    "# On vérifie qu'on n'a oublié aucune entrée\n",
    "print(resultats.shape[0] == resultats_avec_seuil_valide.shape[0] + resultats_sans_seuil_valide.shape[0])"
   ]
  },
  {
   "cell_type": "markdown",
   "metadata": {},
   "source": [
    "#### Analyse des résultats"
   ]
  },
  {
   "cell_type": "markdown",
   "metadata": {},
   "source": [
    "Les résultats étant au format string, on observe les premières entrées."
   ]
  },
  {
   "cell_type": "code",
   "execution_count": 11,
   "metadata": {},
   "outputs": [
    {
     "data": {
      "text/plain": [
       "0     <10\n",
       "7      10\n",
       "11    7,6\n",
       "12    8,0\n",
       "14     <1\n",
       "Name: rqana, dtype: object"
      ]
     },
     "execution_count": 11,
     "metadata": {},
     "output_type": "execute_result"
    }
   ],
   "source": [
    "resultats_avec_seuil_valide['rqana'].head()"
   ]
  },
  {
   "cell_type": "markdown",
   "metadata": {},
   "source": [
    "Vérifions également si on a des valeurs nulles."
   ]
  },
  {
   "cell_type": "code",
   "execution_count": 12,
   "metadata": {},
   "outputs": [
    {
     "name": "stdout",
     "output_type": "stream",
     "text": [
      "Nombre de valeurs nulles : 399\n"
     ]
    }
   ],
   "source": [
    "print(f\"Nombre de valeurs nulles : {resultats_avec_seuil_valide['rqana'].isna().sum()}\")"
   ]
  },
  {
   "cell_type": "markdown",
   "metadata": {},
   "source": [
    "On remarque qu'on a déjà 2 soucis : les \",\" qu'il va falloir remplacer en \".\" pour que python puisse convertir les valeurs en float, et la présence de résultat sous la forme \"<X\". On va partir du principe qu'il existe également des résultat sous la forme \">X\". Vérifions maintenant si on a d'autres formes de résultats."
   ]
  },
  {
   "cell_type": "code",
   "execution_count": 13,
   "metadata": {},
   "outputs": [
    {
     "name": "stdout",
     "output_type": "stream",
     "text": [
      "Liste des valeurs de résultats non convertibles en float :\n",
      "N.M.\n",
      "ILLISIBL\n",
      "INCOMPT.\n",
      "N.D.\n",
      "PRESENCE\n",
      "?\n",
      "TRACES\n",
      "\n",
      "Nombre d'occurences : 36303\n"
     ]
    }
   ],
   "source": [
    "print('Liste des valeurs de résultats non convertibles en float :')\n",
    "t = resultats_avec_seuil_valide.loc[resultats_avec_seuil_valide['rqana'].isna() == False,'rqana'].unique()\n",
    "l = []\n",
    "for i in t:\n",
    "    try:\n",
    "        float(i.replace(',','.'))\n",
    "    except:\n",
    "        if (i[0] != '<') & (i[0] != '>'):\n",
    "            try:\n",
    "                float(i[1:].replace(',','.'))\n",
    "            except:\n",
    "                print(i)\n",
    "                l.append(i)\n",
    "print('\\nNombre d\\'occurences :',resultats_avec_seuil_valide['rqana'].apply(lambda x: x in l).sum())"
   ]
  },
  {
   "cell_type": "markdown",
   "metadata": {},
   "source": [
    "Sur la doc officielle du dataset, on peut trouver un tableau de conversion pour ces valeurs, selon des règles qui peuvent être parfois douteuse. Etant donné le faible nombre d'occurences, on va décider de considérer comme invalide ces valeurs pour le reste de l'étude.\n",
    "\n",
    "Pour récapituler, on a différent types de résultat : numérique, de la forme <X, de la forme >X, et invalide ou nul.\n",
    "\n",
    "On peut maintenant chercher à déterminer pour chaque résultat, lorsqu'il est valide, s'il est hors seuil(s) ou non."
   ]
  },
  {
   "cell_type": "markdown",
   "metadata": {},
   "source": [
    "#### Analyse des résultats hors seuils"
   ]
  },
  {
   "cell_type": "markdown",
   "metadata": {},
   "source": [
    "A noter que seul les paramètres de type \"quantitatif\" possèdent des seuils (à l'exception de l'Equilibre calcocarbonique comme vu précédemment). On s'occupera des paramètres de type \"qualitatif\" dans une autre analyse.\n",
    "\n",
    "On distingue 3 cas : \n",
    "1°) le résultats est un nombre  \n",
    "2°) le résultat est < ou > à un nombre  \n",
    "3°) le résultat ou le seuil est invalide\n",
    "\n",
    "Pour le cas 1°), on a juste à appliquer la logique du ou des seuils correspondant.  \n",
    "Pour le cas 3°), on ne peut simplement pas conclure puisque le résultat ou le seuil n'est pas exploitable.  \n",
    "Pour le cas 2°), on peut soit conclure, soit être dans l'impossibilité de conclure\n",
    "\n",
    "Exemples possibles pour 2°) : \n",
    "- résultat '<10' avec seuil '>=5' => incertain donc impossible à conclure\n",
    "- résultat '<10' avec seuil '<=5' => incertain donc impossible à conclure\n",
    "- résultat '<10' avec seuil '<=15' => dans le seuil\n",
    "- résultat '<10' avec seuil '>=15' => hors seuil\n",
    "- résultat '>10' avec seuil '>=5' => dans le seuil\n",
    "- résultat '>10' avec seuil '<=5' => hors seuil\n",
    "- résultat '>10' avec seuil '<=15' => incertain donc impossible à conclure\n",
    "- résultat '>10' avec seuil '>=15' => incertain donc impossible à conclure\n",
    "\n",
    "Je peux donc appliquer la logique suivante :  \n",
    "Soit R le résultat, Vr la valeur du résultat, S le seuil et Vs la valeur du seuil.  \n",
    "Si Vs R = True alors le résultat est impossible à conclure.  \n",
    "Sinon, si Vr S  = True alors le résultat est dans le seuil, sinon il est hors seuil.  \n",
    "\n",
    "Exemple avec résultat '<10' et seuil '>=5' :  \n",
    "Vs R = '5 <10' = True => impossible à conclure\n",
    "\n",
    "Exemple avec résultat '>10' et seuil '>=5' :  \n",
    "Vs R = '5 >10' = False  \n",
    "Vr S = '10 >5' = True => dans le seuil\n",
    "\n",
    "Exemple avec résultat '<10' et seuil '>=15' :  \n",
    "Vs R = '15 <10' = False  \n",
    "Vr S = '10 >15' = False => hors seuil\n",
    "\n",
    "Note : dans le cas de plusieurs seuils, Vs R = True doit être vérifié pour au moins 1 seuil.  \n",
    "Afin d'éviter le cas particulier ou la valeur du seuil est égal à la valeur du résultat, on considèrera un résultat sous la forme <X égal à 0.9999X et un résultat sous la forme >X égal à 1.0001X lors du test 'Vr S'\n",
    "\n",
    "Pour chaque ligne du dataset, on va donc déterminer si le résultat est :\n",
    "- dans le(s) seuil(s)\n",
    "- hors de(s) seuil(s)\n",
    "- impossible à conclure"
   ]
  },
  {
   "cell_type": "code",
   "execution_count": 14,
   "metadata": {
    "scrolled": true
   },
   "outputs": [],
   "source": [
    "def is_result_within_threshold(result, threshold):\n",
    "    def get_logic(string,symbol): # récupération de l'opération logique en fonction du symbole recherché\n",
    "        try:\n",
    "            index = string.find(symbol)\n",
    "            if index != -1:\n",
    "                s = string[index:]\n",
    "                logic = s[:s.find(' ')].replace(',','.')\n",
    "\n",
    "                for c in logic:\n",
    "                    if c.isnumeric():\n",
    "                        try:\n",
    "                            Vs = float(logic[logic.find(c):])\n",
    "                        except:\n",
    "                            Vs = None\n",
    "                            logic = None\n",
    "                        break\n",
    "            else:\n",
    "                logic = None\n",
    "                Vs = None\n",
    "            return logic, Vs\n",
    "        except:\n",
    "            return None, None\n",
    "\n",
    "    # traitement du résultat\n",
    "    try:\n",
    "        result = result.replace(',','.')\n",
    "    except: # cas où résultat nul\n",
    "        return None\n",
    "    \n",
    "    try:\n",
    "        Vr = float(result)\n",
    "        cas = 1\n",
    "    except:\n",
    "        if (result[0] == '<'):\n",
    "            try:\n",
    "                Vr = float(result[1:]) * 0.9999\n",
    "                cas = 2\n",
    "            except:\n",
    "                Vr = None\n",
    "        elif (result[0] == '>'):\n",
    "            try:\n",
    "                Vr = float(result[1:]) * 1.0001\n",
    "                cas = 2\n",
    "            except:\n",
    "                Vr = None\n",
    "        else:\n",
    "            Vr = None\n",
    "    # traitement du seuil\n",
    "    # on chercher d'abord la logique du seuil avec symbole <=\n",
    "    logic_inf, logic_inf_Vs = get_logic(threshold,'<=')\n",
    "    # puis on cherche ensuite la logique du seuil avec sympbole >=\n",
    "    logic_sup, logic_sup_Vs = get_logic(threshold,'>=')\n",
    "   \n",
    "    if (Vr != None):\n",
    "        match cas:\n",
    "            # 1er cas : si le résultat est un nombre fixe, on lui applique directement la logique du(des) seuil(s)\n",
    "            case 1: \n",
    "                # on applique les logiques en fonctions de si elles existent \n",
    "                if (logic_inf != None) & (logic_sup != None):\n",
    "                    logic = '(Vr'+logic_inf+') & (Vr'+logic_sup+')'\n",
    "                elif (logic_inf != None):\n",
    "                    logic = 'Vr'+logic_inf\n",
    "                elif (logic_sup != None):\n",
    "                    logic = 'Vr'+logic_sup\n",
    "                else:\n",
    "                    logic = 'None'\n",
    "                return(eval(logic)) # retourne True si dans le seuil, False si hors du seuil, et None si impossible à conclure\n",
    "            case 2: # 2eme cas, on test 'Vs R'\n",
    "                if (logic_inf != None) & (logic_sup != None):\n",
    "                    logic = '(logic_inf_Vs'+result+') | (logic_sup_Vs'+result+')'\n",
    "                elif (logic_inf != None):\n",
    "                    logic = 'logic_inf_Vs'+result\n",
    "                elif (logic_sup != None):\n",
    "                    logic = 'logic_sup_Vs'+result\n",
    "                else:\n",
    "                    logic = 'None'\n",
    "                if eval(logic): # si 'Vs R' = True => cas impossible à conclure\n",
    "                    return None\n",
    "                else: # sinon on test 'Vr S'\n",
    "                    if (logic_inf != None) & (logic_sup != None):\n",
    "                        logic_2 = '(Vr'+logic_inf+') & (Vr'+logic_sup+')'\n",
    "                    elif (logic_inf != None):\n",
    "                        logic_2 = 'Vr'+logic_inf\n",
    "                    elif (logic_sup != None):\n",
    "                        logic_2 = 'Vr'+logic_sup\n",
    "                    else:\n",
    "                        logic_2 = 'None'\n",
    "                return(eval(logic_2)) # retourne True si dans le seuil, False si hors du seuil, et None si impossible à conclure\n",
    "            case _:\n",
    "                return None\n",
    "    else:\n",
    "        return None\n",
    "\n",
    "# obsolète : on ne s'intéresse plus à la colonne refqual en ce qui concerne les seuils\n",
    "#resultats_avec_seuil_valide['is_within_threshold_refqual'] = resultats_avec_seuil_valide.apply(lambda x: is_result_within_threshold(x.rqana,x.refqual),axis=1)\n",
    "resultats_avec_seuil_valide['is_within_threshold_limitequal'] = resultats_avec_seuil_valide.apply(lambda x: is_result_within_threshold(x.rqana,x.limitequal),axis=1)"
   ]
  },
  {
   "cell_type": "code",
   "execution_count": 15,
   "metadata": {},
   "outputs": [
    {
     "name": "stdout",
     "output_type": "stream",
     "text": [
      "Nombre de prélèvements hors du seuil limitequal : 28229\n"
     ]
    }
   ],
   "source": [
    "#print(f'Nombre de prélèvements hors du seuil refqual : {(resultats_avec_seuil_valide['is_within_threshold_refqual']==False).sum()}')\n",
    "print(f'Nombre de prélèvements hors du seuil limitequal : {(resultats_avec_seuil_valide['is_within_threshold_limitequal']==False).sum()}')\n"
   ]
  },
  {
   "cell_type": "markdown",
   "metadata": {},
   "source": [
    "#### Analyse des résultats qualitatifs"
   ]
  },
  {
   "cell_type": "markdown",
   "metadata": {},
   "source": [
    "On va s'intéresser aux différents paramètres qualitatifs et à leurs différentes valeurs de résultats"
   ]
  },
  {
   "cell_type": "code",
   "execution_count": 16,
   "metadata": {},
   "outputs": [
    {
     "data": {
      "text/html": [
       "<div>\n",
       "<style scoped>\n",
       "    .dataframe tbody tr th:only-of-type {\n",
       "        vertical-align: middle;\n",
       "    }\n",
       "\n",
       "    .dataframe tbody tr th {\n",
       "        vertical-align: top;\n",
       "    }\n",
       "\n",
       "    .dataframe thead th {\n",
       "        text-align: right;\n",
       "    }\n",
       "</style>\n",
       "<table border=\"1\" class=\"dataframe\">\n",
       "  <thead>\n",
       "    <tr style=\"text-align: right;\">\n",
       "      <th></th>\n",
       "      <th>libminparametre</th>\n",
       "      <th>rqana</th>\n",
       "      <th>valtraduite</th>\n",
       "    </tr>\n",
       "  </thead>\n",
       "  <tbody>\n",
       "    <tr>\n",
       "      <th>1</th>\n",
       "      <td>Aspect (qualitatif)</td>\n",
       "      <td>Aspect normal</td>\n",
       "      <td>0.0</td>\n",
       "    </tr>\n",
       "    <tr>\n",
       "      <th>2535</th>\n",
       "      <td>Aspect (qualitatif)</td>\n",
       "      <td>Aspect anormal</td>\n",
       "      <td>1.0</td>\n",
       "    </tr>\n",
       "    <tr>\n",
       "      <th>601030</th>\n",
       "      <td>Aspect (qualitatif)</td>\n",
       "      <td>Non mesuré</td>\n",
       "      <td>2.0</td>\n",
       "    </tr>\n",
       "    <tr>\n",
       "      <th>6</th>\n",
       "      <td>Couleur (qualitatif)</td>\n",
       "      <td>Aucun changement anormal</td>\n",
       "      <td>0.0</td>\n",
       "    </tr>\n",
       "    <tr>\n",
       "      <th>35893</th>\n",
       "      <td>Couleur (qualitatif)</td>\n",
       "      <td>Changement anormal</td>\n",
       "      <td>1.0</td>\n",
       "    </tr>\n",
       "    <tr>\n",
       "      <th>601034</th>\n",
       "      <td>Couleur (qualitatif)</td>\n",
       "      <td>Non mesuré</td>\n",
       "      <td>2.0</td>\n",
       "    </tr>\n",
       "    <tr>\n",
       "      <th>2630666</th>\n",
       "      <td>Dispo. intérieur traitement</td>\n",
       "      <td>Pas de dipositif de traitement</td>\n",
       "      <td>0.0</td>\n",
       "    </tr>\n",
       "    <tr>\n",
       "      <th>19490</th>\n",
       "      <td>Equilibre calcocarbonique 0/1/2/3/4</td>\n",
       "      <td>Eau incrustante</td>\n",
       "      <td>0.0</td>\n",
       "    </tr>\n",
       "    <tr>\n",
       "      <th>9464</th>\n",
       "      <td>Equilibre calcocarbonique 0/1/2/3/4</td>\n",
       "      <td>Légèrement incrustante</td>\n",
       "      <td>1.0</td>\n",
       "    </tr>\n",
       "    <tr>\n",
       "      <th>6683</th>\n",
       "      <td>Equilibre calcocarbonique 0/1/2/3/4</td>\n",
       "      <td>A l'équilibre</td>\n",
       "      <td>2.0</td>\n",
       "    </tr>\n",
       "    <tr>\n",
       "      <th>7728</th>\n",
       "      <td>Equilibre calcocarbonique 0/1/2/3/4</td>\n",
       "      <td>Légèrement agressive 0,2&gt;D&gt;0,3</td>\n",
       "      <td>3.0</td>\n",
       "    </tr>\n",
       "    <tr>\n",
       "      <th>41766</th>\n",
       "      <td>Equilibre calcocarbonique 0/1/2/3/4</td>\n",
       "      <td>Eau agressive</td>\n",
       "      <td>4.0</td>\n",
       "    </tr>\n",
       "    <tr>\n",
       "      <th>7228525</th>\n",
       "      <td>Escherichia Coli (détection)</td>\n",
       "      <td>ABSENCE ECOLI (colilert)</td>\n",
       "      <td>0.0</td>\n",
       "    </tr>\n",
       "    <tr>\n",
       "      <th>492544</th>\n",
       "      <td>Hydrogène sulfuré (qualitatif)</td>\n",
       "      <td>Absence d'odeur sulfurée</td>\n",
       "      <td>0.0</td>\n",
       "    </tr>\n",
       "    <tr>\n",
       "      <th>9</th>\n",
       "      <td>Odeur (qualitatif)</td>\n",
       "      <td>Aucun changement anormal</td>\n",
       "      <td>0.0</td>\n",
       "    </tr>\n",
       "    <tr>\n",
       "      <th>161473</th>\n",
       "      <td>Odeur (qualitatif)</td>\n",
       "      <td>Changement anormal</td>\n",
       "      <td>1.0</td>\n",
       "    </tr>\n",
       "    <tr>\n",
       "      <th>142813</th>\n",
       "      <td>Odeur (qualitatif)</td>\n",
       "      <td>Non mesuré</td>\n",
       "      <td>2.0</td>\n",
       "    </tr>\n",
       "    <tr>\n",
       "      <th>3006888</th>\n",
       "      <td>Odeur Saveur (qualitatif)</td>\n",
       "      <td>0</td>\n",
       "      <td>0.0</td>\n",
       "    </tr>\n",
       "    <tr>\n",
       "      <th>7295049</th>\n",
       "      <td>Odeur Saveur (qualitatif)</td>\n",
       "      <td>1</td>\n",
       "      <td>1.0</td>\n",
       "    </tr>\n",
       "    <tr>\n",
       "      <th>6937974</th>\n",
       "      <td>Odeur Saveur (qualitatif)</td>\n",
       "      <td>2</td>\n",
       "      <td>2.0</td>\n",
       "    </tr>\n",
       "    <tr>\n",
       "      <th>1128655</th>\n",
       "      <td>Prélèvement sous acréditation</td>\n",
       "      <td>OUI</td>\n",
       "      <td>1.0</td>\n",
       "    </tr>\n",
       "    <tr>\n",
       "      <th>1305772</th>\n",
       "      <td>Présence de cyanobactéries (O/N)</td>\n",
       "      <td>Absence cyanobactéries</td>\n",
       "      <td>0.0</td>\n",
       "    </tr>\n",
       "    <tr>\n",
       "      <th>5510963</th>\n",
       "      <td>Présence de cyanobactéries (O/N)</td>\n",
       "      <td>Présence cyanobactéries</td>\n",
       "      <td>1.0</td>\n",
       "    </tr>\n",
       "    <tr>\n",
       "      <th>7331221</th>\n",
       "      <td>Salmonella spp (pres/abs) / 1L</td>\n",
       "      <td>ABSENCE</td>\n",
       "      <td>0.0</td>\n",
       "    </tr>\n",
       "    <tr>\n",
       "      <th>2047728</th>\n",
       "      <td>Salmonella spp (pres/abs) / 5L</td>\n",
       "      <td>ABSENCE</td>\n",
       "      <td>0.0</td>\n",
       "    </tr>\n",
       "    <tr>\n",
       "      <th>27</th>\n",
       "      <td>Saveur (qualitatif)</td>\n",
       "      <td>Aucun changement anormal</td>\n",
       "      <td>0.0</td>\n",
       "    </tr>\n",
       "    <tr>\n",
       "      <th>396348</th>\n",
       "      <td>Saveur (qualitatif)</td>\n",
       "      <td>Changement anormal</td>\n",
       "      <td>1.0</td>\n",
       "    </tr>\n",
       "    <tr>\n",
       "      <th>142815</th>\n",
       "      <td>Saveur (qualitatif)</td>\n",
       "      <td>Non mesuré</td>\n",
       "      <td>2.0</td>\n",
       "    </tr>\n",
       "  </tbody>\n",
       "</table>\n",
       "</div>"
      ],
      "text/plain": [
       "                             libminparametre                           rqana  \\\n",
       "1                        Aspect (qualitatif)                   Aspect normal   \n",
       "2535                     Aspect (qualitatif)                  Aspect anormal   \n",
       "601030                   Aspect (qualitatif)                      Non mesuré   \n",
       "6                       Couleur (qualitatif)        Aucun changement anormal   \n",
       "35893                   Couleur (qualitatif)              Changement anormal   \n",
       "601034                  Couleur (qualitatif)                      Non mesuré   \n",
       "2630666          Dispo. intérieur traitement  Pas de dipositif de traitement   \n",
       "19490    Equilibre calcocarbonique 0/1/2/3/4                 Eau incrustante   \n",
       "9464     Equilibre calcocarbonique 0/1/2/3/4          Légèrement incrustante   \n",
       "6683     Equilibre calcocarbonique 0/1/2/3/4                   A l'équilibre   \n",
       "7728     Equilibre calcocarbonique 0/1/2/3/4  Légèrement agressive 0,2>D>0,3   \n",
       "41766    Equilibre calcocarbonique 0/1/2/3/4                   Eau agressive   \n",
       "7228525         Escherichia Coli (détection)        ABSENCE ECOLI (colilert)   \n",
       "492544        Hydrogène sulfuré (qualitatif)        Absence d'odeur sulfurée   \n",
       "9                         Odeur (qualitatif)        Aucun changement anormal   \n",
       "161473                    Odeur (qualitatif)              Changement anormal   \n",
       "142813                    Odeur (qualitatif)                      Non mesuré   \n",
       "3006888            Odeur Saveur (qualitatif)                               0   \n",
       "7295049            Odeur Saveur (qualitatif)                               1   \n",
       "6937974            Odeur Saveur (qualitatif)                               2   \n",
       "1128655        Prélèvement sous acréditation                             OUI   \n",
       "1305772     Présence de cyanobactéries (O/N)          Absence cyanobactéries   \n",
       "5510963     Présence de cyanobactéries (O/N)         Présence cyanobactéries   \n",
       "7331221       Salmonella spp (pres/abs) / 1L                         ABSENCE   \n",
       "2047728       Salmonella spp (pres/abs) / 5L                         ABSENCE   \n",
       "27                       Saveur (qualitatif)        Aucun changement anormal   \n",
       "396348                   Saveur (qualitatif)              Changement anormal   \n",
       "142815                   Saveur (qualitatif)                      Non mesuré   \n",
       "\n",
       "         valtraduite  \n",
       "1                0.0  \n",
       "2535             1.0  \n",
       "601030           2.0  \n",
       "6                0.0  \n",
       "35893            1.0  \n",
       "601034           2.0  \n",
       "2630666          0.0  \n",
       "19490            0.0  \n",
       "9464             1.0  \n",
       "6683             2.0  \n",
       "7728             3.0  \n",
       "41766            4.0  \n",
       "7228525          0.0  \n",
       "492544           0.0  \n",
       "9                0.0  \n",
       "161473           1.0  \n",
       "142813           2.0  \n",
       "3006888          0.0  \n",
       "7295049          1.0  \n",
       "6937974          2.0  \n",
       "1128655          1.0  \n",
       "1305772          0.0  \n",
       "5510963          1.0  \n",
       "7331221          0.0  \n",
       "2047728          0.0  \n",
       "27               0.0  \n",
       "396348           1.0  \n",
       "142815           2.0  "
      ]
     },
     "execution_count": 16,
     "metadata": {},
     "output_type": "execute_result"
    }
   ],
   "source": [
    "resultats_quali = resultats_sans_seuil_valide[resultats_sans_seuil_valide['qualitparam'] == 'O'].copy()\n",
    "resultats_quali[['libminparametre','rqana','valtraduite']].drop_duplicates().sort_values(['libminparametre','valtraduite'])"
   ]
  },
  {
   "cell_type": "markdown",
   "metadata": {},
   "source": [
    "On constate que, hormis l'équilibre calcocarbonique, les paramètres sont exprimés en normal/anormal(0/1) ou absence/présence(0/1) avec une précision d'absence de mesure(2) dans certains cas. On va normaliser ces résultats sous la même catégorisation que les paramètres avec seuils valides en considérant que toute présence ou anormalité est non acceptable. Pour cela on va créer une nouvelle colonne is_quality_acceptable qui prends les valeurs :\n",
    "- False si le résultat vaut 1\n",
    "- True si le résultat vaut 0\n",
    "- None dans tous les autres cas\n",
    "\n",
    "Exception pour l'équilibre calcocarbonique, dont on se rappelle que le seuil était >=1 et <=2, ce qui va se traduire par :\n",
    "- False si le résultat vaut 0, 3 ou 4\n",
    "- True si le résultat vaut 1 ou 2\n",
    "- None dans tous les autres cas"
   ]
  },
  {
   "cell_type": "code",
   "execution_count": null,
   "metadata": {},
   "outputs": [],
   "source": [
    "def is_result_acceptable(param, valtraduite):\n",
    "    try:\n",
    "        if (param == 'Equilibre calcocarbonique 0/1/2/3/4'):\n",
    "            if (valtraduite == 1 | valtraduite == 2):\n",
    "                return False\n",
    "            elif (valtraduite == 0 | valtraduite == 3 | valtraduite == 4):\n",
    "                return True\n",
    "            else: return None\n",
    "        else:\n",
    "            if valtraduite == 1:\n",
    "                return False\n",
    "            elif valtraduite == 0:\n",
    "                return True\n",
    "            else:\n",
    "                return None\n",
    "    except: # cas où la valeur ne serait pas un nombre = erreur de saisie\n",
    "        return None\n",
    "\n",
    "resultats_quali['is_quality_acceptable'] = resultats_quali.apply(lambda x: is_result_acceptable(x.libminparametre,x.valtraduite),axis=1)"
   ]
  },
  {
   "cell_type": "code",
   "execution_count": null,
   "metadata": {},
   "outputs": [],
   "source": [
    "print(f'Nombre de prélèvements qualitatifs non acceptable : {(resultats_quali['is_quality_acceptable']==False).sum()}')"
   ]
  },
  {
   "cell_type": "markdown",
   "metadata": {},
   "source": [
    "Il reste maintenant les paramètres quantitatifs sans seuil valide à analyser."
   ]
  },
  {
   "cell_type": "markdown",
   "metadata": {},
   "source": [
    "#### Analyse des résultats quantitatifs sans seuil"
   ]
  },
  {
   "cell_type": "markdown",
   "metadata": {},
   "source": [
    "On établit la liste des différents paramètres quantitatifs sans seuil valide."
   ]
  },
  {
   "cell_type": "code",
   "execution_count": null,
   "metadata": {
    "scrolled": true
   },
   "outputs": [],
   "source": [
    "resultats_quanti_sans_seuils = resultats_sans_seuil_valide[resultats_sans_seuil_valide['qualitparam'] == 'N'].copy()\n",
    "unique_params = resultats_quanti_sans_seuils['libminparametre'].sort_values().unique()\n",
    "print(f'Nombre de paramètres quantitatifs sans seuil valide : {len(unique_params)}\\n')\n",
    "print(\"Liste des paramètres :\\n\"+\"\\n\".join(i for i in unique_params))"
   ]
  },
  {
   "cell_type": "markdown",
   "metadata": {},
   "source": [
    "Ces paramètres sont nombreux et divers : on retrouve des paramètres concernant des métaux, des pathogènes, des molécules, de la radioactivité, les caractéristiques du prélèvements, etc.\n",
    "\n",
    "Il faudra sans doute faire un tri manuel des paramètres qui semblent importants au projet. Pour le moment, on décide de ne pas les analyser plus en détail."
   ]
  },
  {
   "cell_type": "markdown",
   "metadata": {},
   "source": [
    "#### Concaténation des dataframes d'analyse"
   ]
  },
  {
   "cell_type": "markdown",
   "metadata": {},
   "source": [
    "On va regrouper les 3 dataframes qui ont servis à l'analyse."
   ]
  },
  {
   "cell_type": "code",
   "execution_count": null,
   "metadata": {},
   "outputs": [],
   "source": [
    "resultats_avec_conclusion = pd.concat([resultats_avec_seuil_valide,resultats_quali,resultats_quanti_sans_seuils], axis=0)\n",
    "new_columns = ['is_within_threshold_limitequal','is_within_threshold_refqual','is_quality_acceptable']\n",
    "resultats_avec_conclusion.loc[:,new_columns] = resultats_avec_conclusion.loc[:,new_columns].replace({np.nan: None})\n",
    "resultats_avec_conclusion = resultats_avec_conclusion.sort_index()"
   ]
  },
  {
   "cell_type": "code",
   "execution_count": null,
   "metadata": {},
   "outputs": [],
   "source": [
    "# on vérifie qu'on a pas perdu de lignes ni de colonnes dans le process\n",
    "print(f'Egalité dans les lignes : {resultats.shape[0] == resultats_avec_conclusion.shape[0]}')\n",
    "print(f'Colonnes en plus : {resultats_avec_conclusion.shape[1] - resultats.shape[1]}')"
   ]
  },
  {
   "cell_type": "code",
   "execution_count": null,
   "metadata": {},
   "outputs": [],
   "source": [
    "resultats_avec_conclusion.head()"
   ]
  },
  {
   "cell_type": "markdown",
   "metadata": {},
   "source": [
    "On vérifie nos résultats :"
   ]
  },
  {
   "cell_type": "code",
   "execution_count": null,
   "metadata": {},
   "outputs": [],
   "source": [
    "print(f'Nombre de prélèvements hors du seuil refqual : {(resultats_avec_conclusion['is_within_threshold_refqual']==False).sum()}')\n",
    "print(f'Nombre de prélèvements hors du seuil limitequal : {(resultats_avec_conclusion['is_within_threshold_limitequal']==False).sum()}')\n",
    "print(f'Nombre de prélèvements qualitatifs non acceptable : {(resultats_avec_conclusion['is_quality_acceptable']==False).sum()}')"
   ]
  },
  {
   "cell_type": "markdown",
   "metadata": {},
   "source": [
    "On va analyser la répartition du nombre de paramètres par prélèvement."
   ]
  },
  {
   "cell_type": "code",
   "execution_count": null,
   "metadata": {},
   "outputs": [],
   "source": [
    "nb_param_par_prelev = resultats_avec_conclusion[['libminparametre','referenceprel']].groupby('referenceprel').count()\n",
    "vals = nb_param_par_prelev.T.values[0]\n",
    "print(nb_param_par_prelev.describe())\n",
    "\n",
    "fig, axes = plt.subplots(1,2)\n",
    "fig.set_figheight(10)\n",
    "fig.set_figwidth(20)\n",
    "fig.suptitle('Répartition du nombre de paramètres par prélèvement')\n",
    "axes[0].boxplot(vals, orientation='horizontal', showfliers=False)\n",
    "axes[1].boxplot(vals, orientation='horizontal', showfliers=True)\n",
    "axes[0].title.set_text('Sans outliers')\n",
    "axes[1].title.set_text('Avec outliers')\n",
    "axes[0].set_xticks(np.arange(0, round((np.quantile(vals,0.75) + 1.5 * (np.quantile(vals,0.75) - np.quantile(vals,0.25)))) + 6, 5))\n",
    "plt.show()"
   ]
  },
  {
   "cell_type": "code",
   "execution_count": null,
   "metadata": {},
   "outputs": [],
   "source": [
    "vals.sort()\n",
    "abs = np.arange(0,len(vals),1)/len(vals)\n",
    "yticks_scale = 50\n",
    "\n",
    "fig, ax = plt.subplots()\n",
    "fig.set_figheight(8)\n",
    "fig.set_figwidth(8)\n",
    "fig.suptitle('Nombre de paramètres par quantile')\n",
    "ax.plot(abs, vals)\n",
    "ax.set_xticks(np.arange(0,1.1,0.1))\n",
    "ax.set_yticks(np.arange(0,math.ceil(vals.max() / yticks_scale)*(yticks_scale+1),yticks_scale))\n",
    "ax.set_xlabel('Quantile')\n",
    "ax.set_ylabel('Nb de paramètres par prélèvement')\n",
    "plt.show()\n"
   ]
  },
  {
   "cell_type": "markdown",
   "metadata": {},
   "source": [
    "Par curiosité, on va également déterminer le top 10 des paramètres avec résultats hors seuil, pour chaque type de seuil."
   ]
  },
  {
   "cell_type": "code",
   "execution_count": null,
   "metadata": {},
   "outputs": [],
   "source": [
    "resultats_avec_conclusion.loc[resultats_avec_conclusion['is_within_threshold_limitequal']==False,['libminparametre','cdparametresiseeaux']]\\\n",
    ".groupby('libminparametre').count().sort_values('cdparametresiseeaux',ascending=False).head(10).rename(columns={\"cdparametresiseeaux\": \"Nb résultats hors seuil limitequal par paramètre\"})"
   ]
  },
  {
   "cell_type": "code",
   "execution_count": null,
   "metadata": {},
   "outputs": [],
   "source": [
    "resultats_avec_conclusion.loc[resultats_avec_conclusion['is_within_threshold_refqual']==False,['libminparametre','cdparametresiseeaux']]\\\n",
    ".groupby('libminparametre').count().sort_values('cdparametresiseeaux',ascending=False).head(10).rename(columns={\"cdparametresiseeaux\": \"Nb résultats hors seuil refqual par paramètre\"})"
   ]
  },
  {
   "cell_type": "code",
   "execution_count": null,
   "metadata": {},
   "outputs": [],
   "source": [
    "resultats_avec_conclusion.loc[resultats_avec_conclusion['is_quality_acceptable']==False,['libminparametre','cdparametresiseeaux']]\\\n",
    ".groupby('libminparametre').count().sort_values('cdparametresiseeaux',ascending=False).head(10).rename(columns={\"cdparametresiseeaux\": \"Nb résultats hors qualité par paramètre\"})"
   ]
  },
  {
   "cell_type": "markdown",
   "metadata": {},
   "source": [
    "# Analyse des prélèvements"
   ]
  },
  {
   "cell_type": "markdown",
   "metadata": {},
   "source": [
    "Dans la doc officielle, on trouve le paragraphe suivant :  \n",
    "\"A noter que, dans ce jeu de données, l’ensemble des résultats d’analyses sont rapportés à l’unité de distribution concernée, cependant les prélèvements peuvent avoir été effectivement réalisés en amont du réseau de distribution, sur une installation de traitement, de production et de transport de l’eau (TTP), voire sur une installation de ressource en eau ou captage (CAP). En effet, suivant les paramètres concernés ou encore la configuration locale de production d’eau (présence de traitement, caractéristique de celui-ci…), les prélèvements réalisés dans le cadre du contrôle sanitaire le long de la chaîne de production (de la ressource au robinet) peuvent ou non être extrapolés à la qualité de l’eau mise à disposition du consommateur. Cette évaluation est réalisée localement par chaque ARS.\n",
    "\n",
    "Dans le cas où le prélèvement est réalisé sur une autre installation, certains champs supplémentaires du fichier PLV fournissent des informations sur cette installation : ‘cdreseauamont‘ (code de l’installation amont), ‘nomreseauamont’ (nom de l’installation amont), ‘pourcentdebit’ (pourcentage de débit de l’installation amont : indique si l’installation amont alimente exclusivement ou en partie cette UDI). Lorsque les prélèvements ont été effectivement réalisés sur l’UDI concernée, ces champs sont vides.\"  \n",
    "\n",
    "Traduction : en théorie, on devrait avoir une ligne par prélèvement et par UDI. Lorsque le prélèvement a été effectué en amont d'une UDI, et que l'ARS a extrapolé la qualité de l'eau à une UDI en aval du point de prélèvement, la ligne de prélèvement contient les informations sur le réseau en amont sur lequel le prélèvement a été effectué. Ce qui veut dire que pour un même prélèvement, on peut avoir plusieurs UDI rattachées à ce prélèvement, si l'ARS a fait l'extrapolation.\n",
    "\n",
    "On va analyser ces cas d'extrapolation."
   ]
  },
  {
   "cell_type": "code",
   "execution_count": null,
   "metadata": {},
   "outputs": [],
   "source": [
    "# on affiche tous les prélèvements qui sont non uniques\n",
    "prelevements[prelevements['referenceprel'].duplicated(keep=False)].sort_values('referenceprel').head()"
   ]
  },
  {
   "cell_type": "markdown",
   "metadata": {},
   "source": [
    "Si on analyse les 2 premières lignes, on retrouve en ligne 1 un prélèvement qui correspond à la description faite dans la doc : un prélèvement extrapolé à une UDI (réseau 001000488) dont le prélèvement à été fait en amont (réseau 001000487) ET en ligne 2, le même prélèvement associé au réseau en amont (réseau 001000487), ce qui veut dire que le réseau en amont est également une UDI.\n",
    "\n",
    "Ce dataset représente donc la liste des associations entre les prélèvements (effectués sur une UDI ou non) et le réseau du point de prélèvement si c'est une UDI, ainsi que tous les réseaux UDI en aval du point de prélèvement que l'ARS locale a décidé d'extrapoler comme partageant la même qualité d'eau que le réseau d'origine.\n",
    "\n",
    "##### Side note\n",
    "Un élément troublant cependant est la valeur du débit de la ligne 1 : 0%.  \n",
    "Voici la description du champ dans la doc : Caractérisation du lien entre l’installation amont (cdreseauamont) et l’unité de distribution (cdreseau), permettant d'indiquer la participation de l’installation amont (en %) au débit de l’installation aval.\n",
    "\n",
    "Si on se base sur la description du document pour établir la signification des lignes 1 et 2, voici ce qu'on peut en déduire : un prélèvement a été effectué le 18/01/2024 à 9h37 sur l'UDI 001000487, ce réseau alimente 0% (!!!) du réseau 001000488 et l'ARS locale a décidé d'extrapoler la qualité de l'eau du réseau 001000487 au réseau 001000488  \n",
    "\n",
    "Comment peut-on extrapoler la qualité de l'eau d'un réseau amont à un réseau en aval qui n'est pas du tout alimenté par celui-ci ?\n",
    "\n",
    "On est devant un dilemme : soit la valeur des débits a une fiabilité très basse, soit l'ARS a pris des décisions illogiques. Il faudra sans doute prendre une décision sur comment on traite les associations UDI/prélèvements dont le débit vaut 0% du réseau amont.\n",
    "\n",
    "A noter qu'il est donc tout à fait possible qu'un prélèvement ait eu lieu en amont d'une UDI (dans une TTP par exemple), que le prélèvement ait donné des résultats concluant à des dépassements de seuils sur certains paramètres, mais que l'ARS locale ait décidé de ne pas extrapoler la qualité de cette eau aux UDI en aval, auquel cas ces résultats n'apparaitraient pas dans le dataset des résultats.\n",
    "\n",
    "##### End note\n",
    "\n",
    "On peut donc déduire que si une association UDI/prélèvement n'a pas de réseau amont renseigné, le prélèvement a eu lieu dans l'UDI, sinon le prélèvement a eu lieu dans un réseau en amont.\n",
    "\n",
    "On va donc établir la liste des prélèvements et le réseau dans lequel le prélèvement a eu lieu afin de faire de l'analyse sur les prélèvements uniquement."
   ]
  },
  {
   "cell_type": "code",
   "execution_count": null,
   "metadata": {},
   "outputs": [],
   "source": [
    "# Cas 1 : le prélèvement a eu lieu dans une UDI\n",
    "# on conserve que les colonnes concernant l'UDI et le prélèvement et en mettant de coté les conclusions qui ne nous intéressent pas pour le moment\n",
    "liste_col = ['cddept','inseecommuneprinc','nomcommuneprinc','referenceprel','dateprel','heureprel','cdreseau']\n",
    "prelevements_dans_UDI = prelevements.loc[prelevements['cdreseauamont'].isna(),liste_col].copy()\n",
    "\n",
    "# Cas 2 : le prélèvement a eu lieu dans un réseau amont qui n'est pas une UDI, ie dans un réseau amont qui n'est pas dans la liste des UDI ayant un prélèvement\n",
    "# on conserve que les colonnes concernant le réseau amont et le prélèvement et en mettant de coté les conclusions également\n",
    "liste_col_2 = ['cddept','inseecommuneprinc','nomcommuneprinc','referenceprel','dateprel','heureprel','cdreseauamont','nomreseauamont']\n",
    "liste_UDI_ayant_prelevement = prelevements_dans_UDI['cdreseau'].unique()\n",
    "mask = prelevements['cdreseauamont'].apply(lambda x: x not in liste_UDI_ayant_prelevement if x is not None else False)\n",
    "prelevements_hors_UDI = prelevements.loc[mask,liste_col_2].drop_duplicates().copy()\n",
    "\n",
    "# note : on ne peut pas conserver le champ 'pourcentdebit' car c'est une caractéristique de l'association 'reseau/reseau amont' et on ne conserve ici que\n",
    "# les informations du réseau dans lequel a eu lieu le prélèvement"
   ]
  },
  {
   "cell_type": "markdown",
   "metadata": {},
   "source": [
    "Si toutes les assomptions sont correctes, on ne devrait avoir que des valeurs uniques de prélèvement dans les 2 cas, et la somme des lignes de chaque subset devrait être égale au nombre de valeurs uniques des références de prélèvements. On vérifie."
   ]
  },
  {
   "cell_type": "code",
   "execution_count": null,
   "metadata": {},
   "outputs": [],
   "source": [
    "print(f'Nombre de prélèvements dans UDI non uniques : {prelevements_dans_UDI['referenceprel'].duplicated().sum()}')\n",
    "print(f'Nombre de prélèvements hors UDI non uniques : {prelevements_hors_UDI['referenceprel'].duplicated().sum()}')\n",
    "val = prelevements_dans_UDI.shape[0] + prelevements_hors_UDI.shape[0] == len(prelevements['referenceprel'].unique())\n",
    "print(f'Nombre total de prélèvements égal aux nombres de prélèvements uniques : {val}')"
   ]
  },
  {
   "cell_type": "markdown",
   "metadata": {},
   "source": [
    "Tout est ok. On peut concaténer les tables pour obtenir une table des prélèvements uniques avec le type de réseau."
   ]
  },
  {
   "cell_type": "code",
   "execution_count": null,
   "metadata": {},
   "outputs": [],
   "source": [
    "prelevements_uniques = pd.concat([prelevements_dans_UDI,prelevements_hors_UDI], axis=0).reset_index(drop=True)\n",
    "prelevements_uniques"
   ]
  },
  {
   "cell_type": "markdown",
   "metadata": {},
   "source": [
    "Dans ce nouveau dataframe, on peut facilement identifier les prélèvements qui ont eu lieu dans une UDI et ceux en amont des UDI : si le champ cdreseau est renseigné, c'est une UDI, sinon c'est un champ en amont qui n'est pas une UDI.\n",
    "\n",
    "On va s'intéresser à la part des prélèvements dans UDI et hors UDI."
   ]
  },
  {
   "cell_type": "code",
   "execution_count": null,
   "metadata": {},
   "outputs": [],
   "source": [
    "nb_prelevements_dans_udi = prelevements_uniques['cdreseau'].count()\n",
    "nb_prelevements_hors_udi = prelevements_uniques['cdreseauamont'].count()\n",
    "\n",
    "labels = 'Dans UDI', 'Hors UDI'\n",
    "sizes = [nb_prelevements_dans_udi,nb_prelevements_hors_udi]\n",
    "fig, ax = plt.subplots()\n",
    "fig.set_figheight(5)\n",
    "fig.set_figwidth(5)\n",
    "ax.pie(sizes, labels=labels, autopct='%1.1f%%')\n",
    "plt.title('Parts des prélèvements')\n",
    "plt.show()"
   ]
  },
  {
   "cell_type": "markdown",
   "metadata": {},
   "source": [
    "On va s'intéresser maintenant à la répartition du nombre de prélèvements fait dans l'année par réseau, en distinguant les réseaux UDI et les réseaux non-UDI."
   ]
  },
  {
   "cell_type": "code",
   "execution_count": null,
   "metadata": {},
   "outputs": [],
   "source": [
    "val_dans_udi = prelevements_uniques.loc[prelevements_uniques['cdreseau'].isna() == False,['cdreseau','referenceprel']].groupby('cdreseau').count().T.values[0]\n",
    "val_hors_udi = prelevements_uniques.loc[prelevements_uniques['cdreseauamont'].isna() == False,['cdreseauamont','referenceprel']].groupby('cdreseauamont').count().T.values[0]\n",
    "\n",
    "\n",
    "fig, axes = plt.subplots(1,2)\n",
    "fig.set_figheight(10)\n",
    "fig.set_figwidth(20)\n",
    "fig.suptitle('Répartition du nombre de prélèvements par réseau')\n",
    "axes[0].boxplot([val_dans_udi,val_hors_udi], orientation='horizontal',tick_labels=['UDI','Non UDI'], showfliers=False)\n",
    "axes[1].boxplot([val_dans_udi,val_hors_udi], orientation='horizontal',tick_labels=['UDI','Non UDI'], showfliers=True)\n",
    "axes[0].title.set_text('Sans outliers')\n",
    "axes[1].title.set_text('Avec outliers')\n",
    "axes[0].set_xticks(np.arange(val_dans_udi.min(), round((np.quantile(val_dans_udi,0.75) + 1.5 * (np.quantile(val_dans_udi,0.75) - np.quantile(val_dans_udi,0.25)))) + 1, 1))\n",
    "plt.show()\n"
   ]
  },
  {
   "cell_type": "code",
   "execution_count": null,
   "metadata": {},
   "outputs": [],
   "source": [
    "val_dans_udi.sort()\n",
    "val_hors_udi.sort()\n",
    "\n",
    "abs_dans_udi = np.arange(0,len(val_dans_udi),1)/len(val_dans_udi)\n",
    "abs_hors_udi = np.arange(0,len(val_hors_udi),1)/len(val_hors_udi)\n",
    "yticks_scale = 50\n",
    "\n",
    "fig, axes = plt.subplots(1,2)\n",
    "fig.set_figheight(8)\n",
    "fig.set_figwidth(16)\n",
    "fig.suptitle('Nombre de prélèvements par réseau par quantile')\n",
    "axes[0].plot(abs_dans_udi, val_dans_udi)\n",
    "axes[0].set_xticks(np.arange(0,1.1,0.1))\n",
    "axes[0].set_yticks(np.arange(0,math.ceil(val_dans_udi.max() / yticks_scale)*(yticks_scale+1),yticks_scale))\n",
    "axes[0].set_xlabel('Quantile')\n",
    "axes[0].set_ylabel('Nb de prélèvements par réseau')\n",
    "axes[0].title.set_text('UDI')\n",
    "axes[1].plot(abs_hors_udi, val_hors_udi)\n",
    "axes[1].set_xticks(np.arange(0,1.1,0.1))\n",
    "axes[1].set_yticks(np.arange(0,math.ceil(val_hors_udi.max() / yticks_scale)*(yticks_scale+1),yticks_scale))\n",
    "axes[1].set_xlabel('Quantile')\n",
    "axes[1].set_ylabel('Nb de prélèvements par réseau')\n",
    "axes[1].title.set_text('Non UDI')\n",
    "axes[0].grid(axis='y')\n",
    "axes[1].grid(axis='y')\n",
    "plt.show()"
   ]
  },
  {
   "cell_type": "markdown",
   "metadata": {},
   "source": [
    "On a donc des réseaux UDI qui font l'objet de plus d'un prélèvement par jour ouvré, pouvant aller jusqu'à plus de 5 prélèvements par jour ouvré. On va tenter de comprendre comment c'est possible en analysant les réseaux ayant le plus grand nomble de prélèvements."
   ]
  },
  {
   "cell_type": "code",
   "execution_count": null,
   "metadata": {},
   "outputs": [],
   "source": [
    "# on établit le top 5 des réseaux UDI ayant le plus de prélèvements\n",
    "prelevements_uniques.loc[prelevements_uniques['cdreseau'].isna() == False,['cdreseau','referenceprel']]\\\n",
    ".groupby('cdreseau').count().sort_values('referenceprel',ascending=False).head()"
   ]
  },
  {
   "cell_type": "code",
   "execution_count": null,
   "metadata": {},
   "outputs": [],
   "source": [
    "# observons le #1\n",
    "prelevements_uniques[prelevements_uniques['cdreseau'] == '092000054']"
   ]
  },
  {
   "cell_type": "markdown",
   "metadata": {},
   "source": [
    "On remarque plusieurs choses :  \n",
    "- plusieurs prélèvements peuvent être établis au même moment et dans le même lieu (ligne 3 et 4)\n",
    "- pour un même réseau, on a plusieurs communes possibles dans lesquelles effectuer un prélèvement  \n",
    "\n",
    "Lorsqu'on regarde la description du champ 'nomcommuneprinc' dans la documentation officielle, on trouve : \"Nom de la commune où se trouve le point de surveillance sur lequel le prélèvement a eu lieu\"  \n",
    "\n",
    "On a donc des réseaux qui peuvent avoir plusieurs points de surveillance. Analysons donc le nombre de points de surveillance par réseau."
   ]
  },
  {
   "cell_type": "code",
   "execution_count": null,
   "metadata": {},
   "outputs": [],
   "source": [
    "nb_point_surv_dans_udi = prelevements_uniques.loc[prelevements_uniques['cdreseau'].isna() == False,['cdreseau','nomcommuneprinc']]\\\n",
    ".drop_duplicates().groupby('cdreseau').count()\n",
    "nb_point_surv_hors_udi = prelevements_uniques.loc[prelevements_uniques['cdreseauamont'].isna() == False,['cdreseauamont','nomcommuneprinc']]\\\n",
    ".drop_duplicates().groupby('cdreseauamont').count()\n",
    "\n",
    "fig, axes = plt.subplots(1,2)\n",
    "fig.set_figheight(10)\n",
    "fig.set_figwidth(20)\n",
    "fig.suptitle('Répartition du nombre de points de surveillance par réseau')\n",
    "axes[0].boxplot([nb_point_surv_dans_udi.T.values[0],nb_point_surv_hors_udi.T.values[0]], orientation='horizontal',tick_labels=['UDI','Non UDI'], showfliers=False)\n",
    "axes[1].boxplot([nb_point_surv_dans_udi.T.values[0],nb_point_surv_hors_udi.T.values[0]], orientation='horizontal',tick_labels=['UDI','Non UDI'], showfliers=True)\n",
    "axes[0].title.set_text('Sans outliers')\n",
    "axes[1].title.set_text('Avec outliers')\n",
    "plt.show()"
   ]
  },
  {
   "cell_type": "markdown",
   "metadata": {},
   "source": [
    "On a une large majorité de réseaux ayant un seul point de surveillance. On va déterminer la part des réseaux ayant plus d'un point de surveillance."
   ]
  },
  {
   "cell_type": "code",
   "execution_count": null,
   "metadata": {},
   "outputs": [],
   "source": [
    "nb_reseaux_udi_avec_1_ps = nb_point_surv_dans_udi[nb_point_surv_dans_udi['nomcommuneprinc'] == 1].count().values[0]\n",
    "nb_reseaux_udi_avec_plus_de_1_ps = nb_point_surv_dans_udi[nb_point_surv_dans_udi['nomcommuneprinc'] > 1].count().values[0]\n",
    "\n",
    "nb_reseaux_non_udi_avec_1_ps = nb_point_surv_hors_udi[nb_point_surv_hors_udi['nomcommuneprinc'] == 1].count().values[0]\n",
    "nb_reseaux_non_udi_avec_plus_de_1_ps = nb_point_surv_hors_udi[nb_point_surv_hors_udi['nomcommuneprinc'] > 1].count().values[0]\n",
    "\n",
    "labels = '1 ps', '> 1 ps'\n",
    "fig, axes = plt.subplots(1,2)\n",
    "fig.set_figheight(5)\n",
    "fig.set_figwidth(10)\n",
    "axes[0].pie([nb_reseaux_udi_avec_1_ps,nb_reseaux_udi_avec_plus_de_1_ps], labels=labels, autopct='%1.1f%%')\n",
    "axes[0].title.set_text('UDI')\n",
    "axes[1].pie([nb_reseaux_non_udi_avec_1_ps,nb_reseaux_non_udi_avec_plus_de_1_ps], labels=labels, autopct='%1.1f%%')\n",
    "axes[1].title.set_text('Non UDI')\n",
    "fig.suptitle('Parts des réseaux avec plus d\\'1 ps')\n",
    "plt.show()"
   ]
  },
  {
   "cell_type": "markdown",
   "metadata": {},
   "source": [
    "Comme on peut avoir des points de surveillance d'un même réseau situés dans plusieurs communes, une question légitime est : une commune peut-elle accueillir des points de surveillance de réseaux différents ? On va donc calculer le nombre de réseaux différents par commune de point de surveillance."
   ]
  },
  {
   "cell_type": "code",
   "execution_count": null,
   "metadata": {},
   "outputs": [],
   "source": [
    "t = prelevements_uniques.loc[prelevements_uniques['cdreseau'].isna() == False,['nomcommuneprinc','cdreseau']]\\\n",
    ".drop_duplicates().groupby('nomcommuneprinc').count()\n",
    "print(f\"Nombre de communes avec points de surveillance de réseaux différents : {t[t['cdreseau'] > 1].count().values[0]}\")"
   ]
  },
  {
   "cell_type": "markdown",
   "metadata": {},
   "source": [
    "Pour résumer :\n",
    "- les prélèvements sont effectués dans des points de surveillance qui dépendent d'un réseau\n",
    "- le réseau peut être une UDI ou une unité en amont (catégorisé \"Non UDI\" dans l'étude)\n",
    "- il peut y avoir plusieurs prélèvements différents effectués au même endroit au même moment\n",
    "- un réseau peut avoir plusieurs points de surveillance situés dans des communes différentes\n",
    "- une commune peut avoir des points de surveillance affiliés à des réseaux différents\n",
    "- un prélèvement et ses résultats associés peuvent être extrapolés à tout ou partie des réseaux en aval du point de surveillance\n",
    "- les réseaux extrapolés ne sont pas forcément alimenté à 100% par le réseau amont objet du prélèvement\n",
    "\n",
    "Cela pose plusieurs questions : \n",
    "- quelle représentation spatiale des résultats (qui dépendent des réseaux) ? sachant qu'un réseau UDI peut alimenter plusieurs communes ou seulement une partie de commune\n",
    "- que faire en cas de résultats contradictoire entre plusieurs prélèvements effectués sur un même réseau ?\n",
    "- les prélèvements sont situés également dans le temps, doit on représenter les résultats à un temps donné ? ou uniquement les derniers résultats connus ? ou l'évolution des résultats dans le temps ?\n",
    "- que faire de l'extrapolation des résultats aux réseaux en aval ? un résultat hors seuil de 10% en amont donne-t-il forcément un résultat hors seuil si le réseau en aval n'est alimenté qu'à 30% par ce réseau ? (dilution ?)"
   ]
  },
  {
   "cell_type": "code",
   "execution_count": null,
   "metadata": {
    "scrolled": true
   },
   "outputs": [],
   "source": [
    "end_time = datetime.datetime.now()\n",
    "end_time - start_time"
   ]
  },
  {
   "cell_type": "code",
   "execution_count": null,
   "metadata": {},
   "outputs": [],
   "source": []
  }
 ],
 "metadata": {
  "kernelspec": {
   "display_name": "Python 3 (ipykernel)",
   "language": "python",
   "name": "python3"
  },
  "language_info": {
   "codemirror_mode": {
    "name": "ipython",
    "version": 3
   },
   "file_extension": ".py",
   "mimetype": "text/x-python",
   "name": "python",
   "nbconvert_exporter": "python",
   "pygments_lexer": "ipython3",
   "version": "3.12.8"
  }
 },
 "nbformat": 4,
 "nbformat_minor": 4
}
