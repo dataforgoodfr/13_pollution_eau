{
 "cells": [
  {
   "cell_type": "markdown",
   "metadata": {},
   "source": [
    "# Table agrégée commune année : exemple des nitrites\n",
    "\n",
    "## 1. Introduction et récupération des données brutes\n",
    "\n",
    "Ce Notebook vise à compléter la partie nitrite de la tâche 167 \n",
    "[définie ici](https://noco.services.dataforgood.fr/dashboard/#/nc/pk1vq1pm8frc5lm/ms9uz8er4jpow7j/Tasks%20data%20analyst?rowId=167)\n",
    "\n",
    "\n",
    "Ce faisant, nous définissions plusieurs fonctions d'appoint orientées Python/Pandas pour ingérer et traiter les bases de données afin de récupérer aisément les colonnes de polluants correspondant à la catégorie désirée.\n",
    "\n",
    "\n",
    "On commence par récupérer les tables.\n",
    "\n",
    "On utilise la BDD locale pour les prélèvements.\n",
    "\n",
    "Pour l'appariement des catégories, la Google sheet utilisée (à croiser avec l'autre de GF) sera  :\n",
    "https://docs.google.com/spreadsheets/d/1W239EkEV72WzzefB6jbYUQkIIQ-9xa4u9_m8XdCpU4o/edit?gid=973653272#gid=973653272\n",
    "\n"
   ]
  },
  {
   "cell_type": "code",
   "execution_count": null,
   "metadata": {},
   "outputs": [],
   "source": [
    "import pandas as pd\n",
    "import duckdb\n",
    "from pipelines.tasks.config.common import DUCKDB_FILE\n",
    "\n",
    "pd.set_option(\"display.max_columns\", None)  # show all cols\n",
    "con = duckdb.connect(database=DUCKDB_FILE, read_only=True)\n",
    "\n",
    "results = con.table(\"edc_resultats\")\n",
    "\n",
    "con.execute(\"SHOW TABLES\").df()"
   ]
  },
  {
   "cell_type": "code",
   "execution_count": null,
   "metadata": {},
   "outputs": [],
   "source": [
    "con.table(\"edc_communes\").show()"
   ]
  },
  {
   "cell_type": "code",
   "execution_count": null,
   "metadata": {},
   "outputs": [],
   "source": [
    "con.table(\"edc_prelevements\").limit(5).df()"
   ]
  },
  {
   "cell_type": "code",
   "execution_count": null,
   "metadata": {},
   "outputs": [],
   "source": [
    "def fetch_google_sheet():\n",
    "    # Récupère la google sheet, adapté de :\n",
    "    # https://medium.com/@Bwhiz/step-by-step-guide-importing-google-sheets-data-into-pandas-ae2df899257f\n",
    "    sheet_id = (\n",
    "        \"1W239EkEV72WzzefB6jbYUQkIIQ-9xa4u9_m8XdCpU4o\"  # replace with your sheet's ID\n",
    "    )\n",
    "    url = f\"https://docs.google.com/spreadsheets/d/{sheet_id}/gviz/tq?tqx=out:csv\"\n",
    "    return pd.read_csv(url)\n",
    "\n",
    "\n",
    "def get_map_cat(cle: str = \"cdparametresiseeaux\"):\n",
    "    # Ajoute à la gsheet les seuils récupérés de limitequal dans edc_resultats\n",
    "    # On fait un merge assez sauvage qui ne garde que les cas qui se passent bien.\n",
    "    dfgsheet = fetch_google_sheet()\n",
    "    dfseuil = results.select(cle, \"limitequal\").distinct().df().dropna()\n",
    "    dfseuil[\"limit\"] = (\n",
    "        dfseuil[\"limitequal\"]\n",
    "        .str.replace(\",\", \".\")\n",
    "        .str.extract(r\"([\\d.]+)\")\n",
    "        .astype(float)\n",
    "    )\n",
    "    return dfgsheet.merge(dfseuil[[cle, \"limit\"]])\n",
    "\n",
    "\n",
    "dfmapcat = get_map_cat()\n",
    "dfmapcat.groupby(\"categorie\").first()"
   ]
  },
  {
   "cell_type": "markdown",
   "metadata": {},
   "source": [
    "## 2. Fonctions de pivot\n",
    "\n",
    "Les fonctions suivantes permettent d'obtenir la table correspondant aux catégories souhaitées.\n",
    "* pivot_resultats_pour_categories fait pivoter la table des résultats en filtrant pour ne garder que les colonnes précisées dans categories\n",
    "* calcul_depassements ajoute les colonnes précisant si les seuils sont dépassés en utilisant les seuils de edc_resultats (pas utilisé ici)\n",
    "* fusion_prel_pivot_resultats fusionne avec la table edc_prelevements sur referenceprel en ajoutant les colonnes prel_col\n"
   ]
  },
  {
   "cell_type": "code",
   "execution_count": null,
   "metadata": {},
   "outputs": [],
   "source": [
    "def pivot_resultats_pour_categories(\n",
    "    categories: list,\n",
    "    index: str = \"referenceprel\",\n",
    "    columns: str = \"cdparametresiseeaux\",\n",
    "    values: str = \"valtraduite\",\n",
    "):\n",
    "    rel = results.select(index, columns, values).filter(f\"{columns} in {categories}\")\n",
    "    dfpiv = (\n",
    "        rel.df()\n",
    "        .drop_duplicates(subset=[index, columns])\n",
    "        .pivot(index=index, columns=columns)\n",
    "    )\n",
    "    dfpiv.columns = [multilevel[1] for multilevel in dfpiv.columns]\n",
    "    return dfpiv\n",
    "\n",
    "\n",
    "def calcul_depassements(dseuil: dict):\n",
    "    \"\"\"dseuil: dict of categorie(str): seuil(float)\n",
    "    return\n",
    "    \"\"\"\n",
    "    dfpiv = pivot_resultats_pour_categories(list(dseuil.keys()))\n",
    "    for col, seuil in dseuil.items():\n",
    "        dfpiv[\"b_\" + col] = dfpiv[col] > seuil\n",
    "    return dfpiv\n",
    "\n",
    "\n",
    "def fusion_prel_pivot_resultats(\n",
    "    dfpiv, prel_col=[\"inseecommuneprinc\", \"nomcommuneprinc\", \"dateprel\", \"de_partition\"]\n",
    "):\n",
    "    ref_col = \"referenceprel\"\n",
    "    dfprel = (\n",
    "        con.table(\"edc_prelevements\")\n",
    "        .select(ref_col, *prel_col)\n",
    "        .df()\n",
    "        .drop_duplicates(subset=ref_col)\n",
    "        .set_index(ref_col)\n",
    "    )\n",
    "    dfmerge = dfprel.merge(\n",
    "        dfpiv, left_index=True, right_index=True, validate=\"one_to_one\"\n",
    "    )\n",
    "    return dfmerge"
   ]
  },
  {
   "cell_type": "markdown",
   "metadata": {},
   "source": [
    "## 3. Application aux nitrites\n",
    "\n",
    "\n",
    "Nous voulons maintenant avoir les résultats pour les nitrites.\n",
    "Les détails de ce qu'on veut sont disponibles sur [ce Google Doc](https://docs.google.com/document/d/1foeVEWU6Kf12Fo-_Vj3vVwyE-3LXGzZPlofEYDCcstk/edit?tab=t.0)\n",
    "\n",
    "Besoin de \n",
    "\n",
    "* Filtre temporel\n",
    "    * (à choisir en premier)\n",
    "    * Résultats des dernières analyses\n",
    "    * OU Bilan annuel (2020 -> 2024)\n",
    "    * pour le moment seul \"résultat des dernières analyses\" est décrit, on se concentre là-dessus.\n",
    "\n",
    "\n",
    "* Filtres par catégories de polluants [Lien Google Sheets](https://docs.google.com/spreadsheets/d/1a5ywbeeu5_T8F3707wIC8WX86_0577wK/edit?usp=sharing&ouid=115470011005689616061&rtpof=true&sd=true )\n",
    "    * pour rappel cf. première cellule on utilise un autre tableau Google Sheet, plus commode\n",
    "    * L'affichage dépend du type de polluant sélectionné\n",
    "    * Ce notebook : nitrites et nitrates\n",
    "\n",
    "\n",
    "* Si une commune contient plusieurs UDI, le résultat pire cas est affiché (une seule UDI dépasse une norme, la commune passe en orange / rouge)\n",
    "    -> pas traité ici\n",
    "\n",
    "\n",
    "* Nitrites, 5 situations:\n",
    "    * Nitrates < 25 mg/L et nitrites < 0,5 mg/L (eau conforme)\n",
    "    * Nitrates entre 25 et 40 mg/L et nitrites < 0,5 mg/L (eau conforme)\n",
    "    * Nitrates entre 40 et 50 mg/L et nitrites < 0,5 mg/L (eau conforme)\n",
    "    * Nitrates entre 50 et 100 mg/L et/ou nitrites > 0,5 mg/L (eau non conforme) (fait passer l’affichage total polluant en rouge)\n",
    "    * Nitrates > 100 mg/L et/ou nitrites > 0,5 mg/L (eau non conforme) (fait passer l’affichage total polluant en rouge)\n"
   ]
  },
  {
   "cell_type": "code",
   "execution_count": null,
   "metadata": {
    "scrolled": true
   },
   "outputs": [],
   "source": [
    "dfnitrite = dfmapcat.query(\"categorie=='nitrite'\")\n",
    "dfnitrite"
   ]
  },
  {
   "cell_type": "code",
   "execution_count": null,
   "metadata": {},
   "outputs": [],
   "source": [
    "dfpiv = pivot_resultats_pour_categories([\"NO3\", \"NO2\", \"NO3_NO2\"])\n",
    "dffus = fusion_prel_pivot_resultats(dfpiv)\n",
    "dffus"
   ]
  },
  {
   "cell_type": "code",
   "execution_count": null,
   "metadata": {},
   "outputs": [],
   "source": [
    "# Y a-t-il des cas où on n'a pas NO2 mais NO3_NO2 ?\n",
    "dffus[(dffus[\"NO2\"].isna()) & (~dffus[\"NO3_NO2\"].isna())]"
   ]
  },
  {
   "cell_type": "code",
   "execution_count": null,
   "metadata": {},
   "outputs": [],
   "source": [
    "# Y a-t-il des cas où on n'a pas NO3 mais NO3_NO2 ?\n",
    "dffus[(dffus[\"NO3\"].isna()) & (~dffus[\"NO3_NO2\"].isna())]"
   ]
  },
  {
   "cell_type": "code",
   "execution_count": null,
   "metadata": {},
   "outputs": [],
   "source": [
    "# Y a-t-il des cas où on n'a ni NO2 ni NO3 mais NO3_NO2 ? (tant pis pour eux...)\n",
    "dffus[(dffus[\"NO2\"].isna()) & (dffus[\"NO3\"].isna()) & (~dffus[\"NO3_NO2\"].isna())]"
   ]
  },
  {
   "cell_type": "code",
   "execution_count": null,
   "metadata": {},
   "outputs": [],
   "source": [
    "# On regarde les distributions des paramètres d'intérêt\n",
    "\n",
    "import numpy as np\n",
    "\n",
    "dffus[[\"NO3\", \"NO2\"]].hist(bins=np.linspace(0, 100, 100), log=True)"
   ]
  },
  {
   "cell_type": "markdown",
   "metadata": {},
   "source": [
    "### Calcul de l'arbre de décision\n",
    "\n",
    "On définit une catégorie pour chaque cas :\n",
    "* 0:    Pas de données pour NO2 et NO3 (si un seul disponible on consière que l'autre est à 0 (!!!)\n",
    "* 1:    Nitrates < 25 mg/L et nitrites < 0,5 mg/L (eau conforme)\n",
    "* 2:    Nitrates entre 25 et 40 mg/L et nitrites < 0,5 mg/L (eau conforme)\n",
    "* 3:    Nitrates entre 40 et 50 mg/L et nitrites < 0,5 mg/L (eau conforme)\n",
    "* 4:    Nitrates entre 50 et 100 mg/L et/ou nitrites > 0,5 mg/L (eau non conforme) (fait passer l’affichage total polluant en rouge)\n",
    "* 5:    Nitrates > 100 mg/L et/ou nitrites > 0,5 mg/L (eau non conforme) (fait passer l’affichage total polluant en rouge)\n"
   ]
  },
  {
   "cell_type": "code",
   "execution_count": null,
   "metadata": {},
   "outputs": [],
   "source": [
    "def complete_nitrite_nitrate(row):\n",
    "    NO2 = row[\"NO2\"]\n",
    "    NO3 = row[\"NO3\"]\n",
    "    NO3_NO2 = row[\"NO3_NO2\"]  # Nitrates/50 + Nitrites/3 \t= NO3/50 + N02/3\n",
    "    if np.isnan(NO2) and np.isnan(NO2):\n",
    "        return None, None\n",
    "    if np.isnan(NO2):\n",
    "        NO2 = 0 if np.isnan(NO3_NO2) else 3 * (NO3_NO2 - NO3 / 50)\n",
    "    if np.isnan(NO3):\n",
    "        NO3 = 0 if np.isnan(NO3_NO2) else 50 * (NO3_NO2 - NO2 / 3)\n",
    "    return NO2, NO3\n",
    "\n",
    "\n",
    "def arbre_decision(row):\n",
    "    nitrite, nitrate = complete_nitrite_nitrate(row)\n",
    "    if nitrate is None and nitrite is None:\n",
    "        return 0\n",
    "    elif nitrate < 25 and nitrite < 0.5:\n",
    "        return 1\n",
    "    elif nitrate < 40 and nitrite < 0.5:\n",
    "        return 2\n",
    "    elif nitrate < 50 and nitrite < 0.5:\n",
    "        return 3\n",
    "    elif nitrate > 100 or nitrite >= 0.5:\n",
    "        return 5  #!\n",
    "    else:\n",
    "        return 4\n",
    "\n",
    "\n",
    "dffus[\"resultat\"] = dffus.apply(arbre_decision, axis=1)\n",
    "dffus"
   ]
  },
  {
   "cell_type": "markdown",
   "metadata": {},
   "source": [
    "## 4. Sanity check et visualisation des résultats\n",
    "\n",
    "On garde uniquement les prélévements qui ont des résultats > 0, et la date du dernier prélèvement.\n",
    "\n",
    "On affiche selon un code couleur qui va bien."
   ]
  },
  {
   "cell_type": "code",
   "execution_count": null,
   "metadata": {},
   "outputs": [],
   "source": [
    "dfres = (\n",
    "    dffus.query(\"resultat>0\")\n",
    "    .sort_values([\"dateprel\", \"inseecommuneprinc\"])\n",
    "    .groupby(\"inseecommuneprinc\", as_index=False)\n",
    "    .last()\n",
    ")\n",
    "dfres.resultat.value_counts()"
   ]
  },
  {
   "cell_type": "code",
   "execution_count": null,
   "metadata": {},
   "outputs": [],
   "source": [
    "!uv pip install geopandas shapely folium matplotlib mapclassify seaborn"
   ]
  },
  {
   "cell_type": "code",
   "execution_count": null,
   "metadata": {},
   "outputs": [],
   "source": [
    "import seaborn as sns\n",
    "\n",
    "pal = sns.color_palette(\"hls\", 10)\n",
    "pal"
   ]
  },
  {
   "cell_type": "code",
   "execution_count": null,
   "metadata": {},
   "outputs": [],
   "source": [
    "import geopandas as gpd\n",
    "from shapely.geometry import Point\n",
    "\n",
    "cmap = pal.as_hex()[:5][\n",
    "    ::-1\n",
    "]  # On garde les 5 premières couleurs, inversées pour aller du vert au rouge\n",
    "dfgeo = (\n",
    "    con.table(\"laposte_communes\")\n",
    "    .df()[[\"code_commune_insee\", \"_geopoint\"]]\n",
    "    .set_index(\"code_commune_insee\")\n",
    "    .dropna()\n",
    ")\n",
    "dgeo = {k: Point(eval(v[\"_geopoint\"])[::-1]) for k, v in dfgeo.iterrows()}\n",
    "dfg = gpd.GeoDataFrame(\n",
    "    data=dfres, geometry=dfres[\"inseecommuneprinc\"].map(dgeo), crs=\"WGS84\"\n",
    ")\n",
    "dfg"
   ]
  },
  {
   "cell_type": "code",
   "execution_count": null,
   "metadata": {},
   "outputs": [],
   "source": [
    "dfg.explore(column=\"resultat\", categorical=True, cmap=cmap, marker_type=\"circle\")"
   ]
  }
 ],
 "metadata": {
  "kernelspec": {
   "display_name": "Python 3 (ipykernel)",
   "language": "python",
   "name": "python3"
  },
  "language_info": {
   "codemirror_mode": {
    "name": "ipython",
    "version": 3
   },
   "file_extension": ".py",
   "mimetype": "text/x-python",
   "name": "python",
   "nbconvert_exporter": "python",
   "pygments_lexer": "ipython3",
   "version": "3.12.7"
  }
 },
 "nbformat": 4,
 "nbformat_minor": 4
}
