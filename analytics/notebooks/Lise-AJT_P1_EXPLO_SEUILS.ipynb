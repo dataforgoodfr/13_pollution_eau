{
 "cells": [
  {
   "cell_type": "markdown",
   "id": "e957fd1f-4395-49bf-a1bc-fc03e0d672cc",
   "metadata": {},
   "source": [
    "# Lise - AJT / EXPLORATION DES SEUILS (P1 3-7/02/2024)\n",
    "***\n",
    "_Les parties indispensables à run sont indiquées avec la mention [TO RUN], afin de reproduire les analyses se situant sous ces sections._\n",
    "\n",
    "Ce notebook contient des analyses simples et très exploratoires (très peu de dataviz) - _le but étant la prise en main du sujet_, qui ont néanmoins permis de relever plusieurs observations et de soulever certaines interrogations pour la suite de la tâche (voir résumés par sections). "
   ]
  },
  {
   "cell_type": "markdown",
   "id": "0993dd4e-789c-4cb0-a8fe-05f8525ca906",
   "metadata": {},
   "source": [
    "## Infos du PDF eau-distrib-documentation\n",
    "\n",
    "***"
   ]
  },
  {
   "cell_type": "markdown",
   "id": "7e0d7ae4-fe94-4069-9895-f6ade56dfd40",
   "metadata": {},
   "source": [
    "UDI = Unité de distribution d'eau. Ensemble de canalisations de distribution de l’eau potable au sein duquel la qualité de l’eau délivrée est considérée comme homogène. La France compte plus de 25 300 unités de distribution.\n",
    "Peuvent englober les réseaux de distribution d'eau dans tout ou partie d'une ou plusieurs communes, suivant la situation locale. \n",
    "Eau du robinet recouvre 3 types d'installation dont UDI, donc ici on ne regarde que l'eau distribuée par commune a priori. \n",
    "\n",
    "En France, les exigences de qualité sont classées en deux groupes :\n",
    "* des __limites de qualité__ pour les paramètres dont la présence dans l’eau induit des risques immédiats ou à plus ou moins long terme pour la santé de la population. Ces limites de qualité concernent, d’une part, les paramètres microbiologiques et d’autre part, une trentaine de substances indésirables ou toxiques (nitrates, métaux, solvants chlorés, hydrocarbures aromatiques, pesticides, sous-produits de désinfection, etc.).\n",
    "* des __références de qualité__ pour une vingtaine de paramètres indicateurs de qualité, témoins du fonctionnement des installations de production et de distribution. Ces substances, qui n’ont pas d’incidence directe sur la santé aux teneurs normalement présentes dans l’eau, peuvent mettre en évidence un dysfonctionnement des installations de traitement ou être à l’origine d’inconfort ou de désagrément pour le consommateur.\n",
    "\n",
    "\n",
    "Valeurs:\n",
    "*  plvconformitebacterio\n",
    "Valeurs possibles : \"blanc\", \"C=conforme\", \"N=non conforme\", \"S (sans objet lorsqu'aucun paramètre microbio n'a été mesuré)\".\n",
    "* chimique:\n",
    "Valeurs possibles : \"blanc\", \"C=conforme\", \"N=non conforme\", \"D=conforme dans le cadre d’une dérogation\",\"S (sans objet lorsqu'aucun paramètre chimique n'a été mesuré)\"."
   ]
  },
  {
   "cell_type": "markdown",
   "id": "e0f951e6-02d1-49f9-afb8-338cd2929abf",
   "metadata": {},
   "source": [
    "## [TO RUN] Import Tables depuis la BDD"
   ]
  },
  {
   "cell_type": "code",
   "execution_count": null,
   "id": "536445bd-3862-42e8-a534-21a17583dd4b",
   "metadata": {},
   "outputs": [],
   "source": [
    "# Packages\n",
    "import numpy as np\n",
    "import seaborn as sns\n",
    "import matplotlib.pyplot as plt\n",
    "\n",
    "import duckdb"
   ]
  },
  {
   "cell_type": "code",
   "execution_count": 2,
   "id": "f3e4cb78-d22a-4e59-b898-8666154de0d7",
   "metadata": {},
   "outputs": [],
   "source": [
    "# Connexion à la base\n",
    "con = duckdb.connect(database=\"./../../database/data.duckdb\", read_only=True)"
   ]
  },
  {
   "cell_type": "code",
   "execution_count": 3,
   "id": "4be0af82-da0d-421b-8ca5-85e255e57d70",
   "metadata": {},
   "outputs": [
    {
     "name": "stdout",
     "output_type": "stream",
     "text": [
      "                name\n",
      "0      sise_communes\n",
      "1  sise_prelevements\n",
      "2     sise_resultats\n"
     ]
    }
   ],
   "source": [
    "# Tables dispo dans la bdd\n",
    "tables = con.execute(\"SHOW TABLES\").df()\n",
    "\n",
    "print(tables)"
   ]
  },
  {
   "cell_type": "code",
   "execution_count": 4,
   "id": "ced28728-4dbd-485a-9450-8d9e5164b080",
   "metadata": {},
   "outputs": [],
   "source": [
    "# TO RUN\n",
    "communes = con.table(\"sise_communes\").to_df()\n",
    "prelevements = con.table(\"sise_prelevements\").to_df()\n",
    "resultats = con.table(\"sise_resultats\").to_df()"
   ]
  },
  {
   "cell_type": "markdown",
   "id": "d4799731-99dc-40b6-adcb-c003095f77e6",
   "metadata": {
    "jp-MarkdownHeadingCollapsed": true
   },
   "source": [
    "## Vision globale des tables \n",
    "***\n",
    "=> info / head de chaque table pour prendre connaissance de leurs structures. "
   ]
  },
  {
   "cell_type": "code",
   "execution_count": 7,
   "id": "86fe7e8c-99b1-4c3f-95cd-777cd95bd2c5",
   "metadata": {},
   "outputs": [
    {
     "name": "stdout",
     "output_type": "stream",
     "text": [
      "<class 'pandas.core.frame.DataFrame'>\n",
      "RangeIndex: 49536 entries, 0 to 49535\n",
      "Data columns (total 6 columns):\n",
      " #   Column        Non-Null Count  Dtype         \n",
      "---  ------        --------------  -----         \n",
      " 0   inseecommune  49536 non-null  object        \n",
      " 1   nomcommune    49536 non-null  object        \n",
      " 2   quartier      49536 non-null  object        \n",
      " 3   cdreseau      49536 non-null  object        \n",
      " 4   nomreseau     49536 non-null  object        \n",
      " 5   debutalim     49536 non-null  datetime64[us]\n",
      "dtypes: datetime64[us](1), object(5)\n",
      "memory usage: 2.3+ MB\n"
     ]
    }
   ],
   "source": [
    "communes.info()"
   ]
  },
  {
   "cell_type": "code",
   "execution_count": 16,
   "id": "7d494d19-f533-4c8b-8a25-078e30c9eed0",
   "metadata": {},
   "outputs": [
    {
     "data": {
      "text/html": [
       "<div>\n",
       "<style scoped>\n",
       "    .dataframe tbody tr th:only-of-type {\n",
       "        vertical-align: middle;\n",
       "    }\n",
       "\n",
       "    .dataframe tbody tr th {\n",
       "        vertical-align: top;\n",
       "    }\n",
       "\n",
       "    .dataframe thead th {\n",
       "        text-align: right;\n",
       "    }\n",
       "</style>\n",
       "<table border=\"1\" class=\"dataframe\">\n",
       "  <thead>\n",
       "    <tr style=\"text-align: right;\">\n",
       "      <th></th>\n",
       "      <th>inseecommune</th>\n",
       "      <th>nomcommune</th>\n",
       "      <th>quartier</th>\n",
       "      <th>cdreseau</th>\n",
       "      <th>nomreseau</th>\n",
       "      <th>debutalim</th>\n",
       "    </tr>\n",
       "  </thead>\n",
       "  <tbody>\n",
       "    <tr>\n",
       "      <th>0</th>\n",
       "      <td>01001</td>\n",
       "      <td>ABERGEMENT-CLEMENCIAT (L')</td>\n",
       "      <td>-</td>\n",
       "      <td>001000556</td>\n",
       "      <td>BDS ST DIDIER/CHALARONNE</td>\n",
       "      <td>2010-09-07</td>\n",
       "    </tr>\n",
       "    <tr>\n",
       "      <th>1</th>\n",
       "      <td>01002</td>\n",
       "      <td>ABERGEMENT-DE-VAREY (L')</td>\n",
       "      <td>-</td>\n",
       "      <td>001000369</td>\n",
       "      <td>L'ABERGEMENT-DE-VAREY</td>\n",
       "      <td>2010-09-07</td>\n",
       "    </tr>\n",
       "    <tr>\n",
       "      <th>2</th>\n",
       "      <td>01004</td>\n",
       "      <td>AMBERIEU-EN-BUGEY</td>\n",
       "      <td>Vareilles</td>\n",
       "      <td>001000248</td>\n",
       "      <td>AMBERIEU VAREILLES</td>\n",
       "      <td>2010-09-07</td>\n",
       "    </tr>\n",
       "    <tr>\n",
       "      <th>3</th>\n",
       "      <td>01004</td>\n",
       "      <td>AMBERIEU-EN-BUGEY</td>\n",
       "      <td>St Germain_Brédevent</td>\n",
       "      <td>001000249</td>\n",
       "      <td>AMBERIEU SAINT GERMAIN DOUVRES</td>\n",
       "      <td>2010-09-07</td>\n",
       "    </tr>\n",
       "    <tr>\n",
       "      <th>4</th>\n",
       "      <td>01004</td>\n",
       "      <td>AMBERIEU-EN-BUGEY</td>\n",
       "      <td>ville</td>\n",
       "      <td>001000251</td>\n",
       "      <td>AMBERIEU VILLE</td>\n",
       "      <td>2010-09-07</td>\n",
       "    </tr>\n",
       "  </tbody>\n",
       "</table>\n",
       "</div>"
      ],
      "text/plain": [
       "  inseecommune                  nomcommune              quartier   cdreseau  \\\n",
       "0        01001  ABERGEMENT-CLEMENCIAT (L')                     -  001000556   \n",
       "1        01002    ABERGEMENT-DE-VAREY (L')                     -  001000369   \n",
       "2        01004           AMBERIEU-EN-BUGEY             Vareilles  001000248   \n",
       "3        01004           AMBERIEU-EN-BUGEY  St Germain_Brédevent  001000249   \n",
       "4        01004           AMBERIEU-EN-BUGEY                 ville  001000251   \n",
       "\n",
       "                        nomreseau  debutalim  \n",
       "0        BDS ST DIDIER/CHALARONNE 2010-09-07  \n",
       "1           L'ABERGEMENT-DE-VAREY 2010-09-07  \n",
       "2              AMBERIEU VAREILLES 2010-09-07  \n",
       "3  AMBERIEU SAINT GERMAIN DOUVRES 2010-09-07  \n",
       "4                  AMBERIEU VILLE 2010-09-07  "
      ]
     },
     "execution_count": 16,
     "metadata": {},
     "output_type": "execute_result"
    }
   ],
   "source": [
    "communes.head()"
   ]
  },
  {
   "cell_type": "code",
   "execution_count": 22,
   "id": "e97cdb82-3d31-46bb-b748-d7e739f17b90",
   "metadata": {},
   "outputs": [
    {
     "name": "stdout",
     "output_type": "stream",
     "text": [
      "<class 'pandas.core.frame.DataFrame'>\n",
      "RangeIndex: 416128 entries, 0 to 416127\n",
      "Data columns (total 18 columns):\n",
      " #   Column                      Non-Null Count   Dtype         \n",
      "---  ------                      --------------   -----         \n",
      " 0   cddept                      416128 non-null  object        \n",
      " 1   cdreseau                    416128 non-null  object        \n",
      " 2   inseecommuneprinc           416128 non-null  object        \n",
      " 3   nomcommuneprinc             416128 non-null  object        \n",
      " 4   cdreseauamont               198587 non-null  object        \n",
      " 5   nomreseauamont              198587 non-null  object        \n",
      " 6   pourcentdebit               180524 non-null  object        \n",
      " 7   referenceprel               416128 non-null  object        \n",
      " 8   dateprel                    416128 non-null  datetime64[us]\n",
      " 9   heureprel                   415870 non-null  object        \n",
      " 10  conclusionprel              416122 non-null  object        \n",
      " 11  ugelib                      416128 non-null  object        \n",
      " 12  distrlib                    416128 non-null  object        \n",
      " 13  moalib                      416128 non-null  object        \n",
      " 14  plvconformitebacterio       416125 non-null  object        \n",
      " 15  plvconformitechimique       416125 non-null  object        \n",
      " 16  plvconformitereferencebact  416125 non-null  object        \n",
      " 17  plvconformitereferencechim  416125 non-null  object        \n",
      "dtypes: datetime64[us](1), object(17)\n",
      "memory usage: 57.1+ MB\n"
     ]
    }
   ],
   "source": [
    "prelevements.info()"
   ]
  },
  {
   "cell_type": "code",
   "execution_count": 18,
   "id": "035ef027-5062-40ff-86cf-84eeee2252a2",
   "metadata": {},
   "outputs": [
    {
     "data": {
      "text/html": [
       "<div>\n",
       "<style scoped>\n",
       "    .dataframe tbody tr th:only-of-type {\n",
       "        vertical-align: middle;\n",
       "    }\n",
       "\n",
       "    .dataframe tbody tr th {\n",
       "        vertical-align: top;\n",
       "    }\n",
       "\n",
       "    .dataframe thead th {\n",
       "        text-align: right;\n",
       "    }\n",
       "</style>\n",
       "<table border=\"1\" class=\"dataframe\">\n",
       "  <thead>\n",
       "    <tr style=\"text-align: right;\">\n",
       "      <th></th>\n",
       "      <th>cddept</th>\n",
       "      <th>cdreseau</th>\n",
       "      <th>inseecommuneprinc</th>\n",
       "      <th>nomcommuneprinc</th>\n",
       "      <th>cdreseauamont</th>\n",
       "      <th>nomreseauamont</th>\n",
       "      <th>pourcentdebit</th>\n",
       "      <th>referenceprel</th>\n",
       "      <th>dateprel</th>\n",
       "      <th>heureprel</th>\n",
       "      <th>conclusionprel</th>\n",
       "      <th>ugelib</th>\n",
       "      <th>distrlib</th>\n",
       "      <th>moalib</th>\n",
       "      <th>plvconformitebacterio</th>\n",
       "      <th>plvconformitechimique</th>\n",
       "      <th>plvconformitereferencebact</th>\n",
       "      <th>plvconformitereferencechim</th>\n",
       "    </tr>\n",
       "  </thead>\n",
       "  <tbody>\n",
       "    <tr>\n",
       "      <th>0</th>\n",
       "      <td>001</td>\n",
       "      <td>001000003</td>\n",
       "      <td>01007</td>\n",
       "      <td>AMBRONAY</td>\n",
       "      <td>None</td>\n",
       "      <td>None</td>\n",
       "      <td>None</td>\n",
       "      <td>00100139034</td>\n",
       "      <td>2024-01-23</td>\n",
       "      <td>11h27</td>\n",
       "      <td>Eau d'alimentation conforme aux limites de qua...</td>\n",
       "      <td>SYND. EAUX REGION D'AMBERIEU-EN-B</td>\n",
       "      <td>SERA - SYNDICAT DES EAUX DE LA REGION D'AMBERI...</td>\n",
       "      <td>SERA - SYNDICAT DES EAUX DE LA REGION D'AMBERI...</td>\n",
       "      <td>C</td>\n",
       "      <td>C</td>\n",
       "      <td>N</td>\n",
       "      <td>C</td>\n",
       "    </tr>\n",
       "    <tr>\n",
       "      <th>1</th>\n",
       "      <td>001</td>\n",
       "      <td>001000003</td>\n",
       "      <td>01007</td>\n",
       "      <td>AMBRONAY</td>\n",
       "      <td>None</td>\n",
       "      <td>None</td>\n",
       "      <td>None</td>\n",
       "      <td>00100139393</td>\n",
       "      <td>2024-02-13</td>\n",
       "      <td>12h49</td>\n",
       "      <td>Eau d'alimentation conforme aux exigences de q...</td>\n",
       "      <td>SYND. EAUX REGION D'AMBERIEU-EN-B</td>\n",
       "      <td>SERA - SYNDICAT DES EAUX DE LA REGION D'AMBERI...</td>\n",
       "      <td>SERA - SYNDICAT DES EAUX DE LA REGION D'AMBERI...</td>\n",
       "      <td>C</td>\n",
       "      <td>C</td>\n",
       "      <td>C</td>\n",
       "      <td>C</td>\n",
       "    </tr>\n",
       "    <tr>\n",
       "      <th>2</th>\n",
       "      <td>001</td>\n",
       "      <td>001000003</td>\n",
       "      <td>01007</td>\n",
       "      <td>AMBRONAY</td>\n",
       "      <td>001001304</td>\n",
       "      <td>TTP (CLG) AMBRONAY</td>\n",
       "      <td>100 %</td>\n",
       "      <td>00100139969</td>\n",
       "      <td>2024-03-13</td>\n",
       "      <td>10h46</td>\n",
       "      <td>Eau d'alimentation conforme aux exigences de q...</td>\n",
       "      <td>SYND. EAUX REGION D'AMBERIEU-EN-B</td>\n",
       "      <td>SERA - SYNDICAT DES EAUX DE LA REGION D'AMBERI...</td>\n",
       "      <td>SERA - SYNDICAT DES EAUX DE LA REGION D'AMBERI...</td>\n",
       "      <td>C</td>\n",
       "      <td>C</td>\n",
       "      <td>C</td>\n",
       "      <td>C</td>\n",
       "    </tr>\n",
       "    <tr>\n",
       "      <th>3</th>\n",
       "      <td>001</td>\n",
       "      <td>001000003</td>\n",
       "      <td>01007</td>\n",
       "      <td>AMBRONAY</td>\n",
       "      <td>None</td>\n",
       "      <td>None</td>\n",
       "      <td>None</td>\n",
       "      <td>00100140209</td>\n",
       "      <td>2024-04-05</td>\n",
       "      <td>07h27</td>\n",
       "      <td>Eau d'alimentation conforme aux exigences de q...</td>\n",
       "      <td>SYND. EAUX REGION D'AMBERIEU-EN-B</td>\n",
       "      <td>SERA - SYNDICAT DES EAUX DE LA REGION D'AMBERI...</td>\n",
       "      <td>SERA - SYNDICAT DES EAUX DE LA REGION D'AMBERI...</td>\n",
       "      <td>C</td>\n",
       "      <td>C</td>\n",
       "      <td>C</td>\n",
       "      <td>C</td>\n",
       "    </tr>\n",
       "    <tr>\n",
       "      <th>4</th>\n",
       "      <td>001</td>\n",
       "      <td>001000003</td>\n",
       "      <td>01007</td>\n",
       "      <td>AMBRONAY</td>\n",
       "      <td>None</td>\n",
       "      <td>None</td>\n",
       "      <td>None</td>\n",
       "      <td>00100140543</td>\n",
       "      <td>2024-05-13</td>\n",
       "      <td>12h43</td>\n",
       "      <td>Eau d'alimentation conforme aux exigences de q...</td>\n",
       "      <td>SYND. EAUX REGION D'AMBERIEU-EN-B</td>\n",
       "      <td>SERA - SYNDICAT DES EAUX DE LA REGION D'AMBERI...</td>\n",
       "      <td>SERA - SYNDICAT DES EAUX DE LA REGION D'AMBERI...</td>\n",
       "      <td>C</td>\n",
       "      <td>C</td>\n",
       "      <td>C</td>\n",
       "      <td>C</td>\n",
       "    </tr>\n",
       "  </tbody>\n",
       "</table>\n",
       "</div>"
      ],
      "text/plain": [
       "  cddept   cdreseau inseecommuneprinc nomcommuneprinc cdreseauamont  \\\n",
       "0    001  001000003             01007        AMBRONAY          None   \n",
       "1    001  001000003             01007        AMBRONAY          None   \n",
       "2    001  001000003             01007        AMBRONAY     001001304   \n",
       "3    001  001000003             01007        AMBRONAY          None   \n",
       "4    001  001000003             01007        AMBRONAY          None   \n",
       "\n",
       "       nomreseauamont pourcentdebit referenceprel   dateprel heureprel  \\\n",
       "0                None          None   00100139034 2024-01-23     11h27   \n",
       "1                None          None   00100139393 2024-02-13     12h49   \n",
       "2  TTP (CLG) AMBRONAY         100 %   00100139969 2024-03-13     10h46   \n",
       "3                None          None   00100140209 2024-04-05     07h27   \n",
       "4                None          None   00100140543 2024-05-13     12h43   \n",
       "\n",
       "                                      conclusionprel  \\\n",
       "0  Eau d'alimentation conforme aux limites de qua...   \n",
       "1  Eau d'alimentation conforme aux exigences de q...   \n",
       "2  Eau d'alimentation conforme aux exigences de q...   \n",
       "3  Eau d'alimentation conforme aux exigences de q...   \n",
       "4  Eau d'alimentation conforme aux exigences de q...   \n",
       "\n",
       "                              ugelib  \\\n",
       "0  SYND. EAUX REGION D'AMBERIEU-EN-B   \n",
       "1  SYND. EAUX REGION D'AMBERIEU-EN-B   \n",
       "2  SYND. EAUX REGION D'AMBERIEU-EN-B   \n",
       "3  SYND. EAUX REGION D'AMBERIEU-EN-B   \n",
       "4  SYND. EAUX REGION D'AMBERIEU-EN-B   \n",
       "\n",
       "                                            distrlib  \\\n",
       "0  SERA - SYNDICAT DES EAUX DE LA REGION D'AMBERI...   \n",
       "1  SERA - SYNDICAT DES EAUX DE LA REGION D'AMBERI...   \n",
       "2  SERA - SYNDICAT DES EAUX DE LA REGION D'AMBERI...   \n",
       "3  SERA - SYNDICAT DES EAUX DE LA REGION D'AMBERI...   \n",
       "4  SERA - SYNDICAT DES EAUX DE LA REGION D'AMBERI...   \n",
       "\n",
       "                                              moalib plvconformitebacterio  \\\n",
       "0  SERA - SYNDICAT DES EAUX DE LA REGION D'AMBERI...                     C   \n",
       "1  SERA - SYNDICAT DES EAUX DE LA REGION D'AMBERI...                     C   \n",
       "2  SERA - SYNDICAT DES EAUX DE LA REGION D'AMBERI...                     C   \n",
       "3  SERA - SYNDICAT DES EAUX DE LA REGION D'AMBERI...                     C   \n",
       "4  SERA - SYNDICAT DES EAUX DE LA REGION D'AMBERI...                     C   \n",
       "\n",
       "  plvconformitechimique plvconformitereferencebact plvconformitereferencechim  \n",
       "0                     C                          N                          C  \n",
       "1                     C                          C                          C  \n",
       "2                     C                          C                          C  \n",
       "3                     C                          C                          C  \n",
       "4                     C                          C                          C  "
      ]
     },
     "execution_count": 18,
     "metadata": {},
     "output_type": "execute_result"
    }
   ],
   "source": [
    "prelevements.head()"
   ]
  },
  {
   "cell_type": "code",
   "execution_count": 19,
   "id": "99f0a80a-f7b3-4b06-ab49-88cf73e9d233",
   "metadata": {},
   "outputs": [
    {
     "name": "stdout",
     "output_type": "stream",
     "text": [
      "<class 'pandas.core.frame.DataFrame'>\n",
      "RangeIndex: 12386451 entries, 0 to 12386450\n",
      "Data columns (total 17 columns):\n",
      " #   Column                    Dtype  \n",
      "---  ------                    -----  \n",
      " 0   cddept                    object \n",
      " 1   referenceprel             object \n",
      " 2   cdparametresiseeaux       object \n",
      " 3   cdparametre               float64\n",
      " 4   libmajparametre           object \n",
      " 5   libminparametre           object \n",
      " 6   libwebparametre           object \n",
      " 7   qualitparam               object \n",
      " 8   insituana                 object \n",
      " 9   rqana                     object \n",
      " 10  cdunitereferencesiseeaux  object \n",
      " 11  cdunitereference          object \n",
      " 12  limitequal                object \n",
      " 13  refqual                   object \n",
      " 14  valtraduite               float64\n",
      " 15  casparam                  object \n",
      " 16  referenceanl              object \n",
      "dtypes: float64(2), object(15)\n",
      "memory usage: 1.6+ GB\n"
     ]
    }
   ],
   "source": [
    "resultats.info()"
   ]
  },
  {
   "cell_type": "code",
   "execution_count": 21,
   "id": "3f2504b1-4a9f-49ee-85d6-1fea8212832a",
   "metadata": {},
   "outputs": [
    {
     "data": {
      "text/html": [
       "<div>\n",
       "<style scoped>\n",
       "    .dataframe tbody tr th:only-of-type {\n",
       "        vertical-align: middle;\n",
       "    }\n",
       "\n",
       "    .dataframe tbody tr th {\n",
       "        vertical-align: top;\n",
       "    }\n",
       "\n",
       "    .dataframe thead th {\n",
       "        text-align: right;\n",
       "    }\n",
       "</style>\n",
       "<table border=\"1\" class=\"dataframe\">\n",
       "  <thead>\n",
       "    <tr style=\"text-align: right;\">\n",
       "      <th></th>\n",
       "      <th>cddept</th>\n",
       "      <th>referenceprel</th>\n",
       "      <th>cdparametresiseeaux</th>\n",
       "      <th>cdparametre</th>\n",
       "      <th>libmajparametre</th>\n",
       "      <th>libminparametre</th>\n",
       "      <th>libwebparametre</th>\n",
       "      <th>qualitparam</th>\n",
       "      <th>insituana</th>\n",
       "      <th>rqana</th>\n",
       "      <th>cdunitereferencesiseeaux</th>\n",
       "      <th>cdunitereference</th>\n",
       "      <th>limitequal</th>\n",
       "      <th>refqual</th>\n",
       "      <th>valtraduite</th>\n",
       "      <th>casparam</th>\n",
       "      <th>referenceanl</th>\n",
       "    </tr>\n",
       "  </thead>\n",
       "  <tbody>\n",
       "    <tr>\n",
       "      <th>0</th>\n",
       "      <td>001</td>\n",
       "      <td>00100138503</td>\n",
       "      <td>ALTMICR</td>\n",
       "      <td>1370.0</td>\n",
       "      <td>ALUMINIUM TOTAL µG/L</td>\n",
       "      <td>Aluminium total µg/l</td>\n",
       "      <td>None</td>\n",
       "      <td>N</td>\n",
       "      <td>L</td>\n",
       "      <td>&lt;10</td>\n",
       "      <td>µg/L</td>\n",
       "      <td>133</td>\n",
       "      <td>None</td>\n",
       "      <td>&lt;=200 µg/L</td>\n",
       "      <td>0.00</td>\n",
       "      <td>7429-90-5</td>\n",
       "      <td>00100147233</td>\n",
       "    </tr>\n",
       "    <tr>\n",
       "      <th>1</th>\n",
       "      <td>001</td>\n",
       "      <td>00100138503</td>\n",
       "      <td>ASP</td>\n",
       "      <td>6489.0</td>\n",
       "      <td>ASPECT (QUALITATIF)</td>\n",
       "      <td>Aspect (qualitatif)</td>\n",
       "      <td>None</td>\n",
       "      <td>O</td>\n",
       "      <td>L</td>\n",
       "      <td>Aspect normal</td>\n",
       "      <td>SANS OBJET</td>\n",
       "      <td>X</td>\n",
       "      <td>None</td>\n",
       "      <td>None</td>\n",
       "      <td>0.00</td>\n",
       "      <td>None</td>\n",
       "      <td>00100147232</td>\n",
       "    </tr>\n",
       "    <tr>\n",
       "      <th>2</th>\n",
       "      <td>001</td>\n",
       "      <td>00100138503</td>\n",
       "      <td>ASP</td>\n",
       "      <td>6489.0</td>\n",
       "      <td>ASPECT (QUALITATIF)</td>\n",
       "      <td>Aspect (qualitatif)</td>\n",
       "      <td>None</td>\n",
       "      <td>O</td>\n",
       "      <td>L</td>\n",
       "      <td>Aspect normal</td>\n",
       "      <td>SANS OBJET</td>\n",
       "      <td>X</td>\n",
       "      <td>None</td>\n",
       "      <td>None</td>\n",
       "      <td>0.00</td>\n",
       "      <td>None</td>\n",
       "      <td>00100147233</td>\n",
       "    </tr>\n",
       "    <tr>\n",
       "      <th>3</th>\n",
       "      <td>001</td>\n",
       "      <td>00100138503</td>\n",
       "      <td>CL2LIB</td>\n",
       "      <td>1398.0</td>\n",
       "      <td>CHLORE LIBRE</td>\n",
       "      <td>Chlore libre</td>\n",
       "      <td>None</td>\n",
       "      <td>N</td>\n",
       "      <td>T</td>\n",
       "      <td>0,30</td>\n",
       "      <td>mg(Cl2)/L</td>\n",
       "      <td>165</td>\n",
       "      <td>None</td>\n",
       "      <td>None</td>\n",
       "      <td>0.30</td>\n",
       "      <td>None</td>\n",
       "      <td>None</td>\n",
       "    </tr>\n",
       "    <tr>\n",
       "      <th>4</th>\n",
       "      <td>001</td>\n",
       "      <td>00100138503</td>\n",
       "      <td>CL2TOT</td>\n",
       "      <td>1399.0</td>\n",
       "      <td>CHLORE TOTAL</td>\n",
       "      <td>Chlore total</td>\n",
       "      <td>None</td>\n",
       "      <td>N</td>\n",
       "      <td>T</td>\n",
       "      <td>0,34</td>\n",
       "      <td>mg(Cl2)/L</td>\n",
       "      <td>165</td>\n",
       "      <td>None</td>\n",
       "      <td>None</td>\n",
       "      <td>0.34</td>\n",
       "      <td>None</td>\n",
       "      <td>None</td>\n",
       "    </tr>\n",
       "  </tbody>\n",
       "</table>\n",
       "</div>"
      ],
      "text/plain": [
       "  cddept referenceprel cdparametresiseeaux  cdparametre       libmajparametre  \\\n",
       "0    001   00100138503             ALTMICR       1370.0  ALUMINIUM TOTAL µG/L   \n",
       "1    001   00100138503                 ASP       6489.0   ASPECT (QUALITATIF)   \n",
       "2    001   00100138503                 ASP       6489.0   ASPECT (QUALITATIF)   \n",
       "3    001   00100138503              CL2LIB       1398.0          CHLORE LIBRE   \n",
       "4    001   00100138503              CL2TOT       1399.0          CHLORE TOTAL   \n",
       "\n",
       "        libminparametre libwebparametre qualitparam insituana          rqana  \\\n",
       "0  Aluminium total µg/l            None           N         L            <10   \n",
       "1   Aspect (qualitatif)            None           O         L  Aspect normal   \n",
       "2   Aspect (qualitatif)            None           O         L  Aspect normal   \n",
       "3          Chlore libre            None           N         T           0,30   \n",
       "4          Chlore total            None           N         T           0,34   \n",
       "\n",
       "  cdunitereferencesiseeaux cdunitereference limitequal     refqual  \\\n",
       "0                     µg/L              133       None  <=200 µg/L   \n",
       "1               SANS OBJET                X       None        None   \n",
       "2               SANS OBJET                X       None        None   \n",
       "3                mg(Cl2)/L              165       None        None   \n",
       "4                mg(Cl2)/L              165       None        None   \n",
       "\n",
       "   valtraduite   casparam referenceanl  \n",
       "0         0.00  7429-90-5  00100147233  \n",
       "1         0.00       None  00100147232  \n",
       "2         0.00       None  00100147233  \n",
       "3         0.30       None         None  \n",
       "4         0.34       None         None  "
      ]
     },
     "execution_count": 21,
     "metadata": {},
     "output_type": "execute_result"
    }
   ],
   "source": [
    "resultats.head()"
   ]
  },
  {
   "cell_type": "markdown",
   "id": "8921d013-390f-469d-88f3-2c1f2e53a748",
   "metadata": {
    "jp-MarkdownHeadingCollapsed": true
   },
   "source": [
    "## Checks généraux tables:\n",
    "***\n",
    "\n",
    "=> Explorations simples de différentes variables sur les trois tables, et les observations qu'on peut déjà en tirer. \n",
    "\n",
    "__Résumé (exploration des variables):__\n",
    "* On a moins de 35000 codes insee pour 32,5k communes. \n",
    "* 1482 communes homonymes (à vérifier en cross check avec source officielle sur les municipalités). Ou peut-être représentent des cantons (regroupement de plusieurs anciennes communes ?). \n",
    "Par exemple une rapide recherche montre l'existence de plusieurs communes au nom de Sainte-Colombe: https://fr.wikipedia.org/wiki/Sainte-Colombe\n",
    "Dans tous les cas, privilégier le code insee pour catégoriser par municipalité, plutôt que le nom de commune. \n",
    "\n",
    "* Plusieurs réseaux par département mais pourquoi pas faire des analyses de contaminants par réseau.\n",
    "\n",
    "* 49k entrées pour la table communes vs 41.6k pour les prélèvements, qui elle-même n'est pas complète notamment pour les variables nomreseauamont, pourcentdebit...\n",
    "* Prélèvements sur 98% des communes mais uniquement sur l'année 2024.\n",
    "* Pourcentage de cas non conformes: 18.2 % (total de la table prélèvement). \n",
    "\n",
    "* Différents types de conformités (+ voir doc): limites de qualité & références de qualité\n",
    "* Les variables de conformité font référence au prélèvement global, non à chaque molécule (pour le détail par molécule voir analyse des dépassements de seuils). \n",
    "    \n",
    "/!\\ __Parmi les cas conformes, on a quand même des recommandations (ex: présence de perchlorates --> déconseillée aux nourrisons...\")__"
   ]
  },
  {
   "cell_type": "markdown",
   "id": "fa29789b-2ee9-4a50-90b4-dafc44d07c56",
   "metadata": {
    "jp-MarkdownHeadingCollapsed": true
   },
   "source": [
    "### COMMUNES"
   ]
  },
  {
   "cell_type": "markdown",
   "id": "6d62e7b6-2f95-4454-af4f-2be0645c8e4e",
   "metadata": {
    "jp-MarkdownHeadingCollapsed": true
   },
   "source": [
    "#### Noms vs Codes communes"
   ]
  },
  {
   "cell_type": "code",
   "execution_count": 26,
   "id": "eeb5f43a-e5d3-46fd-ae85-e189d3f9691b",
   "metadata": {},
   "outputs": [
    {
     "data": {
      "text/plain": [
       "32502"
      ]
     },
     "execution_count": 26,
     "metadata": {},
     "output_type": "execute_result"
    }
   ],
   "source": [
    "communes[\"nomcommune\"].nunique()"
   ]
  },
  {
   "cell_type": "code",
   "execution_count": 27,
   "id": "9044fdfc-4a77-4567-a239-d9be3317ceb4",
   "metadata": {},
   "outputs": [
    {
     "data": {
      "text/plain": [
       "34809"
      ]
     },
     "execution_count": 27,
     "metadata": {},
     "output_type": "execute_result"
    }
   ],
   "source": [
    "communes[\"inseecommune\"].nunique()"
   ]
  },
  {
   "cell_type": "code",
   "execution_count": 38,
   "id": "a21307f0-c833-4c67-bcc6-55cd83735c94",
   "metadata": {},
   "outputs": [],
   "source": [
    "duplic_communes = (\n",
    "    communes.groupby(\"nomcommune\")[\"inseecommune\"]\n",
    "    .nunique()\n",
    "    .reset_index()\n",
    "    .sort_values(by=\"inseecommune\", ascending=False)\n",
    ")"
   ]
  },
  {
   "cell_type": "code",
   "execution_count": 39,
   "id": "15f3813f-fb5c-47f4-aced-bfc214216221",
   "metadata": {},
   "outputs": [
    {
     "data": {
      "text/html": [
       "<div>\n",
       "<style scoped>\n",
       "    .dataframe tbody tr th:only-of-type {\n",
       "        vertical-align: middle;\n",
       "    }\n",
       "\n",
       "    .dataframe tbody tr th {\n",
       "        vertical-align: top;\n",
       "    }\n",
       "\n",
       "    .dataframe thead th {\n",
       "        text-align: right;\n",
       "    }\n",
       "</style>\n",
       "<table border=\"1\" class=\"dataframe\">\n",
       "  <thead>\n",
       "    <tr style=\"text-align: right;\">\n",
       "      <th></th>\n",
       "      <th>nomcommune</th>\n",
       "      <th>inseecommune</th>\n",
       "    </tr>\n",
       "  </thead>\n",
       "  <tbody>\n",
       "    <tr>\n",
       "      <th>27011</th>\n",
       "      <td>SAINTE-COLOMBE</td>\n",
       "      <td>12</td>\n",
       "    </tr>\n",
       "    <tr>\n",
       "      <th>26656</th>\n",
       "      <td>SAINT-SAUVEUR</td>\n",
       "      <td>11</td>\n",
       "    </tr>\n",
       "    <tr>\n",
       "      <th>26546</th>\n",
       "      <td>SAINT-REMY</td>\n",
       "      <td>10</td>\n",
       "    </tr>\n",
       "    <tr>\n",
       "      <th>24028</th>\n",
       "      <td>SAINT-AUBIN</td>\n",
       "      <td>10</td>\n",
       "    </tr>\n",
       "    <tr>\n",
       "      <th>2432</th>\n",
       "      <td>BEAULIEU</td>\n",
       "      <td>10</td>\n",
       "    </tr>\n",
       "    <tr>\n",
       "      <th>...</th>\n",
       "      <td>...</td>\n",
       "      <td>...</td>\n",
       "    </tr>\n",
       "    <tr>\n",
       "      <th>2557</th>\n",
       "      <td>BEAUVOISIN</td>\n",
       "      <td>2</td>\n",
       "    </tr>\n",
       "    <tr>\n",
       "      <th>14368</th>\n",
       "      <td>LAGARRIGUE</td>\n",
       "      <td>2</td>\n",
       "    </tr>\n",
       "    <tr>\n",
       "      <th>31796</th>\n",
       "      <td>VILLIERS</td>\n",
       "      <td>2</td>\n",
       "    </tr>\n",
       "    <tr>\n",
       "      <th>10634</th>\n",
       "      <td>FERRIERE (LA)</td>\n",
       "      <td>2</td>\n",
       "    </tr>\n",
       "    <tr>\n",
       "      <th>26640</th>\n",
       "      <td>SAINT-SARDOS</td>\n",
       "      <td>2</td>\n",
       "    </tr>\n",
       "  </tbody>\n",
       "</table>\n",
       "<p>1482 rows × 2 columns</p>\n",
       "</div>"
      ],
      "text/plain": [
       "           nomcommune  inseecommune\n",
       "27011  SAINTE-COLOMBE            12\n",
       "26656   SAINT-SAUVEUR            11\n",
       "26546      SAINT-REMY            10\n",
       "24028     SAINT-AUBIN            10\n",
       "2432         BEAULIEU            10\n",
       "...               ...           ...\n",
       "2557       BEAUVOISIN             2\n",
       "14368      LAGARRIGUE             2\n",
       "31796        VILLIERS             2\n",
       "10634   FERRIERE (LA)             2\n",
       "26640    SAINT-SARDOS             2\n",
       "\n",
       "[1482 rows x 2 columns]"
      ]
     },
     "execution_count": 39,
     "metadata": {},
     "output_type": "execute_result"
    }
   ],
   "source": [
    "duplic_communes[duplic_communes[\"inseecommune\"] > 1]"
   ]
  },
  {
   "cell_type": "code",
   "execution_count": 42,
   "id": "4d95d739-d259-4ebc-844f-706ce264ab4b",
   "metadata": {},
   "outputs": [
    {
     "data": {
      "text/html": [
       "<div>\n",
       "<style scoped>\n",
       "    .dataframe tbody tr th:only-of-type {\n",
       "        vertical-align: middle;\n",
       "    }\n",
       "\n",
       "    .dataframe tbody tr th {\n",
       "        vertical-align: top;\n",
       "    }\n",
       "\n",
       "    .dataframe thead th {\n",
       "        text-align: right;\n",
       "    }\n",
       "</style>\n",
       "<table border=\"1\" class=\"dataframe\">\n",
       "  <thead>\n",
       "    <tr style=\"text-align: right;\">\n",
       "      <th></th>\n",
       "      <th>inseecommune</th>\n",
       "      <th>nomcommune</th>\n",
       "      <th>quartier</th>\n",
       "      <th>cdreseau</th>\n",
       "      <th>nomreseau</th>\n",
       "      <th>debutalim</th>\n",
       "    </tr>\n",
       "  </thead>\n",
       "  <tbody>\n",
       "    <tr>\n",
       "      <th>2666</th>\n",
       "      <td>05135</td>\n",
       "      <td>SAINTE-COLOMBE</td>\n",
       "      <td>-</td>\n",
       "      <td>005001294</td>\n",
       "      <td>SAINTE COLOMBE CHEF LIEU</td>\n",
       "      <td>2010-08-07</td>\n",
       "    </tr>\n",
       "    <tr>\n",
       "      <th>2667</th>\n",
       "      <td>05135</td>\n",
       "      <td>SAINTE-COLOMBE</td>\n",
       "      <td>-</td>\n",
       "      <td>005001295</td>\n",
       "      <td>LES BEGUES (STE COLOMBE)</td>\n",
       "      <td>2010-08-07</td>\n",
       "    </tr>\n",
       "    <tr>\n",
       "      <th>9023</th>\n",
       "      <td>17319</td>\n",
       "      <td>SAINTE-COLOMBE</td>\n",
       "      <td>totalité</td>\n",
       "      <td>017000475</td>\n",
       "      <td>R. DE MONTLIEU-MONTGUYON</td>\n",
       "      <td>2010-09-15</td>\n",
       "    </tr>\n",
       "    <tr>\n",
       "      <th>12759</th>\n",
       "      <td>25515</td>\n",
       "      <td>SAINTE-COLOMBE</td>\n",
       "      <td>-</td>\n",
       "      <td>025000744</td>\n",
       "      <td>CCGP SAINTE COLOMBE</td>\n",
       "      <td>2010-07-27</td>\n",
       "    </tr>\n",
       "    <tr>\n",
       "      <th>17718</th>\n",
       "      <td>33390</td>\n",
       "      <td>SAINTE-COLOMBE</td>\n",
       "      <td>-</td>\n",
       "      <td>033000454</td>\n",
       "      <td>EST-DU-LIBOURNAIS</td>\n",
       "      <td>2010-10-15</td>\n",
       "    </tr>\n",
       "    <tr>\n",
       "      <th>18684</th>\n",
       "      <td>35262</td>\n",
       "      <td>SAINTE-COLOMBE</td>\n",
       "      <td>(sauf zone Ouest)</td>\n",
       "      <td>035000137</td>\n",
       "      <td>FORET THEIL_CITE_RETIERS</td>\n",
       "      <td>2010-08-05</td>\n",
       "    </tr>\n",
       "    <tr>\n",
       "      <th>21309</th>\n",
       "      <td>40252</td>\n",
       "      <td>SAINTE-COLOMBE</td>\n",
       "      <td>-</td>\n",
       "      <td>040000341</td>\n",
       "      <td>MARSEILLON</td>\n",
       "      <td>2014-01-01</td>\n",
       "    </tr>\n",
       "    <tr>\n",
       "      <th>23560</th>\n",
       "      <td>46260</td>\n",
       "      <td>SAINTE-COLOMBE</td>\n",
       "      <td>-</td>\n",
       "      <td>046000545</td>\n",
       "      <td>LONGUECOSTE</td>\n",
       "      <td>2010-08-14</td>\n",
       "    </tr>\n",
       "    <tr>\n",
       "      <th>26912</th>\n",
       "      <td>50457</td>\n",
       "      <td>SAINTE-COLOMBE</td>\n",
       "      <td>-</td>\n",
       "      <td>050000618</td>\n",
       "      <td>LA GATHE</td>\n",
       "      <td>2010-10-20</td>\n",
       "    </tr>\n",
       "    <tr>\n",
       "      <th>38672</th>\n",
       "      <td>69189</td>\n",
       "      <td>SAINTE-COLOMBE</td>\n",
       "      <td>-</td>\n",
       "      <td>069000128</td>\n",
       "      <td>STE COLOMBE ST ROMAIN EN GAL</td>\n",
       "      <td>2010-09-07</td>\n",
       "    </tr>\n",
       "    <tr>\n",
       "      <th>42728</th>\n",
       "      <td>76569</td>\n",
       "      <td>SAINTE-COLOMBE</td>\n",
       "      <td>TOTALITE</td>\n",
       "      <td>076002272</td>\n",
       "      <td>STE COLOMBE</td>\n",
       "      <td>2010-08-17</td>\n",
       "    </tr>\n",
       "    <tr>\n",
       "      <th>43422</th>\n",
       "      <td>77404</td>\n",
       "      <td>SAINTE-COLOMBE</td>\n",
       "      <td>en totalité</td>\n",
       "      <td>077000347</td>\n",
       "      <td>SAINTE COLOMBE - S2E77</td>\n",
       "      <td>2010-09-03</td>\n",
       "    </tr>\n",
       "    <tr>\n",
       "      <th>48099</th>\n",
       "      <td>89339</td>\n",
       "      <td>SAINTE-COLOMBE</td>\n",
       "      <td>-</td>\n",
       "      <td>089000765</td>\n",
       "      <td>TPM ST-AGNAN</td>\n",
       "      <td>2010-08-02</td>\n",
       "    </tr>\n",
       "  </tbody>\n",
       "</table>\n",
       "</div>"
      ],
      "text/plain": [
       "      inseecommune      nomcommune           quartier   cdreseau  \\\n",
       "2666         05135  SAINTE-COLOMBE                  -  005001294   \n",
       "2667         05135  SAINTE-COLOMBE                  -  005001295   \n",
       "9023         17319  SAINTE-COLOMBE           totalité  017000475   \n",
       "12759        25515  SAINTE-COLOMBE                  -  025000744   \n",
       "17718        33390  SAINTE-COLOMBE                  -  033000454   \n",
       "18684        35262  SAINTE-COLOMBE  (sauf zone Ouest)  035000137   \n",
       "21309        40252  SAINTE-COLOMBE                  -  040000341   \n",
       "23560        46260  SAINTE-COLOMBE                  -  046000545   \n",
       "26912        50457  SAINTE-COLOMBE                  -  050000618   \n",
       "38672        69189  SAINTE-COLOMBE                  -  069000128   \n",
       "42728        76569  SAINTE-COLOMBE           TOTALITE  076002272   \n",
       "43422        77404  SAINTE-COLOMBE        en totalité  077000347   \n",
       "48099        89339  SAINTE-COLOMBE                  -  089000765   \n",
       "\n",
       "                          nomreseau  debutalim  \n",
       "2666       SAINTE COLOMBE CHEF LIEU 2010-08-07  \n",
       "2667       LES BEGUES (STE COLOMBE) 2010-08-07  \n",
       "9023       R. DE MONTLIEU-MONTGUYON 2010-09-15  \n",
       "12759           CCGP SAINTE COLOMBE 2010-07-27  \n",
       "17718             EST-DU-LIBOURNAIS 2010-10-15  \n",
       "18684      FORET THEIL_CITE_RETIERS 2010-08-05  \n",
       "21309                    MARSEILLON 2014-01-01  \n",
       "23560                   LONGUECOSTE 2010-08-14  \n",
       "26912                      LA GATHE 2010-10-20  \n",
       "38672  STE COLOMBE ST ROMAIN EN GAL 2010-09-07  \n",
       "42728                   STE COLOMBE 2010-08-17  \n",
       "43422        SAINTE COLOMBE - S2E77 2010-09-03  \n",
       "48099                  TPM ST-AGNAN 2010-08-02  "
      ]
     },
     "execution_count": 42,
     "metadata": {},
     "output_type": "execute_result"
    }
   ],
   "source": [
    "communes[communes[\"nomcommune\"] == \"SAINTE-COLOMBE\"]"
   ]
  },
  {
   "cell_type": "markdown",
   "id": "51926020-aaac-42ef-ba3d-abe1c12a4bc3",
   "metadata": {
    "jp-MarkdownHeadingCollapsed": true
   },
   "source": [
    "#### nomreseau "
   ]
  },
  {
   "cell_type": "code",
   "execution_count": 43,
   "id": "31cba6c6-7e8f-49b6-a18a-191253ca6c0c",
   "metadata": {},
   "outputs": [
    {
     "data": {
      "text/plain": [
       "22812"
      ]
     },
     "execution_count": 43,
     "metadata": {},
     "output_type": "execute_result"
    }
   ],
   "source": [
    "communes[\"nomreseau\"].nunique()"
   ]
  },
  {
   "cell_type": "code",
   "execution_count": 47,
   "id": "d1a41c7f-cb0a-4067-89ac-ae49542a6ae9",
   "metadata": {},
   "outputs": [],
   "source": [
    "# A quoi correspondent les noms de réseaux exactement ?\n",
    "# Est-ce que les réseaux sont regroupés par département par exemple ?\n",
    "# Voir si on peut quantifier les contaminations par réseau...\n",
    "\n",
    "communes[\"department\"] = communes[\"inseecommune\"].astype(str).str[:2]"
   ]
  },
  {
   "cell_type": "code",
   "execution_count": 51,
   "id": "d9e684a3-8f8b-497e-b249-f163d3befeeb",
   "metadata": {},
   "outputs": [
    {
     "data": {
      "text/html": [
       "<div>\n",
       "<style scoped>\n",
       "    .dataframe tbody tr th:only-of-type {\n",
       "        vertical-align: middle;\n",
       "    }\n",
       "\n",
       "    .dataframe tbody tr th {\n",
       "        vertical-align: top;\n",
       "    }\n",
       "\n",
       "    .dataframe thead th {\n",
       "        text-align: right;\n",
       "    }\n",
       "</style>\n",
       "<table border=\"1\" class=\"dataframe\">\n",
       "  <thead>\n",
       "    <tr style=\"text-align: right;\">\n",
       "      <th></th>\n",
       "      <th>inseecommune</th>\n",
       "      <th>nomcommune</th>\n",
       "      <th>quartier</th>\n",
       "      <th>cdreseau</th>\n",
       "      <th>nomreseau</th>\n",
       "      <th>debutalim</th>\n",
       "      <th>department</th>\n",
       "    </tr>\n",
       "  </thead>\n",
       "  <tbody>\n",
       "    <tr>\n",
       "      <th>43569</th>\n",
       "      <td>78003</td>\n",
       "      <td>ABLIS</td>\n",
       "      <td>-</td>\n",
       "      <td>078001060</td>\n",
       "      <td>ABLIS</td>\n",
       "      <td>2010-09-08</td>\n",
       "      <td>78</td>\n",
       "    </tr>\n",
       "    <tr>\n",
       "      <th>43570</th>\n",
       "      <td>78005</td>\n",
       "      <td>ACHERES</td>\n",
       "      <td>-</td>\n",
       "      <td>078000364</td>\n",
       "      <td>ACHERES</td>\n",
       "      <td>2013-11-21</td>\n",
       "      <td>78</td>\n",
       "    </tr>\n",
       "    <tr>\n",
       "      <th>43571</th>\n",
       "      <td>78006</td>\n",
       "      <td>ADAINVILLE</td>\n",
       "      <td>-</td>\n",
       "      <td>078000502</td>\n",
       "      <td>LA NOUE PLATE</td>\n",
       "      <td>2020-01-01</td>\n",
       "      <td>78</td>\n",
       "    </tr>\n",
       "    <tr>\n",
       "      <th>43572</th>\n",
       "      <td>78007</td>\n",
       "      <td>AIGREMONT</td>\n",
       "      <td>-</td>\n",
       "      <td>078000577</td>\n",
       "      <td>ORGEVAL</td>\n",
       "      <td>2010-09-08</td>\n",
       "      <td>78</td>\n",
       "    </tr>\n",
       "    <tr>\n",
       "      <th>43573</th>\n",
       "      <td>78009</td>\n",
       "      <td>ALLAINVILLE</td>\n",
       "      <td>-</td>\n",
       "      <td>078000555</td>\n",
       "      <td>PONTHEVRARD</td>\n",
       "      <td>2010-09-08</td>\n",
       "      <td>78</td>\n",
       "    </tr>\n",
       "    <tr>\n",
       "      <th>...</th>\n",
       "      <td>...</td>\n",
       "      <td>...</td>\n",
       "      <td>...</td>\n",
       "      <td>...</td>\n",
       "      <td>...</td>\n",
       "      <td>...</td>\n",
       "      <td>...</td>\n",
       "    </tr>\n",
       "    <tr>\n",
       "      <th>43885</th>\n",
       "      <td>78681</td>\n",
       "      <td>VILLIERS-LE-MAHIEU</td>\n",
       "      <td>-</td>\n",
       "      <td>078003580</td>\n",
       "      <td>SAINT MARTIN MONTFORT</td>\n",
       "      <td>2017-01-01</td>\n",
       "      <td>78</td>\n",
       "    </tr>\n",
       "    <tr>\n",
       "      <th>43886</th>\n",
       "      <td>78683</td>\n",
       "      <td>VILLIERS-SAINT-FREDERIC</td>\n",
       "      <td>-</td>\n",
       "      <td>078000593</td>\n",
       "      <td>VILLIERS SAINT FREDERIC</td>\n",
       "      <td>2010-09-08</td>\n",
       "      <td>78</td>\n",
       "    </tr>\n",
       "    <tr>\n",
       "      <th>43887</th>\n",
       "      <td>78686</td>\n",
       "      <td>VIROFLAY</td>\n",
       "      <td>Sedif</td>\n",
       "      <td>078000563</td>\n",
       "      <td>VELIZY</td>\n",
       "      <td>2010-09-08</td>\n",
       "      <td>78</td>\n",
       "    </tr>\n",
       "    <tr>\n",
       "      <th>43888</th>\n",
       "      <td>78686</td>\n",
       "      <td>VIROFLAY</td>\n",
       "      <td>quartier SEOP</td>\n",
       "      <td>078000615</td>\n",
       "      <td>VERSAILLES</td>\n",
       "      <td>2020-01-01</td>\n",
       "      <td>78</td>\n",
       "    </tr>\n",
       "    <tr>\n",
       "      <th>43889</th>\n",
       "      <td>78688</td>\n",
       "      <td>VOISINS-LE-BRETONNEUX</td>\n",
       "      <td>-</td>\n",
       "      <td>078000614</td>\n",
       "      <td>ST QUENTIN EN YVELINES</td>\n",
       "      <td>2016-01-01</td>\n",
       "      <td>78</td>\n",
       "    </tr>\n",
       "  </tbody>\n",
       "</table>\n",
       "<p>321 rows × 7 columns</p>\n",
       "</div>"
      ],
      "text/plain": [
       "      inseecommune               nomcommune       quartier   cdreseau  \\\n",
       "43569        78003                    ABLIS              -  078001060   \n",
       "43570        78005                  ACHERES              -  078000364   \n",
       "43571        78006               ADAINVILLE              -  078000502   \n",
       "43572        78007                AIGREMONT              -  078000577   \n",
       "43573        78009              ALLAINVILLE              -  078000555   \n",
       "...            ...                      ...            ...        ...   \n",
       "43885        78681       VILLIERS-LE-MAHIEU              -  078003580   \n",
       "43886        78683  VILLIERS-SAINT-FREDERIC              -  078000593   \n",
       "43887        78686                 VIROFLAY          Sedif  078000563   \n",
       "43888        78686                 VIROFLAY  quartier SEOP  078000615   \n",
       "43889        78688    VOISINS-LE-BRETONNEUX              -  078000614   \n",
       "\n",
       "                     nomreseau  debutalim department  \n",
       "43569                    ABLIS 2010-09-08         78  \n",
       "43570                  ACHERES 2013-11-21         78  \n",
       "43571            LA NOUE PLATE 2020-01-01         78  \n",
       "43572                  ORGEVAL 2010-09-08         78  \n",
       "43573              PONTHEVRARD 2010-09-08         78  \n",
       "...                        ...        ...        ...  \n",
       "43885    SAINT MARTIN MONTFORT 2017-01-01         78  \n",
       "43886  VILLIERS SAINT FREDERIC 2010-09-08         78  \n",
       "43887                   VELIZY 2010-09-08         78  \n",
       "43888               VERSAILLES 2020-01-01         78  \n",
       "43889   ST QUENTIN EN YVELINES 2016-01-01         78  \n",
       "\n",
       "[321 rows x 7 columns]"
      ]
     },
     "execution_count": 51,
     "metadata": {},
     "output_type": "execute_result"
    }
   ],
   "source": [
    "communes[communes[\"department\"] == \"78\"]  # OK DEPARTMENT"
   ]
  },
  {
   "cell_type": "code",
   "execution_count": 53,
   "id": "47310028-0ab7-4424-a100-a942602786bf",
   "metadata": {},
   "outputs": [
    {
     "data": {
      "text/html": [
       "<div>\n",
       "<style scoped>\n",
       "    .dataframe tbody tr th:only-of-type {\n",
       "        vertical-align: middle;\n",
       "    }\n",
       "\n",
       "    .dataframe tbody tr th {\n",
       "        vertical-align: top;\n",
       "    }\n",
       "\n",
       "    .dataframe thead th {\n",
       "        text-align: right;\n",
       "    }\n",
       "</style>\n",
       "<table border=\"1\" class=\"dataframe\">\n",
       "  <thead>\n",
       "    <tr style=\"text-align: right;\">\n",
       "      <th></th>\n",
       "      <th>department</th>\n",
       "      <th>nomreseau</th>\n",
       "    </tr>\n",
       "  </thead>\n",
       "  <tbody>\n",
       "    <tr>\n",
       "      <th>0</th>\n",
       "      <td>01</td>\n",
       "      <td>296</td>\n",
       "    </tr>\n",
       "    <tr>\n",
       "      <th>1</th>\n",
       "      <td>02</td>\n",
       "      <td>279</td>\n",
       "    </tr>\n",
       "    <tr>\n",
       "      <th>2</th>\n",
       "      <td>03</td>\n",
       "      <td>83</td>\n",
       "    </tr>\n",
       "    <tr>\n",
       "      <th>3</th>\n",
       "      <td>04</td>\n",
       "      <td>445</td>\n",
       "    </tr>\n",
       "    <tr>\n",
       "      <th>4</th>\n",
       "      <td>05</td>\n",
       "      <td>451</td>\n",
       "    </tr>\n",
       "    <tr>\n",
       "      <th>...</th>\n",
       "      <td>...</td>\n",
       "      <td>...</td>\n",
       "    </tr>\n",
       "    <tr>\n",
       "      <th>92</th>\n",
       "      <td>92</td>\n",
       "      <td>6</td>\n",
       "    </tr>\n",
       "    <tr>\n",
       "      <th>93</th>\n",
       "      <td>93</td>\n",
       "      <td>17</td>\n",
       "    </tr>\n",
       "    <tr>\n",
       "      <th>94</th>\n",
       "      <td>94</td>\n",
       "      <td>11</td>\n",
       "    </tr>\n",
       "    <tr>\n",
       "      <th>95</th>\n",
       "      <td>95</td>\n",
       "      <td>75</td>\n",
       "    </tr>\n",
       "    <tr>\n",
       "      <th>96</th>\n",
       "      <td>97</td>\n",
       "      <td>339</td>\n",
       "    </tr>\n",
       "  </tbody>\n",
       "</table>\n",
       "<p>97 rows × 2 columns</p>\n",
       "</div>"
      ],
      "text/plain": [
       "   department  nomreseau\n",
       "0          01        296\n",
       "1          02        279\n",
       "2          03         83\n",
       "3          04        445\n",
       "4          05        451\n",
       "..        ...        ...\n",
       "92         92          6\n",
       "93         93         17\n",
       "94         94         11\n",
       "95         95         75\n",
       "96         97        339\n",
       "\n",
       "[97 rows x 2 columns]"
      ]
     },
     "execution_count": 53,
     "metadata": {},
     "output_type": "execute_result"
    }
   ],
   "source": [
    "communes.groupby(\"department\")[\"nomreseau\"].nunique().reset_index()"
   ]
  },
  {
   "cell_type": "code",
   "execution_count": 59,
   "id": "4a779790-98f3-4244-b617-f355c7b91c42",
   "metadata": {},
   "outputs": [
    {
     "data": {
      "text/plain": [
       "<DatetimeArray>\n",
       "['2010-09-07 00:00:00', '2023-01-01 00:00:00', '2021-08-01 00:00:00',\n",
       " '2019-12-31 00:00:00', '2016-01-01 00:00:00', '2010-01-01 00:00:00',\n",
       " '2024-07-01 00:00:00', '2019-01-01 00:00:00', '2022-07-19 00:00:00',\n",
       " '2023-11-01 00:00:00',\n",
       " ...\n",
       " '2024-05-03 00:00:00', '2024-12-26 00:00:00', '2019-08-26 00:00:00',\n",
       " '2015-05-04 00:00:00', '2014-01-27 00:00:00', '2018-07-18 00:00:00',\n",
       " '2019-10-24 00:00:00', '2019-11-04 00:00:00', '2011-06-21 00:00:00',\n",
       " '2013-05-29 00:00:00']\n",
       "Length: 2012, dtype: datetime64[us]"
      ]
     },
     "execution_count": 59,
     "metadata": {},
     "output_type": "execute_result"
    }
   ],
   "source": [
    "communes[\"debutalim\"].unique()\n",
    "\n",
    "# A creuser"
   ]
  },
  {
   "cell_type": "markdown",
   "id": "d9598027-c796-4312-9469-3a77c7aa18fb",
   "metadata": {
    "jp-MarkdownHeadingCollapsed": true
   },
   "source": [
    "### PRELEVEMENTS"
   ]
  },
  {
   "cell_type": "code",
   "execution_count": 63,
   "id": "ec9bc300-c751-48f0-b074-7663fc26ab6f",
   "metadata": {},
   "outputs": [
    {
     "data": {
      "text/plain": [
       "34349"
      ]
     },
     "execution_count": 63,
     "metadata": {},
     "output_type": "execute_result"
    }
   ],
   "source": [
    "prelevements[\n",
    "    \"inseecommuneprinc\"\n",
    "].nunique()  # on n'a pas toutes les communes (34 809 dans la table communes)"
   ]
  },
  {
   "cell_type": "code",
   "execution_count": 70,
   "id": "0603d963-d49d-4372-b529-f63af7894d67",
   "metadata": {},
   "outputs": [
    {
     "data": {
      "text/plain": [
       "array([2024], dtype=int32)"
      ]
     },
     "execution_count": 70,
     "metadata": {},
     "output_type": "execute_result"
    }
   ],
   "source": [
    "prelevements[\"dateprel\"].dt.year.unique()"
   ]
  },
  {
   "cell_type": "code",
   "execution_count": 72,
   "id": "536b4613-c08f-40c8-acc1-e45a43eaad1b",
   "metadata": {},
   "outputs": [
    {
     "data": {
      "text/plain": [
       "array([None, '100 %', '0 %', '33 %', '34 %', '50 %', '84 %', '16 %',\n",
       "       '98 %', '2 %', '6 %', '94 %', '13 %', '87 %', '38 %', '62 %',\n",
       "       '71 %', '29 %', '67 %', '95 %', '5 %', '7 %', '93 %', '15 %',\n",
       "       '85 %', '64 %', '30 %', '70 %', '25 %', '75 %', '80 %', '10 %',\n",
       "       '90 %', '40 %', '60 %', '20 %', '58 %', '35 %', '45 %', '3 %',\n",
       "       '97 %', '47 %', '12 %', '72 %', '73 %', '27 %', '74 %', '26 %',\n",
       "       '65 %', '81 %', '19 %', '61 %', '76 %', '8 %', '14 %', '37 %',\n",
       "       '9 %', '86 %', '42 %', '44 %', '89 %', '11 %', '1 %', '99 %',\n",
       "       '66 %', '28 %', '78 %', '22 %', '53 %', '55 %', '92 %', '24 %',\n",
       "       '36 %', '77 %', '23 %', '18 %', '46 %', '59 %', '41 %', '56 %',\n",
       "       '51 %', '49 %', '57 %', '43 %', '48 %', '52 %', '82 %', '88 %',\n",
       "       '21 %', '4 %', '91 %', '31 %', '54 %', '69 %', '17 %', '32 %',\n",
       "       '68 %', '83 %', '63 %', '96 %', '79 %', '39 %'], dtype=object)"
      ]
     },
     "execution_count": 72,
     "metadata": {},
     "output_type": "execute_result"
    }
   ],
   "source": [
    "prelevements[\"pourcentdebit\"].unique()\n",
    "# Ok voir si cette info est utile ou pas."
   ]
  },
  {
   "cell_type": "code",
   "execution_count": 89,
   "id": "3e499c6d-719d-41b7-9653-7e6677bccd64",
   "metadata": {},
   "outputs": [
    {
     "data": {
      "text/plain": [
       "array([\"Eau d'alimentation conforme aux limites de qualité et non conforme aux références de qualité.\",\n",
       "       \"Eau d'alimentation conforme aux exigences de qualité en vigueur pour l'ensemble des paramètres mesurés.\",\n",
       "       \"Eau d'alimentation non-conforme aux exigences de qualité.\", ...,\n",
       "       \"Eau d'alimentation conforme aux limites de qualité définies par la réglementation en vigueur. Conductivité supérieure à la référence de qualité.\",\n",
       "       \"Eau d'alimentation conforme aux limites de qualité définies par la réglementation en vigueur. Le paramètre conductivité est inférieure à la référence de qualité.\",\n",
       "       \"Eau d'alimentation conforme aux limites de qualité définies par la réglementation en vigueur. Le paramètre conductivité est inférieur à l a référence de qualité.\"],\n",
       "      shape=(16767,), dtype=object)"
      ]
     },
     "execution_count": 89,
     "metadata": {},
     "output_type": "execute_result"
    }
   ],
   "source": [
    "prelevements[\"conclusionprel\"].unique()"
   ]
  },
  {
   "cell_type": "code",
   "execution_count": 93,
   "id": "c92def28-2947-46e6-a0ec-a227b510565e",
   "metadata": {},
   "outputs": [],
   "source": [
    "non_conforme = prelevements[\n",
    "    prelevements[\"conclusionprel\"].str.contains(\"non\", case=False, na=False)\n",
    "]"
   ]
  },
  {
   "cell_type": "code",
   "execution_count": 94,
   "id": "6e028c9e-e823-4b55-87fb-5de5bf46a4da",
   "metadata": {},
   "outputs": [],
   "source": [
    "conforme = prelevements[\n",
    "    ~prelevements[\"conclusionprel\"].str.contains(\"non\", case=False, na=False)\n",
    "]"
   ]
  },
  {
   "cell_type": "code",
   "execution_count": 95,
   "id": "2dce4db4-a84b-4f92-8ba3-39d70dee3d0b",
   "metadata": {},
   "outputs": [
    {
     "data": {
      "text/plain": [
       "array([\"Eau d'alimentation conforme aux limites de qualité et non conforme aux références de qualité.\",\n",
       "       \"Eau d'alimentation non-conforme aux exigences de qualité.\",\n",
       "       \"Eau d'alimentation non-conforme aux limites de qualité et conforme aux références de qualité.\",\n",
       "       ...,\n",
       "       \"Eau d'alimentation non conforme aux limites de qualité microbiologique en raison de la présence d’entérocoques. Compte tenu du niveau de contamination microbiologique significative, Un communiqué est diffusé à la population afin qu’elle applique les recommandations d’usages préconisées par l’ARS. Une enquête doit immédiatement être diligentée par l’exploitant afin de déterminer l'origine de la contamination et d'apporter les mesures correctives adaptées. Un prélèvement de recontrôle sera réalisé dans les meilleurs délais afin de vérifier le retour à une situation normale.\",\n",
       "       \"Eau d'alimentation non conforme aux limites de qualité microbiologique en raison de la présence d’entérocoques. Compte tenu du niveau de contamination microbiologique faible, Un prélèvement de recontrôle sera réalisé dans les meilleurs délais afin de vérifier le retour à une situation normale. La Conductivité est inférieur à la référence de qualité.\",\n",
       "       \"Eau d'alimentation non conforme aux limites de qualité microbiologique en raison de la présence d’entérocoques. Compte tenu du niveau de contamination microbiologique significative, Un communiqué est diffusé à la population afin qu’elle applique les recommandations d’usages préconisées par l’ARS. Une enquête doit immédiatement être diligentée par l’exploitant afin de déterminer l'origine de la contamination et d'apporter les mesures correctives adaptées. Un prélèvement de recontrôle sera réalisé dans les meilleurs délais afin de vérifier le retour à une situation normale. Conductivité inérieure à la référence.\"],\n",
       "      shape=(9312,), dtype=object)"
      ]
     },
     "execution_count": 95,
     "metadata": {},
     "output_type": "execute_result"
    }
   ],
   "source": [
    "non_conforme[\"conclusionprel\"].unique()"
   ]
  },
  {
   "cell_type": "code",
   "execution_count": 96,
   "id": "9b8e7f81-5220-4f81-9cff-a976d983e19c",
   "metadata": {},
   "outputs": [
    {
     "data": {
      "text/plain": [
       "array([\"Eau d'alimentation conforme aux exigences de qualité en vigueur pour l'ensemble des paramètres mesurés.\",\n",
       "       \"Eau d'alimentation conforme aux exigences de qualité en vigueur pour l'ensemble des paramètres mesurés. Présence de perchlorates >15 µg/l l a consommation de l'eau est déconseillée aux nourrissons de moins de 6 mois et aux femmes enceintes et allaitantes.\",\n",
       "       \"Eau d'alimentation conforme aux exigences de qualité en vigueur pour l'ensemble des paramètres mesurés. Présence de perchlorates >15 µg/l la consommation de l'eau est déconseillée aux nourrissons de moins de 6 mois et aux femmes enceintes et allaitantes.\",\n",
       "       ...,\n",
       "       \"Eau d'alimentation conforme aux limites de qualité définies par la réglementation en vigueur. Conductivité supérieure à la référence de qualité.\",\n",
       "       \"Eau d'alimentation conforme aux limites de qualité définies par la réglementation en vigueur. Le paramètre conductivité est inférieure à la référence de qualité.\",\n",
       "       \"Eau d'alimentation conforme aux limites de qualité définies par la réglementation en vigueur. Le paramètre conductivité est inférieur à l a référence de qualité.\"],\n",
       "      shape=(7455,), dtype=object)"
      ]
     },
     "execution_count": 96,
     "metadata": {},
     "output_type": "execute_result"
    }
   ],
   "source": [
    "conforme[\"conclusionprel\"].unique()"
   ]
  },
  {
   "cell_type": "code",
   "execution_count": 132,
   "id": "cac4a313-30fe-4c3d-b427-4ebf357f130a",
   "metadata": {},
   "outputs": [
    {
     "name": "stdout",
     "output_type": "stream",
     "text": [
      "Nombre de cas non conformes: 64061 vs nombre de cas conformes: 352067 \n",
      "Pourcentage de cas non conformes: 18.2 %.\n"
     ]
    }
   ],
   "source": [
    "print(\n",
    "    \"Nombre de cas non conformes:\",\n",
    "    len(non_conforme),\n",
    "    \"vs nombre de cas conformes:\",\n",
    "    len(conforme),\n",
    "    \"\\nPourcentage de cas non conformes:\",\n",
    "    round(len(non_conforme) / len(conforme) * 100, 2),\n",
    "    \"%.\",\n",
    ")"
   ]
  },
  {
   "cell_type": "code",
   "execution_count": 103,
   "id": "56ae699f-1ddc-4a9a-9ebc-e6f5af60798d",
   "metadata": {},
   "outputs": [
    {
     "data": {
      "text/plain": [
       "array(['C', 'N', 'S', None], dtype=object)"
      ]
     },
     "execution_count": 103,
     "metadata": {},
     "output_type": "execute_result"
    }
   ],
   "source": [
    "prelevements[\"plvconformitebacterio\"].unique()  # C, N, S, None\n",
    "\n",
    "# prelevements['plvconformitechimique'].unique() # C, N, S, None, D\n",
    "\n",
    "# prelevements['plvconformitereferencebact'].unique() # C, N, S, None\n",
    "\n",
    "# prelevements['plvconformitereferencechim'].unique() # C, N, S"
   ]
  },
  {
   "cell_type": "code",
   "execution_count": 122,
   "id": "af90f667-3d0f-435f-84fc-32f60c76f391",
   "metadata": {},
   "outputs": [
    {
     "data": {
      "text/plain": [
       "plvconformitebacterio\n",
       "C    92.733749\n",
       "S     7.123380\n",
       "N     0.142871\n",
       "Name: proportion, dtype: float64"
      ]
     },
     "execution_count": 122,
     "metadata": {},
     "output_type": "execute_result"
    }
   ],
   "source": [
    "conforme[\"plvconformitebacterio\"].value_counts(normalize=True) * 100"
   ]
  },
  {
   "cell_type": "code",
   "execution_count": 123,
   "id": "15e99bf3-fc81-484d-ac08-5a585d684955",
   "metadata": {},
   "outputs": [
    {
     "data": {
      "text/plain": [
       "plvconformitebacterio\n",
       "C    81.337517\n",
       "S    10.624580\n",
       "N     8.037903\n",
       "Name: proportion, dtype: float64"
      ]
     },
     "execution_count": 123,
     "metadata": {},
     "output_type": "execute_result"
    }
   ],
   "source": [
    "non_conforme[\"plvconformitebacterio\"].value_counts(normalize=True) * 100"
   ]
  },
  {
   "cell_type": "code",
   "execution_count": 114,
   "id": "a8cf5478-437f-49b2-8c3b-9b6332c5c58a",
   "metadata": {},
   "outputs": [
    {
     "data": {
      "text/plain": [
       "plvconformitechimique\n",
       "C    349694\n",
       "N      1622\n",
       "D       652\n",
       "S        98\n",
       "Name: count, dtype: int64"
      ]
     },
     "execution_count": 114,
     "metadata": {},
     "output_type": "execute_result"
    }
   ],
   "source": [
    "conforme[\"plvconformitechimique\"].value_counts()"
   ]
  },
  {
   "cell_type": "code",
   "execution_count": 118,
   "id": "410fe46e-a7c6-4320-a08c-7d57a2181d1b",
   "metadata": {},
   "outputs": [
    {
     "data": {
      "text/plain": [
       "plvconformitechimique\n",
       "C    50673\n",
       "N    13236\n",
       "D      147\n",
       "S        3\n",
       "Name: count, dtype: int64"
      ]
     },
     "execution_count": 118,
     "metadata": {},
     "output_type": "execute_result"
    }
   ],
   "source": [
    "non_conforme[\"plvconformitechimique\"].value_counts()"
   ]
  },
  {
   "cell_type": "code",
   "execution_count": 115,
   "id": "329e3436-e3d4-44d5-b85d-9ccb5c9d1f55",
   "metadata": {},
   "outputs": [
    {
     "data": {
      "text/plain": [
       "plvconformitereferencebact\n",
       "C    323471\n",
       "S     25079\n",
       "N      3516\n",
       "Name: count, dtype: int64"
      ]
     },
     "execution_count": 115,
     "metadata": {},
     "output_type": "execute_result"
    }
   ],
   "source": [
    "conforme[\"plvconformitereferencebact\"].value_counts()"
   ]
  },
  {
   "cell_type": "code",
   "execution_count": 119,
   "id": "3efa538b-f505-4bdd-b3bb-0fa51a552272",
   "metadata": {},
   "outputs": [
    {
     "data": {
      "text/plain": [
       "plvconformitereferencebact\n",
       "C    44602\n",
       "N    12651\n",
       "S     6806\n",
       "Name: count, dtype: int64"
      ]
     },
     "execution_count": 119,
     "metadata": {},
     "output_type": "execute_result"
    }
   ],
   "source": [
    "non_conforme[\"plvconformitereferencebact\"].value_counts()"
   ]
  },
  {
   "cell_type": "code",
   "execution_count": 116,
   "id": "665999ec-6021-4e71-a10a-5a9158b20625",
   "metadata": {},
   "outputs": [
    {
     "data": {
      "text/plain": [
       "plvconformitereferencechim\n",
       "C    327118\n",
       "N     24850\n",
       "S        98\n",
       "Name: count, dtype: int64"
      ]
     },
     "execution_count": 116,
     "metadata": {},
     "output_type": "execute_result"
    }
   ],
   "source": [
    "conforme[\"plvconformitereferencechim\"].value_counts()"
   ]
  },
  {
   "cell_type": "code",
   "execution_count": 120,
   "id": "d9015980-9db9-4a38-824e-d9a5b7edd131",
   "metadata": {},
   "outputs": [
    {
     "data": {
      "text/plain": [
       "plvconformitereferencechim\n",
       "N    41492\n",
       "C    22564\n",
       "S        3\n",
       "Name: count, dtype: int64"
      ]
     },
     "execution_count": 120,
     "metadata": {},
     "output_type": "execute_result"
    }
   ],
   "source": [
    "non_conforme[\"plvconformitereferencechim\"].value_counts()"
   ]
  },
  {
   "cell_type": "markdown",
   "id": "2e07a083-9521-435d-8bd9-44a0902c6885",
   "metadata": {
    "jp-MarkdownHeadingCollapsed": true
   },
   "source": [
    "### RESULTATS"
   ]
  },
  {
   "cell_type": "code",
   "execution_count": 139,
   "id": "af48b200-24e3-4cff-90b9-ed8b31e58a5e",
   "metadata": {},
   "outputs": [
    {
     "data": {
      "text/plain": [
       "array([None, '<=0 n/(100mL)', '<=0.1 µg/L', '<=0.01 µg/L', '<=5 µg/L',\n",
       "       '<=0.5 µg/L', '<=50 µg/L', '<=2 mg/L', '<=0,1 µg/L', '<=20 µg/L',\n",
       "       '<=0,5 mg/L', '<=10 µg/L', '<=50 mg/L', '<=1 mg/L', '<=100 µg/L',\n",
       "       '<=0,25 mg/L', '<=0,7 mg/L', '<=0,1 mg/L', '<=0,03 µg/L',\n",
       "       '<=0,5 µg/L', '<=3 µg/L', '<=1 µg/L', '<=1,5 mg/L',\n",
       "       '<=50 µg(CN)/L', '<=6 µg/L', '<=5 NG/(KG POIDS CORPOREL/J)',\n",
       "       '<=1 NFU', '<=0 NPP/100mL', '<=30 µg/L', '<=250 µg/L',\n",
       "       '<=700 µg/L', '<=2,5 µg/L', '<=2,4 mg/L', '<=0,1 ng/L',\n",
       "       '<=50.0 µg/L', '<=60 µg/L'], dtype=object)"
      ]
     },
     "execution_count": 139,
     "metadata": {},
     "output_type": "execute_result"
    }
   ],
   "source": [
    "resultats[\"limitequal\"].unique()"
   ]
  },
  {
   "cell_type": "code",
   "execution_count": 140,
   "id": "4c40f81b-e6a5-4c9e-8004-bd8cdd5fb037",
   "metadata": {},
   "outputs": [
    {
     "data": {
      "text/plain": [
       "array(['<=200 µg/L', None, '>=6,5 et <=9 unité pH', '<=25 °C',\n",
       "       '<=0 n/(100mL)', '>=200 et <=1100 µS/cm', '<=15 mg(Pt)/L',\n",
       "       '<=0,1 mg/L', '<=2 NFU', '<=1 mg/L', '<=50 µg/L', '<=0,2 mg/L',\n",
       "       '<=250 mg/L', '<=2 mg(C)/L', '<=100 Bq/L', '<=100.0 Bq/L',\n",
       "       '<=0,7 mg/L', '>=1 et <=2 SANS OBJET', '<=0,1 mSv/a', '<=200 mg/L',\n",
       "       '<=0,5 NFU', '<=5 mg(O2)/L', '<=0 NPP/100mL', '<=3 n',\n",
       "       '<=0.2 mg/L', '<=0,5 mg/L', '>=180 et <=1000 µS/cm', '<=700 µg/L'],\n",
       "      dtype=object)"
      ]
     },
     "execution_count": 140,
     "metadata": {},
     "output_type": "execute_result"
    }
   ],
   "source": [
    "resultats[\"refqual\"].unique()"
   ]
  },
  {
   "cell_type": "code",
   "execution_count": 144,
   "id": "09f1c073-3936-49cc-888f-4365d8e8a8e9",
   "metadata": {},
   "outputs": [
    {
     "data": {
      "text/plain": [
       "count    1.229607e+07\n",
       "mean     1.323320e+01\n",
       "std      7.964100e+01\n",
       "min     -3.870000e+01\n",
       "25%      0.000000e+00\n",
       "50%      0.000000e+00\n",
       "75%      0.000000e+00\n",
       "max      3.900000e+04\n",
       "Name: valtraduite, dtype: float64"
      ]
     },
     "execution_count": 144,
     "metadata": {},
     "output_type": "execute_result"
    }
   ],
   "source": [
    "resultats[\"valtraduite\"].describe()  # valeurs négatives ???"
   ]
  },
  {
   "cell_type": "code",
   "execution_count": 146,
   "id": "c19411d9-bba0-4607-87e7-35929dc9c3d9",
   "metadata": {},
   "outputs": [
    {
     "data": {
      "text/plain": [
       "array(['N', 'O'], dtype=object)"
      ]
     },
     "execution_count": 146,
     "metadata": {},
     "output_type": "execute_result"
    }
   ],
   "source": [
    "resultats[\"qualitparam\"].unique()"
   ]
  },
  {
   "cell_type": "code",
   "execution_count": 149,
   "id": "571eec60-ab6c-4ae9-93f9-8e873aeea503",
   "metadata": {},
   "outputs": [
    {
     "data": {
      "text/plain": [
       "array(['ALUMINIUM TOTAL µG/L', 'ASPECT (QUALITATIF)', 'CHLORE LIBRE', ...,\n",
       "       'TÉTRACHLOROBENZÈNE-1,2,3,5', 'ACIDE CHLORODIBROMACÉTIQUE',\n",
       "       \"T°C DE MESURE DE L'O2 DISSOUS\"], shape=(1337,), dtype=object)"
      ]
     },
     "execution_count": 149,
     "metadata": {},
     "output_type": "execute_result"
    }
   ],
   "source": [
    "resultats[\"libmajparametre\"].unique()"
   ]
  },
  {
   "cell_type": "code",
   "execution_count": 154,
   "id": "839da575-47e6-483a-9bd8-98ec62c91f5d",
   "metadata": {},
   "outputs": [
    {
     "data": {
      "text/plain": [
       "array([None], dtype=object)"
      ]
     },
     "execution_count": 154,
     "metadata": {},
     "output_type": "execute_result"
    }
   ],
   "source": [
    "resultats[\"libwebparametre\"].unique()  # vide"
   ]
  },
  {
   "cell_type": "code",
   "execution_count": 156,
   "id": "3761bda5-70e6-4ab5-a399-26f01262677b",
   "metadata": {},
   "outputs": [
    {
     "data": {
      "text/plain": [
       "0                                <10\n",
       "1                      Aspect normal\n",
       "2                      Aspect normal\n",
       "3                               0,30\n",
       "4                               0,34\n",
       "                      ...           \n",
       "12386446                         7,4\n",
       "12386447    Aucun changement anormal\n",
       "12386448                          <1\n",
       "12386449                        30,5\n",
       "12386450                        0,41\n",
       "Name: rqana, Length: 12386451, dtype: object"
      ]
     },
     "execution_count": 156,
     "metadata": {},
     "output_type": "execute_result"
    }
   ],
   "source": [
    "resultats[\"rqana\"]"
   ]
  },
  {
   "cell_type": "code",
   "execution_count": 158,
   "id": "696a97f9-0bc6-4a70-80f2-2f93691ad2df",
   "metadata": {},
   "outputs": [
    {
     "data": {
      "text/plain": [
       "count    1.229607e+07\n",
       "mean     1.323320e+01\n",
       "std      7.964100e+01\n",
       "min     -3.870000e+01\n",
       "25%      0.000000e+00\n",
       "50%      0.000000e+00\n",
       "75%      0.000000e+00\n",
       "max      3.900000e+04\n",
       "Name: valtraduite, dtype: float64"
      ]
     },
     "execution_count": 158,
     "metadata": {},
     "output_type": "execute_result"
    }
   ],
   "source": [
    "resultats[\"valtraduite\"].describe()"
   ]
  },
  {
   "cell_type": "markdown",
   "id": "8c33b44c-a3de-45eb-b715-a71b495917f3",
   "metadata": {
    "jp-MarkdownHeadingCollapsed": true
   },
   "source": [
    "## [TO RUN] - SÉLECTION / CRÉATION DE VARIABLES ET LIENS TABLES\n",
    "***\n",
    "DF qui servira pour les analyses suivantes (sous python).\n",
    "\n",
    "_Nous n'utiliserons pas la table communes, car toutes les infos d'intérêt relatives aux communes sont présentes dans la table prelevements._"
   ]
  },
  {
   "cell_type": "code",
   "execution_count": 6,
   "id": "c723d404-208b-49a5-9121-fa4db4893b44",
   "metadata": {},
   "outputs": [],
   "source": [
    "col_resultats = [\n",
    "    \"referenceprel\",\n",
    "    \"qualitparam\",\n",
    "    \"libmajparametre\",\n",
    "    \"rqana\",\n",
    "    \"cdunitereferencesiseeaux\",\n",
    "    \"limitequal\",\n",
    "    \"refqual\",\n",
    "    \"valtraduite\",\n",
    "]\n",
    "\n",
    "use_resultats = resultats[col_resultats]"
   ]
  },
  {
   "cell_type": "code",
   "execution_count": 15,
   "id": "507a63e8-f191-44c4-af85-ab12d8f9e165",
   "metadata": {},
   "outputs": [],
   "source": [
    "col_prelevements = [\n",
    "    \"inseecommuneprinc\",\n",
    "    \"nomcommuneprinc\",\n",
    "    \"cdreseau\",\n",
    "    \"referenceprel\",\n",
    "    \"dateprel\",\n",
    "    \"conclusionprel\",\n",
    "    \"plvconformitebacterio\",\n",
    "    \"plvconformitechimique\",\n",
    "    \"plvconformitereferencebact\",\n",
    "    \"plvconformitereferencechim\",\n",
    "]\n",
    "\n",
    "use_prelevements = prelevements[col_prelevements]"
   ]
  },
  {
   "cell_type": "code",
   "execution_count": 16,
   "id": "079225bb-a6a3-47ba-9192-06929972f7ea",
   "metadata": {},
   "outputs": [],
   "source": [
    "result_prelev = use_prelevements.merge(use_resultats, on=\"referenceprel\")"
   ]
  },
  {
   "cell_type": "code",
   "execution_count": 17,
   "id": "cfd1d8fe-4098-4de0-8e06-d86205c78e94",
   "metadata": {},
   "outputs": [],
   "source": [
    "# Clarification de la variable \"qualitparam\" car valeurs non explicites et confondables avec les valeurs plv...\n",
    "result_prelev[\"qualitparam\"] = result_prelev[\"qualitparam\"].replace(\n",
    "    [\"N\", \"O\"], [\"QUANT\", \"QUAL\"]\n",
    ")"
   ]
  },
  {
   "cell_type": "code",
   "execution_count": 18,
   "id": "d8034f90-f1ca-4a1b-b233-4240ce10f840",
   "metadata": {},
   "outputs": [],
   "source": [
    "# On peut déjà se focaliser sur les non conformités LIMITE QUALITÉ\n",
    "# qui semblent plus impactantes vs non conformités de RÉFÉRENCE QUALITÉ, en tout cas séparerer les deux // Cas où on a les deux ?\n",
    "\n",
    "result_prelev[\"limit_qual\"] = np.where(\n",
    "    (result_prelev[\"plvconformitebacterio\"] == \"N\")\n",
    "    | (result_prelev[\"plvconformitechimique\"] == \"N\"),\n",
    "    \"N\",\n",
    "    \"C/D/S\",\n",
    ")\n",
    "\n",
    "result_prelev[\"ref_qual\"] = np.where(\n",
    "    (result_prelev[\"plvconformitereferencebact\"] == \"N\")\n",
    "    | (result_prelev[\"plvconformitereferencechim\"] == \"N\"),\n",
    "    \"N\",\n",
    "    \"C/D/S\",\n",
    ")"
   ]
  },
  {
   "cell_type": "code",
   "execution_count": 19,
   "id": "62bff44a-3cad-4b66-9fee-bb4f4837174b",
   "metadata": {},
   "outputs": [],
   "source": [
    "# Remplacer None par Nan\n",
    "result_prelev = result_prelev.fillna(value=np.nan)"
   ]
  },
  {
   "cell_type": "code",
   "execution_count": 20,
   "id": "e576e753-183f-4236-a93c-f3bc4b1e7243",
   "metadata": {},
   "outputs": [
    {
     "data": {
      "text/html": [
       "<div>\n",
       "<style scoped>\n",
       "    .dataframe tbody tr th:only-of-type {\n",
       "        vertical-align: middle;\n",
       "    }\n",
       "\n",
       "    .dataframe tbody tr th {\n",
       "        vertical-align: top;\n",
       "    }\n",
       "\n",
       "    .dataframe thead th {\n",
       "        text-align: right;\n",
       "    }\n",
       "</style>\n",
       "<table border=\"1\" class=\"dataframe\">\n",
       "  <thead>\n",
       "    <tr style=\"text-align: right;\">\n",
       "      <th></th>\n",
       "      <th>inseecommuneprinc</th>\n",
       "      <th>nomcommuneprinc</th>\n",
       "      <th>cdreseau</th>\n",
       "      <th>referenceprel</th>\n",
       "      <th>dateprel</th>\n",
       "      <th>conclusionprel</th>\n",
       "      <th>plvconformitebacterio</th>\n",
       "      <th>plvconformitechimique</th>\n",
       "      <th>plvconformitereferencebact</th>\n",
       "      <th>plvconformitereferencechim</th>\n",
       "      <th>qualitparam</th>\n",
       "      <th>libmajparametre</th>\n",
       "      <th>rqana</th>\n",
       "      <th>cdunitereferencesiseeaux</th>\n",
       "      <th>limitequal</th>\n",
       "      <th>refqual</th>\n",
       "      <th>valtraduite</th>\n",
       "      <th>limit_qual</th>\n",
       "      <th>ref_qual</th>\n",
       "    </tr>\n",
       "  </thead>\n",
       "  <tbody>\n",
       "    <tr>\n",
       "      <th>0</th>\n",
       "      <td>01007</td>\n",
       "      <td>AMBRONAY</td>\n",
       "      <td>001000003</td>\n",
       "      <td>00100139034</td>\n",
       "      <td>2024-01-23</td>\n",
       "      <td>Eau d'alimentation conforme aux limites de qua...</td>\n",
       "      <td>C</td>\n",
       "      <td>C</td>\n",
       "      <td>N</td>\n",
       "      <td>C</td>\n",
       "      <td>QUANT</td>\n",
       "      <td>ACÉNAPHTÈNE</td>\n",
       "      <td>0,002</td>\n",
       "      <td>µg/L</td>\n",
       "      <td>NaN</td>\n",
       "      <td>NaN</td>\n",
       "      <td>0.002</td>\n",
       "      <td>C/D/S</td>\n",
       "      <td>N</td>\n",
       "    </tr>\n",
       "    <tr>\n",
       "      <th>1</th>\n",
       "      <td>01007</td>\n",
       "      <td>AMBRONAY</td>\n",
       "      <td>001000003</td>\n",
       "      <td>00100139034</td>\n",
       "      <td>2024-01-23</td>\n",
       "      <td>Eau d'alimentation conforme aux limites de qua...</td>\n",
       "      <td>C</td>\n",
       "      <td>C</td>\n",
       "      <td>N</td>\n",
       "      <td>C</td>\n",
       "      <td>QUANT</td>\n",
       "      <td>ACRYLAMIDE</td>\n",
       "      <td>&lt;0,10</td>\n",
       "      <td>µg/L</td>\n",
       "      <td>&lt;=0.1 µg/L</td>\n",
       "      <td>NaN</td>\n",
       "      <td>0.000</td>\n",
       "      <td>C/D/S</td>\n",
       "      <td>N</td>\n",
       "    </tr>\n",
       "  </tbody>\n",
       "</table>\n",
       "</div>"
      ],
      "text/plain": [
       "  inseecommuneprinc nomcommuneprinc   cdreseau referenceprel   dateprel  \\\n",
       "0             01007        AMBRONAY  001000003   00100139034 2024-01-23   \n",
       "1             01007        AMBRONAY  001000003   00100139034 2024-01-23   \n",
       "\n",
       "                                      conclusionprel plvconformitebacterio  \\\n",
       "0  Eau d'alimentation conforme aux limites de qua...                     C   \n",
       "1  Eau d'alimentation conforme aux limites de qua...                     C   \n",
       "\n",
       "  plvconformitechimique plvconformitereferencebact plvconformitereferencechim  \\\n",
       "0                     C                          N                          C   \n",
       "1                     C                          N                          C   \n",
       "\n",
       "  qualitparam libmajparametre  rqana cdunitereferencesiseeaux  limitequal  \\\n",
       "0       QUANT     ACÉNAPHTÈNE  0,002                     µg/L         NaN   \n",
       "1       QUANT      ACRYLAMIDE  <0,10                     µg/L  <=0.1 µg/L   \n",
       "\n",
       "  refqual  valtraduite limit_qual ref_qual  \n",
       "0     NaN        0.002      C/D/S        N  \n",
       "1     NaN        0.000      C/D/S        N  "
      ]
     },
     "execution_count": 20,
     "metadata": {},
     "output_type": "execute_result"
    }
   ],
   "source": [
    "result_prelev.head(n=2)"
   ]
  },
  {
   "cell_type": "markdown",
   "id": "cc66c60c-4ba8-4ad9-940a-7bfd1cadc2cd",
   "metadata": {
    "jp-MarkdownHeadingCollapsed": true
   },
   "source": [
    "### Exemple de résultats / paramètres mesurés sur un prélèvement de 2024"
   ]
  },
  {
   "cell_type": "code",
   "execution_count": 184,
   "id": "cb9fa09b-b2a5-46b9-bd94-aff3b91eea72",
   "metadata": {},
   "outputs": [],
   "source": [
    "exemple = result_prelev[\n",
    "    (result_prelev[\"inseecommuneprinc\"] == \"01007\")\n",
    "    & (result_prelev[\"dateprel\"] == \"2024-01-23\")\n",
    "]"
   ]
  },
  {
   "cell_type": "code",
   "execution_count": 186,
   "id": "1766ff0d-769c-4301-93a5-a5f158106dd5",
   "metadata": {},
   "outputs": [
    {
     "data": {
      "text/plain": [
       "array([\"Eau d'alimentation conforme aux limites de qualité et non conforme aux références de qualité.\"],\n",
       "      dtype=object)"
      ]
     },
     "execution_count": 186,
     "metadata": {},
     "output_type": "execute_result"
    }
   ],
   "source": [
    "exemple[\"conclusionprel\"].unique()"
   ]
  },
  {
   "cell_type": "code",
   "execution_count": 189,
   "id": "9274f5ce-cf7f-4837-9f09-1cd2ffa2fff7",
   "metadata": {},
   "outputs": [
    {
     "data": {
      "text/plain": [
       "array(['ACÉNAPHTÈNE', 'ACRYLAMIDE', 'ANTHRACÈNE', 'ASPECT (QUALITATIF)',\n",
       "       'BENZO(A)PYRÈNE *', 'BENZO(B)FLUORANTHÈNE', 'BENZANTHRACÈNE',\n",
       "       'BENZO(G,H,I)PÉRYLÈNE', 'BENZO(K)FLUORANTHÈNE',\n",
       "       'BACT. ET SPORES SULFITO-RÉDU./100ML', 'CADMIUM',\n",
       "       'CONDUCTIVITÉ À 25°C', 'CHRYSÈNE', 'CHLORE LIBRE', 'CHLORE TOTAL',\n",
       "       'BIOXYDE DE CHLORE MG/L CLO2', 'CHLORURE DE VINYL MONOMÈRE',\n",
       "       'COLORATION', 'COULEUR (QUALITATIF)', 'CHROME TOTAL',\n",
       "       'BACTÉRIES COLIFORMES /100ML-MS', 'CUIVRE',\n",
       "       'DIBENZO(A,H)ANTHRACÈNE', 'ESCHERICHIA COLI /100ML - MF',\n",
       "       'EPICHLOROHYDRINE', 'FER TOTAL', 'FLUORANTHÈNE *', 'FLUORÈNE',\n",
       "       'BACT. AÉR. REVIVIFIABLES À 22°-68H',\n",
       "       'BACT. AÉR. REVIVIFIABLES À 36°-44H',\n",
       "       'HYDROCARBURES POLYCYCLIQUES AROMATIQUES (4 SUBSTANCES)',\n",
       "       'INDÉNO(1,2,3-CD)PYRÈNE', 'NAPHTALÈNE', 'AMMONIUM (EN NH4)',\n",
       "       'NICKEL', 'NITRITES (EN NO2)', 'NITRATES (EN NO3)',\n",
       "       'NITRATES/50 + NITRITES/3', 'OZONE', 'ODEUR (QUALITATIF)', 'PLOMB',\n",
       "       'PH ', 'PHÉNANTRÈNE', 'PYRÈNE', 'SAVEUR (QUALITATIF)', 'ANTIMOINE',\n",
       "       'ENTÉROCOQUES /100ML-MS', \"TEMPÉRATURE DE L'EAU\",\n",
       "       'TURBIDITÉ NÉPHÉLOMÉTRIQUE NFU'], dtype=object)"
      ]
     },
     "execution_count": 189,
     "metadata": {},
     "output_type": "execute_result"
    }
   ],
   "source": [
    "exemple[\"libmajparametre\"].unique()"
   ]
  },
  {
   "cell_type": "code",
   "execution_count": 194,
   "id": "e01fbd14-5904-46dc-80be-b659c77d3b12",
   "metadata": {},
   "outputs": [
    {
     "data": {
      "text/plain": [
       "array(['Aspect normal', 'Aucun changement anormal', \"A l'équilibre\",\n",
       "       'Changement anormal', 'Aspect anormal', 'Eau incrustante',\n",
       "       'Non mesuré', 'Légèrement incrustante', 'Eau agressive',\n",
       "       'Légèrement agressive 0,2>D>0,3', \"Absence d'odeur sulfurée\",\n",
       "       'OUI', 'Absence cyanobactéries', 'ABSENCE',\n",
       "       'Pas de dipositif de traitement', '0', 'Présence cyanobactéries',\n",
       "       '2', 'ABSENCE ECOLI (colilert)', '1'], dtype=object)"
      ]
     },
     "execution_count": 194,
     "metadata": {},
     "output_type": "execute_result"
    }
   ],
   "source": [
    "# Quid des variables qual ? A quel moment entraînent-elles une non conformité ?\n",
    "result_prelev[result_prelev[\"qualitparam\"] == \"QUAL\"][\n",
    "    \"rqana\"\n",
    "].unique()  # limitequal, refqual"
   ]
  },
  {
   "cell_type": "markdown",
   "id": "b87226ea-77fa-4a55-b239-fb43b2cfe79f",
   "metadata": {
    "jp-MarkdownHeadingCollapsed": true
   },
   "source": [
    "## PROPORTION DE RESULTATS NON CONFORMES (AU GLOBAL, TOUT PARAMETRE CONFONDU)\n",
    "***\n",
    "Pour cette annalyse, on retire les \"doublons\" (on ne veut qu'__une ligne par prélèvement__, car la conclusion des colonnes plv est valable pour l'ensemble du prélèvement toute molécule mesurée confondue).\n",
    "Résumé:\n",
    "* Il existe des cas non conformes à la fois sur les limites et les références ! \n",
    "* 5% de cas non conformes \"limites qualité\" sur les relevés 2024;\n",
    "* 18% de cas non conformes \"référence qualité\" sur les relevés 2024;\n",
    "* Dans la majeure partie des cas, la non conformité vient de présence de paramètres __chimiques__ vs bactério.\n",
    "\n",
    "\n",
    "_Idée analyses sur la non conformité globale_\n",
    "* _communes avec le plus de non conformités dans l'année VS le moins_ \n",
    "* _périodes de l'année les moins conformes_, \n",
    "* _type de molécules / bactéries qui ressortent le plus_\n",
    "* etc"
   ]
  },
  {
   "cell_type": "code",
   "execution_count": 22,
   "id": "6f2579c5-b766-445a-a95f-7e9cade73e6a",
   "metadata": {},
   "outputs": [],
   "source": [
    "# Dans ce cadre il faut retirer les \"doublons\", en tout cas n'avoir qu'une ligne par UDI/ref de prélèvement\n",
    "\n",
    "comm_prel_uniques = result_prelev.drop_duplicates(subset=[\"cdreseau\", \"referenceprel\"])"
   ]
  },
  {
   "cell_type": "code",
   "execution_count": 23,
   "id": "6a110d0d-fb09-492b-9a15-c1de46e21923",
   "metadata": {},
   "outputs": [
    {
     "data": {
      "text/html": [
       "<div>\n",
       "<style scoped>\n",
       "    .dataframe tbody tr th:only-of-type {\n",
       "        vertical-align: middle;\n",
       "    }\n",
       "\n",
       "    .dataframe tbody tr th {\n",
       "        vertical-align: top;\n",
       "    }\n",
       "\n",
       "    .dataframe thead th {\n",
       "        text-align: right;\n",
       "    }\n",
       "</style>\n",
       "<table border=\"1\" class=\"dataframe\">\n",
       "  <thead>\n",
       "    <tr style=\"text-align: right;\">\n",
       "      <th></th>\n",
       "      <th>inseecommuneprinc</th>\n",
       "      <th>nomcommuneprinc</th>\n",
       "      <th>cdreseau</th>\n",
       "      <th>referenceprel</th>\n",
       "      <th>dateprel</th>\n",
       "      <th>conclusionprel</th>\n",
       "      <th>plvconformitebacterio</th>\n",
       "      <th>plvconformitechimique</th>\n",
       "      <th>plvconformitereferencebact</th>\n",
       "      <th>plvconformitereferencechim</th>\n",
       "      <th>qualitparam</th>\n",
       "      <th>libmajparametre</th>\n",
       "      <th>rqana</th>\n",
       "      <th>cdunitereferencesiseeaux</th>\n",
       "      <th>limitequal</th>\n",
       "      <th>refqual</th>\n",
       "      <th>valtraduite</th>\n",
       "      <th>limit_qual</th>\n",
       "      <th>ref_qual</th>\n",
       "    </tr>\n",
       "  </thead>\n",
       "  <tbody>\n",
       "    <tr>\n",
       "      <th>552</th>\n",
       "      <td>01007</td>\n",
       "      <td>AMBRONAY</td>\n",
       "      <td>001000003</td>\n",
       "      <td>00100142530</td>\n",
       "      <td>2024-10-18</td>\n",
       "      <td>Eau d'alimentation non-conforme aux exigences ...</td>\n",
       "      <td>N</td>\n",
       "      <td>C</td>\n",
       "      <td>N</td>\n",
       "      <td>C</td>\n",
       "      <td>QUAL</td>\n",
       "      <td>ASPECT (QUALITATIF)</td>\n",
       "      <td>Aspect normal</td>\n",
       "      <td>SANS OBJET</td>\n",
       "      <td>NaN</td>\n",
       "      <td>NaN</td>\n",
       "      <td>0.0</td>\n",
       "      <td>N</td>\n",
       "      <td>N</td>\n",
       "    </tr>\n",
       "    <tr>\n",
       "      <th>3338</th>\n",
       "      <td>01268</td>\n",
       "      <td>MURS-ET-GELIGNIEUX</td>\n",
       "      <td>001000244</td>\n",
       "      <td>00100141265</td>\n",
       "      <td>2024-07-10</td>\n",
       "      <td>Eau d'alimentation non-conforme aux exigences ...</td>\n",
       "      <td>N</td>\n",
       "      <td>C</td>\n",
       "      <td>N</td>\n",
       "      <td>C</td>\n",
       "      <td>QUAL</td>\n",
       "      <td>ASPECT (QUALITATIF)</td>\n",
       "      <td>Aspect normal</td>\n",
       "      <td>SANS OBJET</td>\n",
       "      <td>NaN</td>\n",
       "      <td>NaN</td>\n",
       "      <td>0.0</td>\n",
       "      <td>N</td>\n",
       "      <td>N</td>\n",
       "    </tr>\n",
       "    <tr>\n",
       "      <th>9012</th>\n",
       "      <td>01008</td>\n",
       "      <td>AMBUTRIX</td>\n",
       "      <td>001000254</td>\n",
       "      <td>00100142451</td>\n",
       "      <td>2024-10-17</td>\n",
       "      <td>Eau d'alimentation non-conforme aux exigences ...</td>\n",
       "      <td>N</td>\n",
       "      <td>C</td>\n",
       "      <td>N</td>\n",
       "      <td>C</td>\n",
       "      <td>QUAL</td>\n",
       "      <td>ASPECT (QUALITATIF)</td>\n",
       "      <td>Aspect normal</td>\n",
       "      <td>SANS OBJET</td>\n",
       "      <td>NaN</td>\n",
       "      <td>NaN</td>\n",
       "      <td>0.0</td>\n",
       "      <td>N</td>\n",
       "      <td>N</td>\n",
       "    </tr>\n",
       "    <tr>\n",
       "      <th>10855</th>\n",
       "      <td>01015</td>\n",
       "      <td>ARBOYS EN BUGEY</td>\n",
       "      <td>001000268</td>\n",
       "      <td>00100141194</td>\n",
       "      <td>2024-07-10</td>\n",
       "      <td>Eau d'alimentation non-conforme aux exigences ...</td>\n",
       "      <td>N</td>\n",
       "      <td>C</td>\n",
       "      <td>N</td>\n",
       "      <td>C</td>\n",
       "      <td>QUAL</td>\n",
       "      <td>ASPECT (QUALITATIF)</td>\n",
       "      <td>Aspect normal</td>\n",
       "      <td>SANS OBJET</td>\n",
       "      <td>NaN</td>\n",
       "      <td>NaN</td>\n",
       "      <td>0.0</td>\n",
       "      <td>N</td>\n",
       "      <td>N</td>\n",
       "    </tr>\n",
       "    <tr>\n",
       "      <th>10909</th>\n",
       "      <td>01015</td>\n",
       "      <td>ARBOYS EN BUGEY</td>\n",
       "      <td>001000268</td>\n",
       "      <td>00100143003</td>\n",
       "      <td>2024-10-24</td>\n",
       "      <td>Eau d'alimentation non-conforme aux exigences ...</td>\n",
       "      <td>N</td>\n",
       "      <td>C</td>\n",
       "      <td>N</td>\n",
       "      <td>C</td>\n",
       "      <td>QUAL</td>\n",
       "      <td>ASPECT (QUALITATIF)</td>\n",
       "      <td>Aspect normal</td>\n",
       "      <td>SANS OBJET</td>\n",
       "      <td>NaN</td>\n",
       "      <td>NaN</td>\n",
       "      <td>0.0</td>\n",
       "      <td>N</td>\n",
       "      <td>N</td>\n",
       "    </tr>\n",
       "  </tbody>\n",
       "</table>\n",
       "</div>"
      ],
      "text/plain": [
       "      inseecommuneprinc     nomcommuneprinc   cdreseau referenceprel  \\\n",
       "552               01007            AMBRONAY  001000003   00100142530   \n",
       "3338              01268  MURS-ET-GELIGNIEUX  001000244   00100141265   \n",
       "9012              01008            AMBUTRIX  001000254   00100142451   \n",
       "10855             01015     ARBOYS EN BUGEY  001000268   00100141194   \n",
       "10909             01015     ARBOYS EN BUGEY  001000268   00100143003   \n",
       "\n",
       "        dateprel                                     conclusionprel  \\\n",
       "552   2024-10-18  Eau d'alimentation non-conforme aux exigences ...   \n",
       "3338  2024-07-10  Eau d'alimentation non-conforme aux exigences ...   \n",
       "9012  2024-10-17  Eau d'alimentation non-conforme aux exigences ...   \n",
       "10855 2024-07-10  Eau d'alimentation non-conforme aux exigences ...   \n",
       "10909 2024-10-24  Eau d'alimentation non-conforme aux exigences ...   \n",
       "\n",
       "      plvconformitebacterio plvconformitechimique plvconformitereferencebact  \\\n",
       "552                       N                     C                          N   \n",
       "3338                      N                     C                          N   \n",
       "9012                      N                     C                          N   \n",
       "10855                     N                     C                          N   \n",
       "10909                     N                     C                          N   \n",
       "\n",
       "      plvconformitereferencechim qualitparam      libmajparametre  \\\n",
       "552                            C        QUAL  ASPECT (QUALITATIF)   \n",
       "3338                           C        QUAL  ASPECT (QUALITATIF)   \n",
       "9012                           C        QUAL  ASPECT (QUALITATIF)   \n",
       "10855                          C        QUAL  ASPECT (QUALITATIF)   \n",
       "10909                          C        QUAL  ASPECT (QUALITATIF)   \n",
       "\n",
       "               rqana cdunitereferencesiseeaux limitequal refqual  valtraduite  \\\n",
       "552    Aspect normal               SANS OBJET        NaN     NaN          0.0   \n",
       "3338   Aspect normal               SANS OBJET        NaN     NaN          0.0   \n",
       "9012   Aspect normal               SANS OBJET        NaN     NaN          0.0   \n",
       "10855  Aspect normal               SANS OBJET        NaN     NaN          0.0   \n",
       "10909  Aspect normal               SANS OBJET        NaN     NaN          0.0   \n",
       "\n",
       "      limit_qual ref_qual  \n",
       "552            N        N  \n",
       "3338           N        N  \n",
       "9012           N        N  \n",
       "10855          N        N  \n",
       "10909          N        N  "
      ]
     },
     "execution_count": 23,
     "metadata": {},
     "output_type": "execute_result"
    }
   ],
   "source": [
    "# On a des cas non conformes pour les deux types de conformité (limite et référence).\n",
    "\n",
    "comm_prel_uniques[\n",
    "    (comm_prel_uniques[\"limit_qual\"] == \"N\") & (comm_prel_uniques[\"ref_qual\"] == \"N\")\n",
    "].head()"
   ]
  },
  {
   "cell_type": "code",
   "execution_count": 24,
   "id": "8494d96e-4e39-4e2f-94ee-c86f34143787",
   "metadata": {},
   "outputs": [
    {
     "data": {
      "text/plain": [
       "Text(0.5, 1.0, \"Proportion de résultats non conformes sur l'année 2024 - LIMITE QUALITÉ\")"
      ]
     },
     "execution_count": 24,
     "metadata": {},
     "output_type": "execute_result"
    },
    {
     "data": {
      "image/png": "[encoded data removed]",
      "text/plain": [
       "<Figure size 640x480 with 1 Axes>"
      ]
     },
     "metadata": {},
     "output_type": "display_data"
    }
   ],
   "source": [
    "sns.countplot(\n",
    "    comm_prel_uniques,\n",
    "    x=comm_prel_uniques[\"dateprel\"].dt.year,\n",
    "    hue=\"limit_qual\",\n",
    "    stat=\"percent\",\n",
    ")\n",
    "plt.title(\"Proportion de résultats non conformes sur l'année 2024 - LIMITE QUALITÉ\")"
   ]
  },
  {
   "cell_type": "code",
   "execution_count": 25,
   "id": "5e90bf36-0243-41a9-81c3-2788be3c86c7",
   "metadata": {},
   "outputs": [
    {
     "data": {
      "text/plain": [
       "limit_qual\n",
       "C/D/S    0.951063\n",
       "N        0.048937\n",
       "Name: proportion, dtype: float64"
      ]
     },
     "execution_count": 25,
     "metadata": {},
     "output_type": "execute_result"
    }
   ],
   "source": [
    "comm_prel_uniques[\"limit_qual\"].value_counts(normalize=True)"
   ]
  },
  {
   "cell_type": "code",
   "execution_count": 26,
   "id": "98581697-716c-41c3-8ea9-7046a1edeb7d",
   "metadata": {},
   "outputs": [
    {
     "data": {
      "text/plain": [
       "Text(0.5, 1.0, \"Proportion de résultats non conformes sur l'année 2024 - RÉFÉRENCE QUALITÉ\")"
      ]
     },
     "execution_count": 26,
     "metadata": {},
     "output_type": "execute_result"
    },
    {
     "data": {
      "image/png": "[encoded data removed]",
      "text/plain": [
       "<Figure size 640x480 with 1 Axes>"
      ]
     },
     "metadata": {},
     "output_type": "display_data"
    }
   ],
   "source": [
    "sns.countplot(\n",
    "    comm_prel_uniques,\n",
    "    x=comm_prel_uniques[\"dateprel\"].dt.year,\n",
    "    hue=\"ref_qual\",\n",
    "    stat=\"percent\",\n",
    ")\n",
    "plt.title(\"Proportion de résultats non conformes sur l'année 2024 - RÉFÉRENCE QUALITÉ\")"
   ]
  },
  {
   "cell_type": "code",
   "execution_count": 29,
   "id": "644702c5",
   "metadata": {},
   "outputs": [
    {
     "data": {
      "text/plain": [
       "ref_qual\n",
       "C/D/S    0.816847\n",
       "N        0.183153\n",
       "Name: proportion, dtype: float64"
      ]
     },
     "execution_count": 29,
     "metadata": {},
     "output_type": "execute_result"
    }
   ],
   "source": [
    "comm_prel_uniques[\"ref_qual\"].value_counts(normalize=True)"
   ]
  },
  {
   "cell_type": "code",
   "execution_count": 27,
   "id": "b393dc4e-54d8-425c-8a06-ab560894db35",
   "metadata": {},
   "outputs": [
    {
     "data": {
      "text/plain": [
       "plvconformitebacterio\n",
       "C    43.139855\n",
       "S    29.105284\n",
       "N    27.754862\n",
       "Name: proportion, dtype: float64"
      ]
     },
     "execution_count": 27,
     "metadata": {},
     "output_type": "execute_result"
    }
   ],
   "source": [
    "comm_prel_uniques[comm_prel_uniques[\"limit_qual\"] == \"N\"][\n",
    "    \"plvconformitebacterio\"\n",
    "].value_counts(normalize=True) * 100  # plvconformitechimique"
   ]
  },
  {
   "cell_type": "code",
   "execution_count": 28,
   "id": "65d13513-1978-46c3-bd75-9e5d4eaa6abf",
   "metadata": {},
   "outputs": [
    {
     "data": {
      "text/plain": [
       "plvconformitechimique\n",
       "N    72.962090\n",
       "C    27.028089\n",
       "D     0.009821\n",
       "Name: proportion, dtype: float64"
      ]
     },
     "execution_count": 28,
     "metadata": {},
     "output_type": "execute_result"
    }
   ],
   "source": [
    "comm_prel_uniques[comm_prel_uniques[\"limit_qual\"] == \"N\"][\n",
    "    \"plvconformitechimique\"\n",
    "].value_counts(normalize=True) * 100"
   ]
  },
  {
   "cell_type": "markdown",
   "id": "c88c4f27-087a-4a7d-8ae2-9f5b07398fb6",
   "metadata": {
    "jp-MarkdownHeadingCollapsed": true
   },
   "source": [
    "### TEST: AGGREGER AU MOIS ? \n",
    "***\n",
    "On peut avoir plusieurs relevés par mois pour une commune.\n"
   ]
  },
  {
   "cell_type": "code",
   "execution_count": 33,
   "id": "35cc357a-cc52-4e3e-a0e5-72c05afed00f",
   "metadata": {},
   "outputs": [
    {
     "data": {
      "text/plain": [
       "0     2024-01-23\n",
       "49    2024-02-13\n",
       "70    2024-03-13\n",
       "419   2024-04-05\n",
       "440   2024-05-13\n",
       "461   2024-06-11\n",
       "482   2024-07-08\n",
       "510   2024-08-20\n",
       "531   2024-09-11\n",
       "552   2024-10-18\n",
       "573   2024-11-25\n",
       "594   2024-12-26\n",
       "Name: dateprel, dtype: datetime64[us]"
      ]
     },
     "execution_count": 33,
     "metadata": {},
     "output_type": "execute_result"
    }
   ],
   "source": [
    "# Possible d'avoir plusieurs prélèvements dans un même mois ?\n",
    "# comm_prel_uniques[comm_prel_uniques['nomcommuneprinc'] == 'AMBRONAY']['dateprel']\n"
   ]
  },
  {
   "cell_type": "code",
   "execution_count": 35,
   "id": "a98c70f9-4688-4824-beb8-59512641402b",
   "metadata": {},
   "outputs": [
    {
     "name": "stderr",
     "output_type": "stream",
     "text": [
      "/var/folders/sb/kbw95mq10b76gs1b7tjqtbgm0000gn/T/ipykernel_19368/3663363596.py:1: SettingWithCopyWarning: \n",
      "A value is trying to be set on a copy of a slice from a DataFrame.\n",
      "Try using .loc[row_indexer,col_indexer] = value instead\n",
      "\n",
      "See the caveats in the documentation: https://pandas.pydata.org/pandas-docs/stable/user_guide/indexing.html#returning-a-view-versus-a-copy\n",
      "  comm_prel_uniques['test_month_prel'] = comm_prel_uniques['dateprel'].dt.month\n"
     ]
    }
   ],
   "source": [
    "# comm_prel_uniques['test_month_prel'] = comm_prel_uniques['dateprel'].dt.month"
   ]
  },
  {
   "cell_type": "code",
   "execution_count": 394,
   "id": "1f63b085-8d64-4c99-b735-cd6da472b4cc",
   "metadata": {},
   "outputs": [
    {
     "data": {
      "text/html": [
       "<div>\n",
       "<style scoped>\n",
       "    .dataframe tbody tr th:only-of-type {\n",
       "        vertical-align: middle;\n",
       "    }\n",
       "\n",
       "    .dataframe tbody tr th {\n",
       "        vertical-align: top;\n",
       "    }\n",
       "\n",
       "    .dataframe thead th {\n",
       "        text-align: right;\n",
       "    }\n",
       "</style>\n",
       "<table border=\"1\" class=\"dataframe\">\n",
       "  <thead>\n",
       "    <tr style=\"text-align: right;\">\n",
       "      <th></th>\n",
       "      <th>inseecommuneprinc</th>\n",
       "      <th>test_month_prel</th>\n",
       "      <th>referenceprel</th>\n",
       "    </tr>\n",
       "  </thead>\n",
       "  <tbody>\n",
       "    <tr>\n",
       "      <th>0</th>\n",
       "      <td>01001</td>\n",
       "      <td>2</td>\n",
       "      <td>1</td>\n",
       "    </tr>\n",
       "    <tr>\n",
       "      <th>1</th>\n",
       "      <td>01001</td>\n",
       "      <td>6</td>\n",
       "      <td>1</td>\n",
       "    </tr>\n",
       "    <tr>\n",
       "      <th>2</th>\n",
       "      <td>01001</td>\n",
       "      <td>10</td>\n",
       "      <td>1</td>\n",
       "    </tr>\n",
       "    <tr>\n",
       "      <th>3</th>\n",
       "      <td>01002</td>\n",
       "      <td>2</td>\n",
       "      <td>1</td>\n",
       "    </tr>\n",
       "    <tr>\n",
       "      <th>4</th>\n",
       "      <td>01002</td>\n",
       "      <td>3</td>\n",
       "      <td>1</td>\n",
       "    </tr>\n",
       "    <tr>\n",
       "      <th>...</th>\n",
       "      <td>...</td>\n",
       "      <td>...</td>\n",
       "      <td>...</td>\n",
       "    </tr>\n",
       "    <tr>\n",
       "      <th>156745</th>\n",
       "      <td>99001</td>\n",
       "      <td>8</td>\n",
       "      <td>2</td>\n",
       "    </tr>\n",
       "    <tr>\n",
       "      <th>156746</th>\n",
       "      <td>99001</td>\n",
       "      <td>9</td>\n",
       "      <td>2</td>\n",
       "    </tr>\n",
       "    <tr>\n",
       "      <th>156747</th>\n",
       "      <td>99001</td>\n",
       "      <td>10</td>\n",
       "      <td>2</td>\n",
       "    </tr>\n",
       "    <tr>\n",
       "      <th>156748</th>\n",
       "      <td>99001</td>\n",
       "      <td>11</td>\n",
       "      <td>2</td>\n",
       "    </tr>\n",
       "    <tr>\n",
       "      <th>156749</th>\n",
       "      <td>99001</td>\n",
       "      <td>12</td>\n",
       "      <td>2</td>\n",
       "    </tr>\n",
       "  </tbody>\n",
       "</table>\n",
       "<p>156750 rows × 3 columns</p>\n",
       "</div>"
      ],
      "text/plain": [
       "       inseecommuneprinc  test_month_prel  referenceprel\n",
       "0                  01001                2              1\n",
       "1                  01001                6              1\n",
       "2                  01001               10              1\n",
       "3                  01002                2              1\n",
       "4                  01002                3              1\n",
       "...                  ...              ...            ...\n",
       "156745             99001                8              2\n",
       "156746             99001                9              2\n",
       "156747             99001               10              2\n",
       "156748             99001               11              2\n",
       "156749             99001               12              2\n",
       "\n",
       "[156750 rows x 3 columns]"
      ]
     },
     "execution_count": 394,
     "metadata": {},
     "output_type": "execute_result"
    }
   ],
   "source": [
    "# comm_prel_uniques.groupby(['inseecommuneprinc', 'test_month_prel'])['referenceprel'].count().reset_index()"
   ]
  },
  {
   "cell_type": "code",
   "execution_count": 395,
   "id": "d7c79025-62c4-4471-afa1-107bd2fc71f6",
   "metadata": {},
   "outputs": [
    {
     "data": {
      "text/plain": [
       "<DatetimeArray>\n",
       "['2024-01-16 00:00:00', '2024-02-28 00:00:00', '2024-03-15 00:00:00',\n",
       " '2024-03-28 00:00:00', '2024-04-05 00:00:00', '2024-04-26 00:00:00',\n",
       " '2024-05-24 00:00:00', '2024-05-13 00:00:00', '2024-06-12 00:00:00',\n",
       " '2024-06-21 00:00:00', '2024-07-02 00:00:00', '2024-08-07 00:00:00',\n",
       " '2024-07-18 00:00:00', '2024-08-26 00:00:00', '2024-09-02 00:00:00',\n",
       " '2024-09-19 00:00:00', '2024-10-02 00:00:00', '2024-10-22 00:00:00',\n",
       " '2024-11-06 00:00:00', '2024-11-26 00:00:00', '2024-12-04 00:00:00',\n",
       " '2024-12-17 00:00:00']\n",
       "Length: 22, dtype: datetime64[us]"
      ]
     },
     "execution_count": 395,
     "metadata": {},
     "output_type": "execute_result"
    }
   ],
   "source": [
    "# comm_prel_uniques[comm_prel_uniques['inseecommuneprinc'] == '99001']['dateprel'].unique()\n",
    "# Exemple de cette commune où on a plusieurs relevés par mois"
   ]
  },
  {
   "cell_type": "code",
   "execution_count": 46,
   "id": "96fd7791-f763-4b91-b91b-28cbffa77cd4",
   "metadata": {},
   "outputs": [
    {
     "name": "stderr",
     "output_type": "stream",
     "text": [
      "/var/folders/sb/kbw95mq10b76gs1b7tjqtbgm0000gn/T/ipykernel_19368/2174346568.py:2: SettingWithCopyWarning: \n",
      "A value is trying to be set on a copy of a slice from a DataFrame.\n",
      "Try using .loc[row_indexer,col_indexer] = value instead\n",
      "\n",
      "See the caveats in the documentation: https://pandas.pydata.org/pandas-docs/stable/user_guide/indexing.html#returning-a-view-versus-a-copy\n",
      "  comm_prel_uniques['dateprel_simplified'] = comm_prel_uniques['dateprel'].astype(str).str[:7]\n"
     ]
    }
   ],
   "source": [
    "# comm_prel_uniques['dateprel_simplified'] = comm_prel_uniques['dateprel'].astype(str).str[:7]"
   ]
  },
  {
   "cell_type": "markdown",
   "id": "c36a8d39-2b69-4a35-a30f-e732bc375a8b",
   "metadata": {
    "jp-MarkdownHeadingCollapsed": true
   },
   "source": [
    "## DEPASSEMENT SEUILS: CHECKS DIVERS AVANT ANALYSES\n",
    "***\n",
    "QUERYS SQL ET PYTHON\n",
    "* Nombre paramètres: 1324 QUANT et 13 QUAL\n",
    "* Comment juger de la conformité des var qualitatives (pas toujours clair, exemple 'ODEUR SAVEUR (QUALITATIF)' prend les valeurs 0,1,2)\n",
    "* __/!\\ 467 variables numérique sans aucune valeurs de référence !__\n",
    "* __/!\\ valeurs seuils diffèrent pour (NITRITES (EN NO2))__"
   ]
  },
  {
   "cell_type": "markdown",
   "id": "d6f0dcde-994e-4d3e-aa5e-8187f8f97203",
   "metadata": {
    "jp-MarkdownHeadingCollapsed": true
   },
   "source": [
    "### (draft) tests divers..."
   ]
  },
  {
   "cell_type": "code",
   "execution_count": 94,
   "id": "4c0eba94-3902-4370-961c-97ce8d39903a",
   "metadata": {},
   "outputs": [],
   "source": [
    "param = tuple(result_prelev[\"libmajparametre\"].unique())"
   ]
  },
  {
   "cell_type": "code",
   "execution_count": 81,
   "id": "61177a2d-8897-4077-a2b4-3cb31bf30997",
   "metadata": {},
   "outputs": [
    {
     "data": {
      "text/plain": [
       "['<=0,5 mg/L', '<=0,1 mg/L']"
      ]
     },
     "execution_count": 81,
     "metadata": {},
     "output_type": "execute_result"
    }
   ],
   "source": [
    "param = \"NITRITES (EN NO2)\"\n",
    "\n",
    "result_prelev[result_prelev[\"libmajparametre\"] == param][\"limitequal\"].unique().tolist()"
   ]
  },
  {
   "cell_type": "code",
   "execution_count": 110,
   "id": "d82a60a9-5b3b-4ea0-a8b5-ffb05012f2ff",
   "metadata": {},
   "outputs": [],
   "source": [
    "# Créer un df ou dictionnaire où pour chaque paramètre, on associe une liste des valeurs seuils.\n",
    "\n",
    "i = 0\n",
    "\n",
    "seuils_param = {}\n",
    "\n",
    "for mol in result_prelev[\"libmajparametre\"].unique():\n",
    "    if i >= 2:\n",
    "        break\n",
    "    # print(param)\n",
    "    valeurs_seuils = (\n",
    "        result_prelev[result_prelev[\"libmajparametre\"] == mol][\"limitequal\"]\n",
    "        .unique()\n",
    "        .tolist()\n",
    "    )\n",
    "    seuils_param[mol] = valeurs_seuils\n",
    "    i += 1\n",
    "\n",
    "\n",
    "# Ok mais trop long en python, on passe en SQL."
   ]
  },
  {
   "cell_type": "code",
   "execution_count": 111,
   "id": "f9446ed0-4549-4881-9df5-34e3bfa2eb77",
   "metadata": {},
   "outputs": [
    {
     "data": {
      "text/plain": [
       "{'ACÉNAPHTÈNE': [None], 'ACRYLAMIDE': ['<=0.1 µg/L']}"
      ]
     },
     "execution_count": 111,
     "metadata": {},
     "output_type": "execute_result"
    }
   ],
   "source": [
    "seuils_param"
   ]
  },
  {
   "cell_type": "markdown",
   "id": "afe61548-e095-433d-b090-65a5932772a9",
   "metadata": {
    "jp-MarkdownHeadingCollapsed": true
   },
   "source": [
    "### Nombre variables QUAL / QUANT"
   ]
  },
  {
   "cell_type": "code",
   "execution_count": 356,
   "id": "8d3edb97-fdcf-48d6-a8ce-4259eaac76b4",
   "metadata": {},
   "outputs": [
    {
     "name": "stdout",
     "output_type": "stream",
     "text": [
      "┌─────────────┬─────────────────────────────────┐\n",
      "│ qualitparam │ count(DISTINCT libmajparametre) │\n",
      "│   varchar   │              int64              │\n",
      "├─────────────┼─────────────────────────────────┤\n",
      "│ N           │                            1324 │\n",
      "│ O           │                              13 │\n",
      "└─────────────┴─────────────────────────────────┘\n",
      "\n"
     ]
    }
   ],
   "source": [
    "con.sql(\"\"\"\n",
    "    SELECT qualitparam, count(distinct libmajparametre) \n",
    "    FROM sise_prelevements prel\n",
    "    JOIN sise_resultats res ON res.referenceprel = prel.referenceprel\n",
    "    GROUP BY qualitparam\n",
    "\"\"\").show()"
   ]
  },
  {
   "cell_type": "markdown",
   "id": "9b500dfd-7338-4a52-89a7-57dbf448f3a5",
   "metadata": {
    "jp-MarkdownHeadingCollapsed": true
   },
   "source": [
    "### Traitement des variables qualitatives ?"
   ]
  },
  {
   "cell_type": "code",
   "execution_count": 383,
   "id": "c16f4834-01ec-47f0-9246-ed7317905477",
   "metadata": {},
   "outputs": [
    {
     "data": {
      "text/html": [
       "<div>\n",
       "<style scoped>\n",
       "    .dataframe tbody tr th:only-of-type {\n",
       "        vertical-align: middle;\n",
       "    }\n",
       "\n",
       "    .dataframe tbody tr th {\n",
       "        vertical-align: top;\n",
       "    }\n",
       "\n",
       "    .dataframe thead th {\n",
       "        text-align: right;\n",
       "    }\n",
       "</style>\n",
       "<table border=\"1\" class=\"dataframe\">\n",
       "  <thead>\n",
       "    <tr style=\"text-align: right;\">\n",
       "      <th></th>\n",
       "      <th>libmajparametre</th>\n",
       "      <th>resultats</th>\n",
       "    </tr>\n",
       "  </thead>\n",
       "  <tbody>\n",
       "    <tr>\n",
       "      <th>0</th>\n",
       "      <td>SAVEUR (QUALITATIF)</td>\n",
       "      <td>[Aucun changement anormal, Non mesuré, Changem...</td>\n",
       "    </tr>\n",
       "    <tr>\n",
       "      <th>1</th>\n",
       "      <td>PRÉSENCE DE CYANOBACTÉRIES (O/N)</td>\n",
       "      <td>[Absence cyanobactéries, Présence cyanobactéries]</td>\n",
       "    </tr>\n",
       "    <tr>\n",
       "      <th>2</th>\n",
       "      <td>PRÉLÈVEMENT SOUS ACRÉDITATION</td>\n",
       "      <td>[OUI]</td>\n",
       "    </tr>\n",
       "    <tr>\n",
       "      <th>3</th>\n",
       "      <td>DISPO. INTÉRIEUR TRAITEMENT</td>\n",
       "      <td>[Pas de dipositif de traitement]</td>\n",
       "    </tr>\n",
       "    <tr>\n",
       "      <th>4</th>\n",
       "      <td>EQUILIBRE CALCOCARBONIQUE 0/1/2/3/4</td>\n",
       "      <td>[A l'équilibre, Légèrement incrustante, Légère...</td>\n",
       "    </tr>\n",
       "    <tr>\n",
       "      <th>5</th>\n",
       "      <td>ODEUR SAVEUR (QUALITATIF)</td>\n",
       "      <td>[0, 2, 1]</td>\n",
       "    </tr>\n",
       "    <tr>\n",
       "      <th>6</th>\n",
       "      <td>ESCHERICHIA COLI (DÉTECTION)</td>\n",
       "      <td>[ABSENCE ECOLI (colilert)]</td>\n",
       "    </tr>\n",
       "    <tr>\n",
       "      <th>7</th>\n",
       "      <td>SALMONELLA SPP (PRES/ABS) / 1L</td>\n",
       "      <td>[ABSENCE]</td>\n",
       "    </tr>\n",
       "    <tr>\n",
       "      <th>8</th>\n",
       "      <td>HYDROGÈNE SULFURÉ (QUALITATIF)</td>\n",
       "      <td>[Absence d'odeur sulfurée]</td>\n",
       "    </tr>\n",
       "    <tr>\n",
       "      <th>9</th>\n",
       "      <td>SALMONELLA SPP (PRES/ABS) / 5L</td>\n",
       "      <td>[ABSENCE]</td>\n",
       "    </tr>\n",
       "    <tr>\n",
       "      <th>10</th>\n",
       "      <td>ASPECT (QUALITATIF)</td>\n",
       "      <td>[Aspect normal, Non mesuré, Aspect anormal]</td>\n",
       "    </tr>\n",
       "    <tr>\n",
       "      <th>11</th>\n",
       "      <td>COULEUR (QUALITATIF)</td>\n",
       "      <td>[Aucun changement anormal, Non mesuré, Changem...</td>\n",
       "    </tr>\n",
       "    <tr>\n",
       "      <th>12</th>\n",
       "      <td>ODEUR (QUALITATIF)</td>\n",
       "      <td>[Changement anormal, Aucun changement anormal,...</td>\n",
       "    </tr>\n",
       "  </tbody>\n",
       "</table>\n",
       "</div>"
      ],
      "text/plain": [
       "                        libmajparametre  \\\n",
       "0                   SAVEUR (QUALITATIF)   \n",
       "1      PRÉSENCE DE CYANOBACTÉRIES (O/N)   \n",
       "2         PRÉLÈVEMENT SOUS ACRÉDITATION   \n",
       "3           DISPO. INTÉRIEUR TRAITEMENT   \n",
       "4   EQUILIBRE CALCOCARBONIQUE 0/1/2/3/4   \n",
       "5             ODEUR SAVEUR (QUALITATIF)   \n",
       "6          ESCHERICHIA COLI (DÉTECTION)   \n",
       "7        SALMONELLA SPP (PRES/ABS) / 1L   \n",
       "8        HYDROGÈNE SULFURÉ (QUALITATIF)   \n",
       "9        SALMONELLA SPP (PRES/ABS) / 5L   \n",
       "10                  ASPECT (QUALITATIF)   \n",
       "11                 COULEUR (QUALITATIF)   \n",
       "12                   ODEUR (QUALITATIF)   \n",
       "\n",
       "                                            resultats  \n",
       "0   [Aucun changement anormal, Non mesuré, Changem...  \n",
       "1   [Absence cyanobactéries, Présence cyanobactéries]  \n",
       "2                                               [OUI]  \n",
       "3                    [Pas de dipositif de traitement]  \n",
       "4   [A l'équilibre, Légèrement incrustante, Légère...  \n",
       "5                                           [0, 2, 1]  \n",
       "6                          [ABSENCE ECOLI (colilert)]  \n",
       "7                                           [ABSENCE]  \n",
       "8                          [Absence d'odeur sulfurée]  \n",
       "9                                           [ABSENCE]  \n",
       "10        [Aspect normal, Non mesuré, Aspect anormal]  \n",
       "11  [Aucun changement anormal, Non mesuré, Changem...  \n",
       "12  [Changement anormal, Aucun changement anormal,...  "
      ]
     },
     "execution_count": 383,
     "metadata": {},
     "output_type": "execute_result"
    }
   ],
   "source": [
    "con.sql(\"\"\"\n",
    "    SELECT distinct on (libmajparametre)\n",
    "    libmajparametre, \n",
    "    array_agg(distinct rqana) as resultats\n",
    "    FROM sise_prelevements prel\n",
    "    JOIN sise_resultats res ON res.referenceprel = prel.referenceprel\n",
    "    WHERE qualitparam = 'O'\n",
    "    GROUP BY libmajparametre\n",
    "\"\"\").to_df()\n",
    "\n",
    "# Interprétation ?"
   ]
  },
  {
   "cell_type": "code",
   "execution_count": 358,
   "id": "1b885414-4c31-4743-b0c5-5c6bc55a60d6",
   "metadata": {},
   "outputs": [
    {
     "name": "stdout",
     "output_type": "stream",
     "text": [
      "┌────────────┐\n",
      "│ limitequal │\n",
      "│  varchar   │\n",
      "├────────────┤\n",
      "│ NULL       │\n",
      "└────────────┘\n",
      "\n"
     ]
    }
   ],
   "source": [
    "con.sql(\"\"\"\n",
    "    SELECT distinct limitequal\n",
    "    FROM sise_prelevements prel\n",
    "    JOIN sise_resultats res ON res.referenceprel = prel.referenceprel\n",
    "    WHERE qualitparam = 'O'\n",
    "\"\"\").show()\n",
    "\n",
    "# Pas de ref pour les variables QUAL"
   ]
  },
  {
   "cell_type": "markdown",
   "id": "f3f28ce8-8c8f-48db-8e6f-f757af5dff92",
   "metadata": {
    "jp-MarkdownHeadingCollapsed": true
   },
   "source": [
    "### /!\\ Variables sans valeurs seuil de référence "
   ]
  },
  {
   "cell_type": "code",
   "execution_count": 363,
   "id": "02dd393e-2d5e-4e30-ac23-dfec2cc14443",
   "metadata": {},
   "outputs": [
    {
     "name": "stdout",
     "output_type": "stream",
     "text": [
      "┌───────────────────────┐\n",
      "│ param_num_sans_seuils │\n",
      "│         int64         │\n",
      "├───────────────────────┤\n",
      "│                   467 │\n",
      "└───────────────────────┘\n",
      "\n"
     ]
    }
   ],
   "source": [
    "con.sql(\"\"\"\n",
    "    SELECT \n",
    "        count(distinct libmajparametre) as param_num_sans_seuils \n",
    "    FROM sise_prelevements prel\n",
    "    JOIN sise_resultats res ON res.referenceprel = prel.referenceprel\n",
    "    WHERE qualitparam = 'N' AND limitequal IS NULL AND refqual IS NULL\n",
    "    --GROUP BY libmajparametre, limitequal\n",
    "\"\"\").show()"
   ]
  },
  {
   "cell_type": "code",
   "execution_count": 384,
   "id": "f1fe0886-9a63-4a97-bcbf-618f740b6423",
   "metadata": {},
   "outputs": [
    {
     "name": "stdout",
     "output_type": "stream",
     "text": [
      "┌─────────────────────────────────────┐\n",
      "│           libmajparametre           │\n",
      "│               varchar               │\n",
      "├─────────────────────────────────────┤\n",
      "│ DIMÉTHÉNAMIDE ESA                   │\n",
      "│ ESA METOLACHLORE                    │\n",
      "│ METOLACHLOR NOA 413173              │\n",
      "│ OXA METAZACHLORE                    │\n",
      "│ ACTIVITÉ ALPHA GLOBALE EN BQ/L      │\n",
      "│ LEGIONELLA SP                       │\n",
      "│ DICHLOROÉTHYLÈNE-1,1                │\n",
      "│ DICHLOROÉTHYLÈNE-1,2 CIS            │\n",
      "│ ACIDE PERFLUOROBUTANOÏQUE           │\n",
      "│ ACIDE PERFLUORODECANE SULFONIQUE    │\n",
      "│            ·                        │\n",
      "│            ·                        │\n",
      "│            ·                        │\n",
      "│ CALOTHRIX SP (BIOVOLUME)            │\n",
      "│ TRICHODESMIUM SP (BIOVOLUME)        │\n",
      "│ BENZENE, 1-ETHYL-2-METHYL-          │\n",
      "│ 2,2-DIMETHYLBUTANE                  │\n",
      "│ 2,3-DIMETHYLPENTANE                 │\n",
      "│ 2-METHYLPENTANE                     │\n",
      "│ DECANE                              │\n",
      "│ PENTANE                             │\n",
      "│ AGENTS DE SURFACE (BLEU MÉTH.) MG/L │\n",
      "│ TOXICITÉ DAPHNIES 24H               │\n",
      "├─────────────────────────────────────┤\n",
      "│         467 rows (20 shown)         │\n",
      "└─────────────────────────────────────┘\n",
      "\n"
     ]
    }
   ],
   "source": [
    "con.sql(\"\"\"\n",
    "    SELECT \n",
    "        distinct libmajparametre\n",
    "    FROM sise_prelevements prel\n",
    "    JOIN sise_resultats res ON res.referenceprel = prel.referenceprel\n",
    "    WHERE qualitparam = 'N' AND limitequal IS NULL AND refqual IS NULL\n",
    "    --GROUP BY libmajparametre, limitequal\n",
    "\"\"\").show()"
   ]
  },
  {
   "cell_type": "markdown",
   "id": "db5f8d69-93ad-4372-8c7b-9195f3908441",
   "metadata": {
    "jp-MarkdownHeadingCollapsed": true
   },
   "source": [
    "### Valeurs seuils qui diffèrent pour un même paramètre (NITRITES (EN NO2))"
   ]
  },
  {
   "cell_type": "code",
   "execution_count": 140,
   "id": "6b8746d5-67bc-4609-bbc1-7d934e036a33",
   "metadata": {},
   "outputs": [
    {
     "name": "stdout",
     "output_type": "stream",
     "text": [
      "┌────────────────────────────────────────────────────────┬───────────┐\n",
      "│                    libmajparametre                     │ nb_seuils │\n",
      "│                        varchar                         │   int64   │\n",
      "├────────────────────────────────────────────────────────┼───────────┤\n",
      "│ NITRITES (EN NO2)                                      │         2 │\n",
      "│ HYDROCARBURES POLYCYCLIQUES AROMATIQUES (4 SUBSTANCES) │         1 │\n",
      "│ DIFÉNOCONAZOLE                                         │         1 │\n",
      "│ NAPROPAMIDE                                            │         1 │\n",
      "│ PYRIMICARBE                                            │         1 │\n",
      "│ PYRACLOSTROBINE                                        │         1 │\n",
      "│ IODOSULFURON-METHYL-SODIUM                             │         1 │\n",
      "│ DICHOROPHÈNE                                           │         1 │\n",
      "│ COUMATÉTRALYL                                          │         1 │\n",
      "│ BROMOPROPYLATE                                         │         1 │\n",
      "│      ·                                                 │         · │\n",
      "│      ·                                                 │         · │\n",
      "│      ·                                                 │         · │\n",
      "│ PYRIMÉTHANIL                                           │         1 │\n",
      "│ TERBUTHYLAZIN                                          │         1 │\n",
      "│ ACÉTOCHLORE                                            │         1 │\n",
      "│ DAMINOZIDE                                             │         1 │\n",
      "│ TERBUPHOS                                              │         1 │\n",
      "│ MÉTOSULAM                                              │         1 │\n",
      "│ DESMÉTHYL-CHLORTOLURON                                 │         1 │\n",
      "│ DIFENOXURON                                            │         1 │\n",
      "│ TÉTRACHLORVINPHOS                                      │         1 │\n",
      "│ MCPP-2,4,4-TRIMETHYLPENTYL ESTER                       │         1 │\n",
      "├────────────────────────────────────────────────────────┴───────────┤\n",
      "│ 825 rows (20 shown)                                      2 columns │\n",
      "└────────────────────────────────────────────────────────────────────┘\n",
      "\n"
     ]
    }
   ],
   "source": [
    "# count distinct limite equal par param\n",
    "# voir ceux qui en ont plusieurs => compter\n",
    "# sortir des exemples complets (avec nom de ville)\n",
    "\n",
    "con.sql(\"\"\"\n",
    "    SELECT \n",
    "        libmajparametre, \n",
    "        count(distinct limitequal) as nb_seuils\n",
    "    FROM sise_prelevements prel\n",
    "    JOIN sise_resultats res ON res.referenceprel = prel.referenceprel\n",
    "    WHERE limitequal IS NOT NULL\n",
    "    GROUP BY libmajparametre\n",
    "    ORDER BY 2 DESC\n",
    "\"\"\").show()"
   ]
  },
  {
   "cell_type": "code",
   "execution_count": 143,
   "id": "88ac8a89-5512-45c8-aaf7-7f70e3fd0819",
   "metadata": {},
   "outputs": [
    {
     "data": {
      "text/html": [
       "<div>\n",
       "<style scoped>\n",
       "    .dataframe tbody tr th:only-of-type {\n",
       "        vertical-align: middle;\n",
       "    }\n",
       "\n",
       "    .dataframe tbody tr th {\n",
       "        vertical-align: top;\n",
       "    }\n",
       "\n",
       "    .dataframe thead th {\n",
       "        text-align: right;\n",
       "    }\n",
       "</style>\n",
       "<table border=\"1\" class=\"dataframe\">\n",
       "  <thead>\n",
       "    <tr style=\"text-align: right;\">\n",
       "      <th></th>\n",
       "      <th>nomcommuneprinc</th>\n",
       "      <th>dateprel</th>\n",
       "      <th>rqana</th>\n",
       "      <th>limitequal</th>\n",
       "    </tr>\n",
       "  </thead>\n",
       "  <tbody>\n",
       "    <tr>\n",
       "      <th>35</th>\n",
       "      <td>AMBRONAY</td>\n",
       "      <td>2024-01-23</td>\n",
       "      <td>&lt;0,02</td>\n",
       "      <td>&lt;=0,5 mg/L</td>\n",
       "    </tr>\n",
       "    <tr>\n",
       "      <th>308</th>\n",
       "      <td>AMBRONAY</td>\n",
       "      <td>2024-03-13</td>\n",
       "      <td>&lt;0,02</td>\n",
       "      <td>&lt;=0,5 mg/L</td>\n",
       "    </tr>\n",
       "    <tr>\n",
       "      <th>497</th>\n",
       "      <td>AMBRONAY</td>\n",
       "      <td>2024-07-08</td>\n",
       "      <td>&lt;0,02</td>\n",
       "      <td>&lt;=0,5 mg/L</td>\n",
       "    </tr>\n",
       "    <tr>\n",
       "      <th>609</th>\n",
       "      <td>AMBRONAY</td>\n",
       "      <td>2024-12-26</td>\n",
       "      <td>&lt;0,02</td>\n",
       "      <td>&lt;=0,5 mg/L</td>\n",
       "    </tr>\n",
       "    <tr>\n",
       "      <th>655</th>\n",
       "      <td>AMBLEON</td>\n",
       "      <td>2024-05-28</td>\n",
       "      <td>&lt;0,02</td>\n",
       "      <td>&lt;=0,5 mg/L</td>\n",
       "    </tr>\n",
       "    <tr>\n",
       "      <th>...</th>\n",
       "      <td>...</td>\n",
       "      <td>...</td>\n",
       "      <td>...</td>\n",
       "      <td>...</td>\n",
       "    </tr>\n",
       "    <tr>\n",
       "      <th>18773693</th>\n",
       "      <td>PAMANDZI</td>\n",
       "      <td>2024-01-09</td>\n",
       "      <td>&lt;0,05</td>\n",
       "      <td>&lt;=0,1 mg/L</td>\n",
       "    </tr>\n",
       "    <tr>\n",
       "      <th>18773809</th>\n",
       "      <td>PAMANDZI</td>\n",
       "      <td>2024-03-26</td>\n",
       "      <td>&lt;0,05</td>\n",
       "      <td>&lt;=0,1 mg/L</td>\n",
       "    </tr>\n",
       "    <tr>\n",
       "      <th>18773862</th>\n",
       "      <td>PAMANDZI</td>\n",
       "      <td>2024-06-04</td>\n",
       "      <td>&lt;0,05</td>\n",
       "      <td>&lt;=0,1 mg/L</td>\n",
       "    </tr>\n",
       "    <tr>\n",
       "      <th>18773939</th>\n",
       "      <td>PAMANDZI</td>\n",
       "      <td>2024-07-09</td>\n",
       "      <td>&lt;0,05</td>\n",
       "      <td>&lt;=0,1 mg/L</td>\n",
       "    </tr>\n",
       "    <tr>\n",
       "      <th>18774031</th>\n",
       "      <td>PAMANDZI</td>\n",
       "      <td>2024-09-10</td>\n",
       "      <td>&lt;0,05</td>\n",
       "      <td>&lt;=0,1 mg/L</td>\n",
       "    </tr>\n",
       "  </tbody>\n",
       "</table>\n",
       "<p>133917 rows × 4 columns</p>\n",
       "</div>"
      ],
      "text/plain": [
       "         nomcommuneprinc   dateprel  rqana  limitequal\n",
       "35              AMBRONAY 2024-01-23  <0,02  <=0,5 mg/L\n",
       "308             AMBRONAY 2024-03-13  <0,02  <=0,5 mg/L\n",
       "497             AMBRONAY 2024-07-08  <0,02  <=0,5 mg/L\n",
       "609             AMBRONAY 2024-12-26  <0,02  <=0,5 mg/L\n",
       "655              AMBLEON 2024-05-28  <0,02  <=0,5 mg/L\n",
       "...                  ...        ...    ...         ...\n",
       "18773693        PAMANDZI 2024-01-09  <0,05  <=0,1 mg/L\n",
       "18773809        PAMANDZI 2024-03-26  <0,05  <=0,1 mg/L\n",
       "18773862        PAMANDZI 2024-06-04  <0,05  <=0,1 mg/L\n",
       "18773939        PAMANDZI 2024-07-09  <0,05  <=0,1 mg/L\n",
       "18774031        PAMANDZI 2024-09-10  <0,05  <=0,1 mg/L\n",
       "\n",
       "[133917 rows x 4 columns]"
      ]
     },
     "execution_count": 143,
     "metadata": {},
     "output_type": "execute_result"
    }
   ],
   "source": [
    "result_prelev[result_prelev[\"libmajparametre\"] == \"NITRITES (EN NO2)\"][\n",
    "    [\"nomcommuneprinc\", \"dateprel\", \"rqana\", \"limitequal\"]\n",
    "]"
   ]
  },
  {
   "cell_type": "code",
   "execution_count": 144,
   "id": "b64f6c4f-6bc8-496d-861e-49f6bf16ebd5",
   "metadata": {},
   "outputs": [
    {
     "data": {
      "text/plain": [
       "array(['AMBRONAY', 'AMBLEON', 'BOZ', ..., 'DEMBENI', 'BANDRELE', 'BOUENI'],\n",
       "      shape=(16435,), dtype=object)"
      ]
     },
     "execution_count": 144,
     "metadata": {},
     "output_type": "execute_result"
    }
   ],
   "source": [
    "result_prelev[\n",
    "    (result_prelev[\"libmajparametre\"] == \"NITRITES (EN NO2)\")\n",
    "    & (result_prelev[\"limitequal\"] == \"<=0,5 mg/L\")\n",
    "][\"nomcommuneprinc\"].unique()  # <=0,1 mg/L, dateprel"
   ]
  },
  {
   "cell_type": "code",
   "execution_count": 145,
   "id": "cd33a631-5cc5-4987-90b0-349f3b4752eb",
   "metadata": {},
   "outputs": [
    {
     "data": {
      "text/plain": [
       "array(['ROUSSES (LES)', 'MACON', 'VALSERHONE', ..., 'KANI-KELI',\n",
       "       'CHICONI', 'CHIRONGUI'], shape=(7378,), dtype=object)"
      ]
     },
     "execution_count": 145,
     "metadata": {},
     "output_type": "execute_result"
    }
   ],
   "source": [
    "result_prelev[\n",
    "    (result_prelev[\"libmajparametre\"] == \"NITRITES (EN NO2)\")\n",
    "    & (result_prelev[\"limitequal\"] == \"<=0,1 mg/L\")\n",
    "][\"nomcommuneprinc\"].unique()  # <=0,1 mg/L, dateprel"
   ]
  },
  {
   "cell_type": "markdown",
   "id": "820d71bc-5129-4b3c-a1d0-12a5d0c49c8b",
   "metadata": {
    "jp-MarkdownHeadingCollapsed": true
   },
   "source": [
    "### Check homogénéité unité par paramètre"
   ]
  },
  {
   "cell_type": "code",
   "execution_count": 148,
   "id": "64139868-3e6a-48f5-8e3a-11720e9153b0",
   "metadata": {},
   "outputs": [
    {
     "name": "stdout",
     "output_type": "stream",
     "text": [
      "┌───────────────────────────┬──────────┐\n",
      "│      libmajparametre      │ nb_unite │\n",
      "│          varchar          │  int64   │\n",
      "├───────────────────────────┼──────────┤\n",
      "│ ACLONIFEN                 │        1 │\n",
      "│ DICHLOROMONOBROMOMÉTHANE  │        1 │\n",
      "│ AZIPROTRYNE               │        1 │\n",
      "│ TRIFLUSULFURON-METHYL     │        1 │\n",
      "│ THIOFANOX SULFOXYDE       │        1 │\n",
      "│ ALLYXYCARBE               │        1 │\n",
      "│ CHLORTHIOPHOS             │        1 │\n",
      "│ METHIOCARB SULFOXYDE      │        1 │\n",
      "│ BENZO(A)PYRÈNE *          │        1 │\n",
      "│ BENZÈNE                   │        1 │\n",
      "│    ·                      │        · │\n",
      "│    ·                      │        · │\n",
      "│    ·                      │        · │\n",
      "│ BROMOXYNIL OCTANOATE      │        1 │\n",
      "│ DIMÉTHOATE                │        1 │\n",
      "│ ETHEPHON                  │        1 │\n",
      "│ THIAZFLURON               │        1 │\n",
      "│ TRITICONAZOLE             │        1 │\n",
      "│ SAA ACÉTOCHLORE           │        1 │\n",
      "│ BROMOPHOS MÉTHYL          │        1 │\n",
      "│ TRICHLOROPHÉNOL-2,4,5     │        1 │\n",
      "│ HALAUXIFEN-METHYL         │        1 │\n",
      "│ 4,4'-DICHLOROBENZOPHENONE │        1 │\n",
      "├───────────────────────────┴──────────┤\n",
      "│ 825 rows (20 shown)        2 columns │\n",
      "└──────────────────────────────────────┘\n",
      "\n"
     ]
    }
   ],
   "source": [
    "# Checks unités\n",
    "\n",
    "con.sql(\"\"\"\n",
    "    SELECT \n",
    "        libmajparametre, \n",
    "        count(distinct cdunitereferencesiseeaux) as nb_unite\n",
    "    FROM sise_prelevements prel\n",
    "    JOIN sise_resultats res ON res.referenceprel = prel.referenceprel\n",
    "    WHERE limitequal IS NOT NULL\n",
    "    GROUP BY libmajparametre\n",
    "    ORDER BY 2 DESC\n",
    "\"\"\").show()\n",
    "\n",
    "# Ok toutes les unités sont équivalentes par paramètre"
   ]
  },
  {
   "cell_type": "markdown",
   "id": "766f75a9-52f9-47e3-8f0e-80d722c4f6c8",
   "metadata": {
    "jp-MarkdownHeadingCollapsed": true
   },
   "source": [
    "### Check cohérence unités valeurs relevées vs valeurs de références"
   ]
  },
  {
   "cell_type": "code",
   "execution_count": 238,
   "id": "a1618d2a-83c9-4922-9562-536cb9b8135f",
   "metadata": {},
   "outputs": [
    {
     "name": "stdout",
     "output_type": "stream",
     "text": [
      ". µg/L\n"
     ]
    }
   ],
   "source": [
    "pat1 = \"[0-9]+\"\n",
    "pat2 = \"<=\"\n",
    "combined_pat = r\"|\".join((pat1, pat2))\n",
    "\n",
    "result_prelev[\"unit_reference_seuil\"] = result_prelev[\"limitequal\"].str.replace(\n",
    "    combined_pat, \"\", regex=True\n",
    ")\n",
    "\n",
    "result_prelev[\"unit_reference_seuil\"] = result_prelev[\n",
    "    \"unit_reference_seuil\"\n",
    "].str.replace(r\". \", \"\", regex=True)"
   ]
  },
  {
   "cell_type": "code",
   "execution_count": 245,
   "id": "4a0620f6-287e-4642-9b6f-6e2cbe26cd03",
   "metadata": {},
   "outputs": [
    {
     "data": {
      "text/plain": [
       "array([None, 'µg/L', ' µg/L', ' mg/L', ' n/(mL)', 'mg/L', ' µg(CN)/L',\n",
       "       ' NG/(KPOIDCORPOREL/J)', ' NFU', ' NPP/mL', 'ng/L'], dtype=object)"
      ]
     },
     "execution_count": 245,
     "metadata": {},
     "output_type": "execute_result"
    }
   ],
   "source": [
    "result_prelev[\"unit_reference_seuil\"].unique()"
   ]
  },
  {
   "cell_type": "code",
   "execution_count": 246,
   "id": "dd4f0cae-0cdf-48b6-8178-10303ff0d272",
   "metadata": {},
   "outputs": [
    {
     "data": {
      "text/plain": [
       "array(['µg/L', 'SANS OBJET', 'n/(100mL)', 'µS/cm', 'mg(Cl2)/L', 'mg/L',\n",
       "       'mg(Pt)/L', 'n/mL', 'unité pH', '°C', 'NFU', 'Bq/L', 'mg(C)/L',\n",
       "       'µg(CN)/L', 'mSv/a', '°f', 'n/(100L)', 'mm/48h',\n",
       "       'NG/(KG POIDS CORPOREL/J)', 'mm3/L', 'n(cellules)/mL', 'mg(CO2)/L',\n",
       "       'mg(CO3)/L', 'mg(O2)/L', '%', 'mg(P2O5)/L', 'mg(SiO2)/L',\n",
       "       'NPP/100mL', 'UG/L', 'n', 'mg(H2S)/L', 'UFC/L', 'µg(ClO2)/L',\n",
       "       'ng/L', 'mg(PO4)/L', 'Abs/m', 'n/(10L)', 'n/(5L)',\n",
       "       'n(colonies)/mL', 'n/(250mL)'], dtype=object)"
      ]
     },
     "execution_count": 246,
     "metadata": {},
     "output_type": "execute_result"
    }
   ],
   "source": [
    "result_prelev[\"cdunitereferencesiseeaux\"].unique()"
   ]
  },
  {
   "cell_type": "code",
   "execution_count": 264,
   "id": "9f7a87a9-b629-4a70-90b6-ce2619d0ce4f",
   "metadata": {},
   "outputs": [],
   "source": [
    "diff = result_prelev[\n",
    "    (result_prelev[\"qualitparam\"] == \"QUANT\")\n",
    "    & (\n",
    "        result_prelev[\"cdunitereferencesiseeaux\"]\n",
    "        != result_prelev[\"unit_reference_seuil\"]\n",
    "    )\n",
    "][[\"libmajparametre\", \"cdunitereferencesiseeaux\", \"unit_reference_seuil\", \"limitequal\"]]"
   ]
  },
  {
   "cell_type": "code",
   "execution_count": 265,
   "id": "2643510e-61bf-46d7-bbf8-a625002061a1",
   "metadata": {},
   "outputs": [],
   "source": [
    "diff = diff.fillna(value=np.nan)"
   ]
  },
  {
   "cell_type": "code",
   "execution_count": 267,
   "id": "bdda4460-8de2-400c-980f-d4e8130a5633",
   "metadata": {},
   "outputs": [],
   "source": [
    "diff.dropna(inplace=True)"
   ]
  },
  {
   "cell_type": "code",
   "execution_count": 272,
   "id": "ee92a0b3-2ca9-4709-a749-bfb3033af905",
   "metadata": {},
   "outputs": [
    {
     "data": {
      "text/plain": [
       "cdunitereferencesiseeaux  unit_reference_seuil\n",
       "NFU                       NFU                      25841\n",
       "NG/(KG POIDS CORPOREL/J)  NG/(KPOIDCORPOREL/J)       697\n",
       "NPP/100mL                 NPP/mL                     104\n",
       "mg/L                      mg/L                    271918\n",
       "n/(100mL)                 n/(mL)                  767073\n",
       "µg(CN)/L                  µg(CN)/L                 24499\n",
       "µg/L                      µg/L                    558494\n",
       "Name: count, dtype: int64"
      ]
     },
     "execution_count": 272,
     "metadata": {},
     "output_type": "execute_result"
    }
   ],
   "source": [
    "diff.groupby(\"cdunitereferencesiseeaux\")[\"unit_reference_seuil\"].value_counts()"
   ]
  },
  {
   "cell_type": "markdown",
   "id": "4dd62b57-e78b-4224-bf71-706abce5ca66",
   "metadata": {},
   "source": [
    "__OK pour les unités des valeurs recensées VS valeurs de référence.__"
   ]
  },
  {
   "cell_type": "code",
   "execution_count": 274,
   "id": "0876cbc1-e9bf-4e1d-9c7e-ecf5a731f78c",
   "metadata": {},
   "outputs": [
    {
     "data": {
      "text/plain": [
       "array([None, '<=0.1 µg/L', '<=0.01 µg/L', '<=5 µg/L', '<=0.5 µg/L',\n",
       "       '<=50 µg/L', '<=2 mg/L', '<=0 n/(100mL)', '<=0,1 µg/L',\n",
       "       '<=20 µg/L', '<=0,5 mg/L', '<=50 mg/L', '<=1 mg/L', '<=10 µg/L',\n",
       "       '<=3 µg/L', '<=0,03 µg/L', '<=1 µg/L', '<=1,5 mg/L', '<=100 µg/L',\n",
       "       '<=50 µg(CN)/L', '<=0,5 µg/L', '<=6 µg/L', '<=0,25 mg/L',\n",
       "       '<=0,7 mg/L', '<=5 NG/(KG POIDS CORPOREL/J)', '<=0,1 mg/L',\n",
       "       '<=1 NFU', '<=0 NPP/100mL', '<=30 µg/L', '<=250 µg/L',\n",
       "       '<=700 µg/L', '<=2,5 µg/L', '<=2,4 mg/L', '<=0,1 ng/L',\n",
       "       '<=50.0 µg/L', '<=60 µg/L'], dtype=object)"
      ]
     },
     "execution_count": 274,
     "metadata": {},
     "output_type": "execute_result"
    }
   ],
   "source": [
    "result_prelev[\"limitequal\"].unique()  # forcément inférieur ou égal"
   ]
  },
  {
   "cell_type": "markdown",
   "id": "109fd1cf-1799-404a-ad15-1f10e24f6814",
   "metadata": {},
   "source": [
    "## [TO RUN] DEPASSEMENT DES SEUILS: CLEANING ET ANALYSES\n",
    "***\n",
    "FOCUS SUR LIMITES QUALITE plutôt que RÉFÉRENCES QUALITÉ\n",
    "FOCUS VAR QUANTITATIVES.\n",
    "\n",
    "CLEANING/VARIABLE CREATION:\n",
    "* Suppressions des cas sans valeurs de références\n",
    "* Extraction des valeurs de référence pour comparaison. \n",
    "* Variable __valtraduite__ à comparer aux valeurs extraites de __limitequal__\n",
    "* __Création d'une variable \"depassement_seuil\": boolean qui prend pour valeur True si la valeur relevée > valeur de référence, False sinon__\n",
    "\n",
    "RÉSULTATS:\n",
    "* 108 variables dont la valeur > seuil \n",
    "* __TOP 5: CHLOROTHALONIL R471811; CHLORIDAZONE DESPHÉNYL; CHLORATE; CHLORIDAZONE MÉTHYL DESPHÉNYL; CHLORIDAZONE MÉTHYL DESPHÉNYL__\n",
    "* __TOP 5 COMMUNES DEPASSEMENT: CAEN; SAINT-CONTEST; WAVRIN; BELPECH; BOSROBERT__"
   ]
  },
  {
   "cell_type": "markdown",
   "id": "699bef36-8964-403d-ad66-2b837ed49ee9",
   "metadata": {},
   "source": [
    "### Cleaning / Extract"
   ]
  },
  {
   "cell_type": "code",
   "execution_count": 1,
   "id": "23e4db7a-55f1-418e-8fe5-a51d89ff216a",
   "metadata": {},
   "outputs": [
    {
     "ename": "NameError",
     "evalue": "name 'result_prelev' is not defined",
     "output_type": "error",
     "traceback": [
      "\u001b[0;31m---------------------------------------------------------------------------\u001b[0m",
      "\u001b[0;31mNameError\u001b[0m                                 Traceback (most recent call last)",
      "Cell \u001b[0;32mIn[1], line 1\u001b[0m\n\u001b[0;32m----> 1\u001b[0m quant_compare_seuil \u001b[38;5;241m=\u001b[39m \u001b[43mresult_prelev\u001b[49m[result_prelev[\u001b[38;5;124m\"\u001b[39m\u001b[38;5;124mqualitparam\u001b[39m\u001b[38;5;124m\"\u001b[39m] \u001b[38;5;241m==\u001b[39m \u001b[38;5;124m\"\u001b[39m\u001b[38;5;124mQUANT\u001b[39m\u001b[38;5;124m\"\u001b[39m]\u001b[38;5;241m.\u001b[39mdropna(\n\u001b[1;32m      2\u001b[0m     subset\u001b[38;5;241m=\u001b[39m\u001b[38;5;124m\"\u001b[39m\u001b[38;5;124mlimitequal\u001b[39m\u001b[38;5;124m\"\u001b[39m\n\u001b[1;32m      3\u001b[0m )\n",
      "\u001b[0;31mNameError\u001b[0m: name 'result_prelev' is not defined"
     ]
    }
   ],
   "source": [
    "quant_compare_seuil = result_prelev[result_prelev[\"qualitparam\"] == \"QUANT\"].dropna(\n",
    "    subset=\"limitequal\"\n",
    ")"
   ]
  },
  {
   "cell_type": "code",
   "execution_count": 294,
   "id": "14a4b01c-a003-4d1f-aab1-dd844cc47911",
   "metadata": {},
   "outputs": [],
   "source": [
    "quant_compare_seuil[\"val_reference_limite\"] = quant_compare_seuil[\n",
    "    \"limitequal\"\n",
    "].str.split(expand=True)[0]\n",
    "quant_compare_seuil[\"unit_reference_limit\"] = quant_compare_seuil[\n",
    "    \"limitequal\"\n",
    "].str.split(expand=True)[1]"
   ]
  },
  {
   "cell_type": "code",
   "execution_count": 300,
   "id": "4a0fe380-7d7c-4890-a5e3-d83da1fbd52a",
   "metadata": {},
   "outputs": [],
   "source": [
    "quant_compare_seuil[\"val_reference_limite\"] = quant_compare_seuil[\n",
    "    \"val_reference_limite\"\n",
    "].str.replace(\"<=\", \"\", regex=True)"
   ]
  },
  {
   "cell_type": "code",
   "execution_count": 318,
   "id": "e007b1e9-b907-4d5f-9b01-3b10e9d21231",
   "metadata": {},
   "outputs": [],
   "source": [
    "quant_compare_seuil[\"val_reference_limite\"] = quant_compare_seuil[\n",
    "    \"val_reference_limite\"\n",
    "].str.replace(\",\", \".\", regex=True)"
   ]
  },
  {
   "cell_type": "code",
   "execution_count": 319,
   "id": "f7fc5604-6862-4fc3-b232-0b06300e3707",
   "metadata": {},
   "outputs": [],
   "source": [
    "quant_compare_seuil[\"val_reference_limite\"] = quant_compare_seuil[\n",
    "    \"val_reference_limite\"\n",
    "].astype(float)"
   ]
  },
  {
   "cell_type": "code",
   "execution_count": 305,
   "id": "4c8cb2b9-fb96-41bd-b00d-2e17c5be46d5",
   "metadata": {},
   "outputs": [
    {
     "data": {
      "text/html": [
       "<div>\n",
       "<style scoped>\n",
       "    .dataframe tbody tr th:only-of-type {\n",
       "        vertical-align: middle;\n",
       "    }\n",
       "\n",
       "    .dataframe tbody tr th {\n",
       "        vertical-align: top;\n",
       "    }\n",
       "\n",
       "    .dataframe thead th {\n",
       "        text-align: right;\n",
       "    }\n",
       "</style>\n",
       "<table border=\"1\" class=\"dataframe\">\n",
       "  <thead>\n",
       "    <tr style=\"text-align: right;\">\n",
       "      <th></th>\n",
       "      <th>inseecommuneprinc</th>\n",
       "      <th>nomcommuneprinc</th>\n",
       "      <th>referenceprel</th>\n",
       "      <th>dateprel</th>\n",
       "      <th>conclusionprel</th>\n",
       "      <th>plvconformitebacterio</th>\n",
       "      <th>plvconformitechimique</th>\n",
       "      <th>plvconformitereferencebact</th>\n",
       "      <th>plvconformitereferencechim</th>\n",
       "      <th>qualitparam</th>\n",
       "      <th>libmajparametre</th>\n",
       "      <th>rqana</th>\n",
       "      <th>cdunitereferencesiseeaux</th>\n",
       "      <th>limitequal</th>\n",
       "      <th>refqual</th>\n",
       "      <th>valtraduite</th>\n",
       "      <th>limit_qual</th>\n",
       "      <th>ref_qual</th>\n",
       "      <th>val_reference_limite</th>\n",
       "      <th>unit_reference_limit</th>\n",
       "    </tr>\n",
       "  </thead>\n",
       "  <tbody>\n",
       "    <tr>\n",
       "      <th>1</th>\n",
       "      <td>01007</td>\n",
       "      <td>AMBRONAY</td>\n",
       "      <td>00100139034</td>\n",
       "      <td>2024-01-23</td>\n",
       "      <td>Eau d'alimentation conforme aux limites de qua...</td>\n",
       "      <td>C</td>\n",
       "      <td>C</td>\n",
       "      <td>N</td>\n",
       "      <td>C</td>\n",
       "      <td>QUANT</td>\n",
       "      <td>ACRYLAMIDE</td>\n",
       "      <td>&lt;0,10</td>\n",
       "      <td>µg/L</td>\n",
       "      <td>&lt;=0.1 µg/L</td>\n",
       "      <td>NaN</td>\n",
       "      <td>0.0</td>\n",
       "      <td>C/D/S</td>\n",
       "      <td>N</td>\n",
       "      <td>0.1</td>\n",
       "      <td>µg/L</td>\n",
       "    </tr>\n",
       "    <tr>\n",
       "      <th>4</th>\n",
       "      <td>01007</td>\n",
       "      <td>AMBRONAY</td>\n",
       "      <td>00100139034</td>\n",
       "      <td>2024-01-23</td>\n",
       "      <td>Eau d'alimentation conforme aux limites de qua...</td>\n",
       "      <td>C</td>\n",
       "      <td>C</td>\n",
       "      <td>N</td>\n",
       "      <td>C</td>\n",
       "      <td>QUANT</td>\n",
       "      <td>BENZO(A)PYRÈNE *</td>\n",
       "      <td>&lt;0,0001</td>\n",
       "      <td>µg/L</td>\n",
       "      <td>&lt;=0.01 µg/L</td>\n",
       "      <td>NaN</td>\n",
       "      <td>0.0</td>\n",
       "      <td>C/D/S</td>\n",
       "      <td>N</td>\n",
       "      <td>0.01</td>\n",
       "      <td>µg/L</td>\n",
       "    </tr>\n",
       "    <tr>\n",
       "      <th>5</th>\n",
       "      <td>01007</td>\n",
       "      <td>AMBRONAY</td>\n",
       "      <td>00100139034</td>\n",
       "      <td>2024-01-23</td>\n",
       "      <td>Eau d'alimentation conforme aux limites de qua...</td>\n",
       "      <td>C</td>\n",
       "      <td>C</td>\n",
       "      <td>N</td>\n",
       "      <td>C</td>\n",
       "      <td>QUANT</td>\n",
       "      <td>BENZO(B)FLUORANTHÈNE</td>\n",
       "      <td>&lt;0,0005</td>\n",
       "      <td>µg/L</td>\n",
       "      <td>&lt;=0.1 µg/L</td>\n",
       "      <td>NaN</td>\n",
       "      <td>0.0</td>\n",
       "      <td>C/D/S</td>\n",
       "      <td>N</td>\n",
       "      <td>0.1</td>\n",
       "      <td>µg/L</td>\n",
       "    </tr>\n",
       "    <tr>\n",
       "      <th>7</th>\n",
       "      <td>01007</td>\n",
       "      <td>AMBRONAY</td>\n",
       "      <td>00100139034</td>\n",
       "      <td>2024-01-23</td>\n",
       "      <td>Eau d'alimentation conforme aux limites de qua...</td>\n",
       "      <td>C</td>\n",
       "      <td>C</td>\n",
       "      <td>N</td>\n",
       "      <td>C</td>\n",
       "      <td>QUANT</td>\n",
       "      <td>BENZO(G,H,I)PÉRYLÈNE</td>\n",
       "      <td>&lt;0,00050</td>\n",
       "      <td>µg/L</td>\n",
       "      <td>&lt;=0.1 µg/L</td>\n",
       "      <td>NaN</td>\n",
       "      <td>0.0</td>\n",
       "      <td>C/D/S</td>\n",
       "      <td>N</td>\n",
       "      <td>0.1</td>\n",
       "      <td>µg/L</td>\n",
       "    </tr>\n",
       "    <tr>\n",
       "      <th>8</th>\n",
       "      <td>01007</td>\n",
       "      <td>AMBRONAY</td>\n",
       "      <td>00100139034</td>\n",
       "      <td>2024-01-23</td>\n",
       "      <td>Eau d'alimentation conforme aux limites de qua...</td>\n",
       "      <td>C</td>\n",
       "      <td>C</td>\n",
       "      <td>N</td>\n",
       "      <td>C</td>\n",
       "      <td>QUANT</td>\n",
       "      <td>BENZO(K)FLUORANTHÈNE</td>\n",
       "      <td>&lt;0,0005</td>\n",
       "      <td>µg/L</td>\n",
       "      <td>&lt;=0.1 µg/L</td>\n",
       "      <td>NaN</td>\n",
       "      <td>0.0</td>\n",
       "      <td>C/D/S</td>\n",
       "      <td>N</td>\n",
       "      <td>0.1</td>\n",
       "      <td>µg/L</td>\n",
       "    </tr>\n",
       "  </tbody>\n",
       "</table>\n",
       "</div>"
      ],
      "text/plain": [
       "  inseecommuneprinc nomcommuneprinc referenceprel   dateprel  \\\n",
       "1             01007        AMBRONAY   00100139034 2024-01-23   \n",
       "4             01007        AMBRONAY   00100139034 2024-01-23   \n",
       "5             01007        AMBRONAY   00100139034 2024-01-23   \n",
       "7             01007        AMBRONAY   00100139034 2024-01-23   \n",
       "8             01007        AMBRONAY   00100139034 2024-01-23   \n",
       "\n",
       "                                      conclusionprel plvconformitebacterio  \\\n",
       "1  Eau d'alimentation conforme aux limites de qua...                     C   \n",
       "4  Eau d'alimentation conforme aux limites de qua...                     C   \n",
       "5  Eau d'alimentation conforme aux limites de qua...                     C   \n",
       "7  Eau d'alimentation conforme aux limites de qua...                     C   \n",
       "8  Eau d'alimentation conforme aux limites de qua...                     C   \n",
       "\n",
       "  plvconformitechimique plvconformitereferencebact plvconformitereferencechim  \\\n",
       "1                     C                          N                          C   \n",
       "4                     C                          N                          C   \n",
       "5                     C                          N                          C   \n",
       "7                     C                          N                          C   \n",
       "8                     C                          N                          C   \n",
       "\n",
       "  qualitparam       libmajparametre     rqana cdunitereferencesiseeaux  \\\n",
       "1       QUANT            ACRYLAMIDE     <0,10                     µg/L   \n",
       "4       QUANT      BENZO(A)PYRÈNE *   <0,0001                     µg/L   \n",
       "5       QUANT  BENZO(B)FLUORANTHÈNE   <0,0005                     µg/L   \n",
       "7       QUANT  BENZO(G,H,I)PÉRYLÈNE  <0,00050                     µg/L   \n",
       "8       QUANT  BENZO(K)FLUORANTHÈNE   <0,0005                     µg/L   \n",
       "\n",
       "    limitequal refqual  valtraduite limit_qual ref_qual val_reference_limite  \\\n",
       "1   <=0.1 µg/L     NaN          0.0      C/D/S        N                  0.1   \n",
       "4  <=0.01 µg/L     NaN          0.0      C/D/S        N                 0.01   \n",
       "5   <=0.1 µg/L     NaN          0.0      C/D/S        N                  0.1   \n",
       "7   <=0.1 µg/L     NaN          0.0      C/D/S        N                  0.1   \n",
       "8   <=0.1 µg/L     NaN          0.0      C/D/S        N                  0.1   \n",
       "\n",
       "  unit_reference_limit  \n",
       "1                 µg/L  \n",
       "4                 µg/L  \n",
       "5                 µg/L  \n",
       "7                 µg/L  \n",
       "8                 µg/L  "
      ]
     },
     "execution_count": 305,
     "metadata": {},
     "output_type": "execute_result"
    }
   ],
   "source": [
    "quant_compare_seuil.head()"
   ]
  },
  {
   "cell_type": "markdown",
   "id": "09a7c5f7-4e2c-43a6-80fb-be7dbf03fddf",
   "metadata": {},
   "source": [
    "### Variable depassement_seuil"
   ]
  },
  {
   "cell_type": "code",
   "execution_count": 320,
   "id": "45e8bd6c-1057-496f-8308-5111170003ee",
   "metadata": {},
   "outputs": [],
   "source": [
    "quant_compare_seuil[\"depassement_seuil\"] = np.where(\n",
    "    (quant_compare_seuil[\"valtraduite\"] > quant_compare_seuil[\"val_reference_limite\"]),\n",
    "    True,\n",
    "    False,\n",
    ")"
   ]
  },
  {
   "cell_type": "code",
   "execution_count": null,
   "id": "9b6a0485-3409-43e9-8c5e-763f6676fe8d",
   "metadata": {},
   "outputs": [
    {
     "data": {
      "text/html": [
       "<div>\n",
       "<style scoped>\n",
       "    .dataframe tbody tr th:only-of-type {\n",
       "        vertical-align: middle;\n",
       "    }\n",
       "\n",
       "    .dataframe tbody tr th {\n",
       "        vertical-align: top;\n",
       "    }\n",
       "\n",
       "    .dataframe thead th {\n",
       "        text-align: right;\n",
       "    }\n",
       "</style>\n",
       "<table border=\"1\" class=\"dataframe\">\n",
       "  <thead>\n",
       "    <tr style=\"text-align: right;\">\n",
       "      <th></th>\n",
       "      <th>libmajparametre</th>\n",
       "      <th>valtraduite</th>\n",
       "      <th>val_reference_limite</th>\n",
       "    </tr>\n",
       "  </thead>\n",
       "  <tbody>\n",
       "    <tr>\n",
       "      <th>4681408</th>\n",
       "      <td>CHLOROTHALONIL R471811</td>\n",
       "      <td>0.546</td>\n",
       "      <td>0.1</td>\n",
       "    </tr>\n",
       "    <tr>\n",
       "      <th>11421032</th>\n",
       "      <td>CHLORIDAZONE DESPHÉNYL</td>\n",
       "      <td>0.247</td>\n",
       "      <td>0.1</td>\n",
       "    </tr>\n",
       "    <tr>\n",
       "      <th>3351783</th>\n",
       "      <td>CHLOROTHALONIL R471811</td>\n",
       "      <td>0.656</td>\n",
       "      <td>0.1</td>\n",
       "    </tr>\n",
       "    <tr>\n",
       "      <th>9073066</th>\n",
       "      <td>ARSENIC</td>\n",
       "      <td>15.300</td>\n",
       "      <td>10.0</td>\n",
       "    </tr>\n",
       "    <tr>\n",
       "      <th>4718222</th>\n",
       "      <td>CHLOROTHALONIL R471811</td>\n",
       "      <td>0.114</td>\n",
       "      <td>0.1</td>\n",
       "    </tr>\n",
       "  </tbody>\n",
       "</table>\n",
       "</div>"
      ],
      "text/plain": [
       "                 libmajparametre  valtraduite  val_reference_limite\n",
       "4681408   CHLOROTHALONIL R471811        0.546                   0.1\n",
       "11421032  CHLORIDAZONE DESPHÉNYL        0.247                   0.1\n",
       "3351783   CHLOROTHALONIL R471811        0.656                   0.1\n",
       "9073066                  ARSENIC       15.300                  10.0\n",
       "4718222   CHLOROTHALONIL R471811        0.114                   0.1"
      ]
     },
     "execution_count": 324,
     "metadata": {},
     "output_type": "execute_result"
    }
   ],
   "source": [
    "quant_compare_seuil[quant_compare_seuil[\"depassement_seuil\"]][\n",
    "    [\"libmajparametre\", \"valtraduite\", \"val_reference_limite\"]\n",
    "].sample(n=5)"
   ]
  },
  {
   "cell_type": "markdown",
   "id": "4982e801-6565-4b4f-be54-83b51701bfe7",
   "metadata": {},
   "source": [
    "### Résultats"
   ]
  },
  {
   "cell_type": "code",
   "execution_count": null,
   "id": "76726499-7580-4a01-80bb-6b337cd53a31",
   "metadata": {},
   "outputs": [
    {
     "data": {
      "text/plain": [
       "108"
      ]
     },
     "execution_count": 328,
     "metadata": {},
     "output_type": "execute_result"
    }
   ],
   "source": [
    "quant_compare_seuil[quant_compare_seuil[\"depassement_seuil\"]][\n",
    "    \"libmajparametre\"\n",
    "].nunique()"
   ]
  },
  {
   "cell_type": "code",
   "execution_count": null,
   "id": "c44a583b-999c-4ef0-a795-9ab04f49cc0a",
   "metadata": {},
   "outputs": [
    {
     "data": {
      "text/plain": [
       "array(['ESCHERICHIA COLI /100ML - MF', 'ANTHRAQUINONE (PESTICIDE)',\n",
       "       'ENTÉROCOQUES /100ML-MS', 'CHLOROFORME',\n",
       "       'TRIHALOMÉTHANES (4 SUBSTANCES)', 'PLOMB', 'DIMÉTHÉNAMIDE',\n",
       "       'MÉTOLACHLORE', 'CHLOROTHALONIL R471811',\n",
       "       'TOTAL DES PESTICIDES ANALYSÉS', 'BENZO(A)PYRÈNE *',\n",
       "       'BENZO(B)FLUORANTHÈNE',\n",
       "       'HYDROCARBURES POLYCYCLIQUES AROMATIQUES (4 SUBSTANCES)',\n",
       "       'CHLORURE DE VINYL MONOMÈRE', 'NITRATES (EN NO3)',\n",
       "       'CHLORIDAZONE DESPHÉNYL', 'CHLORIDAZONE MÉTHYL DESPHÉNYL',\n",
       "       'FLUORURES MG/L', 'CHLOROTHALONIL R417888', 'MÉTAZACHLORE',\n",
       "       'ATRAZINE DÉSÉTHYL', 'DINOTERBE', 'AMPA', 'QUIMERAC', 'ATRAZINE',\n",
       "       'BROMATES', 'NITRATES/50 + NITRITES/3', 'TERBUTRYNE',\n",
       "       'SOMME DE 20 PFAS', '2-AMINOSULFONYL-N,N-DIMETHYLNICOTIN',\n",
       "       '2,6 DICHLOROBENZAMIDE', 'TURBIDITÉ NÉPHÉLOMÉTRIQUE NFU', 'NICKEL',\n",
       "       'ARSENIC', 'CHLORITES EN CAS DE TRAITEMENT POUVANT EN GÉNÉRER',\n",
       "       'ATRAZINE DÉSÉTHYL DÉISOPROPYL', 'DIMÉTHACHLORE OXA',\n",
       "       'IMIDACLOPRIDE', 'NITRITES (EN NO2)', 'DIMÉTACHLORE', 'CUIVRE',\n",
       "       'CHLORATES EN CAS DE TRAITEMENT POUVANT EN GÉNÉRER',\n",
       "       'TERBUMÉTON-DÉSETHYL', 'ATRAZINE DÉSÉTHYL-2-HYDROXY', 'FÉNURON',\n",
       "       'OXADIXYL', 'ETHYLENEUREE', 'CHLORITE EN  MG/L', 'CHLORATE',\n",
       "       'BENTAZONE', 'CHLORTOLURON', 'PROSULFOCARBE', 'ACRYLAMIDE',\n",
       "       'FOSETYL', 'MÉTALDÉHYDE', 'N,N-DIMETHYLSULFAMIDE', 'DICAMBA',\n",
       "       '2,4-D', 'GLUFOSINATE', 'GLYPHOSATE', 'INDÉNO(1,2,3-CD)PYRÈNE',\n",
       "       'FLUFENACET', 'PROPYZAMIDE', 'MÉTOBROMURON',\n",
       "       'TERBUTHYLAZIN DÉSÉTHYL', 'TERBUTHYLAZINE MÉTABOLITE LM6',\n",
       "       'FLUFENACET ESA', 'CLOMAZONE', 'ETHOFUMÉSATE', 'MÉTRIBUZINE',\n",
       "       'MÉTAMITRONE', 'DIELDRINE', 'SÉLÉNIUM', 'ANTIMOINE',\n",
       "       'CHROME HEXAVALENT', 'ATRAZINE-DÉISOPROPYL', 'SIMAZINE', 'AUSN',\n",
       "       'DICHLORPROP', 'SÉLÉNIUM SI CONDITIONS GÉOLOGIQUES PARTICULIÈRES',\n",
       "       'THIAZFLURON', 'EPICHLOROHYDRINE', 'CHLOROTHALONIL-4-HYDROXY',\n",
       "       'DIURON', 'DIFLUFÉNICANIL', 'HCH GAMMA (LINDANE)', 'SECBUMÉTON',\n",
       "       'ATRAZINE-2-HYDROXY', 'DIMETHENAMIDE-P', '2,4-MCPA', 'ETHEPHON',\n",
       "       'PETHOXAMIDE', 'LENACILE', 'ESCHERICHIA COLI (NPP/100ML)',\n",
       "       'DICHLOROÉTHANE-1,2', 'CLOPYRALID', 'DIMÉFURON', 'CARBENDAZIME',\n",
       "       'ENTÉROCOQUES /100ML-ML', 'OXA ALACHLORE', 'S-MÉTOLACHLORE',\n",
       "       'PHTHALIMIDE', 'DALAPON 85', 'BROMACIL',\n",
       "       'ATRAZINE ET SES MÉTABOLITES', 'FOSETYL-ALUMINIUM',\n",
       "       'FLUFÉNACET OXA', 'CHLORDÉCONE'], dtype=object)"
      ]
     },
     "execution_count": 329,
     "metadata": {},
     "output_type": "execute_result"
    }
   ],
   "source": [
    "quant_compare_seuil[quant_compare_seuil[\"depassement_seuil\"]][\n",
    "    \"libmajparametre\"\n",
    "].unique()"
   ]
  },
  {
   "cell_type": "code",
   "execution_count": null,
   "id": "b7f75187-b5d8-4151-b3cb-98fcaa2e4e13",
   "metadata": {},
   "outputs": [],
   "source": [
    "distirb_val_depassement = (\n",
    "    quant_compare_seuil[quant_compare_seuil[\"depassement_seuil\"]]\n",
    "    .groupby(\"libmajparametre\")[\"valtraduite\"]\n",
    "    .describe(percentiles=[0.1, 0.25, 0.5, 0.75, 0.9, 0.99])\n",
    "    .reset_index()\n",
    ")"
   ]
  },
  {
   "cell_type": "code",
   "execution_count": 334,
   "id": "1b41b041-4e2e-4216-9c2d-7c0b838bdcd6",
   "metadata": {},
   "outputs": [
    {
     "data": {
      "text/html": [
       "<div>\n",
       "<style scoped>\n",
       "    .dataframe tbody tr th:only-of-type {\n",
       "        vertical-align: middle;\n",
       "    }\n",
       "\n",
       "    .dataframe tbody tr th {\n",
       "        vertical-align: top;\n",
       "    }\n",
       "\n",
       "    .dataframe thead th {\n",
       "        text-align: right;\n",
       "    }\n",
       "</style>\n",
       "<table border=\"1\" class=\"dataframe\">\n",
       "  <thead>\n",
       "    <tr style=\"text-align: right;\">\n",
       "      <th></th>\n",
       "      <th>libmajparametre</th>\n",
       "      <th>count</th>\n",
       "      <th>mean</th>\n",
       "      <th>std</th>\n",
       "      <th>min</th>\n",
       "      <th>10%</th>\n",
       "      <th>25%</th>\n",
       "      <th>50%</th>\n",
       "      <th>75%</th>\n",
       "      <th>90%</th>\n",
       "      <th>99%</th>\n",
       "      <th>max</th>\n",
       "    </tr>\n",
       "  </thead>\n",
       "  <tbody>\n",
       "    <tr>\n",
       "      <th>0</th>\n",
       "      <td>2,4-D</td>\n",
       "      <td>2.0</td>\n",
       "      <td>0.135000</td>\n",
       "      <td>0.021213</td>\n",
       "      <td>0.120</td>\n",
       "      <td>0.1230</td>\n",
       "      <td>0.12750</td>\n",
       "      <td>0.135</td>\n",
       "      <td>0.1425</td>\n",
       "      <td>0.1470</td>\n",
       "      <td>0.14970</td>\n",
       "      <td>0.150</td>\n",
       "    </tr>\n",
       "    <tr>\n",
       "      <th>1</th>\n",
       "      <td>2,4-MCPA</td>\n",
       "      <td>2.0</td>\n",
       "      <td>0.313000</td>\n",
       "      <td>0.000000</td>\n",
       "      <td>0.313</td>\n",
       "      <td>0.3130</td>\n",
       "      <td>0.31300</td>\n",
       "      <td>0.313</td>\n",
       "      <td>0.3130</td>\n",
       "      <td>0.3130</td>\n",
       "      <td>0.31300</td>\n",
       "      <td>0.313</td>\n",
       "    </tr>\n",
       "    <tr>\n",
       "      <th>2</th>\n",
       "      <td>2,6 DICHLOROBENZAMIDE</td>\n",
       "      <td>11.0</td>\n",
       "      <td>0.130909</td>\n",
       "      <td>0.022563</td>\n",
       "      <td>0.110</td>\n",
       "      <td>0.1100</td>\n",
       "      <td>0.11000</td>\n",
       "      <td>0.120</td>\n",
       "      <td>0.1500</td>\n",
       "      <td>0.1600</td>\n",
       "      <td>0.16900</td>\n",
       "      <td>0.170</td>\n",
       "    </tr>\n",
       "    <tr>\n",
       "      <th>3</th>\n",
       "      <td>2-AMINOSULFONYL-N,N-DIMETHYLNICOTIN</td>\n",
       "      <td>9.0</td>\n",
       "      <td>0.135000</td>\n",
       "      <td>0.015289</td>\n",
       "      <td>0.117</td>\n",
       "      <td>0.1234</td>\n",
       "      <td>0.12500</td>\n",
       "      <td>0.132</td>\n",
       "      <td>0.1390</td>\n",
       "      <td>0.1454</td>\n",
       "      <td>0.16844</td>\n",
       "      <td>0.171</td>\n",
       "    </tr>\n",
       "    <tr>\n",
       "      <th>4</th>\n",
       "      <td>ACRYLAMIDE</td>\n",
       "      <td>20.0</td>\n",
       "      <td>0.376950</td>\n",
       "      <td>0.153294</td>\n",
       "      <td>0.140</td>\n",
       "      <td>0.1580</td>\n",
       "      <td>0.27475</td>\n",
       "      <td>0.420</td>\n",
       "      <td>0.5100</td>\n",
       "      <td>0.5410</td>\n",
       "      <td>0.55000</td>\n",
       "      <td>0.550</td>\n",
       "    </tr>\n",
       "    <tr>\n",
       "      <th>...</th>\n",
       "      <td>...</td>\n",
       "      <td>...</td>\n",
       "      <td>...</td>\n",
       "      <td>...</td>\n",
       "      <td>...</td>\n",
       "      <td>...</td>\n",
       "      <td>...</td>\n",
       "      <td>...</td>\n",
       "      <td>...</td>\n",
       "      <td>...</td>\n",
       "      <td>...</td>\n",
       "      <td>...</td>\n",
       "    </tr>\n",
       "    <tr>\n",
       "      <th>103</th>\n",
       "      <td>TERBUTRYNE</td>\n",
       "      <td>1.0</td>\n",
       "      <td>0.122000</td>\n",
       "      <td>NaN</td>\n",
       "      <td>0.122</td>\n",
       "      <td>0.1220</td>\n",
       "      <td>0.12200</td>\n",
       "      <td>0.122</td>\n",
       "      <td>0.1220</td>\n",
       "      <td>0.1220</td>\n",
       "      <td>0.12200</td>\n",
       "      <td>0.122</td>\n",
       "    </tr>\n",
       "    <tr>\n",
       "      <th>104</th>\n",
       "      <td>THIAZFLURON</td>\n",
       "      <td>2.0</td>\n",
       "      <td>0.130000</td>\n",
       "      <td>0.014142</td>\n",
       "      <td>0.120</td>\n",
       "      <td>0.1220</td>\n",
       "      <td>0.12500</td>\n",
       "      <td>0.130</td>\n",
       "      <td>0.1350</td>\n",
       "      <td>0.1380</td>\n",
       "      <td>0.13980</td>\n",
       "      <td>0.140</td>\n",
       "    </tr>\n",
       "    <tr>\n",
       "      <th>105</th>\n",
       "      <td>TOTAL DES PESTICIDES ANALYSÉS</td>\n",
       "      <td>3254.0</td>\n",
       "      <td>1.703089</td>\n",
       "      <td>1.811875</td>\n",
       "      <td>0.501</td>\n",
       "      <td>0.5730</td>\n",
       "      <td>0.70300</td>\n",
       "      <td>1.035</td>\n",
       "      <td>1.9360</td>\n",
       "      <td>3.4816</td>\n",
       "      <td>9.33156</td>\n",
       "      <td>20.082</td>\n",
       "    </tr>\n",
       "    <tr>\n",
       "      <th>106</th>\n",
       "      <td>TRIHALOMÉTHANES (4 SUBSTANCES)</td>\n",
       "      <td>90.0</td>\n",
       "      <td>126.600000</td>\n",
       "      <td>28.524267</td>\n",
       "      <td>100.390</td>\n",
       "      <td>102.9350</td>\n",
       "      <td>108.30000</td>\n",
       "      <td>115.550</td>\n",
       "      <td>134.8750</td>\n",
       "      <td>159.0990</td>\n",
       "      <td>216.38810</td>\n",
       "      <td>235.710</td>\n",
       "    </tr>\n",
       "    <tr>\n",
       "      <th>107</th>\n",
       "      <td>TURBIDITÉ NÉPHÉLOMÉTRIQUE NFU</td>\n",
       "      <td>704.0</td>\n",
       "      <td>4.133054</td>\n",
       "      <td>10.578307</td>\n",
       "      <td>1.010</td>\n",
       "      <td>1.1000</td>\n",
       "      <td>1.30000</td>\n",
       "      <td>1.800</td>\n",
       "      <td>3.0900</td>\n",
       "      <td>6.1420</td>\n",
       "      <td>54.00000</td>\n",
       "      <td>188.000</td>\n",
       "    </tr>\n",
       "  </tbody>\n",
       "</table>\n",
       "<p>108 rows × 12 columns</p>\n",
       "</div>"
      ],
      "text/plain": [
       "                         libmajparametre   count        mean        std  \\\n",
       "0                                  2,4-D     2.0    0.135000   0.021213   \n",
       "1                               2,4-MCPA     2.0    0.313000   0.000000   \n",
       "2                  2,6 DICHLOROBENZAMIDE    11.0    0.130909   0.022563   \n",
       "3    2-AMINOSULFONYL-N,N-DIMETHYLNICOTIN     9.0    0.135000   0.015289   \n",
       "4                             ACRYLAMIDE    20.0    0.376950   0.153294   \n",
       "..                                   ...     ...         ...        ...   \n",
       "103                           TERBUTRYNE     1.0    0.122000        NaN   \n",
       "104                          THIAZFLURON     2.0    0.130000   0.014142   \n",
       "105        TOTAL DES PESTICIDES ANALYSÉS  3254.0    1.703089   1.811875   \n",
       "106       TRIHALOMÉTHANES (4 SUBSTANCES)    90.0  126.600000  28.524267   \n",
       "107        TURBIDITÉ NÉPHÉLOMÉTRIQUE NFU   704.0    4.133054  10.578307   \n",
       "\n",
       "         min       10%        25%      50%       75%       90%        99%  \\\n",
       "0      0.120    0.1230    0.12750    0.135    0.1425    0.1470    0.14970   \n",
       "1      0.313    0.3130    0.31300    0.313    0.3130    0.3130    0.31300   \n",
       "2      0.110    0.1100    0.11000    0.120    0.1500    0.1600    0.16900   \n",
       "3      0.117    0.1234    0.12500    0.132    0.1390    0.1454    0.16844   \n",
       "4      0.140    0.1580    0.27475    0.420    0.5100    0.5410    0.55000   \n",
       "..       ...       ...        ...      ...       ...       ...        ...   \n",
       "103    0.122    0.1220    0.12200    0.122    0.1220    0.1220    0.12200   \n",
       "104    0.120    0.1220    0.12500    0.130    0.1350    0.1380    0.13980   \n",
       "105    0.501    0.5730    0.70300    1.035    1.9360    3.4816    9.33156   \n",
       "106  100.390  102.9350  108.30000  115.550  134.8750  159.0990  216.38810   \n",
       "107    1.010    1.1000    1.30000    1.800    3.0900    6.1420   54.00000   \n",
       "\n",
       "         max  \n",
       "0      0.150  \n",
       "1      0.313  \n",
       "2      0.170  \n",
       "3      0.171  \n",
       "4      0.550  \n",
       "..       ...  \n",
       "103    0.122  \n",
       "104    0.140  \n",
       "105   20.082  \n",
       "106  235.710  \n",
       "107  188.000  \n",
       "\n",
       "[108 rows x 12 columns]"
      ]
     },
     "execution_count": 334,
     "metadata": {},
     "output_type": "execute_result"
    }
   ],
   "source": [
    "distirb_val_depassement\n",
    "# ajouter valeurs de référence..."
   ]
  },
  {
   "cell_type": "code",
   "execution_count": 372,
   "id": "cfb1cb3c-0d32-4245-b4be-8c16fec3f81c",
   "metadata": {},
   "outputs": [],
   "source": [
    "proportions_param_nc = (\n",
    "    quant_compare_seuil.groupby(\"libmajparametre\")[\"depassement_seuil\"]\n",
    "    .value_counts(normalize=True)\n",
    "    .reset_index()\n",
    ")"
   ]
  },
  {
   "cell_type": "code",
   "execution_count": 374,
   "id": "79bcd7c0-a4e8-4d13-a5e4-c9125f3b937b",
   "metadata": {},
   "outputs": [
    {
     "data": {
      "text/html": [
       "<div>\n",
       "<style scoped>\n",
       "    .dataframe tbody tr th:only-of-type {\n",
       "        vertical-align: middle;\n",
       "    }\n",
       "\n",
       "    .dataframe tbody tr th {\n",
       "        vertical-align: top;\n",
       "    }\n",
       "\n",
       "    .dataframe thead th {\n",
       "        text-align: right;\n",
       "    }\n",
       "</style>\n",
       "<table border=\"1\" class=\"dataframe\">\n",
       "  <thead>\n",
       "    <tr style=\"text-align: right;\">\n",
       "      <th></th>\n",
       "      <th>libmajparametre</th>\n",
       "      <th>depassement_seuil</th>\n",
       "      <th>proportion</th>\n",
       "    </tr>\n",
       "  </thead>\n",
       "  <tbody>\n",
       "    <tr>\n",
       "      <th>201</th>\n",
       "      <td>CHLOROTHALONIL R471811</td>\n",
       "      <td>True</td>\n",
       "      <td>0.492993</td>\n",
       "    </tr>\n",
       "    <tr>\n",
       "      <th>178</th>\n",
       "      <td>CHLORIDAZONE DESPHÉNYL</td>\n",
       "      <td>True</td>\n",
       "      <td>0.224839</td>\n",
       "    </tr>\n",
       "    <tr>\n",
       "      <th>161</th>\n",
       "      <td>CHLORATE</td>\n",
       "      <td>True</td>\n",
       "      <td>0.219101</td>\n",
       "    </tr>\n",
       "    <tr>\n",
       "      <th>180</th>\n",
       "      <td>CHLORIDAZONE MÉTHYL DESPHÉNYL</td>\n",
       "      <td>True</td>\n",
       "      <td>0.125590</td>\n",
       "    </tr>\n",
       "    <tr>\n",
       "      <th>199</th>\n",
       "      <td>CHLOROTHALONIL R417888</td>\n",
       "      <td>True</td>\n",
       "      <td>0.118324</td>\n",
       "    </tr>\n",
       "    <tr>\n",
       "      <th>...</th>\n",
       "      <td>...</td>\n",
       "      <td>...</td>\n",
       "      <td>...</td>\n",
       "    </tr>\n",
       "    <tr>\n",
       "      <th>198</th>\n",
       "      <td>CHLOROTHALONIL R417888</td>\n",
       "      <td>False</td>\n",
       "      <td>0.881676</td>\n",
       "    </tr>\n",
       "    <tr>\n",
       "      <th>179</th>\n",
       "      <td>CHLORIDAZONE MÉTHYL DESPHÉNYL</td>\n",
       "      <td>False</td>\n",
       "      <td>0.874410</td>\n",
       "    </tr>\n",
       "    <tr>\n",
       "      <th>160</th>\n",
       "      <td>CHLORATE</td>\n",
       "      <td>False</td>\n",
       "      <td>0.780899</td>\n",
       "    </tr>\n",
       "    <tr>\n",
       "      <th>177</th>\n",
       "      <td>CHLORIDAZONE DESPHÉNYL</td>\n",
       "      <td>False</td>\n",
       "      <td>0.775161</td>\n",
       "    </tr>\n",
       "    <tr>\n",
       "      <th>200</th>\n",
       "      <td>CHLOROTHALONIL R471811</td>\n",
       "      <td>False</td>\n",
       "      <td>0.507007</td>\n",
       "    </tr>\n",
       "  </tbody>\n",
       "</table>\n",
       "<p>933 rows × 3 columns</p>\n",
       "</div>"
      ],
      "text/plain": [
       "                   libmajparametre  depassement_seuil  proportion\n",
       "201         CHLOROTHALONIL R471811               True    0.492993\n",
       "178         CHLORIDAZONE DESPHÉNYL               True    0.224839\n",
       "161                       CHLORATE               True    0.219101\n",
       "180  CHLORIDAZONE MÉTHYL DESPHÉNYL               True    0.125590\n",
       "199         CHLOROTHALONIL R417888               True    0.118324\n",
       "..                             ...                ...         ...\n",
       "198         CHLOROTHALONIL R417888              False    0.881676\n",
       "179  CHLORIDAZONE MÉTHYL DESPHÉNYL              False    0.874410\n",
       "160                       CHLORATE              False    0.780899\n",
       "177         CHLORIDAZONE DESPHÉNYL              False    0.775161\n",
       "200         CHLOROTHALONIL R471811              False    0.507007\n",
       "\n",
       "[933 rows x 3 columns]"
      ]
     },
     "execution_count": 374,
     "metadata": {},
     "output_type": "execute_result"
    }
   ],
   "source": [
    "proportions_param_nc.sort_values(\n",
    "    by=[\"depassement_seuil\", \"proportion\"], ascending=False\n",
    ")"
   ]
  },
  {
   "cell_type": "code",
   "execution_count": null,
   "id": "2fc0bc26-a4cb-4f0f-ad67-fdfc3adaa897",
   "metadata": {},
   "outputs": [
    {
     "data": {
      "text/html": [
       "<div>\n",
       "<style scoped>\n",
       "    .dataframe tbody tr th:only-of-type {\n",
       "        vertical-align: middle;\n",
       "    }\n",
       "\n",
       "    .dataframe tbody tr th {\n",
       "        vertical-align: top;\n",
       "    }\n",
       "\n",
       "    .dataframe thead th {\n",
       "        text-align: right;\n",
       "    }\n",
       "</style>\n",
       "<table border=\"1\" class=\"dataframe\">\n",
       "  <thead>\n",
       "    <tr style=\"text-align: right;\">\n",
       "      <th></th>\n",
       "      <th>libmajparametre</th>\n",
       "      <th>inseecommuneprinc</th>\n",
       "    </tr>\n",
       "  </thead>\n",
       "  <tbody>\n",
       "    <tr>\n",
       "      <th>32</th>\n",
       "      <td>CHLOROTHALONIL R471811</td>\n",
       "      <td>6297</td>\n",
       "    </tr>\n",
       "    <tr>\n",
       "      <th>26</th>\n",
       "      <td>CHLORIDAZONE DESPHÉNYL</td>\n",
       "      <td>5174</td>\n",
       "    </tr>\n",
       "    <tr>\n",
       "      <th>57</th>\n",
       "      <td>ESCHERICHIA COLI /100ML - MF</td>\n",
       "      <td>3893</td>\n",
       "    </tr>\n",
       "    <tr>\n",
       "      <th>54</th>\n",
       "      <td>ENTÉROCOQUES /100ML-MS</td>\n",
       "      <td>3550</td>\n",
       "    </tr>\n",
       "    <tr>\n",
       "      <th>105</th>\n",
       "      <td>TOTAL DES PESTICIDES ANALYSÉS</td>\n",
       "      <td>3254</td>\n",
       "    </tr>\n",
       "    <tr>\n",
       "      <th>...</th>\n",
       "      <td>...</td>\n",
       "      <td>...</td>\n",
       "    </tr>\n",
       "    <tr>\n",
       "      <th>37</th>\n",
       "      <td>CLOMAZONE</td>\n",
       "      <td>1</td>\n",
       "    </tr>\n",
       "    <tr>\n",
       "      <th>89</th>\n",
       "      <td>PHTHALIMIDE</td>\n",
       "      <td>1</td>\n",
       "    </tr>\n",
       "    <tr>\n",
       "      <th>88</th>\n",
       "      <td>PETHOXAMIDE</td>\n",
       "      <td>1</td>\n",
       "    </tr>\n",
       "    <tr>\n",
       "      <th>76</th>\n",
       "      <td>MÉTAMITRONE</td>\n",
       "      <td>1</td>\n",
       "    </tr>\n",
       "    <tr>\n",
       "      <th>78</th>\n",
       "      <td>MÉTOBROMURON</td>\n",
       "      <td>1</td>\n",
       "    </tr>\n",
       "  </tbody>\n",
       "</table>\n",
       "<p>108 rows × 2 columns</p>\n",
       "</div>"
      ],
      "text/plain": [
       "                   libmajparametre  inseecommuneprinc\n",
       "32          CHLOROTHALONIL R471811               6297\n",
       "26          CHLORIDAZONE DESPHÉNYL               5174\n",
       "57    ESCHERICHIA COLI /100ML - MF               3893\n",
       "54          ENTÉROCOQUES /100ML-MS               3550\n",
       "105  TOTAL DES PESTICIDES ANALYSÉS               3254\n",
       "..                             ...                ...\n",
       "37                       CLOMAZONE                  1\n",
       "89                     PHTHALIMIDE                  1\n",
       "88                     PETHOXAMIDE                  1\n",
       "76                     MÉTAMITRONE                  1\n",
       "78                    MÉTOBROMURON                  1\n",
       "\n",
       "[108 rows x 2 columns]"
      ]
     },
     "execution_count": 377,
     "metadata": {},
     "output_type": "execute_result"
    }
   ],
   "source": [
    "quant_compare_seuil[quant_compare_seuil[\"depassement_seuil\"]].groupby(\n",
    "    \"libmajparametre\"\n",
    ")[\"inseecommuneprinc\"].count().reset_index().sort_values(\n",
    "    by=\"inseecommuneprinc\", ascending=False\n",
    ")"
   ]
  },
  {
   "cell_type": "code",
   "execution_count": null,
   "id": "9508dc9d-80da-4156-9b1a-9252b21c067c",
   "metadata": {},
   "outputs": [
    {
     "data": {
      "text/html": [
       "<div>\n",
       "<style scoped>\n",
       "    .dataframe tbody tr th:only-of-type {\n",
       "        vertical-align: middle;\n",
       "    }\n",
       "\n",
       "    .dataframe tbody tr th {\n",
       "        vertical-align: top;\n",
       "    }\n",
       "\n",
       "    .dataframe thead th {\n",
       "        text-align: right;\n",
       "    }\n",
       "</style>\n",
       "<table border=\"1\" class=\"dataframe\">\n",
       "  <thead>\n",
       "    <tr style=\"text-align: right;\">\n",
       "      <th></th>\n",
       "      <th>inseecommuneprinc</th>\n",
       "      <th>nomcommuneprinc</th>\n",
       "      <th>referenceprel</th>\n",
       "    </tr>\n",
       "  </thead>\n",
       "  <tbody>\n",
       "    <tr>\n",
       "      <th>1183</th>\n",
       "      <td>14118</td>\n",
       "      <td>CAEN</td>\n",
       "      <td>156</td>\n",
       "    </tr>\n",
       "    <tr>\n",
       "      <th>1239</th>\n",
       "      <td>14566</td>\n",
       "      <td>SAINT-CONTEST</td>\n",
       "      <td>135</td>\n",
       "    </tr>\n",
       "    <tr>\n",
       "      <th>4198</th>\n",
       "      <td>59653</td>\n",
       "      <td>WAVRIN</td>\n",
       "      <td>120</td>\n",
       "    </tr>\n",
       "    <tr>\n",
       "      <th>1030</th>\n",
       "      <td>11033</td>\n",
       "      <td>BELPECH</td>\n",
       "      <td>109</td>\n",
       "    </tr>\n",
       "    <tr>\n",
       "      <th>1963</th>\n",
       "      <td>27095</td>\n",
       "      <td>BOSROBERT</td>\n",
       "      <td>96</td>\n",
       "    </tr>\n",
       "    <tr>\n",
       "      <th>...</th>\n",
       "      <td>...</td>\n",
       "      <td>...</td>\n",
       "      <td>...</td>\n",
       "    </tr>\n",
       "    <tr>\n",
       "      <th>2216</th>\n",
       "      <td>2A268</td>\n",
       "      <td>SAMPOLO</td>\n",
       "      <td>1</td>\n",
       "    </tr>\n",
       "    <tr>\n",
       "      <th>4776</th>\n",
       "      <td>62845</td>\n",
       "      <td>VERLINCTHUN</td>\n",
       "      <td>1</td>\n",
       "    </tr>\n",
       "    <tr>\n",
       "      <th>2220</th>\n",
       "      <td>2A282</td>\n",
       "      <td>SOCCIA</td>\n",
       "      <td>1</td>\n",
       "    </tr>\n",
       "    <tr>\n",
       "      <th>4771</th>\n",
       "      <td>62836</td>\n",
       "      <td>VAUDRICOURT</td>\n",
       "      <td>1</td>\n",
       "    </tr>\n",
       "    <tr>\n",
       "      <th>3190</th>\n",
       "      <td>46220</td>\n",
       "      <td>PINSAC</td>\n",
       "      <td>1</td>\n",
       "    </tr>\n",
       "  </tbody>\n",
       "</table>\n",
       "<p>6380 rows × 3 columns</p>\n",
       "</div>"
      ],
      "text/plain": [
       "     inseecommuneprinc nomcommuneprinc  referenceprel\n",
       "1183             14118            CAEN            156\n",
       "1239             14566   SAINT-CONTEST            135\n",
       "4198             59653          WAVRIN            120\n",
       "1030             11033         BELPECH            109\n",
       "1963             27095       BOSROBERT             96\n",
       "...                ...             ...            ...\n",
       "2216             2A268         SAMPOLO              1\n",
       "4776             62845     VERLINCTHUN              1\n",
       "2220             2A282          SOCCIA              1\n",
       "4771             62836     VAUDRICOURT              1\n",
       "3190             46220          PINSAC              1\n",
       "\n",
       "[6380 rows x 3 columns]"
      ]
     },
     "execution_count": 382,
     "metadata": {},
     "output_type": "execute_result"
    }
   ],
   "source": [
    "# Cas avec dépassements de seuils.\n",
    "quant_compare_seuil[quant_compare_seuil[\"depassement_seuil\"]].groupby(\n",
    "    [\"inseecommuneprinc\", \"nomcommuneprinc\"]\n",
    ")[\"referenceprel\"].count().reset_index().sort_values(\n",
    "    by=\"referenceprel\", ascending=False\n",
    ")\n",
    "\n",
    "# ajout le nomb de molecules différentes avec dépassement."
   ]
  },
  {
   "cell_type": "markdown",
   "id": "fbc6ec02-d5ee-46a5-a22e-cb9c76016b0a",
   "metadata": {},
   "source": [
    "# Interrogations / Informations suite aux premières analyses et à la première réunion de travail"
   ]
  },
  {
   "cell_type": "markdown",
   "id": "d8320024-59fa-4fd7-8feb-068a1d1ef745",
   "metadata": {},
   "source": [
    "INFOS SUPP SUITE REUNION: \n",
    "* On ne tient PAS compte des variables qualitatives (très gros focus sur les pesticides notamment). \n",
    "* Dans le livrable: bilan 2020-2024\n",
    "* Attention trier les données sur eau acheminée (en aval donc) ? => vérifier que c'est bien le cas dans les tables. \n",
    "* On voudrait les VMAX établies par l'ANSES (revoir doc..)\n",
    "* /!\\ Niveaux de gravité sur la présentation de Pauline => notamment durée de non conformité.\n",
    "* Arrêté: https://www.legifrance.gouv.fr/loda/id/JORFTEXT000000465574/2020-10-22/\n",
    "\n",
    "ANALYSES A RETRAVAILLER:\n",
    "* Rapport les top mol/communes au nombre de prélèvements par molécules / communes pour avoir la proportion réelle...\n",
    "* Voir comment représenter la distrib valeurs relevées vs valeurs conformes / valeurs de référence \n",
    "\n",
    "ANALYSES FUTURES: \n",
    "\n",
    "* aller plus loin, par prélèvement: combinaison de molécules, corrélations, fréquences...\n",
    "* carte de dépassement de seuil...\n",
    ".\n",
    "* inclure résultats pour les références qualité ? (jusqu'ici seulement limites)\n",
    "* Affiner les analyses: intégrer les dérogations dans les conformités (mais que 1%...)\n",
    "* Par région: type / nb de molécules recherchées et fréquences des relevés.\n",
    "* Historique 2020-2024 avec notamment évolution des seuils ? \n",
    "\n",
    "RECHERCHES:\n",
    "* Etude __valtraduite__ et exploitabilité (vs __rqana__) \n",
    "* cf présentation résultats: exploitabilité réelle de prélevements ? cf analyses UDI..                                                \n"
   ]
  }
 ],
 "metadata": {
  "kernelspec": {
   "display_name": "Python 3 (ipykernel)",
   "language": "python",
   "name": "python3"
  },
  "language_info": {
   "codemirror_mode": {
    "name": "ipython",
    "version": 3
   },
   "file_extension": ".py",
   "mimetype": "text/x-python",
   "name": "python",
   "nbconvert_exporter": "python",
   "pygments_lexer": "ipython3",
   "version": "3.12.8"
  }
 },
 "nbformat": 4,
 "nbformat_minor": 5
}
