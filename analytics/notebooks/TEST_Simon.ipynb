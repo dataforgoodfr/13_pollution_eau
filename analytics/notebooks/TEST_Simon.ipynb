{
 "cells": [
  {
   "cell_type": "code",
   "execution_count": 1,
   "id": "779c29d5",
   "metadata": {},
   "outputs": [
    {
     "data": {
      "text/html": [
       "<span style=\"None\">Tip: You may define configurations in C:\\Users\\simon\\Documents\\Git\\13_pollution_eau\\pyproject.toml or C:\\Users\\simon\\.jupysql\\config. </span>"
      ],
      "text/plain": [
       "Tip: You may define configurations in C:\\Users\\simon\\Documents\\Git\\13_pollution_eau\\pyproject.toml or C:\\Users\\simon\\.jupysql\\config. "
      ]
     },
     "metadata": {},
     "output_type": "display_data"
    },
    {
     "data": {
      "text/html": [
       "Please review our <a href='https://jupysql.ploomber.io/en/latest/api/configuration.html#loading-from-a-file'>configuration guideline</a>."
      ],
      "text/plain": [
       "<IPython.core.display.HTML object>"
      ]
     },
     "metadata": {},
     "output_type": "display_data"
    },
    {
     "data": {
      "text/html": [
       "<span style=\"None\">Did not find user configurations in C:\\Users\\simon\\Documents\\Git\\13_pollution_eau\\pyproject.toml.</span>"
      ],
      "text/plain": [
       "Did not find user configurations in C:\\Users\\simon\\Documents\\Git\\13_pollution_eau\\pyproject.toml."
      ]
     },
     "metadata": {},
     "output_type": "display_data"
    },
    {
     "data": {
      "text/html": [
       "<span style=\"None\">Connecting to &#x27;duckdb:///../../database/data.duckdb&#x27;</span>"
      ],
      "text/plain": [
       "Connecting to 'duckdb:///../../database/data.duckdb'"
      ]
     },
     "metadata": {},
     "output_type": "display_data"
    }
   ],
   "source": [
    "%reload_ext sql\n",
    "%sql duckdb:///../../database/data.duckdb\n",
    "%config SqlMagic.displaylimit = 20\n",
    "%config SqlMagic.named_parameters=\"enabled\" "
   ]
  },
  {
   "cell_type": "code",
   "execution_count": 7,
   "id": "7d367fff",
   "metadata": {},
   "outputs": [
    {
     "data": {
      "text/html": [
       "<span style=\"None\">Running query in &#x27;duckdb:///../../database/data.duckdb&#x27;</span>"
      ],
      "text/plain": [
       "Running query in 'duckdb:///../../database/data.duckdb'"
      ]
     },
     "metadata": {},
     "output_type": "display_data"
    },
    {
     "name": "stderr",
     "output_type": "stream",
     "text": [
      "RuntimeError: If using snippets, you may pass the --with argument explicitly.\n",
      "For more details please refer: https://jupysql.ploomber.io/en/latest/compose.html#with-argument\n",
      "\n",
      "\n",
      "Original error message from DB driver:\n",
      "(duckdb.duckdb.CatalogException) Catalog Error: Table with name references_generations_futures does not exist!\n",
      "Did you mean \"int__lien_cdreseau_refreneceprel\"?\n",
      "\n",
      "LINE 2: from references_generations_futures\n",
      "             ^\n",
      "[SQL: select *\n",
      "from references_generations_futures\n",
      ";]\n",
      "(Background on this error at: https://sqlalche.me/e/20/f405)\n",
      "\n"
     ]
    }
   ],
   "source": [
    "%%sql\n",
    "\n",
    "select *\n",
    "from references_generations_futures\n",
    ";"
   ]
  }
 ],
 "metadata": {
  "kernelspec": {
   "display_name": "Python 3",
   "language": "python",
   "name": "python3"
  },
  "language_info": {
   "codemirror_mode": {
    "name": "ipython",
    "version": 3
   },
   "file_extension": ".py",
   "mimetype": "text/x-python",
   "name": "python",
   "nbconvert_exporter": "python",
   "pygments_lexer": "ipython3",
   "version": "3.11.9"
  }
 },
 "nbformat": 4,
 "nbformat_minor": 5
}
