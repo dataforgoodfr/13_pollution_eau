{
 "cells": [
  {
   "cell_type": "code",
   "execution_count": 1,
   "id": "36d11db9-2931-4b12-9ffb-a2265d380191",
   "metadata": {},
   "outputs": [
    {
     "data": {
      "text/html": [
       "<span style=\"None\">The &#x27;toml&#x27; package isn&#x27;t installed. To load settings from pyproject.toml or ~/.jupysql/config, install with: pip install toml</span>"
      ],
      "text/plain": [
       "The 'toml' package isn't installed. To load settings from pyproject.toml or ~/.jupysql/config, install with: pip install toml"
      ]
     },
     "metadata": {},
     "output_type": "display_data"
    },
    {
     "data": {
      "text/html": [
       "<span style=\"None\">Connecting to &#x27;duckdb:///../../database/data.duckdb&#x27;</span>"
      ],
      "text/plain": [
       "Connecting to 'duckdb:///../../database/data.duckdb'"
      ]
     },
     "metadata": {},
     "output_type": "display_data"
    }
   ],
   "source": [
    "%load_ext sql\n",
    "%sql duckdb:///../../database/data.duckdb\n",
    "%config SqlMagic.displaylimit = 10"
   ]
  },
  {
   "cell_type": "code",
   "execution_count": 7,
   "id": "3edb21e1-0c19-45d9-98a7-7cef79572996",
   "metadata": {},
   "outputs": [
    {
     "data": {
      "text/html": [
       "<span style=\"None\">Running query in &#x27;duckdb:///../../database/data.duckdb&#x27;</span>"
      ],
      "text/plain": [
       "Running query in 'duckdb:///../../database/data.duckdb'"
      ]
     },
     "metadata": {},
     "output_type": "display_data"
    },
    {
     "data": {
      "text/html": [
       "<table>\n",
       "    <thead>\n",
       "        <tr>\n",
       "            <th>annee</th>\n",
       "            <th>categorie</th>\n",
       "        </tr>\n",
       "    </thead>\n",
       "    <tbody>\n",
       "        <tr>\n",
       "            <td>2024</td>\n",
       "            <td>cvm</td>\n",
       "        </tr>\n",
       "        <tr>\n",
       "            <td>2022</td>\n",
       "            <td>cvm</td>\n",
       "        </tr>\n",
       "        <tr>\n",
       "            <td>2023</td>\n",
       "            <td>cvm</td>\n",
       "        </tr>\n",
       "        <tr>\n",
       "            <td>2021</td>\n",
       "            <td>cvm</td>\n",
       "        </tr>\n",
       "        <tr>\n",
       "            <td>2020</td>\n",
       "            <td>cvm</td>\n",
       "        </tr>\n",
       "        <tr>\n",
       "            <td>dernier prélévement</td>\n",
       "            <td>cvm</td>\n",
       "        </tr>\n",
       "        <tr>\n",
       "            <td>2021</td>\n",
       "            <td>dioxine et furane</td>\n",
       "        </tr>\n",
       "        <tr>\n",
       "            <td>2023</td>\n",
       "            <td>dioxine et furane</td>\n",
       "        </tr>\n",
       "        <tr>\n",
       "            <td>2020</td>\n",
       "            <td>dioxine et furane</td>\n",
       "        </tr>\n",
       "        <tr>\n",
       "            <td>dernier prélévement</td>\n",
       "            <td>dioxine et furane</td>\n",
       "        </tr>\n",
       "    </tbody>\n",
       "</table>\n",
       "<span style=\"font-style:italic;text-align:center;\">Truncated to <a href=\"https://jupysql.ploomber.io/en/latest/api/configuration.html#displaylimit\">displaylimit</a> of 10.</span>"
      ],
      "text/plain": [
       "+---------------------+-------------------+\n",
       "|        annee        |     categorie     |\n",
       "+---------------------+-------------------+\n",
       "|         2024        |        cvm        |\n",
       "|         2022        |        cvm        |\n",
       "|         2023        |        cvm        |\n",
       "|         2021        |        cvm        |\n",
       "|         2020        |        cvm        |\n",
       "| dernier prélévement |        cvm        |\n",
       "|         2021        | dioxine et furane |\n",
       "|         2023        | dioxine et furane |\n",
       "|         2020        | dioxine et furane |\n",
       "| dernier prélévement | dioxine et furane |\n",
       "+---------------------+-------------------+\n",
       "Truncated to displaylimit of 10."
      ]
     },
     "execution_count": 7,
     "metadata": {},
     "output_type": "execute_result"
    }
   ],
   "source": [
    "%%sql\n",
    "WITH\n",
    "annees AS (\n",
    "    SELECT CAST(UNNEST(GENERATE_SERIES(2020, 2024)) AS STRING) AS annee\n",
    "    UNION ALL\n",
    "    SELECT 'dernier prélévement' AS annee\n",
    "),\n",
    "\n",
    "cat AS (\n",
    "    SELECT DISTINCT categorie\n",
    "    FROM\n",
    "        int__mapping_category_simple\n",
    "    WHERE\n",
    "        categorie NOT IN (\n",
    "                'non classé', 'paramètre organoleptique'\n",
    "            )\n",
    ")\n",
    "\n",
    "SELECT DISTINCT\n",
    "    annees.annee,\n",
    "    cat.categorie\n",
    "FROM\n",
    "    annees\n",
    "CROSS JOIN\n",
    "    cat\n",
    "ORDER BY\n",
    "    categorie"
   ]
  },
  {
   "cell_type": "code",
   "execution_count": 9,
   "id": "00c4566f-14d8-4f4c-ac51-52a75176af7e",
   "metadata": {},
   "outputs": [
    {
     "data": {
      "text/html": [
       "<span style=\"None\">Running query in &#x27;duckdb:///../../database/data.duckdb&#x27;</span>"
      ],
      "text/plain": [
       "Running query in 'duckdb:///../../database/data.duckdb'"
      ]
     },
     "metadata": {},
     "output_type": "display_data"
    },
    {
     "data": {
      "text/html": [
       "<table>\n",
       "    <thead>\n",
       "        <tr>\n",
       "            <th>annee</th>\n",
       "            <th>categorie</th>\n",
       "            <th>cdreseau</th>\n",
       "        </tr>\n",
       "    </thead>\n",
       "    <tbody>\n",
       "        <tr>\n",
       "            <td>dernier prélévement</td>\n",
       "            <td>cvm</td>\n",
       "            <td>None</td>\n",
       "        </tr>\n",
       "    </tbody>\n",
       "</table>"
      ],
      "text/plain": [
       "+---------------------+-----------+----------+\n",
       "|        annee        | categorie | cdreseau |\n",
       "+---------------------+-----------+----------+\n",
       "| dernier prélévement |    cvm    |   None   |\n",
       "+---------------------+-----------+----------+"
      ]
     },
     "execution_count": 9,
     "metadata": {},
     "output_type": "execute_result"
    }
   ],
   "source": [
    "%%sql\n",
    "WITH\n",
    "annees AS (\n",
    "    SELECT CAST(UNNEST(GENERATE_SERIES(2020, 2024)) AS STRING) AS annee\n",
    "    UNION ALL\n",
    "    SELECT 'dernier prélévement' AS annee\n",
    "),\n",
    "\n",
    "cat AS (\n",
    "    SELECT DISTINCT categorie\n",
    "    FROM\n",
    "        int__mapping_category_simple\n",
    "    WHERE\n",
    "        categorie NOT IN (\n",
    "                'non classé', 'paramètre organoleptique'\n",
    "            )\n",
    ")\n",
    "\n",
    "SELECT DISTINCT\n",
    "    annees.annee,\n",
    "    cat.categorie,\n",
    "    com.cdreseau\n",
    "FROM\n",
    "    int__lien_commune_cdreseau AS com\n",
    "FULL OUTER JOIN\n",
    "    annees\n",
    "ON\n",
    "    CAST(com.de_partition AS STRING) = annees.annee\n",
    "CROSS JOIN\n",
    "    cat\n",
    "WHERE \n",
    "    categorie = 'cvm'\n",
    "    AND annee = 'dernier prélévement'"
   ]
  },
  {
   "cell_type": "markdown",
   "id": "b485a008-00a7-4e5d-ba55-fe54a280bc6c",
   "metadata": {},
   "source": [
    "**Il faut des listes de cdreseau différentes pour année et pour last_prélèvement si on veut des lignes coté data qd il n'y a pas de résultats/analyses**\n",
    "\n",
    "--> Est-ce que le  COALESCE(int__resultats_uid.resultat, 'Pas recherché') AS resultat ne peux pas être fait coté web ?<br>\n",
    "--> Sinon est-ce qu'il ne faut pas 4 tables au total<br>\n",
    "    - uid année<br>\n",
    "    - uid last<br>\n",
    "    - communes année<br>\n",
    "    - communes last<br>"
   ]
  },
  {
   "cell_type": "raw",
   "id": "f0615630-74c8-4437-897b-c4bc544c2e9d",
   "metadata": {},
   "source": [
    "%%sql\n",
    "int__resultats_uid AS (\n",
    "    SELECT\n",
    "        periode,\n",
    "        cdreseau,\n",
    "        categorie,\n",
    "        last_datetimeprel,\n",
    "        resultat,\n",
    "        CASE\n",
    "            WHEN periode = 'dernier prélévement' THEN 'dernier prélévement'\n",
    "            ELSE RIGHT(periode, 4)\n",
    "        END AS annee\n",
    "    FROM\n",
    "        int__resultats_cvm_udi\n",
    "        /* UNION ALL\n",
    "            Ajouter les autres substances */\n",
    "),\n",
    "\n",
    "annees AS (\n",
    "    SELECT CAST(UNNEST(GENERATE_SERIES(2020, 2024)) AS STRING) AS annee\n",
    "    UNION ALL\n",
    "    SELECT 'dernier prélévement' AS annee\n",
    "),\n",
    "\n",
    "cat AS (\n",
    "    SELECT DISTINCT categorie\n",
    "    FROM\n",
    "        int__mapping_category_simple\n",
    "    WHERE\n",
    "        categorie NOT IN (\n",
    "                'non classé', 'paramètre organoleptique'\n",
    "            )\n",
    "),\n",
    "\n",
    "\n",
    "list_uid AS (\n",
    "    SELECT DISTINCT\n",
    "        annees.annee,\n",
    "        cat.categorie,\n",
    "        com.cdreseau\n",
    "    FROM\n",
    "        int__lien_commune_cdreseau AS com\n",
    "    FULL OUTER JOIN\n",
    "        annees\n",
    "    ON\n",
    "        CAST(com.de_partition AS STRING) = annees.annee\n",
    "    CROSS JOIN\n",
    "        cat\n",
    ")\n",
    "\n",
    "SELECT\n",
    "    list_uid.cdreseau,\n",
    "    list_uid.categorie,\n",
    "    int__resultats_uid.last_datetimeprel,\n",
    "    int__resultats_uid.periode,\n",
    "    COALESCE(int__resultats_uid.resultat, 'Pas recherché') AS resultat\n",
    "FROM\n",
    "    list_uid\n",
    "LEFT JOIN\n",
    "    int__resultats_uid\n",
    "    ON\n",
    "        list_uid.annee = int__resultats_uid.annee\n",
    "        AND list_uid.categorie = int__resultats_uid.categorie\n",
    "        AND list_uid.cdreseau = int__resultats_uid.cdreseau\n"
   ]
  },
  {
   "cell_type": "code",
   "execution_count": null,
   "id": "c5d65c78-468c-4a76-8d19-8d2cfb2d31df",
   "metadata": {},
   "outputs": [],
   "source": []
  }
 ],
 "metadata": {
  "kernelspec": {
   "display_name": "Python 3 (ipykernel)",
   "language": "python",
   "name": "python3"
  },
  "language_info": {
   "codemirror_mode": {
    "name": "ipython",
    "version": 3
   },
   "file_extension": ".py",
   "mimetype": "text/x-python",
   "name": "python",
   "nbconvert_exporter": "python",
   "pygments_lexer": "ipython3",
   "version": "3.12.9"
  }
 },
 "nbformat": 4,
 "nbformat_minor": 5
}
