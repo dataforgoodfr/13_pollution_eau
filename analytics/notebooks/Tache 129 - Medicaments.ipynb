{
 "cells": [
  {
   "cell_type": "markdown",
   "id": "92c8cdcd-05bb-49cd-8845-cabcee5344ed",
   "metadata": {},
   "source": [
    "# Tache 129 - Medicaments\n",
    "\n",
    "Regarder pour l’acide salicylique s’il est souvent détecté/quantifié et vérifier s’il y a des recommandations.\n",
    "    \n",
    "Recherche de la fréquence de détection et quantification de l’acide salicylique.\n",
    "\n",
    "Résultats:\n",
    "- l'acide salicylique est peu recherché (~100 prélèvements par an depuis 2021)\n",
    "- l'acide salicylique n'est quasiment jamais quantifié, fréquence proche de zéro.\n",
    "[quantification = valtraduite > 0 ]\n",
    "- il n'y a pas de la limite de qualité indiquée pour l'acide salicylique.\n",
    "- je n'ai pas trouvé de recommendations de l'ANSES ou autres organismes concernant l'acide salicylique dans l'eau potable."
   ]
  },
  {
   "cell_type": "code",
   "execution_count": 1,
   "id": "ea465624-630a-4124-a2d4-ad5020e5ab76",
   "metadata": {},
   "outputs": [],
   "source": [
    "# [TO RUN]  Packages\n",
    "import pandas as pd\n",
    "import duckdb\n",
    "from pipelines.tasks.config.common import DUCKDB_FILE\n",
    "\n",
    "pd.set_option(\"display.max_columns\", None)  # show all cols\n",
    "pd.set_option(\"display.max_colwidth\", None)  # show full width of showing cols\n",
    "pd.set_option(\n",
    "    \"display.expand_frame_repr\", False\n",
    ")  # print cols side by side as it's supposed to be\n",
    "\n",
    "con = duckdb.connect(database=DUCKDB_FILE, read_only=True)"
   ]
  },
  {
   "cell_type": "code",
   "execution_count": 25,
   "id": "914de46c-04ae-4515-9b4e-8220eafc1422",
   "metadata": {},
   "outputs": [],
   "source": [
    "# [TO RUN]  Queries\n",
    "\n",
    "# Pour tous les prélèvements\n",
    "query = \"\"\"\n",
    "SELECT \n",
    "edc_prelevements.dateprel, \n",
    "edc_prelevements.nomcommuneprinc, \n",
    "edc_prelevements.cdreseau, \n",
    "edc_prelevements.cdreseauamont, \n",
    "edc_resultats.*\n",
    "FROM edc_prelevements\n",
    "JOIN edc_resultats\n",
    "ON edc_prelevements.referenceprel = edc_resultats.referenceprel\n",
    "WHERE\n",
    "(dateprel >= '2020-01-01')\n",
    "AND\n",
    "libminparametre IN ('Acide salicylique')\n",
    "AND\n",
    "cdreseauamont is NULL\n",
    "\"\"\"\n",
    "\n",
    "res = con.sql(query)\n",
    "res = res.df()\n",
    "\n",
    "# Pour la quantification du nombre de prélèvements\n",
    "query_countglobal = \"\"\"\n",
    "SELECT \n",
    "cdparametre, \n",
    "ANY_VALUE(libminparametre) AS libminparametre, \n",
    "COUNT(referenceprel) AS Count, \n",
    "year(dateprel) AS Annee\n",
    "FROM res\n",
    "GROUP BY cdparametre, Annee\n",
    "ORDER BY cdparametre,Annee\"\"\"\n",
    "\n",
    "countglobal = con.sql(query_countglobal)\n",
    "countglobal = countglobal.df()\n",
    "\n",
    "# Pour la quantification du nombre de quantifications\n",
    "query_quantif = \"\"\"SELECT \n",
    "ANY_VALUE(cdparametre) AS cdparametre, \n",
    "ANY_VALUE(libminparametre) AS libminparametre,\n",
    "COUNT(CASE WHEN valtraduite!=0 THEN 1 END) AS Count_quantif, \n",
    "year(dateprel) AS Annee\n",
    "FROM res\n",
    "GROUP BY cdparametre,Annee\n",
    "ORDER BY cdparametre,Annee\"\"\"\n",
    "\n",
    "res_quantif = con.sql(query_quantif)\n",
    "res_quantif = res_quantif.df()\n"
   ]
  },
  {
   "cell_type": "markdown",
   "id": "90977189-7bf0-4ba3-8247-c1480fd6beb4",
   "metadata": {},
   "source": [
    "# Nombre de prélèvements par an France entière"
   ]
  },
  {
   "cell_type": "code",
   "execution_count": 26,
   "id": "5e96e915-7c8b-4eb4-9d4c-2826eacf3a39",
   "metadata": {},
   "outputs": [
    {
     "data": {
      "text/html": [
       "<div>\n",
       "<style scoped>\n",
       "    .dataframe tbody tr th:only-of-type {\n",
       "        vertical-align: middle;\n",
       "    }\n",
       "\n",
       "    .dataframe tbody tr th {\n",
       "        vertical-align: top;\n",
       "    }\n",
       "\n",
       "    .dataframe thead th {\n",
       "        text-align: right;\n",
       "    }\n",
       "</style>\n",
       "<table border=\"1\" class=\"dataframe\">\n",
       "  <thead>\n",
       "    <tr style=\"text-align: right;\">\n",
       "      <th></th>\n",
       "      <th>cdparametre</th>\n",
       "      <th>libminparametre</th>\n",
       "      <th>Count</th>\n",
       "      <th>Annee</th>\n",
       "    </tr>\n",
       "  </thead>\n",
       "  <tbody>\n",
       "    <tr>\n",
       "      <th>0</th>\n",
       "      <td>5355</td>\n",
       "      <td>Acide salicylique</td>\n",
       "      <td>1125</td>\n",
       "      <td>2020</td>\n",
       "    </tr>\n",
       "    <tr>\n",
       "      <th>1</th>\n",
       "      <td>5355</td>\n",
       "      <td>Acide salicylique</td>\n",
       "      <td>105</td>\n",
       "      <td>2021</td>\n",
       "    </tr>\n",
       "    <tr>\n",
       "      <th>2</th>\n",
       "      <td>5355</td>\n",
       "      <td>Acide salicylique</td>\n",
       "      <td>156</td>\n",
       "      <td>2022</td>\n",
       "    </tr>\n",
       "    <tr>\n",
       "      <th>3</th>\n",
       "      <td>5355</td>\n",
       "      <td>Acide salicylique</td>\n",
       "      <td>79</td>\n",
       "      <td>2023</td>\n",
       "    </tr>\n",
       "    <tr>\n",
       "      <th>4</th>\n",
       "      <td>5355</td>\n",
       "      <td>Acide salicylique</td>\n",
       "      <td>91</td>\n",
       "      <td>2024</td>\n",
       "    </tr>\n",
       "  </tbody>\n",
       "</table>\n",
       "</div>"
      ],
      "text/plain": [
       "   cdparametre    libminparametre  Count  Annee\n",
       "0         5355  Acide salicylique   1125   2020\n",
       "1         5355  Acide salicylique    105   2021\n",
       "2         5355  Acide salicylique    156   2022\n",
       "3         5355  Acide salicylique     79   2023\n",
       "4         5355  Acide salicylique     91   2024"
      ]
     },
     "execution_count": 26,
     "metadata": {},
     "output_type": "execute_result"
    }
   ],
   "source": [
    "countglobal"
   ]
  },
  {
   "cell_type": "code",
   "execution_count": 28,
   "id": "54b1805e-d4e5-4609-bf8a-65e2c50aacb3",
   "metadata": {},
   "outputs": [
    {
     "data": {
      "text/plain": [
       "Text(0, 0.5, 'Nombre de prélèvements')"
      ]
     },
     "execution_count": 28,
     "metadata": {},
     "output_type": "execute_result"
    },
    {
     "data": {
      "image/png": "[encoded data removed]",
      "text/plain": [
       "<Figure size 1000x500 with 1 Axes>"
      ]
     },
     "metadata": {},
     "output_type": "display_data"
    }
   ],
   "source": [
    "import matplotlib.pyplot as plt\n",
    "\n",
    "f = plt.figure(figsize=(10, 5))\n",
    "plt.bar(\n",
    "        [2020, 2021, 2022, 2023, 2024],\n",
    "        countglobal[\"Count\"],\n",
    "        width=0.5,\n",
    "        alpha=1.0,\n",
    "    color='k'\n",
    "    )\n",
    "plt.title(\"Nombre de prélèvements par an pour l'acide salicylique, France entière\")\n",
    "plt.xticks(fontsize=14)\n",
    "plt.xlabel(\"Année\")\n",
    "plt.yticks(fontsize=14)\n",
    "plt.ylabel(\"Nombre de prélèvements\")"
   ]
  },
  {
   "cell_type": "markdown",
   "id": "ef80f132-d7a2-4df5-b92a-ae1484d65597",
   "metadata": {},
   "source": [
    "# Nombre de quantifications par an France entière"
   ]
  },
  {
   "cell_type": "code",
   "execution_count": 27,
   "id": "8e093b26-d1cd-454d-b8c3-9cf443691bca",
   "metadata": {},
   "outputs": [
    {
     "data": {
      "text/html": [
       "<div>\n",
       "<style scoped>\n",
       "    .dataframe tbody tr th:only-of-type {\n",
       "        vertical-align: middle;\n",
       "    }\n",
       "\n",
       "    .dataframe tbody tr th {\n",
       "        vertical-align: top;\n",
       "    }\n",
       "\n",
       "    .dataframe thead th {\n",
       "        text-align: right;\n",
       "    }\n",
       "</style>\n",
       "<table border=\"1\" class=\"dataframe\">\n",
       "  <thead>\n",
       "    <tr style=\"text-align: right;\">\n",
       "      <th></th>\n",
       "      <th>cdparametre</th>\n",
       "      <th>libminparametre</th>\n",
       "      <th>Count_quantif</th>\n",
       "      <th>Annee</th>\n",
       "    </tr>\n",
       "  </thead>\n",
       "  <tbody>\n",
       "    <tr>\n",
       "      <th>0</th>\n",
       "      <td>5355</td>\n",
       "      <td>Acide salicylique</td>\n",
       "      <td>0</td>\n",
       "      <td>2020</td>\n",
       "    </tr>\n",
       "    <tr>\n",
       "      <th>1</th>\n",
       "      <td>5355</td>\n",
       "      <td>Acide salicylique</td>\n",
       "      <td>0</td>\n",
       "      <td>2021</td>\n",
       "    </tr>\n",
       "    <tr>\n",
       "      <th>2</th>\n",
       "      <td>5355</td>\n",
       "      <td>Acide salicylique</td>\n",
       "      <td>2</td>\n",
       "      <td>2022</td>\n",
       "    </tr>\n",
       "    <tr>\n",
       "      <th>3</th>\n",
       "      <td>5355</td>\n",
       "      <td>Acide salicylique</td>\n",
       "      <td>0</td>\n",
       "      <td>2023</td>\n",
       "    </tr>\n",
       "    <tr>\n",
       "      <th>4</th>\n",
       "      <td>5355</td>\n",
       "      <td>Acide salicylique</td>\n",
       "      <td>1</td>\n",
       "      <td>2024</td>\n",
       "    </tr>\n",
       "  </tbody>\n",
       "</table>\n",
       "</div>"
      ],
      "text/plain": [
       "   cdparametre    libminparametre  Count_quantif  Annee\n",
       "0         5355  Acide salicylique              0   2020\n",
       "1         5355  Acide salicylique              0   2021\n",
       "2         5355  Acide salicylique              2   2022\n",
       "3         5355  Acide salicylique              0   2023\n",
       "4         5355  Acide salicylique              1   2024"
      ]
     },
     "execution_count": 27,
     "metadata": {},
     "output_type": "execute_result"
    }
   ],
   "source": [
    "res_quantif"
   ]
  },
  {
   "cell_type": "code",
   "execution_count": 29,
   "id": "8ac85a45-b1e5-4553-916a-df492adc777e",
   "metadata": {},
   "outputs": [
    {
     "data": {
      "text/plain": [
       "Text(0, 0.5, 'Nombre de prélèvements')"
      ]
     },
     "execution_count": 29,
     "metadata": {},
     "output_type": "execute_result"
    },
    {
     "data": {
      "image/png": "[encoded data removed]",
      "text/plain": [
       "<Figure size 1000x500 with 1 Axes>"
      ]
     },
     "metadata": {},
     "output_type": "display_data"
    }
   ],
   "source": [
    "import matplotlib.pyplot as plt\n",
    "\n",
    "f = plt.figure(figsize=(10, 5))\n",
    "plt.bar(\n",
    "        [2020, 2021, 2022, 2023, 2024],\n",
    "        res_quantif[\"Count_quantif\"],\n",
    "        width=0.5,\n",
    "        alpha=1.0,\n",
    "    color='k'\n",
    "    )\n",
    "plt.title(\"Nombre de quantifications par an pour l'acide salicylique, France entière\")\n",
    "plt.xticks(fontsize=14)\n",
    "plt.xlabel(\"Année\")\n",
    "plt.yticks(fontsize=14)\n",
    "plt.ylabel(\"Nombre de prélèvements\")"
   ]
  },
  {
   "cell_type": "markdown",
   "id": "39fffa95-8c3c-4755-b4cc-dddbbb9f182e",
   "metadata": {},
   "source": [
    "# Pas de limite de qualité dans la base de données"
   ]
  },
  {
   "cell_type": "code",
   "execution_count": 30,
   "id": "385fdbcd-4434-4ed8-abc0-f3606520f79c",
   "metadata": {},
   "outputs": [
    {
     "data": {
      "text/html": [
       "<div>\n",
       "<style scoped>\n",
       "    .dataframe tbody tr th:only-of-type {\n",
       "        vertical-align: middle;\n",
       "    }\n",
       "\n",
       "    .dataframe tbody tr th {\n",
       "        vertical-align: top;\n",
       "    }\n",
       "\n",
       "    .dataframe thead th {\n",
       "        text-align: right;\n",
       "    }\n",
       "</style>\n",
       "<table border=\"1\" class=\"dataframe\">\n",
       "  <thead>\n",
       "    <tr style=\"text-align: right;\">\n",
       "      <th></th>\n",
       "      <th>cdparametre</th>\n",
       "      <th>libminparametre</th>\n",
       "      <th>limitequal</th>\n",
       "    </tr>\n",
       "  </thead>\n",
       "  <tbody>\n",
       "    <tr>\n",
       "      <th>0</th>\n",
       "      <td>5355</td>\n",
       "      <td>Acide salicylique</td>\n",
       "      <td>None</td>\n",
       "    </tr>\n",
       "  </tbody>\n",
       "</table>\n",
       "</div>"
      ],
      "text/plain": [
       "   cdparametre    libminparametre limitequal\n",
       "0         5355  Acide salicylique       None"
      ]
     },
     "execution_count": 30,
     "metadata": {},
     "output_type": "execute_result"
    }
   ],
   "source": [
    "res[[\"cdparametre\", \"libminparametre\", \"limitequal\"]].drop_duplicates()"
   ]
  }
 ],
 "metadata": {
  "kernelspec": {
   "display_name": "Python 3 (ipykernel)",
   "language": "python",
   "name": "python3"
  },
  "language_info": {
   "codemirror_mode": {
    "name": "ipython",
    "version": 3
   },
   "file_extension": ".py",
   "mimetype": "text/x-python",
   "name": "python",
   "nbconvert_exporter": "python",
   "pygments_lexer": "ipython3",
   "version": "3.12.9"
  }
 },
 "nbformat": 4,
 "nbformat_minor": 5
}
