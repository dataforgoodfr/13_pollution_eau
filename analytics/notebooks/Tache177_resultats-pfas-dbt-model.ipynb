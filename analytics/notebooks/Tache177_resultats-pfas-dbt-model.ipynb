{
 "cells": [
  {
   "cell_type": "markdown",
   "metadata": {},
   "source": [
    "## Tâche 177 - Créer un modele DBT pour les résultats PFAS\n",
    "\n",
    "### Contexte :\n",
    "\n",
    "Partir de `select * from int__resultats_udi_communes` (cf https://data-for-good.slack.com/archives/C08B329AG7M/p1742063272779779)\n",
    "\n",
    "Nous voulons calculer les résultats/situations pour les PFAS pour le dernier relevé par UDI (Prio 1).\n",
    "\n",
    "6 situations:\n",
    "\n",
    "- Pas recherché\n",
    "- Aucun paramètre n’a été quantifié\n",
    "- Au moins 1 paramètre a été quantifié mais la somme des 20 PFAS < 0,1 µg/L et la somme des 4 PFAS < 0,02 µg/L\n",
    "- Somme des 20 PFAS < 0,1 µg/L et la somme des 4 PFAS (PFOA, PFOS, PFNA, PFHXS) > 0.02 µg/L\n",
    "- Somme des 20 PFAS > 0,1 µg/L (fait passer l’affichage total polluant en orange)\n",
    "- Au moins 1 PFAS > valeur sanitaire (fait passer l’affichage total polluant en rouge)\n",
    "\n",
    "(pour le bilan annuel, aller lire le brief)\n",
    "\n",
    "### Choses à faire :\n",
    "\n",
    "Créer un modèle dbt pour \"derniers resultat pfas udi\"\n",
    "\n",
    "Ecrire le code SQL qui produit le résultat table avec ces colonnes :\n",
    "\n",
    "- cdreseau (dans le cas d'UDI, sinon inseecommune)\n",
    "- periode (\"dernier relevé\" ou l'année)\n",
    "- resultat : le résultat / la situation\n",
    "- date : quand c'est le dernier relévé, rajouter le datetimeprel\n",
    "\n",
    "Trouver un exemple de commune dans chaque cas pour illustrer avec les prélèvements bruts associés\n",
    "\n",
    "---\n"
   ]
  },
  {
   "cell_type": "markdown",
   "metadata": {},
   "source": [
    "### Exploration et familiarisation avec la table\n"
   ]
  },
  {
   "cell_type": "code",
   "execution_count": 1,
   "metadata": {},
   "outputs": [
    {
     "data": {
      "text/html": [
       "<span style=\"None\">The &#x27;toml&#x27; package isn&#x27;t installed. To load settings from pyproject.toml or ~/.jupysql/config, install with: pip install toml</span>"
      ],
      "text/plain": [
       "The 'toml' package isn't installed. To load settings from pyproject.toml or ~/.jupysql/config, install with: pip install toml"
      ]
     },
     "metadata": {},
     "output_type": "display_data"
    },
    {
     "data": {
      "text/html": [
       "<span style=\"None\">Connecting to &#x27;duckdb:///../../database/data.duckdb&#x27;</span>"
      ],
      "text/plain": [
       "Connecting to 'duckdb:///../../database/data.duckdb'"
      ]
     },
     "metadata": {},
     "output_type": "display_data"
    }
   ],
   "source": [
    "%reload_ext sql\n",
    "%sql duckdb:///../../database/data.duckdb\n",
    "%config SqlMagic.displaylimit = 20"
   ]
  },
  {
   "cell_type": "code",
   "execution_count": 3,
   "metadata": {},
   "outputs": [
    {
     "data": {
      "text/html": [
       "<span style=\"None\">Running query in &#x27;duckdb:///../../database/data.duckdb&#x27;</span>"
      ],
      "text/plain": [
       "Running query in 'duckdb:///../../database/data.duckdb'"
      ]
     },
     "metadata": {},
     "output_type": "display_data"
    },
    {
     "data": {
      "application/vnd.jupyter.widget-view+json": {
       "model_id": "303a5c6f0c20453aa6261f5b272a8de1",
       "version_major": 2,
       "version_minor": 0
      },
      "text/plain": [
       "FloatProgress(value=0.0, layout=Layout(width='auto'), style=ProgressStyle(bar_color='black'))"
      ]
     },
     "metadata": {},
     "output_type": "display_data"
    },
    {
     "data": {
      "text/html": [
       "<table>\n",
       "    <thead>\n",
       "        <tr>\n",
       "            <th>referenceprel</th>\n",
       "            <th>cdparametresiseeaux</th>\n",
       "            <th>valtraduite</th>\n",
       "            <th>limitequal</th>\n",
       "            <th>de_partition</th>\n",
       "            <th>limitequal_float</th>\n",
       "            <th>unite</th>\n",
       "            <th>categorie</th>\n",
       "            <th>cdreseau</th>\n",
       "            <th>inseecommune</th>\n",
       "            <th>datetimeprel</th>\n",
       "        </tr>\n",
       "    </thead>\n",
       "    <tbody>\n",
       "        <tr>\n",
       "            <td>00700187109</td>\n",
       "            <td>PFBA</td>\n",
       "            <td>0.000</td>\n",
       "            <td>None</td>\n",
       "            <td>2022</td>\n",
       "            <td>None</td>\n",
       "            <td>None</td>\n",
       "            <td>pfas</td>\n",
       "            <td>007001817</td>\n",
       "            <td>07039</td>\n",
       "            <td>2022-09-14 09:10:00</td>\n",
       "        </tr>\n",
       "        <tr>\n",
       "            <td>00700187109</td>\n",
       "            <td>PFBS</td>\n",
       "            <td>0.000</td>\n",
       "            <td>None</td>\n",
       "            <td>2022</td>\n",
       "            <td>None</td>\n",
       "            <td>None</td>\n",
       "            <td>pfas</td>\n",
       "            <td>007001817</td>\n",
       "            <td>07039</td>\n",
       "            <td>2022-09-14 09:10:00</td>\n",
       "        </tr>\n",
       "        <tr>\n",
       "            <td>00700187109</td>\n",
       "            <td>PFDA</td>\n",
       "            <td>0.000</td>\n",
       "            <td>None</td>\n",
       "            <td>2022</td>\n",
       "            <td>None</td>\n",
       "            <td>None</td>\n",
       "            <td>pfas</td>\n",
       "            <td>007001817</td>\n",
       "            <td>07039</td>\n",
       "            <td>2022-09-14 09:10:00</td>\n",
       "        </tr>\n",
       "        <tr>\n",
       "            <td>00700187109</td>\n",
       "            <td>PFDODA</td>\n",
       "            <td>0.000</td>\n",
       "            <td>None</td>\n",
       "            <td>2022</td>\n",
       "            <td>None</td>\n",
       "            <td>None</td>\n",
       "            <td>pfas</td>\n",
       "            <td>007001817</td>\n",
       "            <td>07039</td>\n",
       "            <td>2022-09-14 09:10:00</td>\n",
       "        </tr>\n",
       "        <tr>\n",
       "            <td>00700187109</td>\n",
       "            <td>PFDODS</td>\n",
       "            <td>0.000</td>\n",
       "            <td>None</td>\n",
       "            <td>2022</td>\n",
       "            <td>None</td>\n",
       "            <td>None</td>\n",
       "            <td>pfas</td>\n",
       "            <td>007001817</td>\n",
       "            <td>07039</td>\n",
       "            <td>2022-09-14 09:10:00</td>\n",
       "        </tr>\n",
       "    </tbody>\n",
       "</table>"
      ],
      "text/plain": [
       "+---------------+---------------------+-------------+------------+--------------+------------------+-------+-----------+-----------+--------------+---------------------+\n",
       "| referenceprel | cdparametresiseeaux | valtraduite | limitequal | de_partition | limitequal_float | unite | categorie |  cdreseau | inseecommune |     datetimeprel    |\n",
       "+---------------+---------------------+-------------+------------+--------------+------------------+-------+-----------+-----------+--------------+---------------------+\n",
       "|  00700187109  |         PFBA        |    0.000    |    None    |     2022     |       None       |  None |    pfas   | 007001817 |    07039     | 2022-09-14 09:10:00 |\n",
       "|  00700187109  |         PFBS        |    0.000    |    None    |     2022     |       None       |  None |    pfas   | 007001817 |    07039     | 2022-09-14 09:10:00 |\n",
       "|  00700187109  |         PFDA        |    0.000    |    None    |     2022     |       None       |  None |    pfas   | 007001817 |    07039     | 2022-09-14 09:10:00 |\n",
       "|  00700187109  |        PFDODA       |    0.000    |    None    |     2022     |       None       |  None |    pfas   | 007001817 |    07039     | 2022-09-14 09:10:00 |\n",
       "|  00700187109  |        PFDODS       |    0.000    |    None    |     2022     |       None       |  None |    pfas   | 007001817 |    07039     | 2022-09-14 09:10:00 |\n",
       "+---------------+---------------------+-------------+------------+--------------+------------------+-------+-----------+-----------+--------------+---------------------+"
      ]
     },
     "execution_count": 3,
     "metadata": {},
     "output_type": "execute_result"
    }
   ],
   "source": [
    "%%sql\n",
    "\n",
    "SELECT *\n",
    "FROM int__resultats_udi_communes\n",
    "WHERE categorie = 'pfas'\n",
    "LIMIT 5"
   ]
  },
  {
   "cell_type": "code",
   "execution_count": 4,
   "metadata": {},
   "outputs": [
    {
     "data": {
      "text/html": [
       "<span style=\"None\">Running query in &#x27;duckdb:///../../database/data.duckdb&#x27;</span>"
      ],
      "text/plain": [
       "Running query in 'duckdb:///../../database/data.duckdb'"
      ]
     },
     "metadata": {},
     "output_type": "display_data"
    },
    {
     "data": {
      "text/html": [
       "<table>\n",
       "    <thead>\n",
       "        <tr>\n",
       "            <th>libmajparametre</th>\n",
       "            <th>cdparametre</th>\n",
       "            <th>cdparametresiseeaux</th>\n",
       "        </tr>\n",
       "    </thead>\n",
       "    <tbody>\n",
       "        <tr>\n",
       "            <td>SOMME DE 20 PFAS</td>\n",
       "            <td>8847</td>\n",
       "            <td>SPFAS</td>\n",
       "        </tr>\n",
       "    </tbody>\n",
       "</table>"
      ],
      "text/plain": [
       "+------------------+-------------+---------------------+\n",
       "| libmajparametre  | cdparametre | cdparametresiseeaux |\n",
       "+------------------+-------------+---------------------+\n",
       "| SOMME DE 20 PFAS |     8847    |        SPFAS        |\n",
       "+------------------+-------------+---------------------+"
      ]
     },
     "execution_count": 4,
     "metadata": {},
     "output_type": "execute_result"
    }
   ],
   "source": [
    "%%sql\n",
    "\n",
    "SELECT DISTINCT libmajparametre, cdparametre, cdparametresiseeaux\n",
    "FROM stg_edc__resultats\n",
    "WHERE libmajparametre LIKE 'SOMME DE % PFAS'\n",
    "GROUP BY 1, 2, 3"
   ]
  },
  {
   "cell_type": "markdown",
   "metadata": {},
   "source": [
    "Objectif de la query du dessus : retrouver les codes et noms des parametres \"Somme des 20 PFAS\" et \"Somme des 4 PFAS\".\n",
    "\n",
    "Résultat : il n'existe qu'un parametre \"Somme des 20 PFAS\". Il faudra alors créer artificiellemet une colonne \"Somme des 4 PFAS\".\n"
   ]
  },
  {
   "cell_type": "code",
   "execution_count": 5,
   "metadata": {},
   "outputs": [
    {
     "data": {
      "text/html": [
       "<span style=\"None\">Running query in &#x27;duckdb:///../../database/data.duckdb&#x27;</span>"
      ],
      "text/plain": [
       "Running query in 'duckdb:///../../database/data.duckdb'"
      ]
     },
     "metadata": {},
     "output_type": "display_data"
    },
    {
     "data": {
      "application/vnd.jupyter.widget-view+json": {
       "model_id": "29282ff90485409e907840777f8d35cd",
       "version_major": 2,
       "version_minor": 0
      },
      "text/plain": [
       "FloatProgress(value=0.0, layout=Layout(width='auto'), style=ProgressStyle(bar_color='black'))"
      ]
     },
     "metadata": {},
     "output_type": "display_data"
    },
    {
     "data": {
      "text/html": [
       "<table>\n",
       "    <thead>\n",
       "        <tr>\n",
       "            <th>cdparametre</th>\n",
       "            <th>cdparametresiseeaux</th>\n",
       "        </tr>\n",
       "    </thead>\n",
       "    <tbody>\n",
       "        <tr>\n",
       "            <td>5347</td>\n",
       "            <td>PFOA</td>\n",
       "        </tr>\n",
       "        <tr>\n",
       "            <td>6830</td>\n",
       "            <td>PFHXS</td>\n",
       "        </tr>\n",
       "        <tr>\n",
       "            <td>6508</td>\n",
       "            <td>PFNA</td>\n",
       "        </tr>\n",
       "        <tr>\n",
       "            <td>6561</td>\n",
       "            <td>PFOS</td>\n",
       "        </tr>\n",
       "    </tbody>\n",
       "</table>"
      ],
      "text/plain": [
       "+-------------+---------------------+\n",
       "| cdparametre | cdparametresiseeaux |\n",
       "+-------------+---------------------+\n",
       "|     5347    |         PFOA        |\n",
       "|     6830    |        PFHXS        |\n",
       "|     6508    |         PFNA        |\n",
       "|     6561    |         PFOS        |\n",
       "+-------------+---------------------+"
      ]
     },
     "execution_count": 5,
     "metadata": {},
     "output_type": "execute_result"
    }
   ],
   "source": [
    "%%sql\n",
    "\n",
    "SELECT DISTINCT cdparametre, cdparametresiseeaux\n",
    "FROM stg_edc__resultats\n",
    "WHERE cdparametresiseeaux IN ('PFOA', 'PFOS', 'PFNA', 'PFHXS')\n",
    "GROUP BY 1, 2"
   ]
  },
  {
   "cell_type": "code",
   "execution_count": 6,
   "metadata": {},
   "outputs": [
    {
     "data": {
      "text/html": [
       "<span style=\"None\">Running query in &#x27;duckdb:///../../database/data.duckdb&#x27;</span>"
      ],
      "text/plain": [
       "Running query in 'duckdb:///../../database/data.duckdb'"
      ]
     },
     "metadata": {},
     "output_type": "display_data"
    },
    {
     "data": {
      "application/vnd.jupyter.widget-view+json": {
       "model_id": "32852a9f8fff488c9047b63148f1eb80",
       "version_major": 2,
       "version_minor": 0
      },
      "text/plain": [
       "FloatProgress(value=0.0, layout=Layout(width='auto'), style=ProgressStyle(bar_color='black'))"
      ]
     },
     "metadata": {},
     "output_type": "display_data"
    },
    {
     "data": {
      "text/html": [
       "<table>\n",
       "    <thead>\n",
       "        <tr>\n",
       "            <th>referenceprel</th>\n",
       "            <th>cdreseau</th>\n",
       "            <th>datetimeprel</th>\n",
       "            <th>somme_4_pfas</th>\n",
       "        </tr>\n",
       "    </thead>\n",
       "    <tbody>\n",
       "        <tr>\n",
       "            <td>02A00113033</td>\n",
       "            <td>02A000841</td>\n",
       "            <td>2023-04-24 09:45:00</td>\n",
       "            <td>10.000</td>\n",
       "        </tr>\n",
       "        <tr>\n",
       "            <td>01300273898</td>\n",
       "            <td>013001457</td>\n",
       "            <td>2025-01-21 09:40:00</td>\n",
       "            <td>0.396</td>\n",
       "        </tr>\n",
       "        <tr>\n",
       "            <td>03400327431</td>\n",
       "            <td>034000985</td>\n",
       "            <td>2025-01-15 14:24:00</td>\n",
       "            <td>0.112</td>\n",
       "        </tr>\n",
       "        <tr>\n",
       "            <td>01100172447</td>\n",
       "            <td>011000329</td>\n",
       "            <td>2025-01-24 11:05:00</td>\n",
       "            <td>0.097</td>\n",
       "        </tr>\n",
       "        <tr>\n",
       "            <td>01100172447</td>\n",
       "            <td>011004114</td>\n",
       "            <td>2025-01-24 11:05:00</td>\n",
       "            <td>0.097</td>\n",
       "        </tr>\n",
       "        <tr>\n",
       "            <td>01300273795</td>\n",
       "            <td>013000416</td>\n",
       "            <td>2025-01-21 08:48:00</td>\n",
       "            <td>0.085</td>\n",
       "        </tr>\n",
       "        <tr>\n",
       "            <td>03400327430</td>\n",
       "            <td>034001188</td>\n",
       "            <td>2025-01-13 14:44:00</td>\n",
       "            <td>0.064</td>\n",
       "        </tr>\n",
       "        <tr>\n",
       "            <td>08900130113</td>\n",
       "            <td>089000574</td>\n",
       "            <td>2024-03-22 10:47:00</td>\n",
       "            <td>0.061</td>\n",
       "        </tr>\n",
       "        <tr>\n",
       "            <td>03900122750</td>\n",
       "            <td>039001435</td>\n",
       "            <td>2024-09-04 09:28:00</td>\n",
       "            <td>0.058</td>\n",
       "        </tr>\n",
       "        <tr>\n",
       "            <td>01800095087</td>\n",
       "            <td>018000371</td>\n",
       "            <td>2024-11-14 10:21:00</td>\n",
       "            <td>0.057</td>\n",
       "        </tr>\n",
       "        <tr>\n",
       "            <td>07400277136</td>\n",
       "            <td>074000088</td>\n",
       "            <td>2024-09-30 09:08:00</td>\n",
       "            <td>0.046</td>\n",
       "        </tr>\n",
       "        <tr>\n",
       "            <td>03800341949</td>\n",
       "            <td>038000386</td>\n",
       "            <td>2025-01-21 12:53:00</td>\n",
       "            <td>0.044</td>\n",
       "        </tr>\n",
       "        <tr>\n",
       "            <td>03800341949</td>\n",
       "            <td>038000387</td>\n",
       "            <td>2025-01-21 12:53:00</td>\n",
       "            <td>0.044</td>\n",
       "        </tr>\n",
       "        <tr>\n",
       "            <td>02500148561</td>\n",
       "            <td>025004035</td>\n",
       "            <td>2025-01-22 11:12:00</td>\n",
       "            <td>0.042</td>\n",
       "        </tr>\n",
       "        <tr>\n",
       "            <td>00100142949</td>\n",
       "            <td>001001087</td>\n",
       "            <td>2024-07-31 08:40:00</td>\n",
       "            <td>0.042</td>\n",
       "        </tr>\n",
       "        <tr>\n",
       "            <td>02500148561</td>\n",
       "            <td>025004023</td>\n",
       "            <td>2025-01-22 11:12:00</td>\n",
       "            <td>0.042</td>\n",
       "        </tr>\n",
       "        <tr>\n",
       "            <td>02500148561</td>\n",
       "            <td>025000609</td>\n",
       "            <td>2025-01-22 11:12:00</td>\n",
       "            <td>0.042</td>\n",
       "        </tr>\n",
       "        <tr>\n",
       "            <td>06900168616</td>\n",
       "            <td>069000191</td>\n",
       "            <td>2025-01-07 08:59:00</td>\n",
       "            <td>0.041</td>\n",
       "        </tr>\n",
       "        <tr>\n",
       "            <td>06900168616</td>\n",
       "            <td>069000173</td>\n",
       "            <td>2025-01-07 08:59:00</td>\n",
       "            <td>0.041</td>\n",
       "        </tr>\n",
       "        <tr>\n",
       "            <td>06900168616</td>\n",
       "            <td>069000170</td>\n",
       "            <td>2025-01-07 08:59:00</td>\n",
       "            <td>0.041</td>\n",
       "        </tr>\n",
       "    </tbody>\n",
       "</table>\n",
       "<span style=\"font-style:italic;text-align:center;\">Truncated to <a href=\"https://jupysql.ploomber.io/en/latest/api/configuration.html#displaylimit\">displaylimit</a> of 20.</span>"
      ],
      "text/plain": [
       "+---------------+-----------+---------------------+--------------+\n",
       "| referenceprel |  cdreseau |     datetimeprel    | somme_4_pfas |\n",
       "+---------------+-----------+---------------------+--------------+\n",
       "|  02A00113033  | 02A000841 | 2023-04-24 09:45:00 |    10.000    |\n",
       "|  01300273898  | 013001457 | 2025-01-21 09:40:00 |    0.396     |\n",
       "|  03400327431  | 034000985 | 2025-01-15 14:24:00 |    0.112     |\n",
       "|  01100172447  | 011000329 | 2025-01-24 11:05:00 |    0.097     |\n",
       "|  01100172447  | 011004114 | 2025-01-24 11:05:00 |    0.097     |\n",
       "|  01300273795  | 013000416 | 2025-01-21 08:48:00 |    0.085     |\n",
       "|  03400327430  | 034001188 | 2025-01-13 14:44:00 |    0.064     |\n",
       "|  08900130113  | 089000574 | 2024-03-22 10:47:00 |    0.061     |\n",
       "|  03900122750  | 039001435 | 2024-09-04 09:28:00 |    0.058     |\n",
       "|  01800095087  | 018000371 | 2024-11-14 10:21:00 |    0.057     |\n",
       "|  07400277136  | 074000088 | 2024-09-30 09:08:00 |    0.046     |\n",
       "|  03800341949  | 038000386 | 2025-01-21 12:53:00 |    0.044     |\n",
       "|  03800341949  | 038000387 | 2025-01-21 12:53:00 |    0.044     |\n",
       "|  02500148561  | 025004035 | 2025-01-22 11:12:00 |    0.042     |\n",
       "|  00100142949  | 001001087 | 2024-07-31 08:40:00 |    0.042     |\n",
       "|  02500148561  | 025004023 | 2025-01-22 11:12:00 |    0.042     |\n",
       "|  02500148561  | 025000609 | 2025-01-22 11:12:00 |    0.042     |\n",
       "|  06900168616  | 069000191 | 2025-01-07 08:59:00 |    0.041     |\n",
       "|  06900168616  | 069000173 | 2025-01-07 08:59:00 |    0.041     |\n",
       "|  06900168616  | 069000170 | 2025-01-07 08:59:00 |    0.041     |\n",
       "+---------------+-----------+---------------------+--------------+\n",
       "Truncated to displaylimit of 20."
      ]
     },
     "execution_count": 6,
     "metadata": {},
     "output_type": "execute_result"
    }
   ],
   "source": [
    "%%sql\n",
    "\n",
    "WITH latest_pfas_results AS (\n",
    "    SELECT\n",
    "        *,\n",
    "        ROW_NUMBER()\n",
    "            OVER (\n",
    "                PARTITION BY cdreseau, cdparametresiseeaux\n",
    "                ORDER BY datetimeprel DESC\n",
    "            ) AS row_number\n",
    "    FROM int__resultats_udi_communes\n",
    "    WHERE categorie = 'pfas'\n",
    ")\n",
    "\n",
    "SELECT \n",
    "    referenceprel, \n",
    "    cdreseau, \n",
    "    datetimeprel,\n",
    "    SUM(CASE WHEN cdparametresiseeaux IN ('PFOA', 'PFOS', 'PFNA', 'PFHXS') THEN valtraduite ELSE 0 END) AS somme_4_pfas\n",
    "FROM latest_pfas_results\n",
    "WHERE row_number = 1\n",
    "GROUP BY referenceprel, cdreseau, datetimeprel\n",
    "ORDER BY somme_4_pfas DESC"
   ]
  },
  {
   "cell_type": "markdown",
   "metadata": {},
   "source": [
    "Ci-dessus : les prélèvements qui ont les plus grosses valeurs pour \"Somme des 4 PFAS\". On note que le prélèvement `02A00113033` a une valeur de 10. Peut-être une erreur (fort probable).\n"
   ]
  },
  {
   "cell_type": "code",
   "execution_count": 7,
   "metadata": {},
   "outputs": [
    {
     "data": {
      "text/html": [
       "<span style=\"None\">Running query in &#x27;duckdb:///../../database/data.duckdb&#x27;</span>"
      ],
      "text/plain": [
       "Running query in 'duckdb:///../../database/data.duckdb'"
      ]
     },
     "metadata": {},
     "output_type": "display_data"
    },
    {
     "data": {
      "text/html": [
       "<table>\n",
       "    <thead>\n",
       "        <tr>\n",
       "            <th>referenceprel</th>\n",
       "            <th>cdparametresiseeaux</th>\n",
       "            <th>valtraduite</th>\n",
       "            <th>limitequal</th>\n",
       "            <th>de_partition</th>\n",
       "            <th>limitequal_float</th>\n",
       "            <th>unite</th>\n",
       "            <th>categorie</th>\n",
       "            <th>cdreseau</th>\n",
       "            <th>inseecommune</th>\n",
       "            <th>datetimeprel</th>\n",
       "        </tr>\n",
       "    </thead>\n",
       "    <tbody>\n",
       "        <tr>\n",
       "            <td>02A00113033</td>\n",
       "            <td>PFNA</td>\n",
       "            <td>10.000</td>\n",
       "            <td>None</td>\n",
       "            <td>2023</td>\n",
       "            <td>None</td>\n",
       "            <td>None</td>\n",
       "            <td>pfas</td>\n",
       "            <td>02A000841</td>\n",
       "            <td>2A276</td>\n",
       "            <td>2023-04-24 09:45:00</td>\n",
       "        </tr>\n",
       "    </tbody>\n",
       "</table>"
      ],
      "text/plain": [
       "+---------------+---------------------+-------------+------------+--------------+------------------+-------+-----------+-----------+--------------+---------------------+\n",
       "| referenceprel | cdparametresiseeaux | valtraduite | limitequal | de_partition | limitequal_float | unite | categorie |  cdreseau | inseecommune |     datetimeprel    |\n",
       "+---------------+---------------------+-------------+------------+--------------+------------------+-------+-----------+-----------+--------------+---------------------+\n",
       "|  02A00113033  |         PFNA        |    10.000   |    None    |     2023     |       None       |  None |    pfas   | 02A000841 |    2A276     | 2023-04-24 09:45:00 |\n",
       "+---------------+---------------------+-------------+------------+--------------+------------------+-------+-----------+-----------+--------------+---------------------+"
      ]
     },
     "execution_count": 7,
     "metadata": {},
     "output_type": "execute_result"
    }
   ],
   "source": [
    "%%sql\n",
    "\n",
    "SELECT *\n",
    "FROM int__resultats_udi_communes\n",
    "WHERE referenceprel = '02A00113033' AND cdreseau = '02A000841' AND categorie = 'pfas'"
   ]
  },
  {
   "cell_type": "markdown",
   "metadata": {},
   "source": [
    "Ci-dessus : exploration des résultats pour la catégorie 'pfas' pour le prélèvement étrange de l'étape d'avant (`02A00113033`)\n",
    "\n",
    "---\n"
   ]
  },
  {
   "cell_type": "markdown",
   "metadata": {},
   "source": [
    "### Prio 1 : Resultats PFAS - UDI - Derniers Prélèvements\n"
   ]
  },
  {
   "cell_type": "code",
   "execution_count": 25,
   "metadata": {},
   "outputs": [
    {
     "data": {
      "text/html": [
       "<span style=\"None\">Running query in &#x27;duckdb:///../../database/data.duckdb&#x27;</span>"
      ],
      "text/plain": [
       "Running query in 'duckdb:///../../database/data.duckdb'"
      ]
     },
     "metadata": {},
     "output_type": "display_data"
    },
    {
     "data": {
      "application/vnd.jupyter.widget-view+json": {
       "model_id": "e9dc631fa420443e83dcbc288f093c09",
       "version_major": 2,
       "version_minor": 0
      },
      "text/plain": [
       "FloatProgress(value=0.0, layout=Layout(width='auto'), style=ProgressStyle(bar_color='black'))"
      ]
     },
     "metadata": {},
     "output_type": "display_data"
    },
    {
     "data": {
      "text/html": [
       "<table>\n",
       "    <thead>\n",
       "        <tr>\n",
       "            <th>referenceprel</th>\n",
       "            <th>cdreseau</th>\n",
       "            <th>categorie</th>\n",
       "            <th>last_datetimeprel</th>\n",
       "            <th>result</th>\n",
       "            <th>periode</th>\n",
       "        </tr>\n",
       "    </thead>\n",
       "    <tbody>\n",
       "        <tr>\n",
       "            <td>02600171893</td>\n",
       "            <td>026001154</td>\n",
       "            <td>pfas</td>\n",
       "            <td>2025-01-31 12:23:00</td>\n",
       "            <td>Somme des 20 PFAS < 0,1 µg/L et somme des 4 PFAS < 0,02 µg/L</td>\n",
       "            <td>dernier prélèvment</td>\n",
       "        </tr>\n",
       "        <tr>\n",
       "            <td>00500134428</td>\n",
       "            <td>005001232</td>\n",
       "            <td>pfas</td>\n",
       "            <td>2025-01-31 11:17:00</td>\n",
       "            <td>Somme des 20 PFAS < 0,1 µg/L et somme des 4 PFAS < 0,02 µg/L</td>\n",
       "            <td>dernier prélèvment</td>\n",
       "        </tr>\n",
       "        <tr>\n",
       "            <td>04500164331</td>\n",
       "            <td>045000430</td>\n",
       "            <td>pfas</td>\n",
       "            <td>2025-01-31 10:02:00</td>\n",
       "            <td>Somme des 20 PFAS < 0,1 µg/L et somme des 4 PFAS < 0,02 µg/L</td>\n",
       "            <td>dernier prélèvment</td>\n",
       "        </tr>\n",
       "        <tr>\n",
       "            <td>04500164331</td>\n",
       "            <td>045000431</td>\n",
       "            <td>pfas</td>\n",
       "            <td>2025-01-31 10:02:00</td>\n",
       "            <td>Somme des 20 PFAS < 0,1 µg/L et somme des 4 PFAS < 0,02 µg/L</td>\n",
       "            <td>dernier prélèvment</td>\n",
       "        </tr>\n",
       "        <tr>\n",
       "            <td>04500164334</td>\n",
       "            <td>045000494</td>\n",
       "            <td>pfas</td>\n",
       "            <td>2025-01-31 09:38:00</td>\n",
       "            <td>Somme des 20 PFAS < 0,1 µg/L et somme des 4 PFAS < 0,02 µg/L</td>\n",
       "            <td>dernier prélèvment</td>\n",
       "        </tr>\n",
       "        <tr>\n",
       "            <td>03800342072</td>\n",
       "            <td>038000488</td>\n",
       "            <td>pfas</td>\n",
       "            <td>2025-01-31 09:15:00</td>\n",
       "            <td>Somme des 20 PFAS < 0,1 µg/L et somme des 4 PFAS < 0,02 µg/L</td>\n",
       "            <td>dernier prélèvment</td>\n",
       "        </tr>\n",
       "        <tr>\n",
       "            <td>04400263448</td>\n",
       "            <td>044000652</td>\n",
       "            <td>pfas</td>\n",
       "            <td>2025-01-31 09:01:00</td>\n",
       "            <td>Somme des 20 PFAS < 0,1 µg/L et somme des 4 PFAS < 0,02 µg/L</td>\n",
       "            <td>dernier prélèvment</td>\n",
       "        </tr>\n",
       "        <tr>\n",
       "            <td>04400263448</td>\n",
       "            <td>044003468</td>\n",
       "            <td>pfas</td>\n",
       "            <td>2025-01-31 09:01:00</td>\n",
       "            <td>Somme des 20 PFAS < 0,1 µg/L et somme des 4 PFAS < 0,02 µg/L</td>\n",
       "            <td>dernier prélèvment</td>\n",
       "        </tr>\n",
       "        <tr>\n",
       "            <td>04400263448</td>\n",
       "            <td>044000151</td>\n",
       "            <td>pfas</td>\n",
       "            <td>2025-01-31 09:01:00</td>\n",
       "            <td>Somme des 20 PFAS < 0,1 µg/L et somme des 4 PFAS < 0,02 µg/L</td>\n",
       "            <td>dernier prélèvment</td>\n",
       "        </tr>\n",
       "        <tr>\n",
       "            <td>04400263448</td>\n",
       "            <td>044000155</td>\n",
       "            <td>pfas</td>\n",
       "            <td>2025-01-31 09:01:00</td>\n",
       "            <td>Somme des 20 PFAS < 0,1 µg/L et somme des 4 PFAS < 0,02 µg/L</td>\n",
       "            <td>dernier prélèvment</td>\n",
       "        </tr>\n",
       "        <tr>\n",
       "            <td>00400147226</td>\n",
       "            <td>004001365</td>\n",
       "            <td>pfas</td>\n",
       "            <td>2025-01-30 10:33:00</td>\n",
       "            <td>Somme des 20 PFAS < 0,1 µg/L et somme des 4 PFAS < 0,02 µg/L</td>\n",
       "            <td>dernier prélèvment</td>\n",
       "        </tr>\n",
       "        <tr>\n",
       "            <td>00400147198</td>\n",
       "            <td>004003909</td>\n",
       "            <td>pfas</td>\n",
       "            <td>2025-01-30 10:26:00</td>\n",
       "            <td>Somme des 20 PFAS < 0,1 µg/L et somme des 4 PFAS < 0,02 µg/L</td>\n",
       "            <td>dernier prélèvment</td>\n",
       "        </tr>\n",
       "        <tr>\n",
       "            <td>00400147225</td>\n",
       "            <td>004000361</td>\n",
       "            <td>pfas</td>\n",
       "            <td>2025-01-30 09:45:00</td>\n",
       "            <td>Somme des 20 PFAS < 0,1 µg/L et somme des 4 PFAS < 0,02 µg/L</td>\n",
       "            <td>dernier prélèvment</td>\n",
       "        </tr>\n",
       "        <tr>\n",
       "            <td>04400263452</td>\n",
       "            <td>044000116</td>\n",
       "            <td>pfas</td>\n",
       "            <td>2025-01-30 09:35:00</td>\n",
       "            <td>Somme des 20 PFAS < 0,1 µg/L et somme des 4 PFAS < 0,02 µg/L</td>\n",
       "            <td>dernier prélèvment</td>\n",
       "        </tr>\n",
       "        <tr>\n",
       "            <td>00400147227</td>\n",
       "            <td>004001584</td>\n",
       "            <td>pfas</td>\n",
       "            <td>2025-01-30 09:22:00</td>\n",
       "            <td>Somme des 20 PFAS < 0,1 µg/L et somme des 4 PFAS < 0,02 µg/L</td>\n",
       "            <td>dernier prélèvment</td>\n",
       "        </tr>\n",
       "        <tr>\n",
       "            <td>04400263445</td>\n",
       "            <td>044000148</td>\n",
       "            <td>pfas</td>\n",
       "            <td>2025-01-30 09:19:00</td>\n",
       "            <td>Somme des 20 PFAS < 0,1 µg/L et somme des 4 PFAS < 0,02 µg/L</td>\n",
       "            <td>dernier prélèvment</td>\n",
       "        </tr>\n",
       "        <tr>\n",
       "            <td>03600091111</td>\n",
       "            <td>036000244</td>\n",
       "            <td>pfas</td>\n",
       "            <td>2025-01-30 09:18:00</td>\n",
       "            <td>Somme des 20 PFAS < 0,1 µg/L et somme des 4 PFAS < 0,02 µg/L</td>\n",
       "            <td>dernier prélèvment</td>\n",
       "        </tr>\n",
       "        <tr>\n",
       "            <td>03600091130</td>\n",
       "            <td>036000780</td>\n",
       "            <td>pfas</td>\n",
       "            <td>2025-01-30 09:04:00</td>\n",
       "            <td>Somme des 20 PFAS < 0,1 µg/L et somme des 4 PFAS < 0,02 µg/L</td>\n",
       "            <td>dernier prélèvment</td>\n",
       "        </tr>\n",
       "        <tr>\n",
       "            <td>07600298480</td>\n",
       "            <td>076000391</td>\n",
       "            <td>pfas</td>\n",
       "            <td>2025-01-30 08:55:00</td>\n",
       "            <td>Somme des 20 PFAS < 0,1 µg/L et somme des 4 PFAS < 0,02 µg/L</td>\n",
       "            <td>dernier prélèvment</td>\n",
       "        </tr>\n",
       "        <tr>\n",
       "            <td>00400147197</td>\n",
       "            <td>004000433</td>\n",
       "            <td>pfas</td>\n",
       "            <td>2025-01-30 08:55:00</td>\n",
       "            <td>Somme des 20 PFAS < 0,1 µg/L et somme des 4 PFAS < 0,02 µg/L</td>\n",
       "            <td>dernier prélèvment</td>\n",
       "        </tr>\n",
       "    </tbody>\n",
       "</table>\n",
       "<span style=\"font-style:italic;text-align:center;\">Truncated to <a href=\"https://jupysql.ploomber.io/en/latest/api/configuration.html#displaylimit\">displaylimit</a> of 20.</span>"
      ],
      "text/plain": [
       "+---------------+-----------+-----------+---------------------+--------------------------------------------------------------+--------------------+\n",
       "| referenceprel |  cdreseau | categorie |  last_datetimeprel  |                            result                            |      periode       |\n",
       "+---------------+-----------+-----------+---------------------+--------------------------------------------------------------+--------------------+\n",
       "|  02600171893  | 026001154 |    pfas   | 2025-01-31 12:23:00 | Somme des 20 PFAS < 0,1 µg/L et somme des 4 PFAS < 0,02 µg/L | dernier prélèvment |\n",
       "|  00500134428  | 005001232 |    pfas   | 2025-01-31 11:17:00 | Somme des 20 PFAS < 0,1 µg/L et somme des 4 PFAS < 0,02 µg/L | dernier prélèvment |\n",
       "|  04500164331  | 045000430 |    pfas   | 2025-01-31 10:02:00 | Somme des 20 PFAS < 0,1 µg/L et somme des 4 PFAS < 0,02 µg/L | dernier prélèvment |\n",
       "|  04500164331  | 045000431 |    pfas   | 2025-01-31 10:02:00 | Somme des 20 PFAS < 0,1 µg/L et somme des 4 PFAS < 0,02 µg/L | dernier prélèvment |\n",
       "|  04500164334  | 045000494 |    pfas   | 2025-01-31 09:38:00 | Somme des 20 PFAS < 0,1 µg/L et somme des 4 PFAS < 0,02 µg/L | dernier prélèvment |\n",
       "|  03800342072  | 038000488 |    pfas   | 2025-01-31 09:15:00 | Somme des 20 PFAS < 0,1 µg/L et somme des 4 PFAS < 0,02 µg/L | dernier prélèvment |\n",
       "|  04400263448  | 044000652 |    pfas   | 2025-01-31 09:01:00 | Somme des 20 PFAS < 0,1 µg/L et somme des 4 PFAS < 0,02 µg/L | dernier prélèvment |\n",
       "|  04400263448  | 044003468 |    pfas   | 2025-01-31 09:01:00 | Somme des 20 PFAS < 0,1 µg/L et somme des 4 PFAS < 0,02 µg/L | dernier prélèvment |\n",
       "|  04400263448  | 044000151 |    pfas   | 2025-01-31 09:01:00 | Somme des 20 PFAS < 0,1 µg/L et somme des 4 PFAS < 0,02 µg/L | dernier prélèvment |\n",
       "|  04400263448  | 044000155 |    pfas   | 2025-01-31 09:01:00 | Somme des 20 PFAS < 0,1 µg/L et somme des 4 PFAS < 0,02 µg/L | dernier prélèvment |\n",
       "|  00400147226  | 004001365 |    pfas   | 2025-01-30 10:33:00 | Somme des 20 PFAS < 0,1 µg/L et somme des 4 PFAS < 0,02 µg/L | dernier prélèvment |\n",
       "|  00400147198  | 004003909 |    pfas   | 2025-01-30 10:26:00 | Somme des 20 PFAS < 0,1 µg/L et somme des 4 PFAS < 0,02 µg/L | dernier prélèvment |\n",
       "|  00400147225  | 004000361 |    pfas   | 2025-01-30 09:45:00 | Somme des 20 PFAS < 0,1 µg/L et somme des 4 PFAS < 0,02 µg/L | dernier prélèvment |\n",
       "|  04400263452  | 044000116 |    pfas   | 2025-01-30 09:35:00 | Somme des 20 PFAS < 0,1 µg/L et somme des 4 PFAS < 0,02 µg/L | dernier prélèvment |\n",
       "|  00400147227  | 004001584 |    pfas   | 2025-01-30 09:22:00 | Somme des 20 PFAS < 0,1 µg/L et somme des 4 PFAS < 0,02 µg/L | dernier prélèvment |\n",
       "|  04400263445  | 044000148 |    pfas   | 2025-01-30 09:19:00 | Somme des 20 PFAS < 0,1 µg/L et somme des 4 PFAS < 0,02 µg/L | dernier prélèvment |\n",
       "|  03600091111  | 036000244 |    pfas   | 2025-01-30 09:18:00 | Somme des 20 PFAS < 0,1 µg/L et somme des 4 PFAS < 0,02 µg/L | dernier prélèvment |\n",
       "|  03600091130  | 036000780 |    pfas   | 2025-01-30 09:04:00 | Somme des 20 PFAS < 0,1 µg/L et somme des 4 PFAS < 0,02 µg/L | dernier prélèvment |\n",
       "|  07600298480  | 076000391 |    pfas   | 2025-01-30 08:55:00 | Somme des 20 PFAS < 0,1 µg/L et somme des 4 PFAS < 0,02 µg/L | dernier prélèvment |\n",
       "|  00400147197  | 004000433 |    pfas   | 2025-01-30 08:55:00 | Somme des 20 PFAS < 0,1 µg/L et somme des 4 PFAS < 0,02 µg/L | dernier prélèvment |\n",
       "+---------------+-----------+-----------+---------------------+--------------------------------------------------------------+--------------------+\n",
       "Truncated to displaylimit of 20."
      ]
     },
     "execution_count": 25,
     "metadata": {},
     "output_type": "execute_result"
    }
   ],
   "source": [
    "%%sql\n",
    "\n",
    "--save last_results_pfas_udi\n",
    "\n",
    "WITH latest_pfas_results AS (\n",
    "    SELECT\n",
    "        *,\n",
    "        ROW_NUMBER() OVER (\n",
    "            PARTITION BY cdreseau, cdparametresiseeaux\n",
    "            ORDER BY datetimeprel DESC\n",
    "        ) AS row_number\n",
    "    FROM int__resultats_udi_communes\n",
    "    WHERE categorie = 'pfas'\n",
    "    AND\n",
    "        -- On garde les prélèvements de moins d'un an\n",
    "        CURRENT_DATE - datetimeprel < INTERVAL 1 YEAR\n",
    "),\n",
    "\n",
    "aggregated_results AS (\n",
    "    SELECT\n",
    "        referenceprel,\n",
    "        cdreseau,\n",
    "        datetimeprel,\n",
    "        MAX(CASE WHEN cdparametresiseeaux = 'SPFAS' THEN valtraduite ELSE 0 END) AS sum_20_pfas,\n",
    "        SUM(CASE WHEN cdparametresiseeaux IN ('PFOA', 'PFOS', 'PFNA', 'PFHXS') THEN valtraduite ELSE 0 END) AS sum_4_pfas,\n",
    "        MAX(CASE WHEN cdparametresiseeaux != 'SPFAS' THEN valtraduite ELSE NULL END) AS max_individual_pfas,\n",
    "        COUNT(DISTINCT CASE WHEN valtraduite != 0 THEN cdparametresiseeaux END) AS nb_quantified_params\n",
    "    FROM latest_pfas_results\n",
    "    WHERE row_number = 1\n",
    "    GROUP BY referenceprel, cdreseau, datetimeprel\n",
    ")\n",
    "\n",
    "SELECT\n",
    "    referenceprel,\n",
    "    cdreseau,\n",
    "    'pfas' AS categorie,\n",
    "    datetimeprel AS last_datetimeprel,\n",
    "    CASE\n",
    "        WHEN sum_20_pfas IS NULL AND nb_quantified_params = 0 THEN 'Aucun paramètre n’a été quantifié'\n",
    "        WHEN sum_20_pfas < 0.1 AND sum_4_pfas < 0.02 THEN 'Somme des 20 PFAS < 0,1 µg/L et somme des 4 PFAS < 0,02 µg/L'\n",
    "        WHEN sum_20_pfas < 0.1 AND sum_4_pfas >= 0.02 THEN 'Somme des 20 PFAS < 0,1 µg/L et somme des 4 PFAS >= 0,02 µg/L'\n",
    "        WHEN sum_20_pfas >= 0.1 THEN 'Somme des 20 PFAS >= 0,1 µg/L'\n",
    "        WHEN max_individual_pfas >= 0.1 THEN 'Au moins 1 PFAS >= valeur sanitaire (0,1 µg/L)'\n",
    "        ELSE 'Erreur de classification'\n",
    "    END AS result,\n",
    "    'dernier prélèvment' AS periode\n",
    "FROM aggregated_results\n",
    "ORDER BY datetimeprel DESC"
   ]
  },
  {
   "cell_type": "markdown",
   "metadata": {},
   "source": [
    "### CHECKS : Resultats PFAS - UDI - Derniers Prélèvements\n"
   ]
  },
  {
   "cell_type": "code",
   "execution_count": null,
   "metadata": {},
   "outputs": [],
   "source": [
    "%%sql\n",
    "\n",
    "--with last_results_pfas_udi\n",
    "\n",
    "SELECT result, MIN(referenceprel) AS referenceprel_test, MIN(cdreseau) AS cdreseau_test, COUNT(DISTINCT referenceprel) AS nb_prel_unique\n",
    "FROM last_results_pfas_udi\n",
    "GROUP BY result\n",
    "ORDER BY result DESC"
   ]
  },
  {
   "cell_type": "code",
   "execution_count": 93,
   "metadata": {},
   "outputs": [
    {
     "data": {
      "text/html": [
       "<span style=\"None\">Running query in &#x27;duckdb:///../../database/data.duckdb&#x27;</span>"
      ],
      "text/plain": [
       "Running query in 'duckdb:///../../database/data.duckdb'"
      ]
     },
     "metadata": {},
     "output_type": "display_data"
    },
    {
     "data": {
      "application/vnd.jupyter.widget-view+json": {
       "model_id": "22f0afe1098b45969c26201d9b4ea247",
       "version_major": 2,
       "version_minor": 0
      },
      "text/plain": [
       "FloatProgress(value=0.0, layout=Layout(width='auto'), style=ProgressStyle(bar_color='black'))"
      ]
     },
     "metadata": {},
     "output_type": "display_data"
    },
    {
     "data": {
      "text/html": [
       "<table>\n",
       "    <thead>\n",
       "        <tr>\n",
       "            <th>nb_prel_unique</th>\n",
       "        </tr>\n",
       "    </thead>\n",
       "    <tbody>\n",
       "        <tr>\n",
       "            <td>1164</td>\n",
       "        </tr>\n",
       "    </tbody>\n",
       "</table>"
      ],
      "text/plain": [
       "+----------------+\n",
       "| nb_prel_unique |\n",
       "+----------------+\n",
       "|      1164      |\n",
       "+----------------+"
      ]
     },
     "execution_count": 93,
     "metadata": {},
     "output_type": "execute_result"
    }
   ],
   "source": [
    "%%sql\n",
    "\n",
    "WITH latest_pfas_results AS (\n",
    "    SELECT\n",
    "        *,\n",
    "        ROW_NUMBER() OVER (\n",
    "            PARTITION BY cdreseau, cdparametresiseeaux\n",
    "            ORDER BY datetimeprel DESC\n",
    "        ) AS row_number\n",
    "    FROM int__resultats_udi_communes\n",
    "    WHERE categorie = 'pfas'\n",
    ")\n",
    "\n",
    "SELECT COUNT(DISTINCT referenceprel) AS nb_prel_unique\n",
    "FROM latest_pfas_results\n",
    "WHERE row_number = 1"
   ]
  },
  {
   "cell_type": "code",
   "execution_count": 87,
   "metadata": {},
   "outputs": [
    {
     "data": {
      "text/html": [
       "<span style=\"None\">Running query in &#x27;duckdb:///../../database/data.duckdb&#x27;</span>"
      ],
      "text/plain": [
       "Running query in 'duckdb:///../../database/data.duckdb'"
      ]
     },
     "metadata": {},
     "output_type": "display_data"
    },
    {
     "data": {
      "application/vnd.jupyter.widget-view+json": {
       "model_id": "7f30fc5a089045ab81e16a5391721458",
       "version_major": 2,
       "version_minor": 0
      },
      "text/plain": [
       "FloatProgress(value=0.0, layout=Layout(width='auto'), style=ProgressStyle(bar_color='black'))"
      ]
     },
     "metadata": {},
     "output_type": "display_data"
    },
    {
     "data": {
      "text/html": [
       "<table>\n",
       "    <thead>\n",
       "        <tr>\n",
       "            <th>referenceprel</th>\n",
       "            <th>cdreseau</th>\n",
       "            <th>datetimeprel</th>\n",
       "            <th>result</th>\n",
       "        </tr>\n",
       "    </thead>\n",
       "    <tbody>\n",
       "        <tr>\n",
       "            <td>07200133081</td>\n",
       "            <td>072000498</td>\n",
       "            <td>2023-04-14 10:39:00</td>\n",
       "            <td>Erreur de classification</td>\n",
       "        </tr>\n",
       "        <tr>\n",
       "            <td>07200133081</td>\n",
       "            <td>072000924</td>\n",
       "            <td>2023-04-14 10:39:00</td>\n",
       "            <td>Erreur de classification</td>\n",
       "        </tr>\n",
       "    </tbody>\n",
       "</table>"
      ],
      "text/plain": [
       "+---------------+-----------+---------------------+--------------------------+\n",
       "| referenceprel |  cdreseau |     datetimeprel    |          result          |\n",
       "+---------------+-----------+---------------------+--------------------------+\n",
       "|  07200133081  | 072000498 | 2023-04-14 10:39:00 | Erreur de classification |\n",
       "|  07200133081  | 072000924 | 2023-04-14 10:39:00 | Erreur de classification |\n",
       "+---------------+-----------+---------------------+--------------------------+"
      ]
     },
     "execution_count": 87,
     "metadata": {},
     "output_type": "execute_result"
    }
   ],
   "source": [
    "%%sql --with last_results_pfas_udi\n",
    "\n",
    "SELECT *\n",
    "FROM last_results_pfas_udi\n",
    "WHERE result = 'Erreur de classification'"
   ]
  },
  {
   "cell_type": "code",
   "execution_count": 94,
   "metadata": {},
   "outputs": [
    {
     "data": {
      "text/html": [
       "<span style=\"None\">Running query in &#x27;duckdb:///../../database/data.duckdb&#x27;</span>"
      ],
      "text/plain": [
       "Running query in 'duckdb:///../../database/data.duckdb'"
      ]
     },
     "metadata": {},
     "output_type": "display_data"
    },
    {
     "data": {
      "text/html": [
       "<table>\n",
       "    <thead>\n",
       "        <tr>\n",
       "            <th>referenceprel</th>\n",
       "            <th>cdparametresiseeaux</th>\n",
       "            <th>valtraduite</th>\n",
       "            <th>limitequal</th>\n",
       "            <th>de_partition</th>\n",
       "            <th>limitequal_float</th>\n",
       "            <th>unite</th>\n",
       "            <th>categorie</th>\n",
       "            <th>cdreseau</th>\n",
       "            <th>inseecommune</th>\n",
       "            <th>datetimeprel</th>\n",
       "        </tr>\n",
       "    </thead>\n",
       "    <tbody>\n",
       "        <tr>\n",
       "            <td>07200133081</td>\n",
       "            <td>PFOA</td>\n",
       "            <td>None</td>\n",
       "            <td>None</td>\n",
       "            <td>2023</td>\n",
       "            <td>None</td>\n",
       "            <td>None</td>\n",
       "            <td>pfas</td>\n",
       "            <td>072000498</td>\n",
       "            <td>72012</td>\n",
       "            <td>2023-04-14 10:39:00</td>\n",
       "        </tr>\n",
       "        <tr>\n",
       "            <td>07200133081</td>\n",
       "            <td>PFOA</td>\n",
       "            <td>None</td>\n",
       "            <td>None</td>\n",
       "            <td>2023</td>\n",
       "            <td>None</td>\n",
       "            <td>None</td>\n",
       "            <td>pfas</td>\n",
       "            <td>072000498</td>\n",
       "            <td>72152</td>\n",
       "            <td>2023-04-14 10:39:00</td>\n",
       "        </tr>\n",
       "        <tr>\n",
       "            <td>07200133081</td>\n",
       "            <td>PFOA</td>\n",
       "            <td>None</td>\n",
       "            <td>None</td>\n",
       "            <td>2023</td>\n",
       "            <td>None</td>\n",
       "            <td>None</td>\n",
       "            <td>pfas</td>\n",
       "            <td>072000498</td>\n",
       "            <td>72297</td>\n",
       "            <td>2023-04-14 10:39:00</td>\n",
       "        </tr>\n",
       "        <tr>\n",
       "            <td>07200133081</td>\n",
       "            <td>PFOA</td>\n",
       "            <td>None</td>\n",
       "            <td>None</td>\n",
       "            <td>2023</td>\n",
       "            <td>None</td>\n",
       "            <td>None</td>\n",
       "            <td>pfas</td>\n",
       "            <td>072000498</td>\n",
       "            <td>72332</td>\n",
       "            <td>2023-04-14 10:39:00</td>\n",
       "        </tr>\n",
       "        <tr>\n",
       "            <td>07200133081</td>\n",
       "            <td>PFOA</td>\n",
       "            <td>None</td>\n",
       "            <td>None</td>\n",
       "            <td>2023</td>\n",
       "            <td>None</td>\n",
       "            <td>None</td>\n",
       "            <td>pfas</td>\n",
       "            <td>072000498</td>\n",
       "            <td>72362</td>\n",
       "            <td>2023-04-14 10:39:00</td>\n",
       "        </tr>\n",
       "        <tr>\n",
       "            <td>07200133081</td>\n",
       "            <td>PFOA</td>\n",
       "            <td>None</td>\n",
       "            <td>None</td>\n",
       "            <td>2023</td>\n",
       "            <td>None</td>\n",
       "            <td>None</td>\n",
       "            <td>pfas</td>\n",
       "            <td>072000498</td>\n",
       "            <td>72370</td>\n",
       "            <td>2023-04-14 10:39:00</td>\n",
       "        </tr>\n",
       "    </tbody>\n",
       "</table>"
      ],
      "text/plain": [
       "+---------------+---------------------+-------------+------------+--------------+------------------+-------+-----------+-----------+--------------+---------------------+\n",
       "| referenceprel | cdparametresiseeaux | valtraduite | limitequal | de_partition | limitequal_float | unite | categorie |  cdreseau | inseecommune |     datetimeprel    |\n",
       "+---------------+---------------------+-------------+------------+--------------+------------------+-------+-----------+-----------+--------------+---------------------+\n",
       "|  07200133081  |         PFOA        |     None    |    None    |     2023     |       None       |  None |    pfas   | 072000498 |    72012     | 2023-04-14 10:39:00 |\n",
       "|  07200133081  |         PFOA        |     None    |    None    |     2023     |       None       |  None |    pfas   | 072000498 |    72152     | 2023-04-14 10:39:00 |\n",
       "|  07200133081  |         PFOA        |     None    |    None    |     2023     |       None       |  None |    pfas   | 072000498 |    72297     | 2023-04-14 10:39:00 |\n",
       "|  07200133081  |         PFOA        |     None    |    None    |     2023     |       None       |  None |    pfas   | 072000498 |    72332     | 2023-04-14 10:39:00 |\n",
       "|  07200133081  |         PFOA        |     None    |    None    |     2023     |       None       |  None |    pfas   | 072000498 |    72362     | 2023-04-14 10:39:00 |\n",
       "|  07200133081  |         PFOA        |     None    |    None    |     2023     |       None       |  None |    pfas   | 072000498 |    72370     | 2023-04-14 10:39:00 |\n",
       "+---------------+---------------------+-------------+------------+--------------+------------------+-------+-----------+-----------+--------------+---------------------+"
      ]
     },
     "execution_count": 94,
     "metadata": {},
     "output_type": "execute_result"
    }
   ],
   "source": [
    "%%sql\n",
    "\n",
    "SELECT *\n",
    "FROM int__resultats_udi_communes\n",
    "WHERE referenceprel = '07200133081' AND cdreseau = '072000498' AND categorie = 'pfas'\n",
    "ORDER BY inseecommune ASC"
   ]
  },
  {
   "cell_type": "markdown",
   "metadata": {},
   "source": [
    "Que faire dans le cas ci-dessus ? Edge case : valtraduite IS NULL --> que faire ?\n"
   ]
  }
 ],
 "metadata": {
  "kernelspec": {
   "display_name": ".venv",
   "language": "python",
   "name": "python3"
  },
  "language_info": {
   "codemirror_mode": {
    "name": "ipython",
    "version": 3
   },
   "file_extension": ".py",
   "mimetype": "text/x-python",
   "name": "python",
   "nbconvert_exporter": "python",
   "pygments_lexer": "ipython3",
   "version": "3.12.2"
  }
 },
 "nbformat": 4,
 "nbformat_minor": 2
}
