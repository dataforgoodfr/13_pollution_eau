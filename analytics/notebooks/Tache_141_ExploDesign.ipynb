{
 "cells": [
  {
   "cell_type": "markdown",
   "id": "65ceaea1-2f48-41be-be09-ed8f79523c37",
   "metadata": {},
   "source": [
    "# Explo design - comptage nombre de prélèvement par commune par catégorie\n",
    "***\n",
    "_Les parties indispensables à run sont indiquées avec la mention [TO RUN], afin de reproduire les analyses se situant sous ces sections._\n",
    "\n",
    "**Contexte** :<br>\n",
    "L'équipe Design a besoin d'aide des DAs !<br>\n",
    "Pour choisir le meilleur mode d'affichage entre des points ou des polygones (coloration du tracé d'une commune sur la carte), nous avons besoin d'informations sur la volumétrie\n",
    "\n",
    "**A faire** :<br>\n",
    "Pour chaque catégorie retenue par Pauline, et pour chaque année : extraire le nbr de commune avec au moins un paramètre de la catégorie en question ayant fait l'objet d'un prélèvement\n",
    "\n",
    "Catégories (</strong>utiliser le mapping fourni par Pauline)<br>\n",
    "- Pesticide / Métabolites de pesticides\n",
    "- Nitrite /Nitrate\n",
    "- PFAS\n",
    "- CVM\n",
    "- 1,4 dioxane\n",
    "- Perchlorate\n",
    "\n",
    "\n",
    "Résultat : table avec ces colonnes:<br>\n",
    "- année\n",
    "- catégorie\n",
    "- nombre de commune avec au moins un paramètre de la catégorie en question ayant fait l'objet d'un prélèvement\n"
   ]
  },
  {
   "cell_type": "markdown",
   "id": "ca03a58b-0805-44db-9cba-bbe8929a5343",
   "metadata": {},
   "source": [
    "# Etude\n",
    "***\n",
    "### Packages + read data"
   ]
  },
  {
   "cell_type": "code",
   "execution_count": 1,
   "id": "f5736cb7-a489-4b50-a2ac-fad62581ad7f",
   "metadata": {},
   "outputs": [],
   "source": [
    "# [TO RUN]  Packages\n",
    "import pandas as pd\n",
    "\n",
    "pd.set_option(\"display.max_columns\", None)  # show all cols\n",
    "pd.set_option(\"display.max_colwidth\", None)  # show full width of showing cols\n",
    "pd.set_option(\n",
    "    \"display.expand_frame_repr\", False\n",
    ")  # print cols side by side as it's supposed to be"
   ]
  },
  {
   "cell_type": "code",
   "execution_count": 3,
   "id": "414128e7-6ed1-44a1-9666-3e24d0445acb",
   "metadata": {},
   "outputs": [],
   "source": [
    "# [TO RUN]\n",
    "import duckdb\n",
    "from pipelines.tasks.config.common import DUCKDB_FILE\n",
    "\n",
    "con = duckdb.connect(database=DUCKDB_FILE, read_only=True)"
   ]
  },
  {
   "cell_type": "code",
   "execution_count": 4,
   "id": "c2c1bf57-436b-4458-8ae8-9f562bfb9fd7",
   "metadata": {},
   "outputs": [
    {
     "name": "stdout",
     "output_type": "stream",
     "text": [
      "┌─────────────────────────┐\n",
      "│          name           │\n",
      "│         varchar         │\n",
      "├─────────────────────────┤\n",
      "│ cog_communes            │\n",
      "│ edc_communes            │\n",
      "│ edc_prelevements        │\n",
      "│ edc_resultats           │\n",
      "│ laposte_communes        │\n",
      "│ mapping_categories      │\n",
      "│ stg_communes__cog       │\n",
      "│ stg_communes__laposte   │\n",
      "│ stg_edc__communes       │\n",
      "│ stg_edc__prevelevements │\n",
      "│ stg_edc__resultats      │\n",
      "├─────────────────────────┤\n",
      "│         11 rows         │\n",
      "└─────────────────────────┘\n",
      "\n"
     ]
    }
   ],
   "source": [
    "# [OPTIONAL] Tables dispo dans la bdd\n",
    "con.sql(\"SHOW TABLES\").show()"
   ]
  },
  {
   "cell_type": "markdown",
   "id": "c70c9351-5288-46f5-ba3c-eea73484d217",
   "metadata": {},
   "source": [
    "Repartons du travail fait sur la tâche #155 Proposition création table agrégée commune et année avec résultat CVM \n",
    "\n",
    "- J'ajoute `mapping_categories AS CAT` car on s'intéresse aux catégories définies par Pauline \n",
    "- Pour RESULTS je prends tout `edc_resultats` pour la jointure avec `CAT` et car il n'y a pas besoin filtre (sur la substance)  ou calcul (de conformité)\n",
    "- J'ai supprimé la table `COG` car on ne s'intéresse pas au nom des communes, `edc_communes` devrait suffire."
   ]
  },
  {
   "cell_type": "code",
   "execution_count": 10,
   "id": "6b64fc86-152f-4c57-91e4-fb67cc9d5ce6",
   "metadata": {},
   "outputs": [
    {
     "data": {
      "application/vnd.jupyter.widget-view+json": {
       "model_id": "d260634f6fb74c4bbd5dee2bd909042a",
       "version_major": 2,
       "version_minor": 0
      },
      "text/plain": [
       "FloatProgress(value=0.0, layout=Layout(width='auto'), style=ProgressStyle(bar_color='black'))"
      ]
     },
     "metadata": {},
     "output_type": "display_data"
    },
    {
     "data": {
      "text/html": [
       "<div>\n",
       "<style scoped>\n",
       "    .dataframe tbody tr th:only-of-type {\n",
       "        vertical-align: middle;\n",
       "    }\n",
       "\n",
       "    .dataframe tbody tr th {\n",
       "        vertical-align: top;\n",
       "    }\n",
       "\n",
       "    .dataframe thead th {\n",
       "        text-align: right;\n",
       "    }\n",
       "</style>\n",
       "<table border=\"1\" class=\"dataframe\">\n",
       "  <thead>\n",
       "    <tr style=\"text-align: right;\">\n",
       "      <th></th>\n",
       "      <th>annee</th>\n",
       "      <th>categorie</th>\n",
       "      <th>nb_commune</th>\n",
       "    </tr>\n",
       "  </thead>\n",
       "  <tbody>\n",
       "    <tr>\n",
       "      <th>0</th>\n",
       "      <td>2020</td>\n",
       "      <td>None</td>\n",
       "      <td>34788</td>\n",
       "    </tr>\n",
       "    <tr>\n",
       "      <th>1</th>\n",
       "      <td>2020</td>\n",
       "      <td>cvm</td>\n",
       "      <td>32304</td>\n",
       "    </tr>\n",
       "    <tr>\n",
       "      <th>2</th>\n",
       "      <td>2020</td>\n",
       "      <td>métaux lourds</td>\n",
       "      <td>32617</td>\n",
       "    </tr>\n",
       "    <tr>\n",
       "      <th>3</th>\n",
       "      <td>2020</td>\n",
       "      <td>sous produit désinfection</td>\n",
       "      <td>31026</td>\n",
       "    </tr>\n",
       "    <tr>\n",
       "      <th>4</th>\n",
       "      <td>2020</td>\n",
       "      <td>pesticides</td>\n",
       "      <td>29949</td>\n",
       "    </tr>\n",
       "    <tr>\n",
       "      <th>...</th>\n",
       "      <td>...</td>\n",
       "      <td>...</td>\n",
       "      <td>...</td>\n",
       "    </tr>\n",
       "    <tr>\n",
       "      <th>81</th>\n",
       "      <td>2023</td>\n",
       "      <td>pesticides</td>\n",
       "      <td>30494</td>\n",
       "    </tr>\n",
       "    <tr>\n",
       "      <th>82</th>\n",
       "      <td>2023</td>\n",
       "      <td>métaux lourds</td>\n",
       "      <td>32655</td>\n",
       "    </tr>\n",
       "    <tr>\n",
       "      <th>83</th>\n",
       "      <td>2024</td>\n",
       "      <td>non classé</td>\n",
       "      <td>32151</td>\n",
       "    </tr>\n",
       "    <tr>\n",
       "      <th>84</th>\n",
       "      <td>2024</td>\n",
       "      <td>phénol</td>\n",
       "      <td>28687</td>\n",
       "    </tr>\n",
       "    <tr>\n",
       "      <th>85</th>\n",
       "      <td>2024</td>\n",
       "      <td>perchlorate</td>\n",
       "      <td>4807</td>\n",
       "    </tr>\n",
       "  </tbody>\n",
       "</table>\n",
       "<p>86 rows × 3 columns</p>\n",
       "</div>"
      ],
      "text/plain": [
       "    annee                  categorie  nb_commune\n",
       "0    2020                       None       34788\n",
       "1    2020                        cvm       32304\n",
       "2    2020              métaux lourds       32617\n",
       "3    2020  sous produit désinfection       31026\n",
       "4    2020                 pesticides       29949\n",
       "..    ...                        ...         ...\n",
       "81   2023                 pesticides       30494\n",
       "82   2023              métaux lourds       32655\n",
       "83   2024                 non classé       32151\n",
       "84   2024                     phénol       28687\n",
       "85   2024                perchlorate        4807\n",
       "\n",
       "[86 rows x 3 columns]"
      ]
     },
     "execution_count": 10,
     "metadata": {},
     "output_type": "execute_result"
    }
   ],
   "source": [
    "query_com_year_stat = \"\"\"\n",
    "WITH\n",
    "\n",
    "UDI_COM AS (\n",
    "    SELECT\n",
    "      edc_communes.cdreseau,\n",
    "      edc_communes.de_partition,\n",
    "      edc_communes.inseecommune,\n",
    "    FROM\n",
    "      edc_communes\n",
    "),\n",
    "    \n",
    "PVL AS (\n",
    "\tSELECT\n",
    "\t  referenceprel,\n",
    "\t  cdreseau,\n",
    "      de_partition\n",
    "\tFROM   \n",
    "      edc_prelevements\n",
    "),\n",
    "\n",
    "CAT AS (\n",
    "    SELECT\n",
    "      *\n",
    "    FROM\n",
    "      mapping_categories\n",
    ")\n",
    "\n",
    "    SELECT\n",
    "      UDI_COM.de_partition AS annee,\n",
    "      CAT.categorie AS categorie,\n",
    "      COUNT(DISTINCT UDI_COM.inseecommune) AS nb_commune,\n",
    "    FROM \n",
    "        UDI_COM\n",
    "    LEFT JOIN\n",
    "    \tPVL \n",
    "    ON\n",
    "    \tUDI_COM.cdreseau = PVL.cdreseau\n",
    "        AND UDI_COM.de_partition = PVL.de_partition\n",
    "    LEFT JOIN \n",
    "        edc_resultats AS RESULTS\n",
    "    ON\n",
    "       RESULTS.referenceprel = PVL.referenceprel\n",
    "       AND RESULTS.de_partition = PVL.de_partition\n",
    "    LEFT JOIN\n",
    "        CAT\n",
    "    ON \n",
    "      RESULTS.cdparametre =   CAT.cdparametre\n",
    "      AND RESULTS.libmajparametre = CAT.libmajparametre\n",
    "      AND  RESULTS.cdparametresiseeaux = CAT.cdparametresiseeaux\n",
    "      AND  RESULTS.casparam = CAT.casparam\n",
    "    GROUP BY \n",
    "      \tUDI_COM.de_partition,\n",
    "        CAT.categorie\n",
    "\"\"\"\n",
    "\n",
    "df_com_year_stat = con.sql(query_com_year_stat).df()\n",
    "df_com_year_stat"
   ]
  },
  {
   "cell_type": "code",
   "execution_count": 12,
   "id": "3dc70ce4-262c-4fb0-8a50-bba30c69076c",
   "metadata": {},
   "outputs": [
    {
     "name": "stderr",
     "output_type": "stream",
     "text": [
      "\u001b[2mUsing Python 3.12.9 environment at: C:\\Users\\Vinca\\Documents\\D4G_2025\\13_pollution_eau\\.venv\u001b[0m\n",
      "\u001b[2mAudited \u001b[1m1 package\u001b[0m \u001b[2min 892ms\u001b[0m\u001b[0m\n"
     ]
    }
   ],
   "source": [
    "# pour pd.to_excel\n",
    "!uv pip install openpyxl "
   ]
  },
  {
   "cell_type": "code",
   "execution_count": 13,
   "id": "ba5db97c-ffaf-412d-b876-544834951c35",
   "metadata": {},
   "outputs": [],
   "source": [
    "# To excel\n",
    "df_com_year_stat.to_excel(\"D4G_stat_com_per_year.xlsx\")"
   ]
  },
  {
   "cell_type": "code",
   "execution_count": null,
   "id": "33cd4ca2-0aec-4824-8f4a-f717f9df512d",
   "metadata": {},
   "outputs": [],
   "source": []
  }
 ],
 "metadata": {
  "kernelspec": {
   "display_name": "Python 3 (ipykernel)",
   "language": "python",
   "name": "python3"
  },
  "language_info": {
   "codemirror_mode": {
    "name": "ipython",
    "version": 3
   },
   "file_extension": ".py",
   "mimetype": "text/x-python",
   "name": "python",
   "nbconvert_exporter": "python",
   "pygments_lexer": "ipython3",
   "version": "3.12.9"
  }
 },
 "nbformat": 4,
 "nbformat_minor": 5
}
