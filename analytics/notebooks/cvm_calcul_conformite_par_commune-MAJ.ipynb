{
 "cells": [
  {
   "cell_type": "markdown",
   "metadata": {},
   "source": [
    "# Calcul du nombre de prélèvements CVM non conforme par commune et par année\n",
    "\n",
    "L'objectif de ce notebook est de partir de la liste de communes cog_communes, et pour chaque commune et chaque année, calculer le nombre de prélèvements non conformes pour le CVM.\n",
    "\n",
    "Il y aura plusieurs aggrégations à faire :\n",
    "\n",
    "- commune (inseecommune) peut avoir plusieurs UDIs (cdreseau) **ET** un UDI peut avoir plusieurs communes (inseecommune) \n",
    "- un prélèvement (referenceprel) peut être rattaché à plusieurs UDIs (cdreseau)\n",
    "- un prélèvement (referenceprel) peut être composé de plusieurs paramètres (cdparametresiseeaux) ; mais dans le cas du CVM, il y a un seul paramètre selon la catégorisation de Pauline, donc c'est plus simple\n",
    "\n",
    "\n"
   ]
  },
  {
   "cell_type": "code",
   "execution_count": null,
   "metadata": {},
   "outputs": [],
   "source": [
    "%load_ext sql\n",
    "%sql duckdb:///../../database/data.duckdb\n",
    "%config SqlMagic.displaylimit = 10"
   ]
  },
  {
   "cell_type": "code",
   "execution_count": null,
   "metadata": {},
   "outputs": [],
   "source": [
    "%%sql\n",
    "SELECT * FROM int__lien_commune_cdreseau\n",
    "LIMIT 5 "
   ]
  },
  {
   "cell_type": "code",
   "execution_count": null,
   "metadata": {},
   "outputs": [],
   "source": [
    "%%sql\n",
    "SELECT * FROM int__lien_cdreseau_refreneceprel\n",
    "LIMIT 5 "
   ]
  },
  {
   "cell_type": "code",
   "execution_count": null,
   "metadata": {},
   "outputs": [],
   "source": [
    "%%sql\n",
    "SELECT * FROM int__resultats_udi_communes\n",
    "LIMIT 5"
   ]
  },
  {
   "cell_type": "markdown",
   "metadata": {},
   "source": [
    "## Faire la liste complètes des communes (pour chaque catégorie et années)"
   ]
  },
  {
   "cell_type": "markdown",
   "metadata": {},
   "source": [
    "%%sql --save list_communes_uid\n",
    "WITH\n",
    "annees AS (\n",
    "    SELECT unnest(generate_series(2020, 2024)) as annee\n",
    "    ),\n",
    "\n",
    "cat AS (\n",
    "    SELECT categorie FROM int__mapping_category_simple GROUP BY 1 \n",
    "    ),\n",
    "\n",
    "year_cat AS (   \n",
    "    SELECT\n",
    "     annee, categorie\n",
    "    FROM \n",
    "    annees\n",
    "    CROSS JOIN\n",
    "    cat \n",
    ")\n",
    "    \n",
    "SELECT DISTINCT\n",
    "    annee, \n",
    "    categorie,\n",
    "    inseecommune ,\n",
    "    cdreseau,\n",
    " FROM\n",
    "      int__resultats_udi_communes\n",
    " FULL OUTER JOIN\n",
    "       year_cat\n",
    " ON\n",
    "    udi.year = year_cat.annee"
   ]
  },
  {
   "cell_type": "code",
   "execution_count": null,
   "metadata": {},
   "outputs": [],
   "source": [
    "%%sql --with list_communes_uid\n",
    "SELECT\n",
    "    *\n",
    "FROM\n",
    "   list_communes_uid\n",
    "WHERE\n",
    "    inseecommune = '07194'\n",
    "    AND categorie = 'cvm'"
   ]
  },
  {
   "cell_type": "markdown",
   "metadata": {},
   "source": [
    "## Test cog pour le final"
   ]
  },
  {
   "cell_type": "code",
   "execution_count": null,
   "metadata": {},
   "outputs": [],
   "source": [
    "%%sql \n",
    "WITH\n",
    "cog AS (\n",
    "    SELECT \n",
    "      DEP AS code_departement,\n",
    "      REG AS code_region,\n",
    "      COM AS inseecommune,\n",
    "    FROM \n",
    "      cog_communes\n",
    "    WHERE\n",
    "        TYPECOM = 'COM'\n",
    ")\n",
    "    \n",
    "SELECT\n",
    "        commune_code_insee,\n",
    "        COUNT(code_departement) AS nb_code_departement,\n",
    "        COUNT(code_region) AS nb_code_region,\n",
    "FROM\n",
    "    cog\n",
    "GROUP BY \n",
    "       commune_code_insee\n",
    "HAVING \n",
    "    nb_code_departement > 1 OR nb_code_region >1"
   ]
  },
  {
   "cell_type": "markdown",
   "metadata": {},
   "source": [
    "## Les résultats par communes - Bilan annuel"
   ]
  },
  {
   "cell_type": "code",
   "execution_count": null,
   "metadata": {},
   "outputs": [],
   "source": [
    "%%sql \n",
    " SELECT \n",
    "   *\n",
    " FROM\n",
    "   int__resultats_udi_communes\n",
    "WHERE\n",
    "    inseecommune = '07194'\n",
    "    AND categorie = 'cvm'"
   ]
  },
  {
   "cell_type": "code",
   "execution_count": null,
   "metadata": {},
   "outputs": [],
   "source": [
    "%%sql --save int__resultats_communes\n",
    "\n",
    "WITH communes_year AS (\n",
    "    SELECT \n",
    "     de_partition as annee,\n",
    "     categorie,\n",
    "     inseecommune,\n",
    "     SUM(1) AS nb_analyses,\n",
    "     SUM(case\n",
    "            when limitequal_float is not NULL and valtraduite >= limitequal_float then 1\n",
    "            else 0\n",
    "        end ) AS nb_analyses_not_ok,\n",
    "     SUM(case\n",
    "            when limitequal_float is not NULL and valtraduite < limitequal_float then 1\n",
    "            else 0\n",
    "        end ) AS nb_analyses_ok,    \n",
    "    FROM\n",
    "      int__resultats_udi_communes\n",
    "    GROUP BY \n",
    "        1,2,3\n",
    ")\n",
    "\n",
    "SELECT\n",
    "    annee,\n",
    "    inseecommune,\n",
    "    coalesce(nb_analyses,0) AS nb_analyses,\n",
    "    coalesce(nb_analyses_not_ok,0) AS nb_analyses_not_ok ,\n",
    "    coalesce(nb_analyses_ok,0) AS nb_analyses_ok,\n",
    "    CASE WHEN categorie=\"cvm\" AND coalesce(nb_analyses,0) = 0 THEN 'Pas recherché'\n",
    "         WHEN categorie=\"cvm\" AND coalesce(nb_analyses,0) > 0  AND coalesce(nb_analyses_ok,0) = 0 THEN 'jamais quantifié'\n",
    "         WHEN categorie=\"cvm\" AND coalesce(nb_analyses,0) > 0  AND coalesce(nb_analyses_not_ok,0) > 1 THEN '> 0,5 µg/L'\n",
    "         WHEN categorie=\"cvm\" AND coalesce(nb_analyses,0) > 0  AND coalesce(nb_analyses_ok,0) > 0 THEN '<= 0,5 µg/L'\n",
    "         ELSE 'Not CVM - other'\n",
    "    END AS resultat\n",
    "FROM  \n",
    "    communes_year\n",
    "ORDER BY \n",
    "    annee"
   ]
  },
  {
   "cell_type": "markdown",
   "metadata": {},
   "source": [
    "###  Join avec list_communes_uid pour avoir la liste complète"
   ]
  },
  {
   "cell_type": "raw",
   "metadata": {},
   "source": [
    "%%sql \n",
    "SELECT\n",
    "    annees.annee,\n",
    "    commune_code_insee,\n",
    "    coalesce(nb_analyses,0) AS nb_analyses,\n",
    "    coalesce(nb_analyses_not_ok,0) AS nb_analyses_not_ok ,\n",
    "    coalesce(nb_analyses_ok,0) AS nb_analyses_ok,\n",
    "    CASE WHEN coalesce(nb_analyses,0) = 0 THEN 'Pas recherché'\n",
    "         WHEN coalesce(nb_analyses,0) > 0  AND coalesce(nb_analyses_ok,0) = 0 THEN 'jamais quantifié'\n",
    "         WHEN coalesce(nb_analyses,0) > 0  AND coalesce(nb_analyses_not_ok,0) > 1 THEN '> 0,5 µg/L'\n",
    "         WHEN coalesce(nb_analyses,0) > 0  AND coalesce(nb_analyses_ok,0) > 0 THEN '<= 0,5 µg/L'\n",
    "         ELSE 'check case when'\n",
    "    END AS resultat\n",
    "FROM  \n",
    " list_communes_uid\n",
    "LEFT JOIN \n",
    " int__resultats_udi_communes\n",
    "ON\n",
    "    list_communes_uid.annee =  int__resultats_udi_communes.annee\n",
    "    AND list_communes_uid.categorie =  int__resultats_udi_communes.categorie\n",
    "    AND  list_communes_uid.inseecommune  =  int__resultats_udi_communes.inseecommune"
   ]
  },
  {
   "cell_type": "code",
   "execution_count": null,
   "metadata": {},
   "outputs": [],
   "source": [
    "### SQL FINAL int__resultats_ALL_communes"
   ]
  },
  {
   "cell_type": "code",
   "execution_count": null,
   "metadata": {},
   "outputs": [],
   "source": [
    "%%sql --save int__resultats_ALL_communes --with  list_communes_uid --with int__resultats_communes\n",
    "SELECT\n",
    "    annees.annee,\n",
    "    commune_code_insee,\n",
    "    coalesce(nb_analyses,0) AS nb_analyses,\n",
    "    coalesce(nb_analyses_not_ok,0) AS nb_analyses_not_ok ,\n",
    "    coalesce(nb_analyses_ok,0) AS nb_analyses_ok,\n",
    "    CASE WHEN coalesce(nb_analyses,0) = 0 THEN 'Pas recherché'\n",
    "         WHEN coalesce(nb_analyses,0) > 0  AND coalesce(nb_analyses_ok,0) = 0 THEN 'jamais quantifié'\n",
    "         WHEN coalesce(nb_analyses,0) > 0  AND coalesce(nb_analyses_not_ok,0) > 1 THEN '> 0,5 µg/L'\n",
    "         WHEN coalesce(nb_analyses,0) > 0  AND coalesce(nb_analyses_ok,0) > 0 THEN '<= 0,5 µg/L'\n",
    "         ELSE 'check case when'\n",
    "    END AS resultat\n",
    "FROM  \n",
    " list_communes_uid\n",
    "LEFT JOIN \n",
    " int__resultats_udi_communes\n",
    "ON\n",
    "    list_communes_uid.annee =  int__resultats_udi_communes.annee\n",
    "    AND list_communes_uid.categorie =  int__resultats_udi_communes.categorie\n",
    "    AND  list_communes_uid.inseecommune  =  int__resultats_udi_communes.inseecommune"
   ]
  },
  {
   "cell_type": "code",
   "execution_count": null,
   "metadata": {},
   "outputs": [],
   "source": [
    "%%sql --save int__resultats_ALL_communes --with int__resultats_communes\n",
    "WITH \n",
    "/* list_communes_uid  */\n",
    "annees AS (\n",
    "    SELECT unnest(generate_series(2020, 2024)) as annee\n",
    "    ),\n",
    "\n",
    "cat AS (\n",
    "    SELECT categorie FROM int__mapping_category_simple GROUP BY 1 \n",
    "    ),\n",
    "\n",
    "year_cat AS (   \n",
    "    SELECT\n",
    "     annee, categorie\n",
    "    FROM \n",
    "    annees\n",
    "    CROSS JOIN\n",
    "    cat \n",
    "),\n",
    "\n",
    "list_communes_uid AS (    \n",
    "SELECT DISTINCT\n",
    "    annee, \n",
    "    categorie,\n",
    "    inseecommune ,\n",
    "    cdreseau,\n",
    " FROM\n",
    "      int__resultats_udi_communes\n",
    " FULL OUTER JOIN\n",
    "       year_cat\n",
    " ON\n",
    "    udi.year = year_cat.annee ),\n",
    "/* END  list_communes_uid  */\n",
    "\n",
    "\n",
    "    \n",
    "SELECT\n",
    "    list_communes_uid.annee,\n",
    "    list_communes_uid.inseecommune,\n",
    "    list_communes_uid.categorie,\n",
    "    coalesce(nb_analyses,0) AS nb_analyses,\n",
    "    coalesce(nb_analyses_not_ok,0) AS nb_analyses_not_ok ,\n",
    "    coalesce(nb_analyses_ok,0) AS nb_analyses_ok,\n",
    "    CASE WHEN coalesce(nb_analyses,0) = 0 THEN 'Pas recherché'\n",
    "         WHEN coalesce(nb_analyses,0) > 0  AND coalesce(nb_analyses_ok,0) = 0 THEN 'jamais quantifié'\n",
    "         WHEN coalesce(nb_analyses,0) > 0  AND coalesce(nb_analyses_not_ok,0) > 1 THEN '> 0,5 µg/L'\n",
    "         WHEN coalesce(nb_analyses,0) > 0  AND coalesce(nb_analyses_ok,0) > 0 THEN '<= 0,5 µg/L'\n",
    "         ELSE 'check case when'\n",
    "    END AS resultat\n",
    "FROM  \n",
    " list_communes_uid\n",
    "LEFT JOIN \n",
    " int__resultats_communes\n",
    "ON\n",
    "    list_communes_uid.annee =  int__resultats_communes.annee\n",
    "    AND list_communes_uid.categorie =  int__resultats_communes.categorie\n",
    "    AND  list_communes_uid.inseecommune  =  int__resultats_communes.inseecommune\n"
   ]
  },
  {
   "cell_type": "code",
   "execution_count": null,
   "metadata": {},
   "outputs": [],
   "source": [
    "%%sql --with int__resultats_ALL_communes\n",
    "SELECT \n",
    "    *\n",
    "FROM\n",
    "    int__resultats_ALL_communes\n",
    "WHERE\n",
    " LIST_REF_UDI_YEAR.categorie = 'cvm'"
   ]
  },
  {
   "cell_type": "markdown",
   "metadata": {},
   "source": [
    "###  Join avec cog pour avoir le nom des communes"
   ]
  },
  {
   "cell_type": "code",
   "execution_count": null,
   "metadata": {},
   "outputs": [],
   "source": [
    "%%sql --save int__resultats_ALL_communes_name --with int__resultats_ALL_communes\n",
    "WITH \n",
    "cog AS (\n",
    "    SELECT\n",
    "      DEP AS code_departement,\n",
    "      REG AS code_region,\n",
    "      COM AS inseecommune,\n",
    "    FROM \n",
    "      cog_communes\n",
    "    WHERE\n",
    "     TYPECOM= 'COM'\n",
    "),\n",
    "\n",
    "    SELECT\n",
    "      udi.*,\n",
    "      cog.code_departement,\n",
    "      cog.code_region\n",
    "    FROM\n",
    "      int__resultats_ALL_communes\n",
    "    LEFT JOIN \n",
    "      cog\n",
    "    ON \n",
    "      int__resultats_ALL_communes.inseecommune = cog.inseecommune"
   ]
  },
  {
   "cell_type": "code",
   "execution_count": null,
   "metadata": {},
   "outputs": [],
   "source": [
    "%%sql --with int__resultats_ALL_communes_name\n",
    "SELECT \n",
    "    *\n",
    "FROM\n",
    "    int__resultats_ALL_communes_name\n",
    "WHERE\n",
    "     categorie = 'cvm'"
   ]
  },
  {
   "cell_type": "markdown",
   "metadata": {},
   "source": [
    "# Check"
   ]
  },
  {
   "cell_type": "code",
   "execution_count": null,
   "metadata": {},
   "outputs": [],
   "source": [
    "%%sql\n",
    "SELECT\n",
    "    de_partition as year,\n",
    "    COUNT(DISTINCT inseecommune) AS nb_inseecommune\n",
    "FROM \n",
    " edc_communes\n",
    "GROUP BY \n",
    "    1 \n",
    "ORDER BY \n",
    "   1"
   ]
  },
  {
   "cell_type": "code",
   "execution_count": null,
   "metadata": {},
   "outputs": [],
   "source": [
    "%%sql --with int__resultats_ALL_communes_name  \n",
    " SELECT \n",
    "    annee,\n",
    "    COUNT(DISTINCT inseecommune) AS nb_inseecommune\n",
    " FROM\n",
    "   int__resultats_ALL_communes_name\n",
    "GROUP BY \n",
    "    1"
   ]
  },
  {
   "cell_type": "code",
   "execution_count": null,
   "metadata": {},
   "outputs": [],
   "source": [
    "#### commune_code_insee = '07194'"
   ]
  },
  {
   "cell_type": "code",
   "execution_count": null,
   "metadata": {},
   "outputs": [],
   "source": [
    "%%sql --with int__resultats_udi_communes \n",
    " SELECT \n",
    "   *\n",
    " FROM\n",
    "   int__resultats_udi_communes\n",
    "WHERE\n",
    "    inseecommune = '07194'\n",
    "    AND categorie = 'cvm'\n",
    "ORDER BY \n",
    "    annee"
   ]
  },
  {
   "cell_type": "code",
   "execution_count": null,
   "metadata": {},
   "outputs": [],
   "source": [
    "%%sql --with int__resultats_communes \n",
    " SELECT \n",
    "   *\n",
    " FROM\n",
    "   int__resultats_communes\n",
    "WHERE\n",
    "    inseecommune = '07194'\n",
    "    AND categorie = 'cvm'\n",
    "ORDER BY \n",
    "    annee"
   ]
  },
  {
   "cell_type": "code",
   "execution_count": null,
   "metadata": {},
   "outputs": [],
   "source": [
    "%%sql --with int__resultats_ALL_communes_name \n",
    " SELECT \n",
    "   *\n",
    " FROM\n",
    "   int__resultats_ALL_communes_name\n",
    "WHERE\n",
    "    inseecommune = '07194'\n",
    "    AND categorie = 'cvm'\n",
    "ORDER BY \n",
    "    annee"
   ]
  },
  {
   "cell_type": "code",
   "execution_count": null,
   "metadata": {},
   "outputs": [],
   "source": [
    "#### commune_code_insee = 'XX'"
   ]
  },
  {
   "cell_type": "code",
   "execution_count": null,
   "metadata": {},
   "outputs": [],
   "source": [
    "%%sql --with int__resultats_udi_communes \n",
    " SELECT \n",
    "   *\n",
    " FROM\n",
    "   int__resultats_udi_communes\n",
    "WHERE\n",
    "    inseecommune = 'X'\n",
    "    AND categorie = 'cvm'\n",
    "ORDER BY \n",
    "    annee"
   ]
  },
  {
   "cell_type": "code",
   "execution_count": null,
   "metadata": {},
   "outputs": [],
   "source": [
    "%%sql --with int__resultats_ALL_communes_name \n",
    " SELECT \n",
    "   *\n",
    " FROM\n",
    "   int__resultats_ALL_communes_name\n",
    "WHERE\n",
    "    inseecommune = 'X'\n",
    "    AND categorie = 'cvm'\n",
    "ORDER BY \n",
    "    annee"
   ]
  }
 ],
 "metadata": {
  "kernelspec": {
   "display_name": "Python 3 (ipykernel)",
   "language": "python",
   "name": "python3"
  },
  "language_info": {
   "codemirror_mode": {
    "name": "ipython",
    "version": 3
   },
   "file_extension": ".py",
   "mimetype": "text/x-python",
   "name": "python",
   "nbconvert_exporter": "python",
   "pygments_lexer": "ipython3",
   "version": "3.12.9"
  }
 },
 "nbformat": 4,
 "nbformat_minor": 4
}
