{
 "cells": [
  {
   "cell_type": "markdown",
   "metadata": {},
   "source": [
    "# Calcul du nombre de prélèvements CVM non conforme par commune et par année\n",
    "\n",
    "L'objectif de ce notebook est de partir de la liste de communes cog_communes, et pour chaque commune et chaque année, calculer le nombre de prélèvements non conformes pour le CVM.\n",
    "\n",
    "Il y aura plusieurs aggrégations à faire :\n",
    "\n",
    "- commune (inseecommune) peut avoir plusieurs UDIs (cdreseau)\n",
    "- un prélèvement (referenceprel) peut être rattaché à plusieurs UDIs (cdreseau)\n",
    "- un prélèvement (referenceprel) peut être composé de plusieurs paramètres (cdparametresiseeaux) ; mais dans le cas du CVM, il y a un seul paramètre selon la catégorisation de Pauline, donc c'est plus simple\n",
    "\n",
    "La résultat final est dans la dernière cellule. Toutes les cellules précédentes sont là pour aider à la compréhension, en présentant des résultats intermédiaires.\n"
   ]
  },
  {
   "cell_type": "code",
   "execution_count": 1,
   "metadata": {},
   "outputs": [
    {
     "data": {
      "text/html": [
       "<span style=\"None\">The &#x27;toml&#x27; package isn&#x27;t installed. To load settings from pyproject.toml or ~/.jupysql/config, install with: pip install toml</span>"
      ],
      "text/plain": [
       "The 'toml' package isn't installed. To load settings from pyproject.toml or ~/.jupysql/config, install with: pip install toml"
      ]
     },
     "metadata": {},
     "output_type": "display_data"
    },
    {
     "name": "stderr",
     "output_type": "stream",
     "text": [
      "RuntimeError: (duckdb.duckdb.IOException) IO Error: Could not set lock on file \"/Users/jgreze/git/13_pollution_eau/analytics/notebooks/../../database/data.duckdb\": Conflicting lock is held in /opt/homebrew/Cellar/python@3.12/3.12.5/Frameworks/Python.framework/Versions/3.12/Resources/Python.app/Contents/MacOS/Python (PID 49878) by user jgreze. See also https://duckdb.org/docs/connect/concurrency\n",
      "(Background on this error at: https://sqlalche.me/e/20/e3q8)\n",
      "If you need help solving this issue, send us a message: https://ploomber.io/community\n"
     ]
    }
   ],
   "source": [
    "%load_ext sql\n",
    "%sql duckdb:///../../database/data.duckdb\n",
    "%config SqlMagic.displaylimit = 10"
   ]
  },
  {
   "cell_type": "code",
   "execution_count": null,
   "metadata": {},
   "outputs": [],
   "source": [
    "%sqlcmd tables"
   ]
  },
  {
   "cell_type": "code",
   "execution_count": null,
   "metadata": {},
   "outputs": [],
   "source": [
    "%sql select * from cog_communes"
   ]
  },
  {
   "cell_type": "code",
   "execution_count": null,
   "metadata": {},
   "outputs": [],
   "source": [
    "%sql select *  from edc_communes"
   ]
  },
  {
   "cell_type": "code",
   "execution_count": null,
   "metadata": {},
   "outputs": [],
   "source": [
    "%sql select *  from edc_prelevements"
   ]
  },
  {
   "cell_type": "code",
   "execution_count": null,
   "metadata": {},
   "outputs": [],
   "source": [
    "%%sql\n",
    "    select *\n",
    "    from \"edc_resultats\"\n",
    "    where cdparametresiseeaux = 'CLVYL' and valtraduite > 0.5\n",
    "\n",
    "# on liste l'ensemble des analyses non conformes pour le paramètre CVM"
   ]
  },
  {
   "cell_type": "code",
   "execution_count": null,
   "metadata": {},
   "outputs": [],
   "source": [
    "%%sql\n",
    "\n",
    "with \"resultats_cvm\" as (\n",
    "    select\n",
    "      *,\n",
    "      (CASE WHEN valtraduite > 0.5 THEN 1 ELSE 0 END) AS is_non_conforme\n",
    "    from \"edc_resultats\"\n",
    "    where cdparametresiseeaux = 'CLVYL'\n",
    "),\n",
    "\"prelevements_cvm\" as (\n",
    "    select\n",
    "        \"cdreseau\",\n",
    "        \"resultats_cvm\".\"de_partition\",\n",
    "        SUM(is_non_conforme) as \"nbr_resultats_non_conformes\",\n",
    "        count(*) as \"nbr_resultats_total\",\n",
    "        string_agg(CASE WHEN is_non_conforme = 1 THEN \"resultats_cvm\".\"referenceprel\" ELSE null END) as \"list_referenceprels_non_conformes\",\n",
    "        string_agg(CASE WHEN is_non_conforme = 1 THEN \"valtraduite\" ELSE null END) as \"list_valtraduite_non_conformes\"\n",
    "    from \"resultats_cvm\"\n",
    "    left join \"edc_prelevements\" on\n",
    "        \"edc_prelevements\".\"referenceprel\" = \"resultats_cvm\".\"referenceprel\"\n",
    "        and\n",
    "        \"edc_prelevements\".\"de_partition\" = \"resultats_cvm\".\"de_partition\"\n",
    "    group by \"cdreseau\", \"resultats_cvm\".\"de_partition\"\n",
    ")\n",
    "select * from \"prelevements_cvm\" where \"nbr_resultats_non_conformes\" > 0"
   ]
  },
  {
   "cell_type": "code",
   "execution_count": null,
   "metadata": {},
   "outputs": [],
   "source": [
    "%%sql\n",
    "\n",
    "with \"resultats_cvm\" as (\n",
    "    select\n",
    "      *,\n",
    "      (CASE WHEN valtraduite > 0.5 THEN 1 ELSE 0 END) AS is_non_conforme\n",
    "    from \"edc_resultats\"\n",
    "    where cdparametresiseeaux = 'CLVYL'\n",
    "),\n",
    "\"prelevements_cvm\" as (\n",
    "    select\n",
    "        \"cdreseau\",\n",
    "        \"resultats_cvm\".\"de_partition\",\n",
    "        SUM(is_non_conforme) as \"nbr_resultats_non_conformes\",\n",
    "        count(*) as \"nbr_resultats_total\"\n",
    "    from \"resultats_cvm\"\n",
    "    left join \"edc_prelevements\" on\n",
    "        \"edc_prelevements\".\"referenceprel\" = \"resultats_cvm\".\"referenceprel\"\n",
    "        and\n",
    "        \"edc_prelevements\".\"de_partition\" = \"resultats_cvm\".\"de_partition\"\n",
    "    group by \"cdreseau\", \"resultats_cvm\".\"de_partition\"\n",
    "),\n",
    "\"communes_cvm\" as (\n",
    "    select\n",
    "        \"inseecommune\",\n",
    "        \"edc_communes\".\"de_partition\",\n",
    "        coalesce(sum(\"nbr_resultats_non_conformes\"), 0) as \"nbr_resultats_non_conformes\",\n",
    "        coalesce(sum(\"nbr_resultats_total\"), 0) as \"nbr_resultats_total\",\n",
    "        case\n",
    "            when sum(\"nbr_resultats_non_conformes\") > 0 then 'non conforme'\n",
    "            when sum(\"nbr_resultats_total\") > 0 then 'conforme'\n",
    "            else 'non analysé'\n",
    "        end as \"resultat\"\n",
    "    from \"edc_communes\"\n",
    "    left join \"prelevements_cvm\" on\n",
    "        \"prelevements_cvm\".\"cdreseau\" = \"edc_communes\".\"cdreseau\"\n",
    "        and\n",
    "        \"prelevements_cvm\".\"de_partition\" = \"edc_communes\".\"de_partition\"\n",
    "    group by \"inseecommune\", \"edc_communes\".\"de_partition\"\n",
    ")\n",
    "select * from communes_cvm where \"nbr_resultats_non_conformes\" > 0\n"
   ]
  },
  {
   "cell_type": "code",
   "execution_count": null,
   "metadata": {},
   "outputs": [],
   "source": [
    "%%sql\n",
    "\n",
    "with \"resultats_cvm\" as (\n",
    "    select\n",
    "      *,\n",
    "      (CASE WHEN valtraduite > 0.5 THEN 1 ELSE 0 END) AS is_non_conforme\n",
    "    from \"edc_resultats\"\n",
    "    where cdparametresiseeaux = 'CLVYL'\n",
    "),\n",
    "\"prelevements_cvm\" as (\n",
    "    select\n",
    "        \"cdreseau\",\n",
    "        \"resultats_cvm\".\"de_partition\",\n",
    "        SUM(is_non_conforme) as \"nbr_resultats_non_conformes\",\n",
    "        count(*) as \"nbr_resultats_total\"\n",
    "    from \"resultats_cvm\"\n",
    "    left join \"edc_prelevements\" on\n",
    "        \"edc_prelevements\".\"referenceprel\" = \"resultats_cvm\".\"referenceprel\"\n",
    "        and\n",
    "        \"edc_prelevements\".\"de_partition\" = \"resultats_cvm\".\"de_partition\"\n",
    "    group by \"cdreseau\", \"resultats_cvm\".\"de_partition\"\n",
    "),\n",
    "\"communes_cvm\" as (\n",
    "    select\n",
    "        \"inseecommune\",\n",
    "        \"edc_communes\".\"de_partition\",\n",
    "        coalesce(sum(\"nbr_resultats_non_conformes\"), 0) as \"nbr_resultats_non_conformes\",\n",
    "        coalesce(sum(\"nbr_resultats_total\"), 0) as \"nbr_resultats_total\",\n",
    "        case\n",
    "            when sum(\"nbr_resultats_non_conformes\") > 0 then 'non conforme'\n",
    "            when sum(\"nbr_resultats_total\") > 0 then 'conforme'\n",
    "            else 'non analysé'\n",
    "        end as \"resultat\"\n",
    "    from \"edc_communes\"\n",
    "    left join \"prelevements_cvm\" on\n",
    "        \"prelevements_cvm\".\"cdreseau\" = \"edc_communes\".\"cdreseau\"\n",
    "        and\n",
    "        \"prelevements_cvm\".\"de_partition\" = \"edc_communes\".\"de_partition\"\n",
    "    group by \"inseecommune\", \"edc_communes\".\"de_partition\"\n",
    "),\n",
    "\"annees\" as (SELECT unnest(generate_series(2020, 2024)) as \"annee\")\n",
    "select\n",
    "    \"cog\".\"COM\" as \"commune_code_insee\",\n",
    "    \"cog\".\"LIBELLE\" as \"commune_nom\",\n",
    "    a.\"annee\",\n",
    "    coalesce(\"resultat\", 'non analysé') as \"resultat_cvm\"\n",
    "from \"cog_communes\" as \"cog\"\n",
    "cross join \n",
    "    \"annees\" a\n",
    "left join \"communes_cvm\" on\n",
    "   \"cog\".\"COM\" = \"communes_cvm\".\"inseecommune\"\n",
    "   and\n",
    "   a.\"annee\"::string =  \"communes_cvm\".\"de_partition\"\n",
    "\n",
    "# pour tester une commune avec un prélèvement non conforme, ajouter :\n",
    "# where \"commune_code_insee\" = '07194'"
   ]
  }
 ],
 "metadata": {
  "kernelspec": {
   "display_name": ".venv",
   "language": "python",
   "name": "python3"
  },
  "language_info": {
   "codemirror_mode": {
    "name": "ipython",
    "version": 3
   },
   "file_extension": ".py",
   "mimetype": "text/x-python",
   "name": "python",
   "nbconvert_exporter": "python",
   "pygments_lexer": "ipython3",
   "version": "3.12.5"
  }
 },
 "nbformat": 4,
 "nbformat_minor": 4
}
