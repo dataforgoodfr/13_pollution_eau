{
 "cells": [
  {
   "cell_type": "markdown",
   "metadata": {},
   "source": [
    "# Calcul du nombre de prélèvements CVM non conforme par commune et par année\n",
    "\n",
    "L'objectif de ce notebook est de partir de la liste de communes cog_communes, et pour chaque commune et chaque année, calculer le nombre de prélèvements non conformes pour le CVM.\n",
    "\n",
    "Il y aura plusieurs aggrégations à faire :\n",
    "\n",
    "- commune (inseecommune) peut avoir plusieurs UDIs (cdreseau) **ET** un UDI peut avoir plusieurs communes (inseecommune) \n",
    "- un prélèvement (referenceprel) peut être rattaché à plusieurs UDIs (cdreseau)\n",
    "- un prélèvement (referenceprel) peut être composé de plusieurs paramètres (cdparametresiseeaux) ; mais dans le cas du CVM, il y a un seul paramètre selon la catégorisation de Pauline, donc c'est plus simple\n",
    "\n",
    "\n"
   ]
  },
  {
   "cell_type": "code",
   "execution_count": 1,
   "metadata": {},
   "outputs": [
    {
     "data": {
      "text/html": [
       "<span style=\"None\">The &#x27;toml&#x27; package isn&#x27;t installed. To load settings from pyproject.toml or ~/.jupysql/config, install with: pip install toml</span>"
      ],
      "text/plain": [
       "The 'toml' package isn't installed. To load settings from pyproject.toml or ~/.jupysql/config, install with: pip install toml"
      ]
     },
     "metadata": {},
     "output_type": "display_data"
    },
    {
     "data": {
      "text/html": [
       "<span style=\"None\">Connecting to &#x27;duckdb:///../../database/data.duckdb&#x27;</span>"
      ],
      "text/plain": [
       "Connecting to 'duckdb:///../../database/data.duckdb'"
      ]
     },
     "metadata": {},
     "output_type": "display_data"
    }
   ],
   "source": [
    "%load_ext sql\n",
    "%sql duckdb:///../../database/data.duckdb\n",
    "%config SqlMagic.displaylimit = 10"
   ]
  },
  {
   "cell_type": "code",
   "execution_count": null,
   "metadata": {},
   "outputs": [],
   "source": [
    "%%sql\n",
    "SELECT * FROM int__resultats_udi_communes\n",
    "LIMIT 5"
   ]
  },
  {
   "cell_type": "markdown",
   "metadata": {},
   "source": [
    "## Faire la liste complètes des communes "
   ]
  },
  {
   "cell_type": "code",
   "execution_count": null,
   "metadata": {},
   "outputs": [],
   "source": [
    "%%sql --save list_communes\n",
    " \n",
    "SELECT DISTINCT\n",
    "    inseecommune \n",
    " FROM\n",
    "      int__lien_commune_cdreseau"
   ]
  },
  {
   "cell_type": "markdown",
   "metadata": {},
   "source": [
    "## Test cog pour le final"
   ]
  },
  {
   "cell_type": "code",
   "execution_count": null,
   "metadata": {},
   "outputs": [],
   "source": [
    "%%sql \n",
    "SELECT \n",
    "    *\n",
    "FROM \n",
    "  cog_communes\n",
    "WHERE\n",
    "    TYPECOM = 'COM'"
   ]
  },
  {
   "cell_type": "markdown",
   "metadata": {},
   "source": [
    "## Les résultats par communes - Last prelevement "
   ]
  },
  {
   "cell_type": "raw",
   "metadata": {},
   "source": [
    "%%sql --save communes_LAST_PVL\n",
    "WITH \n",
    " LAST_PVL AS (\n",
    "    SELECT \n",
    "     *,\n",
    "     ROW_NUMBER() OVER (PARTITION BY inseecommune, cdparametresiseeaux ORDER BY datetimeprel DESC ) As row_number\n",
    "    FROM\n",
    "      int__resultats_udi_communes\n",
    "    )\n",
    "     \n",
    "    SELECT \n",
    "     LAST_PVL.*  EXCLUDE (row_number)\n",
    "    FROM\n",
    "      LAST_PVL \n",
    "    WHERE\n",
    "      row_number = 1"
   ]
  },
  {
   "cell_type": "markdown",
   "metadata": {},
   "source": [
    "###  SQL resultats_ALL_communes : Join avec list_communes_uid pour avoir la liste complète"
   ]
  },
  {
   "cell_type": "raw",
   "metadata": {},
   "source": [
    "%%sql --save resultats_ALL_communes\n",
    "SELECT\n",
    "    *\n",
    "FROM  \n",
    " list_communes_uid\n",
    "LEFT JOIN \n",
    " communes_LAST_PVL\n",
    "ON\n",
    "    list_communes_uid.inseecommune  =  resultats_udi_communes.inseecommune"
   ]
  },
  {
   "cell_type": "markdown",
   "metadata": {},
   "source": [
    "###  Join avec cog pour avoir le nom des communes"
   ]
  },
  {
   "cell_type": "raw",
   "metadata": {},
   "source": [
    "%%sql\n",
    "WITH \n",
    "cog AS (\n",
    "    SELECT \n",
    "      DEP AS code_departement,\n",
    "      REG AS code_region,\n",
    "      COM AS inseecommune,\n",
    "      LIBELLE AS name_commune,\n",
    "    FROM \n",
    "      cog_communes\n",
    "    WHERE\n",
    "        TYPECOM = 'COM'\n",
    ")\n",
    "    \n",
    "SELECT\n",
    "  resultats_ALL_communes.*,\n",
    "  cog.DEP AS  code_departement,\n",
    "  cog.REG AS  code_region,\n",
    "  cog.LIBELLE AS name_commune,\n",
    "FROM\n",
    "  resultats_ALL_communes\n",
    "LEFT JOIN  \n",
    "  cog\n",
    "ON \n",
    "  resultats_ALL_communes.inseecommune = cog.inseecommune"
   ]
  },
  {
   "cell_type": "markdown",
   "metadata": {},
   "source": [
    "# Final : ana__resultats_communes_last"
   ]
  },
  {
   "cell_type": "raw",
   "metadata": {},
   "source": [
    "%%sql --save resultats_ALL_communes_name\n",
    "WITH \n",
    "/* list_communes_uid  */\n",
    "list_communes_uid AS (    \n",
    "SELECT DISTINCT\n",
    "    inseecommune \n",
    " FROM\n",
    "      int__lien_commune_cdreseau\n",
    "),\n",
    "/* END  list_communes_uid  */\n",
    "\n",
    "\n",
    "/* communes_LAST_PVL */\n",
    " LAST_PVL AS (\n",
    "    SELECT \n",
    "     *,\n",
    "     ROW_NUMBER() OVER (PARTITION BY inseecommune, cdparametresiseeaux ORDER BY datetimeprel DESC ) As row_number\n",
    "    FROM\n",
    "      int__resultats_udi_communes\n",
    "    ),\n",
    "\n",
    "communes_LAST_PVL AS (     \n",
    "     \n",
    "    SELECT \n",
    "     LAST_PVL.*  EXCLUDE (row_number)\n",
    "    FROM\n",
    "      LAST_PVL \n",
    "    WHERE\n",
    "      row_number = 1\n",
    "    ),\n",
    "/* communes_LAST_PVL END */\n",
    "\n",
    "    \n",
    "resultats_ALL_communes AS ( \n",
    "    SELECT\n",
    "        *\n",
    "    FROM  \n",
    "     list_communes_uid\n",
    "    LEFT JOIN \n",
    "     communes_LAST_PVL\n",
    "    ON\n",
    "        list_communes_uid.inseecommune  =  resultats_udi_communes.inseecommune\n",
    "),\n",
    "\n",
    "cog AS (\n",
    "    SELECT \n",
    "      DEP AS code_departement,\n",
    "      REG AS code_region,\n",
    "      COM AS inseecommune,\n",
    "      LIBELLE AS name_commune,\n",
    "    FROM \n",
    "      cog_communes\n",
    "    WHERE\n",
    "        TYPECOM = 'COM'\n",
    "),\n",
    "\n",
    "resultats_all_communes_last AS (    \n",
    "SELECT\n",
    "  resultats_ALL_communes.*,\n",
    "  code_departement,\n",
    "  code_region,\n",
    "  name_commune,\n",
    "FROM\n",
    "  resultats_ALL_communes\n",
    "LEFT JOIN  \n",
    "  cog\n",
    "ON \n",
    "  resultats_ALL_communes.inseecommune = cog.inseecommune\n",
    "),\n",
    "    \n",
    "\n",
    "cog AS (\n",
    "    SELECT\n",
    "        dep AS code_departement,\n",
    "        reg AS code_region,\n",
    "        com AS inseecommune,\n",
    "        libelle AS commune_nom\n",
    "    FROM\n",
    "        communes__cog\n",
    "    WHERE\n",
    "        typecom = 'COM'\n",
    ")\n",
    "\n",
    "SELECT\n",
    "    'dernier prelevement' AS periode,\n",
    "    cog.commune_nom,\n",
    "    resultats_all_communes_last.*,\n",
    "FROM\n",
    "    resultats_all_communes_last\n",
    "LEFT JOIN\n",
    "    cog\n",
    "    ON\n",
    "        resultats_all_communes_last.inseecommune = cog.inseecommune\n"
   ]
  },
  {
   "cell_type": "code",
   "execution_count": null,
   "metadata": {},
   "outputs": [],
   "source": []
  },
  {
   "cell_type": "code",
   "execution_count": null,
   "metadata": {},
   "outputs": [],
   "source": []
  }
 ],
 "metadata": {
  "kernelspec": {
   "display_name": "Python 3 (ipykernel)",
   "language": "python",
   "name": "python3"
  },
  "language_info": {
   "codemirror_mode": {
    "name": "ipython",
    "version": 3
   },
   "file_extension": ".py",
   "mimetype": "text/x-python",
   "name": "python",
   "nbconvert_exporter": "python",
   "pygments_lexer": "ipython3",
   "version": "3.12.9"
  }
 },
 "nbformat": 4,
 "nbformat_minor": 4
}
