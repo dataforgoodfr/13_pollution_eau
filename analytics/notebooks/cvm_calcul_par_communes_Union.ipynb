{
 "cells": [
  {
   "cell_type": "code",
   "execution_count": 1,
   "metadata": {},
   "outputs": [
    {
     "data": {
      "text/html": [
       "<span style=\"None\">The &#x27;toml&#x27; package isn&#x27;t installed. To load settings from pyproject.toml or ~/.jupysql/config, install with: pip install toml</span>"
      ],
      "text/plain": [
       "The 'toml' package isn't installed. To load settings from pyproject.toml or ~/.jupysql/config, install with: pip install toml"
      ]
     },
     "metadata": {},
     "output_type": "display_data"
    },
    {
     "data": {
      "text/html": [
       "<span style=\"None\">Connecting to &#x27;duckdb:///../../database/data.duckdb&#x27;</span>"
      ],
      "text/plain": [
       "Connecting to 'duckdb:///../../database/data.duckdb'"
      ]
     },
     "metadata": {},
     "output_type": "display_data"
    }
   ],
   "source": [
    "%load_ext sql\n",
    "%sql duckdb:///../../database/data.duckdb\n",
    "%config SqlMagic.displaylimit = 10"
   ]
  },
  {
   "cell_type": "markdown",
   "metadata": {},
   "source": [
    "# communes"
   ]
  },
  {
   "cell_type": "code",
   "execution_count": 6,
   "metadata": {},
   "outputs": [
    {
     "data": {
      "text/html": [
       "<span style=\"None\">Running query in &#x27;duckdb:///../../database/data.duckdb&#x27;</span>"
      ],
      "text/plain": [
       "Running query in 'duckdb:///../../database/data.duckdb'"
      ]
     },
     "metadata": {},
     "output_type": "display_data"
    },
    {
     "data": {
      "application/vnd.jupyter.widget-view+json": {
       "model_id": "13c2c2244e4c4275b6fcb896c0a66713",
       "version_major": 2,
       "version_minor": 0
      },
      "text/plain": [
       "FloatProgress(value=0.0, layout=Layout(width='auto'), style=ProgressStyle(bar_color='black'))"
      ]
     },
     "metadata": {},
     "output_type": "display_data"
    },
    {
     "data": {
      "text/html": [
       "<table>\n",
       "    <thead>\n",
       "        <tr>\n",
       "            <th>periode</th>\n",
       "            <th>commune_code_insee</th>\n",
       "            <th>categorie</th>\n",
       "            <th>last_datetimeprel</th>\n",
       "            <th>resultat</th>\n",
       "        </tr>\n",
       "    </thead>\n",
       "    <tbody>\n",
       "        <tr>\n",
       "            <td>dernier prélévement</td>\n",
       "            <td>82185</td>\n",
       "            <td>cvm</td>\n",
       "            <td>2024-06-20 13:47:00</td>\n",
       "            <td>non quantifié</td>\n",
       "        </tr>\n",
       "        <tr>\n",
       "            <td>dernier prélévement</td>\n",
       "            <td>83125</td>\n",
       "            <td>cvm</td>\n",
       "            <td>2024-06-10 08:40:00</td>\n",
       "            <td>non quantifié</td>\n",
       "        </tr>\n",
       "        <tr>\n",
       "            <td>dernier prélévement</td>\n",
       "            <td>83065</td>\n",
       "            <td>cvm</td>\n",
       "            <td>2024-12-31 10:53:00</td>\n",
       "            <td>non quantifié</td>\n",
       "        </tr>\n",
       "        <tr>\n",
       "            <td>dernier prélévement</td>\n",
       "            <td>83069</td>\n",
       "            <td>cvm</td>\n",
       "            <td>2023-08-31 09:14:00</td>\n",
       "            <td><= 0,5 µg/L</td>\n",
       "        </tr>\n",
       "        <tr>\n",
       "            <td>dernier prélévement</td>\n",
       "            <td>83142</td>\n",
       "            <td>cvm</td>\n",
       "            <td>2024-08-12 12:04:00</td>\n",
       "            <td><= 0,5 µg/L</td>\n",
       "        </tr>\n",
       "        <tr>\n",
       "            <td>dernier prélévement</td>\n",
       "            <td>83142</td>\n",
       "            <td>cvm</td>\n",
       "            <td>2024-03-11 11:56:00</td>\n",
       "            <td>non quantifié</td>\n",
       "        </tr>\n",
       "        <tr>\n",
       "            <td>dernier prélévement</td>\n",
       "            <td>83081</td>\n",
       "            <td>cvm</td>\n",
       "            <td>2024-12-19 09:05:00</td>\n",
       "            <td>non quantifié</td>\n",
       "        </tr>\n",
       "        <tr>\n",
       "            <td>dernier prélévement</td>\n",
       "            <td>83081</td>\n",
       "            <td>cvm</td>\n",
       "            <td>2024-09-24 09:01:00</td>\n",
       "            <td>non quantifié</td>\n",
       "        </tr>\n",
       "        <tr>\n",
       "            <td>dernier prélévement</td>\n",
       "            <td>83027</td>\n",
       "            <td>cvm</td>\n",
       "            <td>2024-09-03 10:18:00</td>\n",
       "            <td><= 0,5 µg/L</td>\n",
       "        </tr>\n",
       "        <tr>\n",
       "            <td>dernier prélévement</td>\n",
       "            <td>83012</td>\n",
       "            <td>cvm</td>\n",
       "            <td>2024-09-03 09:08:00</td>\n",
       "            <td>non quantifié</td>\n",
       "        </tr>\n",
       "    </tbody>\n",
       "</table>\n",
       "<span style=\"font-style:italic;text-align:center;\">Truncated to <a href=\"https://jupysql.ploomber.io/en/latest/api/configuration.html#displaylimit\">displaylimit</a> of 10.</span>"
      ],
      "text/plain": [
       "+---------------------+--------------------+-----------+---------------------+---------------+\n",
       "|       periode       | commune_code_insee | categorie |  last_datetimeprel  |    resultat   |\n",
       "+---------------------+--------------------+-----------+---------------------+---------------+\n",
       "| dernier prélévement |       82185        |    cvm    | 2024-06-20 13:47:00 | non quantifié |\n",
       "| dernier prélévement |       83125        |    cvm    | 2024-06-10 08:40:00 | non quantifié |\n",
       "| dernier prélévement |       83065        |    cvm    | 2024-12-31 10:53:00 | non quantifié |\n",
       "| dernier prélévement |       83069        |    cvm    | 2023-08-31 09:14:00 |  <= 0,5 µg/L  |\n",
       "| dernier prélévement |       83142        |    cvm    | 2024-08-12 12:04:00 |  <= 0,5 µg/L  |\n",
       "| dernier prélévement |       83142        |    cvm    | 2024-03-11 11:56:00 | non quantifié |\n",
       "| dernier prélévement |       83081        |    cvm    | 2024-12-19 09:05:00 | non quantifié |\n",
       "| dernier prélévement |       83081        |    cvm    | 2024-09-24 09:01:00 | non quantifié |\n",
       "| dernier prélévement |       83027        |    cvm    | 2024-09-03 10:18:00 |  <= 0,5 µg/L  |\n",
       "| dernier prélévement |       83012        |    cvm    | 2024-09-03 09:08:00 | non quantifié |\n",
       "+---------------------+--------------------+-----------+---------------------+---------------+\n",
       "Truncated to displaylimit of 10."
      ]
     },
     "execution_count": 6,
     "metadata": {},
     "output_type": "execute_result"
    }
   ],
   "source": [
    "%%sql --save communes\n",
    "WITH\n",
    "communes_year AS (\n",
    "    SELECT\n",
    "        de_partition AS annee,\n",
    "        categorie,\n",
    "        cdparametresiseeaux,\n",
    "        inseecommune,\n",
    "        sum(1) AS nb_analyses,\n",
    "        sum(CASE\n",
    "            WHEN valtraduite = 0 OR valtraduite = 1 OR valtraduite IS NULL\n",
    "                THEN 1\n",
    "            ELSE 0\n",
    "        END) AS nb_analyses_not_quantify,\n",
    "        sum(CASE\n",
    "            WHEN\n",
    "                limitequal_float IS NOT NULL AND valtraduite > limitequal_float\n",
    "                THEN 1\n",
    "            ELSE 0\n",
    "        END) AS nb_analyses_not_ok,\n",
    "        sum(CASE\n",
    "            WHEN\n",
    "                limitequal_float IS NOT NULL AND valtraduite <= limitequal_float\n",
    "                THEN 1\n",
    "            ELSE 0\n",
    "        END) AS nb_analyses_ok\n",
    "    FROM\n",
    "        int__resultats_udi_communes\n",
    "    WHERE\n",
    "        categorie = 'cvm'\n",
    "    GROUP BY\n",
    "        annee,\n",
    "        categorie,\n",
    "        cdparametresiseeaux,\n",
    "        inseecommune\n",
    "),\n",
    "\n",
    "    communes_annee AS (\n",
    "SELECT\n",
    "    communes_year.annee,\n",
    "    communes_year.inseecommune,\n",
    "    communes_year.categorie,\n",
    "    communes_year.cdparametresiseeaux,\n",
    "    'bilan annuel' AS periode,\n",
    "    nb_analyses,\n",
    "    nb_analyses_not_quantify,\n",
    "   nb_analyses_not_ok,\n",
    "   nb_analyses_ok,\n",
    "    CASE\n",
    "        WHEN communes_year.nb_analyses = 0\n",
    "            THEN 'Pas recherché'\n",
    "        WHEN\n",
    "            communes_year.nb_analyses_not_quantify > 0\n",
    "            AND communes_year.nb_analyses_ok = 0\n",
    "            THEN 'non quantifié'\n",
    "        WHEN\n",
    "            communes_year.nb_analyses > 0\n",
    "            AND communes_year.nb_analyses_not_ok >= 1\n",
    "            THEN '> 0,5 µg/L'\n",
    "        WHEN communes_year.nb_analyses > 0 AND communes_year.nb_analyses_ok >= 1\n",
    "            THEN '<= 0,5 µg/L'\n",
    "        ELSE 'Check SQL'\n",
    "    END AS resultat\n",
    "FROM\n",
    "    communes_year),\n",
    "\n",
    "last_pvl AS (\n",
    "    SELECT\n",
    "        inseecommune,\n",
    "        categorie,\n",
    "        cdparametresiseeaux,\n",
    "        datetimeprel,\n",
    "        valtraduite,\n",
    "        limitequal_float,\n",
    "        ROW_NUMBER()\n",
    "            OVER (\n",
    "                PARTITION BY cdreseau, cdparametresiseeaux\n",
    "                ORDER BY datetimeprel DESC\n",
    "            )\n",
    "            AS row_number\n",
    "    FROM\n",
    "        int__resultats_udi_communes\n",
    "    WHERE\n",
    "        categorie = 'cvm' -- à supprimer pour avoir pour tout\n",
    "),\n",
    "\n",
    "communes_last AS (\n",
    "SELECT\n",
    "    last_pvl.inseecommune,\n",
    "    last_pvl.categorie,\n",
    "    last_pvl.cdparametresiseeaux,\n",
    "    last_pvl.datetimeprel AS last_datetimeprel,\n",
    "    'dernier prélévement' AS periode,\n",
    "    CASE\n",
    "        WHEN\n",
    "            last_pvl.valtraduite = 0\n",
    "            OR last_pvl.valtraduite = 1\n",
    "            OR last_pvl.valtraduite IS NULL\n",
    "            OR last_pvl.limitequal_float IS NULL\n",
    "            THEN 'non quantifié'\n",
    "        WHEN\n",
    "            last_pvl.limitequal_float IS NOT NULL\n",
    "            AND last_pvl.valtraduite > last_pvl.limitequal_float\n",
    "            THEN '> 0,5 µg/L'\n",
    "        WHEN\n",
    "            last_pvl.limitequal_float IS NOT NULL\n",
    "            AND last_pvl.valtraduite <= last_pvl.limitequal_float\n",
    "            THEN '<= 0,5 µg/L'\n",
    "        ELSE 'Check SQL'\n",
    "    END AS resultat\n",
    "FROM\n",
    "    last_pvl\n",
    "WHERE\n",
    "    last_pvl.row_number = 1\n",
    "),\n",
    "\n",
    "last AS (\n",
    "    SELECT\n",
    "        inseecommune AS commune_code_insee,\n",
    "        categorie,\n",
    "        last_datetimeprel,\n",
    "        resultat,\n",
    "        periode\n",
    "    FROM\n",
    "        communes_last\n",
    "),\n",
    "\n",
    "yearly AS (\n",
    "    SELECT\n",
    "        inseecommune AS commune_code_insee,\n",
    "        categorie,\n",
    "        NULL AS last_datetimeprel,\n",
    "        resultat,\n",
    "        CONCAT(periode, ' - ', annee) AS periode\n",
    "    FROM\n",
    "        communes_annee\n",
    ")\n",
    "\n",
    "\n",
    "SELECT\n",
    "    periode,\n",
    "    commune_code_insee,\n",
    "    categorie,\n",
    "    last_datetimeprel,\n",
    "    resultat\n",
    "FROM\n",
    "    last\n",
    "UNION ALL\n",
    "SELECT\n",
    "    periode,\n",
    "    commune_code_insee,\n",
    "    categorie,\n",
    "    last_datetimeprel,\n",
    "    resultat\n",
    "FROM\n",
    "    yearly\n",
    "\n"
   ]
  },
  {
   "cell_type": "code",
   "execution_count": 7,
   "metadata": {},
   "outputs": [
    {
     "data": {
      "text/html": [
       "<span style=\"None\">Running query in &#x27;duckdb:///../../database/data.duckdb&#x27;</span>"
      ],
      "text/plain": [
       "Running query in 'duckdb:///../../database/data.duckdb'"
      ]
     },
     "metadata": {},
     "output_type": "display_data"
    },
    {
     "data": {
      "application/vnd.jupyter.widget-view+json": {
       "model_id": "68cb71f17ac341039d128f9381e1d63e",
       "version_major": 2,
       "version_minor": 0
      },
      "text/plain": [
       "FloatProgress(value=0.0, layout=Layout(width='auto'), style=ProgressStyle(bar_color='black'))"
      ]
     },
     "metadata": {},
     "output_type": "display_data"
    },
    {
     "data": {
      "text/html": [
       "<table>\n",
       "    <thead>\n",
       "        <tr>\n",
       "            <th>resultat</th>\n",
       "        </tr>\n",
       "    </thead>\n",
       "    <tbody>\n",
       "        <tr>\n",
       "            <td>> 0,5 µg/L</td>\n",
       "        </tr>\n",
       "        <tr>\n",
       "            <td>non quantifié</td>\n",
       "        </tr>\n",
       "        <tr>\n",
       "            <td><= 0,5 µg/L</td>\n",
       "        </tr>\n",
       "    </tbody>\n",
       "</table>"
      ],
      "text/plain": [
       "+---------------+\n",
       "|    resultat   |\n",
       "+---------------+\n",
       "|   > 0,5 µg/L  |\n",
       "| non quantifié |\n",
       "|  <= 0,5 µg/L  |\n",
       "+---------------+"
      ]
     },
     "execution_count": 7,
     "metadata": {},
     "output_type": "execute_result"
    }
   ],
   "source": [
    "%%sql --with communes\n",
    "SELECT DISTINCT\n",
    "    resultat\n",
    "FROM\n",
    "    communes"
   ]
  },
  {
   "cell_type": "code",
   "execution_count": null,
   "metadata": {},
   "outputs": [],
   "source": []
  },
  {
   "cell_type": "code",
   "execution_count": null,
   "metadata": {},
   "outputs": [],
   "source": []
  }
 ],
 "metadata": {
  "kernelspec": {
   "display_name": "Python 3 (ipykernel)",
   "language": "python",
   "name": "python3"
  },
  "language_info": {
   "codemirror_mode": {
    "name": "ipython",
    "version": 3
   },
   "file_extension": ".py",
   "mimetype": "text/x-python",
   "name": "python",
   "nbconvert_exporter": "python",
   "pygments_lexer": "ipython3",
   "version": "3.12.9"
  }
 },
 "nbformat": 4,
 "nbformat_minor": 4
}
