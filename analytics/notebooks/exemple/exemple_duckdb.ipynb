{
 "cells": [
  {
   "cell_type": "markdown",
   "metadata": {},
   "source": [
    "# Exemple de notebook - filtres sql et récupération des données en pandas\n",
    "\n",
    "L'objectif de ce notebook est de fournir des exemples pour pré-filtrer les données via sql avant de charger les données dans un DataFrame pandas. \n"
   ]
  },
  {
   "cell_type": "code",
   "execution_count": 7,
   "metadata": {},
   "outputs": [
    {
     "ename": "ModuleNotFoundError",
     "evalue": "No module named 'pandas'",
     "output_type": "error",
     "traceback": [
      "\u001b[0;31m---------------------------------------------------------------------------\u001b[0m",
      "\u001b[0;31mModuleNotFoundError\u001b[0m                       Traceback (most recent call last)",
      "Cell \u001b[0;32mIn[7], line 1\u001b[0m\n\u001b[0;32m----> 1\u001b[0m \u001b[38;5;28;01mimport\u001b[39;00m\u001b[38;5;250m \u001b[39m\u001b[38;5;21;01mpandas\u001b[39;00m\u001b[38;5;250m \u001b[39m\u001b[38;5;28;01mas\u001b[39;00m\u001b[38;5;250m \u001b[39m\u001b[38;5;21;01mpd\u001b[39;00m\n\u001b[1;32m      3\u001b[0m pd\u001b[38;5;241m.\u001b[39mset_option(\u001b[38;5;124m\"\u001b[39m\u001b[38;5;124mdisplay.max_columns\u001b[39m\u001b[38;5;124m\"\u001b[39m, \u001b[38;5;28;01mNone\u001b[39;00m)  \u001b[38;5;66;03m# show all cols\u001b[39;00m\n\u001b[1;32m      4\u001b[0m pd\u001b[38;5;241m.\u001b[39mset_option(\u001b[38;5;124m\"\u001b[39m\u001b[38;5;124mdisplay.max_colwidth\u001b[39m\u001b[38;5;124m\"\u001b[39m, \u001b[38;5;28;01mNone\u001b[39;00m)  \u001b[38;5;66;03m# show full width of showing cols\u001b[39;00m\n",
      "\u001b[0;31mModuleNotFoundError\u001b[0m: No module named 'pandas'"
     ]
    }
   ],
   "source": [
    "import pandas as pd\n",
    "\n",
    "pd.set_option(\"display.max_columns\", None)  # show all cols\n",
    "pd.set_option(\"display.max_colwidth\", None)  # show full width of showing cols\n",
    "pd.set_option(\n",
    "    \"display.expand_frame_repr\", False\n",
    ")  # print cols side by side as it's supposed to be"
   ]
  },
  {
   "cell_type": "code",
   "execution_count": 2,
   "metadata": {},
   "outputs": [
    {
     "ename": "ModuleNotFoundError",
     "evalue": "No module named 'duckdb'",
     "output_type": "error",
     "traceback": [
      "\u001b[0;31m---------------------------------------------------------------------------\u001b[0m",
      "\u001b[0;31mModuleNotFoundError\u001b[0m                       Traceback (most recent call last)",
      "Cell \u001b[0;32mIn[2], line 3\u001b[0m\n\u001b[1;32m      1\u001b[0m \u001b[38;5;66;03m# Nous commencons par importer les librairies nécessaires pour l'analyse des données.\u001b[39;00m\n\u001b[0;32m----> 3\u001b[0m \u001b[38;5;28;01mimport\u001b[39;00m\u001b[38;5;250m \u001b[39m\u001b[38;5;21;01mduckdb\u001b[39;00m\n\u001b[1;32m      4\u001b[0m \u001b[38;5;28;01mfrom\u001b[39;00m\u001b[38;5;250m \u001b[39m\u001b[38;5;21;01mpipelines\u001b[39;00m\u001b[38;5;21;01m.\u001b[39;00m\u001b[38;5;21;01mtasks\u001b[39;00m\u001b[38;5;21;01m.\u001b[39;00m\u001b[38;5;21;01m_common\u001b[39;00m\u001b[38;5;250m \u001b[39m\u001b[38;5;28;01mimport\u001b[39;00m DUCKDB_FILE\n\u001b[1;32m      6\u001b[0m con \u001b[38;5;241m=\u001b[39m duckdb\u001b[38;5;241m.\u001b[39mconnect(database\u001b[38;5;241m=\u001b[39mDUCKDB_FILE, read_only\u001b[38;5;241m=\u001b[39m\u001b[38;5;28;01mTrue\u001b[39;00m)\n",
      "\u001b[0;31mModuleNotFoundError\u001b[0m: No module named 'duckdb'"
     ]
    }
   ],
   "source": [
    "# Nous commencons par importer les librairies nécessaires pour l'analyse des données.\n",
    "\n",
    "import duckdb\n",
    "from pipelines.tasks._common import DUCKDB_FILE\n",
    "\n",
    "con = duckdb.connect(database=DUCKDB_FILE, read_only=True)"
   ]
  },
  {
   "cell_type": "markdown",
   "metadata": {},
   "source": [
    "## Filtres\n",
    "1. Filtrer sur les prélévements de 2024"
   ]
  },
  {
   "cell_type": "code",
   "execution_count": 3,
   "metadata": {},
   "outputs": [
    {
     "ename": "NameError",
     "evalue": "name 'con' is not defined",
     "output_type": "error",
     "traceback": [
      "\u001b[0;31m---------------------------------------------------------------------------\u001b[0m",
      "\u001b[0;31mNameError\u001b[0m                                 Traceback (most recent call last)",
      "Cell \u001b[0;32mIn[3], line 6\u001b[0m\n\u001b[1;32m      1\u001b[0m query_2024 \u001b[38;5;241m=\u001b[39m \u001b[38;5;124m\"\"\"\u001b[39m\n\u001b[1;32m      2\u001b[0m \u001b[38;5;124mSELECT * from edc_prelevements\u001b[39m\n\u001b[1;32m      3\u001b[0m \u001b[38;5;124mWHERE dateprel >= \u001b[39m\u001b[38;5;124m'\u001b[39m\u001b[38;5;124m2024-01-01\u001b[39m\u001b[38;5;124m'\u001b[39m\n\u001b[1;32m      4\u001b[0m \u001b[38;5;124m\"\"\"\u001b[39m\n\u001b[0;32m----> 6\u001b[0m prelevements_2024 \u001b[38;5;241m=\u001b[39m \u001b[43mcon\u001b[49m\u001b[38;5;241m.\u001b[39msql(query_2024)\n\u001b[1;32m      7\u001b[0m prelevements_2024_df \u001b[38;5;241m=\u001b[39m prelevements_2024\u001b[38;5;241m.\u001b[39mdf()\n\u001b[1;32m      8\u001b[0m prelevements_2024_df\u001b[38;5;241m.\u001b[39mhead(\u001b[38;5;241m2\u001b[39m)\n",
      "\u001b[0;31mNameError\u001b[0m: name 'con' is not defined"
     ]
    }
   ],
   "source": [
    "query_2024 = \"\"\"\n",
    "SELECT * from edc_prelevements\n",
    "WHERE dateprel >= '2024-01-01'\n",
    "\"\"\"\n",
    "\n",
    "prelevements_2024 = con.sql(query_2024)\n",
    "prelevements_2024_df = prelevements_2024.df()\n",
    "prelevements_2024_df.head(2)"
   ]
  },
  {
   "cell_type": "markdown",
   "metadata": {},
   "source": [
    "2. Filtrer sur les prélévements non conformes en 2024\n"
   ]
  },
  {
   "cell_type": "code",
   "execution_count": null,
   "metadata": {},
   "outputs": [],
   "source": [
    "where_clause = \"\"\"\n",
    "\"dateprel\" >= '2024-01-01'\n",
    "  AND (\n",
    "    (\n",
    "      \"plvconformitebacterio\" = 'N'\n",
    "    )\n",
    "    OR (\n",
    "      \"plvconformitechimique\" = 'N'\n",
    "    )\n",
    "    OR (\n",
    "      \"plvconformitereferencebact\" = 'N'\n",
    "    )\n",
    "    OR (\n",
    "      \"plvconformitereferencechim\" = 'N'\n",
    "    )\n",
    "  )\n",
    "\"\"\"\n",
    "query_non_conforme = f\"\"\"\n",
    "SELECT\n",
    "  *\n",
    "FROM \"edc_prelevements\"\n",
    "WHERE\n",
    "  {where_clause}\n",
    "\"\"\"\n",
    "prelevements_2024_non_conforme = con.sql(query_non_conforme)\n",
    "prelevements_2024_non_conforme_df = prelevements_2024_non_conforme.df()\n",
    "prelevements_2024_non_conforme_df.head(2)"
   ]
  },
  {
   "cell_type": "markdown",
   "metadata": {},
   "source": [
    "## Selectionner des colonnes avant d'exécuter la requête"
   ]
  },
  {
   "cell_type": "markdown",
   "metadata": {},
   "source": [
    "Selectionner les colonnes avant de charger les données permets une exécution plus rapide et limite l'usage de la mémoire."
   ]
  },
  {
   "cell_type": "code",
   "execution_count": null,
   "metadata": {},
   "outputs": [],
   "source": [
    "query_preselected = f\"\"\"\n",
    "SELECT\n",
    "  \"referenceprel\",\n",
    "  \"dateprel\",\n",
    "  \"nomcommuneprinc\",\n",
    "  \"plvconformitebacterio\"\n",
    "FROM \"edc_prelevements\"\n",
    "WHERE\n",
    "  {where_clause}\n",
    "\"\"\"\n",
    "preselected = con.sql(query_preselected)\n",
    "preselected_df = preselected.df()\n",
    "preselected_df.head(2)"
   ]
  },
  {
   "cell_type": "markdown",
   "metadata": {},
   "source": [
    "## Jointure\n",
    "Joindre edc_prelevements et edc_resultats sur referenceprel pour obtenir les résultats associés à chaque prélèvement :"
   ]
  },
  {
   "cell_type": "code",
   "execution_count": null,
   "metadata": {},
   "outputs": [],
   "source": [
    "query = f\"\"\"\n",
    "SELECT\n",
    "  \"edc_prelevements\".\"referenceprel\",\n",
    "  \"edc_prelevements\".\"dateprel\",\n",
    "  \"edc_prelevements\".\"nomcommuneprinc\",\n",
    "  \"edc_resultats\".\"libmajparametre\",\n",
    "  \"edc_resultats\".\"insituana\",\n",
    "  \"edc_resultats\".\"rqana\",\n",
    "  \"edc_resultats\".\"cdunitereferencesiseeaux\"\n",
    "FROM (\n",
    "  SELECT\n",
    "    *\n",
    "  FROM \"edc_prelevements\" \n",
    "  WHERE\n",
    "    {where_clause}\n",
    ") AS edc_prelevements\n",
    "INNER JOIN \"edc_resultats\"\n",
    "  ON \"edc_prelevements\".\"referenceprel\" = \"edc_resultats\".\"referenceprel\"\n",
    "\"\"\"\n",
    "\n",
    "\n",
    "joined = con.sql(query)\n",
    "joined_df = joined.df()\n",
    "joined_df"
   ]
  },
  {
   "cell_type": "markdown",
   "metadata": {},
   "source": [
    "## Groupby et aggregats\n",
    "Nombre total de prélèvements non conforme par commune en 2024"
   ]
  },
  {
   "cell_type": "code",
   "execution_count": null,
   "metadata": {},
   "outputs": [],
   "source": [
    "query = f\"\"\"\n",
    "SELECT\n",
    "  \"nomcommuneprinc\",\n",
    "  COUNT(\"referenceprel\") AS \"nb_prelevements_non_conformes\"\n",
    "FROM (\n",
    "  SELECT\n",
    "    *\n",
    "  FROM \"edc_prelevements\" \n",
    "  WHERE\n",
    "    {where_clause}\n",
    ") \n",
    "GROUP BY\n",
    "  1\n",
    "\"\"\"\n",
    "grouped = con.sql(query)\n",
    "grouped_df = grouped.df()\n",
    "grouped_df.sort_values(\"nb_prelevements_non_conformes\", ascending=False)"
   ]
  },
  {
   "cell_type": "markdown",
   "metadata": {},
   "source": [
    "## Autres exemples :"
   ]
  },
  {
   "cell_type": "code",
   "execution_count": null,
   "metadata": {},
   "outputs": [],
   "source": [
    "# Exemple issu du notebook premier notebook d'exemple : exemple.ipynb\n",
    "# Faisons une requête SQL en utilisant duckdb via la librarie python pour lister les substances qui ont été recherchées\n",
    "# et les trier par ordre décroissant de leur nombre d'occurrences\n",
    "\n",
    "con.sql(\"\"\"\n",
    "    SELECT libmajparametre, COUNT(*) as count\n",
    "    FROM edc_resultats\n",
    "    GROUP BY libmajparametre\n",
    "    ORDER BY count DESC\n",
    "\"\"\").show()"
   ]
  },
  {
   "cell_type": "code",
   "execution_count": null,
   "metadata": {},
   "outputs": [],
   "source": [
    "# Exemple issu du notebook premier notebook d'exemple : exemple.ipynb\n",
    "\n",
    "# Enfin, terminons par lister les prélèvements effectués dans une commune donnée\n",
    "\n",
    "nomcommune = \"TOULOUSE\"\n",
    "\n",
    "con.sql(f\"\"\"\n",
    "    SELECT *\n",
    "    FROM edc_prelevements\n",
    "    WHERE nomcommuneprinc = '{nomcommune}'\n",
    "\"\"\").show()"
   ]
  },
  {
   "cell_type": "code",
   "execution_count": null,
   "metadata": {},
   "outputs": [],
   "source": []
  }
 ],
 "metadata": {
  "kernelspec": {
   "display_name": "Python 3",
   "language": "python",
   "name": "python3"
  },
  "language_info": {
   "codemirror_mode": {
    "name": "ipython",
    "version": 3
   },
   "file_extension": ".py",
   "mimetype": "text/x-python",
   "name": "python",
   "nbconvert_exporter": "python",
   "pygments_lexer": "ipython3",
   "version": "3.9.6"
  }
 },
 "nbformat": 4,
 "nbformat_minor": 4
}
