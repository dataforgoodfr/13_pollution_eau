{
 "cells": [
  {
   "cell_type": "code",
   "execution_count": 1,
   "metadata": {},
   "outputs": [],
   "source": [
    "import duckdb\n",
    "from pipelines.tasks._common import DUCKDB_FILE\n",
    "\n",
    "con = duckdb.connect(database=DUCKDB_FILE, read_only=True)\n",
    "\n",
    "from pandasql import sqldf\n",
    "import pandas as pd\n",
    "import geopandas as gpd\n",
    "import folium\n",
    "import os\n",
    "from pyproj import Proj, transform\n",
    "import numpy as np\n",
    "\n",
    "query_2024 = \"\"\"\n",
    "SELECT * from edc_prelevements\n",
    "WHERE dateprel >= '2024-01-01'\n",
    "\"\"\"\n",
    "\n",
    "prelev = con.sql(query_2024)\n",
    "prelev = prelev.df()\n",
    "\n",
    "query_2024_comm = \"\"\"SELECT *\n",
    "FROM edc_communes\n",
    "WHERE cdreseau IN\n",
    "       (SELECT cdreseau FROM prelev)\"\"\"\n",
    "\n",
    "communes = con.sql(query_2024_comm)\n",
    "communes = communes.df()\n",
    "\n",
    "query_2024_res = \"\"\"SELECT *\n",
    "FROM edc_resultats\n",
    "WHERE referenceprel IN\n",
    "       (SELECT referenceprel FROM prelev)\"\"\"\n",
    "\n",
    "res = con.sql(query_2024_res)\n",
    "res = res.df()"
   ]
  },
  {
   "cell_type": "markdown",
   "metadata": {},
   "source": [
    "# Exploration des prélèvements sur les phtalates"
   ]
  },
  {
   "cell_type": "markdown",
   "metadata": {},
   "source": [
    "### Focus sur 2024"
   ]
  },
  {
   "cell_type": "code",
   "execution_count": 21,
   "metadata": {},
   "outputs": [
    {
     "data": {
      "text/plain": [
       "array(['DEHP (2-ethylhexyl phtalate)', 'DBP (Dibutyl phthalate)'],\n",
       "      dtype=object)"
      ]
     },
     "execution_count": 21,
     "metadata": {},
     "output_type": "execute_result"
    }
   ],
   "source": [
    "# Liste des phtalates d'après le gouvernement canadien https://www.canada.ca/fr/sante-canada/services/substances-chimiques/initiative-groupes-substances/phtalates.html\n",
    "phtalate = np.array(\n",
    "    [\n",
    "        \"84-66-2\",\n",
    "        \"131-16-8\",\n",
    "        \"84-74-2\",\n",
    "        \"85-68-7\",\n",
    "        \"84-75-3\",\n",
    "        \"111381-89-6\",\n",
    "        \"27554-26-3\",\n",
    "        \"117-81-7\",\n",
    "        \"68648-93-1\",\n",
    "        \"117-84-0\",\n",
    "        \"68515-43-5\",\n",
    "        \"111381-91-0\",\n",
    "        \"85507-79-5\",\n",
    "        \"68515-47-9\",\n",
    "        \"131-11-3\",\n",
    "        \"84-61-7\",\n",
    "        \"84-64-0\",\n",
    "        \"84-69-5\",\n",
    "        \"523-31-9\",\n",
    "        \"5334-09-8\",\n",
    "        \"16883-83-3\",\n",
    "        \"27215-22-1\",\n",
    "        \"27987-25-3\",\n",
    "        \"68515-40-2\",\n",
    "        \"71888-89-6\",\n",
    "        \"28553-12-0\",\n",
    "        \"68515-48-0\",\n",
    "        \"26761-40-0\",\n",
    "        \"68515-49-1\",\n",
    "        \"3648-20-2\",\n",
    "    ]\n",
    ")\n",
    "\n",
    "res[\"libminparametre\"][np.isin(res.casparam, phtalate)].unique()"
   ]
  },
  {
   "cell_type": "code",
   "execution_count": 25,
   "metadata": {},
   "outputs": [
    {
     "data": {
      "text/plain": [
       "array([6616.])"
      ]
     },
     "execution_count": 25,
     "metadata": {},
     "output_type": "execute_result"
    }
   ],
   "source": [
    "res[res[\"libminparametre\"] == \"DEHP (2-ethylhexyl phtalate)\"][\"cdparametre\"].unique()"
   ]
  },
  {
   "cell_type": "code",
   "execution_count": 23,
   "metadata": {},
   "outputs": [
    {
     "data": {
      "text/plain": [
       "array([1462.])"
      ]
     },
     "execution_count": 23,
     "metadata": {},
     "output_type": "execute_result"
    }
   ],
   "source": [
    "res[res[\"libminparametre\"] == \"DBP (Dibutyl phthalate)\"][\"cdparametre\"].unique()"
   ]
  },
  {
   "cell_type": "code",
   "execution_count": 24,
   "metadata": {},
   "outputs": [
    {
     "name": "stdout",
     "output_type": "stream",
     "text": [
      "90\n",
      "15\n"
     ]
    }
   ],
   "source": [
    "print(len(res[res[\"libminparametre\"] == \"DEHP (2-ethylhexyl phtalate)\"][\"cdparametre\"]))\n",
    "print(len(res[res[\"libminparametre\"] == \"DBP (Dibutyl phthalate)\"][\"cdparametre\"]))"
   ]
  },
  {
   "cell_type": "markdown",
   "metadata": {},
   "source": [
    "Parmi les données en 2024, seuls deux phtalates ont été étudié: le DEHP (2-ethylhexyl phtalate) (6616) et le DBP (Dibutyl phthalate) (1462), avec respectivement 90 et 15 prélèvements, soit très peu."
   ]
  },
  {
   "cell_type": "code",
   "execution_count": 60,
   "metadata": {},
   "outputs": [],
   "source": [
    "res_dehp = res[np.isin(res[\"cdparametre\"], np.array([1753.0]))]"
   ]
  },
  {
   "cell_type": "code",
   "execution_count": 61,
   "metadata": {},
   "outputs": [
    {
     "data": {
      "text/plain": [
       "33183"
      ]
     },
     "execution_count": 61,
     "metadata": {},
     "output_type": "execute_result"
    }
   ],
   "source": [
    "len(res_dehp)"
   ]
  },
  {
   "cell_type": "code",
   "execution_count": 64,
   "metadata": {},
   "outputs": [],
   "source": [
    "# On join res_dehp et prelev pour avoir le code insee correspondant à chaque analyse dans résultat\n",
    "query_insee = \"\"\"SELECT res_dehp.cddept,res_dehp.cdparametre, res_dehp.rqana,res_dehp.referenceprel,res_dehp.libminparametre,res_dehp.refqual,res_dehp.valtraduite, res_dehp.casparam,res_dehp.limitequal,prelev.inseecommuneprinc,prelev.nomcommuneprinc, prelev.cdreseau, prelev.dateprel, prelev.heureprel\n",
    "FROM res_dehp\n",
    "JOIN prelev\n",
    "ON res_dehp.referenceprel = prelev.referenceprel\n",
    "ORDER BY dateprel DESC\"\"\"\n",
    "\n",
    "res_dehp_insee = con.sql(query_insee)\n",
    "res_dehp_insee = res_dehp_insee.df()"
   ]
  },
  {
   "cell_type": "code",
   "execution_count": null,
   "metadata": {},
   "outputs": [],
   "source": [
    "res_dehp_insee = res_dehp_insee.assign(depasse=res_dehp_insee[\"valtraduite\"] > 0.5)"
   ]
  },
  {
   "cell_type": "code",
   "execution_count": 68,
   "metadata": {},
   "outputs": [
    {
     "data": {
      "text/html": [
       "<div>\n",
       "<style scoped>\n",
       "    .dataframe tbody tr th:only-of-type {\n",
       "        vertical-align: middle;\n",
       "    }\n",
       "\n",
       "    .dataframe tbody tr th {\n",
       "        vertical-align: top;\n",
       "    }\n",
       "\n",
       "    .dataframe thead th {\n",
       "        text-align: right;\n",
       "    }\n",
       "</style>\n",
       "<table border=\"1\" class=\"dataframe\">\n",
       "  <thead>\n",
       "    <tr style=\"text-align: right;\">\n",
       "      <th></th>\n",
       "      <th>cddept</th>\n",
       "      <th>cdparametre</th>\n",
       "      <th>rqana</th>\n",
       "      <th>referenceprel</th>\n",
       "      <th>libminparametre</th>\n",
       "      <th>refqual</th>\n",
       "      <th>valtraduite</th>\n",
       "      <th>casparam</th>\n",
       "      <th>limitequal</th>\n",
       "      <th>inseecommuneprinc</th>\n",
       "      <th>nomcommuneprinc</th>\n",
       "      <th>cdreseau</th>\n",
       "      <th>dateprel</th>\n",
       "      <th>heureprel</th>\n",
       "      <th>depasse</th>\n",
       "    </tr>\n",
       "  </thead>\n",
       "  <tbody>\n",
       "    <tr>\n",
       "      <th>0</th>\n",
       "      <td>059</td>\n",
       "      <td>1753.0</td>\n",
       "      <td>0,033</td>\n",
       "      <td>05900328113</td>\n",
       "      <td>Chlorure de vinyl monomère</td>\n",
       "      <td>NaN</td>\n",
       "      <td>0.033</td>\n",
       "      <td>75-01-4</td>\n",
       "      <td>&lt;=0.5 µg/L</td>\n",
       "      <td>59653</td>\n",
       "      <td>WAVRIN</td>\n",
       "      <td>059000414</td>\n",
       "      <td>2024-12-31</td>\n",
       "      <td>10h11</td>\n",
       "      <td>False</td>\n",
       "    </tr>\n",
       "    <tr>\n",
       "      <th>1</th>\n",
       "      <td>059</td>\n",
       "      <td>1753.0</td>\n",
       "      <td>0,033</td>\n",
       "      <td>05900328113</td>\n",
       "      <td>Chlorure de vinyl monomère</td>\n",
       "      <td>NaN</td>\n",
       "      <td>0.033</td>\n",
       "      <td>75-01-4</td>\n",
       "      <td>&lt;=0.5 µg/L</td>\n",
       "      <td>59653</td>\n",
       "      <td>WAVRIN</td>\n",
       "      <td>059000545</td>\n",
       "      <td>2024-12-31</td>\n",
       "      <td>10h11</td>\n",
       "      <td>False</td>\n",
       "    </tr>\n",
       "    <tr>\n",
       "      <th>2</th>\n",
       "      <td>059</td>\n",
       "      <td>1753.0</td>\n",
       "      <td>0,033</td>\n",
       "      <td>05900328113</td>\n",
       "      <td>Chlorure de vinyl monomère</td>\n",
       "      <td>NaN</td>\n",
       "      <td>0.033</td>\n",
       "      <td>75-01-4</td>\n",
       "      <td>&lt;=0.5 µg/L</td>\n",
       "      <td>59653</td>\n",
       "      <td>WAVRIN</td>\n",
       "      <td>059000585</td>\n",
       "      <td>2024-12-31</td>\n",
       "      <td>10h11</td>\n",
       "      <td>False</td>\n",
       "    </tr>\n",
       "    <tr>\n",
       "      <th>3</th>\n",
       "      <td>059</td>\n",
       "      <td>1753.0</td>\n",
       "      <td>0,033</td>\n",
       "      <td>05900328113</td>\n",
       "      <td>Chlorure de vinyl monomère</td>\n",
       "      <td>NaN</td>\n",
       "      <td>0.033</td>\n",
       "      <td>75-01-4</td>\n",
       "      <td>&lt;=0.5 µg/L</td>\n",
       "      <td>59653</td>\n",
       "      <td>WAVRIN</td>\n",
       "      <td>059000721</td>\n",
       "      <td>2024-12-31</td>\n",
       "      <td>10h11</td>\n",
       "      <td>False</td>\n",
       "    </tr>\n",
       "    <tr>\n",
       "      <th>4</th>\n",
       "      <td>059</td>\n",
       "      <td>1753.0</td>\n",
       "      <td>0,033</td>\n",
       "      <td>05900328113</td>\n",
       "      <td>Chlorure de vinyl monomère</td>\n",
       "      <td>NaN</td>\n",
       "      <td>0.033</td>\n",
       "      <td>75-01-4</td>\n",
       "      <td>&lt;=0.5 µg/L</td>\n",
       "      <td>59653</td>\n",
       "      <td>WAVRIN</td>\n",
       "      <td>059000948</td>\n",
       "      <td>2024-12-31</td>\n",
       "      <td>10h11</td>\n",
       "      <td>False</td>\n",
       "    </tr>\n",
       "  </tbody>\n",
       "</table>\n",
       "</div>"
      ],
      "text/plain": [
       "  cddept  cdparametre  rqana referenceprel             libminparametre  \\\n",
       "0    059       1753.0  0,033   05900328113  Chlorure de vinyl monomère   \n",
       "1    059       1753.0  0,033   05900328113  Chlorure de vinyl monomère   \n",
       "2    059       1753.0  0,033   05900328113  Chlorure de vinyl monomère   \n",
       "3    059       1753.0  0,033   05900328113  Chlorure de vinyl monomère   \n",
       "4    059       1753.0  0,033   05900328113  Chlorure de vinyl monomère   \n",
       "\n",
       "   refqual  valtraduite casparam  limitequal inseecommuneprinc  \\\n",
       "0      NaN        0.033  75-01-4  <=0.5 µg/L             59653   \n",
       "1      NaN        0.033  75-01-4  <=0.5 µg/L             59653   \n",
       "2      NaN        0.033  75-01-4  <=0.5 µg/L             59653   \n",
       "3      NaN        0.033  75-01-4  <=0.5 µg/L             59653   \n",
       "4      NaN        0.033  75-01-4  <=0.5 µg/L             59653   \n",
       "\n",
       "  nomcommuneprinc   cdreseau   dateprel heureprel  depasse  \n",
       "0          WAVRIN  059000414 2024-12-31     10h11    False  \n",
       "1          WAVRIN  059000545 2024-12-31     10h11    False  \n",
       "2          WAVRIN  059000585 2024-12-31     10h11    False  \n",
       "3          WAVRIN  059000721 2024-12-31     10h11    False  \n",
       "4          WAVRIN  059000948 2024-12-31     10h11    False  "
      ]
     },
     "execution_count": 68,
     "metadata": {},
     "output_type": "execute_result"
    }
   ],
   "source": [
    "res_dehp_insee.head()"
   ]
  },
  {
   "cell_type": "code",
   "execution_count": 71,
   "metadata": {},
   "outputs": [],
   "source": [
    "query_test = \"\"\"SELECT MIN(dateprel), cdreseau\n",
    "FROM res_dehp_insee\n",
    "GROUP BY cdreseau\"\"\"\n",
    "\n",
    "res_test = con.sql(query_test)\n",
    "res_test = res_test.df()"
   ]
  },
  {
   "cell_type": "code",
   "execution_count": 72,
   "metadata": {},
   "outputs": [
    {
     "data": {
      "text/html": [
       "<div>\n",
       "<style scoped>\n",
       "    .dataframe tbody tr th:only-of-type {\n",
       "        vertical-align: middle;\n",
       "    }\n",
       "\n",
       "    .dataframe tbody tr th {\n",
       "        vertical-align: top;\n",
       "    }\n",
       "\n",
       "    .dataframe thead th {\n",
       "        text-align: right;\n",
       "    }\n",
       "</style>\n",
       "<table border=\"1\" class=\"dataframe\">\n",
       "  <thead>\n",
       "    <tr style=\"text-align: right;\">\n",
       "      <th></th>\n",
       "      <th>min(dateprel)</th>\n",
       "      <th>cdreseau</th>\n",
       "    </tr>\n",
       "  </thead>\n",
       "  <tbody>\n",
       "    <tr>\n",
       "      <th>0</th>\n",
       "      <td>2024-01-04</td>\n",
       "      <td>059004194</td>\n",
       "    </tr>\n",
       "    <tr>\n",
       "      <th>1</th>\n",
       "      <td>2024-01-31</td>\n",
       "      <td>054000006</td>\n",
       "    </tr>\n",
       "    <tr>\n",
       "      <th>2</th>\n",
       "      <td>2024-02-07</td>\n",
       "      <td>062000464</td>\n",
       "    </tr>\n",
       "    <tr>\n",
       "      <th>3</th>\n",
       "      <td>2024-01-10</td>\n",
       "      <td>062000647</td>\n",
       "    </tr>\n",
       "    <tr>\n",
       "      <th>4</th>\n",
       "      <td>2024-02-09</td>\n",
       "      <td>081000561</td>\n",
       "    </tr>\n",
       "    <tr>\n",
       "      <th>...</th>\n",
       "      <td>...</td>\n",
       "      <td>...</td>\n",
       "    </tr>\n",
       "    <tr>\n",
       "      <th>16419</th>\n",
       "      <td>2024-01-09</td>\n",
       "      <td>074002226</td>\n",
       "    </tr>\n",
       "    <tr>\n",
       "      <th>16420</th>\n",
       "      <td>2024-01-09</td>\n",
       "      <td>077000691</td>\n",
       "    </tr>\n",
       "    <tr>\n",
       "      <th>16421</th>\n",
       "      <td>2024-01-09</td>\n",
       "      <td>024000553</td>\n",
       "    </tr>\n",
       "    <tr>\n",
       "      <th>16422</th>\n",
       "      <td>2024-01-03</td>\n",
       "      <td>026001075</td>\n",
       "    </tr>\n",
       "    <tr>\n",
       "      <th>16423</th>\n",
       "      <td>2024-01-02</td>\n",
       "      <td>007000911</td>\n",
       "    </tr>\n",
       "  </tbody>\n",
       "</table>\n",
       "<p>16424 rows × 2 columns</p>\n",
       "</div>"
      ],
      "text/plain": [
       "      min(dateprel)   cdreseau\n",
       "0        2024-01-04  059004194\n",
       "1        2024-01-31  054000006\n",
       "2        2024-02-07  062000464\n",
       "3        2024-01-10  062000647\n",
       "4        2024-02-09  081000561\n",
       "...             ...        ...\n",
       "16419    2024-01-09  074002226\n",
       "16420    2024-01-09  077000691\n",
       "16421    2024-01-09  024000553\n",
       "16422    2024-01-03  026001075\n",
       "16423    2024-01-02  007000911\n",
       "\n",
       "[16424 rows x 2 columns]"
      ]
     },
     "execution_count": 72,
     "metadata": {},
     "output_type": "execute_result"
    }
   ],
   "source": [
    "res_test"
   ]
  }
 ],
 "metadata": {
  "kernelspec": {
   "display_name": ".venv",
   "language": "python",
   "name": "python3"
  },
  "language_info": {
   "codemirror_mode": {
    "name": "ipython",
    "version": 3
   },
   "file_extension": ".py",
   "mimetype": "text/x-python",
   "name": "python",
   "nbconvert_exporter": "python",
   "pygments_lexer": "ipython3",
   "version": "3.12.8"
  }
 },
 "nbformat": 4,
 "nbformat_minor": 2
}
