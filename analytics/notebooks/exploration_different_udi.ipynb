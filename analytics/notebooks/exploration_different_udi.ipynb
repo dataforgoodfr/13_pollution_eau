{
 "cells": [
  {
   "cell_type": "markdown",
   "metadata": {
    "vscode": {
     "languageId": "plaintext"
    }
   },
   "source": [
    "Ce notebook charge les données des contours disponibles sur Atlasante avec les paramètres suivants :\n",
    "\n",
    "- **Format des données** : ESRI (shp)\n",
    "- **Projection** : Lambert 93 EPSG:2154\n",
    "\n",
    "**objectif de ce notebook: comparasion des donnees des trois ressources sur Atlasante.**\n",
    "Les liens vers les fichiers:\n",
    "\n",
    "- Direction Générale de la Santé - Unités de distribution (UDI) et infofactures: https://catalogue.atlasante.fr/geosource/panierDownloadFrontalParametrage/d51b5c43-812d-420f-a641-83e18ddb8628\n",
    "- Direction Générale de la Santé - Métropole - Unités de distribution (UDI) - 2023: https://catalogue.atlasante.fr/geosource/panierDownloadFrontalParametrage?LAYERIDTS=16300771\n",
    "- Direction Générale de la Santé - Métropole - Unités de distribution (UDI) - 2022: https://catalogue.atlasante.fr/geosource/panierDownloadFrontalParametrage?LAYERIDTS=16215201\n"
   ]
  },
  {
   "cell_type": "code",
   "execution_count": null,
   "metadata": {},
   "outputs": [],
   "source": [
    "# pakages\n",
    "import geopandas as gpd\n",
    "from pathlib import Path\n",
    "from pipelines.tasks.config.common import CACHE_FOLDER\n",
    "from pipelines.tasks.config.common import DUCKDB_FILE\n",
    "import duckdb"
   ]
  },
  {
   "cell_type": "code",
   "execution_count": 104,
   "metadata": {},
   "outputs": [],
   "source": [
    "# path of three fichier, telecharger les fichiers et cree un folder.\n",
    "REPERTOIRE_DATA_ATLASANTE = Path(\n",
    "    CACHE_FOLDER,\n",
    "    \"Telechargement_1741623465_2416/d51b5c43-812d-420f-a641-83e18ddb8628_1741623465_7231\",\n",
    ")\n",
    "REPERTOIRE_DATA_ATLASANTE_22 = Path(\n",
    "    CACHE_FOLDER,\n",
    "    \"Telechargement_1741616431_2820/9e02e73f-422b-46e9-8cbf-7384083180e7_1741616431_3301\",\n",
    ")\n",
    "REPERTOIRE_DATA_ATLASANTE_23 = Path(\n",
    "    CACHE_FOLDER,\n",
    "    \"Telechargement_1741616513_7189/4e35f55a-e09f-4f92-9428-1d8c8ddc9c14_1741616513_6948\",\n",
    ")\n",
    "\n",
    "CONTOURS_UDI = \"dgs_metropole_udi_infofactures_j.shp\"\n",
    "CONTOURS_UDI_2022 = \"dgs_metropole_udi_2022_j.shp\"\n",
    "CONTOURS_UDI_2023 = \"dgs_metropole_udi_2023_j.shp\""
   ]
  },
  {
   "cell_type": "code",
   "execution_count": 105,
   "metadata": {},
   "outputs": [
    {
     "name": "stdout",
     "output_type": "stream",
     "text": [
      "<class 'geopandas.geodataframe.GeoDataFrame'>\n",
      "Index: 22753 entries, 0 to 22758\n",
      "Data columns (total 13 columns):\n",
      " #   Column      Non-Null Count  Dtype   \n",
      "---  ------      --------------  -----   \n",
      " 0   gid         22753 non-null  int64   \n",
      " 1   code_udi    22753 non-null  object  \n",
      " 2   code_ins    22720 non-null  object  \n",
      " 3   ins_nom     22720 non-null  object  \n",
      " 4   ins_etat    22720 non-null  object  \n",
      " 5   udi_pop     14076 non-null  object  \n",
      " 6   uge_code    22720 non-null  object  \n",
      " 7   uge_nom     22720 non-null  object  \n",
      " 8   uge_exp_cn  22720 non-null  object  \n",
      " 9   uge_exp_no  22720 non-null  object  \n",
      " 10  uge_mo_cn   22720 non-null  object  \n",
      " 11  uge_mo_nom  22720 non-null  object  \n",
      " 12  geometry    22753 non-null  geometry\n",
      "dtypes: geometry(1), int64(1), object(11)\n",
      "memory usage: 2.4+ MB\n"
     ]
    },
    {
     "name": "stderr",
     "output_type": "stream",
     "text": [
      "/Users/llf/open-source/13_pollution_eau_d4g/.venv/lib/python3.12/site-packages/pyogrio/raw.py:198: RuntimeWarning: /Users/llf/open-source/13_pollution_eau_d4g/database/cache/Telechargement_1741623465_2416/d51b5c43-812d-420f-a641-83e18ddb8628_1741623465_7231/dgs_metropole_udi_infofactures_j.shp contains polygon(s) with rings with invalid winding order. Autocorrecting them, but that shapefile should be corrected using ogr2ogr for example.\n",
      "  return ogr_read(\n"
     ]
    }
   ],
   "source": [
    "# check the info of dgs_metropole_udi_infofactures_j.shp\n",
    "dgs_info_path = Path(REPERTOIRE_DATA_ATLASANTE, CONTOURS_UDI)\n",
    "gdf_udi = gpd.read_file(str(dgs_info_path))\n",
    "gdf_udi = gdf_udi[~gdf_udi[\"code_udi\"].isnull()]\n",
    "gdf_udi[\"code_udi\"] = gdf_udi[\"code_udi\"].astype(str)\n",
    "\n",
    "\n",
    "gdf_udi.info()"
   ]
  },
  {
   "cell_type": "code",
   "execution_count": 106,
   "metadata": {},
   "outputs": [
    {
     "name": "stdout",
     "output_type": "stream",
     "text": [
      "<class 'geopandas.geodataframe.GeoDataFrame'>\n",
      "RangeIndex: 23233 entries, 0 to 23232\n",
      "Data columns (total 3 columns):\n",
      " #   Column    Non-Null Count  Dtype   \n",
      "---  ------    --------------  -----   \n",
      " 0   gid       23233 non-null  int64   \n",
      " 1   code_udi  23219 non-null  object  \n",
      " 2   geometry  23232 non-null  geometry\n",
      "dtypes: geometry(1), int64(1), object(1)\n",
      "memory usage: 544.7+ KB\n"
     ]
    }
   ],
   "source": [
    "# check the info of dgs_metropole_udi_2022_j.shp\n",
    "dgs_info_path_22 = Path(REPERTOIRE_DATA_ATLASANTE_22, CONTOURS_UDI_2022)\n",
    "gdf_udi_22 = gpd.read_file(str(dgs_info_path_22))\n",
    "gdf_udi_22.info()\n",
    "gdf_udi_22 = gdf_udi_22[~gdf_udi_22[\"code_udi\"].isnull()]\n",
    "gdf_udi_22[\"code_udi\"] = gdf_udi_22[\"code_udi\"].astype(str)"
   ]
  },
  {
   "cell_type": "code",
   "execution_count": 107,
   "metadata": {},
   "outputs": [
    {
     "name": "stdout",
     "output_type": "stream",
     "text": [
      "<class 'geopandas.geodataframe.GeoDataFrame'>\n",
      "Index: 22753 entries, 0 to 22758\n",
      "Data columns (total 3 columns):\n",
      " #   Column    Non-Null Count  Dtype   \n",
      "---  ------    --------------  -----   \n",
      " 0   gid       22753 non-null  int64   \n",
      " 1   code_udi  22753 non-null  object  \n",
      " 2   geometry  22753 non-null  geometry\n",
      "dtypes: geometry(1), int64(1), object(1)\n",
      "memory usage: 711.0+ KB\n"
     ]
    },
    {
     "name": "stderr",
     "output_type": "stream",
     "text": [
      "/Users/llf/open-source/13_pollution_eau_d4g/.venv/lib/python3.12/site-packages/pyogrio/raw.py:198: RuntimeWarning: /Users/llf/open-source/13_pollution_eau_d4g/database/cache/Telechargement_1741616513_7189/4e35f55a-e09f-4f92-9428-1d8c8ddc9c14_1741616513_6948/dgs_metropole_udi_2023_j.shp contains polygon(s) with rings with invalid winding order. Autocorrecting them, but that shapefile should be corrected using ogr2ogr for example.\n",
      "  return ogr_read(\n"
     ]
    }
   ],
   "source": [
    "# check the info of dgs_metropole_udi_2023_j.shp\n",
    "dgs_info_path_23 = Path(REPERTOIRE_DATA_ATLASANTE_23, CONTOURS_UDI_2023)\n",
    "gdf_udi_23 = gpd.read_file(str(dgs_info_path_23))\n",
    "gdf_udi_23 = gdf_udi_23[~gdf_udi_23[\"code_udi\"].isnull()]\n",
    "gdf_udi_23[\"code_udi\"] = gdf_udi_23[\"code_udi\"].astype(str)\n",
    "gdf_udi_23.info()"
   ]
  },
  {
   "cell_type": "code",
   "execution_count": null,
   "metadata": {},
   "outputs": [
    {
     "name": "stdout",
     "output_type": "stream",
     "text": [
      "There are 23103 unique UDI in 2022\n",
      "There are 632 unique UDI exists only in 2022 but not 2023\n",
      "There are 22695 unique UDI in 2023\n",
      "There are 224 unique UDI exists only in 2022 but not 2023\n"
     ]
    }
   ],
   "source": [
    "# comparer les donnees de 2022 et 2023\n",
    "# 2022\n",
    "unique_udi_22 = gdf_udi_22[\"code_udi\"].nunique()\n",
    "code_udis_exists_only_in22 = gdf_udi_22[\n",
    "    ~gdf_udi_22[\"code_udi\"].isin(gdf_udi_23[\"code_udi\"])\n",
    "][\"code_udi\"].unique()\n",
    "len_code_udis_22_only = len(code_udis_exists_only_in22)\n",
    "\n",
    "print(f\"There are {unique_udi_22} unique UDI in 2022\")\n",
    "print(f\"There are {len_code_udis_22_only} unique UDI exists only in 2022 but not 2023\")\n",
    "# 2023\n",
    "unique_udi_23 = gdf_udi_23[\"code_udi\"].nunique()\n",
    "code_udis_exists_only_in23 = gdf_udi_23[\n",
    "    ~gdf_udi_23[\"code_udi\"].isin(gdf_udi_22[\"code_udi\"])\n",
    "][\"code_udi\"].unique()\n",
    "len_code_udis_23_only = len(code_udis_exists_only_in23)\n",
    "\n",
    "print(f\"There are {unique_udi_23} unique UDI in 2023\")\n",
    "print(f\"There are {len_code_udis_23_only} unique UDI exists only in 2022 but not 2023\")"
   ]
  },
  {
   "cell_type": "code",
   "execution_count": null,
   "metadata": {},
   "outputs": [
    {
     "name": "stdout",
     "output_type": "stream",
     "text": [
      "There are 632 different udi code exists only in gdf_udi_22 but not in gdf_udi\n",
      "There are total 22695 unique udi code in gdf_udi and 22695 unique udi code in gdf_udi_23.\n",
      "0 difference of code_udi between gdf_udi_23 and  gdf_udi\n"
     ]
    }
   ],
   "source": [
    "# compare dgs_metropole_udi_2022_j with dgs_metropole_udi_infofactures_j.shp\n",
    "code_udis_exists_only_in22 = gdf_udi_22[\n",
    "    ~gdf_udi_22[\"code_udi\"].isin(gdf_udi[\"code_udi\"])\n",
    "][\"code_udi\"].unique()\n",
    "\n",
    "len_code = len(code_udis_exists_only_in22)\n",
    "print(\n",
    "    f\"There are {len_code} different udi code exists only in gdf_udi_22 but not in gdf_udi\"\n",
    ")\n",
    "\n",
    "# compare dgs_metropole_udi_2023_j with dgs_metropole_udi_infofactures_j.shp\n",
    "total = gdf_udi[\"code_udi\"].nunique()\n",
    "total_23 = gdf_udi_23[\"code_udi\"].nunique()\n",
    "\n",
    "code_udis_exists_only_in23 = gdf_udi_23[\n",
    "    ~gdf_udi_23[\"code_udi\"].isin(gdf_udi[\"code_udi\"])\n",
    "][\"code_udi\"].unique()\n",
    "\n",
    "len_code = len(code_udis_exists_only_in23)\n",
    "print(\n",
    "    f\"There are total {total} unique udi code in gdf_udi and {total_23} unique udi code in gdf_udi_23.\"\n",
    ")\n",
    "print(\n",
    "    f\"{len(code_udis_exists_only_in23)} difference of code_udi between gdf_udi_23 and  gdf_udi\"\n",
    ")"
   ]
  },
  {
   "cell_type": "code",
   "execution_count": null,
   "metadata": {},
   "outputs": [
    {
     "data": {
      "text/html": [
       "<div>\n",
       "<style scoped>\n",
       "    .dataframe tbody tr th:only-of-type {\n",
       "        vertical-align: middle;\n",
       "    }\n",
       "\n",
       "    .dataframe tbody tr th {\n",
       "        vertical-align: top;\n",
       "    }\n",
       "\n",
       "    .dataframe thead th {\n",
       "        text-align: right;\n",
       "    }\n",
       "</style>\n",
       "<table border=\"1\" class=\"dataframe\">\n",
       "  <thead>\n",
       "    <tr style=\"text-align: right;\">\n",
       "      <th></th>\n",
       "      <th>inseecommune</th>\n",
       "      <th>nomcommune</th>\n",
       "      <th>nomreseau</th>\n",
       "      <th>cdreseau</th>\n",
       "      <th>code_ins</th>\n",
       "      <th>code_udi</th>\n",
       "      <th>ins_nom</th>\n",
       "      <th>uge_nom</th>\n",
       "    </tr>\n",
       "  </thead>\n",
       "  <tbody>\n",
       "    <tr>\n",
       "      <th>0</th>\n",
       "      <td>01001</td>\n",
       "      <td>ABERGEMENT-CLEMENCIAT (L')</td>\n",
       "      <td>BDS ST DIDIER/CHALARONNE</td>\n",
       "      <td>001000556</td>\n",
       "      <td>001000556</td>\n",
       "      <td>001000556</td>\n",
       "      <td>BDS ST DIDIER/CHALARONNE</td>\n",
       "      <td>SI BRESSE DOMBES SAONE SAUR</td>\n",
       "    </tr>\n",
       "    <tr>\n",
       "      <th>1</th>\n",
       "      <td>01002</td>\n",
       "      <td>ABERGEMENT-DE-VAREY (L')</td>\n",
       "      <td>L'ABERGEMENT-DE-VAREY</td>\n",
       "      <td>001000369</td>\n",
       "      <td>001000369</td>\n",
       "      <td>001000369</td>\n",
       "      <td>L'ABERGEMENT-DE-VAREY</td>\n",
       "      <td>L'ABERGEMENT-DE-VAREY</td>\n",
       "    </tr>\n",
       "    <tr>\n",
       "      <th>2</th>\n",
       "      <td>01004</td>\n",
       "      <td>AMBERIEU-EN-BUGEY</td>\n",
       "      <td>AMBERIEU VAREILLES</td>\n",
       "      <td>001000248</td>\n",
       "      <td>001000248</td>\n",
       "      <td>001000248</td>\n",
       "      <td>AMBERIEU VAREILLES</td>\n",
       "      <td>SI REGION D'AMBERIEU-EN-BUGEY</td>\n",
       "    </tr>\n",
       "    <tr>\n",
       "      <th>3</th>\n",
       "      <td>01004</td>\n",
       "      <td>AMBERIEU-EN-BUGEY</td>\n",
       "      <td>AMBERIEU SAINT GERMAIN DOUVRES</td>\n",
       "      <td>001000249</td>\n",
       "      <td>001000249</td>\n",
       "      <td>001000249</td>\n",
       "      <td>AMBERIEU SAINT GERMAIN DOUVRES</td>\n",
       "      <td>SI REGION D'AMBERIEU-EN-BUGEY</td>\n",
       "    </tr>\n",
       "    <tr>\n",
       "      <th>4</th>\n",
       "      <td>01004</td>\n",
       "      <td>AMBERIEU-EN-BUGEY</td>\n",
       "      <td>AMBERIEU VILLE</td>\n",
       "      <td>001000251</td>\n",
       "      <td>001000251</td>\n",
       "      <td>001000251</td>\n",
       "      <td>AMBERIEU VILLE</td>\n",
       "      <td>SI REGION D'AMBERIEU-EN-BUGEY</td>\n",
       "    </tr>\n",
       "  </tbody>\n",
       "</table>\n",
       "</div>"
      ],
      "text/plain": [
       "  inseecommune                  nomcommune                       nomreseau  \\\n",
       "0        01001  ABERGEMENT-CLEMENCIAT (L')        BDS ST DIDIER/CHALARONNE   \n",
       "1        01002    ABERGEMENT-DE-VAREY (L')           L'ABERGEMENT-DE-VAREY   \n",
       "2        01004           AMBERIEU-EN-BUGEY              AMBERIEU VAREILLES   \n",
       "3        01004           AMBERIEU-EN-BUGEY  AMBERIEU SAINT GERMAIN DOUVRES   \n",
       "4        01004           AMBERIEU-EN-BUGEY                  AMBERIEU VILLE   \n",
       "\n",
       "    cdreseau   code_ins   code_udi                         ins_nom  \\\n",
       "0  001000556  001000556  001000556        BDS ST DIDIER/CHALARONNE   \n",
       "1  001000369  001000369  001000369           L'ABERGEMENT-DE-VAREY   \n",
       "2  001000248  001000248  001000248              AMBERIEU VAREILLES   \n",
       "3  001000249  001000249  001000249  AMBERIEU SAINT GERMAIN DOUVRES   \n",
       "4  001000251  001000251  001000251                  AMBERIEU VILLE   \n",
       "\n",
       "                         uge_nom  \n",
       "0    SI BRESSE DOMBES SAONE SAUR  \n",
       "1          L'ABERGEMENT-DE-VAREY  \n",
       "2  SI REGION D'AMBERIEU-EN-BUGEY  \n",
       "3  SI REGION D'AMBERIEU-EN-BUGEY  \n",
       "4  SI REGION D'AMBERIEU-EN-BUGEY  "
      ]
     },
     "execution_count": 193,
     "metadata": {},
     "output_type": "execute_result"
    }
   ],
   "source": [
    "# comparer dgs_metropole_udi_infofactures_j avec edc_commune dans duckdb, voir la relation\n",
    "con = duckdb.connect(database=DUCKDB_FILE, read_only=True)\n",
    "\n",
    "# get the edc_commune and compare the inseecode\n",
    "# unique_code_ins = gdf_udi[gdf_udi['code_ins']]\n",
    "# the cdreseau in edc_commune is equivalent of code_ins in gdf_udi(dgs_metropole_udi_infofactures_j)\n",
    "sql = \"Select inseecommune,nomcommune,nomreseau,cdreseau from edc_communes\"\n",
    "edc_com = con.execute(sql).df()\n",
    "commun_code_ins = set(gdf_udi[\"code_ins\"]).intersection(set(edc_com[\"cdreseau\"]))\n",
    "common_commnues = edc_com[edc_com[\"cdreseau\"].isin(gdf_udi[\"code_ins\"])]\n",
    "merged_df = common_commnues.merge(\n",
    "    gdf_udi[[\"code_ins\", \"code_udi\", \"ins_nom\", \"uge_nom\"]],\n",
    "    left_on=\"cdreseau\",\n",
    "    right_on=\"code_ins\",\n",
    "    how=\"inner\",\n",
    ")\n",
    "merged_df.head()\n",
    "\n",
    "con.close()"
   ]
  }
 ],
 "metadata": {
  "kernelspec": {
   "display_name": ".venv",
   "language": "python",
   "name": "python3"
  },
  "language_info": {
   "codemirror_mode": {
    "name": "ipython",
    "version": 3
   },
   "file_extension": ".py",
   "mimetype": "text/x-python",
   "name": "python",
   "nbconvert_exporter": "python",
   "pygments_lexer": "ipython3",
   "version": "3.12.8"
  }
 },
 "nbformat": 4,
 "nbformat_minor": 2
}
