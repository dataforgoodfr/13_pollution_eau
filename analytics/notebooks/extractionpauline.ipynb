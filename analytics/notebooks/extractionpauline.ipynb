{
 "cells": [
  {
   "cell_type": "code",
   "execution_count": 1,
   "metadata": {},
   "outputs": [],
   "source": [
    "import duckdb\n",
    "from pipelines.tasks._common import DUCKDB_FILE\n",
    "\n",
    "con = duckdb.connect(database=DUCKDB_FILE, read_only=True)"
   ]
  },
  {
   "cell_type": "code",
   "execution_count": 2,
   "metadata": {},
   "outputs": [],
   "source": [
    "from pandasql import sqldf\n",
    "import pandas as pd\n",
    "import geopandas as gpd\n",
    "import folium\n",
    "import os\n",
    "from pyproj import Proj, transform\n",
    "import numpy as np"
   ]
  },
  {
   "cell_type": "code",
   "execution_count": 3,
   "metadata": {},
   "outputs": [],
   "source": [
    "communes = con.table(\"edc_communes\").df()\n",
    "res = con.table(\"edc_resultats\").df()\n",
    "prelev = con.table(\"edc_prelevements\").df()"
   ]
  },
  {
   "cell_type": "code",
   "execution_count": 4,
   "metadata": {},
   "outputs": [
    {
     "data": {
      "text/html": [
       "<div>\n",
       "<style scoped>\n",
       "    .dataframe tbody tr th:only-of-type {\n",
       "        vertical-align: middle;\n",
       "    }\n",
       "\n",
       "    .dataframe tbody tr th {\n",
       "        vertical-align: top;\n",
       "    }\n",
       "\n",
       "    .dataframe thead th {\n",
       "        text-align: right;\n",
       "    }\n",
       "</style>\n",
       "<table border=\"1\" class=\"dataframe\">\n",
       "  <thead>\n",
       "    <tr style=\"text-align: right;\">\n",
       "      <th></th>\n",
       "      <th>cddept</th>\n",
       "      <th>referenceprel</th>\n",
       "      <th>cdparametresiseeaux</th>\n",
       "      <th>cdparametre</th>\n",
       "      <th>libmajparametre</th>\n",
       "      <th>libminparametre</th>\n",
       "      <th>libwebparametre</th>\n",
       "      <th>qualitparam</th>\n",
       "      <th>insituana</th>\n",
       "      <th>rqana</th>\n",
       "      <th>cdunitereferencesiseeaux</th>\n",
       "      <th>cdunitereference</th>\n",
       "      <th>limitequal</th>\n",
       "      <th>refqual</th>\n",
       "      <th>valtraduite</th>\n",
       "      <th>casparam</th>\n",
       "      <th>referenceanl</th>\n",
       "      <th>de_partition</th>\n",
       "      <th>de_ingestion_date</th>\n",
       "    </tr>\n",
       "  </thead>\n",
       "  <tbody>\n",
       "    <tr>\n",
       "      <th>0</th>\n",
       "      <td>001</td>\n",
       "      <td>00100138503</td>\n",
       "      <td>ALTMICR</td>\n",
       "      <td>1370.0</td>\n",
       "      <td>ALUMINIUM TOTAL µG/L</td>\n",
       "      <td>Aluminium total µg/l</td>\n",
       "      <td>None</td>\n",
       "      <td>N</td>\n",
       "      <td>L</td>\n",
       "      <td>&lt;10</td>\n",
       "      <td>µg/L</td>\n",
       "      <td>133</td>\n",
       "      <td>None</td>\n",
       "      <td>&lt;=200 µg/L</td>\n",
       "      <td>0.00</td>\n",
       "      <td>7429-90-5</td>\n",
       "      <td>00100147233</td>\n",
       "      <td>2024</td>\n",
       "      <td>2025-02-07</td>\n",
       "    </tr>\n",
       "    <tr>\n",
       "      <th>1</th>\n",
       "      <td>001</td>\n",
       "      <td>00100138503</td>\n",
       "      <td>ASP</td>\n",
       "      <td>6489.0</td>\n",
       "      <td>ASPECT (QUALITATIF)</td>\n",
       "      <td>Aspect (qualitatif)</td>\n",
       "      <td>None</td>\n",
       "      <td>O</td>\n",
       "      <td>L</td>\n",
       "      <td>Aspect normal</td>\n",
       "      <td>SANS OBJET</td>\n",
       "      <td>X</td>\n",
       "      <td>None</td>\n",
       "      <td>None</td>\n",
       "      <td>0.00</td>\n",
       "      <td>None</td>\n",
       "      <td>00100147232</td>\n",
       "      <td>2024</td>\n",
       "      <td>2025-02-07</td>\n",
       "    </tr>\n",
       "    <tr>\n",
       "      <th>2</th>\n",
       "      <td>001</td>\n",
       "      <td>00100138503</td>\n",
       "      <td>ASP</td>\n",
       "      <td>6489.0</td>\n",
       "      <td>ASPECT (QUALITATIF)</td>\n",
       "      <td>Aspect (qualitatif)</td>\n",
       "      <td>None</td>\n",
       "      <td>O</td>\n",
       "      <td>L</td>\n",
       "      <td>Aspect normal</td>\n",
       "      <td>SANS OBJET</td>\n",
       "      <td>X</td>\n",
       "      <td>None</td>\n",
       "      <td>None</td>\n",
       "      <td>0.00</td>\n",
       "      <td>None</td>\n",
       "      <td>00100147233</td>\n",
       "      <td>2024</td>\n",
       "      <td>2025-02-07</td>\n",
       "    </tr>\n",
       "    <tr>\n",
       "      <th>3</th>\n",
       "      <td>001</td>\n",
       "      <td>00100138503</td>\n",
       "      <td>CL2LIB</td>\n",
       "      <td>1398.0</td>\n",
       "      <td>CHLORE LIBRE</td>\n",
       "      <td>Chlore libre</td>\n",
       "      <td>None</td>\n",
       "      <td>N</td>\n",
       "      <td>T</td>\n",
       "      <td>0,30</td>\n",
       "      <td>mg(Cl2)/L</td>\n",
       "      <td>165</td>\n",
       "      <td>None</td>\n",
       "      <td>None</td>\n",
       "      <td>0.30</td>\n",
       "      <td>None</td>\n",
       "      <td>None</td>\n",
       "      <td>2024</td>\n",
       "      <td>2025-02-07</td>\n",
       "    </tr>\n",
       "    <tr>\n",
       "      <th>4</th>\n",
       "      <td>001</td>\n",
       "      <td>00100138503</td>\n",
       "      <td>CL2TOT</td>\n",
       "      <td>1399.0</td>\n",
       "      <td>CHLORE TOTAL</td>\n",
       "      <td>Chlore total</td>\n",
       "      <td>None</td>\n",
       "      <td>N</td>\n",
       "      <td>T</td>\n",
       "      <td>0,34</td>\n",
       "      <td>mg(Cl2)/L</td>\n",
       "      <td>165</td>\n",
       "      <td>None</td>\n",
       "      <td>None</td>\n",
       "      <td>0.34</td>\n",
       "      <td>None</td>\n",
       "      <td>None</td>\n",
       "      <td>2024</td>\n",
       "      <td>2025-02-07</td>\n",
       "    </tr>\n",
       "  </tbody>\n",
       "</table>\n",
       "</div>"
      ],
      "text/plain": [
       "  cddept referenceprel cdparametresiseeaux  cdparametre       libmajparametre  \\\n",
       "0    001   00100138503             ALTMICR       1370.0  ALUMINIUM TOTAL µG/L   \n",
       "1    001   00100138503                 ASP       6489.0   ASPECT (QUALITATIF)   \n",
       "2    001   00100138503                 ASP       6489.0   ASPECT (QUALITATIF)   \n",
       "3    001   00100138503              CL2LIB       1398.0          CHLORE LIBRE   \n",
       "4    001   00100138503              CL2TOT       1399.0          CHLORE TOTAL   \n",
       "\n",
       "        libminparametre libwebparametre qualitparam insituana          rqana  \\\n",
       "0  Aluminium total µg/l            None           N         L            <10   \n",
       "1   Aspect (qualitatif)            None           O         L  Aspect normal   \n",
       "2   Aspect (qualitatif)            None           O         L  Aspect normal   \n",
       "3          Chlore libre            None           N         T           0,30   \n",
       "4          Chlore total            None           N         T           0,34   \n",
       "\n",
       "  cdunitereferencesiseeaux cdunitereference limitequal     refqual  \\\n",
       "0                     µg/L              133       None  <=200 µg/L   \n",
       "1               SANS OBJET                X       None        None   \n",
       "2               SANS OBJET                X       None        None   \n",
       "3                mg(Cl2)/L              165       None        None   \n",
       "4                mg(Cl2)/L              165       None        None   \n",
       "\n",
       "   valtraduite   casparam referenceanl  de_partition de_ingestion_date  \n",
       "0         0.00  7429-90-5  00100147233          2024        2025-02-07  \n",
       "1         0.00       None  00100147232          2024        2025-02-07  \n",
       "2         0.00       None  00100147233          2024        2025-02-07  \n",
       "3         0.30       None         None          2024        2025-02-07  \n",
       "4         0.34       None         None          2024        2025-02-07  "
      ]
     },
     "execution_count": 4,
     "metadata": {},
     "output_type": "execute_result"
    }
   ],
   "source": [
    "res.head()"
   ]
  },
  {
   "cell_type": "code",
   "execution_count": 5,
   "metadata": {},
   "outputs": [
    {
     "data": {
      "text/plain": [
       "Index(['cddept', 'referenceprel', 'cdparametresiseeaux', 'cdparametre',\n",
       "       'libmajparametre', 'libminparametre', 'libwebparametre', 'qualitparam',\n",
       "       'insituana', 'rqana', 'cdunitereferencesiseeaux', 'cdunitereference',\n",
       "       'limitequal', 'refqual', 'valtraduite', 'casparam', 'referenceanl',\n",
       "       'de_partition', 'de_ingestion_date'],\n",
       "      dtype='object')"
      ]
     },
     "execution_count": 5,
     "metadata": {},
     "output_type": "execute_result"
    }
   ],
   "source": [
    "res.columns"
   ]
  },
  {
   "cell_type": "code",
   "execution_count": 6,
   "metadata": {},
   "outputs": [
    {
     "name": "stderr",
     "output_type": "stream",
     "text": [
      "C:\\Users\\emma.david\\AppData\\Local\\Temp\\ipykernel_19272\\58060409.py:2: SettingWithCopyWarning: \n",
      "A value is trying to be set on a copy of a slice from a DataFrame.\n",
      "Try using .loc[row_indexer,col_indexer] = value instead\n",
      "\n",
      "See the caveats in the documentation: https://pandas.pydata.org/pandas-docs/stable/user_guide/indexing.html#returning-a-view-versus-a-copy\n",
      "  res0[\"cdparametre\"] = res0[\"cdparametre\"].astype(int)\n"
     ]
    }
   ],
   "source": [
    "res0 = res.dropna(subset=[\"cdparametre\"])\n",
    "res0[\"cdparametre\"] = res0[\"cdparametre\"].astype(int)"
   ]
  },
  {
   "cell_type": "code",
   "execution_count": 7,
   "metadata": {},
   "outputs": [],
   "source": [
    "parametres = sqldf(\"\"\"SELECT DISTINCT cdparametre, libmajparametre, libminparametre,casparam\n",
    "FROM res0\"\"\")"
   ]
  },
  {
   "cell_type": "code",
   "execution_count": 12,
   "metadata": {},
   "outputs": [],
   "source": [
    "parametres.to_excel(\"param.xlsx\")"
   ]
  }
 ],
 "metadata": {
  "kernelspec": {
   "display_name": ".venv",
   "language": "python",
   "name": "python3"
  },
  "language_info": {
   "codemirror_mode": {
    "name": "ipython",
    "version": 3
   },
   "file_extension": ".py",
   "mimetype": "text/x-python",
   "name": "python",
   "nbconvert_exporter": "python",
   "pygments_lexer": "ipython3",
   "version": "3.12.8"
  }
 },
 "nbformat": 4,
 "nbformat_minor": 2
}
