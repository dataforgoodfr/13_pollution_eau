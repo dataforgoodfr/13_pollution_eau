{
 "cells": [
  {
   "cell_type": "markdown",
   "metadata": {},
   "source": [
    "# Calcul du nombre de prélèvements CVM non conforme par commune et par année\n",
    "\n",
    "L'objectif de ce notebook est de partir de la liste de communes cog_communes, et pour chaque commune et chaque année, calculer le nombre de prélèvements non conformes pour le CVM.\n",
    "\n",
    "Il y aura plusieurs aggrégations à faire :\n",
    "\n",
    "- commune (inseecommune) peut avoir plusieurs UDIs (cdreseau) **ET** un UDI peut avoir plusieurs communes (inseecommune) \n",
    "- un prélèvement (referenceprel) peut être rattaché à plusieurs UDIs (cdreseau)\n",
    "- un prélèvement (referenceprel) peut être composé de plusieurs paramètres (cdparametresiseeaux) ; mais dans le cas du CVM, il y a un seul paramètre selon la catégorisation de Pauline, donc c'est plus simple\n",
    "\n",
    "\n"
   ]
  },
  {
   "cell_type": "code",
   "execution_count": 1,
   "metadata": {},
   "outputs": [
    {
     "data": {
      "text/html": [
       "<span style=\"None\">The &#x27;toml&#x27; package isn&#x27;t installed. To load settings from pyproject.toml or ~/.jupysql/config, install with: pip install toml</span>"
      ],
      "text/plain": [
       "The 'toml' package isn't installed. To load settings from pyproject.toml or ~/.jupysql/config, install with: pip install toml"
      ]
     },
     "metadata": {},
     "output_type": "display_data"
    },
    {
     "data": {
      "text/html": [
       "<span style=\"None\">Connecting to &#x27;duckdb:///../../database/data.duckdb&#x27;</span>"
      ],
      "text/plain": [
       "Connecting to 'duckdb:///../../database/data.duckdb'"
      ]
     },
     "metadata": {},
     "output_type": "display_data"
    }
   ],
   "source": [
    "%load_ext sql\n",
    "%sql duckdb:///../../database/data.duckdb\n",
    "%config SqlMagic.displaylimit = 10"
   ]
  },
  {
   "cell_type": "code",
   "execution_count": 2,
   "metadata": {},
   "outputs": [
    {
     "data": {
      "text/html": [
       "<span style=\"None\">Running query in &#x27;duckdb:///../../database/data.duckdb&#x27;</span>"
      ],
      "text/plain": [
       "Running query in 'duckdb:///../../database/data.duckdb'"
      ]
     },
     "metadata": {},
     "output_type": "display_data"
    },
    {
     "data": {
      "application/vnd.jupyter.widget-view+json": {
       "model_id": "1eefc6d15244432e9b0ab56d7103a0a3",
       "version_major": 2,
       "version_minor": 0
      },
      "text/plain": [
       "FloatProgress(value=0.0, layout=Layout(width='auto'), style=ProgressStyle(bar_color='black'))"
      ]
     },
     "metadata": {},
     "output_type": "display_data"
    },
    {
     "data": {
      "text/html": [
       "<table>\n",
       "    <thead>\n",
       "        <tr>\n",
       "            <th>referenceprel</th>\n",
       "            <th>cdparametresiseeaux</th>\n",
       "            <th>valtraduite</th>\n",
       "            <th>limitequal</th>\n",
       "            <th>de_partition</th>\n",
       "            <th>limitequal_float</th>\n",
       "            <th>unite</th>\n",
       "            <th>categorie</th>\n",
       "            <th>cdreseau</th>\n",
       "            <th>inseecommune</th>\n",
       "            <th>datetimeprel</th>\n",
       "        </tr>\n",
       "    </thead>\n",
       "    <tbody>\n",
       "        <tr>\n",
       "            <td>00400121459</td>\n",
       "            <td>CHINE</td>\n",
       "            <td>0.000</td>\n",
       "            <td><=0,1 µg/L</td>\n",
       "            <td>2020</td>\n",
       "            <td>0.10000000149011612</td>\n",
       "            <td>µg/L</td>\n",
       "            <td>pesticides</td>\n",
       "            <td>004000129</td>\n",
       "            <td>04058</td>\n",
       "            <td>2020-04-09 11:49:00</td>\n",
       "        </tr>\n",
       "        <tr>\n",
       "            <td>00400121459</td>\n",
       "            <td>CHINOME</td>\n",
       "            <td>0.000</td>\n",
       "            <td><=0,1 µg/L</td>\n",
       "            <td>2020</td>\n",
       "            <td>0.10000000149011612</td>\n",
       "            <td>µg/L</td>\n",
       "            <td>pesticides</td>\n",
       "            <td>004000129</td>\n",
       "            <td>04058</td>\n",
       "            <td>2020-04-09 11:49:00</td>\n",
       "        </tr>\n",
       "        <tr>\n",
       "            <td>00400121459</td>\n",
       "            <td>CHLORB</td>\n",
       "            <td>0.000</td>\n",
       "            <td><=0,1 µg/L</td>\n",
       "            <td>2020</td>\n",
       "            <td>0.10000000149011612</td>\n",
       "            <td>µg/L</td>\n",
       "            <td>pesticides</td>\n",
       "            <td>004000129</td>\n",
       "            <td>04058</td>\n",
       "            <td>2020-04-09 11:49:00</td>\n",
       "        </tr>\n",
       "        <tr>\n",
       "            <td>00400121459</td>\n",
       "            <td>CHLPM</td>\n",
       "            <td>0.000</td>\n",
       "            <td><=0,1 µg/L</td>\n",
       "            <td>2020</td>\n",
       "            <td>0.10000000149011612</td>\n",
       "            <td>µg/L</td>\n",
       "            <td>pesticides</td>\n",
       "            <td>004000129</td>\n",
       "            <td>04058</td>\n",
       "            <td>2020-04-09 11:49:00</td>\n",
       "        </tr>\n",
       "        <tr>\n",
       "            <td>00400121459</td>\n",
       "            <td>CHLX</td>\n",
       "            <td>0.000</td>\n",
       "            <td><=0,1 µg/L</td>\n",
       "            <td>2020</td>\n",
       "            <td>0.10000000149011612</td>\n",
       "            <td>µg/L</td>\n",
       "            <td>pesticides</td>\n",
       "            <td>004000129</td>\n",
       "            <td>04058</td>\n",
       "            <td>2020-04-09 11:49:00</td>\n",
       "        </tr>\n",
       "    </tbody>\n",
       "</table>"
      ],
      "text/plain": [
       "+---------------+---------------------+-------------+------------+--------------+---------------------+-------+------------+-----------+--------------+---------------------+\n",
       "| referenceprel | cdparametresiseeaux | valtraduite | limitequal | de_partition |   limitequal_float  | unite | categorie  |  cdreseau | inseecommune |     datetimeprel    |\n",
       "+---------------+---------------------+-------------+------------+--------------+---------------------+-------+------------+-----------+--------------+---------------------+\n",
       "|  00400121459  |        CHINE        |    0.000    | <=0,1 µg/L |     2020     | 0.10000000149011612 |  µg/L | pesticides | 004000129 |    04058     | 2020-04-09 11:49:00 |\n",
       "|  00400121459  |       CHINOME       |    0.000    | <=0,1 µg/L |     2020     | 0.10000000149011612 |  µg/L | pesticides | 004000129 |    04058     | 2020-04-09 11:49:00 |\n",
       "|  00400121459  |        CHLORB       |    0.000    | <=0,1 µg/L |     2020     | 0.10000000149011612 |  µg/L | pesticides | 004000129 |    04058     | 2020-04-09 11:49:00 |\n",
       "|  00400121459  |        CHLPM        |    0.000    | <=0,1 µg/L |     2020     | 0.10000000149011612 |  µg/L | pesticides | 004000129 |    04058     | 2020-04-09 11:49:00 |\n",
       "|  00400121459  |         CHLX        |    0.000    | <=0,1 µg/L |     2020     | 0.10000000149011612 |  µg/L | pesticides | 004000129 |    04058     | 2020-04-09 11:49:00 |\n",
       "+---------------+---------------------+-------------+------------+--------------+---------------------+-------+------------+-----------+--------------+---------------------+"
      ]
     },
     "execution_count": 2,
     "metadata": {},
     "output_type": "execute_result"
    }
   ],
   "source": [
    "%%sql\n",
    "SELECT * FROM int__resultats_udi_communes\n",
    "LIMIT 5"
   ]
  },
  {
   "attachments": {
    "c1432b02-ee7d-40a1-bf3c-9c9d09f9c215.PNG": {
     "image/png": "[encoded data removed]"
    }
   },
   "cell_type": "markdown",
   "metadata": {},
   "source": [
    "**Pour le cas dernier prélèvement**\n",
    "    \n",
    "![cvm_last.PNG](attachment:c1432b02-ee7d-40a1-bf3c-9c9d09f9c215.PNG)"
   ]
  },
  {
   "attachments": {
    "d8be569e-3eb7-4527-b1a3-01adfe6960f4.PNG": {
     "image/png": "[encoded data removed]"
    }
   },
   "cell_type": "markdown",
   "metadata": {},
   "source": [
    "pour le cas \"pas qunatifié\"\n",
    "\n",
    "![non_qualifié.PNG](attachment:d8be569e-3eb7-4527-b1a3-01adfe6960f4.PNG)"
   ]
  },
  {
   "cell_type": "markdown",
   "metadata": {},
   "source": [
    "## Les résultats par communes - Last prelevement "
   ]
  },
  {
   "cell_type": "code",
   "execution_count": 3,
   "metadata": {},
   "outputs": [
    {
     "data": {
      "text/html": [
       "<span style=\"None\">Running query in &#x27;duckdb:///../../database/data.duckdb&#x27;</span>"
      ],
      "text/plain": [
       "Running query in 'duckdb:///../../database/data.duckdb'"
      ]
     },
     "metadata": {},
     "output_type": "display_data"
    },
    {
     "data": {
      "application/vnd.jupyter.widget-view+json": {
       "model_id": "da263dfa52704ce09f41836ccf8464aa",
       "version_major": 2,
       "version_minor": 0
      },
      "text/plain": [
       "FloatProgress(value=0.0, layout=Layout(width='auto'), style=ProgressStyle(bar_color='black'))"
      ]
     },
     "metadata": {},
     "output_type": "display_data"
    },
    {
     "data": {
      "text/html": [
       "<table>\n",
       "    <thead>\n",
       "        <tr>\n",
       "            <th>cdreseau</th>\n",
       "            <th>categorie</th>\n",
       "            <th>cdparametresiseeaux</th>\n",
       "            <th>last_datetimeprel</th>\n",
       "            <th>periode</th>\n",
       "            <th>resultat</th>\n",
       "        </tr>\n",
       "    </thead>\n",
       "    <tbody>\n",
       "        <tr>\n",
       "            <td>033002231</td>\n",
       "            <td>cvm</td>\n",
       "            <td>CLVYL</td>\n",
       "            <td>2024-12-23 09:45:00</td>\n",
       "            <td>dernier prélévement</td>\n",
       "            <td>non quantifié</td>\n",
       "        </tr>\n",
       "        <tr>\n",
       "            <td>033002236</td>\n",
       "            <td>cvm</td>\n",
       "            <td>CLVYL</td>\n",
       "            <td>2024-12-23 09:45:00</td>\n",
       "            <td>dernier prélévement</td>\n",
       "            <td>non quantifié</td>\n",
       "        </tr>\n",
       "        <tr>\n",
       "            <td>034000083</td>\n",
       "            <td>cvm</td>\n",
       "            <td>CLVYL</td>\n",
       "            <td>2024-06-20 13:43:00</td>\n",
       "            <td>dernier prélévement</td>\n",
       "            <td>< 0,5 µg/L</td>\n",
       "        </tr>\n",
       "        <tr>\n",
       "            <td>034000437</td>\n",
       "            <td>cvm</td>\n",
       "            <td>CLVYL</td>\n",
       "            <td>2024-09-10 11:34:00</td>\n",
       "            <td>dernier prélévement</td>\n",
       "            <td>non quantifié</td>\n",
       "        </tr>\n",
       "        <tr>\n",
       "            <td>034000519</td>\n",
       "            <td>cvm</td>\n",
       "            <td>CLVYL</td>\n",
       "            <td>2024-08-29 10:17:00</td>\n",
       "            <td>dernier prélévement</td>\n",
       "            <td>< 0,5 µg/L</td>\n",
       "        </tr>\n",
       "        <tr>\n",
       "            <td>034000648</td>\n",
       "            <td>cvm</td>\n",
       "            <td>CLVYL</td>\n",
       "            <td>2024-08-20 14:28:00</td>\n",
       "            <td>dernier prélévement</td>\n",
       "            <td>non quantifié</td>\n",
       "        </tr>\n",
       "        <tr>\n",
       "            <td>034000658</td>\n",
       "            <td>cvm</td>\n",
       "            <td>CLVYL</td>\n",
       "            <td>2024-09-25 11:42:00</td>\n",
       "            <td>dernier prélévement</td>\n",
       "            <td>non quantifié</td>\n",
       "        </tr>\n",
       "        <tr>\n",
       "            <td>034000708</td>\n",
       "            <td>cvm</td>\n",
       "            <td>CLVYL</td>\n",
       "            <td>2024-10-24 11:14:00</td>\n",
       "            <td>dernier prélévement</td>\n",
       "            <td>non quantifié</td>\n",
       "        </tr>\n",
       "        <tr>\n",
       "            <td>034000800</td>\n",
       "            <td>cvm</td>\n",
       "            <td>CLVYL</td>\n",
       "            <td>2024-08-05 11:52:00</td>\n",
       "            <td>dernier prélévement</td>\n",
       "            <td>non quantifié</td>\n",
       "        </tr>\n",
       "        <tr>\n",
       "            <td>034001613</td>\n",
       "            <td>cvm</td>\n",
       "            <td>CLVYL</td>\n",
       "            <td>2024-09-11 09:52:00</td>\n",
       "            <td>dernier prélévement</td>\n",
       "            <td>< 0,5 µg/L</td>\n",
       "        </tr>\n",
       "    </tbody>\n",
       "</table>\n",
       "<span style=\"font-style:italic;text-align:center;\">Truncated to <a href=\"https://jupysql.ploomber.io/en/latest/api/configuration.html#displaylimit\">displaylimit</a> of 10.</span>"
      ],
      "text/plain": [
       "+-----------+-----------+---------------------+---------------------+---------------------+---------------+\n",
       "|  cdreseau | categorie | cdparametresiseeaux |  last_datetimeprel  |       periode       |    resultat   |\n",
       "+-----------+-----------+---------------------+---------------------+---------------------+---------------+\n",
       "| 033002231 |    cvm    |        CLVYL        | 2024-12-23 09:45:00 | dernier prélévement | non quantifié |\n",
       "| 033002236 |    cvm    |        CLVYL        | 2024-12-23 09:45:00 | dernier prélévement | non quantifié |\n",
       "| 034000083 |    cvm    |        CLVYL        | 2024-06-20 13:43:00 | dernier prélévement |   < 0,5 µg/L  |\n",
       "| 034000437 |    cvm    |        CLVYL        | 2024-09-10 11:34:00 | dernier prélévement | non quantifié |\n",
       "| 034000519 |    cvm    |        CLVYL        | 2024-08-29 10:17:00 | dernier prélévement |   < 0,5 µg/L  |\n",
       "| 034000648 |    cvm    |        CLVYL        | 2024-08-20 14:28:00 | dernier prélévement | non quantifié |\n",
       "| 034000658 |    cvm    |        CLVYL        | 2024-09-25 11:42:00 | dernier prélévement | non quantifié |\n",
       "| 034000708 |    cvm    |        CLVYL        | 2024-10-24 11:14:00 | dernier prélévement | non quantifié |\n",
       "| 034000800 |    cvm    |        CLVYL        | 2024-08-05 11:52:00 | dernier prélévement | non quantifié |\n",
       "| 034001613 |    cvm    |        CLVYL        | 2024-09-11 09:52:00 | dernier prélévement |   < 0,5 µg/L  |\n",
       "+-----------+-----------+---------------------+---------------------+---------------------+---------------+\n",
       "Truncated to displaylimit of 10."
      ]
     },
     "execution_count": 3,
     "metadata": {},
     "output_type": "execute_result"
    }
   ],
   "source": [
    "%%sql --save int__resultats_cvm_udi_dernier\n",
    "WITH\n",
    "last_pvl AS (\n",
    "    SELECT\n",
    "        cdreseau,\n",
    "        categorie,\n",
    "        cdparametresiseeaux,\n",
    "        datetimeprel,\n",
    "        valtraduite,\n",
    "        limitequal_float,\n",
    "        ROW_NUMBER()\n",
    "            OVER (\n",
    "                PARTITION BY cdreseau, cdparametresiseeaux\n",
    "                ORDER BY datetimeprel DESC\n",
    "            )\n",
    "            AS row_number\n",
    "    FROM\n",
    "        int__resultats_udi_communes\n",
    "    WHERE\n",
    "        categorie = 'cvm' -- à supprimer pour avoir pour tout\n",
    "        AND\n",
    "        -- On garde les prélèvements de moins d'un an\n",
    "        CURRENT_DATE - datetimeprel < INTERVAL 1 YEAR\n",
    ")\n",
    "\n",
    "SELECT\n",
    "    last_pvl.cdreseau,\n",
    "    last_pvl.categorie,\n",
    "    last_pvl.cdparametresiseeaux,\n",
    "    last_pvl.datetimeprel AS last_datetimeprel,\n",
    "    'dernier prélévement' AS periode,\n",
    "    CASE\n",
    "        WHEN\n",
    "            last_pvl.valtraduite = 0\n",
    "            OR last_pvl.valtraduite IS NULL\n",
    "            OR last_pvl.limitequal_float IS NULL\n",
    "            THEN 'non quantifié'\n",
    "        WHEN\n",
    "            last_pvl.valtraduite >= last_pvl.limitequal_float\n",
    "            THEN '>= 0,5 µg/L'\n",
    "        WHEN\n",
    "            last_pvl.valtraduite < last_pvl.limitequal_float\n",
    "            THEN '< 0,5 µg/L'\n",
    "        ELSE 'Check SQL'\n",
    "    END AS resultat\n",
    "FROM\n",
    "    last_pvl\n",
    "WHERE\n",
    "    last_pvl.row_number = 1\n"
   ]
  },
  {
   "cell_type": "code",
   "execution_count": 4,
   "metadata": {},
   "outputs": [
    {
     "data": {
      "text/html": [
       "<span style=\"None\">Running query in &#x27;duckdb:///../../database/data.duckdb&#x27;</span>"
      ],
      "text/plain": [
       "Running query in 'duckdb:///../../database/data.duckdb'"
      ]
     },
     "metadata": {},
     "output_type": "display_data"
    },
    {
     "data": {
      "application/vnd.jupyter.widget-view+json": {
       "model_id": "912cf00e9fd244209df7855d1f833fca",
       "version_major": 2,
       "version_minor": 0
      },
      "text/plain": [
       "FloatProgress(value=0.0, layout=Layout(width='auto'), style=ProgressStyle(bar_color='black'))"
      ]
     },
     "metadata": {},
     "output_type": "display_data"
    },
    {
     "data": {
      "text/html": [
       "<table>\n",
       "    <thead>\n",
       "        <tr>\n",
       "            <th>resultat</th>\n",
       "            <th>max(cdreseau)</th>\n",
       "            <th>min(cdreseau)</th>\n",
       "        </tr>\n",
       "    </thead>\n",
       "    <tbody>\n",
       "        <tr>\n",
       "            <td>>= 0,5 µg/L</td>\n",
       "            <td>087003637</td>\n",
       "            <td>001001073</td>\n",
       "        </tr>\n",
       "        <tr>\n",
       "            <td>non quantifié</td>\n",
       "            <td>976003489</td>\n",
       "            <td>001000241</td>\n",
       "        </tr>\n",
       "        <tr>\n",
       "            <td>< 0,5 µg/L</td>\n",
       "            <td>095004048</td>\n",
       "            <td>001000235</td>\n",
       "        </tr>\n",
       "    </tbody>\n",
       "</table>"
      ],
      "text/plain": [
       "+---------------+---------------+---------------+\n",
       "|    resultat   | max(cdreseau) | min(cdreseau) |\n",
       "+---------------+---------------+---------------+\n",
       "|  >= 0,5 µg/L  |   087003637   |   001001073   |\n",
       "| non quantifié |   976003489   |   001000241   |\n",
       "|   < 0,5 µg/L  |   095004048   |   001000235   |\n",
       "+---------------+---------------+---------------+"
      ]
     },
     "execution_count": 4,
     "metadata": {},
     "output_type": "execute_result"
    }
   ],
   "source": [
    "%%sql --with int__resultats_cvm_udi_dernier\n",
    "SELECT DISTINCT\n",
    "    resultat, MAX(cdreseau), MIN(cdreseau)\n",
    "FROM\n",
    "    int__resultats_cvm_udi_dernier\n",
    "GROUP BY \n",
    "    1"
   ]
  },
  {
   "cell_type": "markdown",
   "metadata": {},
   "source": [
    "# Check"
   ]
  },
  {
   "cell_type": "markdown",
   "metadata": {},
   "source": [
    "**cdreseau = 976003489**"
   ]
  },
  {
   "cell_type": "code",
   "execution_count": 5,
   "metadata": {},
   "outputs": [
    {
     "data": {
      "text/html": [
       "<span style=\"None\">Running query in &#x27;duckdb:///../../database/data.duckdb&#x27;</span>"
      ],
      "text/plain": [
       "Running query in 'duckdb:///../../database/data.duckdb'"
      ]
     },
     "metadata": {},
     "output_type": "display_data"
    },
    {
     "data": {
      "text/html": [
       "<table>\n",
       "    <thead>\n",
       "        <tr>\n",
       "            <th>referenceprel</th>\n",
       "            <th>cdparametresiseeaux</th>\n",
       "            <th>valtraduite</th>\n",
       "            <th>limitequal</th>\n",
       "            <th>de_partition</th>\n",
       "            <th>limitequal_float</th>\n",
       "            <th>unite</th>\n",
       "            <th>categorie</th>\n",
       "            <th>cdreseau</th>\n",
       "            <th>inseecommune</th>\n",
       "            <th>datetimeprel</th>\n",
       "        </tr>\n",
       "    </thead>\n",
       "    <tbody>\n",
       "        <tr>\n",
       "            <td>97600031910</td>\n",
       "            <td>CLVYL</td>\n",
       "            <td>0.000</td>\n",
       "            <td><=0.5 µg/L</td>\n",
       "            <td>2024</td>\n",
       "            <td>0.5</td>\n",
       "            <td>µg/L</td>\n",
       "            <td>cvm</td>\n",
       "            <td>976003489</td>\n",
       "            <td>97604</td>\n",
       "            <td>2024-07-16 08:30:00</td>\n",
       "        </tr>\n",
       "        <tr>\n",
       "            <td>97600031910</td>\n",
       "            <td>CLVYL</td>\n",
       "            <td>0.000</td>\n",
       "            <td><=0.5 µg/L</td>\n",
       "            <td>2024</td>\n",
       "            <td>0.5</td>\n",
       "            <td>µg/L</td>\n",
       "            <td>cvm</td>\n",
       "            <td>976003489</td>\n",
       "            <td>97609</td>\n",
       "            <td>2024-07-16 08:30:00</td>\n",
       "        </tr>\n",
       "        <tr>\n",
       "            <td>97600031910</td>\n",
       "            <td>CLVYL</td>\n",
       "            <td>0.000</td>\n",
       "            <td><=0.5 µg/L</td>\n",
       "            <td>2024</td>\n",
       "            <td>0.5</td>\n",
       "            <td>µg/L</td>\n",
       "            <td>cvm</td>\n",
       "            <td>976003489</td>\n",
       "            <td>97606</td>\n",
       "            <td>2024-07-16 08:30:00</td>\n",
       "        </tr>\n",
       "        <tr>\n",
       "            <td>97600031910</td>\n",
       "            <td>CLVYL</td>\n",
       "            <td>0.000</td>\n",
       "            <td><=0.5 µg/L</td>\n",
       "            <td>2024</td>\n",
       "            <td>0.5</td>\n",
       "            <td>µg/L</td>\n",
       "            <td>cvm</td>\n",
       "            <td>976003489</td>\n",
       "            <td>97603</td>\n",
       "            <td>2024-07-16 08:30:00</td>\n",
       "        </tr>\n",
       "    </tbody>\n",
       "</table>"
      ],
      "text/plain": [
       "+---------------+---------------------+-------------+------------+--------------+------------------+-------+-----------+-----------+--------------+---------------------+\n",
       "| referenceprel | cdparametresiseeaux | valtraduite | limitequal | de_partition | limitequal_float | unite | categorie |  cdreseau | inseecommune |     datetimeprel    |\n",
       "+---------------+---------------------+-------------+------------+--------------+------------------+-------+-----------+-----------+--------------+---------------------+\n",
       "|  97600031910  |        CLVYL        |    0.000    | <=0.5 µg/L |     2024     |       0.5        |  µg/L |    cvm    | 976003489 |    97604     | 2024-07-16 08:30:00 |\n",
       "|  97600031910  |        CLVYL        |    0.000    | <=0.5 µg/L |     2024     |       0.5        |  µg/L |    cvm    | 976003489 |    97609     | 2024-07-16 08:30:00 |\n",
       "|  97600031910  |        CLVYL        |    0.000    | <=0.5 µg/L |     2024     |       0.5        |  µg/L |    cvm    | 976003489 |    97606     | 2024-07-16 08:30:00 |\n",
       "|  97600031910  |        CLVYL        |    0.000    | <=0.5 µg/L |     2024     |       0.5        |  µg/L |    cvm    | 976003489 |    97603     | 2024-07-16 08:30:00 |\n",
       "+---------------+---------------------+-------------+------------+--------------+------------------+-------+-----------+-----------+--------------+---------------------+"
      ]
     },
     "execution_count": 5,
     "metadata": {},
     "output_type": "execute_result"
    }
   ],
   "source": [
    "%%sql\n",
    " SELECT \n",
    "    *\n",
    " FROM\n",
    "   int__resultats_udi_communes\n",
    "WHERE\n",
    "    cdreseau = '976003489'\n",
    "    AND categorie = 'cvm'\n",
    "    AND de_partition = '2024'\n",
    "ORDER BY \n",
    "    datetimeprel DESC\n"
   ]
  },
  {
   "cell_type": "markdown",
   "metadata": {},
   "source": [
    "On a plusieurs fois la même ligne avec inseecommune commune différent"
   ]
  },
  {
   "cell_type": "code",
   "execution_count": 6,
   "metadata": {},
   "outputs": [
    {
     "data": {
      "text/html": [
       "<span style=\"None\">Running query in &#x27;duckdb:///../../database/data.duckdb&#x27;</span>"
      ],
      "text/plain": [
       "Running query in 'duckdb:///../../database/data.duckdb'"
      ]
     },
     "metadata": {},
     "output_type": "display_data"
    },
    {
     "data": {
      "text/html": [
       "<table>\n",
       "    <thead>\n",
       "        <tr>\n",
       "            <th>cdreseau</th>\n",
       "            <th>categorie</th>\n",
       "            <th>cdparametresiseeaux</th>\n",
       "            <th>last_datetimeprel</th>\n",
       "            <th>periode</th>\n",
       "            <th>resultat</th>\n",
       "        </tr>\n",
       "    </thead>\n",
       "    <tbody>\n",
       "        <tr>\n",
       "            <td>976003489</td>\n",
       "            <td>cvm</td>\n",
       "            <td>CLVYL</td>\n",
       "            <td>2024-07-16 08:30:00</td>\n",
       "            <td>dernier prélévement</td>\n",
       "            <td>non quantifié</td>\n",
       "        </tr>\n",
       "    </tbody>\n",
       "</table>"
      ],
      "text/plain": [
       "+-----------+-----------+---------------------+---------------------+---------------------+---------------+\n",
       "|  cdreseau | categorie | cdparametresiseeaux |  last_datetimeprel  |       periode       |    resultat   |\n",
       "+-----------+-----------+---------------------+---------------------+---------------------+---------------+\n",
       "| 976003489 |    cvm    |        CLVYL        | 2024-07-16 08:30:00 | dernier prélévement | non quantifié |\n",
       "+-----------+-----------+---------------------+---------------------+---------------------+---------------+"
      ]
     },
     "execution_count": 6,
     "metadata": {},
     "output_type": "execute_result"
    }
   ],
   "source": [
    "%%sql --with int__resultats_cvm_udi_dernier \n",
    " SELECT \n",
    "   *\n",
    " FROM\n",
    "   int__resultats_cvm_udi_dernier\n",
    "WHERE\n",
    "    cdreseau = '976003489'\n",
    "    AND categorie = 'cvm'"
   ]
  },
  {
   "cell_type": "markdown",
   "metadata": {},
   "source": [
    "On a bien la bonne valeur"
   ]
  },
  {
   "cell_type": "markdown",
   "metadata": {},
   "source": [
    "**cdreseau = 001000241**"
   ]
  },
  {
   "cell_type": "code",
   "execution_count": 7,
   "metadata": {},
   "outputs": [
    {
     "data": {
      "text/html": [
       "<span style=\"None\">Running query in &#x27;duckdb:///../../database/data.duckdb&#x27;</span>"
      ],
      "text/plain": [
       "Running query in 'duckdb:///../../database/data.duckdb'"
      ]
     },
     "metadata": {},
     "output_type": "display_data"
    },
    {
     "data": {
      "text/html": [
       "<table>\n",
       "    <thead>\n",
       "        <tr>\n",
       "            <th>referenceprel</th>\n",
       "            <th>cdparametresiseeaux</th>\n",
       "            <th>valtraduite</th>\n",
       "            <th>limitequal</th>\n",
       "            <th>de_partition</th>\n",
       "            <th>limitequal_float</th>\n",
       "            <th>unite</th>\n",
       "            <th>categorie</th>\n",
       "            <th>cdreseau</th>\n",
       "            <th>inseecommune</th>\n",
       "            <th>datetimeprel</th>\n",
       "        </tr>\n",
       "    </thead>\n",
       "    <tbody>\n",
       "        <tr>\n",
       "            <td>00100143522</td>\n",
       "            <td>CLVYL</td>\n",
       "            <td>0.000</td>\n",
       "            <td><=0.5 µg/L</td>\n",
       "            <td>2024</td>\n",
       "            <td>0.5</td>\n",
       "            <td>µg/L</td>\n",
       "            <td>cvm</td>\n",
       "            <td>001000241</td>\n",
       "            <td>01406</td>\n",
       "            <td>2024-12-31 14:00:00</td>\n",
       "        </tr>\n",
       "        <tr>\n",
       "            <td>00100143522</td>\n",
       "            <td>CLVYL</td>\n",
       "            <td>0.000</td>\n",
       "            <td><=0.5 µg/L</td>\n",
       "            <td>2024</td>\n",
       "            <td>0.5</td>\n",
       "            <td>µg/L</td>\n",
       "            <td>cvm</td>\n",
       "            <td>001000241</td>\n",
       "            <td>01439</td>\n",
       "            <td>2024-12-31 14:00:00</td>\n",
       "        </tr>\n",
       "        <tr>\n",
       "            <td>00100143522</td>\n",
       "            <td>CLVYL</td>\n",
       "            <td>0.000</td>\n",
       "            <td><=0.5 µg/L</td>\n",
       "            <td>2024</td>\n",
       "            <td>0.5</td>\n",
       "            <td>µg/L</td>\n",
       "            <td>cvm</td>\n",
       "            <td>001000241</td>\n",
       "            <td>01305</td>\n",
       "            <td>2024-12-31 14:00:00</td>\n",
       "        </tr>\n",
       "        <tr>\n",
       "            <td>00100143522</td>\n",
       "            <td>CLVYL</td>\n",
       "            <td>0.000</td>\n",
       "            <td><=0.5 µg/L</td>\n",
       "            <td>2024</td>\n",
       "            <td>0.5</td>\n",
       "            <td>µg/L</td>\n",
       "            <td>cvm</td>\n",
       "            <td>001000241</td>\n",
       "            <td>01050</td>\n",
       "            <td>2024-12-31 14:00:00</td>\n",
       "        </tr>\n",
       "        <tr>\n",
       "            <td>00100143522</td>\n",
       "            <td>CLVYL</td>\n",
       "            <td>0.000</td>\n",
       "            <td><=0.5 µg/L</td>\n",
       "            <td>2024</td>\n",
       "            <td>0.5</td>\n",
       "            <td>µg/L</td>\n",
       "            <td>cvm</td>\n",
       "            <td>001000241</td>\n",
       "            <td>01139</td>\n",
       "            <td>2024-12-31 14:00:00</td>\n",
       "        </tr>\n",
       "        <tr>\n",
       "            <td>00100143522</td>\n",
       "            <td>CLVYL</td>\n",
       "            <td>0.000</td>\n",
       "            <td><=0.5 µg/L</td>\n",
       "            <td>2024</td>\n",
       "            <td>0.5</td>\n",
       "            <td>µg/L</td>\n",
       "            <td>cvm</td>\n",
       "            <td>001000241</td>\n",
       "            <td>01102</td>\n",
       "            <td>2024-12-31 14:00:00</td>\n",
       "        </tr>\n",
       "        <tr>\n",
       "            <td>00100143522</td>\n",
       "            <td>CLVYL</td>\n",
       "            <td>0.000</td>\n",
       "            <td><=0.5 µg/L</td>\n",
       "            <td>2024</td>\n",
       "            <td>0.5</td>\n",
       "            <td>µg/L</td>\n",
       "            <td>cvm</td>\n",
       "            <td>001000241</td>\n",
       "            <td>01323</td>\n",
       "            <td>2024-12-31 14:00:00</td>\n",
       "        </tr>\n",
       "        <tr>\n",
       "            <td>00100143522</td>\n",
       "            <td>CLVYL</td>\n",
       "            <td>0.000</td>\n",
       "            <td><=0.5 µg/L</td>\n",
       "            <td>2024</td>\n",
       "            <td>0.5</td>\n",
       "            <td>µg/L</td>\n",
       "            <td>cvm</td>\n",
       "            <td>001000241</td>\n",
       "            <td>01175</td>\n",
       "            <td>2024-12-31 14:00:00</td>\n",
       "        </tr>\n",
       "        <tr>\n",
       "            <td>00100143522</td>\n",
       "            <td>CLVYL</td>\n",
       "            <td>0.000</td>\n",
       "            <td><=0.5 µg/L</td>\n",
       "            <td>2024</td>\n",
       "            <td>0.5</td>\n",
       "            <td>µg/L</td>\n",
       "            <td>cvm</td>\n",
       "            <td>001000241</td>\n",
       "            <td>01380</td>\n",
       "            <td>2024-12-31 14:00:00</td>\n",
       "        </tr>\n",
       "        <tr>\n",
       "            <td>00100143522</td>\n",
       "            <td>CLVYL</td>\n",
       "            <td>0.000</td>\n",
       "            <td><=0.5 µg/L</td>\n",
       "            <td>2024</td>\n",
       "            <td>0.5</td>\n",
       "            <td>µg/L</td>\n",
       "            <td>cvm</td>\n",
       "            <td>001000241</td>\n",
       "            <td>01437</td>\n",
       "            <td>2024-12-31 14:00:00</td>\n",
       "        </tr>\n",
       "    </tbody>\n",
       "</table>\n",
       "<span style=\"font-style:italic;text-align:center;\">Truncated to <a href=\"https://jupysql.ploomber.io/en/latest/api/configuration.html#displaylimit\">displaylimit</a> of 10.</span>"
      ],
      "text/plain": [
       "+---------------+---------------------+-------------+------------+--------------+------------------+-------+-----------+-----------+--------------+---------------------+\n",
       "| referenceprel | cdparametresiseeaux | valtraduite | limitequal | de_partition | limitequal_float | unite | categorie |  cdreseau | inseecommune |     datetimeprel    |\n",
       "+---------------+---------------------+-------------+------------+--------------+------------------+-------+-----------+-----------+--------------+---------------------+\n",
       "|  00100143522  |        CLVYL        |    0.000    | <=0.5 µg/L |     2024     |       0.5        |  µg/L |    cvm    | 001000241 |    01406     | 2024-12-31 14:00:00 |\n",
       "|  00100143522  |        CLVYL        |    0.000    | <=0.5 µg/L |     2024     |       0.5        |  µg/L |    cvm    | 001000241 |    01439     | 2024-12-31 14:00:00 |\n",
       "|  00100143522  |        CLVYL        |    0.000    | <=0.5 µg/L |     2024     |       0.5        |  µg/L |    cvm    | 001000241 |    01305     | 2024-12-31 14:00:00 |\n",
       "|  00100143522  |        CLVYL        |    0.000    | <=0.5 µg/L |     2024     |       0.5        |  µg/L |    cvm    | 001000241 |    01050     | 2024-12-31 14:00:00 |\n",
       "|  00100143522  |        CLVYL        |    0.000    | <=0.5 µg/L |     2024     |       0.5        |  µg/L |    cvm    | 001000241 |    01139     | 2024-12-31 14:00:00 |\n",
       "|  00100143522  |        CLVYL        |    0.000    | <=0.5 µg/L |     2024     |       0.5        |  µg/L |    cvm    | 001000241 |    01102     | 2024-12-31 14:00:00 |\n",
       "|  00100143522  |        CLVYL        |    0.000    | <=0.5 µg/L |     2024     |       0.5        |  µg/L |    cvm    | 001000241 |    01323     | 2024-12-31 14:00:00 |\n",
       "|  00100143522  |        CLVYL        |    0.000    | <=0.5 µg/L |     2024     |       0.5        |  µg/L |    cvm    | 001000241 |    01175     | 2024-12-31 14:00:00 |\n",
       "|  00100143522  |        CLVYL        |    0.000    | <=0.5 µg/L |     2024     |       0.5        |  µg/L |    cvm    | 001000241 |    01380     | 2024-12-31 14:00:00 |\n",
       "|  00100143522  |        CLVYL        |    0.000    | <=0.5 µg/L |     2024     |       0.5        |  µg/L |    cvm    | 001000241 |    01437     | 2024-12-31 14:00:00 |\n",
       "+---------------+---------------------+-------------+------------+--------------+------------------+-------+-----------+-----------+--------------+---------------------+\n",
       "Truncated to displaylimit of 10."
      ]
     },
     "execution_count": 7,
     "metadata": {},
     "output_type": "execute_result"
    }
   ],
   "source": [
    "%%sql\n",
    " SELECT \n",
    "    *\n",
    " FROM\n",
    "   int__resultats_udi_communes\n",
    "WHERE\n",
    "    cdreseau = '001000241'\n",
    "    AND categorie = 'cvm'\n",
    "    AND de_partition = '2024'\n",
    "ORDER BY \n",
    "    datetimeprel DESC"
   ]
  },
  {
   "cell_type": "code",
   "execution_count": 8,
   "metadata": {},
   "outputs": [
    {
     "data": {
      "text/html": [
       "<span style=\"None\">Running query in &#x27;duckdb:///../../database/data.duckdb&#x27;</span>"
      ],
      "text/plain": [
       "Running query in 'duckdb:///../../database/data.duckdb'"
      ]
     },
     "metadata": {},
     "output_type": "display_data"
    },
    {
     "data": {
      "text/html": [
       "<table>\n",
       "    <thead>\n",
       "        <tr>\n",
       "            <th>cdreseau</th>\n",
       "            <th>categorie</th>\n",
       "            <th>cdparametresiseeaux</th>\n",
       "            <th>last_datetimeprel</th>\n",
       "            <th>periode</th>\n",
       "            <th>resultat</th>\n",
       "        </tr>\n",
       "    </thead>\n",
       "    <tbody>\n",
       "        <tr>\n",
       "            <td>001000241</td>\n",
       "            <td>cvm</td>\n",
       "            <td>CLVYL</td>\n",
       "            <td>2024-12-31 14:00:00</td>\n",
       "            <td>dernier prélévement</td>\n",
       "            <td>non quantifié</td>\n",
       "        </tr>\n",
       "    </tbody>\n",
       "</table>"
      ],
      "text/plain": [
       "+-----------+-----------+---------------------+---------------------+---------------------+---------------+\n",
       "|  cdreseau | categorie | cdparametresiseeaux |  last_datetimeprel  |       periode       |    resultat   |\n",
       "+-----------+-----------+---------------------+---------------------+---------------------+---------------+\n",
       "| 001000241 |    cvm    |        CLVYL        | 2024-12-31 14:00:00 | dernier prélévement | non quantifié |\n",
       "+-----------+-----------+---------------------+---------------------+---------------------+---------------+"
      ]
     },
     "execution_count": 8,
     "metadata": {},
     "output_type": "execute_result"
    }
   ],
   "source": [
    "%%sql --with int__resultats_cvm_udi_dernier \n",
    " SELECT \n",
    "   *\n",
    " FROM\n",
    "   int__resultats_cvm_udi_dernier\n",
    "WHERE\n",
    "    cdreseau = '001000241'\n",
    "    AND categorie = 'cvm'"
   ]
  },
  {
   "cell_type": "markdown",
   "metadata": {},
   "source": [
    "**cdreseau = 087003637**"
   ]
  },
  {
   "cell_type": "code",
   "execution_count": 9,
   "metadata": {},
   "outputs": [
    {
     "data": {
      "text/html": [
       "<span style=\"None\">Running query in &#x27;duckdb:///../../database/data.duckdb&#x27;</span>"
      ],
      "text/plain": [
       "Running query in 'duckdb:///../../database/data.duckdb'"
      ]
     },
     "metadata": {},
     "output_type": "display_data"
    },
    {
     "data": {
      "text/html": [
       "<table>\n",
       "    <thead>\n",
       "        <tr>\n",
       "            <th>referenceprel</th>\n",
       "            <th>cdparametresiseeaux</th>\n",
       "            <th>valtraduite</th>\n",
       "            <th>limitequal</th>\n",
       "            <th>de_partition</th>\n",
       "            <th>limitequal_float</th>\n",
       "            <th>unite</th>\n",
       "            <th>categorie</th>\n",
       "            <th>cdreseau</th>\n",
       "            <th>inseecommune</th>\n",
       "            <th>datetimeprel</th>\n",
       "        </tr>\n",
       "    </thead>\n",
       "    <tbody>\n",
       "        <tr>\n",
       "            <td>08700121168</td>\n",
       "            <td>CLVYL</td>\n",
       "            <td>0.580</td>\n",
       "            <td><=0.5 µg/L</td>\n",
       "            <td>2024</td>\n",
       "            <td>0.5</td>\n",
       "            <td>µg/L</td>\n",
       "            <td>cvm</td>\n",
       "            <td>087003637</td>\n",
       "            <td>87178</td>\n",
       "            <td>2024-07-04 10:50:00</td>\n",
       "        </tr>\n",
       "    </tbody>\n",
       "</table>"
      ],
      "text/plain": [
       "+---------------+---------------------+-------------+------------+--------------+------------------+-------+-----------+-----------+--------------+---------------------+\n",
       "| referenceprel | cdparametresiseeaux | valtraduite | limitequal | de_partition | limitequal_float | unite | categorie |  cdreseau | inseecommune |     datetimeprel    |\n",
       "+---------------+---------------------+-------------+------------+--------------+------------------+-------+-----------+-----------+--------------+---------------------+\n",
       "|  08700121168  |        CLVYL        |    0.580    | <=0.5 µg/L |     2024     |       0.5        |  µg/L |    cvm    | 087003637 |    87178     | 2024-07-04 10:50:00 |\n",
       "+---------------+---------------------+-------------+------------+--------------+------------------+-------+-----------+-----------+--------------+---------------------+"
      ]
     },
     "execution_count": 9,
     "metadata": {},
     "output_type": "execute_result"
    }
   ],
   "source": [
    "%%sql\n",
    " SELECT \n",
    "    *\n",
    " FROM\n",
    "   int__resultats_udi_communes\n",
    "WHERE\n",
    "    cdreseau = '087003637'\n",
    "    AND categorie = 'cvm'\n",
    "    AND de_partition = '2024'\n",
    "ORDER BY \n",
    "    datetimeprel DESC"
   ]
  },
  {
   "cell_type": "code",
   "execution_count": 10,
   "metadata": {},
   "outputs": [
    {
     "data": {
      "text/html": [
       "<span style=\"None\">Running query in &#x27;duckdb:///../../database/data.duckdb&#x27;</span>"
      ],
      "text/plain": [
       "Running query in 'duckdb:///../../database/data.duckdb'"
      ]
     },
     "metadata": {},
     "output_type": "display_data"
    },
    {
     "data": {
      "text/html": [
       "<table>\n",
       "    <thead>\n",
       "        <tr>\n",
       "            <th>cdreseau</th>\n",
       "            <th>categorie</th>\n",
       "            <th>cdparametresiseeaux</th>\n",
       "            <th>last_datetimeprel</th>\n",
       "            <th>periode</th>\n",
       "            <th>resultat</th>\n",
       "        </tr>\n",
       "    </thead>\n",
       "    <tbody>\n",
       "        <tr>\n",
       "            <td>087003637</td>\n",
       "            <td>cvm</td>\n",
       "            <td>CLVYL</td>\n",
       "            <td>2024-07-04 10:50:00</td>\n",
       "            <td>dernier prélévement</td>\n",
       "            <td>>= 0,5 µg/L</td>\n",
       "        </tr>\n",
       "    </tbody>\n",
       "</table>"
      ],
      "text/plain": [
       "+-----------+-----------+---------------------+---------------------+---------------------+-------------+\n",
       "|  cdreseau | categorie | cdparametresiseeaux |  last_datetimeprel  |       periode       |   resultat  |\n",
       "+-----------+-----------+---------------------+---------------------+---------------------+-------------+\n",
       "| 087003637 |    cvm    |        CLVYL        | 2024-07-04 10:50:00 | dernier prélévement | >= 0,5 µg/L |\n",
       "+-----------+-----------+---------------------+---------------------+---------------------+-------------+"
      ]
     },
     "execution_count": 10,
     "metadata": {},
     "output_type": "execute_result"
    }
   ],
   "source": [
    "%%sql --with int__resultats_cvm_udi_dernier \n",
    " SELECT \n",
    "   *\n",
    " FROM\n",
    "   int__resultats_cvm_udi_dernier\n",
    "WHERE\n",
    "    cdreseau = '087003637'\n",
    "    AND categorie = 'cvm'"
   ]
  },
  {
   "cell_type": "markdown",
   "metadata": {},
   "source": [
    "**cdreseau = 095004048**"
   ]
  },
  {
   "cell_type": "code",
   "execution_count": 11,
   "metadata": {},
   "outputs": [
    {
     "data": {
      "text/html": [
       "<span style=\"None\">Running query in &#x27;duckdb:///../../database/data.duckdb&#x27;</span>"
      ],
      "text/plain": [
       "Running query in 'duckdb:///../../database/data.duckdb'"
      ]
     },
     "metadata": {},
     "output_type": "display_data"
    },
    {
     "data": {
      "text/html": [
       "<table>\n",
       "    <thead>\n",
       "        <tr>\n",
       "            <th>referenceprel</th>\n",
       "            <th>cdparametresiseeaux</th>\n",
       "            <th>valtraduite</th>\n",
       "            <th>limitequal</th>\n",
       "            <th>de_partition</th>\n",
       "            <th>limitequal_float</th>\n",
       "            <th>unite</th>\n",
       "            <th>categorie</th>\n",
       "            <th>cdreseau</th>\n",
       "            <th>inseecommune</th>\n",
       "            <th>datetimeprel</th>\n",
       "        </tr>\n",
       "    </thead>\n",
       "    <tbody>\n",
       "        <tr>\n",
       "            <td>09500180358</td>\n",
       "            <td>CLVYL</td>\n",
       "            <td>0.004</td>\n",
       "            <td><=0.5 µg/L</td>\n",
       "            <td>2024</td>\n",
       "            <td>0.5</td>\n",
       "            <td>µg/L</td>\n",
       "            <td>cvm</td>\n",
       "            <td>095004048</td>\n",
       "            <td>95277</td>\n",
       "            <td>2024-07-23 08:26:00</td>\n",
       "        </tr>\n",
       "        <tr>\n",
       "            <td>09500180358</td>\n",
       "            <td>CLVYL</td>\n",
       "            <td>0.004</td>\n",
       "            <td><=0.5 µg/L</td>\n",
       "            <td>2024</td>\n",
       "            <td>0.5</td>\n",
       "            <td>µg/L</td>\n",
       "            <td>cvm</td>\n",
       "            <td>095004048</td>\n",
       "            <td>95019</td>\n",
       "            <td>2024-07-23 08:26:00</td>\n",
       "        </tr>\n",
       "        <tr>\n",
       "            <td>09500180358</td>\n",
       "            <td>CLVYL</td>\n",
       "            <td>0.004</td>\n",
       "            <td><=0.5 µg/L</td>\n",
       "            <td>2024</td>\n",
       "            <td>0.5</td>\n",
       "            <td>µg/L</td>\n",
       "            <td>cvm</td>\n",
       "            <td>095004048</td>\n",
       "            <td>95268</td>\n",
       "            <td>2024-07-23 08:26:00</td>\n",
       "        </tr>\n",
       "        <tr>\n",
       "            <td>09500181157</td>\n",
       "            <td>CLVYL</td>\n",
       "            <td>0.005</td>\n",
       "            <td><=0.5 µg/L</td>\n",
       "            <td>2024</td>\n",
       "            <td>0.5</td>\n",
       "            <td>µg/L</td>\n",
       "            <td>cvm</td>\n",
       "            <td>095004048</td>\n",
       "            <td>95277</td>\n",
       "            <td>2024-07-03 09:28:00</td>\n",
       "        </tr>\n",
       "        <tr>\n",
       "            <td>09500181157</td>\n",
       "            <td>CLVYL</td>\n",
       "            <td>0.005</td>\n",
       "            <td><=0.5 µg/L</td>\n",
       "            <td>2024</td>\n",
       "            <td>0.5</td>\n",
       "            <td>µg/L</td>\n",
       "            <td>cvm</td>\n",
       "            <td>095004048</td>\n",
       "            <td>95019</td>\n",
       "            <td>2024-07-03 09:28:00</td>\n",
       "        </tr>\n",
       "        <tr>\n",
       "            <td>09500181157</td>\n",
       "            <td>CLVYL</td>\n",
       "            <td>0.005</td>\n",
       "            <td><=0.5 µg/L</td>\n",
       "            <td>2024</td>\n",
       "            <td>0.5</td>\n",
       "            <td>µg/L</td>\n",
       "            <td>cvm</td>\n",
       "            <td>095004048</td>\n",
       "            <td>95268</td>\n",
       "            <td>2024-07-03 09:28:00</td>\n",
       "        </tr>\n",
       "        <tr>\n",
       "            <td>09500179740</td>\n",
       "            <td>CLVYL</td>\n",
       "            <td>0.006</td>\n",
       "            <td><=0.5 µg/L</td>\n",
       "            <td>2024</td>\n",
       "            <td>0.5</td>\n",
       "            <td>µg/L</td>\n",
       "            <td>cvm</td>\n",
       "            <td>095004048</td>\n",
       "            <td>95277</td>\n",
       "            <td>2024-06-21 08:51:00</td>\n",
       "        </tr>\n",
       "        <tr>\n",
       "            <td>09500179740</td>\n",
       "            <td>CLVYL</td>\n",
       "            <td>0.006</td>\n",
       "            <td><=0.5 µg/L</td>\n",
       "            <td>2024</td>\n",
       "            <td>0.5</td>\n",
       "            <td>µg/L</td>\n",
       "            <td>cvm</td>\n",
       "            <td>095004048</td>\n",
       "            <td>95019</td>\n",
       "            <td>2024-06-21 08:51:00</td>\n",
       "        </tr>\n",
       "        <tr>\n",
       "            <td>09500179740</td>\n",
       "            <td>CLVYL</td>\n",
       "            <td>0.006</td>\n",
       "            <td><=0.5 µg/L</td>\n",
       "            <td>2024</td>\n",
       "            <td>0.5</td>\n",
       "            <td>µg/L</td>\n",
       "            <td>cvm</td>\n",
       "            <td>095004048</td>\n",
       "            <td>95268</td>\n",
       "            <td>2024-06-21 08:51:00</td>\n",
       "        </tr>\n",
       "        <tr>\n",
       "            <td>09500179711</td>\n",
       "            <td>CLVYL</td>\n",
       "            <td>0.000</td>\n",
       "            <td><=0.5 µg/L</td>\n",
       "            <td>2024</td>\n",
       "            <td>0.5</td>\n",
       "            <td>µg/L</td>\n",
       "            <td>cvm</td>\n",
       "            <td>095004048</td>\n",
       "            <td>95277</td>\n",
       "            <td>2024-06-20 08:55:00</td>\n",
       "        </tr>\n",
       "    </tbody>\n",
       "</table>\n",
       "<span style=\"font-style:italic;text-align:center;\">Truncated to <a href=\"https://jupysql.ploomber.io/en/latest/api/configuration.html#displaylimit\">displaylimit</a> of 10.</span>"
      ],
      "text/plain": [
       "+---------------+---------------------+-------------+------------+--------------+------------------+-------+-----------+-----------+--------------+---------------------+\n",
       "| referenceprel | cdparametresiseeaux | valtraduite | limitequal | de_partition | limitequal_float | unite | categorie |  cdreseau | inseecommune |     datetimeprel    |\n",
       "+---------------+---------------------+-------------+------------+--------------+------------------+-------+-----------+-----------+--------------+---------------------+\n",
       "|  09500180358  |        CLVYL        |    0.004    | <=0.5 µg/L |     2024     |       0.5        |  µg/L |    cvm    | 095004048 |    95277     | 2024-07-23 08:26:00 |\n",
       "|  09500180358  |        CLVYL        |    0.004    | <=0.5 µg/L |     2024     |       0.5        |  µg/L |    cvm    | 095004048 |    95019     | 2024-07-23 08:26:00 |\n",
       "|  09500180358  |        CLVYL        |    0.004    | <=0.5 µg/L |     2024     |       0.5        |  µg/L |    cvm    | 095004048 |    95268     | 2024-07-23 08:26:00 |\n",
       "|  09500181157  |        CLVYL        |    0.005    | <=0.5 µg/L |     2024     |       0.5        |  µg/L |    cvm    | 095004048 |    95277     | 2024-07-03 09:28:00 |\n",
       "|  09500181157  |        CLVYL        |    0.005    | <=0.5 µg/L |     2024     |       0.5        |  µg/L |    cvm    | 095004048 |    95019     | 2024-07-03 09:28:00 |\n",
       "|  09500181157  |        CLVYL        |    0.005    | <=0.5 µg/L |     2024     |       0.5        |  µg/L |    cvm    | 095004048 |    95268     | 2024-07-03 09:28:00 |\n",
       "|  09500179740  |        CLVYL        |    0.006    | <=0.5 µg/L |     2024     |       0.5        |  µg/L |    cvm    | 095004048 |    95277     | 2024-06-21 08:51:00 |\n",
       "|  09500179740  |        CLVYL        |    0.006    | <=0.5 µg/L |     2024     |       0.5        |  µg/L |    cvm    | 095004048 |    95019     | 2024-06-21 08:51:00 |\n",
       "|  09500179740  |        CLVYL        |    0.006    | <=0.5 µg/L |     2024     |       0.5        |  µg/L |    cvm    | 095004048 |    95268     | 2024-06-21 08:51:00 |\n",
       "|  09500179711  |        CLVYL        |    0.000    | <=0.5 µg/L |     2024     |       0.5        |  µg/L |    cvm    | 095004048 |    95277     | 2024-06-20 08:55:00 |\n",
       "+---------------+---------------------+-------------+------------+--------------+------------------+-------+-----------+-----------+--------------+---------------------+\n",
       "Truncated to displaylimit of 10."
      ]
     },
     "execution_count": 11,
     "metadata": {},
     "output_type": "execute_result"
    }
   ],
   "source": [
    "%%sql\n",
    " SELECT \n",
    "    *\n",
    " FROM\n",
    "   int__resultats_udi_communes\n",
    "WHERE\n",
    "    cdreseau = '095004048'\n",
    "    AND categorie = 'cvm'\n",
    "    AND de_partition = '2024'\n",
    "ORDER BY \n",
    "    datetimeprel DESC"
   ]
  },
  {
   "cell_type": "code",
   "execution_count": 12,
   "metadata": {},
   "outputs": [
    {
     "data": {
      "text/html": [
       "<span style=\"None\">Running query in &#x27;duckdb:///../../database/data.duckdb&#x27;</span>"
      ],
      "text/plain": [
       "Running query in 'duckdb:///../../database/data.duckdb'"
      ]
     },
     "metadata": {},
     "output_type": "display_data"
    },
    {
     "data": {
      "text/html": [
       "<table>\n",
       "    <thead>\n",
       "        <tr>\n",
       "            <th>cdreseau</th>\n",
       "            <th>categorie</th>\n",
       "            <th>cdparametresiseeaux</th>\n",
       "            <th>last_datetimeprel</th>\n",
       "            <th>periode</th>\n",
       "            <th>resultat</th>\n",
       "        </tr>\n",
       "    </thead>\n",
       "    <tbody>\n",
       "        <tr>\n",
       "            <td>095004048</td>\n",
       "            <td>cvm</td>\n",
       "            <td>CLVYL</td>\n",
       "            <td>2024-07-23 08:26:00</td>\n",
       "            <td>dernier prélévement</td>\n",
       "            <td>< 0,5 µg/L</td>\n",
       "        </tr>\n",
       "    </tbody>\n",
       "</table>"
      ],
      "text/plain": [
       "+-----------+-----------+---------------------+---------------------+---------------------+------------+\n",
       "|  cdreseau | categorie | cdparametresiseeaux |  last_datetimeprel  |       periode       |  resultat  |\n",
       "+-----------+-----------+---------------------+---------------------+---------------------+------------+\n",
       "| 095004048 |    cvm    |        CLVYL        | 2024-07-23 08:26:00 | dernier prélévement | < 0,5 µg/L |\n",
       "+-----------+-----------+---------------------+---------------------+---------------------+------------+"
      ]
     },
     "execution_count": 12,
     "metadata": {},
     "output_type": "execute_result"
    }
   ],
   "source": [
    "%%sql --with int__resultats_cvm_udi_dernier \n",
    " SELECT \n",
    "   *\n",
    " FROM\n",
    "   int__resultats_cvm_udi_dernier\n",
    "WHERE\n",
    "    cdreseau = '095004048'\n",
    "    AND categorie = 'cvm'"
   ]
  }
 ],
 "metadata": {
  "kernelspec": {
   "display_name": "Python 3 (ipykernel)",
   "language": "python",
   "name": "python3"
  },
  "language_info": {
   "codemirror_mode": {
    "name": "ipython",
    "version": 3
   },
   "file_extension": ".py",
   "mimetype": "text/x-python",
   "name": "python",
   "nbconvert_exporter": "python",
   "pygments_lexer": "ipython3",
   "version": "3.12.9"
  }
 },
 "nbformat": 4,
 "nbformat_minor": 4
}
