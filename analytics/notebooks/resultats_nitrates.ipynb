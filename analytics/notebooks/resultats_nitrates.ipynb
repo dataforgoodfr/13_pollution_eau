{
 "cells": [
  {
   "cell_type": "code",
   "execution_count": 1,
   "id": "2e8d5bd2-d7c1-4ecb-805d-27eaa75195e0",
   "metadata": {},
   "outputs": [
    {
     "data": {
      "text/html": [
       "<span style=\"None\">The &#x27;toml&#x27; package isn&#x27;t installed. To load settings from pyproject.toml or ~/.jupysql/config, install with: pip install toml</span>"
      ],
      "text/plain": [
       "The 'toml' package isn't installed. To load settings from pyproject.toml or ~/.jupysql/config, install with: pip install toml"
      ]
     },
     "metadata": {},
     "output_type": "display_data"
    },
    {
     "data": {
      "text/html": [
       "<span style=\"None\">Connecting to &#x27;duckdb:///../../database/data.duckdb&#x27;</span>"
      ],
      "text/plain": [
       "Connecting to 'duckdb:///../../database/data.duckdb'"
      ]
     },
     "metadata": {},
     "output_type": "display_data"
    }
   ],
   "source": [
    "%load_ext sql\n",
    "%sql duckdb:///../../database/data.duckdb"
   ]
  },
  {
   "cell_type": "code",
   "execution_count": 2,
   "id": "3e1967e8-eba0-4261-bf9c-d16dd4a9b271",
   "metadata": {
    "scrolled": true
   },
   "outputs": [
    {
     "data": {
      "text/html": [
       "<span style=\"None\">Running query in &#x27;duckdb:///../../database/data.duckdb&#x27;</span>"
      ],
      "text/plain": [
       "Running query in 'duckdb:///../../database/data.duckdb'"
      ]
     },
     "metadata": {},
     "output_type": "display_data"
    },
    {
     "data": {
      "text/html": [
       "<table>\n",
       "    <thead>\n",
       "        <tr>\n",
       "            <th>cdparametresiseeaux</th>\n",
       "            <th>categorie_1</th>\n",
       "            <th>categorie_2</th>\n",
       "            <th>categorie_3</th>\n",
       "            <th>limite_qualite</th>\n",
       "            <th>limite_qualite_unite</th>\n",
       "            <th>valeur_sanitaire_1</th>\n",
       "            <th>valeur_sanitaire_1_unite</th>\n",
       "            <th>valeur_sanitaire_2</th>\n",
       "            <th>valeur_sanitaire_2_unite</th>\n",
       "            <th>nb_rows</th>\n",
       "        </tr>\n",
       "    </thead>\n",
       "    <tbody>\n",
       "        <tr>\n",
       "            <td>NO2</td>\n",
       "            <td>nitrate</td>\n",
       "            <td>None</td>\n",
       "            <td>None</td>\n",
       "            <td>0.5</td>\n",
       "            <td>mg/L</td>\n",
       "            <td>None</td>\n",
       "            <td>None</td>\n",
       "            <td>None</td>\n",
       "            <td>None</td>\n",
       "            <td>1</td>\n",
       "        </tr>\n",
       "        <tr>\n",
       "            <td>NO3</td>\n",
       "            <td>nitrate</td>\n",
       "            <td>None</td>\n",
       "            <td>None</td>\n",
       "            <td>50.0</td>\n",
       "            <td>mg/L</td>\n",
       "            <td>None</td>\n",
       "            <td>None</td>\n",
       "            <td>None</td>\n",
       "            <td>None</td>\n",
       "            <td>1</td>\n",
       "        </tr>\n",
       "        <tr>\n",
       "            <td>NO3_NO2</td>\n",
       "            <td>nitrate</td>\n",
       "            <td>None</td>\n",
       "            <td>None</td>\n",
       "            <td>1.0</td>\n",
       "            <td>None</td>\n",
       "            <td>None</td>\n",
       "            <td>None</td>\n",
       "            <td>None</td>\n",
       "            <td>None</td>\n",
       "            <td>1</td>\n",
       "        </tr>\n",
       "    </tbody>\n",
       "</table>"
      ],
      "text/plain": [
       "+---------------------+-------------+-------------+-------------+----------------+----------------------+--------------------+--------------------------+--------------------+--------------------------+---------+\n",
       "| cdparametresiseeaux | categorie_1 | categorie_2 | categorie_3 | limite_qualite | limite_qualite_unite | valeur_sanitaire_1 | valeur_sanitaire_1_unite | valeur_sanitaire_2 | valeur_sanitaire_2_unite | nb_rows |\n",
       "+---------------------+-------------+-------------+-------------+----------------+----------------------+--------------------+--------------------------+--------------------+--------------------------+---------+\n",
       "|         NO2         |   nitrate   |     None    |     None    |      0.5       |         mg/L         |        None        |           None           |        None        |           None           |    1    |\n",
       "|         NO3         |   nitrate   |     None    |     None    |      50.0      |         mg/L         |        None        |           None           |        None        |           None           |    1    |\n",
       "|       NO3_NO2       |   nitrate   |     None    |     None    |      1.0       |         None         |        None        |           None           |        None        |           None           |    1    |\n",
       "+---------------------+-------------+-------------+-------------+----------------+----------------------+--------------------+--------------------------+--------------------+--------------------------+---------+"
      ]
     },
     "execution_count": 2,
     "metadata": {},
     "output_type": "execute_result"
    }
   ],
   "source": [
    "%%sql\n",
    "SELECT * FROM int__valeurs_de_reference WHERE categorie_1='nitrate'"
   ]
  },
  {
   "cell_type": "code",
   "execution_count": 3,
   "id": "1aff16f9-21a7-4e2b-a3f6-17fc453d7dbc",
   "metadata": {},
   "outputs": [
    {
     "data": {
      "text/html": [
       "<span style=\"None\">Running query in &#x27;duckdb:///../../database/data.duckdb&#x27;</span>"
      ],
      "text/plain": [
       "Running query in 'duckdb:///../../database/data.duckdb'"
      ]
     },
     "metadata": {},
     "output_type": "display_data"
    },
    {
     "data": {
      "text/html": [
       "<table>\n",
       "    <thead>\n",
       "        <tr>\n",
       "            <th>limite_qualite_no3</th>\n",
       "            <th>limite_qualite_no3_no2</th>\n",
       "            <th>limite_qualite_no2</th>\n",
       "        </tr>\n",
       "    </thead>\n",
       "    <tbody>\n",
       "        <tr>\n",
       "            <td>50.0</td>\n",
       "            <td>1.0</td>\n",
       "            <td>0.5</td>\n",
       "        </tr>\n",
       "    </tbody>\n",
       "</table>"
      ],
      "text/plain": [
       "+--------------------+------------------------+--------------------+\n",
       "| limite_qualite_no3 | limite_qualite_no3_no2 | limite_qualite_no2 |\n",
       "+--------------------+------------------------+--------------------+\n",
       "|        50.0        |          1.0           |        0.5         |\n",
       "+--------------------+------------------------+--------------------+"
      ]
     },
     "execution_count": 3,
     "metadata": {},
     "output_type": "execute_result"
    }
   ],
   "source": [
    "%%sql\n",
    "SELECT\n",
    "    MAX(\n",
    "        CASE\n",
    "            WHEN\n",
    "                cdparametresiseeaux = 'NO3'\n",
    "                THEN limite_qualite\n",
    "        END\n",
    "    ) AS limite_qualite_no3,\n",
    "    MAX(\n",
    "        CASE\n",
    "            WHEN\n",
    "                cdparametresiseeaux = 'NO3_NO2'\n",
    "                THEN limite_qualite\n",
    "        END\n",
    "    ) AS limite_qualite_no3_no2,\n",
    "    MAX(\n",
    "        CASE\n",
    "            WHEN\n",
    "                cdparametresiseeaux = 'NO2'\n",
    "                THEN limite_qualite\n",
    "        END\n",
    "    ) AS limite_qualite_no2\n",
    "FROM\n",
    "    int__valeurs_de_reference\n",
    "WHERE\n",
    "    categorie_1 = 'nitrate'"
   ]
  },
  {
   "cell_type": "markdown",
   "id": "34654cff-fb90-4224-a5db-8086186a23f1",
   "metadata": {},
   "source": [
    "**Les règles choisies**\n",
    "    \n",
    "_Si on a les 3 paramètres disponibles_\n",
    "- Si Nitrates < 50 mg/L et nitrites < 0,5 mg/L et nitrate/50 + nitrites/3 < 1 mg/L  --> CONFORME\n",
    "- Si Nitrates >= 50 mg/L et/ou nitrites >= 0,5 mg/L et/ou nitrate/50 + nitrites/3 >= 1 mg/L --> NON CONFORME\n",
    "\n",
    "\n",
    "_Si on n'a pas  nitrate/50 + nitrites/3 mais qu'on a nitrate et  nitrites_<br>\n",
    "==> on le calcule et on applique comme ci-dessus\n",
    "\n",
    "- Si on n'a pas nitrate -->  donnee_manquante\n",
    "- Si on n'a pas nitrites et que  nitrate >= 50 mg/L --> NON CONFORME\n",
    "- Si on n'a pas nitrites et que  nitrate < 50 mg/L --> donnee_manquant \n"
   ]
  },
  {
   "cell_type": "code",
   "execution_count": 4,
   "id": "de799aa8-64a7-4423-901c-7de0fc237b70",
   "metadata": {},
   "outputs": [
    {
     "data": {
      "text/html": [
       "<span style=\"None\">Running query in &#x27;duckdb:///../../database/data.duckdb&#x27;</span>"
      ],
      "text/plain": [
       "Running query in 'duckdb:///../../database/data.duckdb'"
      ]
     },
     "metadata": {},
     "output_type": "display_data"
    },
    {
     "data": {
      "application/vnd.jupyter.widget-view+json": {
       "model_id": "2abb38d323d04b04a1fcab8e91187bc0",
       "version_major": 2,
       "version_minor": 0
      },
      "text/plain": [
       "FloatProgress(value=0.0, layout=Layout(width='auto'), style=ProgressStyle(bar_color='black'))"
      ]
     },
     "metadata": {},
     "output_type": "display_data"
    },
    {
     "data": {
      "text/html": [
       "<table>\n",
       "    <thead>\n",
       "        <tr>\n",
       "            <th>cdreseau</th>\n",
       "            <th>categorie</th>\n",
       "            <th>periode</th>\n",
       "            <th>dernier_prel_datetime</th>\n",
       "            <th>nb_parametres</th>\n",
       "            <th>resultat</th>\n",
       "        </tr>\n",
       "    </thead>\n",
       "    <tbody>\n",
       "        <tr>\n",
       "            <td>038000406</td>\n",
       "            <td>nitrate</td>\n",
       "            <td>dernier_prel</td>\n",
       "            <td>2024-11-04 10:30:00</td>\n",
       "            <td>3</td>\n",
       "            <td>conforme</td>\n",
       "        </tr>\n",
       "        <tr>\n",
       "            <td>038000579</td>\n",
       "            <td>nitrate</td>\n",
       "            <td>dernier_prel</td>\n",
       "            <td>2024-10-08 10:45:00</td>\n",
       "            <td>3</td>\n",
       "            <td>conforme</td>\n",
       "        </tr>\n",
       "        <tr>\n",
       "            <td>038000634</td>\n",
       "            <td>nitrate</td>\n",
       "            <td>dernier_prel</td>\n",
       "            <td>2025-01-30 09:20:00</td>\n",
       "            <td>3</td>\n",
       "            <td>conforme</td>\n",
       "        </tr>\n",
       "        <tr>\n",
       "            <td>038000869</td>\n",
       "            <td>nitrate</td>\n",
       "            <td>dernier_prel</td>\n",
       "            <td>2024-10-29 08:45:00</td>\n",
       "            <td>3</td>\n",
       "            <td>conforme</td>\n",
       "        </tr>\n",
       "        <tr>\n",
       "            <td>038000919</td>\n",
       "            <td>nitrate</td>\n",
       "            <td>dernier_prel</td>\n",
       "            <td>2025-02-27 09:48:00</td>\n",
       "            <td>3</td>\n",
       "            <td>conforme</td>\n",
       "        </tr>\n",
       "        <tr>\n",
       "            <td>038000992</td>\n",
       "            <td>nitrate</td>\n",
       "            <td>dernier_prel</td>\n",
       "            <td>2025-01-02 10:35:00</td>\n",
       "            <td>3</td>\n",
       "            <td>conforme</td>\n",
       "        </tr>\n",
       "        <tr>\n",
       "            <td>038001014</td>\n",
       "            <td>nitrate</td>\n",
       "            <td>dernier_prel</td>\n",
       "            <td>2025-01-15 10:10:00</td>\n",
       "            <td>3</td>\n",
       "            <td>conforme</td>\n",
       "        </tr>\n",
       "        <tr>\n",
       "            <td>038001205</td>\n",
       "            <td>nitrate</td>\n",
       "            <td>dernier_prel</td>\n",
       "            <td>2024-11-14 09:35:00</td>\n",
       "            <td>3</td>\n",
       "            <td>conforme</td>\n",
       "        </tr>\n",
       "        <tr>\n",
       "            <td>038001237</td>\n",
       "            <td>nitrate</td>\n",
       "            <td>dernier_prel</td>\n",
       "            <td>2024-06-25 10:05:00</td>\n",
       "            <td>3</td>\n",
       "            <td>conforme</td>\n",
       "        </tr>\n",
       "        <tr>\n",
       "            <td>038001241</td>\n",
       "            <td>nitrate</td>\n",
       "            <td>dernier_prel</td>\n",
       "            <td>2024-12-19 09:30:00</td>\n",
       "            <td>3</td>\n",
       "            <td>conforme</td>\n",
       "        </tr>\n",
       "    </tbody>\n",
       "</table>\n",
       "<span style=\"font-style:italic;text-align:center;\">Truncated to <a href=\"https://jupysql.ploomber.io/en/latest/api/configuration.html#displaylimit\">displaylimit</a> of 10.</span>"
      ],
      "text/plain": [
       "+-----------+-----------+--------------+-----------------------+---------------+----------+\n",
       "|  cdreseau | categorie |   periode    | dernier_prel_datetime | nb_parametres | resultat |\n",
       "+-----------+-----------+--------------+-----------------------+---------------+----------+\n",
       "| 038000406 |  nitrate  | dernier_prel |  2024-11-04 10:30:00  |       3       | conforme |\n",
       "| 038000579 |  nitrate  | dernier_prel |  2024-10-08 10:45:00  |       3       | conforme |\n",
       "| 038000634 |  nitrate  | dernier_prel |  2025-01-30 09:20:00  |       3       | conforme |\n",
       "| 038000869 |  nitrate  | dernier_prel |  2024-10-29 08:45:00  |       3       | conforme |\n",
       "| 038000919 |  nitrate  | dernier_prel |  2025-02-27 09:48:00  |       3       | conforme |\n",
       "| 038000992 |  nitrate  | dernier_prel |  2025-01-02 10:35:00  |       3       | conforme |\n",
       "| 038001014 |  nitrate  | dernier_prel |  2025-01-15 10:10:00  |       3       | conforme |\n",
       "| 038001205 |  nitrate  | dernier_prel |  2024-11-14 09:35:00  |       3       | conforme |\n",
       "| 038001237 |  nitrate  | dernier_prel |  2024-06-25 10:05:00  |       3       | conforme |\n",
       "| 038001241 |  nitrate  | dernier_prel |  2024-12-19 09:30:00  |       3       | conforme |\n",
       "+-----------+-----------+--------------+-----------------------+---------------+----------+\n",
       "Truncated to displaylimit of 10."
      ]
     },
     "execution_count": 4,
     "metadata": {},
     "output_type": "execute_result"
    }
   ],
   "source": [
    "%%sql --save int__resultats_nitrites_udi_dernier\n",
    "WITH\n",
    "last_pvl AS (\n",
    "    SELECT\n",
    "        cdreseau,\n",
    "        categorie,\n",
    "        cdparametresiseeaux,\n",
    "        limite_qualite,\n",
    "        datetimeprel,\n",
    "        valtraduite,\n",
    "        ROW_NUMBER()\n",
    "            OVER (\n",
    "                PARTITION BY cdreseau, cdparametresiseeaux\n",
    "                ORDER BY datetimeprel DESC\n",
    "            )\n",
    "            AS row_number\n",
    "    FROM\n",
    "       int__resultats_udi_communes\n",
    "    WHERE\n",
    "        categorie = 'nitrate'\n",
    "        AND\n",
    "        -- On garde les prélèvements de moins d'un an\n",
    "        CURRENT_DATE - datetimeprel < INTERVAL 1 YEAR\n",
    "),\n",
    "\n",
    "valeur_ref AS (\n",
    "    SELECT\n",
    "        MAX(\n",
    "            CASE\n",
    "                WHEN\n",
    "                    cdparametresiseeaux = 'NO3'\n",
    "                    THEN limite_qualite\n",
    "            END\n",
    "        ) AS limite_qualite_no3,\n",
    "        MAX(\n",
    "            CASE\n",
    "                WHEN\n",
    "                    cdparametresiseeaux = 'NO3_NO2'\n",
    "                    THEN limite_qualite\n",
    "            END\n",
    "        ) AS limite_qualite_no3_no2,\n",
    "        MAX(\n",
    "            CASE\n",
    "                WHEN\n",
    "                    cdparametresiseeaux = 'NO2'\n",
    "                    THEN limite_qualite\n",
    "            END\n",
    "        ) AS limite_qualite_no2\n",
    "    FROM\n",
    "        int__valeurs_de_reference\n",
    "    WHERE\n",
    "        categorie_1 = 'nitrate'\n",
    "),\n",
    "\n",
    "split_nitrites AS (\n",
    "    SELECT\n",
    "        last_pvl.cdreseau,\n",
    "        last_pvl.categorie,\n",
    "        COUNT(DISTINCT last_pvl.cdparametresiseeaux) AS nb_parametres,\n",
    "        MAX(last_pvl.datetimeprel) AS dernier_prel_datetime,\n",
    "        MAX(\n",
    "            CASE\n",
    "                WHEN\n",
    "                    last_pvl.cdparametresiseeaux = 'NO3'\n",
    "                    THEN last_pvl.valtraduite\n",
    "            END\n",
    "        ) AS valtraduite_no3,\n",
    "        MAX(\n",
    "            CASE\n",
    "                WHEN\n",
    "                    last_pvl.cdparametresiseeaux = 'NO2'\n",
    "                    THEN last_pvl.valtraduite\n",
    "            END\n",
    "        ) AS valtraduite_no2,\n",
    "        MAX(\n",
    "            CASE\n",
    "                WHEN\n",
    "                    last_pvl.cdparametresiseeaux = 'NO3_NO2'\n",
    "                    THEN last_pvl.valtraduite\n",
    "            END\n",
    "        ) AS valtraduite_no3_no2\n",
    "    FROM\n",
    "        last_pvl\n",
    "    WHERE\n",
    "        last_pvl.row_number = 1\n",
    "    GROUP BY\n",
    "        last_pvl.cdreseau,\n",
    "        last_pvl.categorie\n",
    "),\n",
    "\n",
    "split_nitrites_with_ref AS (\n",
    "    SELECT\n",
    "        split_nitrites.*,\n",
    "        valeur_ref.limite_qualite_no3,\n",
    "        valeur_ref.limite_qualite_no3_no2,\n",
    "        valeur_ref.limite_qualite_no2,\n",
    "        split_nitrites.valtraduite_no3 / 50\n",
    "        + split_nitrites.valtraduite_no2 / 3 AS valtraduite_no3_no2_calc\n",
    "    FROM split_nitrites\n",
    "    CROSS JOIN valeur_ref\n",
    "\n",
    ")\n",
    "\n",
    "SELECT\n",
    "    split_nitrites_with_ref.cdreseau,\n",
    "    split_nitrites_with_ref.categorie,\n",
    "    'dernier_prel' AS periode,\n",
    "    split_nitrites_with_ref.dernier_prel_datetime,\n",
    "    split_nitrites_with_ref.nb_parametres,\n",
    "    CASE\n",
    "        WHEN\n",
    "            split_nitrites_with_ref.valtraduite_no3\n",
    "            < split_nitrites_with_ref.limite_qualite_no3\n",
    "            AND split_nitrites_with_ref.valtraduite_no2\n",
    "            < split_nitrites_with_ref.limite_qualite_no2\n",
    "            AND COALESCE(\n",
    "                split_nitrites_with_ref.valtraduite_no3_no2,\n",
    "                split_nitrites_with_ref.valtraduite_no3_no2_calc\n",
    "            )\n",
    "            < split_nitrites_with_ref.limite_qualite_no3_no2\n",
    "            THEN 'conforme'\n",
    "        WHEN\n",
    "            split_nitrites_with_ref.valtraduite_no3\n",
    "            >= split_nitrites_with_ref.limite_qualite_no3\n",
    "            OR split_nitrites_with_ref.valtraduite_no2\n",
    "            >= split_nitrites_with_ref.limite_qualite_no2\n",
    "            OR COALESCE(\n",
    "                split_nitrites_with_ref.valtraduite_no3_no2,\n",
    "                split_nitrites_with_ref.valtraduite_no3_no2_calc\n",
    "            )\n",
    "            >= split_nitrites_with_ref.limite_qualite_no3_no2\n",
    "            THEN 'non_conforme'\n",
    "        WHEN\n",
    "            split_nitrites_with_ref.valtraduite_no3 IS NULL\n",
    "            OR (\n",
    "                split_nitrites_with_ref.valtraduite_no2 IS NULL\n",
    "                AND split_nitrites_with_ref.valtraduite_no3\n",
    "                < split_nitrites_with_ref.limite_qualite_no3\n",
    "            )\n",
    "            THEN 'donnee_manquante'\n",
    "        ELSE 'error'\n",
    "    END AS resultat\n",
    "FROM\n",
    "    split_nitrites_with_ref\n"
   ]
  },
  {
   "cell_type": "code",
   "execution_count": 5,
   "id": "fe5821d3-419f-46af-92d4-311f50d4a9b7",
   "metadata": {},
   "outputs": [
    {
     "data": {
      "text/html": [
       "<span style=\"None\">Running query in &#x27;duckdb:///../../database/data.duckdb&#x27;</span>"
      ],
      "text/plain": [
       "Running query in 'duckdb:///../../database/data.duckdb'"
      ]
     },
     "metadata": {},
     "output_type": "display_data"
    },
    {
     "data": {
      "application/vnd.jupyter.widget-view+json": {
       "model_id": "7cef2c5b68ab42ad94b21ca3d9e681ac",
       "version_major": 2,
       "version_minor": 0
      },
      "text/plain": [
       "FloatProgress(value=0.0, layout=Layout(width='auto'), style=ProgressStyle(bar_color='black'))"
      ]
     },
     "metadata": {},
     "output_type": "display_data"
    },
    {
     "data": {
      "text/html": [
       "<table>\n",
       "    <thead>\n",
       "        <tr>\n",
       "            <th>resultat</th>\n",
       "            <th>count_star()</th>\n",
       "        </tr>\n",
       "    </thead>\n",
       "    <tbody>\n",
       "        <tr>\n",
       "            <td>non_conforme</td>\n",
       "            <td>269</td>\n",
       "        </tr>\n",
       "        <tr>\n",
       "            <td>conforme</td>\n",
       "            <td>20741</td>\n",
       "        </tr>\n",
       "        <tr>\n",
       "            <td>donnee_manquante</td>\n",
       "            <td>1149</td>\n",
       "        </tr>\n",
       "    </tbody>\n",
       "</table>"
      ],
      "text/plain": [
       "+------------------+--------------+\n",
       "|     resultat     | count_star() |\n",
       "+------------------+--------------+\n",
       "|   non_conforme   |     269      |\n",
       "|     conforme     |    20741     |\n",
       "| donnee_manquante |     1149     |\n",
       "+------------------+--------------+"
      ]
     },
     "execution_count": 5,
     "metadata": {},
     "output_type": "execute_result"
    }
   ],
   "source": [
    "%%sql --with int__resultats_nitrites_udi_dernier\n",
    "SELECT \n",
    "    resultat, COUNT(*)\n",
    "FROM \n",
    "    int__resultats_nitrites_udi_dernier\n",
    "GROUP BY 1"
   ]
  },
  {
   "cell_type": "code",
   "execution_count": 6,
   "id": "2a287b57-fa15-4939-8209-7dcdf0e75eda",
   "metadata": {},
   "outputs": [
    {
     "data": {
      "text/html": [
       "<span style=\"None\">Running query in &#x27;duckdb:///../../database/data.duckdb&#x27;</span>"
      ],
      "text/plain": [
       "Running query in 'duckdb:///../../database/data.duckdb'"
      ]
     },
     "metadata": {},
     "output_type": "display_data"
    },
    {
     "data": {
      "application/vnd.jupyter.widget-view+json": {
       "model_id": "cee2a9510a9748648016d352dee74573",
       "version_major": 2,
       "version_minor": 0
      },
      "text/plain": [
       "FloatProgress(value=0.0, layout=Layout(width='auto'), style=ProgressStyle(bar_color='black'))"
      ]
     },
     "metadata": {},
     "output_type": "display_data"
    },
    {
     "data": {
      "text/html": [
       "<table>\n",
       "    <thead>\n",
       "        <tr>\n",
       "            <th>cdreseau</th>\n",
       "            <th>categorie</th>\n",
       "            <th>periode</th>\n",
       "            <th>dernier_prel_datetime</th>\n",
       "            <th>nb_parametres</th>\n",
       "            <th>resultat</th>\n",
       "        </tr>\n",
       "    </thead>\n",
       "    <tbody>\n",
       "    </tbody>\n",
       "</table>"
      ],
      "text/plain": [
       "+----------+-----------+---------+-----------------------+---------------+----------+\n",
       "| cdreseau | categorie | periode | dernier_prel_datetime | nb_parametres | resultat |\n",
       "+----------+-----------+---------+-----------------------+---------------+----------+\n",
       "+----------+-----------+---------+-----------------------+---------------+----------+"
      ]
     },
     "execution_count": 6,
     "metadata": {},
     "output_type": "execute_result"
    }
   ],
   "source": [
    "%%sql --with int__resultats_nitrites_udi_dernier\n",
    "SELECT \n",
    "    * \n",
    "FROM \n",
    "    int__resultats_nitrites_udi_dernier\n",
    "WHERE \n",
    "    resultat='error'"
   ]
  },
  {
   "cell_type": "code",
   "execution_count": 7,
   "id": "30487685-f619-43ab-be20-054cb46db3c6",
   "metadata": {},
   "outputs": [
    {
     "data": {
      "text/html": [
       "<span style=\"None\">Running query in &#x27;duckdb:///../../database/data.duckdb&#x27;</span>"
      ],
      "text/plain": [
       "Running query in 'duckdb:///../../database/data.duckdb'"
      ]
     },
     "metadata": {},
     "output_type": "display_data"
    },
    {
     "data": {
      "application/vnd.jupyter.widget-view+json": {
       "model_id": "53e139d8f8af457b8b9510adacb72410",
       "version_major": 2,
       "version_minor": 0
      },
      "text/plain": [
       "FloatProgress(value=0.0, layout=Layout(width='auto'), style=ProgressStyle(bar_color='black'))"
      ]
     },
     "metadata": {},
     "output_type": "display_data"
    },
    {
     "data": {
      "text/html": [
       "<table>\n",
       "    <thead>\n",
       "        <tr>\n",
       "            <th>resultat</th>\n",
       "            <th>min_cdreseau</th>\n",
       "            <th>max_cdreseau</th>\n",
       "        </tr>\n",
       "    </thead>\n",
       "    <tbody>\n",
       "        <tr>\n",
       "            <td>conforme</td>\n",
       "            <td>001000003</td>\n",
       "            <td>976003489</td>\n",
       "        </tr>\n",
       "        <tr>\n",
       "            <td>donnee_manquante</td>\n",
       "            <td>001000251</td>\n",
       "            <td>976003881</td>\n",
       "        </tr>\n",
       "        <tr>\n",
       "            <td>non_conforme</td>\n",
       "            <td>002000060</td>\n",
       "            <td>095000346</td>\n",
       "        </tr>\n",
       "    </tbody>\n",
       "</table>"
      ],
      "text/plain": [
       "+------------------+--------------+--------------+\n",
       "|     resultat     | min_cdreseau | max_cdreseau |\n",
       "+------------------+--------------+--------------+\n",
       "|     conforme     |  001000003   |  976003489   |\n",
       "| donnee_manquante |  001000251   |  976003881   |\n",
       "|   non_conforme   |  002000060   |  095000346   |\n",
       "+------------------+--------------+--------------+"
      ]
     },
     "execution_count": 7,
     "metadata": {},
     "output_type": "execute_result"
    }
   ],
   "source": [
    "%%sql --with int__resultats_nitrites_udi_dernier\n",
    "SELECT \n",
    "    resultat, MIN( cdreseau) min_cdreseau, MAX(cdreseau) AS max_cdreseau\n",
    "FROM \n",
    "    int__resultats_nitrites_udi_dernier\n",
    "GROUP BY 1"
   ]
  },
  {
   "cell_type": "markdown",
   "id": "c596b48d-ebc4-4fb9-aab8-b626076792d2",
   "metadata": {},
   "source": [
    "# Check "
   ]
  },
  {
   "cell_type": "code",
   "execution_count": 8,
   "id": "761be547-f21e-4712-a898-4175f8faa89c",
   "metadata": {},
   "outputs": [
    {
     "data": {
      "text/html": [
       "<span style=\"None\">Running query in &#x27;duckdb:///../../database/data.duckdb&#x27;</span>"
      ],
      "text/plain": [
       "Running query in 'duckdb:///../../database/data.duckdb'"
      ]
     },
     "metadata": {},
     "output_type": "display_data"
    },
    {
     "data": {
      "application/vnd.jupyter.widget-view+json": {
       "model_id": "d2e860daff024a4491bcec409b322be2",
       "version_major": 2,
       "version_minor": 0
      },
      "text/plain": [
       "FloatProgress(value=0.0, layout=Layout(width='auto'), style=ProgressStyle(bar_color='black'))"
      ]
     },
     "metadata": {},
     "output_type": "display_data"
    },
    {
     "data": {
      "text/html": [
       "<table>\n",
       "    <thead>\n",
       "        <tr>\n",
       "            <th>cdreseau</th>\n",
       "            <th>categorie</th>\n",
       "            <th>periode</th>\n",
       "            <th>dernier_prel_datetime</th>\n",
       "            <th>nb_parametres</th>\n",
       "            <th>valtraduite_no2</th>\n",
       "            <th>valtraduite_no3</th>\n",
       "            <th>valtraduite_no3_no2</th>\n",
       "            <th>valtraduite_no3_no2_calc</th>\n",
       "        </tr>\n",
       "    </thead>\n",
       "    <tbody>\n",
       "        <tr>\n",
       "            <td>001000003</td>\n",
       "            <td>nitrate</td>\n",
       "            <td>dernier_prel</td>\n",
       "            <td>2025-01-21 12:35:00</td>\n",
       "            <td>3</td>\n",
       "            <td>0.000</td>\n",
       "            <td>14.000</td>\n",
       "            <td>0.280</td>\n",
       "            <td>0.28</td>\n",
       "        </tr>\n",
       "        <tr>\n",
       "            <td>001000260</td>\n",
       "            <td>nitrate</td>\n",
       "            <td>dernier_prel</td>\n",
       "            <td>2024-12-06 12:02:00</td>\n",
       "            <td>3</td>\n",
       "            <td>0.000</td>\n",
       "            <td>2.400</td>\n",
       "            <td>0.050</td>\n",
       "            <td>0.048</td>\n",
       "        </tr>\n",
       "        <tr>\n",
       "            <td>001000268</td>\n",
       "            <td>nitrate</td>\n",
       "            <td>dernier_prel</td>\n",
       "            <td>2025-01-13 09:57:00</td>\n",
       "            <td>3</td>\n",
       "            <td>0.000</td>\n",
       "            <td>6.000</td>\n",
       "            <td>0.120</td>\n",
       "            <td>0.12</td>\n",
       "        </tr>\n",
       "        <tr>\n",
       "            <td>001000293</td>\n",
       "            <td>nitrate</td>\n",
       "            <td>dernier_prel</td>\n",
       "            <td>2025-01-28 11:29:00</td>\n",
       "            <td>3</td>\n",
       "            <td>0.000</td>\n",
       "            <td>3.700</td>\n",
       "            <td>0.070</td>\n",
       "            <td>0.07400000000000001</td>\n",
       "        </tr>\n",
       "        <tr>\n",
       "            <td>002000060</td>\n",
       "            <td>nitrate</td>\n",
       "            <td>dernier_prel</td>\n",
       "            <td>2024-10-18 08:50:00</td>\n",
       "            <td>3</td>\n",
       "            <td>0.000</td>\n",
       "            <td>59.300</td>\n",
       "            <td>0.000</td>\n",
       "            <td>1.186</td>\n",
       "        </tr>\n",
       "        <tr>\n",
       "            <td>073002059</td>\n",
       "            <td>nitrate</td>\n",
       "            <td>dernier_prel</td>\n",
       "            <td>2024-10-23 09:28:00</td>\n",
       "            <td>1</td>\n",
       "            <td>0.000</td>\n",
       "            <td>None</td>\n",
       "            <td>None</td>\n",
       "            <td>None</td>\n",
       "        </tr>\n",
       "        <tr>\n",
       "            <td>088002296</td>\n",
       "            <td>nitrate</td>\n",
       "            <td>dernier_prel</td>\n",
       "            <td>2024-09-27 12:00:00</td>\n",
       "            <td>1</td>\n",
       "            <td>0.000</td>\n",
       "            <td>None</td>\n",
       "            <td>None</td>\n",
       "            <td>None</td>\n",
       "        </tr>\n",
       "        <tr>\n",
       "            <td>095000346</td>\n",
       "            <td>nitrate</td>\n",
       "            <td>dernier_prel</td>\n",
       "            <td>2025-02-27 08:35:00</td>\n",
       "            <td>3</td>\n",
       "            <td>0.000</td>\n",
       "            <td>47.000</td>\n",
       "            <td>1.000</td>\n",
       "            <td>0.94</td>\n",
       "        </tr>\n",
       "        <tr>\n",
       "            <td>973000028</td>\n",
       "            <td>nitrate</td>\n",
       "            <td>dernier_prel</td>\n",
       "            <td>2024-12-02 11:30:00</td>\n",
       "            <td>2</td>\n",
       "            <td>0.000</td>\n",
       "            <td>0.000</td>\n",
       "            <td>None</td>\n",
       "            <td>0.0</td>\n",
       "        </tr>\n",
       "    </tbody>\n",
       "</table>"
      ],
      "text/plain": [
       "+-----------+-----------+--------------+-----------------------+---------------+-----------------+-----------------+---------------------+--------------------------+\n",
       "|  cdreseau | categorie |   periode    | dernier_prel_datetime | nb_parametres | valtraduite_no2 | valtraduite_no3 | valtraduite_no3_no2 | valtraduite_no3_no2_calc |\n",
       "+-----------+-----------+--------------+-----------------------+---------------+-----------------+-----------------+---------------------+--------------------------+\n",
       "| 001000003 |  nitrate  | dernier_prel |  2025-01-21 12:35:00  |       3       |      0.000      |      14.000     |        0.280        |           0.28           |\n",
       "| 001000260 |  nitrate  | dernier_prel |  2024-12-06 12:02:00  |       3       |      0.000      |      2.400      |        0.050        |          0.048           |\n",
       "| 001000268 |  nitrate  | dernier_prel |  2025-01-13 09:57:00  |       3       |      0.000      |      6.000      |        0.120        |           0.12           |\n",
       "| 001000293 |  nitrate  | dernier_prel |  2025-01-28 11:29:00  |       3       |      0.000      |      3.700      |        0.070        |   0.07400000000000001    |\n",
       "| 002000060 |  nitrate  | dernier_prel |  2024-10-18 08:50:00  |       3       |      0.000      |      59.300     |        0.000        |          1.186           |\n",
       "| 073002059 |  nitrate  | dernier_prel |  2024-10-23 09:28:00  |       1       |      0.000      |       None      |         None        |           None           |\n",
       "| 088002296 |  nitrate  | dernier_prel |  2024-09-27 12:00:00  |       1       |      0.000      |       None      |         None        |           None           |\n",
       "| 095000346 |  nitrate  | dernier_prel |  2025-02-27 08:35:00  |       3       |      0.000      |      47.000     |        1.000        |           0.94           |\n",
       "| 973000028 |  nitrate  | dernier_prel |  2024-12-02 11:30:00  |       2       |      0.000      |      0.000      |         None        |           0.0            |\n",
       "+-----------+-----------+--------------+-----------------------+---------------+-----------------+-----------------+---------------------+--------------------------+"
      ]
     },
     "execution_count": 8,
     "metadata": {},
     "output_type": "execute_result"
    }
   ],
   "source": [
    "%%sql\n",
    "WITH\n",
    "last_pvl AS (\n",
    "    SELECT\n",
    "        cdreseau,\n",
    "        categorie,\n",
    "        cdparametresiseeaux,\n",
    "        limite_qualite,\n",
    "        datetimeprel,\n",
    "        valtraduite,\n",
    "        ROW_NUMBER()\n",
    "            OVER (\n",
    "                PARTITION BY cdreseau, cdparametresiseeaux\n",
    "                ORDER BY datetimeprel DESC\n",
    "            )\n",
    "            AS row_number\n",
    "    FROM\n",
    "       int__resultats_udi_communes\n",
    "    WHERE\n",
    "        categorie = 'nitrate'\n",
    "        AND\n",
    "        -- On garde les prélèvements de moins d'un an\n",
    "        CURRENT_DATE - datetimeprel < INTERVAL 1 YEAR\n",
    "),\n",
    "\n",
    "valeur_ref AS (\n",
    "SELECT \n",
    "    MAX(\n",
    "            CASE\n",
    "                WHEN\n",
    "                    cdparametresiseeaux = 'NO3'\n",
    "                    THEN limite_qualite\n",
    "            END\n",
    "        ) AS limite_qualite_no3,\n",
    "        MAX(\n",
    "            CASE\n",
    "                WHEN\n",
    "                    cdparametresiseeaux = 'NO3_NO2'\n",
    "                    THEN limite_qualite\n",
    "            END\n",
    "        ) AS limite_qualite_no3_no2,\n",
    "        MAX(\n",
    "            CASE\n",
    "                WHEN\n",
    "                    cdparametresiseeaux = 'NO2'\n",
    "                    THEN limite_qualite\n",
    "            END\n",
    "        ) AS limite_qualite_no2\n",
    "FROM int__valeurs_de_reference\n",
    "WHERE categorie_1='nitrate'    \n",
    "),\n",
    "\n",
    "split_nitrites AS (\n",
    "    SELECT\n",
    "        last_pvl.cdreseau,\n",
    "        last_pvl.categorie,\n",
    "        COUNT(DISTINCT last_pvl.cdparametresiseeaux) AS nb_parametres,\n",
    "        MAX(last_pvl.datetimeprel) AS dernier_prel_datetime,\n",
    "        MAX(\n",
    "            CASE\n",
    "                WHEN\n",
    "                    last_pvl.cdparametresiseeaux = 'NO3'\n",
    "                    THEN last_pvl.datetimeprel\n",
    "            END\n",
    "        ) AS dernier_prel_datetime_n03,\n",
    "        MAX(\n",
    "            CASE\n",
    "                WHEN\n",
    "                    last_pvl.cdparametresiseeaux = 'NO2'\n",
    "                    THEN last_pvl.datetimeprel\n",
    "            END\n",
    "        ) AS dernier_prel_datetime_n02,\n",
    "        MAX(\n",
    "            CASE\n",
    "                WHEN\n",
    "                    last_pvl.cdparametresiseeaux = 'NO3_NO2'\n",
    "                    THEN last_pvl.datetimeprel\n",
    "            END\n",
    "        ) AS dernier_prel_datetime_no3_no2,\n",
    "        MAX(\n",
    "            CASE\n",
    "                WHEN\n",
    "                    last_pvl.cdparametresiseeaux = 'NO3'\n",
    "                    THEN last_pvl.valtraduite\n",
    "            END\n",
    "        ) AS valtraduite_no3,\n",
    "        MAX(\n",
    "            CASE\n",
    "                WHEN\n",
    "                    last_pvl.cdparametresiseeaux = 'NO2'\n",
    "                    THEN last_pvl.valtraduite\n",
    "            END\n",
    "        ) AS valtraduite_no2,\n",
    "        MAX(\n",
    "            CASE\n",
    "                WHEN\n",
    "                    last_pvl.cdparametresiseeaux = 'NO3_NO2'\n",
    "                    THEN last_pvl.valtraduite\n",
    "            END\n",
    "        ) AS valtraduite_no3_no2\n",
    "    FROM\n",
    "        last_pvl\n",
    "    WHERE\n",
    "        last_pvl.row_number = 1\n",
    "    GROUP BY\n",
    "        last_pvl.cdreseau,\n",
    "        last_pvl.categorie\n",
    "),\n",
    "\n",
    "split_nitrites_with_ref AS (\n",
    "    SELECT \n",
    "        split_nitrites.*,\n",
    "        valeur_ref.limite_qualite_no3,\n",
    "        valeur_ref.limite_qualite_no3_no2,\n",
    "        valeur_ref.limite_qualite_no2,\n",
    "        split_nitrites.valtraduite_no3 / 50\n",
    "        + split_nitrites.valtraduite_no2 / 3 AS valtraduite_no3_no2_calc\n",
    "    FROM split_nitrites\n",
    "    CROSS JOIN valeur_ref\n",
    "\n",
    ")\n",
    "\n",
    "SELECT\n",
    "    split_nitrites_with_ref.cdreseau,\n",
    "    split_nitrites_with_ref.categorie,\n",
    "    'dernier_prel' AS periode,\n",
    "    split_nitrites_with_ref.dernier_prel_datetime,\n",
    "    split_nitrites_with_ref.nb_parametres,\n",
    "  split_nitrites_with_ref.valtraduite_no2,\n",
    "  split_nitrites_with_ref.valtraduite_no3,\n",
    "  split_nitrites_with_ref.valtraduite_no3_no2,\n",
    "  split_nitrites_with_ref.valtraduite_no3_no2_calc\n",
    "FROM\n",
    "    split_nitrites_with_ref  \n",
    "WHERE\n",
    "    cdreseau IN( '002000060','095000346','001000003','976003554','088002296','073002059','973000028','001000260','001000268','001000293')\n",
    "ORDER BY \n",
    "    cdreseau"
   ]
  },
  {
   "cell_type": "code",
   "execution_count": 9,
   "id": "2137dd22-ec22-4b37-93ee-30b75c06ad42",
   "metadata": {},
   "outputs": [
    {
     "data": {
      "text/html": [
       "<span style=\"None\">Running query in &#x27;duckdb:///../../database/data.duckdb&#x27;</span>"
      ],
      "text/plain": [
       "Running query in 'duckdb:///../../database/data.duckdb'"
      ]
     },
     "metadata": {},
     "output_type": "display_data"
    },
    {
     "data": {
      "application/vnd.jupyter.widget-view+json": {
       "model_id": "9249792e8cbd438ab76d46ddb8001245",
       "version_major": 2,
       "version_minor": 0
      },
      "text/plain": [
       "FloatProgress(value=0.0, layout=Layout(width='auto'), style=ProgressStyle(bar_color='black'))"
      ]
     },
     "metadata": {},
     "output_type": "display_data"
    },
    {
     "data": {
      "text/html": [
       "<table>\n",
       "    <thead>\n",
       "        <tr>\n",
       "            <th>cdreseau</th>\n",
       "            <th>categorie</th>\n",
       "            <th>periode</th>\n",
       "            <th>dernier_prel_datetime</th>\n",
       "            <th>nb_parametres</th>\n",
       "            <th>resultat</th>\n",
       "        </tr>\n",
       "    </thead>\n",
       "    <tbody>\n",
       "        <tr>\n",
       "            <td>001000003</td>\n",
       "            <td>nitrate</td>\n",
       "            <td>dernier_prel</td>\n",
       "            <td>2025-01-21 12:35:00</td>\n",
       "            <td>3</td>\n",
       "            <td>conforme</td>\n",
       "        </tr>\n",
       "        <tr>\n",
       "            <td>001000260</td>\n",
       "            <td>nitrate</td>\n",
       "            <td>dernier_prel</td>\n",
       "            <td>2024-12-06 12:02:00</td>\n",
       "            <td>3</td>\n",
       "            <td>conforme</td>\n",
       "        </tr>\n",
       "        <tr>\n",
       "            <td>001000268</td>\n",
       "            <td>nitrate</td>\n",
       "            <td>dernier_prel</td>\n",
       "            <td>2025-01-13 09:57:00</td>\n",
       "            <td>3</td>\n",
       "            <td>conforme</td>\n",
       "        </tr>\n",
       "        <tr>\n",
       "            <td>001000293</td>\n",
       "            <td>nitrate</td>\n",
       "            <td>dernier_prel</td>\n",
       "            <td>2025-01-28 11:29:00</td>\n",
       "            <td>3</td>\n",
       "            <td>conforme</td>\n",
       "        </tr>\n",
       "        <tr>\n",
       "            <td>002000060</td>\n",
       "            <td>nitrate</td>\n",
       "            <td>dernier_prel</td>\n",
       "            <td>2024-10-18 08:50:00</td>\n",
       "            <td>3</td>\n",
       "            <td>non_conforme</td>\n",
       "        </tr>\n",
       "        <tr>\n",
       "            <td>073002059</td>\n",
       "            <td>nitrate</td>\n",
       "            <td>dernier_prel</td>\n",
       "            <td>2024-10-23 09:28:00</td>\n",
       "            <td>1</td>\n",
       "            <td>donnee_manquante</td>\n",
       "        </tr>\n",
       "        <tr>\n",
       "            <td>088002296</td>\n",
       "            <td>nitrate</td>\n",
       "            <td>dernier_prel</td>\n",
       "            <td>2024-09-27 12:00:00</td>\n",
       "            <td>1</td>\n",
       "            <td>donnee_manquante</td>\n",
       "        </tr>\n",
       "        <tr>\n",
       "            <td>095000346</td>\n",
       "            <td>nitrate</td>\n",
       "            <td>dernier_prel</td>\n",
       "            <td>2025-02-27 08:35:00</td>\n",
       "            <td>3</td>\n",
       "            <td>non_conforme</td>\n",
       "        </tr>\n",
       "        <tr>\n",
       "            <td>973000028</td>\n",
       "            <td>nitrate</td>\n",
       "            <td>dernier_prel</td>\n",
       "            <td>2024-12-02 11:30:00</td>\n",
       "            <td>2</td>\n",
       "            <td>conforme</td>\n",
       "        </tr>\n",
       "    </tbody>\n",
       "</table>"
      ],
      "text/plain": [
       "+-----------+-----------+--------------+-----------------------+---------------+------------------+\n",
       "|  cdreseau | categorie |   periode    | dernier_prel_datetime | nb_parametres |     resultat     |\n",
       "+-----------+-----------+--------------+-----------------------+---------------+------------------+\n",
       "| 001000003 |  nitrate  | dernier_prel |  2025-01-21 12:35:00  |       3       |     conforme     |\n",
       "| 001000260 |  nitrate  | dernier_prel |  2024-12-06 12:02:00  |       3       |     conforme     |\n",
       "| 001000268 |  nitrate  | dernier_prel |  2025-01-13 09:57:00  |       3       |     conforme     |\n",
       "| 001000293 |  nitrate  | dernier_prel |  2025-01-28 11:29:00  |       3       |     conforme     |\n",
       "| 002000060 |  nitrate  | dernier_prel |  2024-10-18 08:50:00  |       3       |   non_conforme   |\n",
       "| 073002059 |  nitrate  | dernier_prel |  2024-10-23 09:28:00  |       1       | donnee_manquante |\n",
       "| 088002296 |  nitrate  | dernier_prel |  2024-09-27 12:00:00  |       1       | donnee_manquante |\n",
       "| 095000346 |  nitrate  | dernier_prel |  2025-02-27 08:35:00  |       3       |   non_conforme   |\n",
       "| 973000028 |  nitrate  | dernier_prel |  2024-12-02 11:30:00  |       2       |     conforme     |\n",
       "+-----------+-----------+--------------+-----------------------+---------------+------------------+"
      ]
     },
     "execution_count": 9,
     "metadata": {},
     "output_type": "execute_result"
    }
   ],
   "source": [
    "%%sql --with int__resultats_nitrites_udi_dernier \n",
    " SELECT \n",
    "   *\n",
    " FROM\n",
    "   int__resultats_nitrites_udi_dernier\n",
    "WHERE\n",
    "    cdreseau IN( '002000060','095000346','001000003','976003554','088002296','073002059','973000028','001000260','001000268','001000293',)\n",
    "ORDER BY \n",
    "    cdreseau"
   ]
  },
  {
   "cell_type": "code",
   "execution_count": null,
   "id": "6dfd9bc4-176f-48ae-9db6-9b8be7b82b8d",
   "metadata": {},
   "outputs": [],
   "source": []
  }
 ],
 "metadata": {
  "kernelspec": {
   "display_name": "Python 3 (ipykernel)",
   "language": "python",
   "name": "python3"
  },
  "language_info": {
   "codemirror_mode": {
    "name": "ipython",
    "version": 3
   },
   "file_extension": ".py",
   "mimetype": "text/x-python",
   "name": "python",
   "nbconvert_exporter": "python",
   "pygments_lexer": "ipython3",
   "version": "3.12.9"
  }
 },
 "nbformat": 4,
 "nbformat_minor": 5
}
