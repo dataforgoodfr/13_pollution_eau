{
 "cells": [
  {
   "cell_type": "code",
   "execution_count": 1,
   "id": "2e8d5bd2-d7c1-4ecb-805d-27eaa75195e0",
   "metadata": {},
   "outputs": [
    {
     "data": {
      "text/html": [
       "<span style=\"None\">The &#x27;toml&#x27; package isn&#x27;t installed. To load settings from pyproject.toml or ~/.jupysql/config, install with: pip install toml</span>"
      ],
      "text/plain": [
       "The 'toml' package isn't installed. To load settings from pyproject.toml or ~/.jupysql/config, install with: pip install toml"
      ]
     },
     "metadata": {},
     "output_type": "display_data"
    },
    {
     "data": {
      "text/html": [
       "<span style=\"None\">Connecting to &#x27;duckdb:///../../database/data.duckdb&#x27;</span>"
      ],
      "text/plain": [
       "Connecting to 'duckdb:///../../database/data.duckdb'"
      ]
     },
     "metadata": {},
     "output_type": "display_data"
    }
   ],
   "source": [
    "%load_ext sql\n",
    "%sql duckdb:///../../database/data.duckdb"
   ]
  },
  {
   "cell_type": "code",
   "execution_count": 2,
   "id": "3e1967e8-eba0-4261-bf9c-d16dd4a9b271",
   "metadata": {
    "scrolled": true
   },
   "outputs": [
    {
     "data": {
      "text/html": [
       "<span style=\"None\">Running query in &#x27;duckdb:///../../database/data.duckdb&#x27;</span>"
      ],
      "text/plain": [
       "Running query in 'duckdb:///../../database/data.duckdb'"
      ]
     },
     "metadata": {},
     "output_type": "display_data"
    },
    {
     "data": {
      "text/html": [
       "<table>\n",
       "    <thead>\n",
       "        <tr>\n",
       "            <th>cdparametresiseeaux</th>\n",
       "            <th>cdparametre</th>\n",
       "            <th>libmajparametre</th>\n",
       "            <th>libminparametre</th>\n",
       "            <th>casparam</th>\n",
       "            <th>categorie</th>\n",
       "        </tr>\n",
       "    </thead>\n",
       "    <tbody>\n",
       "        <tr>\n",
       "            <td>NO3</td>\n",
       "            <td>1340</td>\n",
       "            <td>NITRATES (EN NO3)</td>\n",
       "            <td>Nitrates (en NO3)</td>\n",
       "            <td>None</td>\n",
       "            <td>nitrite</td>\n",
       "        </tr>\n",
       "        <tr>\n",
       "            <td>NO3_NO2</td>\n",
       "            <td>6374</td>\n",
       "            <td>NITRATES/50 + NITRITES/3</td>\n",
       "            <td>Nitrates/50 + Nitrites/3</td>\n",
       "            <td>None</td>\n",
       "            <td>nitrite</td>\n",
       "        </tr>\n",
       "        <tr>\n",
       "            <td>NO2</td>\n",
       "            <td>1339</td>\n",
       "            <td>NITRITES (EN NO2)</td>\n",
       "            <td>Nitrites (en NO2)</td>\n",
       "            <td>None</td>\n",
       "            <td>nitrite</td>\n",
       "        </tr>\n",
       "        <tr>\n",
       "            <td>NO3</td>\n",
       "            <td>1340</td>\n",
       "            <td>NITRATES (EN NO3)</td>\n",
       "            <td>Nitrates (en NO3)</td>\n",
       "            <td>14797-55-8</td>\n",
       "            <td>nitrite</td>\n",
       "        </tr>\n",
       "        <tr>\n",
       "            <td>NO2</td>\n",
       "            <td>1339</td>\n",
       "            <td>NITRITES (EN NO2)</td>\n",
       "            <td>Nitrites (en NO2)</td>\n",
       "            <td>14797-65-0</td>\n",
       "            <td>nitrite</td>\n",
       "        </tr>\n",
       "    </tbody>\n",
       "</table>"
      ],
      "text/plain": [
       "+---------------------+-------------+--------------------------+--------------------------+------------+-----------+\n",
       "| cdparametresiseeaux | cdparametre |     libmajparametre      |     libminparametre      |  casparam  | categorie |\n",
       "+---------------------+-------------+--------------------------+--------------------------+------------+-----------+\n",
       "|         NO3         |     1340    |    NITRATES (EN NO3)     |    Nitrates (en NO3)     |    None    |  nitrite  |\n",
       "|       NO3_NO2       |     6374    | NITRATES/50 + NITRITES/3 | Nitrates/50 + Nitrites/3 |    None    |  nitrite  |\n",
       "|         NO2         |     1339    |    NITRITES (EN NO2)     |    Nitrites (en NO2)     |    None    |  nitrite  |\n",
       "|         NO3         |     1340    |    NITRATES (EN NO3)     |    Nitrates (en NO3)     | 14797-55-8 |  nitrite  |\n",
       "|         NO2         |     1339    |    NITRITES (EN NO2)     |    Nitrites (en NO2)     | 14797-65-0 |  nitrite  |\n",
       "+---------------------+-------------+--------------------------+--------------------------+------------+-----------+"
      ]
     },
     "execution_count": 2,
     "metadata": {},
     "output_type": "execute_result"
    }
   ],
   "source": [
    "%%sql\n",
    "SELECT * FROM mapping_categories WHERE categorie='nitrite'"
   ]
  },
  {
   "cell_type": "code",
   "execution_count": 3,
   "id": "de799aa8-64a7-4423-901c-7de0fc237b70",
   "metadata": {},
   "outputs": [
    {
     "data": {
      "text/html": [
       "<span style=\"None\">Running query in &#x27;duckdb:///../../database/data.duckdb&#x27;</span>"
      ],
      "text/plain": [
       "Running query in 'duckdb:///../../database/data.duckdb'"
      ]
     },
     "metadata": {},
     "output_type": "display_data"
    },
    {
     "data": {
      "application/vnd.jupyter.widget-view+json": {
       "model_id": "393adae3495f4ce48ef2f5c79b4a58f1",
       "version_major": 2,
       "version_minor": 0
      },
      "text/plain": [
       "FloatProgress(value=0.0, layout=Layout(width='auto'), style=ProgressStyle(bar_color='black'))"
      ]
     },
     "metadata": {},
     "output_type": "display_data"
    },
    {
     "data": {
      "text/html": [
       "<table>\n",
       "    <thead>\n",
       "        <tr>\n",
       "            <th>cdreseau</th>\n",
       "            <th>categorie</th>\n",
       "            <th>periode</th>\n",
       "            <th>dernier_prel_datetime</th>\n",
       "            <th>nb_parametres</th>\n",
       "            <th>resultat</th>\n",
       "        </tr>\n",
       "    </thead>\n",
       "    <tbody>\n",
       "        <tr>\n",
       "            <td>038001345</td>\n",
       "            <td>nitrite</td>\n",
       "            <td>dernier_prel</td>\n",
       "            <td>2024-12-03 09:10:00</td>\n",
       "            <td>3</td>\n",
       "            <td>conforme</td>\n",
       "        </tr>\n",
       "        <tr>\n",
       "            <td>038001363</td>\n",
       "            <td>nitrite</td>\n",
       "            <td>dernier_prel</td>\n",
       "            <td>2024-10-17 10:15:00</td>\n",
       "            <td>3</td>\n",
       "            <td>donnee_manquante</td>\n",
       "        </tr>\n",
       "        <tr>\n",
       "            <td>038001404</td>\n",
       "            <td>nitrite</td>\n",
       "            <td>dernier_prel</td>\n",
       "            <td>2024-09-13 08:05:00</td>\n",
       "            <td>3</td>\n",
       "            <td>conforme</td>\n",
       "        </tr>\n",
       "        <tr>\n",
       "            <td>038001576</td>\n",
       "            <td>nitrite</td>\n",
       "            <td>dernier_prel</td>\n",
       "            <td>2024-10-15 10:10:00</td>\n",
       "            <td>3</td>\n",
       "            <td>donnee_manquante</td>\n",
       "        </tr>\n",
       "        <tr>\n",
       "            <td>038001625</td>\n",
       "            <td>nitrite</td>\n",
       "            <td>dernier_prel</td>\n",
       "            <td>2024-12-17 10:25:00</td>\n",
       "            <td>3</td>\n",
       "            <td>conforme</td>\n",
       "        </tr>\n",
       "        <tr>\n",
       "            <td>038001899</td>\n",
       "            <td>nitrite</td>\n",
       "            <td>dernier_prel</td>\n",
       "            <td>2024-11-13 07:35:00</td>\n",
       "            <td>3</td>\n",
       "            <td>conforme</td>\n",
       "        </tr>\n",
       "        <tr>\n",
       "            <td>038001960</td>\n",
       "            <td>nitrite</td>\n",
       "            <td>dernier_prel</td>\n",
       "            <td>2024-10-14 11:25:00</td>\n",
       "            <td>3</td>\n",
       "            <td>conforme</td>\n",
       "        </tr>\n",
       "        <tr>\n",
       "            <td>038002035</td>\n",
       "            <td>nitrite</td>\n",
       "            <td>dernier_prel</td>\n",
       "            <td>2024-10-09 08:55:00</td>\n",
       "            <td>3</td>\n",
       "            <td>conforme</td>\n",
       "        </tr>\n",
       "        <tr>\n",
       "            <td>038002151</td>\n",
       "            <td>nitrite</td>\n",
       "            <td>dernier_prel</td>\n",
       "            <td>2024-11-18 10:25:00</td>\n",
       "            <td>3</td>\n",
       "            <td>conforme</td>\n",
       "        </tr>\n",
       "        <tr>\n",
       "            <td>038002176</td>\n",
       "            <td>nitrite</td>\n",
       "            <td>dernier_prel</td>\n",
       "            <td>2024-10-07 06:50:00</td>\n",
       "            <td>3</td>\n",
       "            <td>conforme</td>\n",
       "        </tr>\n",
       "    </tbody>\n",
       "</table>\n",
       "<span style=\"font-style:italic;text-align:center;\">Truncated to <a href=\"https://jupysql.ploomber.io/en/latest/api/configuration.html#displaylimit\">displaylimit</a> of 10.</span>"
      ],
      "text/plain": [
       "+-----------+-----------+--------------+-----------------------+---------------+------------------+\n",
       "|  cdreseau | categorie |   periode    | dernier_prel_datetime | nb_parametres |     resultat     |\n",
       "+-----------+-----------+--------------+-----------------------+---------------+------------------+\n",
       "| 038001345 |  nitrite  | dernier_prel |  2024-12-03 09:10:00  |       3       |     conforme     |\n",
       "| 038001363 |  nitrite  | dernier_prel |  2024-10-17 10:15:00  |       3       | donnee_manquante |\n",
       "| 038001404 |  nitrite  | dernier_prel |  2024-09-13 08:05:00  |       3       |     conforme     |\n",
       "| 038001576 |  nitrite  | dernier_prel |  2024-10-15 10:10:00  |       3       | donnee_manquante |\n",
       "| 038001625 |  nitrite  | dernier_prel |  2024-12-17 10:25:00  |       3       |     conforme     |\n",
       "| 038001899 |  nitrite  | dernier_prel |  2024-11-13 07:35:00  |       3       |     conforme     |\n",
       "| 038001960 |  nitrite  | dernier_prel |  2024-10-14 11:25:00  |       3       |     conforme     |\n",
       "| 038002035 |  nitrite  | dernier_prel |  2024-10-09 08:55:00  |       3       |     conforme     |\n",
       "| 038002151 |  nitrite  | dernier_prel |  2024-11-18 10:25:00  |       3       |     conforme     |\n",
       "| 038002176 |  nitrite  | dernier_prel |  2024-10-07 06:50:00  |       3       |     conforme     |\n",
       "+-----------+-----------+--------------+-----------------------+---------------+------------------+\n",
       "Truncated to displaylimit of 10."
      ]
     },
     "execution_count": 3,
     "metadata": {},
     "output_type": "execute_result"
    }
   ],
   "source": [
    "%%sql --save int__resultats_nitrites_udi_dernier\n",
    "WITH\n",
    "last_pvl AS (\n",
    "    SELECT\n",
    "        cdreseau,\n",
    "        categorie,\n",
    "        cdparametresiseeaux,\n",
    "        datetimeprel,\n",
    "        valtraduite,\n",
    "        ROW_NUMBER()\n",
    "            OVER (\n",
    "                PARTITION BY cdreseau, cdparametresiseeaux\n",
    "                ORDER BY datetimeprel DESC\n",
    "            )\n",
    "            AS row_number\n",
    "    FROM\n",
    "        int__resultats_udi_communes\n",
    "    WHERE\n",
    "        categorie = 'nitrite'\n",
    "        AND\n",
    "        -- On garde les prélèvements de moins d'un an\n",
    "        CURRENT_DATE - datetimeprel < INTERVAL 1 YEAR\n",
    "),\n",
    "\n",
    "split_nitrites AS (\n",
    "    SELECT\n",
    "        last_pvl.cdreseau,\n",
    "        last_pvl.categorie,\n",
    "        COUNT(DISTINCT last_pvl.cdparametresiseeaux) AS nb_parametres,\n",
    "        MAX(last_pvl.datetimeprel) AS dernier_prel_datetime,\n",
    "        MAX(\n",
    "            CASE\n",
    "                WHEN\n",
    "                    last_pvl.cdparametresiseeaux = 'NO3'\n",
    "                    THEN last_pvl.datetimeprel\n",
    "            END\n",
    "        ) AS dernier_prel_datetime_n03,\n",
    "        MAX(\n",
    "            CASE\n",
    "                WHEN\n",
    "                    last_pvl.cdparametresiseeaux = 'NO2'\n",
    "                    THEN last_pvl.datetimeprel\n",
    "            END\n",
    "        ) AS dernier_prel_datetime_n02,\n",
    "        MAX(\n",
    "            CASE\n",
    "                WHEN\n",
    "                    last_pvl.cdparametresiseeaux = 'NO3_NO2'\n",
    "                    THEN last_pvl.datetimeprel\n",
    "            END\n",
    "        ) AS dernier_prel_datetime_no3_no2,\n",
    "        MAX(\n",
    "            CASE\n",
    "                WHEN\n",
    "                    last_pvl.cdparametresiseeaux = 'NO3'\n",
    "                    THEN last_pvl.valtraduite\n",
    "            END\n",
    "        ) AS valtraduite_no3,\n",
    "        MAX(\n",
    "            CASE\n",
    "                WHEN\n",
    "                    last_pvl.cdparametresiseeaux = 'NO2'\n",
    "                    THEN last_pvl.valtraduite\n",
    "            END\n",
    "        ) AS valtraduite_no2,\n",
    "        MAX(\n",
    "            CASE\n",
    "                WHEN\n",
    "                    last_pvl.cdparametresiseeaux = 'NO3_NO2'\n",
    "                    THEN last_pvl.valtraduite\n",
    "            END\n",
    "        ) AS valtraduite_no3_no2\n",
    "    FROM\n",
    "        last_pvl\n",
    "    WHERE\n",
    "        last_pvl.row_number = 1\n",
    "    GROUP BY\n",
    "        last_pvl.cdreseau,\n",
    "        last_pvl.categorie\n",
    ")\n",
    "\n",
    "SELECT\n",
    "    split_nitrites.cdreseau,\n",
    "    split_nitrites.categorie,\n",
    "    'dernier_prel' AS periode,\n",
    "    split_nitrites.dernier_prel_datetime,\n",
    "    split_nitrites.nb_parametres,\n",
    "    CASE\n",
    "        WHEN\n",
    "            DATE_DIFF(\n",
    "                'day',\n",
    "                LEAST(\n",
    "                    split_nitrites.dernier_prel_datetime_n03,\n",
    "                    split_nitrites.dernier_prel_datetime_n02,\n",
    "                    split_nitrites.dernier_prel_datetime_no3_no2\n",
    "                ),\n",
    "                GREATEST(\n",
    "                    split_nitrites.dernier_prel_datetime_n03,\n",
    "                    split_nitrites.dernier_prel_datetime_n02,\n",
    "                    split_nitrites.dernier_prel_datetime_no3_no2\n",
    "                )\n",
    "            ) >= 30\n",
    "            OR split_nitrites.valtraduite_no2 IS NULL\n",
    "            OR split_nitrites.valtraduite_no3 IS NULL\n",
    "            THEN 'donnee_manquante'\n",
    "        WHEN\n",
    "            split_nitrites.valtraduite_no3_no2 IS NULL\n",
    "            AND split_nitrites.valtraduite_no2 IS NOT NULL\n",
    "            AND split_nitrites.valtraduite_no3 IS NOT NULL\n",
    "            AND split_nitrites.valtraduite_no3 < 50\n",
    "            AND split_nitrites.valtraduite_no2 < 0.5\n",
    "            AND split_nitrites.valtraduite_no3 / 50\n",
    "            + split_nitrites.valtraduite_no2 / 3\n",
    "            < 1\n",
    "            THEN 'conforme'\n",
    "        WHEN\n",
    "            split_nitrites.nb_parametres = 3\n",
    "            AND split_nitrites.valtraduite_no3 < 50\n",
    "            AND split_nitrites.valtraduite_no2 < 0.5\n",
    "            AND split_nitrites.valtraduite_no3_no2 < 1\n",
    "            THEN 'conforme'\n",
    "        WHEN\n",
    "            split_nitrites.valtraduite_no3 >= 50\n",
    "            OR split_nitrites.valtraduite_no2 >= 0.5\n",
    "            OR split_nitrites.valtraduite_no3_no2 >= 1\n",
    "            THEN 'non_conforme'\n",
    "        /*        WHEN\n",
    "            split_nitrites.nb_parametres != 3\n",
    "            AND (\n",
    "                split_nitrites.valtraduite_no3 < 50\n",
    "                OR split_nitrites.valtraduite_no2 < 0.5\n",
    "                OR split_nitrites.valtraduite_no3_no2 < 1\n",
    "            )\n",
    "            THEN 'non_quantifie'*/\n",
    "        ELSE 'error'\n",
    "    END AS resultat\n",
    "FROM\n",
    "    split_nitrites\n"
   ]
  },
  {
   "cell_type": "code",
   "execution_count": 4,
   "id": "2a287b57-fa15-4939-8209-7dcdf0e75eda",
   "metadata": {},
   "outputs": [
    {
     "data": {
      "text/html": [
       "<span style=\"None\">Running query in &#x27;duckdb:///../../database/data.duckdb&#x27;</span>"
      ],
      "text/plain": [
       "Running query in 'duckdb:///../../database/data.duckdb'"
      ]
     },
     "metadata": {},
     "output_type": "display_data"
    },
    {
     "data": {
      "application/vnd.jupyter.widget-view+json": {
       "model_id": "929b4592e19847a2802cb22edcf32040",
       "version_major": 2,
       "version_minor": 0
      },
      "text/plain": [
       "FloatProgress(value=0.0, layout=Layout(width='auto'), style=ProgressStyle(bar_color='black'))"
      ]
     },
     "metadata": {},
     "output_type": "display_data"
    },
    {
     "data": {
      "text/html": [
       "<table>\n",
       "    <thead>\n",
       "        <tr>\n",
       "            <th>cdreseau</th>\n",
       "            <th>categorie</th>\n",
       "            <th>periode</th>\n",
       "            <th>dernier_prel_datetime</th>\n",
       "            <th>nb_parametres</th>\n",
       "            <th>resultat</th>\n",
       "        </tr>\n",
       "    </thead>\n",
       "    <tbody>\n",
       "    </tbody>\n",
       "</table>"
      ],
      "text/plain": [
       "+----------+-----------+---------+-----------------------+---------------+----------+\n",
       "| cdreseau | categorie | periode | dernier_prel_datetime | nb_parametres | resultat |\n",
       "+----------+-----------+---------+-----------------------+---------------+----------+\n",
       "+----------+-----------+---------+-----------------------+---------------+----------+"
      ]
     },
     "execution_count": 4,
     "metadata": {},
     "output_type": "execute_result"
    }
   ],
   "source": [
    "%%sql --with int__resultats_nitrites_udi_dernier\n",
    "SELECT \n",
    "    * \n",
    "FROM \n",
    "    int__resultats_nitrites_udi_dernier\n",
    "WHERE \n",
    "    resultat='error'"
   ]
  },
  {
   "cell_type": "code",
   "execution_count": 5,
   "id": "30487685-f619-43ab-be20-054cb46db3c6",
   "metadata": {},
   "outputs": [
    {
     "data": {
      "text/html": [
       "<span style=\"None\">Running query in &#x27;duckdb:///../../database/data.duckdb&#x27;</span>"
      ],
      "text/plain": [
       "Running query in 'duckdb:///../../database/data.duckdb'"
      ]
     },
     "metadata": {},
     "output_type": "display_data"
    },
    {
     "data": {
      "application/vnd.jupyter.widget-view+json": {
       "model_id": "4c142c15520f4e5a9e4d583196cc29e4",
       "version_major": 2,
       "version_minor": 0
      },
      "text/plain": [
       "FloatProgress(value=0.0, layout=Layout(width='auto'), style=ProgressStyle(bar_color='black'))"
      ]
     },
     "metadata": {},
     "output_type": "display_data"
    },
    {
     "data": {
      "text/html": [
       "<table>\n",
       "    <thead>\n",
       "        <tr>\n",
       "            <th>resultat</th>\n",
       "            <th>min_cdreseau</th>\n",
       "            <th>max_cdreseau</th>\n",
       "        </tr>\n",
       "    </thead>\n",
       "    <tbody>\n",
       "        <tr>\n",
       "            <td>non_conforme</td>\n",
       "            <td>002000060</td>\n",
       "            <td>095000307</td>\n",
       "        </tr>\n",
       "        <tr>\n",
       "            <td>conforme</td>\n",
       "            <td>001000003</td>\n",
       "            <td>976003487</td>\n",
       "        </tr>\n",
       "        <tr>\n",
       "            <td>donnee_manquante</td>\n",
       "            <td>001000251</td>\n",
       "            <td>976003554</td>\n",
       "        </tr>\n",
       "    </tbody>\n",
       "</table>"
      ],
      "text/plain": [
       "+------------------+--------------+--------------+\n",
       "|     resultat     | min_cdreseau | max_cdreseau |\n",
       "+------------------+--------------+--------------+\n",
       "|   non_conforme   |  002000060   |  095000307   |\n",
       "|     conforme     |  001000003   |  976003487   |\n",
       "| donnee_manquante |  001000251   |  976003554   |\n",
       "+------------------+--------------+--------------+"
      ]
     },
     "execution_count": 5,
     "metadata": {},
     "output_type": "execute_result"
    }
   ],
   "source": [
    "%%sql --with int__resultats_nitrites_udi_dernier\n",
    "SELECT \n",
    "    resultat, MIN( cdreseau) min_cdreseau, MAX(cdreseau) AS max_cdreseau\n",
    "FROM \n",
    "    int__resultats_nitrites_udi_dernier\n",
    "GROUP BY 1"
   ]
  },
  {
   "cell_type": "markdown",
   "id": "c596b48d-ebc4-4fb9-aab8-b626076792d2",
   "metadata": {},
   "source": [
    "# Check "
   ]
  },
  {
   "cell_type": "code",
   "execution_count": 8,
   "id": "761be547-f21e-4712-a898-4175f8faa89c",
   "metadata": {},
   "outputs": [
    {
     "data": {
      "text/html": [
       "<span style=\"None\">Running query in &#x27;duckdb:///../../database/data.duckdb&#x27;</span>"
      ],
      "text/plain": [
       "Running query in 'duckdb:///../../database/data.duckdb'"
      ]
     },
     "metadata": {},
     "output_type": "display_data"
    },
    {
     "data": {
      "application/vnd.jupyter.widget-view+json": {
       "model_id": "08da46f805e6474bb69cb35f30140197",
       "version_major": 2,
       "version_minor": 0
      },
      "text/plain": [
       "FloatProgress(value=0.0, layout=Layout(width='auto'), style=ProgressStyle(bar_color='black'))"
      ]
     },
     "metadata": {},
     "output_type": "display_data"
    },
    {
     "data": {
      "text/html": [
       "<table>\n",
       "    <thead>\n",
       "        <tr>\n",
       "            <th>cdreseau</th>\n",
       "            <th>categorie</th>\n",
       "            <th>nb_parametres</th>\n",
       "            <th>dernier_prel_datetime</th>\n",
       "            <th>dernier_prel_datetime_n03</th>\n",
       "            <th>dernier_prel_datetime_n02</th>\n",
       "            <th>dernier_prel_datetime_no3_no2</th>\n",
       "            <th>valtraduite_no3</th>\n",
       "            <th>valtraduite_no2</th>\n",
       "            <th>valtraduite_no3_no2</th>\n",
       "        </tr>\n",
       "    </thead>\n",
       "    <tbody>\n",
       "        <tr>\n",
       "            <td>001000003</td>\n",
       "            <td>nitrite</td>\n",
       "            <td>3</td>\n",
       "            <td>2024-12-26 09:08:00</td>\n",
       "            <td>2024-12-26 09:08:00</td>\n",
       "            <td>2024-12-26 09:08:00</td>\n",
       "            <td>2024-12-26 09:08:00</td>\n",
       "            <td>13.000</td>\n",
       "            <td>0.000</td>\n",
       "            <td>0.260</td>\n",
       "        </tr>\n",
       "        <tr>\n",
       "            <td>001000260</td>\n",
       "            <td>nitrite</td>\n",
       "            <td>3</td>\n",
       "            <td>2024-12-06 12:02:00</td>\n",
       "            <td>2024-12-06 12:02:00</td>\n",
       "            <td>2024-12-06 12:02:00</td>\n",
       "            <td>2024-12-06 12:02:00</td>\n",
       "            <td>2.400</td>\n",
       "            <td>0.000</td>\n",
       "            <td>0.050</td>\n",
       "        </tr>\n",
       "        <tr>\n",
       "            <td>001000268</td>\n",
       "            <td>nitrite</td>\n",
       "            <td>3</td>\n",
       "            <td>2024-11-28 08:25:00</td>\n",
       "            <td>2024-11-28 08:25:00</td>\n",
       "            <td>2024-11-28 08:25:00</td>\n",
       "            <td>2024-11-28 08:25:00</td>\n",
       "            <td>2.600</td>\n",
       "            <td>0.000</td>\n",
       "            <td>0.050</td>\n",
       "        </tr>\n",
       "        <tr>\n",
       "            <td>001000293</td>\n",
       "            <td>nitrite</td>\n",
       "            <td>3</td>\n",
       "            <td>2024-10-10 10:20:00</td>\n",
       "            <td>2024-10-10 10:20:00</td>\n",
       "            <td>2024-10-10 10:20:00</td>\n",
       "            <td>2024-10-10 10:20:00</td>\n",
       "            <td>4.000</td>\n",
       "            <td>0.000</td>\n",
       "            <td>0.080</td>\n",
       "        </tr>\n",
       "        <tr>\n",
       "            <td>002000060</td>\n",
       "            <td>nitrite</td>\n",
       "            <td>3</td>\n",
       "            <td>2024-10-18 08:50:00</td>\n",
       "            <td>2024-10-18 08:50:00</td>\n",
       "            <td>2024-10-18 08:50:00</td>\n",
       "            <td>2024-10-18 08:31:00</td>\n",
       "            <td>59.300</td>\n",
       "            <td>0.000</td>\n",
       "            <td>0.000</td>\n",
       "        </tr>\n",
       "        <tr>\n",
       "            <td>073002059</td>\n",
       "            <td>nitrite</td>\n",
       "            <td>1</td>\n",
       "            <td>2024-10-23 09:28:00</td>\n",
       "            <td>None</td>\n",
       "            <td>2024-10-23 09:28:00</td>\n",
       "            <td>None</td>\n",
       "            <td>None</td>\n",
       "            <td>0.000</td>\n",
       "            <td>None</td>\n",
       "        </tr>\n",
       "        <tr>\n",
       "            <td>088002296</td>\n",
       "            <td>nitrite</td>\n",
       "            <td>1</td>\n",
       "            <td>2024-09-27 12:00:00</td>\n",
       "            <td>None</td>\n",
       "            <td>2024-09-27 12:00:00</td>\n",
       "            <td>None</td>\n",
       "            <td>None</td>\n",
       "            <td>0.000</td>\n",
       "            <td>None</td>\n",
       "        </tr>\n",
       "        <tr>\n",
       "            <td>095000346</td>\n",
       "            <td>nitrite</td>\n",
       "            <td>3</td>\n",
       "            <td>2024-12-17 08:55:00</td>\n",
       "            <td>2024-12-17 08:55:00</td>\n",
       "            <td>2024-07-01 09:20:00</td>\n",
       "            <td>2024-07-01 09:20:00</td>\n",
       "            <td>51.000</td>\n",
       "            <td>0.000</td>\n",
       "            <td>1.000</td>\n",
       "        </tr>\n",
       "        <tr>\n",
       "            <td>973000028</td>\n",
       "            <td>nitrite</td>\n",
       "            <td>2</td>\n",
       "            <td>2024-12-02 11:30:00</td>\n",
       "            <td>2024-12-02 11:30:00</td>\n",
       "            <td>2024-12-02 11:30:00</td>\n",
       "            <td>None</td>\n",
       "            <td>0.000</td>\n",
       "            <td>0.000</td>\n",
       "            <td>None</td>\n",
       "        </tr>\n",
       "        <tr>\n",
       "            <td>976003554</td>\n",
       "            <td>nitrite</td>\n",
       "            <td>2</td>\n",
       "            <td>2024-11-12 10:00:00</td>\n",
       "            <td>2024-11-12 10:00:00</td>\n",
       "            <td>2024-09-10 09:20:00</td>\n",
       "            <td>None</td>\n",
       "            <td>0.000</td>\n",
       "            <td>0.000</td>\n",
       "            <td>None</td>\n",
       "        </tr>\n",
       "    </tbody>\n",
       "</table>\n",
       "<span style=\"font-style:italic;text-align:center;\">Truncated to <a href=\"https://jupysql.ploomber.io/en/latest/api/configuration.html#displaylimit\">displaylimit</a> of 10.</span>"
      ],
      "text/plain": [
       "+-----------+-----------+---------------+-----------------------+---------------------------+---------------------------+-------------------------------+-----------------+-----------------+---------------------+\n",
       "|  cdreseau | categorie | nb_parametres | dernier_prel_datetime | dernier_prel_datetime_n03 | dernier_prel_datetime_n02 | dernier_prel_datetime_no3_no2 | valtraduite_no3 | valtraduite_no2 | valtraduite_no3_no2 |\n",
       "+-----------+-----------+---------------+-----------------------+---------------------------+---------------------------+-------------------------------+-----------------+-----------------+---------------------+\n",
       "| 001000003 |  nitrite  |       3       |  2024-12-26 09:08:00  |    2024-12-26 09:08:00    |    2024-12-26 09:08:00    |      2024-12-26 09:08:00      |      13.000     |      0.000      |        0.260        |\n",
       "| 001000260 |  nitrite  |       3       |  2024-12-06 12:02:00  |    2024-12-06 12:02:00    |    2024-12-06 12:02:00    |      2024-12-06 12:02:00      |      2.400      |      0.000      |        0.050        |\n",
       "| 001000268 |  nitrite  |       3       |  2024-11-28 08:25:00  |    2024-11-28 08:25:00    |    2024-11-28 08:25:00    |      2024-11-28 08:25:00      |      2.600      |      0.000      |        0.050        |\n",
       "| 001000293 |  nitrite  |       3       |  2024-10-10 10:20:00  |    2024-10-10 10:20:00    |    2024-10-10 10:20:00    |      2024-10-10 10:20:00      |      4.000      |      0.000      |        0.080        |\n",
       "| 002000060 |  nitrite  |       3       |  2024-10-18 08:50:00  |    2024-10-18 08:50:00    |    2024-10-18 08:50:00    |      2024-10-18 08:31:00      |      59.300     |      0.000      |        0.000        |\n",
       "| 073002059 |  nitrite  |       1       |  2024-10-23 09:28:00  |            None           |    2024-10-23 09:28:00    |              None             |       None      |      0.000      |         None        |\n",
       "| 088002296 |  nitrite  |       1       |  2024-09-27 12:00:00  |            None           |    2024-09-27 12:00:00    |              None             |       None      |      0.000      |         None        |\n",
       "| 095000346 |  nitrite  |       3       |  2024-12-17 08:55:00  |    2024-12-17 08:55:00    |    2024-07-01 09:20:00    |      2024-07-01 09:20:00      |      51.000     |      0.000      |        1.000        |\n",
       "| 973000028 |  nitrite  |       2       |  2024-12-02 11:30:00  |    2024-12-02 11:30:00    |    2024-12-02 11:30:00    |              None             |      0.000      |      0.000      |         None        |\n",
       "| 976003554 |  nitrite  |       2       |  2024-11-12 10:00:00  |    2024-11-12 10:00:00    |    2024-09-10 09:20:00    |              None             |      0.000      |      0.000      |         None        |\n",
       "+-----------+-----------+---------------+-----------------------+---------------------------+---------------------------+-------------------------------+-----------------+-----------------+---------------------+\n",
       "Truncated to displaylimit of 10."
      ]
     },
     "execution_count": 8,
     "metadata": {},
     "output_type": "execute_result"
    }
   ],
   "source": [
    "%%sql\n",
    "WITH\n",
    "last_pvl AS (\n",
    "    SELECT\n",
    "        cdreseau,\n",
    "        categorie,\n",
    "        cdparametresiseeaux,\n",
    "        datetimeprel,\n",
    "        valtraduite,\n",
    "        ROW_NUMBER()\n",
    "            OVER (\n",
    "                PARTITION BY cdreseau, cdparametresiseeaux\n",
    "                ORDER BY datetimeprel DESC\n",
    "            )\n",
    "            AS row_number\n",
    "    FROM\n",
    "        int__resultats_udi_communes\n",
    "    WHERE\n",
    "        categorie = 'nitrite'\n",
    "        AND\n",
    "        -- On garde les prélèvements de moins d'un an\n",
    "        CURRENT_DATE - datetimeprel < INTERVAL 1 YEAR\n",
    ")\n",
    "    SELECT\n",
    "        last_pvl.cdreseau,\n",
    "        last_pvl.categorie,\n",
    "        COUNT(DISTINCT last_pvl.cdparametresiseeaux) AS nb_parametres,\n",
    "        MAX(last_pvl.datetimeprel) AS dernier_prel_datetime,\n",
    "        MAX(\n",
    "            CASE\n",
    "                WHEN\n",
    "                    last_pvl.cdparametresiseeaux = 'NO3'\n",
    "                    THEN last_pvl.datetimeprel\n",
    "            END\n",
    "        ) AS dernier_prel_datetime_n03,\n",
    "        MAX(\n",
    "            CASE\n",
    "                WHEN\n",
    "                    last_pvl.cdparametresiseeaux = 'NO2'\n",
    "                    THEN last_pvl.datetimeprel\n",
    "            END\n",
    "        ) AS dernier_prel_datetime_n02,\n",
    "        MAX(\n",
    "            CASE\n",
    "                WHEN\n",
    "                    last_pvl.cdparametresiseeaux = 'NO3_NO2'\n",
    "                    THEN last_pvl.datetimeprel\n",
    "            END\n",
    "        ) AS dernier_prel_datetime_no3_no2,\n",
    "        MAX(\n",
    "            CASE\n",
    "                WHEN\n",
    "                    last_pvl.cdparametresiseeaux = 'NO3'\n",
    "                    THEN last_pvl.valtraduite\n",
    "            END\n",
    "        ) AS valtraduite_no3,\n",
    "        MAX(\n",
    "            CASE\n",
    "                WHEN\n",
    "                    last_pvl.cdparametresiseeaux = 'NO2'\n",
    "                    THEN last_pvl.valtraduite\n",
    "            END\n",
    "        ) AS valtraduite_no2,\n",
    "        MAX(\n",
    "            CASE\n",
    "                WHEN\n",
    "                    last_pvl.cdparametresiseeaux = 'NO3_NO2'\n",
    "                    THEN last_pvl.valtraduite\n",
    "            END\n",
    "        ) AS valtraduite_no3_no2\n",
    "    FROM\n",
    "        last_pvl\n",
    "    WHERE\n",
    "        last_pvl.row_number = 1\n",
    "        AND cdreseau IN( '002000060','095000346','001000003','976003554','088002296','073002059','973000028','001000260','001000268','001000293')\n",
    "    GROUP BY\n",
    "        last_pvl.cdreseau,\n",
    "        last_pvl.categorie\n",
    "    ORDER BY \n",
    "        cdreseau"
   ]
  },
  {
   "cell_type": "code",
   "execution_count": 7,
   "id": "2137dd22-ec22-4b37-93ee-30b75c06ad42",
   "metadata": {},
   "outputs": [
    {
     "data": {
      "text/html": [
       "<span style=\"None\">Running query in &#x27;duckdb:///../../database/data.duckdb&#x27;</span>"
      ],
      "text/plain": [
       "Running query in 'duckdb:///../../database/data.duckdb'"
      ]
     },
     "metadata": {},
     "output_type": "display_data"
    },
    {
     "data": {
      "application/vnd.jupyter.widget-view+json": {
       "model_id": "f39eb246f635494e933f46977dd4b3d9",
       "version_major": 2,
       "version_minor": 0
      },
      "text/plain": [
       "FloatProgress(value=0.0, layout=Layout(width='auto'), style=ProgressStyle(bar_color='black'))"
      ]
     },
     "metadata": {},
     "output_type": "display_data"
    },
    {
     "data": {
      "text/html": [
       "<table>\n",
       "    <thead>\n",
       "        <tr>\n",
       "            <th>cdreseau</th>\n",
       "            <th>categorie</th>\n",
       "            <th>periode</th>\n",
       "            <th>dernier_prel_datetime</th>\n",
       "            <th>nb_parametres</th>\n",
       "            <th>resultat</th>\n",
       "        </tr>\n",
       "    </thead>\n",
       "    <tbody>\n",
       "        <tr>\n",
       "            <td>001000003</td>\n",
       "            <td>nitrite</td>\n",
       "            <td>dernier_prel</td>\n",
       "            <td>2024-12-26 09:08:00</td>\n",
       "            <td>3</td>\n",
       "            <td>conforme</td>\n",
       "        </tr>\n",
       "        <tr>\n",
       "            <td>001000260</td>\n",
       "            <td>nitrite</td>\n",
       "            <td>dernier_prel</td>\n",
       "            <td>2024-12-06 12:02:00</td>\n",
       "            <td>3</td>\n",
       "            <td>conforme</td>\n",
       "        </tr>\n",
       "        <tr>\n",
       "            <td>001000268</td>\n",
       "            <td>nitrite</td>\n",
       "            <td>dernier_prel</td>\n",
       "            <td>2024-11-28 08:25:00</td>\n",
       "            <td>3</td>\n",
       "            <td>conforme</td>\n",
       "        </tr>\n",
       "        <tr>\n",
       "            <td>001000293</td>\n",
       "            <td>nitrite</td>\n",
       "            <td>dernier_prel</td>\n",
       "            <td>2024-10-10 10:20:00</td>\n",
       "            <td>3</td>\n",
       "            <td>conforme</td>\n",
       "        </tr>\n",
       "        <tr>\n",
       "            <td>002000060</td>\n",
       "            <td>nitrite</td>\n",
       "            <td>dernier_prel</td>\n",
       "            <td>2024-10-18 08:50:00</td>\n",
       "            <td>3</td>\n",
       "            <td>non_conforme</td>\n",
       "        </tr>\n",
       "        <tr>\n",
       "            <td>073002059</td>\n",
       "            <td>nitrite</td>\n",
       "            <td>dernier_prel</td>\n",
       "            <td>2024-10-23 09:28:00</td>\n",
       "            <td>1</td>\n",
       "            <td>donnee_manquante</td>\n",
       "        </tr>\n",
       "        <tr>\n",
       "            <td>088002296</td>\n",
       "            <td>nitrite</td>\n",
       "            <td>dernier_prel</td>\n",
       "            <td>2024-09-27 12:00:00</td>\n",
       "            <td>1</td>\n",
       "            <td>donnee_manquante</td>\n",
       "        </tr>\n",
       "        <tr>\n",
       "            <td>095000346</td>\n",
       "            <td>nitrite</td>\n",
       "            <td>dernier_prel</td>\n",
       "            <td>2024-12-17 08:55:00</td>\n",
       "            <td>3</td>\n",
       "            <td>donnee_manquante</td>\n",
       "        </tr>\n",
       "        <tr>\n",
       "            <td>973000028</td>\n",
       "            <td>nitrite</td>\n",
       "            <td>dernier_prel</td>\n",
       "            <td>2024-12-02 11:30:00</td>\n",
       "            <td>2</td>\n",
       "            <td>conforme</td>\n",
       "        </tr>\n",
       "        <tr>\n",
       "            <td>976003554</td>\n",
       "            <td>nitrite</td>\n",
       "            <td>dernier_prel</td>\n",
       "            <td>2024-11-12 10:00:00</td>\n",
       "            <td>2</td>\n",
       "            <td>donnee_manquante</td>\n",
       "        </tr>\n",
       "    </tbody>\n",
       "</table>\n",
       "<span style=\"font-style:italic;text-align:center;\">Truncated to <a href=\"https://jupysql.ploomber.io/en/latest/api/configuration.html#displaylimit\">displaylimit</a> of 10.</span>"
      ],
      "text/plain": [
       "+-----------+-----------+--------------+-----------------------+---------------+------------------+\n",
       "|  cdreseau | categorie |   periode    | dernier_prel_datetime | nb_parametres |     resultat     |\n",
       "+-----------+-----------+--------------+-----------------------+---------------+------------------+\n",
       "| 001000003 |  nitrite  | dernier_prel |  2024-12-26 09:08:00  |       3       |     conforme     |\n",
       "| 001000260 |  nitrite  | dernier_prel |  2024-12-06 12:02:00  |       3       |     conforme     |\n",
       "| 001000268 |  nitrite  | dernier_prel |  2024-11-28 08:25:00  |       3       |     conforme     |\n",
       "| 001000293 |  nitrite  | dernier_prel |  2024-10-10 10:20:00  |       3       |     conforme     |\n",
       "| 002000060 |  nitrite  | dernier_prel |  2024-10-18 08:50:00  |       3       |   non_conforme   |\n",
       "| 073002059 |  nitrite  | dernier_prel |  2024-10-23 09:28:00  |       1       | donnee_manquante |\n",
       "| 088002296 |  nitrite  | dernier_prel |  2024-09-27 12:00:00  |       1       | donnee_manquante |\n",
       "| 095000346 |  nitrite  | dernier_prel |  2024-12-17 08:55:00  |       3       | donnee_manquante |\n",
       "| 973000028 |  nitrite  | dernier_prel |  2024-12-02 11:30:00  |       2       |     conforme     |\n",
       "| 976003554 |  nitrite  | dernier_prel |  2024-11-12 10:00:00  |       2       | donnee_manquante |\n",
       "+-----------+-----------+--------------+-----------------------+---------------+------------------+\n",
       "Truncated to displaylimit of 10."
      ]
     },
     "execution_count": 7,
     "metadata": {},
     "output_type": "execute_result"
    }
   ],
   "source": [
    "%%sql --with int__resultats_nitrites_udi_dernier \n",
    " SELECT \n",
    "   *\n",
    " FROM\n",
    "   int__resultats_nitrites_udi_dernier\n",
    "WHERE\n",
    "    cdreseau IN( '002000060','095000346','001000003','976003554','088002296','073002059','973000028','001000260','001000268','001000293')\n",
    "ORDER BY \n",
    "    cdreseau"
   ]
  },
  {
   "cell_type": "code",
   "execution_count": null,
   "id": "a7ee43cb-a514-4d48-8e4d-8fa6d95fdec4",
   "metadata": {},
   "outputs": [],
   "source": []
  }
 ],
 "metadata": {
  "kernelspec": {
   "display_name": "Python 3 (ipykernel)",
   "language": "python",
   "name": "python3"
  },
  "language_info": {
   "codemirror_mode": {
    "name": "ipython",
    "version": 3
   },
   "file_extension": ".py",
   "mimetype": "text/x-python",
   "name": "python",
   "nbconvert_exporter": "python",
   "pygments_lexer": "ipython3",
   "version": "3.12.9"
  }
 },
 "nbformat": 4,
 "nbformat_minor": 5
}
