{
 "cells": [
  {
   "cell_type": "code",
   "execution_count": 1,
   "id": "2e8d5bd2-d7c1-4ecb-805d-27eaa75195e0",
   "metadata": {},
   "outputs": [
    {
     "data": {
      "text/html": [
       "<span style=\"None\">The &#x27;toml&#x27; package isn&#x27;t installed. To load settings from pyproject.toml or ~/.jupysql/config, install with: pip install toml</span>"
      ],
      "text/plain": [
       "The 'toml' package isn't installed. To load settings from pyproject.toml or ~/.jupysql/config, install with: pip install toml"
      ]
     },
     "metadata": {},
     "output_type": "display_data"
    },
    {
     "data": {
      "text/html": [
       "<span style=\"None\">Connecting to &#x27;duckdb:///../../database/data.duckdb&#x27;</span>"
      ],
      "text/plain": [
       "Connecting to 'duckdb:///../../database/data.duckdb'"
      ]
     },
     "metadata": {},
     "output_type": "display_data"
    }
   ],
   "source": [
    "%load_ext sql\n",
    "%sql duckdb:///../../database/data.duckdb"
   ]
  },
  {
   "cell_type": "code",
   "execution_count": 2,
   "id": "3e1967e8-eba0-4261-bf9c-d16dd4a9b271",
   "metadata": {
    "scrolled": true
   },
   "outputs": [
    {
     "data": {
      "text/html": [
       "<span style=\"None\">Running query in &#x27;duckdb:///../../database/data.duckdb&#x27;</span>"
      ],
      "text/plain": [
       "Running query in 'duckdb:///../../database/data.duckdb'"
      ]
     },
     "metadata": {},
     "output_type": "display_data"
    },
    {
     "data": {
      "text/html": [
       "<table>\n",
       "    <thead>\n",
       "        <tr>\n",
       "            <th>cdparametresiseeaux</th>\n",
       "            <th>categorie_1</th>\n",
       "            <th>categorie_2</th>\n",
       "            <th>categorie_3</th>\n",
       "            <th>limite_qualite</th>\n",
       "            <th>limite_qualite_unite</th>\n",
       "            <th>valeur_sanitaire_1</th>\n",
       "            <th>valeur_sanitaire_1_unite</th>\n",
       "            <th>valeur_sanitaire_2</th>\n",
       "            <th>valeur_sanitaire_2_unite</th>\n",
       "            <th>nb_rows</th>\n",
       "        </tr>\n",
       "    </thead>\n",
       "    <tbody>\n",
       "        <tr>\n",
       "            <td>NO3</td>\n",
       "            <td>nitrate</td>\n",
       "            <td>None</td>\n",
       "            <td>None</td>\n",
       "            <td>50.0</td>\n",
       "            <td>mg/L</td>\n",
       "            <td>None</td>\n",
       "            <td>None</td>\n",
       "            <td>None</td>\n",
       "            <td>None</td>\n",
       "            <td>1</td>\n",
       "        </tr>\n",
       "        <tr>\n",
       "            <td>NO2</td>\n",
       "            <td>nitrate</td>\n",
       "            <td>None</td>\n",
       "            <td>None</td>\n",
       "            <td>0.5</td>\n",
       "            <td>mg/L</td>\n",
       "            <td>None</td>\n",
       "            <td>None</td>\n",
       "            <td>None</td>\n",
       "            <td>None</td>\n",
       "            <td>1</td>\n",
       "        </tr>\n",
       "        <tr>\n",
       "            <td>NO3_NO2</td>\n",
       "            <td>nitrate</td>\n",
       "            <td>None</td>\n",
       "            <td>None</td>\n",
       "            <td>1.0</td>\n",
       "            <td>None</td>\n",
       "            <td>None</td>\n",
       "            <td>None</td>\n",
       "            <td>None</td>\n",
       "            <td>None</td>\n",
       "            <td>1</td>\n",
       "        </tr>\n",
       "    </tbody>\n",
       "</table>"
      ],
      "text/plain": [
       "+---------------------+-------------+-------------+-------------+----------------+----------------------+--------------------+--------------------------+--------------------+--------------------------+---------+\n",
       "| cdparametresiseeaux | categorie_1 | categorie_2 | categorie_3 | limite_qualite | limite_qualite_unite | valeur_sanitaire_1 | valeur_sanitaire_1_unite | valeur_sanitaire_2 | valeur_sanitaire_2_unite | nb_rows |\n",
       "+---------------------+-------------+-------------+-------------+----------------+----------------------+--------------------+--------------------------+--------------------+--------------------------+---------+\n",
       "|         NO3         |   nitrate   |     None    |     None    |      50.0      |         mg/L         |        None        |           None           |        None        |           None           |    1    |\n",
       "|         NO2         |   nitrate   |     None    |     None    |      0.5       |         mg/L         |        None        |           None           |        None        |           None           |    1    |\n",
       "|       NO3_NO2       |   nitrate   |     None    |     None    |      1.0       |         None         |        None        |           None           |        None        |           None           |    1    |\n",
       "+---------------------+-------------+-------------+-------------+----------------+----------------------+--------------------+--------------------------+--------------------+--------------------------+---------+"
      ]
     },
     "execution_count": 2,
     "metadata": {},
     "output_type": "execute_result"
    }
   ],
   "source": [
    "%%sql\n",
    "SELECT * FROM int__valeurs_de_reference WHERE categorie_1='nitrate'"
   ]
  },
  {
   "cell_type": "code",
   "execution_count": 3,
   "id": "de799aa8-64a7-4423-901c-7de0fc237b70",
   "metadata": {},
   "outputs": [
    {
     "data": {
      "text/html": [
       "<span style=\"None\">Running query in &#x27;duckdb:///../../database/data.duckdb&#x27;</span>"
      ],
      "text/plain": [
       "Running query in 'duckdb:///../../database/data.duckdb'"
      ]
     },
     "metadata": {},
     "output_type": "display_data"
    },
    {
     "data": {
      "application/vnd.jupyter.widget-view+json": {
       "model_id": "3989ea173ae84381b3cddcb94c423fce",
       "version_major": 2,
       "version_minor": 0
      },
      "text/plain": [
       "FloatProgress(value=0.0, layout=Layout(width='auto'), style=ProgressStyle(bar_color='black'))"
      ]
     },
     "metadata": {},
     "output_type": "display_data"
    },
    {
     "data": {
      "text/html": [
       "<table>\n",
       "    <thead>\n",
       "        <tr>\n",
       "            <th>cdreseau</th>\n",
       "            <th>annee</th>\n",
       "            <th>categorie</th>\n",
       "            <th>periode</th>\n",
       "            <th>nb_depassements</th>\n",
       "            <th>nb_prelevements</th>\n",
       "            <th>ratio_depassements</th>\n",
       "        </tr>\n",
       "    </thead>\n",
       "    <tbody>\n",
       "        <tr>\n",
       "            <td>010000144</td>\n",
       "            <td>2024</td>\n",
       "            <td>nitrate</td>\n",
       "            <td>bilan_annuel_2024</td>\n",
       "            <td>0</td>\n",
       "            <td>9</td>\n",
       "            <td>0.0</td>\n",
       "        </tr>\n",
       "        <tr>\n",
       "            <td>032000202</td>\n",
       "            <td>2023</td>\n",
       "            <td>nitrate</td>\n",
       "            <td>bilan_annuel_2023</td>\n",
       "            <td>0</td>\n",
       "            <td>16</td>\n",
       "            <td>0.0</td>\n",
       "        </tr>\n",
       "        <tr>\n",
       "            <td>088001565</td>\n",
       "            <td>2020</td>\n",
       "            <td>nitrate</td>\n",
       "            <td>bilan_annuel_2020</td>\n",
       "            <td>0</td>\n",
       "            <td>4</td>\n",
       "            <td>0.0</td>\n",
       "        </tr>\n",
       "        <tr>\n",
       "            <td>021000787</td>\n",
       "            <td>2023</td>\n",
       "            <td>nitrate</td>\n",
       "            <td>bilan_annuel_2023</td>\n",
       "            <td>0</td>\n",
       "            <td>3</td>\n",
       "            <td>0.0</td>\n",
       "        </tr>\n",
       "        <tr>\n",
       "            <td>017000374</td>\n",
       "            <td>2022</td>\n",
       "            <td>nitrate</td>\n",
       "            <td>bilan_annuel_2022</td>\n",
       "            <td>0</td>\n",
       "            <td>23</td>\n",
       "            <td>0.0</td>\n",
       "        </tr>\n",
       "        <tr>\n",
       "            <td>073000507</td>\n",
       "            <td>2023</td>\n",
       "            <td>nitrate</td>\n",
       "            <td>bilan_annuel_2023</td>\n",
       "            <td>0</td>\n",
       "            <td>3</td>\n",
       "            <td>0.0</td>\n",
       "        </tr>\n",
       "        <tr>\n",
       "            <td>069000437</td>\n",
       "            <td>2021</td>\n",
       "            <td>nitrate</td>\n",
       "            <td>bilan_annuel_2021</td>\n",
       "            <td>0</td>\n",
       "            <td>6</td>\n",
       "            <td>0.0</td>\n",
       "        </tr>\n",
       "        <tr>\n",
       "            <td>067001330</td>\n",
       "            <td>2020</td>\n",
       "            <td>nitrate</td>\n",
       "            <td>bilan_annuel_2020</td>\n",
       "            <td>0</td>\n",
       "            <td>8</td>\n",
       "            <td>0.0</td>\n",
       "        </tr>\n",
       "        <tr>\n",
       "            <td>089003503</td>\n",
       "            <td>2020</td>\n",
       "            <td>nitrate</td>\n",
       "            <td>bilan_annuel_2020</td>\n",
       "            <td>3</td>\n",
       "            <td>12</td>\n",
       "            <td>0.25</td>\n",
       "        </tr>\n",
       "        <tr>\n",
       "            <td>064000416</td>\n",
       "            <td>2023</td>\n",
       "            <td>nitrate</td>\n",
       "            <td>bilan_annuel_2023</td>\n",
       "            <td>0</td>\n",
       "            <td>4</td>\n",
       "            <td>0.0</td>\n",
       "        </tr>\n",
       "    </tbody>\n",
       "</table>\n",
       "<span style=\"font-style:italic;text-align:center;\">Truncated to <a href=\"https://jupysql.ploomber.io/en/latest/api/configuration.html#displaylimit\">displaylimit</a> of 10.</span>"
      ],
      "text/plain": [
       "+-----------+-------+-----------+-------------------+-----------------+-----------------+--------------------+\n",
       "|  cdreseau | annee | categorie |      periode      | nb_depassements | nb_prelevements | ratio_depassements |\n",
       "+-----------+-------+-----------+-------------------+-----------------+-----------------+--------------------+\n",
       "| 010000144 |  2024 |  nitrate  | bilan_annuel_2024 |        0        |        9        |        0.0         |\n",
       "| 032000202 |  2023 |  nitrate  | bilan_annuel_2023 |        0        |        16       |        0.0         |\n",
       "| 088001565 |  2020 |  nitrate  | bilan_annuel_2020 |        0        |        4        |        0.0         |\n",
       "| 021000787 |  2023 |  nitrate  | bilan_annuel_2023 |        0        |        3        |        0.0         |\n",
       "| 017000374 |  2022 |  nitrate  | bilan_annuel_2022 |        0        |        23       |        0.0         |\n",
       "| 073000507 |  2023 |  nitrate  | bilan_annuel_2023 |        0        |        3        |        0.0         |\n",
       "| 069000437 |  2021 |  nitrate  | bilan_annuel_2021 |        0        |        6        |        0.0         |\n",
       "| 067001330 |  2020 |  nitrate  | bilan_annuel_2020 |        0        |        8        |        0.0         |\n",
       "| 089003503 |  2020 |  nitrate  | bilan_annuel_2020 |        3        |        12       |        0.25        |\n",
       "| 064000416 |  2023 |  nitrate  | bilan_annuel_2023 |        0        |        4        |        0.0         |\n",
       "+-----------+-------+-----------+-------------------+-----------------+-----------------+--------------------+\n",
       "Truncated to displaylimit of 10."
      ]
     },
     "execution_count": 3,
     "metadata": {},
     "output_type": "execute_result"
    }
   ],
   "source": [
    "%%sql --save int__resultats_nitrites_udi_annuel\n",
    "WITH\n",
    "prels AS (\n",
    "    SELECT\n",
    "        de_partition AS annee,\n",
    "        cdreseau,\n",
    "        referenceprel,\n",
    "        datetimeprel,\n",
    "        COUNT(DISTINCT cdparametresiseeaux) AS nb_parametres,\n",
    "        MAX(\n",
    "            CASE\n",
    "                WHEN\n",
    "                    cdparametresiseeaux = 'NO3'\n",
    "                    THEN valtraduite\n",
    "                ELSE 0\n",
    "            END\n",
    "        ) AS valtraduite_no3,\n",
    "        MAX(\n",
    "            CASE\n",
    "                WHEN\n",
    "                    cdparametresiseeaux = 'NO2'\n",
    "                    THEN valtraduite\n",
    "                ELSE 0\n",
    "            END\n",
    "        ) AS valtraduite_no2,\n",
    "        MAX(\n",
    "            CASE\n",
    "                WHEN\n",
    "                    cdparametresiseeaux = 'NO3_NO2'\n",
    "                    THEN valtraduite\n",
    "                ELSE 0\n",
    "            END\n",
    "        ) AS valtraduite_no3_no2\n",
    "    FROM\n",
    "        int__resultats_udi_communes\n",
    "    WHERE\n",
    "        categorie = 'nitrate'\n",
    "    GROUP BY\n",
    "        annee,\n",
    "        cdreseau,\n",
    "        referenceprel,\n",
    "        datetimeprel,\n",
    "),\n",
    "\n",
    "valeur_ref AS (\n",
    "    SELECT\n",
    "        MAX(\n",
    "            CASE\n",
    "                WHEN\n",
    "                    cdparametresiseeaux = 'NO3'\n",
    "                    THEN limite_qualite\n",
    "            END\n",
    "        ) AS limite_qualite_no3,\n",
    "        MAX(\n",
    "            CASE\n",
    "                WHEN\n",
    "                    cdparametresiseeaux = 'NO3_NO2'\n",
    "                    THEN limite_qualite\n",
    "            END\n",
    "        ) AS limite_qualite_no3_no2,\n",
    "        MAX(\n",
    "            CASE\n",
    "                WHEN\n",
    "                    cdparametresiseeaux = 'NO2'\n",
    "                    THEN limite_qualite\n",
    "            END\n",
    "        ) AS limite_qualite_no2\n",
    "    FROM\n",
    "        int__valeurs_de_reference\n",
    "    WHERE\n",
    "        categorie_1 = 'nitrate'\n",
    ")\n",
    "\n",
    "SELECT\n",
    "    prels.cdreseau,\n",
    "    prels.annee,\n",
    "    'nitrate' AS categorie,\n",
    "    'bilan_annuel_' || prels.annee AS periode,\n",
    "    COUNT(\n",
    "        DISTINCT\n",
    "        CASE\n",
    "            WHEN\n",
    "                prels.valtraduite_no3 >= valeur_ref.limite_qualite_no3\n",
    "                OR prels.valtraduite_no2 >= valeur_ref.limite_qualite_no2\n",
    "                OR prels.valtraduite_no3_no2\n",
    "                >= valeur_ref.limite_qualite_no3_no2\n",
    "                OR prels.valtraduite_no3 / 50 + prels.valtraduite_no2 / 3\n",
    "                >= valeur_ref.limite_qualite_no3_no2\n",
    "                THEN prels.referenceprel\n",
    "        END\n",
    "    ) AS nb_depassements,\n",
    "    COUNT(DISTINCT prels.referenceprel) AS nb_prelevements,\n",
    "    (\n",
    "        COUNT(\n",
    "            DISTINCT\n",
    "            CASE\n",
    "                WHEN\n",
    "                    prels.valtraduite_no3 >= valeur_ref.limite_qualite_no3\n",
    "                    OR prels.valtraduite_no2 >= valeur_ref.limite_qualite_no2\n",
    "                    OR prels.valtraduite_no3_no2\n",
    "                    >= valeur_ref.limite_qualite_no3_no2\n",
    "                    OR prels.valtraduite_no3 / 50 + prels.valtraduite_no2 / 3\n",
    "                    >= valeur_ref.limite_qualite_no3_no2\n",
    "                    THEN prels.referenceprel\n",
    "            END\n",
    "        )::float\n",
    "        /\n",
    "        COUNT(DISTINCT prels.referenceprel)::float\n",
    "    ) AS ratio_depassements\n",
    "\n",
    "FROM prels\n",
    "CROSS JOIN valeur_ref\n",
    "GROUP BY prels.cdreseau, prels.annee\n"
   ]
  },
  {
   "cell_type": "markdown",
   "id": "c596b48d-ebc4-4fb9-aab8-b626076792d2",
   "metadata": {},
   "source": [
    "# Check "
   ]
  },
  {
   "cell_type": "code",
   "execution_count": 7,
   "id": "2137dd22-ec22-4b37-93ee-30b75c06ad42",
   "metadata": {},
   "outputs": [
    {
     "data": {
      "text/html": [
       "<span style=\"None\">Running query in &#x27;duckdb:///../../database/data.duckdb&#x27;</span>"
      ],
      "text/plain": [
       "Running query in 'duckdb:///../../database/data.duckdb'"
      ]
     },
     "metadata": {},
     "output_type": "display_data"
    },
    {
     "data": {
      "application/vnd.jupyter.widget-view+json": {
       "model_id": "f8a18e6c7beb44c2a54490d921503406",
       "version_major": 2,
       "version_minor": 0
      },
      "text/plain": [
       "FloatProgress(value=0.0, layout=Layout(width='auto'), style=ProgressStyle(bar_color='black'))"
      ]
     },
     "metadata": {},
     "output_type": "display_data"
    },
    {
     "data": {
      "text/html": [
       "<table>\n",
       "    <thead>\n",
       "        <tr>\n",
       "            <th>periode</th>\n",
       "            <th>cdreseau</th>\n",
       "            <th>categorie</th>\n",
       "            <th>resultat</th>\n",
       "            <th>nb_depassements</th>\n",
       "            <th>nb_prelevements</th>\n",
       "            <th>ratio_depassements</th>\n",
       "        </tr>\n",
       "    </thead>\n",
       "    <tbody>\n",
       "    </tbody>\n",
       "</table>"
      ],
      "text/plain": [
       "+---------+----------+-----------+----------+-----------------+-----------------+--------------------+\n",
       "| periode | cdreseau | categorie | resultat | nb_depassements | nb_prelevements | ratio_depassements |\n",
       "+---------+----------+-----------+----------+-----------------+-----------------+--------------------+\n",
       "+---------+----------+-----------+----------+-----------------+-----------------+--------------------+"
      ]
     },
     "execution_count": 7,
     "metadata": {},
     "output_type": "execute_result"
    }
   ],
   "source": [
    "%%sql --with int__resultats_nitrites_udi_annuel \n",
    "SELECT\n",
    "    'annuel' AS periode,\n",
    "    cdreseau,\n",
    "    categorie,\n",
    "    '' AS resultat,\n",
    "    nb_depassements,\n",
    "    nb_prelevements,\n",
    "    ratio_depassements\n",
    "FROM\n",
    "    int__resultats_nitrites_udi_annuel\n",
    "WHERE\n",
    "    (\n",
    "        cdreseau = '092003070'\n",
    "        AND categorie = 'nitrate'\n",
    "        AND annee = '2024'\n",
    "        AND (nb_prelevements != 806 \n",
    "        OR  nb_depassements != 0  )\n",
    "    )\n",
    "    OR\n",
    "    (\n",
    "        cdreseau = '071001155'\n",
    "        AND categorie = 'nitrate'\n",
    "        AND annee = '2023'\n",
    "        AND (nb_prelevements != 1 \n",
    "        OR  nb_depassements != 0  )\n",
    "    )\n",
    "    OR\n",
    "    (\n",
    "        cdreseau = '036000670'\n",
    "        AND categorie = 'nitrate'\n",
    "        AND annee = '2024'\n",
    "        AND (nb_prelevements != 27 \n",
    "        OR  nb_depassements != 27  )\n",
    "    )\n",
    "    OR\n",
    "    (\n",
    "        cdreseau = '092003070'\n",
    "        AND categorie = 'nitrate'\n",
    "        AND annee IN (2020, 2021, 2022, 2023, 2024, 2025) \n",
    "        AND nb_depassements != 0 \n",
    "    )\n",
    "    OR\n",
    "    (\n",
    "        cdreseau = '089003503'\n",
    "        AND categorie = 'nitrate'\n",
    "        AND annee = '2020'\n",
    "        AND (nb_prelevements != 12 \n",
    "        OR  nb_depassements != 3  )\n",
    "    )"
   ]
  },
  {
   "cell_type": "code",
   "execution_count": null,
   "id": "6dfd9bc4-176f-48ae-9db6-9b8be7b82b8d",
   "metadata": {},
   "outputs": [],
   "source": []
  }
 ],
 "metadata": {
  "kernelspec": {
   "display_name": "Python 3 (ipykernel)",
   "language": "python",
   "name": "python3"
  },
  "language_info": {
   "codemirror_mode": {
    "name": "ipython",
    "version": 3
   },
   "file_extension": ".py",
   "mimetype": "text/x-python",
   "name": "python",
   "nbconvert_exporter": "python",
   "pygments_lexer": "ipython3",
   "version": "3.12.9"
  }
 },
 "nbformat": 4,
 "nbformat_minor": 5
}
