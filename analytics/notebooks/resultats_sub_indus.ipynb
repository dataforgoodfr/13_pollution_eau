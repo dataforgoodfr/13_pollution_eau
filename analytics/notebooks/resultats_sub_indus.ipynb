{
 "cells": [
  {
   "cell_type": "code",
   "execution_count": 1,
   "metadata": {},
   "outputs": [
    {
     "data": {
      "text/html": [
       "<span style=\"None\">The &#x27;toml&#x27; package isn&#x27;t installed. To load settings from pyproject.toml or ~/.jupysql/config, install with: pip install toml</span>"
      ],
      "text/plain": [
       "The 'toml' package isn't installed. To load settings from pyproject.toml or ~/.jupysql/config, install with: pip install toml"
      ]
     },
     "metadata": {},
     "output_type": "display_data"
    },
    {
     "data": {
      "text/html": [
       "<span style=\"None\">Connecting to &#x27;duckdb:///../../database/data.duckdb&#x27;</span>"
      ],
      "text/plain": [
       "Connecting to 'duckdb:///../../database/data.duckdb'"
      ]
     },
     "metadata": {},
     "output_type": "display_data"
    }
   ],
   "source": [
    "%load_ext sql\n",
    "%sql duckdb:///../../database/data.duckdb"
   ]
  },
  {
   "cell_type": "code",
   "execution_count": 2,
   "metadata": {},
   "outputs": [
    {
     "data": {
      "text/html": [
       "<span style=\"None\">Running query in &#x27;duckdb:///../../database/data.duckdb&#x27;</span>"
      ],
      "text/plain": [
       "Running query in 'duckdb:///../../database/data.duckdb'"
      ]
     },
     "metadata": {},
     "output_type": "display_data"
    },
    {
     "data": {
      "text/html": [
       "<table>\n",
       "    <thead>\n",
       "        <tr>\n",
       "            <th>cdparametresiseeaux</th>\n",
       "            <th>cdparametre</th>\n",
       "            <th>libmajparametre</th>\n",
       "            <th>libminparametre</th>\n",
       "            <th>casparam</th>\n",
       "            <th>categorie</th>\n",
       "        </tr>\n",
       "    </thead>\n",
       "    <tbody>\n",
       "        <tr>\n",
       "            <td>PCLAT</td>\n",
       "            <td>6219</td>\n",
       "            <td>PERCHLORATE</td>\n",
       "            <td>Perchlorate</td>\n",
       "            <td>14797-73-0</td>\n",
       "            <td>perchlorate</td>\n",
       "        </tr>\n",
       "    </tbody>\n",
       "</table>"
      ],
      "text/plain": [
       "+---------------------+-------------+-----------------+-----------------+------------+-------------+\n",
       "| cdparametresiseeaux | cdparametre | libmajparametre | libminparametre |  casparam  |  categorie  |\n",
       "+---------------------+-------------+-----------------+-----------------+------------+-------------+\n",
       "|        PCLAT        |     6219    |   PERCHLORATE   |   Perchlorate   | 14797-73-0 | perchlorate |\n",
       "+---------------------+-------------+-----------------+-----------------+------------+-------------+"
      ]
     },
     "execution_count": 2,
     "metadata": {},
     "output_type": "execute_result"
    }
   ],
   "source": [
    "%%sql\n",
    "SELECT * FROM mapping_categories WHERE categorie IN ('1,4 dioxane', 'perchlorate')"
   ]
  },
  {
   "cell_type": "code",
   "execution_count": 3,
   "metadata": {},
   "outputs": [
    {
     "data": {
      "text/html": [
       "<span style=\"None\">Running query in &#x27;duckdb:///../../database/data.duckdb&#x27;</span>"
      ],
      "text/plain": [
       "Running query in 'duckdb:///../../database/data.duckdb'"
      ]
     },
     "metadata": {},
     "output_type": "display_data"
    },
    {
     "data": {
      "text/html": [
       "<table>\n",
       "    <thead>\n",
       "        <tr>\n",
       "            <th>cdparametresiseeaux</th>\n",
       "            <th>cdparametre</th>\n",
       "            <th>libmajparametre</th>\n",
       "            <th>libminparametre</th>\n",
       "            <th>casparam</th>\n",
       "            <th>categorie</th>\n",
       "        </tr>\n",
       "    </thead>\n",
       "    <tbody>\n",
       "        <tr>\n",
       "            <td>14DAN</td>\n",
       "            <td>1580</td>\n",
       "            <td>1,4 DIOXANE</td>\n",
       "            <td>1,4 dioxane</td>\n",
       "            <td>123-91-1</td>\n",
       "            <td>hydrocarbures</td>\n",
       "        </tr>\n",
       "    </tbody>\n",
       "</table>"
      ],
      "text/plain": [
       "+---------------------+-------------+-----------------+-----------------+----------+---------------+\n",
       "| cdparametresiseeaux | cdparametre | libmajparametre | libminparametre | casparam |   categorie   |\n",
       "+---------------------+-------------+-----------------+-----------------+----------+---------------+\n",
       "|        14DAN        |     1580    |   1,4 DIOXANE   |   1,4 dioxane   | 123-91-1 | hydrocarbures |\n",
       "+---------------------+-------------+-----------------+-----------------+----------+---------------+"
      ]
     },
     "execution_count": 3,
     "metadata": {},
     "output_type": "execute_result"
    }
   ],
   "source": [
    "%%sql\n",
    "SELECT * FROM mapping_categories\n",
    "WHERE libminparametre IN ('1,4 dioxane', 'perchlorate')"
   ]
  },
  {
   "cell_type": "code",
   "execution_count": 4,
   "metadata": {},
   "outputs": [
    {
     "data": {
      "text/html": [
       "<span style=\"None\">Running query in &#x27;duckdb:///../../database/data.duckdb&#x27;</span>"
      ],
      "text/plain": [
       "Running query in 'duckdb:///../../database/data.duckdb'"
      ]
     },
     "metadata": {},
     "output_type": "display_data"
    },
    {
     "data": {
      "application/vnd.jupyter.widget-view+json": {
       "model_id": "8d2d350ac0ff40fba1b5ca29fd0e96a7",
       "version_major": 2,
       "version_minor": 0
      },
      "text/plain": [
       "FloatProgress(value=0.0, layout=Layout(width='auto'), style=ProgressStyle(bar_color='black'))"
      ]
     },
     "metadata": {},
     "output_type": "display_data"
    },
    {
     "data": {
      "text/html": [
       "<table>\n",
       "    <thead>\n",
       "        <tr>\n",
       "            <th>cdparametresiseeaux</th>\n",
       "            <th>limitequal_float</th>\n",
       "            <th>limitequal</th>\n",
       "        </tr>\n",
       "    </thead>\n",
       "    <tbody>\n",
       "        <tr>\n",
       "            <td>14DAN</td>\n",
       "            <td>None</td>\n",
       "            <td>None</td>\n",
       "        </tr>\n",
       "        <tr>\n",
       "            <td>PCLAT</td>\n",
       "            <td>None</td>\n",
       "            <td>None</td>\n",
       "        </tr>\n",
       "    </tbody>\n",
       "</table>"
      ],
      "text/plain": [
       "+---------------------+------------------+------------+\n",
       "| cdparametresiseeaux | limitequal_float | limitequal |\n",
       "+---------------------+------------------+------------+\n",
       "|        14DAN        |       None       |    None    |\n",
       "|        PCLAT        |       None       |    None    |\n",
       "+---------------------+------------------+------------+"
      ]
     },
     "execution_count": 4,
     "metadata": {},
     "output_type": "execute_result"
    }
   ],
   "source": [
    "%%sql\n",
    "SELECT DISTINCT \n",
    "    cdparametresiseeaux, limitequal_float , limitequal\n",
    "FROM int__resultats_udi_communes\n",
    "WHERE cdparametresiseeaux IN ('14DAN','PCLAT')"
   ]
  },
  {
   "cell_type": "markdown",
   "metadata": {},
   "source": [
    "### Dernier relevé"
   ]
  },
  {
   "cell_type": "code",
   "execution_count": 5,
   "metadata": {},
   "outputs": [
    {
     "data": {
      "text/html": [
       "<span style=\"None\">Running query in &#x27;duckdb:///../../database/data.duckdb&#x27;</span>"
      ],
      "text/plain": [
       "Running query in 'duckdb:///../../database/data.duckdb'"
      ]
     },
     "metadata": {},
     "output_type": "display_data"
    },
    {
     "data": {
      "application/vnd.jupyter.widget-view+json": {
       "model_id": "272e6e5d0ec34000a91da3dc3b1069e1",
       "version_major": 2,
       "version_minor": 0
      },
      "text/plain": [
       "FloatProgress(value=0.0, layout=Layout(width='auto'), style=ProgressStyle(bar_color='black'))"
      ]
     },
     "metadata": {},
     "output_type": "display_data"
    },
    {
     "data": {
      "text/html": [
       "<table>\n",
       "    <thead>\n",
       "        <tr>\n",
       "            <th>cdreseau</th>\n",
       "            <th>periode</th>\n",
       "            <th>dernier_prel_datetime</th>\n",
       "            <th>dernier_prel_valeur</th>\n",
       "            <th>nb_parametres</th>\n",
       "            <th>categorie</th>\n",
       "            <th>resultat</th>\n",
       "        </tr>\n",
       "    </thead>\n",
       "    <tbody>\n",
       "        <tr>\n",
       "            <td>002000048</td>\n",
       "            <td>dernier_prel</td>\n",
       "            <td>2024-04-22 10:10:00</td>\n",
       "            <td>1.900</td>\n",
       "            <td>1</td>\n",
       "            <td>sub_indus_PCLAT</td>\n",
       "            <td>inf_4</td>\n",
       "        </tr>\n",
       "        <tr>\n",
       "            <td>002000234</td>\n",
       "            <td>dernier_prel</td>\n",
       "            <td>2025-01-27 10:25:00</td>\n",
       "            <td>6.500</td>\n",
       "            <td>1</td>\n",
       "            <td>sub_indus_PCLAT</td>\n",
       "            <td>sup_4</td>\n",
       "        </tr>\n",
       "        <tr>\n",
       "            <td>002000398</td>\n",
       "            <td>dernier_prel</td>\n",
       "            <td>2024-04-22 10:52:00</td>\n",
       "            <td>0.000</td>\n",
       "            <td>1</td>\n",
       "            <td>sub_indus_PCLAT</td>\n",
       "            <td>non_quantifie</td>\n",
       "        </tr>\n",
       "        <tr>\n",
       "            <td>002000516</td>\n",
       "            <td>dernier_prel</td>\n",
       "            <td>2025-02-17 09:30:00</td>\n",
       "            <td>4.700</td>\n",
       "            <td>1</td>\n",
       "            <td>sub_indus_PCLAT</td>\n",
       "            <td>sup_4</td>\n",
       "        </tr>\n",
       "        <tr>\n",
       "            <td>002000747</td>\n",
       "            <td>dernier_prel</td>\n",
       "            <td>2024-05-15 08:10:00</td>\n",
       "            <td>0.000</td>\n",
       "            <td>1</td>\n",
       "            <td>sub_indus_PCLAT</td>\n",
       "            <td>non_quantifie</td>\n",
       "        </tr>\n",
       "        <tr>\n",
       "            <td>002001038</td>\n",
       "            <td>dernier_prel</td>\n",
       "            <td>2024-09-18 09:53:00</td>\n",
       "            <td>0.000</td>\n",
       "            <td>1</td>\n",
       "            <td>sub_indus_PCLAT</td>\n",
       "            <td>non_quantifie</td>\n",
       "        </tr>\n",
       "        <tr>\n",
       "            <td>002001128</td>\n",
       "            <td>dernier_prel</td>\n",
       "            <td>2024-04-25 11:36:00</td>\n",
       "            <td>0.000</td>\n",
       "            <td>1</td>\n",
       "            <td>sub_indus_PCLAT</td>\n",
       "            <td>non_quantifie</td>\n",
       "        </tr>\n",
       "        <tr>\n",
       "            <td>002001288</td>\n",
       "            <td>dernier_prel</td>\n",
       "            <td>2025-02-27 09:31:00</td>\n",
       "            <td>0.000</td>\n",
       "            <td>1</td>\n",
       "            <td>sub_indus_PCLAT</td>\n",
       "            <td>non_quantifie</td>\n",
       "        </tr>\n",
       "        <tr>\n",
       "            <td>002001298</td>\n",
       "            <td>dernier_prel</td>\n",
       "            <td>2024-04-17 09:56:00</td>\n",
       "            <td>2.200</td>\n",
       "            <td>1</td>\n",
       "            <td>sub_indus_PCLAT</td>\n",
       "            <td>inf_4</td>\n",
       "        </tr>\n",
       "        <tr>\n",
       "            <td>002001410</td>\n",
       "            <td>dernier_prel</td>\n",
       "            <td>2024-06-28 08:12:00</td>\n",
       "            <td>0.000</td>\n",
       "            <td>1</td>\n",
       "            <td>sub_indus_PCLAT</td>\n",
       "            <td>non_quantifie</td>\n",
       "        </tr>\n",
       "    </tbody>\n",
       "</table>\n",
       "<span style=\"font-style:italic;text-align:center;\">Truncated to <a href=\"https://jupysql.ploomber.io/en/latest/api/configuration.html#displaylimit\">displaylimit</a> of 10.</span>"
      ],
      "text/plain": [
       "+-----------+--------------+-----------------------+---------------------+---------------+-----------------+---------------+\n",
       "|  cdreseau |   periode    | dernier_prel_datetime | dernier_prel_valeur | nb_parametres |    categorie    |    resultat   |\n",
       "+-----------+--------------+-----------------------+---------------------+---------------+-----------------+---------------+\n",
       "| 002000048 | dernier_prel |  2024-04-22 10:10:00  |        1.900        |       1       | sub_indus_PCLAT |     inf_4     |\n",
       "| 002000234 | dernier_prel |  2025-01-27 10:25:00  |        6.500        |       1       | sub_indus_PCLAT |     sup_4     |\n",
       "| 002000398 | dernier_prel |  2024-04-22 10:52:00  |        0.000        |       1       | sub_indus_PCLAT | non_quantifie |\n",
       "| 002000516 | dernier_prel |  2025-02-17 09:30:00  |        4.700        |       1       | sub_indus_PCLAT |     sup_4     |\n",
       "| 002000747 | dernier_prel |  2024-05-15 08:10:00  |        0.000        |       1       | sub_indus_PCLAT | non_quantifie |\n",
       "| 002001038 | dernier_prel |  2024-09-18 09:53:00  |        0.000        |       1       | sub_indus_PCLAT | non_quantifie |\n",
       "| 002001128 | dernier_prel |  2024-04-25 11:36:00  |        0.000        |       1       | sub_indus_PCLAT | non_quantifie |\n",
       "| 002001288 | dernier_prel |  2025-02-27 09:31:00  |        0.000        |       1       | sub_indus_PCLAT | non_quantifie |\n",
       "| 002001298 | dernier_prel |  2024-04-17 09:56:00  |        2.200        |       1       | sub_indus_PCLAT |     inf_4     |\n",
       "| 002001410 | dernier_prel |  2024-06-28 08:12:00  |        0.000        |       1       | sub_indus_PCLAT | non_quantifie |\n",
       "+-----------+--------------+-----------------------+---------------------+---------------+-----------------+---------------+\n",
       "Truncated to displaylimit of 10."
      ]
     },
     "execution_count": 5,
     "metadata": {},
     "output_type": "execute_result"
    }
   ],
   "source": [
    "%%sql --save int__resultats_sub_indus_udi_dernier\n",
    "\n",
    "WITH\n",
    "last_pvl AS (\n",
    "    SELECT\n",
    "        cdreseau,\n",
    "        categorie,\n",
    "        cdparametresiseeaux,\n",
    "        datetimeprel,\n",
    "        valtraduite,\n",
    "        ROW_NUMBER()\n",
    "            OVER (\n",
    "                PARTITION BY cdreseau, cdparametresiseeaux\n",
    "                ORDER BY datetimeprel DESC\n",
    "            )\n",
    "            AS row_number\n",
    "    FROM\n",
    "        int__resultats_udi_communes\n",
    "    WHERE\n",
    "        cdparametresiseeaux IN ('14DAN', 'PCLAT')\n",
    "        AND\n",
    "        -- On garde les prélèvements de moins d'un an\n",
    "        CURRENT_DATE - datetimeprel < INTERVAL 1 YEAR\n",
    ")\n",
    "\n",
    "SELECT\n",
    "    last_pvl.cdreseau,\n",
    "    'dernier_prel' AS periode,\n",
    "    last_pvl.datetimeprel AS dernier_prel_datetime,\n",
    "    last_pvl.valtraduite AS dernier_prel_valeur,\n",
    "    1 AS nb_parametres,\n",
    "    'sub_indus_' || last_pvl.cdparametresiseeaux AS categorie,\n",
    "    CASE\n",
    "        WHEN\n",
    "            last_pvl.valtraduite = 0\n",
    "            OR last_pvl.valtraduite IS NULL\n",
    "            THEN 'non_quantifie'\n",
    "        WHEN\n",
    "            last_pvl.valtraduite >= 0.35\n",
    "            AND last_pvl.cdparametresiseeaux = '14DAN'\n",
    "            THEN 'sup_0_35'\n",
    "        WHEN\n",
    "            last_pvl.valtraduite < 0.35\n",
    "            AND last_pvl.cdparametresiseeaux = '14DAN'\n",
    "            THEN 'inf_0_35'\n",
    "        WHEN\n",
    "            last_pvl.valtraduite >= 15\n",
    "            AND last_pvl.cdparametresiseeaux = 'PCLAT'\n",
    "            THEN 'sup_15'\n",
    "        WHEN\n",
    "            last_pvl.valtraduite >= 4 AND last_pvl.cdparametresiseeaux = 'PCLAT'\n",
    "            THEN 'sup_4'\n",
    "        WHEN\n",
    "            last_pvl.valtraduite < 4 AND last_pvl.cdparametresiseeaux = 'PCLAT'\n",
    "            THEN 'inf_4'\n",
    "        WHEN\n",
    "            last_pvl.valtraduite < 15 AND last_pvl.cdparametresiseeaux = 'PCLAT'\n",
    "            THEN 'inf_15'\n",
    "        ELSE 'error'\n",
    "    END AS resultat\n",
    "FROM\n",
    "    last_pvl\n",
    "WHERE\n",
    "    last_pvl.row_number = 1\n",
    "\n"
   ]
  },
  {
   "cell_type": "code",
   "execution_count": 6,
   "metadata": {},
   "outputs": [
    {
     "data": {
      "text/html": [
       "<span style=\"None\">Running query in &#x27;duckdb:///../../database/data.duckdb&#x27;</span>"
      ],
      "text/plain": [
       "Running query in 'duckdb:///../../database/data.duckdb'"
      ]
     },
     "metadata": {},
     "output_type": "display_data"
    },
    {
     "data": {
      "application/vnd.jupyter.widget-view+json": {
       "model_id": "822fe1f29784450db3a7fadc5a637bb2",
       "version_major": 2,
       "version_minor": 0
      },
      "text/plain": [
       "FloatProgress(value=0.0, layout=Layout(width='auto'), style=ProgressStyle(bar_color='black'))"
      ]
     },
     "metadata": {},
     "output_type": "display_data"
    },
    {
     "data": {
      "text/html": [
       "<table>\n",
       "    <thead>\n",
       "        <tr>\n",
       "            <th>cdreseau</th>\n",
       "            <th>periode</th>\n",
       "            <th>dernier_prel_datetime</th>\n",
       "            <th>dernier_prel_valeur</th>\n",
       "            <th>nb_parametres</th>\n",
       "            <th>categorie</th>\n",
       "            <th>resultat</th>\n",
       "        </tr>\n",
       "    </thead>\n",
       "    <tbody>\n",
       "    </tbody>\n",
       "</table>"
      ],
      "text/plain": [
       "+----------+---------+-----------------------+---------------------+---------------+-----------+----------+\n",
       "| cdreseau | periode | dernier_prel_datetime | dernier_prel_valeur | nb_parametres | categorie | resultat |\n",
       "+----------+---------+-----------------------+---------------------+---------------+-----------+----------+\n",
       "+----------+---------+-----------------------+---------------------+---------------+-----------+----------+"
      ]
     },
     "execution_count": 6,
     "metadata": {},
     "output_type": "execute_result"
    }
   ],
   "source": [
    "%%sql --with int__resultats_sub_indus_udi_dernier\n",
    "SELECT \n",
    "    * \n",
    "FROM \n",
    "    int__resultats_sub_indus_udi_dernier\n",
    "WHERE \n",
    "    resultat='error'"
   ]
  },
  {
   "cell_type": "code",
   "execution_count": 7,
   "metadata": {},
   "outputs": [
    {
     "data": {
      "text/html": [
       "<span style=\"None\">Running query in &#x27;duckdb:///../../database/data.duckdb&#x27;</span>"
      ],
      "text/plain": [
       "Running query in 'duckdb:///../../database/data.duckdb'"
      ]
     },
     "metadata": {},
     "output_type": "display_data"
    },
    {
     "data": {
      "application/vnd.jupyter.widget-view+json": {
       "model_id": "3bc076c1da5346a09dcc8b2e8a950dfb",
       "version_major": 2,
       "version_minor": 0
      },
      "text/plain": [
       "FloatProgress(value=0.0, layout=Layout(width='auto'), style=ProgressStyle(bar_color='black'))"
      ]
     },
     "metadata": {},
     "output_type": "display_data"
    },
    {
     "data": {
      "text/html": [
       "<table>\n",
       "    <thead>\n",
       "        <tr>\n",
       "            <th>categorie</th>\n",
       "            <th>resultat</th>\n",
       "            <th>count_star()</th>\n",
       "        </tr>\n",
       "    </thead>\n",
       "    <tbody>\n",
       "        <tr>\n",
       "            <td>sub_indus_PCLAT</td>\n",
       "            <td>sup_15</td>\n",
       "            <td>48</td>\n",
       "        </tr>\n",
       "        <tr>\n",
       "            <td>sub_indus_14DAN</td>\n",
       "            <td>inf_0_35</td>\n",
       "            <td>1</td>\n",
       "        </tr>\n",
       "        <tr>\n",
       "            <td>sub_indus_PCLAT</td>\n",
       "            <td>sup_4</td>\n",
       "            <td>307</td>\n",
       "        </tr>\n",
       "        <tr>\n",
       "            <td>sub_indus_PCLAT</td>\n",
       "            <td>inf_4</td>\n",
       "            <td>670</td>\n",
       "        </tr>\n",
       "        <tr>\n",
       "            <td>sub_indus_PCLAT</td>\n",
       "            <td>non_quantifie</td>\n",
       "            <td>295</td>\n",
       "        </tr>\n",
       "        <tr>\n",
       "            <td>sub_indus_14DAN</td>\n",
       "            <td>non_quantifie</td>\n",
       "            <td>1</td>\n",
       "        </tr>\n",
       "        <tr>\n",
       "            <td>sub_indus_14DAN</td>\n",
       "            <td>sup_0_35</td>\n",
       "            <td>1</td>\n",
       "        </tr>\n",
       "    </tbody>\n",
       "</table>"
      ],
      "text/plain": [
       "+-----------------+---------------+--------------+\n",
       "|    categorie    |    resultat   | count_star() |\n",
       "+-----------------+---------------+--------------+\n",
       "| sub_indus_PCLAT |     sup_15    |      48      |\n",
       "| sub_indus_14DAN |    inf_0_35   |      1       |\n",
       "| sub_indus_PCLAT |     sup_4     |     307      |\n",
       "| sub_indus_PCLAT |     inf_4     |     670      |\n",
       "| sub_indus_PCLAT | non_quantifie |     295      |\n",
       "| sub_indus_14DAN | non_quantifie |      1       |\n",
       "| sub_indus_14DAN |    sup_0_35   |      1       |\n",
       "+-----------------+---------------+--------------+"
      ]
     },
     "execution_count": 7,
     "metadata": {},
     "output_type": "execute_result"
    }
   ],
   "source": [
    "%%sql --with int__resultats_sub_indus_udi_dernier\n",
    "SELECT \n",
    "    categorie, resultat, COUNT(*) \n",
    "FROM \n",
    "    int__resultats_sub_indus_udi_dernier\n",
    "GROUP BY \n",
    "    categorie, resultat"
   ]
  },
  {
   "cell_type": "code",
   "execution_count": 8,
   "metadata": {},
   "outputs": [
    {
     "data": {
      "text/html": [
       "<span style=\"None\">Running query in &#x27;duckdb:///../../database/data.duckdb&#x27;</span>"
      ],
      "text/plain": [
       "Running query in 'duckdb:///../../database/data.duckdb'"
      ]
     },
     "metadata": {},
     "output_type": "display_data"
    },
    {
     "data": {
      "application/vnd.jupyter.widget-view+json": {
       "model_id": "7e3b72695e754aca8810cbd62279aff8",
       "version_major": 2,
       "version_minor": 0
      },
      "text/plain": [
       "FloatProgress(value=0.0, layout=Layout(width='auto'), style=ProgressStyle(bar_color='black'))"
      ]
     },
     "metadata": {},
     "output_type": "display_data"
    },
    {
     "data": {
      "text/html": [
       "<table>\n",
       "    <thead>\n",
       "        <tr>\n",
       "            <th>categorie</th>\n",
       "            <th>resultat</th>\n",
       "            <th>min_cdreseau</th>\n",
       "            <th>max_cdreseau</th>\n",
       "        </tr>\n",
       "    </thead>\n",
       "    <tbody>\n",
       "        <tr>\n",
       "            <td>sub_indus_PCLAT</td>\n",
       "            <td>sup_15</td>\n",
       "            <td>002000091</td>\n",
       "            <td>080003918</td>\n",
       "        </tr>\n",
       "        <tr>\n",
       "            <td>sub_indus_14DAN</td>\n",
       "            <td>inf_0_35</td>\n",
       "            <td>076000543</td>\n",
       "            <td>076000543</td>\n",
       "        </tr>\n",
       "        <tr>\n",
       "            <td>sub_indus_PCLAT</td>\n",
       "            <td>sup_4</td>\n",
       "            <td>002000060</td>\n",
       "            <td>088002246</td>\n",
       "        </tr>\n",
       "        <tr>\n",
       "            <td>sub_indus_PCLAT</td>\n",
       "            <td>inf_4</td>\n",
       "            <td>002000048</td>\n",
       "            <td>095000340</td>\n",
       "        </tr>\n",
       "        <tr>\n",
       "            <td>sub_indus_PCLAT</td>\n",
       "            <td>non_quantifie</td>\n",
       "            <td>002000045</td>\n",
       "            <td>080001250</td>\n",
       "        </tr>\n",
       "        <tr>\n",
       "            <td>sub_indus_14DAN</td>\n",
       "            <td>sup_0_35</td>\n",
       "            <td>052000760</td>\n",
       "            <td>052000760</td>\n",
       "        </tr>\n",
       "        <tr>\n",
       "            <td>sub_indus_14DAN</td>\n",
       "            <td>non_quantifie</td>\n",
       "            <td>021000254</td>\n",
       "            <td>021000254</td>\n",
       "        </tr>\n",
       "    </tbody>\n",
       "</table>"
      ],
      "text/plain": [
       "+-----------------+---------------+--------------+--------------+\n",
       "|    categorie    |    resultat   | min_cdreseau | max_cdreseau |\n",
       "+-----------------+---------------+--------------+--------------+\n",
       "| sub_indus_PCLAT |     sup_15    |  002000091   |  080003918   |\n",
       "| sub_indus_14DAN |    inf_0_35   |  076000543   |  076000543   |\n",
       "| sub_indus_PCLAT |     sup_4     |  002000060   |  088002246   |\n",
       "| sub_indus_PCLAT |     inf_4     |  002000048   |  095000340   |\n",
       "| sub_indus_PCLAT | non_quantifie |  002000045   |  080001250   |\n",
       "| sub_indus_14DAN |    sup_0_35   |  052000760   |  052000760   |\n",
       "| sub_indus_14DAN | non_quantifie |  021000254   |  021000254   |\n",
       "+-----------------+---------------+--------------+--------------+"
      ]
     },
     "execution_count": 8,
     "metadata": {},
     "output_type": "execute_result"
    }
   ],
   "source": [
    "%%sql --with int__resultats_sub_indus_udi_dernier\n",
    "SELECT \n",
    "    categorie, resultat, MIN( cdreseau) min_cdreseau, MAX(cdreseau) AS max_cdreseau\n",
    "FROM \n",
    "    int__resultats_sub_indus_udi_dernier\n",
    "GROUP BY \n",
    "    categorie, resultat"
   ]
  },
  {
   "cell_type": "code",
   "execution_count": 9,
   "metadata": {},
   "outputs": [
    {
     "data": {
      "text/html": [
       "<span style=\"None\">Running query in &#x27;duckdb:///../../database/data.duckdb&#x27;</span>"
      ],
      "text/plain": [
       "Running query in 'duckdb:///../../database/data.duckdb'"
      ]
     },
     "metadata": {},
     "output_type": "display_data"
    },
    {
     "data": {
      "application/vnd.jupyter.widget-view+json": {
       "model_id": "5ef53cf427cd499a99a2cf195c0a176e",
       "version_major": 2,
       "version_minor": 0
      },
      "text/plain": [
       "FloatProgress(value=0.0, layout=Layout(width='auto'), style=ProgressStyle(bar_color='black'))"
      ]
     },
     "metadata": {},
     "output_type": "display_data"
    },
    {
     "data": {
      "text/html": [
       "<table>\n",
       "    <thead>\n",
       "        <tr>\n",
       "            <th>cdreseau</th>\n",
       "            <th>periode</th>\n",
       "            <th>dernier_prel_datetime</th>\n",
       "            <th>dernier_prel_valeur</th>\n",
       "            <th>nb_parametres</th>\n",
       "            <th>categorie</th>\n",
       "            <th>resultat</th>\n",
       "        </tr>\n",
       "    </thead>\n",
       "    <tbody>\n",
       "        <tr>\n",
       "            <td>002000045</td>\n",
       "            <td>dernier_prel</td>\n",
       "            <td>2024-10-22 09:58:00</td>\n",
       "            <td>0.000</td>\n",
       "            <td>1</td>\n",
       "            <td>sub_indus_PCLAT</td>\n",
       "            <td>non_quantifie</td>\n",
       "        </tr>\n",
       "        <tr>\n",
       "            <td>002000048</td>\n",
       "            <td>dernier_prel</td>\n",
       "            <td>2024-04-22 10:10:00</td>\n",
       "            <td>1.900</td>\n",
       "            <td>1</td>\n",
       "            <td>sub_indus_PCLAT</td>\n",
       "            <td>inf_4</td>\n",
       "        </tr>\n",
       "        <tr>\n",
       "            <td>002000060</td>\n",
       "            <td>dernier_prel</td>\n",
       "            <td>2024-10-18 08:31:00</td>\n",
       "            <td>8.300</td>\n",
       "            <td>1</td>\n",
       "            <td>sub_indus_PCLAT</td>\n",
       "            <td>sup_4</td>\n",
       "        </tr>\n",
       "        <tr>\n",
       "            <td>002000114</td>\n",
       "            <td>dernier_prel</td>\n",
       "            <td>2024-10-10 11:03:00</td>\n",
       "            <td>45.000</td>\n",
       "            <td>1</td>\n",
       "            <td>sub_indus_PCLAT</td>\n",
       "            <td>sup_15</td>\n",
       "        </tr>\n",
       "        <tr>\n",
       "            <td>052000760</td>\n",
       "            <td>dernier_prel</td>\n",
       "            <td>2024-12-13 14:52:00</td>\n",
       "            <td>0.840</td>\n",
       "            <td>1</td>\n",
       "            <td>sub_indus_14DAN</td>\n",
       "            <td>sup_0_35</td>\n",
       "        </tr>\n",
       "        <tr>\n",
       "            <td>076000543</td>\n",
       "            <td>dernier_prel</td>\n",
       "            <td>2025-01-07 10:00:00</td>\n",
       "            <td>0.170</td>\n",
       "            <td>1</td>\n",
       "            <td>sub_indus_14DAN</td>\n",
       "            <td>inf_0_35</td>\n",
       "        </tr>\n",
       "        <tr>\n",
       "            <td>080001512</td>\n",
       "            <td>dernier_prel</td>\n",
       "            <td>2025-02-14 11:26:00</td>\n",
       "            <td>1.800</td>\n",
       "            <td>1</td>\n",
       "            <td>sub_indus_PCLAT</td>\n",
       "            <td>inf_4</td>\n",
       "        </tr>\n",
       "        <tr>\n",
       "            <td>080003913</td>\n",
       "            <td>dernier_prel</td>\n",
       "            <td>2024-05-31 11:23:00</td>\n",
       "            <td>2.200</td>\n",
       "            <td>1</td>\n",
       "            <td>sub_indus_PCLAT</td>\n",
       "            <td>inf_4</td>\n",
       "        </tr>\n",
       "        <tr>\n",
       "            <td>080003918</td>\n",
       "            <td>dernier_prel</td>\n",
       "            <td>2024-10-23 13:09:00</td>\n",
       "            <td>29.000</td>\n",
       "            <td>1</td>\n",
       "            <td>sub_indus_PCLAT</td>\n",
       "            <td>sup_15</td>\n",
       "        </tr>\n",
       "        <tr>\n",
       "            <td>088002246</td>\n",
       "            <td>dernier_prel</td>\n",
       "            <td>2024-10-22 10:33:00</td>\n",
       "            <td>9.200</td>\n",
       "            <td>1</td>\n",
       "            <td>sub_indus_PCLAT</td>\n",
       "            <td>sup_4</td>\n",
       "        </tr>\n",
       "    </tbody>\n",
       "</table>\n",
       "<span style=\"font-style:italic;text-align:center;\">Truncated to <a href=\"https://jupysql.ploomber.io/en/latest/api/configuration.html#displaylimit\">displaylimit</a> of 10.</span>"
      ],
      "text/plain": [
       "+-----------+--------------+-----------------------+---------------------+---------------+-----------------+---------------+\n",
       "|  cdreseau |   periode    | dernier_prel_datetime | dernier_prel_valeur | nb_parametres |    categorie    |    resultat   |\n",
       "+-----------+--------------+-----------------------+---------------------+---------------+-----------------+---------------+\n",
       "| 002000045 | dernier_prel |  2024-10-22 09:58:00  |        0.000        |       1       | sub_indus_PCLAT | non_quantifie |\n",
       "| 002000048 | dernier_prel |  2024-04-22 10:10:00  |        1.900        |       1       | sub_indus_PCLAT |     inf_4     |\n",
       "| 002000060 | dernier_prel |  2024-10-18 08:31:00  |        8.300        |       1       | sub_indus_PCLAT |     sup_4     |\n",
       "| 002000114 | dernier_prel |  2024-10-10 11:03:00  |        45.000       |       1       | sub_indus_PCLAT |     sup_15    |\n",
       "| 052000760 | dernier_prel |  2024-12-13 14:52:00  |        0.840        |       1       | sub_indus_14DAN |    sup_0_35   |\n",
       "| 076000543 | dernier_prel |  2025-01-07 10:00:00  |        0.170        |       1       | sub_indus_14DAN |    inf_0_35   |\n",
       "| 080001512 | dernier_prel |  2025-02-14 11:26:00  |        1.800        |       1       | sub_indus_PCLAT |     inf_4     |\n",
       "| 080003913 | dernier_prel |  2024-05-31 11:23:00  |        2.200        |       1       | sub_indus_PCLAT |     inf_4     |\n",
       "| 080003918 | dernier_prel |  2024-10-23 13:09:00  |        29.000       |       1       | sub_indus_PCLAT |     sup_15    |\n",
       "| 088002246 | dernier_prel |  2024-10-22 10:33:00  |        9.200        |       1       | sub_indus_PCLAT |     sup_4     |\n",
       "+-----------+--------------+-----------------------+---------------------+---------------+-----------------+---------------+\n",
       "Truncated to displaylimit of 10."
      ]
     },
     "execution_count": 9,
     "metadata": {},
     "output_type": "execute_result"
    }
   ],
   "source": [
    "%%sql --with int__resultats_sub_indus_udi_dernier \n",
    " SELECT \n",
    "   *\n",
    " FROM\n",
    "   int__resultats_sub_indus_udi_dernier\n",
    "WHERE\n",
    "    cdreseau IN( '002000114','002000060','002000048','002000045','052000760','076000543',\n",
    "    '080003918','088002246','080003913','080001512','052000760','076000543')\n",
    "ORDER BY \n",
    "    cdreseau"
   ]
  },
  {
   "cell_type": "markdown",
   "metadata": {},
   "source": [
    "### Annuel"
   ]
  },
  {
   "cell_type": "code",
   "execution_count": 10,
   "metadata": {},
   "outputs": [
    {
     "data": {
      "text/html": [
       "<span style=\"None\">Running query in &#x27;duckdb:///../../database/data.duckdb&#x27;</span>"
      ],
      "text/plain": [
       "Running query in 'duckdb:///../../database/data.duckdb'"
      ]
     },
     "metadata": {},
     "output_type": "display_data"
    },
    {
     "data": {
      "application/vnd.jupyter.widget-view+json": {
       "model_id": "126cac0a60d1474aa0ec5f91980ed1ce",
       "version_major": 2,
       "version_minor": 0
      },
      "text/plain": [
       "FloatProgress(value=0.0, layout=Layout(width='auto'), style=ProgressStyle(bar_color='black'))"
      ]
     },
     "metadata": {},
     "output_type": "display_data"
    },
    {
     "data": {
      "text/html": [
       "<table>\n",
       "    <thead>\n",
       "        <tr>\n",
       "            <th>cdreseau</th>\n",
       "            <th>annee</th>\n",
       "            <th>categorie</th>\n",
       "            <th>periode</th>\n",
       "            <th>nb_depassements</th>\n",
       "            <th>nb_prelevements</th>\n",
       "            <th>ratio_depassements</th>\n",
       "        </tr>\n",
       "    </thead>\n",
       "    <tbody>\n",
       "        <tr>\n",
       "            <td>062003118</td>\n",
       "            <td>2022</td>\n",
       "            <td>sub_indus_PCLAT</td>\n",
       "            <td>bilan_annuel_2022</td>\n",
       "            <td>0</td>\n",
       "            <td>1</td>\n",
       "            <td>0.0</td>\n",
       "        </tr>\n",
       "        <tr>\n",
       "            <td>059003641</td>\n",
       "            <td>2024</td>\n",
       "            <td>sub_indus_PCLAT</td>\n",
       "            <td>bilan_annuel_2024</td>\n",
       "            <td>2</td>\n",
       "            <td>3</td>\n",
       "            <td>0.6666666865348816</td>\n",
       "        </tr>\n",
       "        <tr>\n",
       "            <td>062000844</td>\n",
       "            <td>2024</td>\n",
       "            <td>sub_indus_PCLAT</td>\n",
       "            <td>bilan_annuel_2024</td>\n",
       "            <td>2</td>\n",
       "            <td>2</td>\n",
       "            <td>1.0</td>\n",
       "        </tr>\n",
       "        <tr>\n",
       "            <td>080000637</td>\n",
       "            <td>2024</td>\n",
       "            <td>sub_indus_PCLAT</td>\n",
       "            <td>bilan_annuel_2024</td>\n",
       "            <td>1</td>\n",
       "            <td>1</td>\n",
       "            <td>1.0</td>\n",
       "        </tr>\n",
       "        <tr>\n",
       "            <td>002001524</td>\n",
       "            <td>2024</td>\n",
       "            <td>sub_indus_PCLAT</td>\n",
       "            <td>bilan_annuel_2024</td>\n",
       "            <td>0</td>\n",
       "            <td>2</td>\n",
       "            <td>0.0</td>\n",
       "        </tr>\n",
       "        <tr>\n",
       "            <td>059000443</td>\n",
       "            <td>2020</td>\n",
       "            <td>sub_indus_PCLAT</td>\n",
       "            <td>bilan_annuel_2020</td>\n",
       "            <td>1</td>\n",
       "            <td>1</td>\n",
       "            <td>1.0</td>\n",
       "        </tr>\n",
       "        <tr>\n",
       "            <td>027001278</td>\n",
       "            <td>2020</td>\n",
       "            <td>sub_indus_PCLAT</td>\n",
       "            <td>bilan_annuel_2020</td>\n",
       "            <td>0</td>\n",
       "            <td>2</td>\n",
       "            <td>0.0</td>\n",
       "        </tr>\n",
       "        <tr>\n",
       "            <td>077002089</td>\n",
       "            <td>2023</td>\n",
       "            <td>sub_indus_PCLAT</td>\n",
       "            <td>bilan_annuel_2023</td>\n",
       "            <td>1</td>\n",
       "            <td>1</td>\n",
       "            <td>1.0</td>\n",
       "        </tr>\n",
       "        <tr>\n",
       "            <td>077000622</td>\n",
       "            <td>2023</td>\n",
       "            <td>sub_indus_PCLAT</td>\n",
       "            <td>bilan_annuel_2023</td>\n",
       "            <td>0</td>\n",
       "            <td>1</td>\n",
       "            <td>0.0</td>\n",
       "        </tr>\n",
       "        <tr>\n",
       "            <td>067001895</td>\n",
       "            <td>2023</td>\n",
       "            <td>sub_indus_PCLAT</td>\n",
       "            <td>bilan_annuel_2023</td>\n",
       "            <td>0</td>\n",
       "            <td>4</td>\n",
       "            <td>0.0</td>\n",
       "        </tr>\n",
       "    </tbody>\n",
       "</table>\n",
       "<span style=\"font-style:italic;text-align:center;\">Truncated to <a href=\"https://jupysql.ploomber.io/en/latest/api/configuration.html#displaylimit\">displaylimit</a> of 10.</span>"
      ],
      "text/plain": [
       "+-----------+-------+-----------------+-------------------+-----------------+-----------------+--------------------+\n",
       "|  cdreseau | annee |    categorie    |      periode      | nb_depassements | nb_prelevements | ratio_depassements |\n",
       "+-----------+-------+-----------------+-------------------+-----------------+-----------------+--------------------+\n",
       "| 062003118 |  2022 | sub_indus_PCLAT | bilan_annuel_2022 |        0        |        1        |        0.0         |\n",
       "| 059003641 |  2024 | sub_indus_PCLAT | bilan_annuel_2024 |        2        |        3        | 0.6666666865348816 |\n",
       "| 062000844 |  2024 | sub_indus_PCLAT | bilan_annuel_2024 |        2        |        2        |        1.0         |\n",
       "| 080000637 |  2024 | sub_indus_PCLAT | bilan_annuel_2024 |        1        |        1        |        1.0         |\n",
       "| 002001524 |  2024 | sub_indus_PCLAT | bilan_annuel_2024 |        0        |        2        |        0.0         |\n",
       "| 059000443 |  2020 | sub_indus_PCLAT | bilan_annuel_2020 |        1        |        1        |        1.0         |\n",
       "| 027001278 |  2020 | sub_indus_PCLAT | bilan_annuel_2020 |        0        |        2        |        0.0         |\n",
       "| 077002089 |  2023 | sub_indus_PCLAT | bilan_annuel_2023 |        1        |        1        |        1.0         |\n",
       "| 077000622 |  2023 | sub_indus_PCLAT | bilan_annuel_2023 |        0        |        1        |        0.0         |\n",
       "| 067001895 |  2023 | sub_indus_PCLAT | bilan_annuel_2023 |        0        |        4        |        0.0         |\n",
       "+-----------+-------+-----------------+-------------------+-----------------+-----------------+--------------------+\n",
       "Truncated to displaylimit of 10."
      ]
     },
     "execution_count": 10,
     "metadata": {},
     "output_type": "execute_result"
    }
   ],
   "source": [
    "%%sql --save int__resultats_sub_indus_udi_annuel\n",
    "WITH\n",
    "prels AS (\n",
    "    -- Certains prélèvements ont plusieurs analyses pour la même substance\n",
    "    -- Le SELECT DISTINCT ne dédoublonne pas ces cas là\n",
    "    -- Donc il n'y a pas d'unicité sur referenceprel dans cetre requête\n",
    "    SELECT DISTINCT\n",
    "        de_partition AS annee,\n",
    "        cdreseau,\n",
    "        cdparametresiseeaux,\n",
    "        referenceprel,\n",
    "        datetimeprel,\n",
    "        valtraduite\n",
    "    FROM\n",
    "        int__resultats_udi_communes\n",
    "    WHERE\n",
    "        cdparametresiseeaux IN ('14DAN', 'PCLAT')\n",
    ")\n",
    "\n",
    "SELECT\n",
    "    cdreseau,\n",
    "    annee,\n",
    "    'sub_indus_' || cdparametresiseeaux AS categorie,\n",
    "    'bilan_annuel_' || annee AS periode,\n",
    "    count(\n",
    "        DISTINCT\n",
    "        CASE\n",
    "            WHEN\n",
    "                (\n",
    "                    valtraduite IS NOT NULL\n",
    "                    AND valtraduite >= 0.35\n",
    "                    AND cdparametresiseeaux = '14DAN'\n",
    "                )\n",
    "                OR (\n",
    "                    valtraduite IS NOT NULL\n",
    "                    AND valtraduite >= 4\n",
    "                    AND cdparametresiseeaux = 'PCLAT'\n",
    "                )\n",
    "                THEN referenceprel\n",
    "        END\n",
    "    ) AS nb_depassements,\n",
    "    count(DISTINCT referenceprel) AS nb_prelevements,\n",
    "    (\n",
    "        count(\n",
    "            DISTINCT\n",
    "            CASE\n",
    "                WHEN\n",
    "                    (\n",
    "                        valtraduite IS NOT NULL\n",
    "                        AND valtraduite >= 0.35\n",
    "                        AND cdparametresiseeaux = '14DAN'\n",
    "                    )\n",
    "                    OR (\n",
    "                        valtraduite IS NOT NULL\n",
    "                        AND valtraduite >= 4\n",
    "                        AND cdparametresiseeaux = 'PCLAT'\n",
    "                    )\n",
    "                    THEN referenceprel\n",
    "            END\n",
    "        )::float\n",
    "        /\n",
    "        count(DISTINCT referenceprel)::float\n",
    "    ) AS ratio_depassements\n",
    "\n",
    "FROM prels\n",
    "\n",
    "GROUP BY cdreseau, annee, categorie\n"
   ]
  },
  {
   "cell_type": "code",
   "execution_count": 11,
   "metadata": {},
   "outputs": [
    {
     "data": {
      "text/html": [
       "<span style=\"None\">Running query in &#x27;duckdb:///../../database/data.duckdb&#x27;</span>"
      ],
      "text/plain": [
       "Running query in 'duckdb:///../../database/data.duckdb'"
      ]
     },
     "metadata": {},
     "output_type": "display_data"
    },
    {
     "data": {
      "application/vnd.jupyter.widget-view+json": {
       "model_id": "c7a738b090a04ddcb39377433d3e1645",
       "version_major": 2,
       "version_minor": 0
      },
      "text/plain": [
       "FloatProgress(value=0.0, layout=Layout(width='auto'), style=ProgressStyle(bar_color='black'))"
      ]
     },
     "metadata": {},
     "output_type": "display_data"
    },
    {
     "data": {
      "text/html": [
       "<table>\n",
       "    <thead>\n",
       "        <tr>\n",
       "            <th>cdreseau</th>\n",
       "            <th>annee</th>\n",
       "            <th>categorie</th>\n",
       "            <th>periode</th>\n",
       "            <th>nb_depassements</th>\n",
       "            <th>nb_prelevements</th>\n",
       "            <th>ratio_depassements</th>\n",
       "        </tr>\n",
       "    </thead>\n",
       "    <tbody>\n",
       "        <tr>\n",
       "            <td>076000543</td>\n",
       "            <td>2024</td>\n",
       "            <td>sub_indus_14DAN</td>\n",
       "            <td>bilan_annuel_2024</td>\n",
       "            <td>1</td>\n",
       "            <td>10</td>\n",
       "            <td>0.10000000149011612</td>\n",
       "        </tr>\n",
       "        <tr>\n",
       "            <td>076000543</td>\n",
       "            <td>2023</td>\n",
       "            <td>sub_indus_14DAN</td>\n",
       "            <td>bilan_annuel_2023</td>\n",
       "            <td>5</td>\n",
       "            <td>12</td>\n",
       "            <td>0.4166666567325592</td>\n",
       "        </tr>\n",
       "        <tr>\n",
       "            <td>088002246</td>\n",
       "            <td>2022</td>\n",
       "            <td>sub_indus_PCLAT</td>\n",
       "            <td>bilan_annuel_2022</td>\n",
       "            <td>1</td>\n",
       "            <td>2</td>\n",
       "            <td>0.5</td>\n",
       "        </tr>\n",
       "        <tr>\n",
       "            <td>076000543</td>\n",
       "            <td>2022</td>\n",
       "            <td>sub_indus_14DAN</td>\n",
       "            <td>bilan_annuel_2022</td>\n",
       "            <td>10</td>\n",
       "            <td>12</td>\n",
       "            <td>0.8333333134651184</td>\n",
       "        </tr>\n",
       "        <tr>\n",
       "            <td>080003918</td>\n",
       "            <td>2024</td>\n",
       "            <td>sub_indus_PCLAT</td>\n",
       "            <td>bilan_annuel_2024</td>\n",
       "            <td>2</td>\n",
       "            <td>2</td>\n",
       "            <td>1.0</td>\n",
       "        </tr>\n",
       "        <tr>\n",
       "            <td>080003918</td>\n",
       "            <td>2022</td>\n",
       "            <td>sub_indus_PCLAT</td>\n",
       "            <td>bilan_annuel_2022</td>\n",
       "            <td>2</td>\n",
       "            <td>2</td>\n",
       "            <td>1.0</td>\n",
       "        </tr>\n",
       "        <tr>\n",
       "            <td>080003918</td>\n",
       "            <td>2023</td>\n",
       "            <td>sub_indus_PCLAT</td>\n",
       "            <td>bilan_annuel_2023</td>\n",
       "            <td>2</td>\n",
       "            <td>2</td>\n",
       "            <td>1.0</td>\n",
       "        </tr>\n",
       "        <tr>\n",
       "            <td>080003918</td>\n",
       "            <td>2021</td>\n",
       "            <td>sub_indus_PCLAT</td>\n",
       "            <td>bilan_annuel_2021</td>\n",
       "            <td>2</td>\n",
       "            <td>2</td>\n",
       "            <td>1.0</td>\n",
       "        </tr>\n",
       "        <tr>\n",
       "            <td>080003918</td>\n",
       "            <td>2020</td>\n",
       "            <td>sub_indus_PCLAT</td>\n",
       "            <td>bilan_annuel_2020</td>\n",
       "            <td>2</td>\n",
       "            <td>2</td>\n",
       "            <td>1.0</td>\n",
       "        </tr>\n",
       "        <tr>\n",
       "            <td>088002246</td>\n",
       "            <td>2021</td>\n",
       "            <td>sub_indus_PCLAT</td>\n",
       "            <td>bilan_annuel_2021</td>\n",
       "            <td>2</td>\n",
       "            <td>2</td>\n",
       "            <td>1.0</td>\n",
       "        </tr>\n",
       "    </tbody>\n",
       "</table>\n",
       "<span style=\"font-style:italic;text-align:center;\">Truncated to <a href=\"https://jupysql.ploomber.io/en/latest/api/configuration.html#displaylimit\">displaylimit</a> of 10.</span>"
      ],
      "text/plain": [
       "+-----------+-------+-----------------+-------------------+-----------------+-----------------+---------------------+\n",
       "|  cdreseau | annee |    categorie    |      periode      | nb_depassements | nb_prelevements |  ratio_depassements |\n",
       "+-----------+-------+-----------------+-------------------+-----------------+-----------------+---------------------+\n",
       "| 076000543 |  2024 | sub_indus_14DAN | bilan_annuel_2024 |        1        |        10       | 0.10000000149011612 |\n",
       "| 076000543 |  2023 | sub_indus_14DAN | bilan_annuel_2023 |        5        |        12       |  0.4166666567325592 |\n",
       "| 088002246 |  2022 | sub_indus_PCLAT | bilan_annuel_2022 |        1        |        2        |         0.5         |\n",
       "| 076000543 |  2022 | sub_indus_14DAN | bilan_annuel_2022 |        10       |        12       |  0.8333333134651184 |\n",
       "| 080003918 |  2024 | sub_indus_PCLAT | bilan_annuel_2024 |        2        |        2        |         1.0         |\n",
       "| 080003918 |  2022 | sub_indus_PCLAT | bilan_annuel_2022 |        2        |        2        |         1.0         |\n",
       "| 080003918 |  2023 | sub_indus_PCLAT | bilan_annuel_2023 |        2        |        2        |         1.0         |\n",
       "| 080003918 |  2021 | sub_indus_PCLAT | bilan_annuel_2021 |        2        |        2        |         1.0         |\n",
       "| 080003918 |  2020 | sub_indus_PCLAT | bilan_annuel_2020 |        2        |        2        |         1.0         |\n",
       "| 088002246 |  2021 | sub_indus_PCLAT | bilan_annuel_2021 |        2        |        2        |         1.0         |\n",
       "+-----------+-------+-----------------+-------------------+-----------------+-----------------+---------------------+\n",
       "Truncated to displaylimit of 10."
      ]
     },
     "execution_count": 11,
     "metadata": {},
     "output_type": "execute_result"
    }
   ],
   "source": [
    "%%sql --with int__resultats_sub_indus_udi_annuel \n",
    " SELECT \n",
    "   *\n",
    " FROM\n",
    "   int__resultats_sub_indus_udi_annuel\n",
    "WHERE\n",
    "    cdreseau IN( '002000114','002000060','002000048','002000045','052000760','076000543',\n",
    "    '080003918','088002246','080003913','080001512','052000760','076000543')\n",
    "    AND nb_prelevements > 1\n",
    "    AND nb_depassements > 0\n",
    "ORDER BY \n",
    "    ratio_depassements, cdreseau"
   ]
  },
  {
   "cell_type": "markdown",
   "metadata": {},
   "source": [
    "### Tests"
   ]
  },
  {
   "cell_type": "code",
   "execution_count": 12,
   "metadata": {},
   "outputs": [
    {
     "data": {
      "text/html": [
       "<span style=\"None\">Generating CTE with stored snippets: &#x27;int__resultats_sub_indus_udi_dernier&#x27;</span>"
      ],
      "text/plain": [
       "Generating CTE with stored snippets: 'int__resultats_sub_indus_udi_dernier'"
      ]
     },
     "metadata": {},
     "output_type": "display_data"
    },
    {
     "data": {
      "text/html": [
       "<span style=\"None\">Running query in &#x27;duckdb:///../../database/data.duckdb&#x27;</span>"
      ],
      "text/plain": [
       "Running query in 'duckdb:///../../database/data.duckdb'"
      ]
     },
     "metadata": {},
     "output_type": "display_data"
    },
    {
     "data": {
      "application/vnd.jupyter.widget-view+json": {
       "model_id": "e4a89c2c70884101aa44ac5bdcb9bdf6",
       "version_major": 2,
       "version_minor": 0
      },
      "text/plain": [
       "FloatProgress(value=0.0, layout=Layout(width='auto'), style=ProgressStyle(bar_color='black'))"
      ]
     },
     "metadata": {},
     "output_type": "display_data"
    },
    {
     "data": {
      "text/html": [
       "<table>\n",
       "    <thead>\n",
       "        <tr>\n",
       "            <th>cdreseau</th>\n",
       "            <th>periode</th>\n",
       "            <th>dernier_prel_datetime</th>\n",
       "            <th>dernier_prel_valeur</th>\n",
       "            <th>nb_parametres</th>\n",
       "            <th>categorie</th>\n",
       "            <th>resultat</th>\n",
       "        </tr>\n",
       "    </thead>\n",
       "    <tbody>\n",
       "    </tbody>\n",
       "</table>"
      ],
      "text/plain": [
       "+----------+---------+-----------------------+---------------------+---------------+-----------+----------+\n",
       "| cdreseau | periode | dernier_prel_datetime | dernier_prel_valeur | nb_parametres | categorie | resultat |\n",
       "+----------+---------+-----------------------+---------------------+---------------+-----------+----------+\n",
       "+----------+---------+-----------------------+---------------------+---------------+-----------+----------+"
      ]
     },
     "execution_count": 12,
     "metadata": {},
     "output_type": "execute_result"
    }
   ],
   "source": [
    "%%sql \n",
    "-- dernier relevé\n",
    "SELECT\n",
    "*\n",
    "FROM\n",
    "    int__resultats_sub_indus_udi_dernier\n",
    "WHERE\n",
    "    (\n",
    "        cdreseau = '002000045'\n",
    "        AND categorie = 'sub_indus_PCLAT'\n",
    "        AND dernier_prel_datetime = '2024-10-22 09:58:00'\n",
    "        AND resultat != 'non_quantifie'\n",
    "    )\n",
    "    OR\n",
    "    (\n",
    "        cdreseau = '002000048'\n",
    "        AND categorie = 'sub_indus_PCLAT'\n",
    "        AND dernier_prel_datetime = '2024-04-22 10:10:00'\n",
    "        AND resultat != 'inf_4'\n",
    "    )\n",
    "    OR\n",
    "    (\n",
    "        cdreseau = '002000060'\n",
    "        AND categorie = 'sub_indus_PCLAT'\n",
    "        AND dernier_prel_datetime = '2024-10-18 08:31:00'\n",
    "        AND resultat != 'sup_4'\n",
    "    )\n",
    "    OR\n",
    "    (\n",
    "        cdreseau = '002000114'\n",
    "        AND categorie = 'sub_indus_PCLAT'\n",
    "        AND dernier_prel_datetime = '2024-10-10 11:03:00'\n",
    "        AND resultat != 'sup_15'\n",
    "    )\n",
    "    OR\n",
    "    (\n",
    "        cdreseau = '052000760'\n",
    "        AND categorie = 'sub_indus_14DAN'\n",
    "        AND dernier_prel_datetime = '2024-12-13 14:52:00'\n",
    "        AND resultat != 'sup_0_35'\n",
    "    )\n",
    "    OR\n",
    "    (\n",
    "        cdreseau = '076000543'\n",
    "        AND categorie = 'sub_indus_14DAN'\n",
    "        AND dernier_prel_datetime = '2024-11-05 10:15:00'\n",
    "        AND resultat != 'non_quantifie'\n",
    "    )\n",
    "    OR\n",
    "    (\n",
    "        cdreseau = '080001512'\n",
    "        AND categorie = 'sub_indus_PCLAT'\n",
    "        AND dernier_prel_datetime = '2024-05-02 14:30:00'\n",
    "        AND resultat != 'non_quantifie'\n",
    "    )\n",
    "    OR\n",
    "    (\n",
    "        cdreseau = '080003913'\n",
    "        AND categorie = 'sub_indus_PCLAT'\n",
    "        AND dernier_prel_datetime = '2024-05-31 11:23:00'\n",
    "        AND resultat != 'inf_4'\n",
    "    )\n",
    "    OR\n",
    "    (\n",
    "        cdreseau = '080003918'\n",
    "        AND categorie = 'sub_indus_PCLAT'\n",
    "        AND dernier_prel_datetime = '2024-10-23 13:09:00'\n",
    "        AND resultat != 'sup_15'\n",
    "    )\n",
    "    OR\n",
    "    (\n",
    "        cdreseau = '088002246'\n",
    "        AND categorie = 'sub_indus_PCLAT'\n",
    "        AND dernier_prel_datetime = '2024-10-22 10:33:00'\n",
    "        AND resultat != 'sup_4'\n",
    "    )\n",
    "\n"
   ]
  },
  {
   "cell_type": "code",
   "execution_count": 14,
   "metadata": {},
   "outputs": [
    {
     "data": {
      "text/html": [
       "<span style=\"None\">Generating CTE with stored snippets: &#x27;int__resultats_sub_indus_udi_annuel&#x27;</span>"
      ],
      "text/plain": [
       "Generating CTE with stored snippets: 'int__resultats_sub_indus_udi_annuel'"
      ]
     },
     "metadata": {},
     "output_type": "display_data"
    },
    {
     "data": {
      "text/html": [
       "<span style=\"None\">Running query in &#x27;duckdb:///../../database/data.duckdb&#x27;</span>"
      ],
      "text/plain": [
       "Running query in 'duckdb:///../../database/data.duckdb'"
      ]
     },
     "metadata": {},
     "output_type": "display_data"
    },
    {
     "data": {
      "application/vnd.jupyter.widget-view+json": {
       "model_id": "b1d8ba9d425e49c2ab89e185875f7eef",
       "version_major": 2,
       "version_minor": 0
      },
      "text/plain": [
       "FloatProgress(value=0.0, layout=Layout(width='auto'), style=ProgressStyle(bar_color='black'))"
      ]
     },
     "metadata": {},
     "output_type": "display_data"
    },
    {
     "data": {
      "text/html": [
       "<table>\n",
       "    <thead>\n",
       "        <tr>\n",
       "            <th>cdreseau</th>\n",
       "            <th>annee</th>\n",
       "            <th>categorie</th>\n",
       "            <th>periode</th>\n",
       "            <th>nb_depassements</th>\n",
       "            <th>nb_prelevements</th>\n",
       "            <th>ratio_depassements</th>\n",
       "        </tr>\n",
       "    </thead>\n",
       "    <tbody>\n",
       "    </tbody>\n",
       "</table>"
      ],
      "text/plain": [
       "+----------+-------+-----------+---------+-----------------+-----------------+--------------------+\n",
       "| cdreseau | annee | categorie | periode | nb_depassements | nb_prelevements | ratio_depassements |\n",
       "+----------+-------+-----------+---------+-----------------+-----------------+--------------------+\n",
       "+----------+-------+-----------+---------+-----------------+-----------------+--------------------+"
      ]
     },
     "execution_count": 14,
     "metadata": {},
     "output_type": "execute_result"
    }
   ],
   "source": [
    "%%sql \n",
    "-- annuel\n",
    "SELECT\n",
    " *\n",
    "FROM\n",
    "    int__resultats_sub_indus_udi_annuel\n",
    "WHERE\n",
    "    (\n",
    "        cdreseau = '068006326'\n",
    "        AND categorie = 'sub_indus_PCLAT'\n",
    "        AND annee = '2020'\n",
    "        AND nb_depassements != 0\n",
    "    )\n",
    "    OR\n",
    "    (\n",
    "        cdreseau = '002001026'\n",
    "        AND categorie = 'sub_indus_PCLAT'\n",
    "        AND annee = '2021'\n",
    "        AND nb_depassements != 0\n",
    "    )\n",
    "    OR\n",
    "    (\n",
    "        cdreseau = '062000680'\n",
    "        AND categorie = 'sub_indus_PCLAT'\n",
    "        AND annee = '2022'\n",
    "        AND nb_depassements != 0\n",
    "    )\n",
    "    OR\n",
    "    (\n",
    "        cdreseau = '028001088'\n",
    "        AND categorie = 'sub_indus_PCLAT'\n",
    "        AND annee = '2023'\n",
    "        AND (\n",
    "            nb_prelevements != 28\n",
    "            OR nb_depassements != 11\n",
    "        )\n",
    "    )\n",
    "    OR\n",
    "    (\n",
    "        cdreseau = '052000760'\n",
    "        AND categorie = 'sub_indus_14DAN'\n",
    "        AND annee = '2024'\n",
    "        AND (\n",
    "            nb_prelevements != 1\n",
    "            OR nb_depassements != 1\n",
    "        )\n",
    "    )\n",
    "    OR\n",
    "    (\n",
    "        cdreseau = '076000543'\n",
    "        AND categorie = 'sub_indus_14DAN'\n",
    "        AND annee IN ('2022', '2023')\n",
    "        AND nb_prelevements != 12\n",
    "    )\n",
    "    OR\n",
    "    (\n",
    "        cdreseau = '076000543'\n",
    "        AND categorie = 'sub_indus_14DAN'\n",
    "        AND annee = '2024'\n",
    "        AND (\n",
    "            nb_prelevements != 10\n",
    "            OR nb_depassements != 1\n",
    "        )\n",
    "    )\n",
    "    OR\n",
    "    (\n",
    "        cdreseau = '088002246'\n",
    "        AND categorie = 'sub_indus_PCLAT'\n",
    "        AND annee = '2022'\n",
    "        AND (\n",
    "            ratio_depassements != 0.5\n",
    "            OR\n",
    "            nb_prelevements != 2\n",
    "        )\n",
    "    )"
   ]
  },
  {
   "cell_type": "code",
   "execution_count": null,
   "metadata": {},
   "outputs": [],
   "source": []
  }
 ],
 "metadata": {
  "kernelspec": {
   "display_name": "Python 3 (ipykernel)",
   "language": "python",
   "name": "python3"
  },
  "language_info": {
   "codemirror_mode": {
    "name": "ipython",
    "version": 3
   },
   "file_extension": ".py",
   "mimetype": "text/x-python",
   "name": "python",
   "nbconvert_exporter": "python",
   "pygments_lexer": "ipython3",
   "version": "3.12.9"
  }
 },
 "nbformat": 4,
 "nbformat_minor": 4
}
