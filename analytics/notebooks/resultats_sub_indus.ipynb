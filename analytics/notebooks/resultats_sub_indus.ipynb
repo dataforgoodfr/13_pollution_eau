{
 "cells": [
  {
   "cell_type": "code",
   "execution_count": 1,
   "metadata": {},
   "outputs": [
    {
     "data": {
      "text/html": [
       "<span style=\"None\">The &#x27;toml&#x27; package isn&#x27;t installed. To load settings from pyproject.toml or ~/.jupysql/config, install with: pip install toml</span>"
      ],
      "text/plain": [
       "The 'toml' package isn't installed. To load settings from pyproject.toml or ~/.jupysql/config, install with: pip install toml"
      ]
     },
     "metadata": {},
     "output_type": "display_data"
    },
    {
     "data": {
      "text/html": [
       "<span style=\"None\">Connecting to &#x27;duckdb:///../../database/data.duckdb&#x27;</span>"
      ],
      "text/plain": [
       "Connecting to 'duckdb:///../../database/data.duckdb'"
      ]
     },
     "metadata": {},
     "output_type": "display_data"
    }
   ],
   "source": [
    "%load_ext sql\n",
    "%sql duckdb:///../../database/data.duckdb"
   ]
  },
  {
   "cell_type": "code",
   "execution_count": 2,
   "metadata": {},
   "outputs": [
    {
     "data": {
      "text/html": [
       "<span style=\"None\">Running query in &#x27;duckdb:///../../database/data.duckdb&#x27;</span>"
      ],
      "text/plain": [
       "Running query in 'duckdb:///../../database/data.duckdb'"
      ]
     },
     "metadata": {},
     "output_type": "display_data"
    },
    {
     "data": {
      "text/html": [
       "<table>\n",
       "    <thead>\n",
       "        <tr>\n",
       "            <th>cdparametresiseeaux</th>\n",
       "            <th>cdparametre</th>\n",
       "            <th>libmajparametre</th>\n",
       "            <th>libminparametre</th>\n",
       "            <th>casparam</th>\n",
       "            <th>categorie</th>\n",
       "        </tr>\n",
       "    </thead>\n",
       "    <tbody>\n",
       "        <tr>\n",
       "            <td>PCLAT</td>\n",
       "            <td>6219</td>\n",
       "            <td>PERCHLORATE</td>\n",
       "            <td>Perchlorate</td>\n",
       "            <td>14797-73-0</td>\n",
       "            <td>perchlorate</td>\n",
       "        </tr>\n",
       "    </tbody>\n",
       "</table>"
      ],
      "text/plain": [
       "+---------------------+-------------+-----------------+-----------------+------------+-------------+\n",
       "| cdparametresiseeaux | cdparametre | libmajparametre | libminparametre |  casparam  |  categorie  |\n",
       "+---------------------+-------------+-----------------+-----------------+------------+-------------+\n",
       "|        PCLAT        |     6219    |   PERCHLORATE   |   Perchlorate   | 14797-73-0 | perchlorate |\n",
       "+---------------------+-------------+-----------------+-----------------+------------+-------------+"
      ]
     },
     "execution_count": 2,
     "metadata": {},
     "output_type": "execute_result"
    }
   ],
   "source": [
    "%%sql\n",
    "SELECT * FROM mapping_categories WHERE categorie IN ('1,4 dioxane', 'perchlorate')"
   ]
  },
  {
   "cell_type": "code",
   "execution_count": 3,
   "metadata": {},
   "outputs": [
    {
     "data": {
      "text/html": [
       "<span style=\"None\">Running query in &#x27;duckdb:///../../database/data.duckdb&#x27;</span>"
      ],
      "text/plain": [
       "Running query in 'duckdb:///../../database/data.duckdb'"
      ]
     },
     "metadata": {},
     "output_type": "display_data"
    },
    {
     "data": {
      "text/html": [
       "<table>\n",
       "    <thead>\n",
       "        <tr>\n",
       "            <th>cdparametresiseeaux</th>\n",
       "            <th>cdparametre</th>\n",
       "            <th>libmajparametre</th>\n",
       "            <th>libminparametre</th>\n",
       "            <th>casparam</th>\n",
       "            <th>categorie</th>\n",
       "        </tr>\n",
       "    </thead>\n",
       "    <tbody>\n",
       "        <tr>\n",
       "            <td>14DAN</td>\n",
       "            <td>1580</td>\n",
       "            <td>1,4 DIOXANE</td>\n",
       "            <td>1,4 dioxane</td>\n",
       "            <td>123-91-1</td>\n",
       "            <td>hydrocarbures</td>\n",
       "        </tr>\n",
       "    </tbody>\n",
       "</table>"
      ],
      "text/plain": [
       "+---------------------+-------------+-----------------+-----------------+----------+---------------+\n",
       "| cdparametresiseeaux | cdparametre | libmajparametre | libminparametre | casparam |   categorie   |\n",
       "+---------------------+-------------+-----------------+-----------------+----------+---------------+\n",
       "|        14DAN        |     1580    |   1,4 DIOXANE   |   1,4 dioxane   | 123-91-1 | hydrocarbures |\n",
       "+---------------------+-------------+-----------------+-----------------+----------+---------------+"
      ]
     },
     "execution_count": 3,
     "metadata": {},
     "output_type": "execute_result"
    }
   ],
   "source": [
    "%%sql\n",
    "SELECT * FROM mapping_categories\n",
    "WHERE libminparametre IN ('1,4 dioxane', 'perchlorate')"
   ]
  },
  {
   "cell_type": "code",
   "execution_count": 4,
   "metadata": {},
   "outputs": [
    {
     "data": {
      "text/html": [
       "<span style=\"None\">Running query in &#x27;duckdb:///../../database/data.duckdb&#x27;</span>"
      ],
      "text/plain": [
       "Running query in 'duckdb:///../../database/data.duckdb'"
      ]
     },
     "metadata": {},
     "output_type": "display_data"
    },
    {
     "data": {
      "application/vnd.jupyter.widget-view+json": {
       "model_id": "217f2c33b50a47d5a6d5c039815a5845",
       "version_major": 2,
       "version_minor": 0
      },
      "text/plain": [
       "FloatProgress(value=0.0, layout=Layout(width='auto'), style=ProgressStyle(bar_color='black'))"
      ]
     },
     "metadata": {},
     "output_type": "display_data"
    },
    {
     "data": {
      "text/html": [
       "<table>\n",
       "    <thead>\n",
       "        <tr>\n",
       "            <th>cdparametresiseeaux</th>\n",
       "            <th>limitequal_float</th>\n",
       "            <th>limitequal</th>\n",
       "        </tr>\n",
       "    </thead>\n",
       "    <tbody>\n",
       "        <tr>\n",
       "            <td>PCLAT</td>\n",
       "            <td>None</td>\n",
       "            <td>None</td>\n",
       "        </tr>\n",
       "        <tr>\n",
       "            <td>14DAN</td>\n",
       "            <td>None</td>\n",
       "            <td>None</td>\n",
       "        </tr>\n",
       "    </tbody>\n",
       "</table>"
      ],
      "text/plain": [
       "+---------------------+------------------+------------+\n",
       "| cdparametresiseeaux | limitequal_float | limitequal |\n",
       "+---------------------+------------------+------------+\n",
       "|        PCLAT        |       None       |    None    |\n",
       "|        14DAN        |       None       |    None    |\n",
       "+---------------------+------------------+------------+"
      ]
     },
     "execution_count": 4,
     "metadata": {},
     "output_type": "execute_result"
    }
   ],
   "source": [
    "%%sql\n",
    "SELECT DISTINCT \n",
    "    cdparametresiseeaux, limitequal_float , limitequal\n",
    "FROM int__resultats_udi_communes\n",
    "WHERE cdparametresiseeaux IN ('14DAN','PCLAT')"
   ]
  },
  {
   "cell_type": "code",
   "execution_count": 5,
   "metadata": {},
   "outputs": [
    {
     "data": {
      "text/html": [
       "<span style=\"None\">Running query in &#x27;duckdb:///../../database/data.duckdb&#x27;</span>"
      ],
      "text/plain": [
       "Running query in 'duckdb:///../../database/data.duckdb'"
      ]
     },
     "metadata": {},
     "output_type": "display_data"
    },
    {
     "data": {
      "application/vnd.jupyter.widget-view+json": {
       "model_id": "bb0606d1c68a48e48ae7bd749f93ec24",
       "version_major": 2,
       "version_minor": 0
      },
      "text/plain": [
       "FloatProgress(value=0.0, layout=Layout(width='auto'), style=ProgressStyle(bar_color='black'))"
      ]
     },
     "metadata": {},
     "output_type": "display_data"
    },
    {
     "data": {
      "text/html": [
       "<table>\n",
       "    <thead>\n",
       "        <tr>\n",
       "            <th>cdreseau</th>\n",
       "            <th>periode</th>\n",
       "            <th>dernier_prel_datetime</th>\n",
       "            <th>dernier_prel_valeur</th>\n",
       "            <th>nb_parametres</th>\n",
       "            <th>categorie</th>\n",
       "            <th>resultat</th>\n",
       "        </tr>\n",
       "    </thead>\n",
       "    <tbody>\n",
       "        <tr>\n",
       "            <td>002000045</td>\n",
       "            <td>dernier_prel</td>\n",
       "            <td>2024-10-22 09:58:00</td>\n",
       "            <td>0.000</td>\n",
       "            <td>1</td>\n",
       "            <td>sub_indus_PCLAT</td>\n",
       "            <td>non_quantifie</td>\n",
       "        </tr>\n",
       "        <tr>\n",
       "            <td>002000136</td>\n",
       "            <td>dernier_prel</td>\n",
       "            <td>2024-10-23 12:13:00</td>\n",
       "            <td>1.700</td>\n",
       "            <td>1</td>\n",
       "            <td>sub_indus_PCLAT</td>\n",
       "            <td>inf_4</td>\n",
       "        </tr>\n",
       "        <tr>\n",
       "            <td>002000155</td>\n",
       "            <td>dernier_prel</td>\n",
       "            <td>2024-10-07 10:46:00</td>\n",
       "            <td>0.000</td>\n",
       "            <td>1</td>\n",
       "            <td>sub_indus_PCLAT</td>\n",
       "            <td>non_quantifie</td>\n",
       "        </tr>\n",
       "        <tr>\n",
       "            <td>002000318</td>\n",
       "            <td>dernier_prel</td>\n",
       "            <td>2024-04-15 09:39:00</td>\n",
       "            <td>6.100</td>\n",
       "            <td>1</td>\n",
       "            <td>sub_indus_PCLAT</td>\n",
       "            <td>sup_4</td>\n",
       "        </tr>\n",
       "        <tr>\n",
       "            <td>002000463</td>\n",
       "            <td>dernier_prel</td>\n",
       "            <td>2024-07-02 11:24:00</td>\n",
       "            <td>0.000</td>\n",
       "            <td>1</td>\n",
       "            <td>sub_indus_PCLAT</td>\n",
       "            <td>non_quantifie</td>\n",
       "        </tr>\n",
       "        <tr>\n",
       "            <td>002000583</td>\n",
       "            <td>dernier_prel</td>\n",
       "            <td>2024-04-22 09:02:00</td>\n",
       "            <td>0.000</td>\n",
       "            <td>1</td>\n",
       "            <td>sub_indus_PCLAT</td>\n",
       "            <td>non_quantifie</td>\n",
       "        </tr>\n",
       "        <tr>\n",
       "            <td>002000716</td>\n",
       "            <td>dernier_prel</td>\n",
       "            <td>2024-05-29 09:16:00</td>\n",
       "            <td>2.900</td>\n",
       "            <td>1</td>\n",
       "            <td>sub_indus_PCLAT</td>\n",
       "            <td>inf_4</td>\n",
       "        </tr>\n",
       "        <tr>\n",
       "            <td>002000824</td>\n",
       "            <td>dernier_prel</td>\n",
       "            <td>2024-07-01 12:25:00</td>\n",
       "            <td>2.800</td>\n",
       "            <td>1</td>\n",
       "            <td>sub_indus_PCLAT</td>\n",
       "            <td>inf_4</td>\n",
       "        </tr>\n",
       "        <tr>\n",
       "            <td>002000925</td>\n",
       "            <td>dernier_prel</td>\n",
       "            <td>2024-11-20 10:00:00</td>\n",
       "            <td>6.100</td>\n",
       "            <td>1</td>\n",
       "            <td>sub_indus_PCLAT</td>\n",
       "            <td>sup_4</td>\n",
       "        </tr>\n",
       "        <tr>\n",
       "            <td>002000963</td>\n",
       "            <td>dernier_prel</td>\n",
       "            <td>2024-07-17 10:03:00</td>\n",
       "            <td>0.000</td>\n",
       "            <td>1</td>\n",
       "            <td>sub_indus_PCLAT</td>\n",
       "            <td>non_quantifie</td>\n",
       "        </tr>\n",
       "    </tbody>\n",
       "</table>\n",
       "<span style=\"font-style:italic;text-align:center;\">Truncated to <a href=\"https://jupysql.ploomber.io/en/latest/api/configuration.html#displaylimit\">displaylimit</a> of 10.</span>"
      ],
      "text/plain": [
       "+-----------+--------------+-----------------------+---------------------+---------------+-----------------+---------------+\n",
       "|  cdreseau |   periode    | dernier_prel_datetime | dernier_prel_valeur | nb_parametres |    categorie    |    resultat   |\n",
       "+-----------+--------------+-----------------------+---------------------+---------------+-----------------+---------------+\n",
       "| 002000045 | dernier_prel |  2024-10-22 09:58:00  |        0.000        |       1       | sub_indus_PCLAT | non_quantifie |\n",
       "| 002000136 | dernier_prel |  2024-10-23 12:13:00  |        1.700        |       1       | sub_indus_PCLAT |     inf_4     |\n",
       "| 002000155 | dernier_prel |  2024-10-07 10:46:00  |        0.000        |       1       | sub_indus_PCLAT | non_quantifie |\n",
       "| 002000318 | dernier_prel |  2024-04-15 09:39:00  |        6.100        |       1       | sub_indus_PCLAT |     sup_4     |\n",
       "| 002000463 | dernier_prel |  2024-07-02 11:24:00  |        0.000        |       1       | sub_indus_PCLAT | non_quantifie |\n",
       "| 002000583 | dernier_prel |  2024-04-22 09:02:00  |        0.000        |       1       | sub_indus_PCLAT | non_quantifie |\n",
       "| 002000716 | dernier_prel |  2024-05-29 09:16:00  |        2.900        |       1       | sub_indus_PCLAT |     inf_4     |\n",
       "| 002000824 | dernier_prel |  2024-07-01 12:25:00  |        2.800        |       1       | sub_indus_PCLAT |     inf_4     |\n",
       "| 002000925 | dernier_prel |  2024-11-20 10:00:00  |        6.100        |       1       | sub_indus_PCLAT |     sup_4     |\n",
       "| 002000963 | dernier_prel |  2024-07-17 10:03:00  |        0.000        |       1       | sub_indus_PCLAT | non_quantifie |\n",
       "+-----------+--------------+-----------------------+---------------------+---------------+-----------------+---------------+\n",
       "Truncated to displaylimit of 10."
      ]
     },
     "execution_count": 5,
     "metadata": {},
     "output_type": "execute_result"
    }
   ],
   "source": [
    "%%sql --save int__resultats_sub_indus_udi_dernier\n",
    "\n",
    "WITH\n",
    "last_pvl AS (\n",
    "    SELECT\n",
    "        cdreseau,\n",
    "        categorie,\n",
    "        cdparametresiseeaux,\n",
    "        datetimeprel,\n",
    "        valtraduite,\n",
    "        ROW_NUMBER()\n",
    "            OVER (\n",
    "                PARTITION BY cdreseau, cdparametresiseeaux\n",
    "                ORDER BY datetimeprel DESC\n",
    "            )\n",
    "            AS row_number\n",
    "    FROM\n",
    "        int__resultats_udi_communes\n",
    "    WHERE\n",
    "        cdparametresiseeaux IN ('14DAN', 'PCLAT')\n",
    "        AND\n",
    "        -- On garde les prélèvements de moins d'un an\n",
    "        CURRENT_DATE - datetimeprel < INTERVAL 1 YEAR\n",
    ")\n",
    "\n",
    "SELECT\n",
    "    last_pvl.cdreseau,\n",
    "    'dernier_prel' AS periode,\n",
    "    last_pvl.datetimeprel AS dernier_prel_datetime,\n",
    "    last_pvl.valtraduite AS dernier_prel_valeur,\n",
    "    1 AS nb_parametres,\n",
    "    'sub_indus_' || last_pvl.cdparametresiseeaux AS categorie,\n",
    "    CASE\n",
    "        WHEN\n",
    "            last_pvl.valtraduite = 0\n",
    "            OR last_pvl.valtraduite IS NULL\n",
    "            THEN 'non_quantifie'\n",
    "        WHEN\n",
    "            last_pvl.valtraduite >= 0.35\n",
    "            AND last_pvl.cdparametresiseeaux = '14DAN'\n",
    "            THEN 'sup_0_35'\n",
    "        WHEN\n",
    "            last_pvl.valtraduite < 0.35\n",
    "            AND last_pvl.cdparametresiseeaux = '14DAN'\n",
    "            THEN 'inf_0_35'\n",
    "        WHEN\n",
    "            last_pvl.valtraduite >= 15\n",
    "            AND last_pvl.cdparametresiseeaux = 'PCLAT'\n",
    "            THEN 'sup_15'\n",
    "        WHEN\n",
    "            last_pvl.valtraduite >= 4 AND last_pvl.cdparametresiseeaux = 'PCLAT'\n",
    "            THEN 'sup_4'\n",
    "        WHEN\n",
    "            last_pvl.valtraduite < 4 AND last_pvl.cdparametresiseeaux = 'PCLAT'\n",
    "            THEN 'inf_4'\n",
    "        WHEN\n",
    "            last_pvl.valtraduite < 15 AND last_pvl.cdparametresiseeaux = 'PCLAT'\n",
    "            THEN 'inf_15'\n",
    "        ELSE 'error'\n",
    "    END AS resultat\n",
    "FROM\n",
    "    last_pvl\n",
    "WHERE\n",
    "    last_pvl.row_number = 1\n",
    "\n"
   ]
  },
  {
   "cell_type": "code",
   "execution_count": 6,
   "metadata": {},
   "outputs": [
    {
     "data": {
      "text/html": [
       "<span style=\"None\">Running query in &#x27;duckdb:///../../database/data.duckdb&#x27;</span>"
      ],
      "text/plain": [
       "Running query in 'duckdb:///../../database/data.duckdb'"
      ]
     },
     "metadata": {},
     "output_type": "display_data"
    },
    {
     "data": {
      "application/vnd.jupyter.widget-view+json": {
       "model_id": "c07c3519cec24477ab81f4976c8881b3",
       "version_major": 2,
       "version_minor": 0
      },
      "text/plain": [
       "FloatProgress(value=0.0, layout=Layout(width='auto'), style=ProgressStyle(bar_color='black'))"
      ]
     },
     "metadata": {},
     "output_type": "display_data"
    },
    {
     "data": {
      "text/html": [
       "<table>\n",
       "    <thead>\n",
       "        <tr>\n",
       "            <th>cdreseau</th>\n",
       "            <th>periode</th>\n",
       "            <th>dernier_prel_datetime</th>\n",
       "            <th>dernier_prel_valeur</th>\n",
       "            <th>nb_parametres</th>\n",
       "            <th>categorie</th>\n",
       "            <th>resultat</th>\n",
       "        </tr>\n",
       "    </thead>\n",
       "    <tbody>\n",
       "    </tbody>\n",
       "</table>"
      ],
      "text/plain": [
       "+----------+---------+-----------------------+---------------------+---------------+-----------+----------+\n",
       "| cdreseau | periode | dernier_prel_datetime | dernier_prel_valeur | nb_parametres | categorie | resultat |\n",
       "+----------+---------+-----------------------+---------------------+---------------+-----------+----------+\n",
       "+----------+---------+-----------------------+---------------------+---------------+-----------+----------+"
      ]
     },
     "execution_count": 6,
     "metadata": {},
     "output_type": "execute_result"
    }
   ],
   "source": [
    "%%sql --with int__resultats_sub_indus_udi_dernier\n",
    "SELECT \n",
    "    * \n",
    "FROM \n",
    "    int__resultats_sub_indus_udi_dernier\n",
    "WHERE \n",
    "    resultat='error'"
   ]
  },
  {
   "cell_type": "code",
   "execution_count": 7,
   "metadata": {},
   "outputs": [
    {
     "data": {
      "text/html": [
       "<span style=\"None\">Running query in &#x27;duckdb:///../../database/data.duckdb&#x27;</span>"
      ],
      "text/plain": [
       "Running query in 'duckdb:///../../database/data.duckdb'"
      ]
     },
     "metadata": {},
     "output_type": "display_data"
    },
    {
     "data": {
      "application/vnd.jupyter.widget-view+json": {
       "model_id": "ddf4f66c26454cceb8c89352acb44d05",
       "version_major": 2,
       "version_minor": 0
      },
      "text/plain": [
       "FloatProgress(value=0.0, layout=Layout(width='auto'), style=ProgressStyle(bar_color='black'))"
      ]
     },
     "metadata": {},
     "output_type": "display_data"
    },
    {
     "data": {
      "text/html": [
       "<table>\n",
       "    <thead>\n",
       "        <tr>\n",
       "            <th>resultat</th>\n",
       "            <th>count_star()</th>\n",
       "        </tr>\n",
       "    </thead>\n",
       "    <tbody>\n",
       "        <tr>\n",
       "            <td>sup_15</td>\n",
       "            <td>29</td>\n",
       "        </tr>\n",
       "        <tr>\n",
       "            <td>inf_4</td>\n",
       "            <td>429</td>\n",
       "        </tr>\n",
       "        <tr>\n",
       "            <td>non_quantifie</td>\n",
       "            <td>194</td>\n",
       "        </tr>\n",
       "        <tr>\n",
       "            <td>sup_0_35</td>\n",
       "            <td>1</td>\n",
       "        </tr>\n",
       "        <tr>\n",
       "            <td>sup_4</td>\n",
       "            <td>182</td>\n",
       "        </tr>\n",
       "    </tbody>\n",
       "</table>"
      ],
      "text/plain": [
       "+---------------+--------------+\n",
       "|    resultat   | count_star() |\n",
       "+---------------+--------------+\n",
       "|     sup_15    |      29      |\n",
       "|     inf_4     |     429      |\n",
       "| non_quantifie |     194      |\n",
       "|    sup_0_35   |      1       |\n",
       "|     sup_4     |     182      |\n",
       "+---------------+--------------+"
      ]
     },
     "execution_count": 7,
     "metadata": {},
     "output_type": "execute_result"
    }
   ],
   "source": [
    "%%sql --with int__resultats_sub_indus_udi_dernier\n",
    "SELECT \n",
    "    resultat, COUNT(*) \n",
    "FROM \n",
    "    int__resultats_sub_indus_udi_dernier\n",
    "GROUP BY \n",
    "    resultat"
   ]
  },
  {
   "cell_type": "code",
   "execution_count": 8,
   "metadata": {},
   "outputs": [
    {
     "data": {
      "text/html": [
       "<span style=\"None\">Running query in &#x27;duckdb:///../../database/data.duckdb&#x27;</span>"
      ],
      "text/plain": [
       "Running query in 'duckdb:///../../database/data.duckdb'"
      ]
     },
     "metadata": {},
     "output_type": "display_data"
    },
    {
     "data": {
      "application/vnd.jupyter.widget-view+json": {
       "model_id": "3ad736f8130e4390813b214f3cdac161",
       "version_major": 2,
       "version_minor": 0
      },
      "text/plain": [
       "FloatProgress(value=0.0, layout=Layout(width='auto'), style=ProgressStyle(bar_color='black'))"
      ]
     },
     "metadata": {},
     "output_type": "display_data"
    },
    {
     "data": {
      "text/html": [
       "<table>\n",
       "    <thead>\n",
       "        <tr>\n",
       "            <th>resultat</th>\n",
       "            <th>min_cdreseau</th>\n",
       "            <th>max_cdreseau</th>\n",
       "        </tr>\n",
       "    </thead>\n",
       "    <tbody>\n",
       "        <tr>\n",
       "            <td>inf_4</td>\n",
       "            <td>002000048</td>\n",
       "            <td>080003913</td>\n",
       "        </tr>\n",
       "        <tr>\n",
       "            <td>non_quantifie</td>\n",
       "            <td>002000045</td>\n",
       "            <td>080001512</td>\n",
       "        </tr>\n",
       "        <tr>\n",
       "            <td>sup_0_35</td>\n",
       "            <td>052000760</td>\n",
       "            <td>052000760</td>\n",
       "        </tr>\n",
       "        <tr>\n",
       "            <td>sup_15</td>\n",
       "            <td>002000114</td>\n",
       "            <td>080003918</td>\n",
       "        </tr>\n",
       "        <tr>\n",
       "            <td>sup_4</td>\n",
       "            <td>002000060</td>\n",
       "            <td>088002246</td>\n",
       "        </tr>\n",
       "    </tbody>\n",
       "</table>"
      ],
      "text/plain": [
       "+---------------+--------------+--------------+\n",
       "|    resultat   | min_cdreseau | max_cdreseau |\n",
       "+---------------+--------------+--------------+\n",
       "|     inf_4     |  002000048   |  080003913   |\n",
       "| non_quantifie |  002000045   |  080001512   |\n",
       "|    sup_0_35   |  052000760   |  052000760   |\n",
       "|     sup_15    |  002000114   |  080003918   |\n",
       "|     sup_4     |  002000060   |  088002246   |\n",
       "+---------------+--------------+--------------+"
      ]
     },
     "execution_count": 8,
     "metadata": {},
     "output_type": "execute_result"
    }
   ],
   "source": [
    "%%sql --with int__resultats_sub_indus_udi_dernier\n",
    "SELECT \n",
    "    resultat, MIN( cdreseau) min_cdreseau, MAX(cdreseau) AS max_cdreseau\n",
    "FROM \n",
    "    int__resultats_sub_indus_udi_dernier\n",
    "GROUP BY \n",
    "    resultat"
   ]
  },
  {
   "cell_type": "code",
   "execution_count": 9,
   "metadata": {},
   "outputs": [
    {
     "data": {
      "text/html": [
       "<span style=\"None\">Running query in &#x27;duckdb:///../../database/data.duckdb&#x27;</span>"
      ],
      "text/plain": [
       "Running query in 'duckdb:///../../database/data.duckdb'"
      ]
     },
     "metadata": {},
     "output_type": "display_data"
    },
    {
     "data": {
      "application/vnd.jupyter.widget-view+json": {
       "model_id": "272cf2e339764b7390b99b326d2b8d6f",
       "version_major": 2,
       "version_minor": 0
      },
      "text/plain": [
       "FloatProgress(value=0.0, layout=Layout(width='auto'), style=ProgressStyle(bar_color='black'))"
      ]
     },
     "metadata": {},
     "output_type": "display_data"
    },
    {
     "data": {
      "text/html": [
       "<table>\n",
       "    <thead>\n",
       "        <tr>\n",
       "            <th>cdreseau</th>\n",
       "            <th>periode</th>\n",
       "            <th>dernier_prel_datetime</th>\n",
       "            <th>dernier_prel_valeur</th>\n",
       "            <th>nb_parametres</th>\n",
       "            <th>categorie</th>\n",
       "            <th>resultat</th>\n",
       "        </tr>\n",
       "    </thead>\n",
       "    <tbody>\n",
       "        <tr>\n",
       "            <td>002000045</td>\n",
       "            <td>dernier_prel</td>\n",
       "            <td>2024-10-22 09:58:00</td>\n",
       "            <td>0.000</td>\n",
       "            <td>1</td>\n",
       "            <td>sub_indus_PCLAT</td>\n",
       "            <td>non_quantifie</td>\n",
       "        </tr>\n",
       "        <tr>\n",
       "            <td>002000048</td>\n",
       "            <td>dernier_prel</td>\n",
       "            <td>2024-04-22 10:10:00</td>\n",
       "            <td>1.900</td>\n",
       "            <td>1</td>\n",
       "            <td>sub_indus_PCLAT</td>\n",
       "            <td>inf_4</td>\n",
       "        </tr>\n",
       "        <tr>\n",
       "            <td>002000060</td>\n",
       "            <td>dernier_prel</td>\n",
       "            <td>2024-10-18 08:31:00</td>\n",
       "            <td>8.300</td>\n",
       "            <td>1</td>\n",
       "            <td>sub_indus_PCLAT</td>\n",
       "            <td>sup_4</td>\n",
       "        </tr>\n",
       "        <tr>\n",
       "            <td>002000114</td>\n",
       "            <td>dernier_prel</td>\n",
       "            <td>2024-10-10 11:03:00</td>\n",
       "            <td>45.000</td>\n",
       "            <td>1</td>\n",
       "            <td>sub_indus_PCLAT</td>\n",
       "            <td>sup_15</td>\n",
       "        </tr>\n",
       "        <tr>\n",
       "            <td>052000760</td>\n",
       "            <td>dernier_prel</td>\n",
       "            <td>2024-12-13 14:52:00</td>\n",
       "            <td>0.840</td>\n",
       "            <td>1</td>\n",
       "            <td>sub_indus_14DAN</td>\n",
       "            <td>sup_0_35</td>\n",
       "        </tr>\n",
       "        <tr>\n",
       "            <td>080001512</td>\n",
       "            <td>dernier_prel</td>\n",
       "            <td>2024-05-02 14:30:00</td>\n",
       "            <td>0.000</td>\n",
       "            <td>1</td>\n",
       "            <td>sub_indus_PCLAT</td>\n",
       "            <td>non_quantifie</td>\n",
       "        </tr>\n",
       "        <tr>\n",
       "            <td>080003913</td>\n",
       "            <td>dernier_prel</td>\n",
       "            <td>2024-05-31 11:23:00</td>\n",
       "            <td>2.200</td>\n",
       "            <td>1</td>\n",
       "            <td>sub_indus_PCLAT</td>\n",
       "            <td>inf_4</td>\n",
       "        </tr>\n",
       "        <tr>\n",
       "            <td>080003918</td>\n",
       "            <td>dernier_prel</td>\n",
       "            <td>2024-10-23 13:09:00</td>\n",
       "            <td>29.000</td>\n",
       "            <td>1</td>\n",
       "            <td>sub_indus_PCLAT</td>\n",
       "            <td>sup_15</td>\n",
       "        </tr>\n",
       "        <tr>\n",
       "            <td>088002246</td>\n",
       "            <td>dernier_prel</td>\n",
       "            <td>2024-10-22 10:33:00</td>\n",
       "            <td>9.200</td>\n",
       "            <td>1</td>\n",
       "            <td>sub_indus_PCLAT</td>\n",
       "            <td>sup_4</td>\n",
       "        </tr>\n",
       "    </tbody>\n",
       "</table>"
      ],
      "text/plain": [
       "+-----------+--------------+-----------------------+---------------------+---------------+-----------------+---------------+\n",
       "|  cdreseau |   periode    | dernier_prel_datetime | dernier_prel_valeur | nb_parametres |    categorie    |    resultat   |\n",
       "+-----------+--------------+-----------------------+---------------------+---------------+-----------------+---------------+\n",
       "| 002000045 | dernier_prel |  2024-10-22 09:58:00  |        0.000        |       1       | sub_indus_PCLAT | non_quantifie |\n",
       "| 002000048 | dernier_prel |  2024-04-22 10:10:00  |        1.900        |       1       | sub_indus_PCLAT |     inf_4     |\n",
       "| 002000060 | dernier_prel |  2024-10-18 08:31:00  |        8.300        |       1       | sub_indus_PCLAT |     sup_4     |\n",
       "| 002000114 | dernier_prel |  2024-10-10 11:03:00  |        45.000       |       1       | sub_indus_PCLAT |     sup_15    |\n",
       "| 052000760 | dernier_prel |  2024-12-13 14:52:00  |        0.840        |       1       | sub_indus_14DAN |    sup_0_35   |\n",
       "| 080001512 | dernier_prel |  2024-05-02 14:30:00  |        0.000        |       1       | sub_indus_PCLAT | non_quantifie |\n",
       "| 080003913 | dernier_prel |  2024-05-31 11:23:00  |        2.200        |       1       | sub_indus_PCLAT |     inf_4     |\n",
       "| 080003918 | dernier_prel |  2024-10-23 13:09:00  |        29.000       |       1       | sub_indus_PCLAT |     sup_15    |\n",
       "| 088002246 | dernier_prel |  2024-10-22 10:33:00  |        9.200        |       1       | sub_indus_PCLAT |     sup_4     |\n",
       "+-----------+--------------+-----------------------+---------------------+---------------+-----------------+---------------+"
      ]
     },
     "execution_count": 9,
     "metadata": {},
     "output_type": "execute_result"
    }
   ],
   "source": [
    "%%sql --with int__resultats_sub_indus_udi_dernier \n",
    " SELECT \n",
    "   *\n",
    " FROM\n",
    "   int__resultats_sub_indus_udi_dernier\n",
    "WHERE\n",
    "    cdreseau IN( '002000048','080003913','002000045','080001512','052000760','002000114','080003918','002000060','088002246')\n",
    "ORDER BY \n",
    "    cdreseau"
   ]
  },
  {
   "cell_type": "code",
   "execution_count": null,
   "metadata": {},
   "outputs": [],
   "source": []
  }
 ],
 "metadata": {
  "kernelspec": {
   "display_name": "Python 3 (ipykernel)",
   "language": "python",
   "name": "python3"
  },
  "language_info": {
   "codemirror_mode": {
    "name": "ipython",
    "version": 3
   },
   "file_extension": ".py",
   "mimetype": "text/x-python",
   "name": "python",
   "nbconvert_exporter": "python",
   "pygments_lexer": "ipython3",
   "version": "3.12.9"
  }
 },
 "nbformat": 4,
 "nbformat_minor": 4
}
