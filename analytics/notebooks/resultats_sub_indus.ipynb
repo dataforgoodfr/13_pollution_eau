{
 "cells": [
  {
   "cell_type": "code",
   "execution_count": 1,
   "metadata": {},
   "outputs": [
    {
     "data": {
      "text/html": [
       "<span style=\"None\">The &#x27;toml&#x27; package isn&#x27;t installed. To load settings from pyproject.toml or ~/.jupysql/config, install with: pip install toml</span>"
      ],
      "text/plain": [
       "The 'toml' package isn't installed. To load settings from pyproject.toml or ~/.jupysql/config, install with: pip install toml"
      ]
     },
     "metadata": {},
     "output_type": "display_data"
    },
    {
     "data": {
      "text/html": [
       "<span style=\"None\">Connecting to &#x27;duckdb:///../../database/data.duckdb&#x27;</span>"
      ],
      "text/plain": [
       "Connecting to 'duckdb:///../../database/data.duckdb'"
      ]
     },
     "metadata": {},
     "output_type": "display_data"
    }
   ],
   "source": [
    "%load_ext sql\n",
    "%sql duckdb:///../../database/data.duckdb\n",
    "%config SqlMagic.displaylimit = 10"
   ]
  },
  {
   "cell_type": "code",
   "execution_count": 2,
   "metadata": {},
   "outputs": [
    {
     "data": {
      "text/html": [
       "<table>\n",
       "    <thead>\n",
       "        <tr>\n",
       "            <th>Name</th>\n",
       "        </tr>\n",
       "    </thead>\n",
       "    <tbody>\n",
       "        <tr>\n",
       "            <td>ana__resultats_annee_udi</td>\n",
       "        </tr>\n",
       "        <tr>\n",
       "            <td>ana__resultats_communes</td>\n",
       "        </tr>\n",
       "        <tr>\n",
       "            <td>ana__resultats_last_udi</td>\n",
       "        </tr>\n",
       "        <tr>\n",
       "            <td>ana__resultats_udi</td>\n",
       "        </tr>\n",
       "        <tr>\n",
       "            <td>cog_communes</td>\n",
       "        </tr>\n",
       "        <tr>\n",
       "            <td>edc_communes</td>\n",
       "        </tr>\n",
       "        <tr>\n",
       "            <td>edc_prelevements</td>\n",
       "        </tr>\n",
       "        <tr>\n",
       "            <td>edc_resultats</td>\n",
       "        </tr>\n",
       "        <tr>\n",
       "            <td>int__lien_commune_cdreseau</td>\n",
       "        </tr>\n",
       "        <tr>\n",
       "            <td>laposte_communes</td>\n",
       "        </tr>\n",
       "        <tr>\n",
       "            <td>mapping_categories</td>\n",
       "        </tr>\n",
       "    </tbody>\n",
       "</table>"
      ],
      "text/plain": [
       "+----------------------------+\n",
       "|            Name            |\n",
       "+----------------------------+\n",
       "|  ana__resultats_annee_udi  |\n",
       "|  ana__resultats_communes   |\n",
       "|  ana__resultats_last_udi   |\n",
       "|     ana__resultats_udi     |\n",
       "|        cog_communes        |\n",
       "|        edc_communes        |\n",
       "|      edc_prelevements      |\n",
       "|       edc_resultats        |\n",
       "| int__lien_commune_cdreseau |\n",
       "|      laposte_communes      |\n",
       "|     mapping_categories     |\n",
       "+----------------------------+"
      ]
     },
     "execution_count": 2,
     "metadata": {},
     "output_type": "execute_result"
    }
   ],
   "source": [
    "%sqlcmd tables"
   ]
  },
  {
   "cell_type": "code",
   "execution_count": 5,
   "metadata": {},
   "outputs": [
    {
     "data": {
      "text/html": [
       "<span style=\"None\">Running query in &#x27;duckdb:///../../database/data.duckdb&#x27;</span>"
      ],
      "text/plain": [
       "Running query in 'duckdb:///../../database/data.duckdb'"
      ]
     },
     "metadata": {},
     "output_type": "display_data"
    },
    {
     "data": {
      "text/html": [
       "<table>\n",
       "    <thead>\n",
       "        <tr>\n",
       "            <th>categorie</th>\n",
       "        </tr>\n",
       "    </thead>\n",
       "    <tbody>\n",
       "        <tr>\n",
       "            <td>métabolite de pesticide</td>\n",
       "        </tr>\n",
       "        <tr>\n",
       "            <td>hydrocarbures</td>\n",
       "        </tr>\n",
       "        <tr>\n",
       "            <td>pcb</td>\n",
       "        </tr>\n",
       "        <tr>\n",
       "            <td>dioxine et furane</td>\n",
       "        </tr>\n",
       "        <tr>\n",
       "            <td>médicament</td>\n",
       "        </tr>\n",
       "        <tr>\n",
       "            <td>minéral</td>\n",
       "        </tr>\n",
       "        <tr>\n",
       "            <td>nitrite</td>\n",
       "        </tr>\n",
       "        <tr>\n",
       "            <td>pfas</td>\n",
       "        </tr>\n",
       "        <tr>\n",
       "            <td>phtalate</td>\n",
       "        </tr>\n",
       "        <tr>\n",
       "            <td>paramètre organoleptique</td>\n",
       "        </tr>\n",
       "    </tbody>\n",
       "</table>\n",
       "<span style=\"font-style:italic;text-align:center;\">Truncated to <a href=\"https://jupysql.ploomber.io/en/latest/api/configuration.html#displaylimit\">displaylimit</a> of 10.</span>"
      ],
      "text/plain": [
       "+--------------------------+\n",
       "|        categorie         |\n",
       "+--------------------------+\n",
       "| métabolite de pesticide  |\n",
       "|      hydrocarbures       |\n",
       "|           pcb            |\n",
       "|    dioxine et furane     |\n",
       "|        médicament        |\n",
       "|         minéral          |\n",
       "|         nitrite          |\n",
       "|           pfas           |\n",
       "|         phtalate         |\n",
       "| paramètre organoleptique |\n",
       "+--------------------------+\n",
       "Truncated to displaylimit of 10."
      ]
     },
     "execution_count": 5,
     "metadata": {},
     "output_type": "execute_result"
    }
   ],
   "source": [
    "%%sql\n",
    "SELECT DISTINCT categorie FROM mapping_categories"
   ]
  },
  {
   "cell_type": "code",
   "execution_count": 9,
   "metadata": {},
   "outputs": [
    {
     "data": {
      "text/html": [
       "<span style=\"None\">Running query in &#x27;duckdb:///../../database/data.duckdb&#x27;</span>"
      ],
      "text/plain": [
       "Running query in 'duckdb:///../../database/data.duckdb'"
      ]
     },
     "metadata": {},
     "output_type": "display_data"
    },
    {
     "data": {
      "text/html": [
       "<table>\n",
       "    <thead>\n",
       "        <tr>\n",
       "            <th>cdparametresiseeaux</th>\n",
       "            <th>cdparametre</th>\n",
       "            <th>libmajparametre</th>\n",
       "            <th>libminparametre</th>\n",
       "            <th>casparam</th>\n",
       "            <th>categorie</th>\n",
       "        </tr>\n",
       "    </thead>\n",
       "    <tbody>\n",
       "        <tr>\n",
       "            <td>14DAN</td>\n",
       "            <td>1580</td>\n",
       "            <td>1,4 DIOXANE</td>\n",
       "            <td>1,4 dioxane</td>\n",
       "            <td>123-91-1</td>\n",
       "            <td>hydrocarbures</td>\n",
       "        </tr>\n",
       "    </tbody>\n",
       "</table>"
      ],
      "text/plain": [
       "+---------------------+-------------+-----------------+-----------------+----------+---------------+\n",
       "| cdparametresiseeaux | cdparametre | libmajparametre | libminparametre | casparam |   categorie   |\n",
       "+---------------------+-------------+-----------------+-----------------+----------+---------------+\n",
       "|        14DAN        |     1580    |   1,4 DIOXANE   |   1,4 dioxane   | 123-91-1 | hydrocarbures |\n",
       "+---------------------+-------------+-----------------+-----------------+----------+---------------+"
      ]
     },
     "execution_count": 9,
     "metadata": {},
     "output_type": "execute_result"
    }
   ],
   "source": [
    "%%sql\n",
    "SELECT * FROM mapping_categories\n",
    "WHERE libminparametre IN ('1,4 dioxane', 'perchlorate')"
   ]
  },
  {
   "cell_type": "code",
   "execution_count": 11,
   "metadata": {},
   "outputs": [
    {
     "data": {
      "text/html": [
       "<span style=\"None\">Running query in &#x27;duckdb:///../../database/data.duckdb&#x27;</span>"
      ],
      "text/plain": [
       "Running query in 'duckdb:///../../database/data.duckdb'"
      ]
     },
     "metadata": {},
     "output_type": "display_data"
    },
    {
     "data": {
      "text/html": [
       "<table>\n",
       "    <thead>\n",
       "        <tr>\n",
       "            <th>cdparametresiseeaux</th>\n",
       "            <th>limitequal_float</th>\n",
       "            <th>limitequal</th>\n",
       "        </tr>\n",
       "    </thead>\n",
       "    <tbody>\n",
       "        <tr>\n",
       "            <td>14DAN</td>\n",
       "            <td>None</td>\n",
       "            <td>None</td>\n",
       "        </tr>\n",
       "    </tbody>\n",
       "</table>"
      ],
      "text/plain": [
       "+---------------------+------------------+------------+\n",
       "| cdparametresiseeaux | limitequal_float | limitequal |\n",
       "+---------------------+------------------+------------+\n",
       "|        14DAN        |       None       |    None    |\n",
       "+---------------------+------------------+------------+"
      ]
     },
     "execution_count": 11,
     "metadata": {},
     "output_type": "execute_result"
    }
   ],
   "source": [
    "%%sql\n",
    "SELECT DISTINCT \n",
    "    cdparametresiseeaux, limitequal_float , limitequal\n",
    "FROM int__resultats_udi_communes\n",
    "WHERE cdparametresiseeaux IN ('14DAN')"
   ]
  },
  {
   "cell_type": "code",
   "execution_count": null,
   "metadata": {},
   "outputs": [],
   "source": []
  }
 ],
 "metadata": {
  "kernelspec": {
   "display_name": "Python 3 (ipykernel)",
   "language": "python",
   "name": "python3"
  },
  "language_info": {
   "codemirror_mode": {
    "name": "ipython",
    "version": 3
   },
   "file_extension": ".py",
   "mimetype": "text/x-python",
   "name": "python",
   "nbconvert_exporter": "python",
   "pygments_lexer": "ipython3",
   "version": "3.12.9"
  }
 },
 "nbformat": 4,
 "nbformat_minor": 4
}
