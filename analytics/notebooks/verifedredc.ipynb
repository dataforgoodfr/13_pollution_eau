{
 "cells": [
  {
   "cell_type": "markdown",
   "metadata": {},
   "source": [
    "# On charge les données du dataset EDC\n"
   ]
  },
  {
   "cell_type": "code",
   "execution_count": 2,
   "metadata": {},
   "outputs": [],
   "source": [
    "import duckdb\n",
    "import pandas as pd\n",
    "import os\n",
    "import numpy as np\n",
    "from pipelines.tasks.config.common import DUCKDB_FILE\n",
    "\n",
    "con = duckdb.connect(database=DUCKDB_FILE, read_only=True)\n",
    "\n",
    "query = \"\"\"\n",
    "SELECT edc_prelevements.dateprel, edc_prelevements.heureprel,edc_prelevements.inseecommuneprinc, edc_prelevements.nomcommuneprinc, edc_prelevements.cdreseau, edc_prelevements.cdreseauamont, edc_resultats.referenceprel, edc_resultats.valtraduite\n",
    "FROM edc_prelevements\n",
    "JOIN edc_resultats\n",
    "ON edc_prelevements.referenceprel = edc_resultats.referenceprel\n",
    "WHERE\n",
    "(dateprel >= '2024-01-01')\n",
    "\"\"\"\n",
    "\n",
    "edc = con.sql(query)\n",
    "edc = edc.df()"
   ]
  },
  {
   "cell_type": "markdown",
   "metadata": {},
   "source": [
    "# On charge les données du dataset EDR\n"
   ]
  },
  {
   "cell_type": "code",
   "execution_count": 4,
   "metadata": {},
   "outputs": [
    {
     "name": "stderr",
     "output_type": "stream",
     "text": [
      "C:\\Users\\Admin\\AppData\\Local\\Temp\\ipykernel_16816\\612874238.py:1: DtypeWarning: Columns (0,3,4,6,11,13,23,26) have mixed types. Specify dtype option on import or set low_memory=False.\n",
      "  edr_udi_plv = pd.read_csv(\n"
     ]
    }
   ],
   "source": [
    "edr_udi_plv = pd.read_csv(\n",
    "    r\"C:\\Users\\Admin\\Downloads\\edr\\UDI_PLV_202412.txt\", delimiter=\",\"\n",
    ")"
   ]
  },
  {
   "cell_type": "code",
   "execution_count": 6,
   "metadata": {},
   "outputs": [
    {
     "data": {
      "text/plain": [
       "Index(['distrcode', 'distrlib', 'distrsiret', 'cddept', 'inseecommune',\n",
       "       'nomcommune', 'cdreseau', 'nomreseau', 'codetypeinstallation',\n",
       "       'nomtypeinstallation', 'inae', 'cdpointsurv', 'nompointsurv',\n",
       "       'referenceprel', 'dateprel', 'heureprel', 'finaliteprel',\n",
       "       'conclusionprel', 'cdtypeeau', 'libtypeeau', 'plvconformitebacterio',\n",
       "       'plvconformitechimique', 'plvcomplet', 'plvcdorganismepayeur',\n",
       "       'typevisite', 'plvcondition', 'preleveur', 'distrsiren',\n",
       "       'plvconformiterefbacterio', 'plvconformiterefchimique', 'cddeptsandre',\n",
       "       'dtautorisation', 'champcaptant', 'codebrgm', 'codebss', 'dmajplv',\n",
       "       'dmodifplv', 'dmodifins', 'representativite', 'coord_x', 'coord_y'],\n",
       "      dtype='object')"
      ]
     },
     "execution_count": 6,
     "metadata": {},
     "output_type": "execute_result"
    }
   ],
   "source": [
    "edr_udi_plv.columns"
   ]
  },
  {
   "cell_type": "markdown",
   "metadata": {},
   "source": [
    "# Analyse des différences\n"
   ]
  },
  {
   "cell_type": "code",
   "execution_count": 11,
   "metadata": {},
   "outputs": [],
   "source": [
    "query_prel = \"\"\"\n",
    "SELECT DISTINCT COUNT(referenceprel) AS Nb_prel\n",
    "FROM edc_prelevements\n",
    "\"\"\"\n",
    "\n",
    "edc_prel = con.sql(query_prel)\n",
    "edc_prel = edc_prel.df()"
   ]
  },
  {
   "cell_type": "code",
   "execution_count": 12,
   "metadata": {},
   "outputs": [
    {
     "data": {
      "text/html": [
       "<div>\n",
       "<style scoped>\n",
       "    .dataframe tbody tr th:only-of-type {\n",
       "        vertical-align: middle;\n",
       "    }\n",
       "\n",
       "    .dataframe tbody tr th {\n",
       "        vertical-align: top;\n",
       "    }\n",
       "\n",
       "    .dataframe thead th {\n",
       "        text-align: right;\n",
       "    }\n",
       "</style>\n",
       "<table border=\"1\" class=\"dataframe\">\n",
       "  <thead>\n",
       "    <tr style=\"text-align: right;\">\n",
       "      <th></th>\n",
       "      <th>Nb_prel</th>\n",
       "    </tr>\n",
       "  </thead>\n",
       "  <tbody>\n",
       "    <tr>\n",
       "      <th>0</th>\n",
       "      <td>2083345</td>\n",
       "    </tr>\n",
       "  </tbody>\n",
       "</table>\n",
       "</div>"
      ],
      "text/plain": [
       "   Nb_prel\n",
       "0  2083345"
      ]
     },
     "execution_count": 12,
     "metadata": {},
     "output_type": "execute_result"
    }
   ],
   "source": [
    "edc_prel"
   ]
  },
  {
   "cell_type": "code",
   "execution_count": 14,
   "metadata": {},
   "outputs": [],
   "source": [
    "query_preledr = \"\"\"\n",
    "SELECT DISTINCT COUNT(referenceprel) AS Nb_prel\n",
    "FROM edr_udi_plv\n",
    "\"\"\"\n",
    "\n",
    "edr_prel = con.sql(query_preledr)\n",
    "edr_prel = edr_prel.df()"
   ]
  },
  {
   "cell_type": "code",
   "execution_count": 15,
   "metadata": {},
   "outputs": [
    {
     "data": {
      "text/html": [
       "<div>\n",
       "<style scoped>\n",
       "    .dataframe tbody tr th:only-of-type {\n",
       "        vertical-align: middle;\n",
       "    }\n",
       "\n",
       "    .dataframe tbody tr th {\n",
       "        vertical-align: top;\n",
       "    }\n",
       "\n",
       "    .dataframe thead th {\n",
       "        text-align: right;\n",
       "    }\n",
       "</style>\n",
       "<table border=\"1\" class=\"dataframe\">\n",
       "  <thead>\n",
       "    <tr style=\"text-align: right;\">\n",
       "      <th></th>\n",
       "      <th>Nb_prel</th>\n",
       "    </tr>\n",
       "  </thead>\n",
       "  <tbody>\n",
       "    <tr>\n",
       "      <th>0</th>\n",
       "      <td>24532</td>\n",
       "    </tr>\n",
       "  </tbody>\n",
       "</table>\n",
       "</div>"
      ],
      "text/plain": [
       "   Nb_prel\n",
       "0    24532"
      ]
     },
     "execution_count": 15,
     "metadata": {},
     "output_type": "execute_result"
    }
   ],
   "source": [
    "edr_prel"
   ]
  },
  {
   "cell_type": "markdown",
   "metadata": {},
   "source": [
    "On regarde combien de referenceprel de EDC sont dans EDR\n"
   ]
  },
  {
   "cell_type": "markdown",
   "metadata": {},
   "source": [
    "La condition edc.cdreseauamont IS NULL permet de retirer les prélèvements hors UDI de la table EDC\n"
   ]
  },
  {
   "cell_type": "code",
   "execution_count": 20,
   "metadata": {},
   "outputs": [],
   "source": [
    "query_comp1 = \"\"\"\n",
    "SELECT DISTINCT edc.referenceprel\n",
    "FROM   edc\n",
    "WHERE \n",
    "    (edc.referenceprel NOT IN (SELECT DISTINCT edr_udi_plv.referenceprel FROM edr_udi_plv))\n",
    "    AND\n",
    "    (edc.cdreseauamont IS NULL)\n",
    "\"\"\"\n",
    "\n",
    "comp1 = con.sql(query_comp1)\n",
    "comp1 = comp1.df()"
   ]
  },
  {
   "cell_type": "code",
   "execution_count": 21,
   "metadata": {},
   "outputs": [
    {
     "data": {
      "text/html": [
       "<div>\n",
       "<style scoped>\n",
       "    .dataframe tbody tr th:only-of-type {\n",
       "        vertical-align: middle;\n",
       "    }\n",
       "\n",
       "    .dataframe tbody tr th {\n",
       "        vertical-align: top;\n",
       "    }\n",
       "\n",
       "    .dataframe thead th {\n",
       "        text-align: right;\n",
       "    }\n",
       "</style>\n",
       "<table border=\"1\" class=\"dataframe\">\n",
       "  <thead>\n",
       "    <tr style=\"text-align: right;\">\n",
       "      <th></th>\n",
       "      <th>referenceprel</th>\n",
       "    </tr>\n",
       "  </thead>\n",
       "  <tbody>\n",
       "    <tr>\n",
       "      <th>0</th>\n",
       "      <td>09100195586</td>\n",
       "    </tr>\n",
       "    <tr>\n",
       "      <th>1</th>\n",
       "      <td>09100195590</td>\n",
       "    </tr>\n",
       "    <tr>\n",
       "      <th>2</th>\n",
       "      <td>09100195601</td>\n",
       "    </tr>\n",
       "    <tr>\n",
       "      <th>3</th>\n",
       "      <td>09100195625</td>\n",
       "    </tr>\n",
       "    <tr>\n",
       "      <th>4</th>\n",
       "      <td>09100195669</td>\n",
       "    </tr>\n",
       "    <tr>\n",
       "      <th>...</th>\n",
       "      <td>...</td>\n",
       "    </tr>\n",
       "    <tr>\n",
       "      <th>201139</th>\n",
       "      <td>08500470915</td>\n",
       "    </tr>\n",
       "    <tr>\n",
       "      <th>201140</th>\n",
       "      <td>05700169293</td>\n",
       "    </tr>\n",
       "    <tr>\n",
       "      <th>201141</th>\n",
       "      <td>06100143826</td>\n",
       "    </tr>\n",
       "    <tr>\n",
       "      <th>201142</th>\n",
       "      <td>02800124866</td>\n",
       "    </tr>\n",
       "    <tr>\n",
       "      <th>201143</th>\n",
       "      <td>07400270464</td>\n",
       "    </tr>\n",
       "  </tbody>\n",
       "</table>\n",
       "<p>201144 rows × 1 columns</p>\n",
       "</div>"
      ],
      "text/plain": [
       "       referenceprel\n",
       "0        09100195586\n",
       "1        09100195590\n",
       "2        09100195601\n",
       "3        09100195625\n",
       "4        09100195669\n",
       "...              ...\n",
       "201139   08500470915\n",
       "201140   05700169293\n",
       "201141   06100143826\n",
       "201142   02800124866\n",
       "201143   07400270464\n",
       "\n",
       "[201144 rows x 1 columns]"
      ]
     },
     "execution_count": 21,
     "metadata": {},
     "output_type": "execute_result"
    }
   ],
   "source": [
    "comp1"
   ]
  },
  {
   "cell_type": "markdown",
   "metadata": {},
   "source": [
    "# Dans l'autre sens, on regarde les referenceprel présents dans EDR mais pas dans EDC\n"
   ]
  },
  {
   "cell_type": "code",
   "execution_count": 25,
   "metadata": {},
   "outputs": [
    {
     "data": {
      "text/plain": [
       "Index(['distrcode', 'distrlib', 'distrsiret', 'cddept', 'inseecommune',\n",
       "       'nomcommune', 'cdreseau', 'nomreseau', 'codetypeinstallation',\n",
       "       'nomtypeinstallation', 'inae', 'cdpointsurv', 'nompointsurv',\n",
       "       'referenceprel', 'dateprel', 'heureprel', 'finaliteprel',\n",
       "       'conclusionprel', 'cdtypeeau', 'libtypeeau', 'plvconformitebacterio',\n",
       "       'plvconformitechimique', 'plvcomplet', 'plvcdorganismepayeur',\n",
       "       'typevisite', 'plvcondition', 'preleveur', 'distrsiren',\n",
       "       'plvconformiterefbacterio', 'plvconformiterefchimique', 'cddeptsandre',\n",
       "       'dtautorisation', 'champcaptant', 'codebrgm', 'codebss', 'dmajplv',\n",
       "       'dmodifplv', 'dmodifins', 'representativite', 'coord_x', 'coord_y'],\n",
       "      dtype='object')"
      ]
     },
     "execution_count": 25,
     "metadata": {},
     "output_type": "execute_result"
    }
   ],
   "source": [
    "edr_udi_plv.columns"
   ]
  },
  {
   "cell_type": "code",
   "execution_count": 26,
   "metadata": {},
   "outputs": [],
   "source": [
    "query_comp2 = \"\"\"\n",
    "SELECT DISTINCT edr_udi_plv.referenceprel, edr_udi_plv.inseecommune, edr_udi_plv.nomcommune, edr_udi_plv.cdreseau\n",
    "FROM   edr_udi_plv\n",
    "WHERE edr_udi_plv.referenceprel NOT IN (SELECT DISTINCT edc.referenceprel FROM edc)\n",
    "\"\"\"\n",
    "\n",
    "comp2 = con.sql(query_comp2)\n",
    "comp2 = comp2.df()"
   ]
  },
  {
   "cell_type": "code",
   "execution_count": 27,
   "metadata": {},
   "outputs": [
    {
     "data": {
      "text/html": [
       "<div>\n",
       "<style scoped>\n",
       "    .dataframe tbody tr th:only-of-type {\n",
       "        vertical-align: middle;\n",
       "    }\n",
       "\n",
       "    .dataframe tbody tr th {\n",
       "        vertical-align: top;\n",
       "    }\n",
       "\n",
       "    .dataframe thead th {\n",
       "        text-align: right;\n",
       "    }\n",
       "</style>\n",
       "<table border=\"1\" class=\"dataframe\">\n",
       "  <thead>\n",
       "    <tr style=\"text-align: right;\">\n",
       "      <th></th>\n",
       "      <th>referenceprel</th>\n",
       "      <th>inseecommune</th>\n",
       "      <th>nomcommune</th>\n",
       "      <th>cdreseau</th>\n",
       "    </tr>\n",
       "  </thead>\n",
       "  <tbody>\n",
       "    <tr>\n",
       "      <th>0</th>\n",
       "      <td>00900156705</td>\n",
       "      <td>09171</td>\n",
       "      <td>LORDAT</td>\n",
       "      <td>009001108</td>\n",
       "    </tr>\n",
       "    <tr>\n",
       "      <th>1</th>\n",
       "      <td>00900156702</td>\n",
       "      <td>09188</td>\n",
       "      <td>MERCUS-GARRABET</td>\n",
       "      <td>009001130</td>\n",
       "    </tr>\n",
       "    <tr>\n",
       "      <th>2</th>\n",
       "      <td>00900156524</td>\n",
       "      <td>09206</td>\n",
       "      <td>MONTFERRIER</td>\n",
       "      <td>009003767</td>\n",
       "    </tr>\n",
       "    <tr>\n",
       "      <th>3</th>\n",
       "      <td>00900156252</td>\n",
       "      <td>09210</td>\n",
       "      <td>MONTOULIEU</td>\n",
       "      <td>009001160</td>\n",
       "    </tr>\n",
       "    <tr>\n",
       "      <th>4</th>\n",
       "      <td>00900156870</td>\n",
       "      <td>09262</td>\n",
       "      <td>SAINT-JEAN-D'AIGUES-VIVES</td>\n",
       "      <td>009003201</td>\n",
       "    </tr>\n",
       "    <tr>\n",
       "      <th>...</th>\n",
       "      <td>...</td>\n",
       "      <td>...</td>\n",
       "      <td>...</td>\n",
       "      <td>...</td>\n",
       "    </tr>\n",
       "    <tr>\n",
       "      <th>8120</th>\n",
       "      <td>02200236769</td>\n",
       "      <td>22200</td>\n",
       "      <td>PLEVEN</td>\n",
       "      <td>022000284</td>\n",
       "    </tr>\n",
       "    <tr>\n",
       "      <th>8121</th>\n",
       "      <td>02200237135</td>\n",
       "      <td>22258</td>\n",
       "      <td>QUESSOY</td>\n",
       "      <td>022000995</td>\n",
       "    </tr>\n",
       "    <tr>\n",
       "      <th>8122</th>\n",
       "      <td>02200236918</td>\n",
       "      <td>22266</td>\n",
       "      <td>ROSTRENEN</td>\n",
       "      <td>022000624</td>\n",
       "    </tr>\n",
       "    <tr>\n",
       "      <th>8123</th>\n",
       "      <td>02300079694</td>\n",
       "      <td>23105</td>\n",
       "      <td>LAVAVEIX-LES-MINES</td>\n",
       "      <td>023000074</td>\n",
       "    </tr>\n",
       "    <tr>\n",
       "      <th>8124</th>\n",
       "      <td>02500148224</td>\n",
       "      <td>25120</td>\n",
       "      <td>CHANTRANS</td>\n",
       "      <td>025000166</td>\n",
       "    </tr>\n",
       "  </tbody>\n",
       "</table>\n",
       "<p>8125 rows × 4 columns</p>\n",
       "</div>"
      ],
      "text/plain": [
       "     referenceprel inseecommune                 nomcommune   cdreseau\n",
       "0      00900156705        09171                     LORDAT  009001108\n",
       "1      00900156702        09188            MERCUS-GARRABET  009001130\n",
       "2      00900156524        09206                MONTFERRIER  009003767\n",
       "3      00900156252        09210                 MONTOULIEU  009001160\n",
       "4      00900156870        09262  SAINT-JEAN-D'AIGUES-VIVES  009003201\n",
       "...            ...          ...                        ...        ...\n",
       "8120   02200236769        22200                     PLEVEN  022000284\n",
       "8121   02200237135        22258                    QUESSOY  022000995\n",
       "8122   02200236918        22266                  ROSTRENEN  022000624\n",
       "8123   02300079694        23105         LAVAVEIX-LES-MINES  023000074\n",
       "8124   02500148224        25120                  CHANTRANS  025000166\n",
       "\n",
       "[8125 rows x 4 columns]"
      ]
     },
     "execution_count": 27,
     "metadata": {},
     "output_type": "execute_result"
    }
   ],
   "source": [
    "comp2"
   ]
  },
  {
   "cell_type": "markdown",
   "metadata": {},
   "source": [
    "8125 prélevements sont dans EDR et pas dans EDC, on va chercher à comprendre d'où viennent ces prélèvements\n"
   ]
  },
  {
   "cell_type": "markdown",
   "metadata": {},
   "source": [
    "On commence par vérifier s'il ne s'agit pas juste de prélèvements faits sur une commune dite principale et rapportés sur les communes qui dépendent de l'UDI située dans la commune principale\n"
   ]
  },
  {
   "cell_type": "code",
   "execution_count": 28,
   "metadata": {},
   "outputs": [],
   "source": [
    "query_comp3 = \"\"\"\n",
    "SELECT DISTINCT GROUP_CONCAT(edr_udi_plv.referenceprel) AS Liste_referenceprel, GROUP_CONCAT(edr_udi_plv.inseecommune) AS Liste_inseecommune, GROUP_CONCAT(edr_udi_plv.nomcommune) AS nomcommune, edr_udi_plv.cdreseau\n",
    "FROM   edr_udi_plv\n",
    "WHERE edr_udi_plv.referenceprel NOT IN (SELECT DISTINCT edc.referenceprel FROM edc)\n",
    "GROUP BY edr_udi_plv.cdreseau\n",
    "\"\"\"\n",
    "\n",
    "comp3 = con.sql(query_comp3)\n",
    "comp3 = comp3.df()"
   ]
  },
  {
   "cell_type": "code",
   "execution_count": 33,
   "metadata": {},
   "outputs": [
    {
     "data": {
      "text/html": [
       "<div>\n",
       "<style scoped>\n",
       "    .dataframe tbody tr th:only-of-type {\n",
       "        vertical-align: middle;\n",
       "    }\n",
       "\n",
       "    .dataframe tbody tr th {\n",
       "        vertical-align: top;\n",
       "    }\n",
       "\n",
       "    .dataframe thead th {\n",
       "        text-align: right;\n",
       "    }\n",
       "</style>\n",
       "<table border=\"1\" class=\"dataframe\">\n",
       "  <thead>\n",
       "    <tr style=\"text-align: right;\">\n",
       "      <th></th>\n",
       "      <th>Liste_referenceprel</th>\n",
       "      <th>Liste_inseecommune</th>\n",
       "      <th>nomcommune</th>\n",
       "      <th>cdreseau</th>\n",
       "    </tr>\n",
       "  </thead>\n",
       "  <tbody>\n",
       "    <tr>\n",
       "      <th>0</th>\n",
       "      <td>6400150718,6400193067,6400214570,6400215403,64...</td>\n",
       "      <td>64445,64445,64445,64445,64445,64445,64445,6444...</td>\n",
       "      <td>PAU,PAU,PAU,PAU,PAU,PAU,PAU,PAU,PAU,PAU,PAU,PA...</td>\n",
       "      <td>64000432</td>\n",
       "    </tr>\n",
       "    <tr>\n",
       "      <th>1</th>\n",
       "      <td>6500154858</td>\n",
       "      <td>65344</td>\n",
       "      <td>OSSUN</td>\n",
       "      <td>65000659</td>\n",
       "    </tr>\n",
       "    <tr>\n",
       "      <th>2</th>\n",
       "      <td>6600213715</td>\n",
       "      <td>66058</td>\n",
       "      <td>CORNEILLA-LA-RIVIERE</td>\n",
       "      <td>66000194</td>\n",
       "    </tr>\n",
       "    <tr>\n",
       "      <th>3</th>\n",
       "      <td>6600213707</td>\n",
       "      <td>66108</td>\n",
       "      <td>MILLAS</td>\n",
       "      <td>66000326</td>\n",
       "    </tr>\n",
       "    <tr>\n",
       "      <th>4</th>\n",
       "      <td>6900167582</td>\n",
       "      <td>69171</td>\n",
       "      <td>SAIN-BEL</td>\n",
       "      <td>69000419</td>\n",
       "    </tr>\n",
       "    <tr>\n",
       "      <th>...</th>\n",
       "      <td>...</td>\n",
       "      <td>...</td>\n",
       "      <td>...</td>\n",
       "      <td>...</td>\n",
       "    </tr>\n",
       "    <tr>\n",
       "      <th>3423</th>\n",
       "      <td>8200088827</td>\n",
       "      <td>82044</td>\n",
       "      <td>CORBARIEU</td>\n",
       "      <td>82000170</td>\n",
       "    </tr>\n",
       "    <tr>\n",
       "      <th>3424</th>\n",
       "      <td>8500472267</td>\n",
       "      <td>85160</td>\n",
       "      <td>NESMY</td>\n",
       "      <td>85000181</td>\n",
       "    </tr>\n",
       "    <tr>\n",
       "      <th>3425</th>\n",
       "      <td>8900133272,8900133274</td>\n",
       "      <td>89262,89262</td>\n",
       "      <td>MOLOSMES,MOLOSMES</td>\n",
       "      <td>89000571</td>\n",
       "    </tr>\n",
       "    <tr>\n",
       "      <th>3426</th>\n",
       "      <td>02900256761</td>\n",
       "      <td>29042</td>\n",
       "      <td>CROZON</td>\n",
       "      <td>029000914</td>\n",
       "    </tr>\n",
       "    <tr>\n",
       "      <th>3427</th>\n",
       "      <td>02200236501</td>\n",
       "      <td>22113</td>\n",
       "      <td>LANNION</td>\n",
       "      <td>022000060</td>\n",
       "    </tr>\n",
       "  </tbody>\n",
       "</table>\n",
       "<p>3428 rows × 4 columns</p>\n",
       "</div>"
      ],
      "text/plain": [
       "                                    Liste_referenceprel  \\\n",
       "0     6400150718,6400193067,6400214570,6400215403,64...   \n",
       "1                                            6500154858   \n",
       "2                                            6600213715   \n",
       "3                                            6600213707   \n",
       "4                                            6900167582   \n",
       "...                                                 ...   \n",
       "3423                                         8200088827   \n",
       "3424                                         8500472267   \n",
       "3425                              8900133272,8900133274   \n",
       "3426                                        02900256761   \n",
       "3427                                        02200236501   \n",
       "\n",
       "                                     Liste_inseecommune  \\\n",
       "0     64445,64445,64445,64445,64445,64445,64445,6444...   \n",
       "1                                                 65344   \n",
       "2                                                 66058   \n",
       "3                                                 66108   \n",
       "4                                                 69171   \n",
       "...                                                 ...   \n",
       "3423                                              82044   \n",
       "3424                                              85160   \n",
       "3425                                        89262,89262   \n",
       "3426                                              29042   \n",
       "3427                                              22113   \n",
       "\n",
       "                                             nomcommune   cdreseau  \n",
       "0     PAU,PAU,PAU,PAU,PAU,PAU,PAU,PAU,PAU,PAU,PAU,PA...   64000432  \n",
       "1                                                 OSSUN   65000659  \n",
       "2                                  CORNEILLA-LA-RIVIERE   66000194  \n",
       "3                                                MILLAS   66000326  \n",
       "4                                              SAIN-BEL   69000419  \n",
       "...                                                 ...        ...  \n",
       "3423                                          CORBARIEU   82000170  \n",
       "3424                                              NESMY   85000181  \n",
       "3425                                  MOLOSMES,MOLOSMES   89000571  \n",
       "3426                                             CROZON  029000914  \n",
       "3427                                            LANNION  022000060  \n",
       "\n",
       "[3428 rows x 4 columns]"
      ]
     },
     "execution_count": 33,
     "metadata": {},
     "output_type": "execute_result"
    }
   ],
   "source": [
    "comp3"
   ]
  },
  {
   "cell_type": "code",
   "execution_count": 57,
   "metadata": {},
   "outputs": [
    {
     "data": {
      "text/plain": [
       "Index(['distrcode', 'distrlib', 'distrsiret', 'cddept', 'inseecommune',\n",
       "       'nomcommune', 'cdreseau', 'nomreseau', 'codetypeinstallation',\n",
       "       'nomtypeinstallation', 'inae', 'cdpointsurv', 'nompointsurv',\n",
       "       'referenceprel', 'dateprel', 'heureprel', 'finaliteprel',\n",
       "       'conclusionprel', 'cdtypeeau', 'libtypeeau', 'plvconformitebacterio',\n",
       "       'plvconformitechimique', 'plvcomplet', 'plvcdorganismepayeur',\n",
       "       'typevisite', 'plvcondition', 'preleveur', 'distrsiren',\n",
       "       'plvconformiterefbacterio', 'plvconformiterefchimique', 'cddeptsandre',\n",
       "       'dtautorisation', 'champcaptant', 'codebrgm', 'codebss', 'dmajplv',\n",
       "       'dmodifplv', 'dmodifins', 'representativite', 'coord_x', 'coord_y'],\n",
       "      dtype='object')"
      ]
     },
     "execution_count": 57,
     "metadata": {},
     "output_type": "execute_result"
    }
   ],
   "source": [
    "edr_udi_plv.columns"
   ]
  },
  {
   "cell_type": "code",
   "execution_count": 65,
   "metadata": {},
   "outputs": [
    {
     "data": {
      "text/plain": [
       "array(['00900156705', '00900156702', '00900156524', ..., '02200236918',\n",
       "       '02300079694', '02500148224'], shape=(8125,), dtype=object)"
      ]
     },
     "execution_count": 65,
     "metadata": {},
     "output_type": "execute_result"
    }
   ],
   "source": [
    "comp2[\"referenceprel\"].to_numpy()"
   ]
  },
  {
   "cell_type": "code",
   "execution_count": 62,
   "metadata": {},
   "outputs": [],
   "source": [
    "query_comp4 = \"\"\"\n",
    "SELECT referenceprel, inseecommune, nomcommune, cdreseau,dateprel, heureprel,nomtypeinstallation\n",
    "FROM edr_udi_plv\n",
    "WHERE referenceprel = '02900256761'\n",
    "\"\"\"\n",
    "\n",
    "comp4 = con.sql(query_comp4)\n",
    "comp4 = comp4.df()"
   ]
  },
  {
   "cell_type": "code",
   "execution_count": 63,
   "metadata": {},
   "outputs": [
    {
     "data": {
      "text/html": [
       "<div>\n",
       "<style scoped>\n",
       "    .dataframe tbody tr th:only-of-type {\n",
       "        vertical-align: middle;\n",
       "    }\n",
       "\n",
       "    .dataframe tbody tr th {\n",
       "        vertical-align: top;\n",
       "    }\n",
       "\n",
       "    .dataframe thead th {\n",
       "        text-align: right;\n",
       "    }\n",
       "</style>\n",
       "<table border=\"1\" class=\"dataframe\">\n",
       "  <thead>\n",
       "    <tr style=\"text-align: right;\">\n",
       "      <th></th>\n",
       "      <th>referenceprel</th>\n",
       "      <th>inseecommune</th>\n",
       "      <th>nomcommune</th>\n",
       "      <th>cdreseau</th>\n",
       "      <th>dateprel</th>\n",
       "      <th>heureprel</th>\n",
       "      <th>nomtypeinstallation</th>\n",
       "    </tr>\n",
       "  </thead>\n",
       "  <tbody>\n",
       "    <tr>\n",
       "      <th>0</th>\n",
       "      <td>02900256761</td>\n",
       "      <td>29042</td>\n",
       "      <td>CROZON</td>\n",
       "      <td>029000914</td>\n",
       "      <td>2024-11-26</td>\n",
       "      <td>09h22</td>\n",
       "      <td>UNITE DE DISTRIBUTION</td>\n",
       "    </tr>\n",
       "  </tbody>\n",
       "</table>\n",
       "</div>"
      ],
      "text/plain": [
       "  referenceprel inseecommune nomcommune   cdreseau    dateprel heureprel  \\\n",
       "0   02900256761        29042     CROZON  029000914  2024-11-26     09h22   \n",
       "\n",
       "     nomtypeinstallation  \n",
       "0  UNITE DE DISTRIBUTION  "
      ]
     },
     "execution_count": 63,
     "metadata": {},
     "output_type": "execute_result"
    }
   ],
   "source": [
    "comp4"
   ]
  }
 ],
 "metadata": {
  "kernelspec": {
   "display_name": ".venv",
   "language": "python",
   "name": "python3"
  },
  "language_info": {
   "codemirror_mode": {
    "name": "ipython",
    "version": 3
   },
   "file_extension": ".py",
   "mimetype": "text/x-python",
   "name": "python",
   "nbconvert_exporter": "python",
   "pygments_lexer": "ipython3",
   "version": "3.12.9"
  }
 },
 "nbformat": 4,
 "nbformat_minor": 2
}
