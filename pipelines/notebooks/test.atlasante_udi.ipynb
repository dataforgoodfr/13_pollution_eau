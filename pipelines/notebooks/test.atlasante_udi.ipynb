{
 "cells": [
  {
   "cell_type": "code",
   "execution_count": null,
   "metadata": {},
   "outputs": [
    {
     "data": {
      "application/vnd.jupyter.widget-view+json": {
       "model_id": "d505db1985f444d193f9ebd0a46d3260",
       "version_major": 2,
       "version_minor": 0
      },
      "text/plain": [
       "FloatProgress(value=0.0, layout=Layout(width='auto'), style=ProgressStyle(bar_color='black'))"
      ]
     },
     "metadata": {},
     "output_type": "display_data"
    }
   ],
   "source": [
    "import duckdb\n",
    "from pipelines.tasks.config.common import DUCKDB_FILE\n",
    "\n",
    "\n",
    "con = duckdb.connect(database=DUCKDB_FILE, read_only=True)\n",
    "# con.sql(\"Show Tables;\").show()\n",
    "\n",
    "# df = con.sql(\"DESCRIBE atlasante_udi;\").df()\n",
    "df = con.sql(\"Select * from edc_resultats\").df()\n",
    "df.head()\n"
   ]
  },
  {
   "cell_type": "code",
   "execution_count": null,
   "metadata": {},
   "outputs": [],
   "source": [
    "# install spatial extention\n",
    "con.sql(\"INSTALL spatial;\")\n",
    "# Load spatial extension\n",
    "con.sql(\"LOAD spatial;\")"
   ]
  },
  {
   "cell_type": "code",
   "execution_count": null,
   "metadata": {},
   "outputs": [
    {
     "data": {
      "text/html": [
       "<div>\n",
       "<style scoped>\n",
       "    .dataframe tbody tr th:only-of-type {\n",
       "        vertical-align: middle;\n",
       "    }\n",
       "\n",
       "    .dataframe tbody tr th {\n",
       "        vertical-align: top;\n",
       "    }\n",
       "\n",
       "    .dataframe thead th {\n",
       "        text-align: right;\n",
       "    }\n",
       "</style>\n",
       "<table border=\"1\" class=\"dataframe\">\n",
       "  <thead>\n",
       "    <tr style=\"text-align: right;\">\n",
       "      <th></th>\n",
       "      <th>gid</th>\n",
       "      <th>code_udi</th>\n",
       "      <th>code_ins</th>\n",
       "      <th>ins_nom</th>\n",
       "      <th>ins_etat</th>\n",
       "      <th>udi_pop</th>\n",
       "      <th>uge_code</th>\n",
       "      <th>uge_nom</th>\n",
       "      <th>uge_exp_cn</th>\n",
       "      <th>uge_exp_nom</th>\n",
       "      <th>uge_mo_cn</th>\n",
       "      <th>uge_mo_nom</th>\n",
       "      <th>geom</th>\n",
       "    </tr>\n",
       "  </thead>\n",
       "  <tbody>\n",
       "    <tr>\n",
       "      <th>0</th>\n",
       "      <td>1555</td>\n",
       "      <td>075000221</td>\n",
       "      <td>075000221</td>\n",
       "      <td>CENTRE</td>\n",
       "      <td>ACT</td>\n",
       "      <td></td>\n",
       "      <td>0750001</td>\n",
       "      <td>EAU DE PARIS</td>\n",
       "      <td>07500034</td>\n",
       "      <td>EAU DE PARIS</td>\n",
       "      <td>07500034</td>\n",
       "      <td>EAU DE PARIS</td>\n",
       "      <td>[5, 4, 0, 0, 0, 0, 0, 0, 172, 97, 17, 64, 237,...</td>\n",
       "    </tr>\n",
       "    <tr>\n",
       "      <th>1</th>\n",
       "      <td>2486</td>\n",
       "      <td>075000227</td>\n",
       "      <td>075000227</td>\n",
       "      <td>EST</td>\n",
       "      <td>ACT</td>\n",
       "      <td></td>\n",
       "      <td>0750001</td>\n",
       "      <td>EAU DE PARIS</td>\n",
       "      <td>07500034</td>\n",
       "      <td>EAU DE PARIS</td>\n",
       "      <td>07500034</td>\n",
       "      <td>EAU DE PARIS</td>\n",
       "      <td>[5, 4, 0, 0, 0, 0, 0, 0, 131, 3, 22, 64, 150, ...</td>\n",
       "    </tr>\n",
       "    <tr>\n",
       "      <th>2</th>\n",
       "      <td>9623</td>\n",
       "      <td>075000225</td>\n",
       "      <td>075000225</td>\n",
       "      <td>SUD OUEST</td>\n",
       "      <td>ACT</td>\n",
       "      <td></td>\n",
       "      <td>0750001</td>\n",
       "      <td>EAU DE PARIS</td>\n",
       "      <td>07500034</td>\n",
       "      <td>EAU DE PARIS</td>\n",
       "      <td>07500034</td>\n",
       "      <td>EAU DE PARIS</td>\n",
       "      <td>[5, 4, 0, 0, 0, 0, 0, 0, 155, 89, 14, 64, 66, ...</td>\n",
       "    </tr>\n",
       "    <tr>\n",
       "      <th>3</th>\n",
       "      <td>11249</td>\n",
       "      <td>075000222</td>\n",
       "      <td>075000222</td>\n",
       "      <td>NORD OUEST</td>\n",
       "      <td>ACT</td>\n",
       "      <td></td>\n",
       "      <td>0750001</td>\n",
       "      <td>EAU DE PARIS</td>\n",
       "      <td>07500034</td>\n",
       "      <td>EAU DE PARIS</td>\n",
       "      <td>07500034</td>\n",
       "      <td>EAU DE PARIS</td>\n",
       "      <td>[5, 4, 0, 0, 0, 0, 0, 0, 202, 109, 17, 64, 25,...</td>\n",
       "    </tr>\n",
       "  </tbody>\n",
       "</table>\n",
       "</div>"
      ],
      "text/plain": [
       "     gid   code_udi   code_ins     ins_nom ins_etat udi_pop uge_code  \\\n",
       "0   1555  075000221  075000221      CENTRE      ACT          0750001   \n",
       "1   2486  075000227  075000227         EST      ACT          0750001   \n",
       "2   9623  075000225  075000225   SUD OUEST      ACT          0750001   \n",
       "3  11249  075000222  075000222  NORD OUEST      ACT          0750001   \n",
       "\n",
       "        uge_nom uge_exp_cn   uge_exp_nom uge_mo_cn    uge_mo_nom  \\\n",
       "0  EAU DE PARIS   07500034  EAU DE PARIS  07500034  EAU DE PARIS   \n",
       "1  EAU DE PARIS   07500034  EAU DE PARIS  07500034  EAU DE PARIS   \n",
       "2  EAU DE PARIS   07500034  EAU DE PARIS  07500034  EAU DE PARIS   \n",
       "3  EAU DE PARIS   07500034  EAU DE PARIS  07500034  EAU DE PARIS   \n",
       "\n",
       "                                                geom  \n",
       "0  [5, 4, 0, 0, 0, 0, 0, 0, 172, 97, 17, 64, 237,...  \n",
       "1  [5, 4, 0, 0, 0, 0, 0, 0, 131, 3, 22, 64, 150, ...  \n",
       "2  [5, 4, 0, 0, 0, 0, 0, 0, 155, 89, 14, 64, 66, ...  \n",
       "3  [5, 4, 0, 0, 0, 0, 0, 0, 202, 109, 17, 64, 25,...  "
      ]
     },
     "execution_count": 21,
     "metadata": {},
     "output_type": "execute_result"
    }
   ],
   "source": [
    "df = con.sql(\"Select * from atlasante_udi where uge_nom like '%EAU DE PARIS%'\").df()\n",
    "# df.head(1).to_csv(\"test_maison.csv\")\n",
    "df.head()"
   ]
  },
  {
   "cell_type": "code",
   "execution_count": null,
   "metadata": {},
   "outputs": [
    {
     "data": {
      "text/html": [
       "<div>\n",
       "<style scoped>\n",
       "    .dataframe tbody tr th:only-of-type {\n",
       "        vertical-align: middle;\n",
       "    }\n",
       "\n",
       "    .dataframe tbody tr th {\n",
       "        vertical-align: top;\n",
       "    }\n",
       "\n",
       "    .dataframe thead th {\n",
       "        text-align: right;\n",
       "    }\n",
       "</style>\n",
       "<table border=\"1\" class=\"dataframe\">\n",
       "  <thead>\n",
       "    <tr style=\"text-align: right;\">\n",
       "      <th></th>\n",
       "      <th>gid</th>\n",
       "      <th>code_udi</th>\n",
       "      <th>code_ins</th>\n",
       "      <th>ins_nom</th>\n",
       "      <th>ins_etat</th>\n",
       "      <th>udi_pop</th>\n",
       "      <th>uge_code</th>\n",
       "      <th>uge_nom</th>\n",
       "      <th>uge_exp_cn</th>\n",
       "      <th>uge_exp_nom</th>\n",
       "      <th>uge_mo_cn</th>\n",
       "      <th>uge_mo_nom</th>\n",
       "      <th>geom</th>\n",
       "    </tr>\n",
       "  </thead>\n",
       "  <tbody>\n",
       "    <tr>\n",
       "      <th>0</th>\n",
       "      <td>1555</td>\n",
       "      <td>075000221</td>\n",
       "      <td>075000221</td>\n",
       "      <td>CENTRE</td>\n",
       "      <td>ACT</td>\n",
       "      <td></td>\n",
       "      <td>0750001</td>\n",
       "      <td>EAU DE PARIS</td>\n",
       "      <td>07500034</td>\n",
       "      <td>EAU DE PARIS</td>\n",
       "      <td>07500034</td>\n",
       "      <td>EAU DE PARIS</td>\n",
       "      <td>[5, 4, 0, 0, 0, 0, 0, 0, 172, 97, 17, 64, 237,...</td>\n",
       "    </tr>\n",
       "  </tbody>\n",
       "</table>\n",
       "</div>"
      ],
      "text/plain": [
       "    gid   code_udi   code_ins ins_nom ins_etat udi_pop uge_code       uge_nom  \\\n",
       "0  1555  075000221  075000221  CENTRE      ACT          0750001  EAU DE PARIS   \n",
       "\n",
       "  uge_exp_cn   uge_exp_nom uge_mo_cn    uge_mo_nom  \\\n",
       "0   07500034  EAU DE PARIS  07500034  EAU DE PARIS   \n",
       "\n",
       "                                                geom  \n",
       "0  [5, 4, 0, 0, 0, 0, 0, 0, 172, 97, 17, 64, 237,...  "
      ]
     },
     "execution_count": 20,
     "metadata": {},
     "output_type": "execute_result"
    }
   ],
   "source": [
    "# Paris North (Nord - near Saint-Denis):\n",
    "# latitudeN = 48.9358\n",
    "# longitudeN = 2.3538\n",
    "# Paris South\n",
    "# latitudeS = 48.8186\n",
    "# longitudeS = 2.3326\n",
    "# Paris West (Ouest - near Porte Maillot/Neuilly):\n",
    "# latitudeW = 48.8781\n",
    "# longitudeW = 2.2785\n",
    "# Central Paris (Centre - Notre-Dame):\n",
    "latitude = 48.8566\n",
    "longitude = 2.3522\n",
    "\n",
    "sql = f\"\"\"\n",
    "SELECT *\n",
    "FROM atlasante_udi\n",
    "WHERE ST_Contains(geom, ST_GeomFromText('POINT({longitude} {latitude})'));\n",
    "\"\"\"\n",
    "df = con.sql(sql).df()\n",
    "df.head()"
   ]
  },
  {
   "cell_type": "code",
   "execution_count": 15,
   "metadata": {},
   "outputs": [],
   "source": [
    "con.close()"
   ]
  },
  {
   "cell_type": "code",
   "execution_count": null,
   "metadata": {},
   "outputs": [],
   "source": []
  }
 ],
 "metadata": {
  "kernelspec": {
   "display_name": ".venv",
   "language": "python",
   "name": "python3"
  },
  "language_info": {
   "codemirror_mode": {
    "name": "ipython",
    "version": 3
   },
   "file_extension": ".py",
   "mimetype": "text/x-python",
   "name": "python",
   "nbconvert_exporter": "python",
   "pygments_lexer": "ipython3",
   "version": "3.12.8"
  }
 },
 "nbformat": 4,
 "nbformat_minor": 2
}
