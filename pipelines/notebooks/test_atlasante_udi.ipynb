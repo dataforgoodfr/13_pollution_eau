{
 "cells": [
  {
   "cell_type": "code",
   "execution_count": null,
   "metadata": {},
   "outputs": [],
   "source": [
    "import duckdb\n",
    "from pipelines.tasks.config.common import DUCKDB_FILE\n",
    "\n",
    "con = duckdb.connect(database=DUCKDB_FILE, read_only=True)\n",
    "# show all tables in DB\n",
    "con.sql(\"SHOW TABLES;\").show()"
   ]
  },
  {
   "cell_type": "code",
   "execution_count": null,
   "metadata": {},
   "outputs": [],
   "source": [
    "# describe atlasante_udi table\n",
    "df = con.sql(\"DESCRIBE atlasante_udi;\").df()\n",
    "print(df)"
   ]
  },
  {
   "cell_type": "code",
   "execution_count": null,
   "metadata": {},
   "outputs": [],
   "source": [
    "# install spatial extention for spactial functions\n",
    "con.sql(\"INSTALL spatial;\")\n",
    "# Load spatial extension\n",
    "con.sql(\"LOAD spatial;\")"
   ]
  },
  {
   "cell_type": "code",
   "execution_count": null,
   "metadata": {},
   "outputs": [],
   "source": [
    "# show same paris's UDI\n",
    "df = con.sql(\"Select * from atlasante_udi where uge_nom like '%EAU DE PARIS%'\").df()\n",
    "df.head()"
   ]
  },
  {
   "cell_type": "code",
   "execution_count": null,
   "metadata": {},
   "outputs": [],
   "source": [
    "# Paris North (Nord - near Saint-Denis):\n",
    "# latitudeN = 48.9358\n",
    "# longitudeN = 2.3538\n",
    "# Paris South\n",
    "# latitudeS = 48.8186\n",
    "# longitudeS = 2.3326\n",
    "# Paris West (Ouest - near Porte Maillot/Neuilly):\n",
    "# latitudeW = 48.8781\n",
    "# longitudeW = 2.2785\n",
    "# Central Paris (Centre - Notre-Dame):\n",
    "latitude = 48.8566\n",
    "longitude = 2.3522\n",
    "\n",
    "sql = f\"\"\"\n",
    "SELECT *\n",
    "FROM atlasante_udi\n",
    "WHERE ST_Contains(geom, ST_GeomFromText('POINT({longitude} {latitude})'));\n",
    "\"\"\"\n",
    "df = con.sql(sql).df()\n",
    "df.head()"
   ]
  },
  {
   "cell_type": "code",
   "execution_count": null,
   "metadata": {},
   "outputs": [],
   "source": [
    "con.close()"
   ]
  },
  {
   "cell_type": "code",
   "execution_count": null,
   "metadata": {},
   "outputs": [],
   "source": []
  }
 ],
 "metadata": {
  "kernelspec": {
   "display_name": ".venv",
   "language": "python",
   "name": "python3"
  },
  "language_info": {
   "codemirror_mode": {
    "name": "ipython",
    "version": 3
   },
   "file_extension": ".py",
   "mimetype": "text/x-python",
   "name": "python",
   "nbconvert_exporter": "python",
   "pygments_lexer": "ipython3",
   "version": "3.12.7"
  }
 },
 "nbformat": 4,
 "nbformat_minor": 2
}
