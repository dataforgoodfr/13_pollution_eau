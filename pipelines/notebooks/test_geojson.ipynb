{
 "cells": [
  {
   "cell_type": "code",
   "execution_count": 81,
   "metadata": {},
   "outputs": [],
   "source": [
    "import duckdb\n",
    "from pipelines.tasks.config.common import DUCKDB_FILE\n",
    "from pipelines.tasks.client.https_client import HTTPSClient\n",
    "from pipelines.tasks.config.common import CACHE_FOLDER\n",
    "import json\n",
    "import os\n",
    "import pandas as pd\n",
    "from tqdm import tqdm"
   ]
  },
  {
   "cell_type": "code",
   "execution_count": null,
   "metadata": {},
   "outputs": [],
   "source": [
    "https_client = HTTPSClient(\n",
    "    \"https://public.opendatasoft.com/api/explore/v2.1/catalog/datasets/georef-france-commune/exports/\"\n",
    ")"
   ]
  },
  {
   "cell_type": "code",
   "execution_count": 84,
   "metadata": {},
   "outputs": [
    {
     "name": "stderr",
     "output_type": "stream",
     "text": [
      "Processing file georef-france-commune.geojson: |                                         | 285M/0.00\n"
     ]
    },
    {
     "data": {
      "text/plain": [
       "'georef-france-commune.geojson'"
      ]
     },
     "execution_count": 84,
     "metadata": {},
     "output_type": "execute_result"
    }
   ],
   "source": [
    "path = \"geojson?lang=fr&timezone=Africa%2FLagos\"\n",
    "filepath = os.path.join(CACHE_FOLDER, \"georef-france-commune.geojson\")\n",
    "https_client.download_file_from_https(path, filepath)"
   ]
  },
  {
   "cell_type": "code",
   "execution_count": 85,
   "metadata": {},
   "outputs": [],
   "source": [
    "con = duckdb.connect(database=DUCKDB_FILE, read_only=True)"
   ]
  },
  {
   "cell_type": "code",
   "execution_count": 86,
   "metadata": {},
   "outputs": [
    {
     "data": {
      "text/html": [
       "<div>\n",
       "<style scoped>\n",
       "    .dataframe tbody tr th:only-of-type {\n",
       "        vertical-align: middle;\n",
       "    }\n",
       "\n",
       "    .dataframe tbody tr th {\n",
       "        vertical-align: top;\n",
       "    }\n",
       "\n",
       "    .dataframe thead th {\n",
       "        text-align: right;\n",
       "    }\n",
       "</style>\n",
       "<table border=\"1\" class=\"dataframe\">\n",
       "  <thead>\n",
       "    <tr style=\"text-align: right;\">\n",
       "      <th></th>\n",
       "      <th>commune_code_insee</th>\n",
       "      <th>commune_nom</th>\n",
       "      <th>annee</th>\n",
       "      <th>resultat_cvm</th>\n",
       "    </tr>\n",
       "  </thead>\n",
       "  <tbody>\n",
       "    <tr>\n",
       "      <th>0</th>\n",
       "      <td>01001</td>\n",
       "      <td>L'Abergement-Clémenciat</td>\n",
       "      <td>2020</td>\n",
       "      <td>conforme</td>\n",
       "    </tr>\n",
       "    <tr>\n",
       "      <th>1</th>\n",
       "      <td>01002</td>\n",
       "      <td>L'Abergement-de-Varey</td>\n",
       "      <td>2020</td>\n",
       "      <td>non analysé</td>\n",
       "    </tr>\n",
       "  </tbody>\n",
       "</table>\n",
       "</div>"
      ],
      "text/plain": [
       "  commune_code_insee              commune_nom  annee resultat_cvm\n",
       "0              01001  L'Abergement-Clémenciat   2020     conforme\n",
       "1              01002    L'Abergement-de-Varey   2020  non analysé"
      ]
     },
     "execution_count": 86,
     "metadata": {},
     "output_type": "execute_result"
    }
   ],
   "source": [
    "query_2024 = \"\"\"\n",
    "select * from ana__resultats_communes\n",
    "\"\"\"\n",
    "\n",
    "prelevements_2024 = con.sql(query_2024)\n",
    "prelevements_2024_df = prelevements_2024.df()\n",
    "prelevements_2024_df.head(2)"
   ]
  },
  {
   "cell_type": "code",
   "execution_count": 87,
   "metadata": {},
   "outputs": [],
   "source": [
    "with open(\n",
    "    os.path.join(CACHE_FOLDER, \"georef-france-commune.geojson\"), \"r\", encoding=\"utf-8\"\n",
    ") as file:\n",
    "    data_geo = json.load(file)"
   ]
  },
  {
   "cell_type": "code",
   "execution_count": null,
   "metadata": {},
   "outputs": [
    {
     "name": "stderr",
     "output_type": "stream",
     "text": [
      "100%|██████████| 1000/1000 [00:06<00:00, 157.67it/s]\n"
     ]
    }
   ],
   "source": [
    "data_geo_features = data_geo[\"features\"][0:1000]\n",
    "for i in tqdm(range(len(data_geo_features))):\n",
    "    elem = data_geo_features[i]\n",
    "    code_insee = elem[\"properties\"][\"bv2022_code\"]\n",
    "    if code_insee is not None:\n",
    "        code_insee = code_insee[0]\n",
    "        prelevement = prelevements_2024_df[\n",
    "            (prelevements_2024_df.commune_code_insee == code_insee)\n",
    "            & (prelevements_2024_df.annee == 2024)\n",
    "        ]\n",
    "        if len(prelevement) == 1:\n",
    "            for column in prelevement:\n",
    "                elem[column] = str(prelevement[column].iloc[0])"
   ]
  },
  {
   "cell_type": "code",
   "execution_count": 89,
   "metadata": {},
   "outputs": [],
   "source": [
    "new_geo_json = {\"type\": \"FeatureCollection\"}\n",
    "new_geo_json[\"features\"] = data_geo_features"
   ]
  },
  {
   "cell_type": "code",
   "execution_count": 90,
   "metadata": {},
   "outputs": [],
   "source": [
    "# Write the dictionary to a GeoJSON file\n",
    "with open(\n",
    "    os.path.join(CACHE_FOLDER, \"georef-france-commune-prelevement.geojson\"),\n",
    "    \"w\",\n",
    "    encoding=\"utf-8\",\n",
    ") as file:\n",
    "    json.dump(new_geo_json, file, indent=4)"
   ]
  },
  {
   "cell_type": "markdown",
   "metadata": {},
   "source": []
  },
  {
   "cell_type": "markdown",
   "metadata": {},
   "source": [
    "# Tests\n"
   ]
  },
  {
   "cell_type": "code",
   "execution_count": null,
   "metadata": {},
   "outputs": [],
   "source": [
    "df_geo = pd.DataFrame(data_geo[\"features\"])\n",
    "df_geo_flatten = df_geo.join(pd.json_normalize(df_geo[\"properties\"]))\n",
    "df_geo_flatten.bv2022_code.map(lambda x: len(x) if x is not None else 0).value_counts()"
   ]
  },
  {
   "cell_type": "markdown",
   "metadata": {},
   "source": [
    "df_geo = pd.DataFrame(data_geo[\"features\"])\n",
    "df_geo_flatten = df_geo.join(pd.json_normalize(df_geo[\"properties\"]))\n",
    "df_geo_flatten.bv2022_code.map(lambda x: len(x) if x is not None else 0).value_counts()\n"
   ]
  }
 ],
 "metadata": {
  "kernelspec": {
   "display_name": ".venv",
   "language": "python",
   "name": "python3"
  },
  "language_info": {
   "codemirror_mode": {
    "name": "ipython",
    "version": 3
   },
   "file_extension": ".py",
   "mimetype": "text/x-python",
   "name": "python",
   "nbconvert_exporter": "python",
   "pygments_lexer": "ipython3",
   "version": "3.12.7"
  }
 },
 "nbformat": 4,
 "nbformat_minor": 2
}
