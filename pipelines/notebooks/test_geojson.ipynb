{
 "cells": [
  {
   "cell_type": "code",
   "execution_count": 1,
   "metadata": {},
   "outputs": [],
   "source": [
    "import duckdb\n",
    "from pipelines.tasks.config.common import DUCKDB_FILE\n",
    "from pipelines.tasks.client.https_client import HTTPSClient\n",
    "from pipelines.tasks.config.common import CACHE_FOLDER\n",
    "import json\n",
    "import os\n",
    "from tqdm import tqdm\n",
    "import pandas as pd\n",
    "import geopandas as gpd"
   ]
  },
  {
   "cell_type": "code",
   "execution_count": 9,
   "metadata": {},
   "outputs": [],
   "source": [
    "# la donnée geo est telechargé depuis https://public.opendatasoft.com/explore/dataset/georef-france-commune/information\n",
    "https_client = HTTPSClient(\n",
    "    \"https://public.opendatasoft.com/api/explore/v2.1/catalog/datasets/\"\n",
    ")"
   ]
  },
  {
   "cell_type": "code",
   "execution_count": 22,
   "metadata": {},
   "outputs": [
    {
     "name": "stderr",
     "output_type": "stream",
     "text": [
      "Processing file georef-france-commune.geojson: |                                         | 285M/0.00\n"
     ]
    },
    {
     "data": {
      "text/plain": [
       "'georef-france-commune.geojson'"
      ]
     },
     "execution_count": 22,
     "metadata": {},
     "output_type": "execute_result"
    }
   ],
   "source": [
    "path = \"georef-france-commune/exports/geojson?lang=fr&timezone=Africa%2FLagos\"\n",
    "filepath = os.path.join(CACHE_FOLDER, \"georef-france-commune.geojson\")\n",
    "https_client.download_file_from_https(path, filepath)"
   ]
  },
  {
   "cell_type": "code",
   "execution_count": 2,
   "metadata": {},
   "outputs": [],
   "source": [
    "con = duckdb.connect(database=DUCKDB_FILE, read_only=True)"
   ]
  },
  {
   "cell_type": "code",
   "execution_count": 3,
   "metadata": {},
   "outputs": [
    {
     "data": {
      "text/html": [
       "<div>\n",
       "<style scoped>\n",
       "    .dataframe tbody tr th:only-of-type {\n",
       "        vertical-align: middle;\n",
       "    }\n",
       "\n",
       "    .dataframe tbody tr th {\n",
       "        vertical-align: top;\n",
       "    }\n",
       "\n",
       "    .dataframe thead th {\n",
       "        text-align: right;\n",
       "    }\n",
       "</style>\n",
       "<table border=\"1\" class=\"dataframe\">\n",
       "  <thead>\n",
       "    <tr style=\"text-align: right;\">\n",
       "      <th></th>\n",
       "      <th>name</th>\n",
       "    </tr>\n",
       "  </thead>\n",
       "  <tbody>\n",
       "    <tr>\n",
       "      <th>0</th>\n",
       "      <td>ana__resultats_communes</td>\n",
       "    </tr>\n",
       "    <tr>\n",
       "      <th>1</th>\n",
       "      <td>cog_communes</td>\n",
       "    </tr>\n",
       "    <tr>\n",
       "      <th>2</th>\n",
       "      <td>edc_communes</td>\n",
       "    </tr>\n",
       "    <tr>\n",
       "      <th>3</th>\n",
       "      <td>edc_prelevements</td>\n",
       "    </tr>\n",
       "    <tr>\n",
       "      <th>4</th>\n",
       "      <td>edc_resultats</td>\n",
       "    </tr>\n",
       "    <tr>\n",
       "      <th>5</th>\n",
       "      <td>laposte_communes</td>\n",
       "    </tr>\n",
       "    <tr>\n",
       "      <th>6</th>\n",
       "      <td>mapping_categories</td>\n",
       "    </tr>\n",
       "    <tr>\n",
       "      <th>7</th>\n",
       "      <td>stg_communes__cog</td>\n",
       "    </tr>\n",
       "    <tr>\n",
       "      <th>8</th>\n",
       "      <td>stg_communes__laposte</td>\n",
       "    </tr>\n",
       "    <tr>\n",
       "      <th>9</th>\n",
       "      <td>stg_edc__communes</td>\n",
       "    </tr>\n",
       "    <tr>\n",
       "      <th>10</th>\n",
       "      <td>stg_edc__prevelevements</td>\n",
       "    </tr>\n",
       "    <tr>\n",
       "      <th>11</th>\n",
       "      <td>stg_edc__resultats</td>\n",
       "    </tr>\n",
       "  </tbody>\n",
       "</table>\n",
       "</div>"
      ],
      "text/plain": [
       "                       name\n",
       "0   ana__resultats_communes\n",
       "1              cog_communes\n",
       "2              edc_communes\n",
       "3          edc_prelevements\n",
       "4             edc_resultats\n",
       "5          laposte_communes\n",
       "6        mapping_categories\n",
       "7         stg_communes__cog\n",
       "8     stg_communes__laposte\n",
       "9         stg_edc__communes\n",
       "10  stg_edc__prevelevements\n",
       "11       stg_edc__resultats"
      ]
     },
     "execution_count": 3,
     "metadata": {},
     "output_type": "execute_result"
    }
   ],
   "source": [
    "# Show all tables in the database\n",
    "query = \"\"\"\n",
    "SHOW TABLES;\n",
    "\"\"\"\n",
    "\n",
    "tables = con.sql(query)\n",
    "tables_df = tables.df()\n",
    "tables_df"
   ]
  },
  {
   "cell_type": "code",
   "execution_count": 5,
   "metadata": {},
   "outputs": [
    {
     "data": {
      "text/html": [
       "<div>\n",
       "<style scoped>\n",
       "    .dataframe tbody tr th:only-of-type {\n",
       "        vertical-align: middle;\n",
       "    }\n",
       "\n",
       "    .dataframe tbody tr th {\n",
       "        vertical-align: top;\n",
       "    }\n",
       "\n",
       "    .dataframe thead th {\n",
       "        text-align: right;\n",
       "    }\n",
       "</style>\n",
       "<table border=\"1\" class=\"dataframe\">\n",
       "  <thead>\n",
       "    <tr style=\"text-align: right;\">\n",
       "      <th></th>\n",
       "      <th>commune_code_insee</th>\n",
       "      <th>commune_nom</th>\n",
       "      <th>annee</th>\n",
       "      <th>resultat_cvm</th>\n",
       "    </tr>\n",
       "  </thead>\n",
       "  <tbody>\n",
       "    <tr>\n",
       "      <th>0</th>\n",
       "      <td>01001</td>\n",
       "      <td>L'Abergement-Clémenciat</td>\n",
       "      <td>2020</td>\n",
       "      <td>conforme</td>\n",
       "    </tr>\n",
       "    <tr>\n",
       "      <th>1</th>\n",
       "      <td>01002</td>\n",
       "      <td>L'Abergement-de-Varey</td>\n",
       "      <td>2020</td>\n",
       "      <td>non analysé</td>\n",
       "    </tr>\n",
       "    <tr>\n",
       "      <th>2</th>\n",
       "      <td>01004</td>\n",
       "      <td>Ambérieu-en-Bugey</td>\n",
       "      <td>2020</td>\n",
       "      <td>conforme</td>\n",
       "    </tr>\n",
       "    <tr>\n",
       "      <th>3</th>\n",
       "      <td>01005</td>\n",
       "      <td>Ambérieux-en-Dombes</td>\n",
       "      <td>2020</td>\n",
       "      <td>conforme</td>\n",
       "    </tr>\n",
       "    <tr>\n",
       "      <th>4</th>\n",
       "      <td>01006</td>\n",
       "      <td>Ambléon</td>\n",
       "      <td>2020</td>\n",
       "      <td>non analysé</td>\n",
       "    </tr>\n",
       "    <tr>\n",
       "      <th>5</th>\n",
       "      <td>01007</td>\n",
       "      <td>Ambronay</td>\n",
       "      <td>2020</td>\n",
       "      <td>conforme</td>\n",
       "    </tr>\n",
       "    <tr>\n",
       "      <th>6</th>\n",
       "      <td>01008</td>\n",
       "      <td>Ambutrix</td>\n",
       "      <td>2020</td>\n",
       "      <td>conforme</td>\n",
       "    </tr>\n",
       "    <tr>\n",
       "      <th>7</th>\n",
       "      <td>01009</td>\n",
       "      <td>Andert-et-Condon</td>\n",
       "      <td>2020</td>\n",
       "      <td>conforme</td>\n",
       "    </tr>\n",
       "    <tr>\n",
       "      <th>8</th>\n",
       "      <td>01010</td>\n",
       "      <td>Anglefort</td>\n",
       "      <td>2020</td>\n",
       "      <td>conforme</td>\n",
       "    </tr>\n",
       "    <tr>\n",
       "      <th>9</th>\n",
       "      <td>01011</td>\n",
       "      <td>Apremont</td>\n",
       "      <td>2020</td>\n",
       "      <td>conforme</td>\n",
       "    </tr>\n",
       "  </tbody>\n",
       "</table>\n",
       "</div>"
      ],
      "text/plain": [
       "  commune_code_insee              commune_nom  annee resultat_cvm\n",
       "0              01001  L'Abergement-Clémenciat   2020     conforme\n",
       "1              01002    L'Abergement-de-Varey   2020  non analysé\n",
       "2              01004        Ambérieu-en-Bugey   2020     conforme\n",
       "3              01005      Ambérieux-en-Dombes   2020     conforme\n",
       "4              01006                  Ambléon   2020  non analysé\n",
       "5              01007                 Ambronay   2020     conforme\n",
       "6              01008                 Ambutrix   2020     conforme\n",
       "7              01009         Andert-et-Condon   2020     conforme\n",
       "8              01010                Anglefort   2020     conforme\n",
       "9              01011                 Apremont   2020     conforme"
      ]
     },
     "execution_count": 5,
     "metadata": {},
     "output_type": "execute_result"
    }
   ],
   "source": [
    "query_2024 = \"\"\"\n",
    "select * from ana__resultats_communes\n",
    "\"\"\"\n",
    "\n",
    "prelevements_2024 = con.sql(query_2024)\n",
    "prelevements_2024_df = prelevements_2024.df()\n",
    "prelevements_2024_df.head(10)"
   ]
  },
  {
   "cell_type": "code",
   "execution_count": 13,
   "metadata": {},
   "outputs": [
    {
     "name": "stdout",
     "output_type": "stream",
     "text": [
      "Top-level GeoJSON structure:\n",
      "----------------------------------------\n",
      "- type: FeatureCollection\n",
      "- features: Array with 34948 features\n"
     ]
    }
   ],
   "source": [
    "with open(os.path.join(CACHE_FOLDER, \"georef-france-commune.geojson\"), \"r\") as file:\n",
    "    data_geo = json.load(file)\n",
    "    print(\"Top-level GeoJSON structure:\")\n",
    "    print(\"-\" * 40)\n",
    "    for key, value in data_geo.items():\n",
    "        if key == \"features\":\n",
    "            print(f\"- {key}: Array with {len(value)} features\")\n",
    "        elif key == \"crs\":\n",
    "            print(f\"- {key}:\")\n",
    "            print(json.dumps(value, indent=2))\n",
    "        else:\n",
    "            print(f\"- {key}: {value}\")"
   ]
  },
  {
   "cell_type": "code",
   "execution_count": null,
   "metadata": {},
   "outputs": [],
   "source": [
    "def parse_geojson_structure(data, level=0, max_items=1):\n",
    "    \"\"\"\n",
    "    Recursively parse GeoJSON structure and print key-value pairs\n",
    "    Args:\n",
    "        data: dictionary or value to parse\n",
    "        level: current indentation level\n",
    "        max_items: maximum number of items to show for lists\n",
    "    \"\"\"\n",
    "    indent = \"  \" * level\n",
    "\n",
    "    if isinstance(data, dict):\n",
    "        for key, value in data.items():\n",
    "            if isinstance(value, (dict, list)):\n",
    "                print(f\"{indent}- {key}:\")\n",
    "                parse_geojson_structure(value, level + 1, max_items)\n",
    "            else:\n",
    "                print(f\"{indent}- {key}: {value}\")\n",
    "\n",
    "    elif isinstance(data, list):\n",
    "        print(f\"{indent}List with {len(data)} items\")\n",
    "        if data and max_items > 0:\n",
    "            print(f\"{indent}First item:\")\n",
    "            parse_geojson_structure(data[0], level + 1, max_items)\n",
    "\n",
    "\n",
    "# Read and parse the GeoJSON\n",
    "with open(os.path.join(CACHE_FOLDER, \"georef-france-commune.geojson\"), \"r\") as file:\n",
    "    data_geo = json.load(file)\n",
    "    print(\"GeoJSON Structure:\")\n",
    "    print(\"-\" * 40)\n",
    "    parse_geojson_structure(data_geo)"
   ]
  },
  {
   "cell_type": "code",
   "execution_count": null,
   "metadata": {},
   "outputs": [],
   "source": [
    "with open(os.path.join(CACHE_FOLDER, \"georef-france-commune.geojson\"), \"r\") as file:\n",
    "    data_geo = json.load(file)\n",
    "    # Read the GeoJSON file\n",
    "    # gdf = gpd.read_file(os.path.join(CACHE_FOLDER, \"georef-france-commune.geojson\"))\n",
    "\n",
    "    gdf = gpd.read_file(\n",
    "        os.path.join(CACHE_FOLDER, \"georef-france-commune.geojson\"),\n",
    "        dtype={\n",
    "            \"reg_code\": str,\n",
    "            \"reg_name\": str,\n",
    "            \"dep_code\": str,\n",
    "            \"dep_name\": str,\n",
    "            \"arrdep_code\": str,\n",
    "            \"arrdep_name\": str,\n",
    "            \"ze2020_code\": str,\n",
    "            \"ze2020_name\": str,\n",
    "            \"bv2022_code\": str,\n",
    "            \"bv2022_name\": str,\n",
    "            \"epci_code\": str,\n",
    "            \"epci_name\": str,\n",
    "            \"ept_code\": str,\n",
    "            \"ept_name\": str,\n",
    "            \"com_code\": str,\n",
    "            \"com_current_code\": str,\n",
    "            \"com_name\": str,\n",
    "        },\n",
    "    )\n",
    "\n",
    "    # Print basic information about the GeoJSON\n",
    "    # print(\"GeoJSON Info:\")\n",
    "    # print(\"-\" * 40)\n",
    "    # print(f\"Number of features: {len(gdf)}\")"
   ]
  },
  {
   "cell_type": "code",
   "execution_count": null,
   "metadata": {},
   "outputs": [],
   "source": [
    "# Print data types of all columns\n",
    "print(\"Column Data Types:\")\n",
    "print(\"-\" * 50)\n",
    "print(gdf.dtypes)"
   ]
  },
  {
   "cell_type": "code",
   "execution_count": null,
   "metadata": {},
   "outputs": [],
   "source": [
    "# For a more detailed view with null counts\n",
    "print(\"\\nDetailed DataFrame Info:\")\n",
    "print(\"-\" * 50)\n",
    "gdf.info()"
   ]
  },
  {
   "cell_type": "code",
   "execution_count": null,
   "metadata": {},
   "outputs": [],
   "source": [
    "# Specific information about the geometry column\n",
    "print(\"\\nGeometry Column Info:\")\n",
    "print(\"-\" * 50)\n",
    "print(f\"Geometry type: {gdf.geometry.geom_type.unique()}\")\n",
    "print(f\"CRS: {gdf.crs}\")"
   ]
  },
  {
   "cell_type": "code",
   "execution_count": 7,
   "metadata": {},
   "outputs": [],
   "source": [
    "with open(os.path.join(CACHE_FOLDER, \"georef-france-commune.geojson\"), \"r\") as file:\n",
    "    data_geo = json.load(file)"
   ]
  },
  {
   "cell_type": "code",
   "execution_count": 8,
   "metadata": {},
   "outputs": [
    {
     "name": "stderr",
     "output_type": "stream",
     "text": [
      "100%|██████████| 34948/34948 [07:22<00:00, 79.03it/s]\n"
     ]
    }
   ],
   "source": [
    "# Si la solution est validée, il faudra optimiser ce code qui est bien trop lent\n",
    "data_geo_features = data_geo[\"features\"]\n",
    "default_properties = {\"annee\": \"2024\", \"resultat_cvm\": \"None\"}\n",
    "for i in tqdm(range(len(data_geo_features))):\n",
    "    elem = data_geo_features[i]\n",
    "    code_insee = elem[\"properties\"][\"com_code\"]\n",
    "    name_insee = elem[\"properties\"][\"com_name\"]\n",
    "    if code_insee is not None:\n",
    "        code_insee = code_insee[0]\n",
    "        name_insee = name_insee[0]\n",
    "        prelevement = prelevements_2024_df[\n",
    "            (prelevements_2024_df.commune_code_insee == code_insee)\n",
    "        ]\n",
    "        if len(prelevement) >= 0:\n",
    "            properties = {}\n",
    "            properties[\"commune_code_insee\"] = code_insee\n",
    "            properties[\"commune_nom\"] = name_insee\n",
    "            for index, row in prelevement.iterrows():\n",
    "                properties[f\"resultat_cvm_{row['annee']}\"] = row[\"resultat_cvm\"]\n",
    "            elem[\"properties\"] = properties\n",
    "        else:\n",
    "            # print(\"elem not found\")\n",
    "            elem[\"properties\"] = default_properties\n",
    "            elem[\"properties\"][\"commune_code_insee\"] = code_insee\n",
    "            elem[\"properties\"][\"commune_nom\"] = name_insee"
   ]
  },
  {
   "cell_type": "code",
   "execution_count": 13,
   "metadata": {},
   "outputs": [
    {
     "name": "stdout",
     "output_type": "stream",
     "text": [
      "{'type': 'Feature', 'geometry': {'coordinates': [[[4.564662411513994, 46.99215404485082], [4.564955266861815, 46.99181417997202], [4.565918575437941, 46.99212980012692], [4.566980644093186, 46.992673703487704], [4.568302498730497, 46.99169309012356], [4.568454468451784, 46.991442481159844], [4.568754542311832, 46.99035507679979], [4.568770517378931, 46.989500266284345], [4.568605782581888, 46.98926566922282], [4.568664125299206, 46.98851024019069], [4.568387554182515, 46.987732348464064], [4.568398324766235, 46.986879409143974], [4.568674209861988, 46.98627411059924], [4.569628887000564, 46.985253443229894], [4.569470531458521, 46.985147534977976], [4.565961295179105, 46.98543115617496], [4.566736833870485, 46.984267059929216], [4.567056994428807, 46.983327970665066], [4.567800767517841, 46.98247677830239], [4.569485367211463, 46.97995042011078], [4.573887917095319, 46.972854638411654], [4.574116308745747, 46.9730172185324], [4.574964521631136, 46.97304976563674], [4.576234388550647, 46.97351059890185], [4.57626287012962, 46.97358495336542], [4.577496124879262, 46.973917498030595], [4.577705908706443, 46.9741181477872], [4.578302606140789, 46.97436753528406], [4.578294028051025, 46.97461439688905], [4.580208617122722, 46.97484933680043], [4.581967179854348, 46.975326825799286], [4.583207027651049, 46.97525308205127], [4.583894263822229, 46.97481949905628], [4.584433719948636, 46.97491024786959], [4.584710642003333, 46.97520091630157], [4.585284159747499, 46.975465895626904], [4.586882673220702, 46.97609139547859], [4.587501434984448, 46.97623867292166], [4.589312501548367, 46.976976481867446], [4.589535757917346, 46.97718593034528], [4.590132252426048, 46.977425354616145], [4.590677594014669, 46.977804162596705], [4.591369652286387, 46.9777585963372], [4.591937433523836, 46.97809476408643], [4.593616352397465, 46.978407479679], [4.594417218013796, 46.978660268166855], [4.595543909819876, 46.978673506945526], [4.596400330857649, 46.978802140895134], [4.597001060442578, 46.9787379931694], [4.597463590680753, 46.978850458897696], [4.598055464671895, 46.97866485679128], [4.598200481157446, 46.979030263897805], [4.5988296645082, 46.979660921408154], [4.599162627163507, 46.979351927149416], [4.598623876899602, 46.97893164271021], [4.598842344962188, 46.97844412988193], [4.599302701608741, 46.97843864895145], [4.599730965949389, 46.978638031581724], [4.60087006174551, 46.97835927448155], [4.601913897263762, 46.978018791683176], [4.60291333085224, 46.97729078726892], [4.60375983589205, 46.97708540719822], [4.604457088837146, 46.97655070117731], [4.604815084418988, 46.976111664787524], [4.605226663525458, 46.97504060831396], [4.608533768877098, 46.9727684195021], [4.610481461488001, 46.973051925776055], [4.612116830850773, 46.97371438735292], [4.614018231449969, 46.97412005374099], [4.614338842132865, 46.97441454462044], [4.614907337862586, 46.97459479865665], [4.615467855534402, 46.97464008143225], [4.617007033083819, 46.97454647190158], [4.618181701345141, 46.97467048233869], [4.619338899480729, 46.97513332758259], [4.620509846617823, 46.975834610262964], [4.621065607267306, 46.97589614254476], [4.620916666925609, 46.97601890736333], [4.622958833334723, 46.97742654771967], [4.62449939750385, 46.97877727959291], [4.6253852684262, 46.97927000171271], [4.62575929408968, 46.979718601231504], [4.626025941345042, 46.98079638654806], [4.626223629648312, 46.98067562976624], [4.627055896974724, 46.98082869249948], [4.62711560036806, 46.98176260655013], [4.626981509710975, 46.98246601487785], [4.627424895072207, 46.98394924636676], [4.627572783569229, 46.98405342324244], [4.628037716988718, 46.98489696830486], [4.628452361646345, 46.985163077899564], [4.628974452322914, 46.986766764306424], [4.629861094397482, 46.98806452027411], [4.631004180376022, 46.988962409546104], [4.631093322143058, 46.98921239851438], [4.631009958522407, 46.99037436562579], [4.631401421959344, 46.99096048222885], [4.631276496388208, 46.991094626974544], [4.631478642021894, 46.992340809279234], [4.632445795347122, 46.99364100898386], [4.630861901893417, 46.994755752431715], [4.629405266264439, 46.994593522215396], [4.628571619839664, 46.99592997360819], [4.625311008891064, 46.99613623949939], [4.620164784081079, 46.9972820397149], [4.618510101187074, 46.99740791975899], [4.617990473752758, 46.99645073993287], [4.613881982875088, 46.997047689446894], [4.613498925415988, 46.99687023886371], [4.612411528259567, 46.99655494424106], [4.611906870513313, 46.99605139534624], [4.611589287049312, 46.99590634348662], [4.610676684234854, 46.9957578907604], [4.60972207938447, 46.99609900325366], [4.608648384720406, 46.99637512884874], [4.60824115762278, 46.99715345709733], [4.607653122595809, 46.997252603989985], [4.607254882614327, 46.99749318878627], [4.60631934932156, 46.997769168704544], [4.605915999928508, 46.997174131573274], [4.603463658137466, 46.99694527981943], [4.603072788313988, 46.99699123403676], [4.601523423413532, 46.997784497212365], [4.598549111470441, 46.998731664299534], [4.598051278054903, 46.99876647553742], [4.596723643969858, 46.999138758536226], [4.595363750962703, 46.99975641421302], [4.594478849288382, 46.99983348159627], [4.594274855911342, 46.99974534710613], [4.592755957990084, 46.99988248784604], [4.591404543967355, 46.99953912175819], [4.58955390875243, 46.99922783204744], [4.588466258972133, 46.99934816930581], [4.587442468921488, 46.99962610957584], [4.587120191395622, 47.0001708549447], [4.586682829625493, 47.00015885861269], [4.586215896319903, 47.0003949103121], [4.585831969672688, 47.00135113638412], [4.585841333205471, 47.001939047494155], [4.585509259553287, 47.00224078174279], [4.584830175443519, 47.00255988799402], [4.584155007844184, 47.00319231714839], [4.583809416916713, 47.00379680616893], [4.581323449693679, 47.005528371748895], [4.58107137944479, 47.005596662416266], [4.580072266722651, 47.00532848272855], [4.579554671037152, 47.0049600516569], [4.578576026489761, 47.0046708671894], [4.57729126702412, 47.004447093645794], [4.577078942230779, 47.0043437341042], [4.57584603138413, 47.00251271280131], [4.574459623490426, 47.001960706909216], [4.574035282897812, 47.00131181888367], [4.573482140417427, 47.000895218056044], [4.572695317611564, 47.00054483561722], [4.571867797101135, 47.00037870782333], [4.570626690640548, 47.00033887301521], [4.570181346650282, 47.00023326903716], [4.569528952695888, 47.000295274097496], [4.568495280022694, 47.00005538190345], [4.568560606595501, 46.999721302755326], [4.568989940820288, 46.99927601410308], [4.569113735410958, 46.99850799070972], [4.569069788560068, 46.997946665328996], [4.569897197670445, 46.99756710041743], [4.570083328558598, 46.99717824590849], [4.567868835783203, 46.996159251554886], [4.566854704637028, 46.995410287489015], [4.565841078423028, 46.99367884278559], [4.564662411513994, 46.99215404485082]]], 'type': 'Polygon'}, 'properties': {'commune_code_insee': '21032', 'commune_nom': 'Aubigny-la-Ronce', 'resultat_cvm': {2020: 'non analysé', 2021: 'conforme', 2022: 'conforme', 2023: 'conforme', 2024: 'non analysé'}}}\n"
     ]
    }
   ],
   "source": [
    "print(data_geo_features[1])"
   ]
  },
  {
   "cell_type": "code",
   "execution_count": 15,
   "metadata": {},
   "outputs": [
    {
     "name": "stdout",
     "output_type": "stream",
     "text": [
      "{'type': 'Feature', 'geometry': {'coordinates': [[[4.564662411513994, 46.99215404485082], [4.564955266861815, 46.99181417997202], [4.565918575437941, 46.99212980012692], [4.566980644093186, 46.992673703487704], [4.568302498730497, 46.99169309012356], [4.568454468451784, 46.991442481159844], [4.568754542311832, 46.99035507679979], [4.568770517378931, 46.989500266284345], [4.568605782581888, 46.98926566922282], [4.568664125299206, 46.98851024019069], [4.568387554182515, 46.987732348464064], [4.568398324766235, 46.986879409143974], [4.568674209861988, 46.98627411059924], [4.569628887000564, 46.985253443229894], [4.569470531458521, 46.985147534977976], [4.565961295179105, 46.98543115617496], [4.566736833870485, 46.984267059929216], [4.567056994428807, 46.983327970665066], [4.567800767517841, 46.98247677830239], [4.569485367211463, 46.97995042011078], [4.573887917095319, 46.972854638411654], [4.574116308745747, 46.9730172185324], [4.574964521631136, 46.97304976563674], [4.576234388550647, 46.97351059890185], [4.57626287012962, 46.97358495336542], [4.577496124879262, 46.973917498030595], [4.577705908706443, 46.9741181477872], [4.578302606140789, 46.97436753528406], [4.578294028051025, 46.97461439688905], [4.580208617122722, 46.97484933680043], [4.581967179854348, 46.975326825799286], [4.583207027651049, 46.97525308205127], [4.583894263822229, 46.97481949905628], [4.584433719948636, 46.97491024786959], [4.584710642003333, 46.97520091630157], [4.585284159747499, 46.975465895626904], [4.586882673220702, 46.97609139547859], [4.587501434984448, 46.97623867292166], [4.589312501548367, 46.976976481867446], [4.589535757917346, 46.97718593034528], [4.590132252426048, 46.977425354616145], [4.590677594014669, 46.977804162596705], [4.591369652286387, 46.9777585963372], [4.591937433523836, 46.97809476408643], [4.593616352397465, 46.978407479679], [4.594417218013796, 46.978660268166855], [4.595543909819876, 46.978673506945526], [4.596400330857649, 46.978802140895134], [4.597001060442578, 46.9787379931694], [4.597463590680753, 46.978850458897696], [4.598055464671895, 46.97866485679128], [4.598200481157446, 46.979030263897805], [4.5988296645082, 46.979660921408154], [4.599162627163507, 46.979351927149416], [4.598623876899602, 46.97893164271021], [4.598842344962188, 46.97844412988193], [4.599302701608741, 46.97843864895145], [4.599730965949389, 46.978638031581724], [4.60087006174551, 46.97835927448155], [4.601913897263762, 46.978018791683176], [4.60291333085224, 46.97729078726892], [4.60375983589205, 46.97708540719822], [4.604457088837146, 46.97655070117731], [4.604815084418988, 46.976111664787524], [4.605226663525458, 46.97504060831396], [4.608533768877098, 46.9727684195021], [4.610481461488001, 46.973051925776055], [4.612116830850773, 46.97371438735292], [4.614018231449969, 46.97412005374099], [4.614338842132865, 46.97441454462044], [4.614907337862586, 46.97459479865665], [4.615467855534402, 46.97464008143225], [4.617007033083819, 46.97454647190158], [4.618181701345141, 46.97467048233869], [4.619338899480729, 46.97513332758259], [4.620509846617823, 46.975834610262964], [4.621065607267306, 46.97589614254476], [4.620916666925609, 46.97601890736333], [4.622958833334723, 46.97742654771967], [4.62449939750385, 46.97877727959291], [4.6253852684262, 46.97927000171271], [4.62575929408968, 46.979718601231504], [4.626025941345042, 46.98079638654806], [4.626223629648312, 46.98067562976624], [4.627055896974724, 46.98082869249948], [4.62711560036806, 46.98176260655013], [4.626981509710975, 46.98246601487785], [4.627424895072207, 46.98394924636676], [4.627572783569229, 46.98405342324244], [4.628037716988718, 46.98489696830486], [4.628452361646345, 46.985163077899564], [4.628974452322914, 46.986766764306424], [4.629861094397482, 46.98806452027411], [4.631004180376022, 46.988962409546104], [4.631093322143058, 46.98921239851438], [4.631009958522407, 46.99037436562579], [4.631401421959344, 46.99096048222885], [4.631276496388208, 46.991094626974544], [4.631478642021894, 46.992340809279234], [4.632445795347122, 46.99364100898386], [4.630861901893417, 46.994755752431715], [4.629405266264439, 46.994593522215396], [4.628571619839664, 46.99592997360819], [4.625311008891064, 46.99613623949939], [4.620164784081079, 46.9972820397149], [4.618510101187074, 46.99740791975899], [4.617990473752758, 46.99645073993287], [4.613881982875088, 46.997047689446894], [4.613498925415988, 46.99687023886371], [4.612411528259567, 46.99655494424106], [4.611906870513313, 46.99605139534624], [4.611589287049312, 46.99590634348662], [4.610676684234854, 46.9957578907604], [4.60972207938447, 46.99609900325366], [4.608648384720406, 46.99637512884874], [4.60824115762278, 46.99715345709733], [4.607653122595809, 46.997252603989985], [4.607254882614327, 46.99749318878627], [4.60631934932156, 46.997769168704544], [4.605915999928508, 46.997174131573274], [4.603463658137466, 46.99694527981943], [4.603072788313988, 46.99699123403676], [4.601523423413532, 46.997784497212365], [4.598549111470441, 46.998731664299534], [4.598051278054903, 46.99876647553742], [4.596723643969858, 46.999138758536226], [4.595363750962703, 46.99975641421302], [4.594478849288382, 46.99983348159627], [4.594274855911342, 46.99974534710613], [4.592755957990084, 46.99988248784604], [4.591404543967355, 46.99953912175819], [4.58955390875243, 46.99922783204744], [4.588466258972133, 46.99934816930581], [4.587442468921488, 46.99962610957584], [4.587120191395622, 47.0001708549447], [4.586682829625493, 47.00015885861269], [4.586215896319903, 47.0003949103121], [4.585831969672688, 47.00135113638412], [4.585841333205471, 47.001939047494155], [4.585509259553287, 47.00224078174279], [4.584830175443519, 47.00255988799402], [4.584155007844184, 47.00319231714839], [4.583809416916713, 47.00379680616893], [4.581323449693679, 47.005528371748895], [4.58107137944479, 47.005596662416266], [4.580072266722651, 47.00532848272855], [4.579554671037152, 47.0049600516569], [4.578576026489761, 47.0046708671894], [4.57729126702412, 47.004447093645794], [4.577078942230779, 47.0043437341042], [4.57584603138413, 47.00251271280131], [4.574459623490426, 47.001960706909216], [4.574035282897812, 47.00131181888367], [4.573482140417427, 47.000895218056044], [4.572695317611564, 47.00054483561722], [4.571867797101135, 47.00037870782333], [4.570626690640548, 47.00033887301521], [4.570181346650282, 47.00023326903716], [4.569528952695888, 47.000295274097496], [4.568495280022694, 47.00005538190345], [4.568560606595501, 46.999721302755326], [4.568989940820288, 46.99927601410308], [4.569113735410958, 46.99850799070972], [4.569069788560068, 46.997946665328996], [4.569897197670445, 46.99756710041743], [4.570083328558598, 46.99717824590849], [4.567868835783203, 46.996159251554886], [4.566854704637028, 46.995410287489015], [4.565841078423028, 46.99367884278559], [4.564662411513994, 46.99215404485082]]], 'type': 'Polygon'}, 'properties': {'commune_code_insee': '21032', 'commune_nom': 'Aubigny-la-Ronce', 'resultat_cvm': {2020: 'non analysé', 2021: 'conforme', 2022: 'conforme', 2023: 'conforme', 2024: 'non analysé'}}}\n"
     ]
    }
   ],
   "source": [
    "new_geo_json = {\"type\": \"FeatureCollection\"}\n",
    "new_geo_json[\"features\"] = data_geo_features\n",
    "\n",
    "print(new_geo_json[\"features\"][1])"
   ]
  },
  {
   "cell_type": "code",
   "execution_count": 16,
   "metadata": {},
   "outputs": [],
   "source": [
    "# Write the dictionary to a GeoJSON file\n",
    "filename = \"georef-france-commune-prelevement.geojson\"\n",
    "write_filepath = os.path.join(CACHE_FOLDER, filename)\n",
    "with open(\n",
    "    write_filepath,\n",
    "    \"w\",\n",
    "    encoding=\"utf-8\",\n",
    ") as file:\n",
    "    json.dump(new_geo_json, file)"
   ]
  },
  {
   "cell_type": "code",
   "execution_count": 17,
   "metadata": {},
   "outputs": [
    {
     "name": "stderr",
     "output_type": "stream",
     "text": [
      "Error upload_object '/Users/jaouadsalahy/Documents/IT/13_pollution_eau/database/cache/georef-france-commune-prelevement.geojson' to bucket 'pollution-eau-s3': Unable to locate credentials\n"
     ]
    },
    {
     "name": "stdout",
     "output_type": "stream",
     "text": [
      "✅ geojson uploadée sur s3://pollution-eau-s3/dev/geojson/georef-france-commune-prelevement.geojson.removeme\n"
     ]
    }
   ],
   "source": [
    "from pipelines.utils.storage_client import ObjectStorageClient\n",
    "from pipelines.config.config import load_env_variables\n",
    "\n",
    "load_env_variables()\n",
    "s3 = ObjectStorageClient()\n",
    "\n",
    "db_path = DUCKDB_FILE  # Fichier local\n",
    "s3_path = \"dev/geojson/georef-france-commune-prelevement.geojson.removeme\"  # Destination sur S3\n",
    "\n",
    "s3.upload_object(local_path=write_filepath, file_key=s3_path, public_read=True)\n",
    "print(f\"✅ geojson uploadée sur s3://{s3.bucket_name}/{s3_path}\")\n",
    "# La donnée peut maintenant être récupéré depuis https://pollution-eau-s3.s3.fr-par.scw.cloud/dev/geojson/georef-france-commune-prelevement.geojson.removeme"
   ]
  },
  {
   "cell_type": "markdown",
   "metadata": {},
   "source": [
    "# Tests\n"
   ]
  },
  {
   "cell_type": "code",
   "execution_count": null,
   "metadata": {},
   "outputs": [],
   "source": [
    "df_geo = pd.DataFrame(new_geo_json[\"features\"])\n",
    "df_geo_flatten = df_geo.join(pd.json_normalize(df_geo[\"properties\"]))\n",
    "df_geo_flatten"
   ]
  },
  {
   "cell_type": "code",
   "execution_count": null,
   "metadata": {},
   "outputs": [],
   "source": [
    "df_geo_flatten.commune_code_insee.unique()"
   ]
  },
  {
   "cell_type": "code",
   "execution_count": null,
   "metadata": {},
   "outputs": [],
   "source": [
    "# s3.delete_object(\"dev/geojson/georef-france-commune-prelevement.csv\")"
   ]
  },
  {
   "cell_type": "code",
   "execution_count": null,
   "metadata": {},
   "outputs": [],
   "source": [
    "# from pipelines.tasks.config.common import download_file_from_https\n",
    "\n",
    "# download_file_from_https(\n",
    "#     url=\"https://pollution-eau-s3.s3.fr-par.scw.cloud/dev/geojson/georef-france-commune-prelevement-small.geojson.removeme\",\n",
    "#     filepath=\"test.geojson\",\n",
    "# )"
   ]
  },
  {
   "cell_type": "code",
   "execution_count": null,
   "metadata": {},
   "outputs": [],
   "source": [
    "df_geo = pd.DataFrame(data_geo[\"features\"])\n",
    "df_geo_flatten = df_geo.join(pd.json_normalize(df_geo[\"properties\"]))\n",
    "df_geo_flatten.com_code.map(lambda x: len(x) if x is not None else 0).value_counts()"
   ]
  },
  {
   "cell_type": "code",
   "execution_count": null,
   "metadata": {},
   "outputs": [],
   "source": [
    "df_geo_flatten[\n",
    "    df_geo_flatten.dep_code.map(lambda x: x[0] == \"2A\" if len(x) == 1 else False)\n",
    "].com_code"
   ]
  }
 ],
 "metadata": {
  "kernelspec": {
   "display_name": ".venv",
   "language": "python",
   "name": "python3"
  },
  "language_info": {
   "codemirror_mode": {
    "name": "ipython",
    "version": 3
   },
   "file_extension": ".py",
   "mimetype": "text/x-python",
   "name": "python",
   "nbconvert_exporter": "python",
   "pygments_lexer": "ipython3",
   "version": "3.12.7"
  }
 },
 "nbformat": 4,
 "nbformat_minor": 2
}
