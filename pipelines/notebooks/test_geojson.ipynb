{
 "cells": [
  {
   "cell_type": "code",
   "execution_count": null,
   "metadata": {},
   "outputs": [],
   "source": [
    "import duckdb\n",
    "from pipelines.tasks.config.common import DUCKDB_FILE\n",
    "from pipelines.tasks.client.https_client import HTTPSClient\n",
    "from pipelines.tasks.config.common import CACHE_FOLDER\n",
    "import json\n",
    "import os\n",
    "import pandas as pd\n",
    "from tqdm import tqdm"
   ]
  },
  {
   "cell_type": "code",
   "execution_count": null,
   "metadata": {},
   "outputs": [],
   "source": [
    "https_client = HTTPSClient(\n",
    "    \"https://public.opendatasoft.com/api/explore/v2.1/catalog/datasets/\"\n",
    ")"
   ]
  },
  {
   "cell_type": "code",
   "execution_count": null,
   "metadata": {},
   "outputs": [],
   "source": [
    "path = \"georef-france-commune/exports/geojson?lang=fr&timezone=Africa%2FLagos\"\n",
    "filepath = os.path.join(CACHE_FOLDER, \"georef-france-commune.geojson\")\n",
    "https_client.download_file_from_https(path, filepath)"
   ]
  },
  {
   "cell_type": "code",
   "execution_count": null,
   "metadata": {},
   "outputs": [],
   "source": [
    "con = duckdb.connect(database=DUCKDB_FILE, read_only=True)"
   ]
  },
  {
   "cell_type": "code",
   "execution_count": null,
   "metadata": {},
   "outputs": [],
   "source": [
    "query_2024 = \"\"\"\n",
    "select * from ana__resultats_communes\n",
    "\"\"\"\n",
    "\n",
    "prelevements_2024 = con.sql(query_2024)\n",
    "prelevements_2024_df = prelevements_2024.df()\n",
    "prelevements_2024_df.head(2)"
   ]
  },
  {
   "cell_type": "code",
   "execution_count": null,
   "metadata": {},
   "outputs": [],
   "source": [
    "with open(\n",
    "    os.path.join(CACHE_FOLDER, \"georef-france-commune.geojson\"), \"r\", encoding=\"utf-8\"\n",
    ") as file:\n",
    "    data_geo = json.load(file)"
   ]
  },
  {
   "cell_type": "code",
   "execution_count": null,
   "metadata": {},
   "outputs": [],
   "source": [
    "data_geo_features = data_geo[\"features\"][0:1000]\n",
    "for i in tqdm(range(len(data_geo_features))):\n",
    "    elem = data_geo_features[i]\n",
    "    code_insee = elem[\"properties\"][\"bv2022_code\"]\n",
    "    if code_insee is not None:\n",
    "        code_insee = code_insee[0]\n",
    "        prelevement = prelevements_2024_df[\n",
    "            (prelevements_2024_df.commune_code_insee == code_insee)\n",
    "            & (prelevements_2024_df.annee == 2024)\n",
    "        ]\n",
    "        if len(prelevement) == 1:\n",
    "            for column in prelevement:\n",
    "                elem[column] = str(prelevement[column].iloc[0])"
   ]
  },
  {
   "cell_type": "code",
   "execution_count": null,
   "metadata": {},
   "outputs": [],
   "source": [
    "new_geo_json = {\"type\": \"FeatureCollection\"}\n",
    "new_geo_json[\"features\"] = data_geo_features"
   ]
  },
  {
   "cell_type": "code",
   "execution_count": null,
   "metadata": {},
   "outputs": [],
   "source": [
    "# Write the dictionary to a GeoJSON file\n",
    "with open(\n",
    "    os.path.join(CACHE_FOLDER, \"georef-france-commune-prelevement.geojson\"),\n",
    "    \"w\",\n",
    "    encoding=\"utf-8\",\n",
    ") as file:\n",
    "    json.dump(new_geo_json, file, indent=4)"
   ]
  },
  {
   "cell_type": "markdown",
   "metadata": {},
   "source": []
  },
  {
   "cell_type": "markdown",
   "metadata": {},
   "source": [
    "# Tests\n"
   ]
  },
  {
   "cell_type": "code",
   "execution_count": null,
   "metadata": {},
   "outputs": [],
   "source": [
    "df_geo = pd.DataFrame(data_geo[\"features\"])\n",
    "df_geo_flatten = df_geo.join(pd.json_normalize(df_geo[\"properties\"]))\n",
    "df_geo_flatten.bv2022_code.map(lambda x: len(x) if x is not None else 0).value_counts()"
   ]
  },
  {
   "cell_type": "markdown",
   "metadata": {},
   "source": [
    "df_geo = pd.DataFrame(data_geo[\"features\"])\n",
    "df_geo_flatten = df_geo.join(pd.json_normalize(df_geo[\"properties\"]))\n",
    "df_geo_flatten.bv2022_code.map(lambda x: len(x) if x is not None else 0).value_counts()\n"
   ]
  }
 ],
 "metadata": {
  "kernelspec": {
   "display_name": ".venv",
   "language": "python",
   "name": "python3"
  },
  "language_info": {
   "codemirror_mode": {
    "name": "ipython",
    "version": 3
   },
   "file_extension": ".py",
   "mimetype": "text/x-python",
   "name": "python",
   "nbconvert_exporter": "python",
   "pygments_lexer": "ipython3",
   "version": "3.12.7"
  }
 },
 "nbformat": 4,
 "nbformat_minor": 2
}
