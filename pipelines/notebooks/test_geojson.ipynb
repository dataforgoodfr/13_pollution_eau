{
 "cells": [
  {
   "cell_type": "code",
   "execution_count": null,
   "metadata": {},
   "outputs": [],
   "source": [
    "import duckdb\n",
    "from pipelines.tasks.config.common import DUCKDB_FILE\n",
    "from pipelines.tasks.client.https_client import HTTPSClient\n",
    "from pipelines.tasks.config.common import CACHE_FOLDER\n",
    "import json\n",
    "import os\n",
    "from tqdm import tqdm\n",
    "import pandas as pd"
   ]
  },
  {
   "cell_type": "code",
   "execution_count": null,
   "metadata": {},
   "outputs": [],
   "source": [
    "# la donnée geo est telechargé depuis https://public.opendatasoft.com/explore/dataset/georef-france-commune/information\n",
    "https_client = HTTPSClient(\n",
    "    \"https://public.opendatasoft.com/api/explore/v2.1/catalog/datasets/\"\n",
    ")"
   ]
  },
  {
   "cell_type": "code",
   "execution_count": null,
   "metadata": {},
   "outputs": [],
   "source": [
    "path = \"georef-france-commune/exports/geojson?lang=fr&timezone=Africa%2FLagos\"\n",
    "filepath = os.path.join(CACHE_FOLDER, \"georef-france-commune.geojson\")\n",
    "https_client.download_file_from_https(path, filepath)"
   ]
  },
  {
   "cell_type": "code",
   "execution_count": null,
   "metadata": {},
   "outputs": [],
   "source": [
    "con = duckdb.connect(database=DUCKDB_FILE, read_only=True)"
   ]
  },
  {
   "cell_type": "code",
   "execution_count": null,
   "metadata": {},
   "outputs": [],
   "source": [
    "query_2024 = \"\"\"\n",
    "select * from ana__resultats_communes\n",
    "\"\"\"\n",
    "\n",
    "prelevements_2024 = con.sql(query_2024)\n",
    "prelevements_2024_df = prelevements_2024.df()\n",
    "prelevements_2024_df.head(2)"
   ]
  },
  {
   "cell_type": "code",
   "execution_count": null,
   "metadata": {},
   "outputs": [],
   "source": [
    "with open(os.path.join(CACHE_FOLDER, \"georef-france-commune.geojson\"), \"r\") as file:\n",
    "    data_geo = json.load(file)"
   ]
  },
  {
   "cell_type": "code",
   "execution_count": null,
   "metadata": {},
   "outputs": [],
   "source": [
    "# Si la solution est validée, il faudra optimiser ce code qui est bien trop lent\n",
    "data_geo_features = data_geo[\"features\"]\n",
    "default_properties = {\"annee\": \"2024\", \"resultat_cvm\": \"None\"}\n",
    "for i in tqdm(range(len(data_geo_features))):\n",
    "    elem = data_geo_features[i]\n",
    "    code_insee = elem[\"properties\"][\"com_code\"]\n",
    "    name_insee = elem[\"properties\"][\"com_name\"]\n",
    "    if code_insee is not None:\n",
    "        code_insee = code_insee[0]\n",
    "        name_insee = name_insee[0]\n",
    "        prelevement = prelevements_2024_df[\n",
    "            (prelevements_2024_df.commune_code_insee == code_insee)\n",
    "        ]\n",
    "        if len(prelevement) >= 0:\n",
    "            properties = {}\n",
    "            properties[\"commune_code_insee\"] = code_insee\n",
    "            properties[\"commune_nom\"] = name_insee\n",
    "            properties[\"resultat_cvm\"] = {}\n",
    "            for index, row in prelevement.iterrows():\n",
    "                properties[\"resultat_cvm\"][row[\"annee\"]] = row[\"resultat_cvm\"]\n",
    "            elem[\"properties\"] = properties\n",
    "        else:\n",
    "            # print(\"elem not found\")\n",
    "            elem[\"properties\"] = default_properties\n",
    "            elem[\"properties\"][\"commune_code_insee\"] = code_insee\n",
    "            elem[\"properties\"][\"commune_nom\"] = name_insee"
   ]
  },
  {
   "cell_type": "code",
   "execution_count": null,
   "metadata": {},
   "outputs": [],
   "source": [
    "new_geo_json = {\"type\": \"FeatureCollection\"}\n",
    "new_geo_json[\"features\"] = data_geo_features"
   ]
  },
  {
   "cell_type": "code",
   "execution_count": null,
   "metadata": {},
   "outputs": [],
   "source": [
    "# Write the dictionary to a GeoJSON file\n",
    "filename = \"georef-france-commune-prelevement.geojson\"\n",
    "write_filepath = os.path.join(CACHE_FOLDER, filename)\n",
    "with open(\n",
    "    write_filepath,\n",
    "    \"w\",\n",
    "    encoding=\"utf-8\",\n",
    ") as file:\n",
    "    json.dump(new_geo_json, file)"
   ]
  },
  {
   "cell_type": "code",
   "execution_count": null,
   "metadata": {},
   "outputs": [],
   "source": [
    "from pipelines.utils.storage_client import ObjectStorageClient\n",
    "from pipelines.config.config import load_env_variables\n",
    "\n",
    "load_env_variables()\n",
    "s3 = ObjectStorageClient()\n",
    "\n",
    "db_path = DUCKDB_FILE  # Fichier local\n",
    "s3_path = \"dev/geojson/georef-france-commune-prelevement.geojson.removeme\"  # Destination sur S3\n",
    "\n",
    "s3.upload_object(local_path=write_filepath, file_key=s3_path, public_read=True)\n",
    "print(f\"✅ geojson uploadée sur s3://{s3.bucket_name}/{s3_path}\")\n",
    "# La donnée peut maintenant être récupéré depuis https://pollution-eau-s3.s3.fr-par.scw.cloud/dev/geojson/georef-france-commune-prelevement.geojson.removeme"
   ]
  },
  {
   "cell_type": "markdown",
   "metadata": {},
   "source": [
    "# Tests\n"
   ]
  },
  {
   "cell_type": "code",
   "execution_count": null,
   "metadata": {},
   "outputs": [],
   "source": [
    "df_geo = pd.DataFrame(new_geo_json[\"features\"])\n",
    "df_geo_flatten = df_geo.join(pd.json_normalize(df_geo[\"properties\"]))\n",
    "df_geo_flatten"
   ]
  },
  {
   "cell_type": "code",
   "execution_count": null,
   "metadata": {},
   "outputs": [],
   "source": [
    "df_geo_flatten.commune_code_insee.unique()"
   ]
  },
  {
   "cell_type": "code",
   "execution_count": null,
   "metadata": {},
   "outputs": [],
   "source": [
    "len(df_geo_flatten[df_geo_flatten[\"resultat_cvm.2024\"].isna()])"
   ]
  },
  {
   "cell_type": "code",
   "execution_count": null,
   "metadata": {},
   "outputs": [],
   "source": [
    "# s3.delete_object(\"dev/geojson/georef-france-commune-prelevement.csv\")"
   ]
  },
  {
   "cell_type": "code",
   "execution_count": null,
   "metadata": {},
   "outputs": [],
   "source": [
    "# from pipelines.tasks.config.common import download_file_from_https\n",
    "\n",
    "# download_file_from_https(\n",
    "#     url=\"https://pollution-eau-s3.s3.fr-par.scw.cloud/dev/geojson/georef-france-commune-prelevement-small.geojson.removeme\",\n",
    "#     filepath=\"test.geojson\",\n",
    "# )"
   ]
  },
  {
   "cell_type": "code",
   "execution_count": null,
   "metadata": {},
   "outputs": [],
   "source": [
    "df_geo = pd.DataFrame(data_geo[\"features\"])\n",
    "df_geo_flatten = df_geo.join(pd.json_normalize(df_geo[\"properties\"]))\n",
    "df_geo_flatten.com_code.map(lambda x: len(x) if x is not None else 0).value_counts()"
   ]
  },
  {
   "cell_type": "code",
   "execution_count": null,
   "metadata": {},
   "outputs": [],
   "source": []
  },
  {
   "cell_type": "code",
   "execution_count": null,
   "metadata": {},
   "outputs": [],
   "source": []
  }
 ],
 "metadata": {
  "kernelspec": {
   "display_name": ".venv",
   "language": "python",
   "name": "python3"
  },
  "language_info": {
   "codemirror_mode": {
    "name": "ipython",
    "version": 3
   },
   "file_extension": ".py",
   "mimetype": "text/x-python",
   "name": "python",
   "nbconvert_exporter": "python",
   "pygments_lexer": "ipython3",
   "version": "3.12.7"
  }
 },
 "nbformat": 4,
 "nbformat_minor": 2
}
