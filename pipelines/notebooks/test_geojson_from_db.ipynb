{
 "cells": [
  {
   "cell_type": "code",
   "execution_count": 2,
   "metadata": {},
   "outputs": [],
   "source": [
    "from pipelines.tasks.client.geojson_processor import GeoJSONProcessor\n",
    "\n",
    "geojson_processor = GeoJSONProcessor(\"communes\")\n",
    "geojson_communes = geojson_processor.generate_geojson()"
   ]
  },
  {
   "cell_type": "code",
   "execution_count": null,
   "metadata": {},
   "outputs": [],
   "source": [
    "from pipelines.tasks.client.geojson_processor import GeoJSONProcessor\n",
    "\n",
    "geojson_processor = GeoJSONProcessor(\"udi\")\n",
    "geojson_udi = geojson_processor.generate_geojson()"
   ]
  },
  {
   "cell_type": "code",
   "execution_count": null,
   "metadata": {},
   "outputs": [],
   "source": [
    "geojson_udi"
   ]
  }
 ],
 "metadata": {
  "kernelspec": {
   "display_name": ".venv",
   "language": "python",
   "name": "python3"
  },
  "language_info": {
   "codemirror_mode": {
    "name": "ipython",
    "version": 3
   },
   "file_extension": ".py",
   "mimetype": "text/x-python",
   "name": "python",
   "nbconvert_exporter": "python",
   "pygments_lexer": "ipython3",
   "version": "3.12.7"
  }
 },
 "nbformat": 4,
 "nbformat_minor": 2
}
