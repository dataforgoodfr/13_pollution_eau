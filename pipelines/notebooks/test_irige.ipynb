{
 "cells": [
  {
   "cell_type": "code",
   "execution_count": 8,
   "metadata": {},
   "outputs": [],
   "source": [
    "import duckdb\n",
    "from pipelines.tasks.config.common import DUCKDB_FILE\n",
    "\n",
    "\n",
    "con = duckdb.connect(database=DUCKDB_FILE, read_only=True)\n",
    "tables = con.execute(\"SHOW TABLES\").fetchall()\n",
    "\n",
    "# for table in tables:\n",
    "#     print(tables)"
   ]
  },
  {
   "cell_type": "code",
   "execution_count": null,
   "metadata": {},
   "outputs": [
    {
     "name": "stdout",
     "output_type": "stream",
     "text": [
      "                         ID INSEE_COM                      NOM_COM  IRIS  \\\n",
      "0  IRIS____0000000670430101     67043                    Bischheim  0101   \n",
      "1  IRIS____0000000132020101     13202  Marseille 2e Arrondissement  0101   \n",
      "2  IRIS____0000000561850101     56185                       Quéven  0101   \n",
      "3  IRIS____0000000930630101     93063                  Romainville  0101   \n",
      "4  IRIS____0000000940480101     94048             Marolles-en-Brie  0101   \n",
      "\n",
      "   CODE_IRIS            NOM_IRIS TYP_IRIS  \\\n",
      "0  670430101              Annexe        A   \n",
      "1  132020101               Arenc        A   \n",
      "2  561850101  B.A.N. Lann Bihoué        A   \n",
      "3  930630101            Bas Pays        A   \n",
      "4  940480101  Bois de Notre-Dame        A   \n",
      "\n",
      "                                                GEOM  \n",
      "0  POLYGON ((1050772.9 6847169.1, 1050902.2 68472...  \n",
      "1  MULTIPOLYGON (((889986 6251412.3, 890200.1 625...  \n",
      "2  POLYGON ((216571.6 6760628.4, 216572.7 6760636...  \n",
      "3  POLYGON ((657944.3 6865938.3, 657957.7 6866026...  \n",
      "4  POLYGON ((666452.1 6849977.7, 666590.8 6850199...  \n"
     ]
    }
   ],
   "source": [
    "from pipelines.tasks.config.config_irisge import get_irisge_config\n",
    "\n",
    "irisge_conf = get_irisge_config()\n",
    "query = f\"SELECT * FROM {irisge_conf['file']['table_name']}\"\n",
    "iris_ge = con.execute(query)\n",
    "print(iris_ge.dtype)\n",
    "\n",
    "top5 = iris_ge.df().head(5)\n",
    "print(top5)\n",
    "con.close()\n"
   ]
  }
 ],
 "metadata": {
  "kernelspec": {
   "display_name": ".venv",
   "language": "python",
   "name": "python3"
  },
  "language_info": {
   "codemirror_mode": {
    "name": "ipython",
    "version": 3
   },
   "file_extension": ".py",
   "mimetype": "text/x-python",
   "name": "python",
   "nbconvert_exporter": "python",
   "pygments_lexer": "ipython3",
   "version": "3.12.8"
  }
 },
 "nbformat": 4,
 "nbformat_minor": 2
}
