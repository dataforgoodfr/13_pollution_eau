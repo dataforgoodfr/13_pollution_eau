{
 "cells": [
  {
   "cell_type": "code",
   "execution_count": 22,
   "metadata": {},
   "outputs": [
    {
     "name": "stdout",
     "output_type": "stream",
     "text": [
      "[('cog_communes',), ('irig_ge',)]\n",
      "[('cog_communes',), ('irig_ge',)]\n"
     ]
    }
   ],
   "source": [
    "import duckdb\n",
    "from pipelines.tasks.config.common import DUCKDB_FILE\n",
    "from pipelines.tasks.config.config_irisge import get_irisge_config\n",
    "\n",
    "irisge_conf = get_irisge_config()\n",
    "\n",
    "con = duckdb.connect(database=DUCKDB_FILE, read_only=True)\n",
    "tables = con.execute(\"SHOW TABLES\").fetchall()\n",
    "# show all tables in db\n",
    "for table in tables:\n",
    "    print(tables)\n"
   ]
  },
  {
   "cell_type": "code",
   "execution_count": null,
   "metadata": {},
   "outputs": [
    {
     "name": "stdout",
     "output_type": "stream",
     "text": [
      "('ID', 'VARCHAR', 'YES', None, None, None)\n",
      "('INSEE_COM', 'VARCHAR', 'YES', None, None, None)\n",
      "('NOM_COM', 'VARCHAR', 'YES', None, None, None)\n",
      "('IRIS', 'VARCHAR', 'YES', None, None, None)\n",
      "('CODE_IRIS', 'VARCHAR', 'YES', None, None, None)\n",
      "('NOM_IRIS', 'VARCHAR', 'YES', None, None, None)\n",
      "('TYP_IRIS', 'VARCHAR', 'YES', None, None, None)\n",
      "('GEOM', 'VARCHAR', 'YES', None, None, None)\n"
     ]
    }
   ],
   "source": [
    "# show irisge table colummes info\n",
    "query = f\"DESCRIBE {irisge_conf['file']['table_name']}\"\n",
    "column_info = con.execute(query).fetchall()\n",
    "\n",
    "for col in column_info:\n",
    "    print(col)"
   ]
  },
  {
   "cell_type": "code",
   "execution_count": null,
   "metadata": {},
   "outputs": [
    {
     "name": "stdout",
     "output_type": "stream",
     "text": [
      "  INSEE_COM                                               GEOM\n",
      "0     67043  POLYGON ((1050772.9 6847169.1, 1050902.2 68472...\n",
      "1     13202  MULTIPOLYGON (((889986 6251412.3, 890200.1 625...\n",
      "2     56185  POLYGON ((216571.6 6760628.4, 216572.7 6760636...\n",
      "3     93063  POLYGON ((657944.3 6865938.3, 657957.7 6866026...\n",
      "4     94048  POLYGON ((666452.1 6849977.7, 666590.8 6850199...\n"
     ]
    }
   ],
   "source": [
    "query = f\"SELECT INSEE_COM, GEOM FROM {irisge_conf['file']['table_name']}\"\n",
    "iris_ge = con.execute(query)\n",
    "\n",
    "top5 = iris_ge.df().head(5)\n",
    "print(top5)\n",
    "# con.close()\n"
   ]
  }
 ],
 "metadata": {
  "kernelspec": {
   "display_name": ".venv",
   "language": "python",
   "name": "python3"
  },
  "language_info": {
   "codemirror_mode": {
    "name": "ipython",
    "version": 3
   },
   "file_extension": ".py",
   "mimetype": "text/x-python",
   "name": "python",
   "nbconvert_exporter": "python",
   "pygments_lexer": "ipython3",
   "version": "3.12.8"
  }
 },
 "nbformat": 4,
 "nbformat_minor": 2
}
