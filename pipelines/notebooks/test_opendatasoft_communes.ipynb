{
 "cells": [
  {
   "cell_type": "code",
   "execution_count": 1,
   "metadata": {},
   "outputs": [
    {
     "name": "stdout",
     "output_type": "stream",
     "text": [
      "┌──────────────────────────────────┐\n",
      "│               name               │\n",
      "│             varchar              │\n",
      "├──────────────────────────────────┤\n",
      "│ ana__resultats_communes          │\n",
      "│ atlasante_udi                    │\n",
      "│ cog_communes                     │\n",
      "│ edc_communes                     │\n",
      "│ edc_prelevements                 │\n",
      "│ edc_resultats                    │\n",
      "│ int__lien_cdreseau_refreneceprel │\n",
      "│ int__lien_commune_cdreseau       │\n",
      "│ int__mapping_category_simple     │\n",
      "│ int__prelevements_uniques        │\n",
      "│ int__resultats_udi_communes      │\n",
      "│ laposte_communes                 │\n",
      "│ mapping_categories               │\n",
      "│ opendatasoft_communes            │\n",
      "│ stg_communes__cog                │\n",
      "│ stg_communes__laposte            │\n",
      "│ stg_edc__communes                │\n",
      "│ stg_edc__prevelevements          │\n",
      "│ stg_edc__resultats               │\n",
      "│ stg_udi                          │\n",
      "├──────────────────────────────────┤\n",
      "│             20 rows              │\n",
      "└──────────────────────────────────┘\n",
      "\n"
     ]
    }
   ],
   "source": [
    "import duckdb\n",
    "from pipelines.tasks.config.common import DUCKDB_FILE\n",
    "\n",
    "con = duckdb.connect(database=DUCKDB_FILE, read_only=True)\n",
    "# show all tables in DB\n",
    "con.sql(\"SHOW TABLES;\").show()"
   ]
  },
  {
   "cell_type": "code",
   "execution_count": 2,
   "metadata": {},
   "outputs": [
    {
     "name": "stdout",
     "output_type": "stream",
     "text": [
      "             column_name               column_type null   key default extra\n",
      "0           geo_point_2d                   VARCHAR  YES  None    None  None\n",
      "1                   year                   VARCHAR  YES  None    None  None\n",
      "2               reg_code                 VARCHAR[]  YES  None    None  None\n",
      "3               reg_name                 VARCHAR[]  YES  None    None  None\n",
      "4               dep_code                 VARCHAR[]  YES  None    None  None\n",
      "5               dep_name                 VARCHAR[]  YES  None    None  None\n",
      "6            arrdep_code                 VARCHAR[]  YES  None    None  None\n",
      "7            arrdep_name                 VARCHAR[]  YES  None    None  None\n",
      "8            ze2020_code                 VARCHAR[]  YES  None    None  None\n",
      "9            ze2020_name                 VARCHAR[]  YES  None    None  None\n",
      "10           bv2022_code                 VARCHAR[]  YES  None    None  None\n",
      "11           bv2022_name                 VARCHAR[]  YES  None    None  None\n",
      "12             epci_code                 VARCHAR[]  YES  None    None  None\n",
      "13             epci_name                 VARCHAR[]  YES  None    None  None\n",
      "14              ept_code                 VARCHAR[]  YES  None    None  None\n",
      "15              ept_name                 VARCHAR[]  YES  None    None  None\n",
      "16              com_code                 VARCHAR[]  YES  None    None  None\n",
      "17      com_current_code                 VARCHAR[]  YES  None    None  None\n",
      "18              com_name                 VARCHAR[]  YES  None    None  None\n",
      "19        com_name_upper                   VARCHAR  YES  None    None  None\n",
      "20        com_name_lower                   VARCHAR  YES  None    None  None\n",
      "21         com_area_code                   VARCHAR  YES  None    None  None\n",
      "22              com_type                   VARCHAR  YES  None    None  None\n",
      "23           ze2010_name                   VARCHAR  YES  None    None  None\n",
      "24           ze2010_code                   VARCHAR  YES  None    None  None\n",
      "25   com_cataeu2010_code                   VARCHAR  YES  None    None  None\n",
      "26   com_cataeu2010_name                   VARCHAR  YES  None    None  None\n",
      "27       com_uu2010_code                   VARCHAR  YES  None    None  None\n",
      "28     com_uu2010_status                   VARCHAR  YES  None    None  None\n",
      "29       com_au2010_code                   VARCHAR  YES  None    None  None\n",
      "30  com_cateaav2020_code                   VARCHAR  YES  None    None  None\n",
      "31  com_cateaav2020_name                   VARCHAR  YES  None    None  None\n",
      "32       com_uu2020_code                   VARCHAR  YES  None    None  None\n",
      "33     com_uu2020_status                   VARCHAR  YES  None    None  None\n",
      "34      com_aav2020_code                   VARCHAR  YES  None    None  None\n",
      "35           com_cv_code                   VARCHAR  YES  None    None  None\n",
      "36            com_in_ctu                   VARCHAR  YES  None    None  None\n",
      "37        com_siren_code                   VARCHAR  YES  None    None  None\n",
      "38  com_is_mountain_area                   VARCHAR  YES  None    None  None\n",
      "39                  geom                  GEOMETRY  YES  None    None  None\n",
      "40        ingestion_date  TIMESTAMP WITH TIME ZONE  YES  None    None  None\n"
     ]
    }
   ],
   "source": [
    "# describe atlasante_udi table\n",
    "df = con.sql(\"DESCRIBE opendatasoft_communes;\").df()\n",
    "print(df)"
   ]
  },
  {
   "cell_type": "code",
   "execution_count": null,
   "metadata": {},
   "outputs": [],
   "source": [
    "# install spatial extention for spactial functions\n",
    "con.sql(\"INSTALL spatial;\")\n",
    "# Load spatial extension\n",
    "con.sql(\"LOAD spatial;\")"
   ]
  },
  {
   "cell_type": "code",
   "execution_count": null,
   "metadata": {},
   "outputs": [],
   "source": [
    "# show same paris's UDI\n",
    "df = con.sql(\"Select * from atlasante_udi where uge_nom like '%EAU DE PARIS%'\").df()\n",
    "df.head()"
   ]
  },
  {
   "cell_type": "code",
   "execution_count": null,
   "metadata": {},
   "outputs": [],
   "source": [
    "# Paris North (Nord - near Saint-Denis):\n",
    "# latitudeN = 48.9358\n",
    "# longitudeN = 2.3538\n",
    "# Paris South\n",
    "# latitudeS = 48.8186\n",
    "# longitudeS = 2.3326\n",
    "# Paris West (Ouest - near Porte Maillot/Neuilly):\n",
    "# latitudeW = 48.8781\n",
    "# longitudeW = 2.2785\n",
    "# Central Paris (Centre - Notre-Dame):\n",
    "latitude = 48.8566\n",
    "longitude = 2.3522\n",
    "\n",
    "sql = f\"\"\"\n",
    "SELECT *\n",
    "FROM atlasante_udi\n",
    "WHERE ST_Contains(geom, ST_GeomFromText('POINT({longitude} {latitude})'));\n",
    "\"\"\"\n",
    "df = con.sql(sql).df()\n",
    "df.head()"
   ]
  },
  {
   "cell_type": "code",
   "execution_count": null,
   "metadata": {},
   "outputs": [],
   "source": [
    "con.close()"
   ]
  },
  {
   "cell_type": "code",
   "execution_count": null,
   "metadata": {},
   "outputs": [],
   "source": []
  }
 ],
 "metadata": {
  "kernelspec": {
   "display_name": ".venv",
   "language": "python",
   "name": "python3"
  },
  "language_info": {
   "codemirror_mode": {
    "name": "ipython",
    "version": 3
   },
   "file_extension": ".py",
   "mimetype": "text/x-python",
   "name": "python",
   "nbconvert_exporter": "python",
   "pygments_lexer": "ipython3",
   "version": "3.12.7"
  }
 },
 "nbformat": 4,
 "nbformat_minor": 2
}
